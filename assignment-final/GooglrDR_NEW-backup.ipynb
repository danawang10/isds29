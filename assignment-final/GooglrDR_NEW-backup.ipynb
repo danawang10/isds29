{
 "cells": [
  {
   "cell_type": "code",
   "execution_count": 42,
   "id": "7f810646",
   "metadata": {},
   "outputs": [],
   "source": [
    "import requests\n",
    "from bs4 import BeautifulSoup\n",
    "import time\n",
    "import pandas as pd\n",
    "import numpy as np\n",
    "import tqdm\n",
    "\n",
    "# Import selenium\n",
    "from selenium import webdriver\n",
    "from selenium.webdriver.chrome.service import Service\n",
    "from selenium.webdriver.common.by import By\n",
    "from selenium.webdriver.common.keys import Keys"
   ]
  },
  {
   "cell_type": "markdown",
   "id": "b923bca8",
   "metadata": {},
   "source": [
    "## Generate search terms\n",
    "\n",
    "Search terms follow the following format: We search for the month and year in the format DR articles inclue a timestap. Manual Google searches proved to provide relevant research results mostly limited to the month provided. In this way we create a list of links to DR articles. All articles are located on the site https://www.dr.dk/nyheder or a subsite. This can be included in the google search. An example of a search is: jan. 2012\" AND \"sygeplejersker*\" site:https://www.dr.dk/nyheder."
   ]
  },
  {
   "cell_type": "code",
   "execution_count": 49,
   "id": "93b44a81",
   "metadata": {},
   "outputs": [],
   "source": [
    "# Generate empty list with search terms\n",
    "search_terms = []\n",
    "# Generate combinations of year-month and term search combinations\n",
    "for year in range(2012, 2023):\n",
    "    months = ['jan.', 'feb.', 'mar.', 'apr.', 'maj', 'jun.', 'jul.', 'aug.', 'sept.', 'okt.', 'nov.', 'dec.']\n",
    "    for month in months:\n",
    "        term = f'\"{month} {year}\" AND \"sygeplejersker*\" site:https://www.dr.dk/nyheder/ \\n'\n",
    "        search_terms.append(term)\n",
    "# Create final list of search terms, future month-year combinations deleted\n",
    "search_terms = search_terms[:-4]"
   ]
  },
  {
   "cell_type": "markdown",
   "id": "305a7add",
   "metadata": {},
   "source": [
    "We create a total of 128 search terms, for all month-year combinations between January 2012 and August 2022."
   ]
  },
  {
   "cell_type": "code",
   "execution_count": 23,
   "id": "4996f446",
   "metadata": {
    "scrolled": true
   },
   "outputs": [
    {
     "name": "stderr",
     "output_type": "stream",
     "text": [
      "100%|████████████████████████████████████████████████████████████████████████████████| 128/128 [01:25<00:00,  1.49it/s]\n"
     ]
    },
    {
     "data": {
      "text/plain": [
       "0"
      ]
     },
     "execution_count": 23,
     "metadata": {},
     "output_type": "execute_result"
    }
   ],
   "source": [
    "article_url=[]\n",
    "for i in tqdm.tqdm(search_terms):\n",
    "    try:\n",
    "        resp_page=requests.get(i,headers={\"Name\" : \"Simon Ullrich\" , \"email\": \"simon.ullrich@sodas.ku.dk\", \"Purpose\": \"Research project at KU: Intro to social data science\"})\n",
    "        soup=BeautifulSoup(resp_page.content, 'lxml')\n",
    "        for link in soup.find('div', class_ = 'v7W49e').find_all('a', href=True):\n",
    "            article_url.append(link['href'])\n",
    "    except:\n",
    "        pass\n",
    "    time.sleep(0.25)\n",
    "len(article_url)"
   ]
  },
  {
   "cell_type": "code",
   "execution_count": 25,
   "id": "16b3bc71",
   "metadata": {},
   "outputs": [],
   "source": [
    "url_test = \"https://www.google.com/search?q=%22jan.+2012%22+AND+%22sygeplejersker*%22+site%3Ahttps%3A%2F%2Fwww.dr.dk%2Fnyheder\""
   ]
  },
  {
   "cell_type": "code",
   "execution_count": 28,
   "id": "69089092",
   "metadata": {},
   "outputs": [
    {
     "name": "stderr",
     "output_type": "stream",
     "text": [
      "100%|████████████████████████████████████████████████████████████████████████████████| 114/114 [00:30<00:00,  3.69it/s]\n"
     ]
    }
   ],
   "source": [
    "article_url=[]\n",
    "for i in tqdm.tqdm(url_test):\n",
    "    try:\n",
    "        resp_page=requests.get(i,headers={\"Name\" : \"Simon Ullrich\" , \"email\": \"simon.ullrich@sodas.ku.dk\", \"Purpose\": \"Research project at KU: Intro to social data science\"})\n",
    "        soup=BeautifulSoup(resp_page.content, 'lxml')\n",
    "        for link in soup.find('div').find_all('a', href=True):\n",
    "            article_url.append(link['href'])\n",
    "    except:\n",
    "        pass\n",
    "    time.sleep(0.25)\n"
   ]
  },
  {
   "cell_type": "code",
   "execution_count": 36,
   "id": "d0fe7bc8",
   "metadata": {},
   "outputs": [],
   "source": [
    "resp_page=requests.get(url_test,headers={\"Name\" : \"Simon Ullrich\" , \"email\": \"simon.ullrich@sodas.ku.dk\", \"Purpose\": \"Research project at KU: Intro to social data science\"})\n",
    "soup=BeautifulSoup(resp_page.content, 'lxml')"
   ]
  },
  {
   "cell_type": "code",
   "execution_count": 37,
   "id": "253a49f5",
   "metadata": {},
   "outputs": [],
   "source": [
    "article_url=[]\n",
    "for link in soup.find_all('a', href=True):\n",
    "            article_url.append(link['href'])"
   ]
  },
  {
   "cell_type": "code",
   "execution_count": 41,
   "id": "4a095c3a",
   "metadata": {
    "scrolled": true
   },
   "outputs": [
    {
     "data": {
      "text/plain": [
       "requests.models.Response"
      ]
     },
     "execution_count": 41,
     "metadata": {},
     "output_type": "execute_result"
    }
   ],
   "source": [
    "type(resp_page)"
   ]
  },
  {
   "cell_type": "code",
   "execution_count": null,
   "id": "9a38b00c",
   "metadata": {},
   "outputs": [],
   "source": []
  },
  {
   "cell_type": "code",
   "execution_count": null,
   "id": "1e20ff75",
   "metadata": {},
   "outputs": [],
   "source": []
  },
  {
   "cell_type": "code",
   "execution_count": null,
   "id": "8c8b1129",
   "metadata": {},
   "outputs": [],
   "source": []
  },
  {
   "cell_type": "markdown",
   "id": "b6be9413",
   "metadata": {},
   "source": [
    "We actually used this code and devided in section. This is the code we run:\n",
    "    \n",
    "```python\n",
    "resp_page=requests.get(url_test,headers={\"Name\" : \"Simon Ullrich\" , \"email\": \"simon.ullrich@sodas.ku.dk\", \"Purpose\": \"Research project at KU: Intro to social data science\"})\n",
    "soup=BeautifulSoup(resp_page.content, 'lxml')\n",
    "```"
   ]
  }
 ],
 "metadata": {
  "kernelspec": {
   "display_name": "Python 3 (ipykernel)",
   "language": "python",
   "name": "python3"
  },
  "language_info": {
   "codemirror_mode": {
    "name": "ipython",
    "version": 3
   },
   "file_extension": ".py",
   "mimetype": "text/x-python",
   "name": "python",
   "nbconvert_exporter": "python",
   "pygments_lexer": "ipython3",
   "version": "3.9.7"
  }
 },
 "nbformat": 4,
 "nbformat_minor": 5
}
