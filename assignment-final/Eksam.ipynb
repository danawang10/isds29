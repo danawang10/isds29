{
 "cells": [
  {
   "cell_type": "markdown",
   "id": "5f4e30e6",
   "metadata": {},
   "source": [
    "# Development of Scraper"
   ]
  },
  {
   "cell_type": "code",
   "execution_count": null,
   "id": "c70e781f",
   "metadata": {},
   "outputs": [],
   "source": [
    "Packages"
   ]
  },
  {
   "cell_type": "code",
   "execution_count": 8,
   "id": "90de63e8",
   "metadata": {},
   "outputs": [],
   "source": [
    "import requests\n",
    "from bs4 import BeautifulSoup\n",
    "import time\n",
    "import pandas as pd\n",
    "import numpy as np\n",
    "\n",
    "# Import selenium\n",
    "from selenium import webdriver\n",
    "from selenium.webdriver.chrome.service import Service\n",
    "from selenium.webdriver.common.by import By\n",
    "from selenium.webdriver.common.keys import Keys"
   ]
  },
  {
   "cell_type": "code",
   "execution_count": 56,
   "id": "f3d3c116",
   "metadata": {},
   "outputs": [
    {
     "name": "stdout",
     "output_type": "stream",
     "text": [
      "Please enter your account details... and press ENTER and read the information\n"
     ]
    }
   ],
   "source": [
    "# Set up virtual browser\n",
    "driverService = Service(r\"C:\\Users\\jgb569\\OneDrive - University of Copenhagen\\Documents\\Webscraping\\chromedriver.exe\") \n",
    "driver = webdriver.Chrome(service = driverService)\n",
    "\n",
    "# Go to KB website\n",
    "from selenium.common.exceptions import NoSuchElementException  \n",
    "driver.get('https://kb.dk')\n",
    "# Discard cookie\n",
    "cookie = driver.find_element(By.ID, \"cookiescript_reject\")\n",
    "cookie.click()\n",
    "# Login website\n",
    "login = driver.find_element(By.CSS_SELECTOR, \".login\")\n",
    "login.click()\n",
    "# Wayf link\n",
    "wayf_link = driver.find_element(By.CSS_SELECTOR, \"#wayf_link\")\n",
    "wayf_link.click()\n",
    "wayf_link2 = driver.find_element(By.XPATH, '//*[contains(concat( \" \", @class, \" \" ), concat( \" \", \"metaentry\", \" \" )) and (((count(preceding-sibling::*) + 1) = 6) and parent::*)]//*[contains(concat( \" \", @class, \" \" ), concat( \" \", \"idp\", \" \" ))]')\n",
    "wayf_link2.click()\n",
    "print(\"Please enter your account details... and press ENTER and read the information\")"
   ]
  },
  {
   "cell_type": "code",
   "execution_count": 57,
   "id": "17d96e56",
   "metadata": {
    "scrolled": true
   },
   "outputs": [
    {
     "ename": "NoSuchElementException",
     "evalue": "Message: no such element: Unable to locate element: {\"method\":\"css selector\",\"selector\":\"#mainMenu div:nth-child(1) .item-content\"}\n  (Session info: chrome=104.0.5112.81)\nStacktrace:\nBacktrace:\n\tOrdinal0 [0x010678B3+2193587]\n\tOrdinal0 [0x01000681+1771137]\n\tOrdinal0 [0x00F141A8+803240]\n\tOrdinal0 [0x00F424A0+992416]\n\tOrdinal0 [0x00F4273B+993083]\n\tOrdinal0 [0x00F6F7C2+1177538]\n\tOrdinal0 [0x00F5D7F4+1103860]\n\tOrdinal0 [0x00F6DAE2+1170146]\n\tOrdinal0 [0x00F5D5C6+1103302]\n\tOrdinal0 [0x00F377E0+948192]\n\tOrdinal0 [0x00F386E6+952038]\n\tGetHandleVerifier [0x01310CB2+2738370]\n\tGetHandleVerifier [0x013021B8+2678216]\n\tGetHandleVerifier [0x010F17AA+512954]\n\tGetHandleVerifier [0x010F0856+509030]\n\tOrdinal0 [0x0100743B+1799227]\n\tOrdinal0 [0x0100BB68+1817448]\n\tOrdinal0 [0x0100BC55+1817685]\n\tOrdinal0 [0x01015230+1856048]\n\tBaseThreadInitThunk [0x75C1FA29+25]\n\tRtlGetAppContainerNamedObjectPath [0x77B57A9E+286]\n\tRtlGetAppContainerNamedObjectPath [0x77B57A6E+238]\n",
     "output_type": "error",
     "traceback": [
      "\u001b[1;31m---------------------------------------------------------------------------\u001b[0m",
      "\u001b[1;31mNoSuchElementException\u001b[0m                    Traceback (most recent call last)",
      "\u001b[1;32m~\\AppData\\Local\\Temp/ipykernel_13000/2778584183.py\u001b[0m in \u001b[0;36m<module>\u001b[1;34m\u001b[0m\n\u001b[0;32m      3\u001b[0m \u001b[0mwayf_ok\u001b[0m\u001b[1;33m.\u001b[0m\u001b[0mclick\u001b[0m\u001b[1;33m(\u001b[0m\u001b[1;33m)\u001b[0m\u001b[1;33m\u001b[0m\u001b[1;33m\u001b[0m\u001b[0m\n\u001b[0;32m      4\u001b[0m \u001b[1;31m# Ny søgning\u001b[0m\u001b[1;33m\u001b[0m\u001b[1;33m\u001b[0m\u001b[0m\n\u001b[1;32m----> 5\u001b[1;33m \u001b[0mnew_search\u001b[0m \u001b[1;33m=\u001b[0m \u001b[0mdriver\u001b[0m\u001b[1;33m.\u001b[0m\u001b[0mfind_element\u001b[0m\u001b[1;33m(\u001b[0m\u001b[0mBy\u001b[0m\u001b[1;33m.\u001b[0m\u001b[0mCSS_SELECTOR\u001b[0m\u001b[1;33m,\u001b[0m \u001b[1;34m'#mainMenu div:nth-child(1) .item-content'\u001b[0m\u001b[1;33m)\u001b[0m\u001b[1;33m\u001b[0m\u001b[1;33m\u001b[0m\u001b[0m\n\u001b[0m\u001b[0;32m      6\u001b[0m \u001b[0mnew_search\u001b[0m\u001b[1;33m.\u001b[0m\u001b[0mclick\u001b[0m\u001b[1;33m(\u001b[0m\u001b[1;33m)\u001b[0m\u001b[1;33m\u001b[0m\u001b[1;33m\u001b[0m\u001b[0m\n",
      "\u001b[1;32m~\\Anaconda3\\lib\\site-packages\\selenium\\webdriver\\remote\\webdriver.py\u001b[0m in \u001b[0;36mfind_element\u001b[1;34m(self, by, value)\u001b[0m\n\u001b[0;32m    855\u001b[0m             \u001b[0mvalue\u001b[0m \u001b[1;33m=\u001b[0m \u001b[1;34m'[name=\"%s\"]'\u001b[0m \u001b[1;33m%\u001b[0m \u001b[0mvalue\u001b[0m\u001b[1;33m\u001b[0m\u001b[1;33m\u001b[0m\u001b[0m\n\u001b[0;32m    856\u001b[0m \u001b[1;33m\u001b[0m\u001b[0m\n\u001b[1;32m--> 857\u001b[1;33m         return self.execute(Command.FIND_ELEMENT, {\n\u001b[0m\u001b[0;32m    858\u001b[0m             \u001b[1;34m'using'\u001b[0m\u001b[1;33m:\u001b[0m \u001b[0mby\u001b[0m\u001b[1;33m,\u001b[0m\u001b[1;33m\u001b[0m\u001b[1;33m\u001b[0m\u001b[0m\n\u001b[0;32m    859\u001b[0m             'value': value})['value']\n",
      "\u001b[1;32m~\\Anaconda3\\lib\\site-packages\\selenium\\webdriver\\remote\\webdriver.py\u001b[0m in \u001b[0;36mexecute\u001b[1;34m(self, driver_command, params)\u001b[0m\n\u001b[0;32m    433\u001b[0m         \u001b[0mresponse\u001b[0m \u001b[1;33m=\u001b[0m \u001b[0mself\u001b[0m\u001b[1;33m.\u001b[0m\u001b[0mcommand_executor\u001b[0m\u001b[1;33m.\u001b[0m\u001b[0mexecute\u001b[0m\u001b[1;33m(\u001b[0m\u001b[0mdriver_command\u001b[0m\u001b[1;33m,\u001b[0m \u001b[0mparams\u001b[0m\u001b[1;33m)\u001b[0m\u001b[1;33m\u001b[0m\u001b[1;33m\u001b[0m\u001b[0m\n\u001b[0;32m    434\u001b[0m         \u001b[1;32mif\u001b[0m \u001b[0mresponse\u001b[0m\u001b[1;33m:\u001b[0m\u001b[1;33m\u001b[0m\u001b[1;33m\u001b[0m\u001b[0m\n\u001b[1;32m--> 435\u001b[1;33m             \u001b[0mself\u001b[0m\u001b[1;33m.\u001b[0m\u001b[0merror_handler\u001b[0m\u001b[1;33m.\u001b[0m\u001b[0mcheck_response\u001b[0m\u001b[1;33m(\u001b[0m\u001b[0mresponse\u001b[0m\u001b[1;33m)\u001b[0m\u001b[1;33m\u001b[0m\u001b[1;33m\u001b[0m\u001b[0m\n\u001b[0m\u001b[0;32m    436\u001b[0m             response['value'] = self._unwrap_value(\n\u001b[0;32m    437\u001b[0m                 response.get('value', None))\n",
      "\u001b[1;32m~\\Anaconda3\\lib\\site-packages\\selenium\\webdriver\\remote\\errorhandler.py\u001b[0m in \u001b[0;36mcheck_response\u001b[1;34m(self, response)\u001b[0m\n\u001b[0;32m    245\u001b[0m                 \u001b[0malert_text\u001b[0m \u001b[1;33m=\u001b[0m \u001b[0mvalue\u001b[0m\u001b[1;33m[\u001b[0m\u001b[1;34m'alert'\u001b[0m\u001b[1;33m]\u001b[0m\u001b[1;33m.\u001b[0m\u001b[0mget\u001b[0m\u001b[1;33m(\u001b[0m\u001b[1;34m'text'\u001b[0m\u001b[1;33m)\u001b[0m\u001b[1;33m\u001b[0m\u001b[1;33m\u001b[0m\u001b[0m\n\u001b[0;32m    246\u001b[0m             \u001b[1;32mraise\u001b[0m \u001b[0mexception_class\u001b[0m\u001b[1;33m(\u001b[0m\u001b[0mmessage\u001b[0m\u001b[1;33m,\u001b[0m \u001b[0mscreen\u001b[0m\u001b[1;33m,\u001b[0m \u001b[0mstacktrace\u001b[0m\u001b[1;33m,\u001b[0m \u001b[0malert_text\u001b[0m\u001b[1;33m)\u001b[0m  \u001b[1;31m# type: ignore[call-arg]  # mypy is not smart enough here\u001b[0m\u001b[1;33m\u001b[0m\u001b[1;33m\u001b[0m\u001b[0m\n\u001b[1;32m--> 247\u001b[1;33m         \u001b[1;32mraise\u001b[0m \u001b[0mexception_class\u001b[0m\u001b[1;33m(\u001b[0m\u001b[0mmessage\u001b[0m\u001b[1;33m,\u001b[0m \u001b[0mscreen\u001b[0m\u001b[1;33m,\u001b[0m \u001b[0mstacktrace\u001b[0m\u001b[1;33m)\u001b[0m\u001b[1;33m\u001b[0m\u001b[1;33m\u001b[0m\u001b[0m\n\u001b[0m\u001b[0;32m    248\u001b[0m \u001b[1;33m\u001b[0m\u001b[0m\n\u001b[0;32m    249\u001b[0m     \u001b[1;32mdef\u001b[0m \u001b[0m_value_or_default\u001b[0m\u001b[1;33m(\u001b[0m\u001b[0mself\u001b[0m\u001b[1;33m,\u001b[0m \u001b[0mobj\u001b[0m\u001b[1;33m:\u001b[0m \u001b[0mMapping\u001b[0m\u001b[1;33m[\u001b[0m\u001b[0m_KT\u001b[0m\u001b[1;33m,\u001b[0m \u001b[0m_VT\u001b[0m\u001b[1;33m]\u001b[0m\u001b[1;33m,\u001b[0m \u001b[0mkey\u001b[0m\u001b[1;33m:\u001b[0m \u001b[0m_KT\u001b[0m\u001b[1;33m,\u001b[0m \u001b[0mdefault\u001b[0m\u001b[1;33m:\u001b[0m \u001b[0m_VT\u001b[0m\u001b[1;33m)\u001b[0m \u001b[1;33m->\u001b[0m \u001b[0m_VT\u001b[0m\u001b[1;33m:\u001b[0m\u001b[1;33m\u001b[0m\u001b[1;33m\u001b[0m\u001b[0m\n",
      "\u001b[1;31mNoSuchElementException\u001b[0m: Message: no such element: Unable to locate element: {\"method\":\"css selector\",\"selector\":\"#mainMenu div:nth-child(1) .item-content\"}\n  (Session info: chrome=104.0.5112.81)\nStacktrace:\nBacktrace:\n\tOrdinal0 [0x010678B3+2193587]\n\tOrdinal0 [0x01000681+1771137]\n\tOrdinal0 [0x00F141A8+803240]\n\tOrdinal0 [0x00F424A0+992416]\n\tOrdinal0 [0x00F4273B+993083]\n\tOrdinal0 [0x00F6F7C2+1177538]\n\tOrdinal0 [0x00F5D7F4+1103860]\n\tOrdinal0 [0x00F6DAE2+1170146]\n\tOrdinal0 [0x00F5D5C6+1103302]\n\tOrdinal0 [0x00F377E0+948192]\n\tOrdinal0 [0x00F386E6+952038]\n\tGetHandleVerifier [0x01310CB2+2738370]\n\tGetHandleVerifier [0x013021B8+2678216]\n\tGetHandleVerifier [0x010F17AA+512954]\n\tGetHandleVerifier [0x010F0856+509030]\n\tOrdinal0 [0x0100743B+1799227]\n\tOrdinal0 [0x0100BB68+1817448]\n\tOrdinal0 [0x0100BC55+1817685]\n\tOrdinal0 [0x01015230+1856048]\n\tBaseThreadInitThunk [0x75C1FA29+25]\n\tRtlGetAppContainerNamedObjectPath [0x77B57A9E+286]\n\tRtlGetAppContainerNamedObjectPath [0x77B57A6E+238]\n"
     ]
    }
   ],
   "source": [
    "# Wayf - ok\n",
    "wayf_ok = driver.find_element(By.ID, \"remember\")\n",
    "wayf_ok.click()\n",
    "# Ny søgning\n",
    "new_search = driver.find_element(By.CSS_SELECTOR, '#mainMenu div:nth-child(1) .item-content')\n",
    "new_search.click()"
   ]
  },
  {
   "cell_type": "code",
   "execution_count": 54,
   "id": "6952d706",
   "metadata": {},
   "outputs": [],
   "source": [
    "input_Element1 = driver.find_element(By.XPATH, '//*[@id=\"searchElementsWrapper\"]/div/form/div/div/div[1]/prm-autocomplete')\n",
    "input_Element1.click()\n",
    "input_Element1.send_keys('nexis uni')"
   ]
  },
  {
   "cell_type": "code",
   "execution_count": null,
   "id": "ad332f01",
   "metadata": {},
   "outputs": [],
   "source": [
    "# Define URL\n",
    "\n",
    "kunet_login = \"https://kb.dk\"\n",
    "\n",
    "\n",
    "url = \"https://advance-lexis-com.ep.fjernadgang.kb.dk/bisacademicresearchhome?crid=daf46173-e96c-45c5-99ea-f21b4f679bfa&pdmfid=1516831&pdisurlapi=true"
   ]
  },
  {
   "cell_type": "code",
   "execution_count": null,
   "id": "2bb65848",
   "metadata": {},
   "outputs": [],
   "source": []
  }
 ],
 "metadata": {
  "kernelspec": {
   "display_name": "Python 3 (ipykernel)",
   "language": "python",
   "name": "python3"
  },
  "language_info": {
   "codemirror_mode": {
    "name": "ipython",
    "version": 3
   },
   "file_extension": ".py",
   "mimetype": "text/x-python",
   "name": "python",
   "nbconvert_exporter": "python",
   "pygments_lexer": "ipython3",
   "version": "3.9.7"
  }
 },
 "nbformat": 4,
 "nbformat_minor": 5
}
