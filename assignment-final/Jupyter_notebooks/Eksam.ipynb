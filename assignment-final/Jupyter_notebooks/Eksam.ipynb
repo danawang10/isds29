{
 "cells": [
  {
   "cell_type": "markdown",
   "id": "5f4e30e6",
   "metadata": {},
   "source": [
    "# Development of Scraper"
   ]
  },
  {
   "cell_type": "code",
   "execution_count": null,
   "id": "c70e781f",
   "metadata": {},
   "outputs": [],
   "source": [
    "Packages"
   ]
  },
  {
   "cell_type": "code",
   "execution_count": 1,
   "id": "90de63e8",
   "metadata": {},
   "outputs": [],
   "source": [
    "import requests\n",
    "from bs4 import BeautifulSoup\n",
    "import time\n",
    "import pandas as pd\n",
    "import numpy as np\n",
    "\n",
    "# Import selenium\n",
    "from selenium import webdriver\n",
    "from selenium.webdriver.chrome.service import Service\n",
    "from selenium.webdriver.common.by import By\n",
    "from selenium.webdriver.common.keys import Keys"
   ]
  },
  {
   "cell_type": "code",
   "execution_count": 3,
   "id": "f3d3c116",
   "metadata": {},
   "outputs": [
    {
     "name": "stdout",
     "output_type": "stream",
     "text": [
      "Please enter your account details... and press ENTER and read the information\n"
     ]
    }
   ],
   "source": [
    "# Set up virtual browser\n",
    "driverService = Service(r\"C:\\Users\\jgb569\\OneDrive - University of Copenhagen\\Documents\\Webscraping\\chromedriver.exe\") \n",
    "driver = webdriver.Chrome(service = driverService)\n",
    "\n",
    "# Go to KB website\n",
    "from selenium.common.exceptions import NoSuchElementException  \n",
    "driver.get('https://kb.dk')\n",
    "# Discard cookie\n",
    "cookie = driver.find_element(By.ID, \"cookiescript_reject\")\n",
    "cookie.click()\n",
    "# Login website\n",
    "login = driver.find_element(By.CSS_SELECTOR, \".login\")\n",
    "login.click()\n",
    "# Wayf link\n",
    "wayf_link = driver.find_element(By.CSS_SELECTOR, \"#wayf_link\")\n",
    "wayf_link.click()\n",
    "wayf_link2 = driver.find_element(By.XPATH, '//*[contains(concat( \" \", @class, \" \" ), concat( \" \", \"metaentry\", \" \" )) and (((count(preceding-sibling::*) + 1) = 6) and parent::*)]//*[contains(concat( \" \", @class, \" \" ), concat( \" \", \"idp\", \" \" ))]')\n",
    "wayf_link2.click()\n",
    "print(\"Please enter your account details... and press ENTER and read the information\")"
   ]
  },
  {
   "cell_type": "code",
   "execution_count": 6,
   "id": "17d96e56",
   "metadata": {
    "scrolled": true
   },
   "outputs": [],
   "source": [
    "# Wayf - ok\n",
    "wayf_ok = driver.find_element(By.ID, \"remember\")\n",
    "wayf_ok.click()\n",
    "# Ny søgning\n",
    "new_search = driver.find_element(By.CSS_SELECTOR, '#mainMenu div:nth-child(1) .item-content')\n",
    "new_search.click()"
   ]
  },
  {
   "cell_type": "code",
   "execution_count": 7,
   "id": "6952d706",
   "metadata": {},
   "outputs": [],
   "source": [
    "input_Element1 = driver.find_element(By.XPATH, '//*[@id=\"searchElementsWrapper\"]/div/form/div/div/div[1]/prm-autocomplete')\n",
    "input_Element1.click()\n",
    "input_Element1.send_keys('nexis uni')"
   ]
  },
  {
   "cell_type": "code",
   "execution_count": null,
   "id": "ad332f01",
   "metadata": {},
   "outputs": [],
   "source": [
    "# Define URL\n",
    "\n",
    "kunet_login = \"https://kb.dk\"\n",
    "\n",
    "\n",
    "url = \"https://advance-lexis-com.ep.fjernadgang.kb.dk/bisacademicresearchhome?crid=daf46173-e96c-45c5-99ea-f21b4f679bfa&pdmfid=1516831&pdisurlapi=true"
   ]
  },
  {
   "cell_type": "code",
   "execution_count": 14,
   "id": "2bb65848",
   "metadata": {},
   "outputs": [],
   "source": [
    "import os"
   ]
  },
  {
   "cell_type": "code",
   "execution_count": 18,
   "id": "2219a35d",
   "metadata": {},
   "outputs": [
    {
     "ename": "AttributeError",
     "evalue": "module 'os' has no attribute 'ls'",
     "output_type": "error",
     "traceback": [
      "\u001b[1;31m---------------------------------------------------------------------------\u001b[0m",
      "\u001b[1;31mAttributeError\u001b[0m                            Traceback (most recent call last)",
      "\u001b[1;32m~\\AppData\\Local\\Temp/ipykernel_9488/2339743928.py\u001b[0m in \u001b[0;36m<module>\u001b[1;34m\u001b[0m\n\u001b[1;32m----> 1\u001b[1;33m \u001b[0mos\u001b[0m\u001b[1;33m.\u001b[0m\u001b[0mls\u001b[0m\u001b[1;33m(\u001b[0m\u001b[1;33m)\u001b[0m\u001b[1;33m\u001b[0m\u001b[1;33m\u001b[0m\u001b[0m\n\u001b[0m",
      "\u001b[1;31mAttributeError\u001b[0m: module 'os' has no attribute 'ls'"
     ]
    }
   ],
   "source": [
    "os.ls()"
   ]
  },
  {
   "cell_type": "code",
   "execution_count": 16,
   "id": "4587243d",
   "metadata": {
    "scrolled": true
   },
   "outputs": [
    {
     "name": "stdout",
     "output_type": "stream",
     "text": [
      "Collecting pyreadrNote: you may need to restart the kernel to use updated packages.\n",
      "\n",
      "  Downloading pyreadr-0.4.6-cp39-cp39-win_amd64.whl (1.1 MB)\n",
      "Requirement already satisfied: pandas>=1.2.0 in c:\\users\\jgb569\\anaconda3\\lib\\site-packages (from pyreadr) (1.3.4)\n",
      "Requirement already satisfied: pytz>=2017.3 in c:\\users\\jgb569\\anaconda3\\lib\\site-packages (from pandas>=1.2.0->pyreadr) (2021.3)\n",
      "Requirement already satisfied: python-dateutil>=2.7.3 in c:\\users\\jgb569\\anaconda3\\lib\\site-packages (from pandas>=1.2.0->pyreadr) (2.8.2)\n",
      "Requirement already satisfied: numpy>=1.17.3 in c:\\users\\jgb569\\anaconda3\\lib\\site-packages (from pandas>=1.2.0->pyreadr) (1.20.3)\n",
      "Requirement already satisfied: six>=1.5 in c:\\users\\jgb569\\anaconda3\\lib\\site-packages (from python-dateutil>=2.7.3->pandas>=1.2.0->pyreadr) (1.16.0)\n",
      "Installing collected packages: pyreadr\n",
      "Successfully installed pyreadr-0.4.6\n"
     ]
    }
   ],
   "source": [
    "pip install pyreadr"
   ]
  },
  {
   "cell_type": "code",
   "execution_count": 19,
   "id": "ceda15da",
   "metadata": {},
   "outputs": [
    {
     "ename": "LibrdataError",
     "evalue": "Invalid file, or file has unsupported features",
     "output_type": "error",
     "traceback": [
      "\u001b[1;31m---------------------------------------------------------------------------\u001b[0m",
      "\u001b[1;31mLibrdataError\u001b[0m                             Traceback (most recent call last)",
      "\u001b[1;32m~\\AppData\\Local\\Temp/ipykernel_9488/1446108620.py\u001b[0m in \u001b[0;36m<module>\u001b[1;34m\u001b[0m\n\u001b[0;32m      1\u001b[0m \u001b[1;32mimport\u001b[0m \u001b[0mpyreadr\u001b[0m\u001b[1;33m\u001b[0m\u001b[1;33m\u001b[0m\u001b[0m\n\u001b[0;32m      2\u001b[0m \u001b[1;33m\u001b[0m\u001b[0m\n\u001b[1;32m----> 3\u001b[1;33m \u001b[0mresult\u001b[0m \u001b[1;33m=\u001b[0m \u001b[0mpyreadr\u001b[0m\u001b[1;33m.\u001b[0m\u001b[0mread_r\u001b[0m\u001b[1;33m(\u001b[0m\u001b[1;34m'corpus_DK_NL.Rdata'\u001b[0m\u001b[1;33m)\u001b[0m\u001b[1;33m\u001b[0m\u001b[1;33m\u001b[0m\u001b[0m\n\u001b[0m",
      "\u001b[1;32m~\\Anaconda3\\lib\\site-packages\\pyreadr\\pyreadr.py\u001b[0m in \u001b[0;36mread_r\u001b[1;34m(path, use_objects, timezone)\u001b[0m\n\u001b[0;32m     64\u001b[0m     \u001b[1;32mif\u001b[0m \u001b[1;32mnot\u001b[0m \u001b[0mos\u001b[0m\u001b[1;33m.\u001b[0m\u001b[0mpath\u001b[0m\u001b[1;33m.\u001b[0m\u001b[0misfile\u001b[0m\u001b[1;33m(\u001b[0m\u001b[0mfilename_bytes\u001b[0m\u001b[1;33m)\u001b[0m\u001b[1;33m:\u001b[0m\u001b[1;33m\u001b[0m\u001b[1;33m\u001b[0m\u001b[0m\n\u001b[0;32m     65\u001b[0m         \u001b[1;32mraise\u001b[0m \u001b[0mPyreadrError\u001b[0m\u001b[1;33m(\u001b[0m\u001b[1;34m\"File {0} does not exist!\"\u001b[0m\u001b[1;33m.\u001b[0m\u001b[0mformat\u001b[0m\u001b[1;33m(\u001b[0m\u001b[0mfilename_bytes\u001b[0m\u001b[1;33m)\u001b[0m\u001b[1;33m)\u001b[0m\u001b[1;33m\u001b[0m\u001b[1;33m\u001b[0m\u001b[0m\n\u001b[1;32m---> 66\u001b[1;33m     \u001b[0mparser\u001b[0m\u001b[1;33m.\u001b[0m\u001b[0mparse\u001b[0m\u001b[1;33m(\u001b[0m\u001b[0mfilename_bytes\u001b[0m\u001b[1;33m)\u001b[0m\u001b[1;33m\u001b[0m\u001b[1;33m\u001b[0m\u001b[0m\n\u001b[0m\u001b[0;32m     67\u001b[0m \u001b[1;33m\u001b[0m\u001b[0m\n\u001b[0;32m     68\u001b[0m     \u001b[0mresult\u001b[0m \u001b[1;33m=\u001b[0m \u001b[0mOrderedDict\u001b[0m\u001b[1;33m(\u001b[0m\u001b[1;33m)\u001b[0m\u001b[1;33m\u001b[0m\u001b[1;33m\u001b[0m\u001b[0m\n",
      "\u001b[1;32m~\\Anaconda3\\lib\\site-packages\\pyreadr\\librdata.pyx\u001b[0m in \u001b[0;36mpyreadr.librdata.Parser.parse\u001b[1;34m()\u001b[0m\n",
      "\u001b[1;32m~\\Anaconda3\\lib\\site-packages\\pyreadr\\librdata.pyx\u001b[0m in \u001b[0;36mpyreadr.librdata.Parser.parse\u001b[1;34m()\u001b[0m\n",
      "\u001b[1;31mLibrdataError\u001b[0m: Invalid file, or file has unsupported features"
     ]
    }
   ],
   "source": [
    "import pyreadr\n",
    "\n",
    "result = pyreadr.read_r('corpus_DK_NL.Rdata')"
   ]
  }
 ],
 "metadata": {
  "kernelspec": {
   "display_name": "Python 3 (ipykernel)",
   "language": "python",
   "name": "python3"
  },
  "language_info": {
   "codemirror_mode": {
    "name": "ipython",
    "version": 3
   },
   "file_extension": ".py",
   "mimetype": "text/x-python",
   "name": "python",
   "nbconvert_exporter": "python",
   "pygments_lexer": "ipython3",
   "version": "3.9.7"
  }
 },
 "nbformat": 4,
 "nbformat_minor": 5
}
