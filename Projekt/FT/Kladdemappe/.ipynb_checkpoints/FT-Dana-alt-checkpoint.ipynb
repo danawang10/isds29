{
 "cells": [
  {
   "cell_type": "code",
   "execution_count": 1,
   "id": "4ed9ff1a",
   "metadata": {},
   "outputs": [],
   "source": [
    "from bs4 import BeautifulSoup as bs\n",
    "import re \n",
    "import os\n",
    "import lxml\n",
    "import xml.etree.ElementTree as ET\n",
    "from lxml import objectify\n",
    "from datetime import datetime\n",
    "import numpy as np \n",
    "import pandas as pd \n",
    "import requests\n",
    "import ftplib\n",
    "from io import BytesIO\n",
    "import tqdm"
   ]
  },
  {
   "cell_type": "markdown",
   "id": "6fe27186",
   "metadata": {},
   "source": [
    "### Prepare to load data"
   ]
  },
  {
   "cell_type": "code",
   "execution_count": 3,
   "id": "42198dbb",
   "metadata": {},
   "outputs": [
    {
     "data": {
      "text/plain": [
       "'\\nwith open(file) as f:\\n    parsed = objectify.parse(f)\\nroot = parsed.getroot()\\n'"
      ]
     },
     "execution_count": 3,
     "metadata": {},
     "output_type": "execute_result"
    }
   ],
   "source": [
    "'''\n",
    "with open(file) as f:\n",
    "    parsed = objectify.parse(f)\n",
    "root = parsed.getroot()\n",
    "'''"
   ]
  },
  {
   "cell_type": "markdown",
   "id": "09b998f5",
   "metadata": {},
   "source": [
    "##### Read xml file "
   ]
  },
  {
   "cell_type": "code",
   "execution_count": 2,
   "id": "c65998c4",
   "metadata": {},
   "outputs": [
    {
     "ename": "FileNotFoundError",
     "evalue": "[Errno 2] No such file or directory: '20091_M100_helemoedet.xml'",
     "output_type": "error",
     "traceback": [
      "\u001b[0;31m---------------------------------------------------------------------------\u001b[0m",
      "\u001b[0;31mFileNotFoundError\u001b[0m                         Traceback (most recent call last)",
      "\u001b[0;32m<ipython-input-2-3f4fc28c15eb>\u001b[0m in \u001b[0;36m<module>\u001b[0;34m\u001b[0m\n\u001b[1;32m      1\u001b[0m \u001b[0mfile\u001b[0m \u001b[0;34m=\u001b[0m \u001b[0;34m\"20091_M100_helemoedet.xml\"\u001b[0m\u001b[0;34m\u001b[0m\u001b[0;34m\u001b[0m\u001b[0m\n\u001b[0;32m----> 2\u001b[0;31m \u001b[0mtree\u001b[0m \u001b[0;34m=\u001b[0m \u001b[0mET\u001b[0m\u001b[0;34m.\u001b[0m\u001b[0mparse\u001b[0m\u001b[0;34m(\u001b[0m\u001b[0mfile\u001b[0m\u001b[0;34m)\u001b[0m\u001b[0;34m\u001b[0m\u001b[0;34m\u001b[0m\u001b[0m\n\u001b[0m\u001b[1;32m      3\u001b[0m \u001b[0mroot\u001b[0m \u001b[0;34m=\u001b[0m \u001b[0mtree\u001b[0m\u001b[0;34m.\u001b[0m\u001b[0mgetroot\u001b[0m\u001b[0;34m(\u001b[0m\u001b[0;34m)\u001b[0m\u001b[0;34m\u001b[0m\u001b[0;34m\u001b[0m\u001b[0m\n",
      "\u001b[0;32m~/opt/anaconda3/lib/python3.8/xml/etree/ElementTree.py\u001b[0m in \u001b[0;36mparse\u001b[0;34m(source, parser)\u001b[0m\n\u001b[1;32m   1200\u001b[0m     \"\"\"\n\u001b[1;32m   1201\u001b[0m     \u001b[0mtree\u001b[0m \u001b[0;34m=\u001b[0m \u001b[0mElementTree\u001b[0m\u001b[0;34m(\u001b[0m\u001b[0;34m)\u001b[0m\u001b[0;34m\u001b[0m\u001b[0;34m\u001b[0m\u001b[0m\n\u001b[0;32m-> 1202\u001b[0;31m     \u001b[0mtree\u001b[0m\u001b[0;34m.\u001b[0m\u001b[0mparse\u001b[0m\u001b[0;34m(\u001b[0m\u001b[0msource\u001b[0m\u001b[0;34m,\u001b[0m \u001b[0mparser\u001b[0m\u001b[0;34m)\u001b[0m\u001b[0;34m\u001b[0m\u001b[0;34m\u001b[0m\u001b[0m\n\u001b[0m\u001b[1;32m   1203\u001b[0m     \u001b[0;32mreturn\u001b[0m \u001b[0mtree\u001b[0m\u001b[0;34m\u001b[0m\u001b[0;34m\u001b[0m\u001b[0m\n\u001b[1;32m   1204\u001b[0m \u001b[0;34m\u001b[0m\u001b[0m\n",
      "\u001b[0;32m~/opt/anaconda3/lib/python3.8/xml/etree/ElementTree.py\u001b[0m in \u001b[0;36mparse\u001b[0;34m(self, source, parser)\u001b[0m\n\u001b[1;32m    582\u001b[0m         \u001b[0mclose_source\u001b[0m \u001b[0;34m=\u001b[0m \u001b[0;32mFalse\u001b[0m\u001b[0;34m\u001b[0m\u001b[0;34m\u001b[0m\u001b[0m\n\u001b[1;32m    583\u001b[0m         \u001b[0;32mif\u001b[0m \u001b[0;32mnot\u001b[0m \u001b[0mhasattr\u001b[0m\u001b[0;34m(\u001b[0m\u001b[0msource\u001b[0m\u001b[0;34m,\u001b[0m \u001b[0;34m\"read\"\u001b[0m\u001b[0;34m)\u001b[0m\u001b[0;34m:\u001b[0m\u001b[0;34m\u001b[0m\u001b[0;34m\u001b[0m\u001b[0m\n\u001b[0;32m--> 584\u001b[0;31m             \u001b[0msource\u001b[0m \u001b[0;34m=\u001b[0m \u001b[0mopen\u001b[0m\u001b[0;34m(\u001b[0m\u001b[0msource\u001b[0m\u001b[0;34m,\u001b[0m \u001b[0;34m\"rb\"\u001b[0m\u001b[0;34m)\u001b[0m\u001b[0;34m\u001b[0m\u001b[0;34m\u001b[0m\u001b[0m\n\u001b[0m\u001b[1;32m    585\u001b[0m             \u001b[0mclose_source\u001b[0m \u001b[0;34m=\u001b[0m \u001b[0;32mTrue\u001b[0m\u001b[0;34m\u001b[0m\u001b[0;34m\u001b[0m\u001b[0m\n\u001b[1;32m    586\u001b[0m         \u001b[0;32mtry\u001b[0m\u001b[0;34m:\u001b[0m\u001b[0;34m\u001b[0m\u001b[0;34m\u001b[0m\u001b[0m\n",
      "\u001b[0;31mFileNotFoundError\u001b[0m: [Errno 2] No such file or directory: '20091_M100_helemoedet.xml'"
     ]
    }
   ],
   "source": [
    "file = \"20091_M100_helemoedet.xml\"\n",
    "tree = ET.parse(file)\n",
    "root = tree.getroot()"
   ]
  },
  {
   "cell_type": "markdown",
   "id": "78d07e05",
   "metadata": {},
   "source": [
    "##### Subelements / children"
   ]
  },
  {
   "cell_type": "code",
   "execution_count": null,
   "id": "85d3f4c8",
   "metadata": {},
   "outputs": [],
   "source": [
    "# children of the root only \n",
    "root_children = []\n",
    "\n",
    "for child in root:\n",
    "    root_children.append((child.tag, child.attrib))"
   ]
  },
  {
   "cell_type": "code",
   "execution_count": null,
   "id": "2d2a3fd0",
   "metadata": {},
   "outputs": [],
   "source": [
    "# All children in file\n",
    "all_children = [elem.tag for elem in root.iter()]"
   ]
  },
  {
   "cell_type": "code",
   "execution_count": 29,
   "id": "8bca46fa",
   "metadata": {},
   "outputs": [
    {
     "ename": "NameError",
     "evalue": "name 'all_children' is not defined",
     "output_type": "error",
     "traceback": [
      "\u001b[0;31m---------------------------------------------------------------------------\u001b[0m",
      "\u001b[0;31mNameError\u001b[0m                                 Traceback (most recent call last)",
      "\u001b[0;32m<ipython-input-29-1775b538644a>\u001b[0m in \u001b[0;36m<module>\u001b[0;34m\u001b[0m\n\u001b[0;32m----> 1\u001b[0;31m \u001b[0munique_children\u001b[0m \u001b[0;34m=\u001b[0m \u001b[0mset\u001b[0m\u001b[0;34m(\u001b[0m\u001b[0mall_children\u001b[0m\u001b[0;34m)\u001b[0m\u001b[0;34m\u001b[0m\u001b[0;34m\u001b[0m\u001b[0m\n\u001b[0m\u001b[1;32m      2\u001b[0m \u001b[0mprint\u001b[0m\u001b[0;34m(\u001b[0m\u001b[0munique_children\u001b[0m\u001b[0;34m)\u001b[0m\u001b[0;34m\u001b[0m\u001b[0;34m\u001b[0m\u001b[0m\n",
      "\u001b[0;31mNameError\u001b[0m: name 'all_children' is not defined"
     ]
    }
   ],
   "source": [
    "unique_children = set(all_children)\n",
    "print(unique_children)"
   ]
  },
  {
   "cell_type": "markdown",
   "id": "f21b2bc6",
   "metadata": {},
   "source": [
    "# Single file (lokal)"
   ]
  },
  {
   "cell_type": "code",
   "execution_count": 14,
   "id": "770b58ff",
   "metadata": {},
   "outputs": [
    {
     "ename": "AttributeError",
     "evalue": "'bytes' object has no attribute 'tostring'",
     "output_type": "error",
     "traceback": [
      "\u001b[0;31m---------------------------------------------------------------------------\u001b[0m",
      "\u001b[0;31mAttributeError\u001b[0m                            Traceback (most recent call last)",
      "\u001b[0;32m<ipython-input-14-6334f95a9369>\u001b[0m in \u001b[0;36m<module>\u001b[0;34m\u001b[0m\n\u001b[1;32m      1\u001b[0m \u001b[0;31m# entire xml file as string\u001b[0m\u001b[0;34m\u001b[0m\u001b[0;34m\u001b[0m\u001b[0;34m\u001b[0m\u001b[0m\n\u001b[0;32m----> 2\u001b[0;31m \u001b[0mxml\u001b[0m \u001b[0;34m=\u001b[0m \u001b[0mindhold\u001b[0m\u001b[0;34m[\u001b[0m\u001b[0;36m0\u001b[0m\u001b[0;34m]\u001b[0m\u001b[0;34m.\u001b[0m\u001b[0mtostring\u001b[0m\u001b[0;34m(\u001b[0m\u001b[0mroot\u001b[0m\u001b[0;34m,\u001b[0m \u001b[0mencoding\u001b[0m\u001b[0;34m=\u001b[0m\u001b[0;34m'utf8'\u001b[0m\u001b[0;34m)\u001b[0m\u001b[0;34m.\u001b[0m\u001b[0mdecode\u001b[0m\u001b[0;34m(\u001b[0m\u001b[0;34m'utf8'\u001b[0m\u001b[0;34m)\u001b[0m\u001b[0;34m\u001b[0m\u001b[0;34m\u001b[0m\u001b[0m\n\u001b[0m",
      "\u001b[0;31mAttributeError\u001b[0m: 'bytes' object has no attribute 'tostring'"
     ]
    }
   ],
   "source": [
    "# entire xml file as string\n",
    "xml = indhold[0].tostring(root, encoding='utf8').decode('utf8')"
   ]
  },
  {
   "cell_type": "markdown",
   "id": "98dadcd6",
   "metadata": {},
   "source": [
    "# Online (Kim)"
   ]
  },
  {
   "cell_type": "code",
   "execution_count": 3,
   "id": "b0b93b4f",
   "metadata": {},
   "outputs": [],
   "source": [
    "ftp_url = \"oda.ft.dk\"\n",
    "ftp_dir = \"/ODAXML/Referat/samling/\""
   ]
  },
  {
   "cell_type": "markdown",
   "id": "11d7633b",
   "metadata": {},
   "source": [
    "# Initialisering af lister\n",
    "### Jeg skal finde ud af, hvordan jeg dropper dem igen, når jeg er færdig"
   ]
  },
  {
   "cell_type": "code",
   "execution_count": 4,
   "id": "90b99a5a",
   "metadata": {},
   "outputs": [],
   "source": [
    "dirs = []\n",
    "sub_dir = []\n",
    "filer = []\n",
    "filer_navne = []\n",
    "sti_navn = []\n",
    "indhold = []\n",
    "\n",
    "suppe = []"
   ]
  },
  {
   "cell_type": "markdown",
   "id": "ae76df71",
   "metadata": {},
   "source": [
    "### Login til ftp serveren og henter en liste over biblioteker"
   ]
  },
  {
   "cell_type": "code",
   "execution_count": 5,
   "id": "69c471e2",
   "metadata": {},
   "outputs": [],
   "source": [
    "ftp = ftplib.FTP(ftp_url)\n",
    "ftp.login(\"anonymous\", \"wpg345@alumni.ku.dk\")\n",
    "ftp.set_pasv(True)\n",
    "ftp.cwd(ftp_dir)\n",
    "ftp.dir(dirs.append)"
   ]
  },
  {
   "cell_type": "markdown",
   "id": "3ab54388",
   "metadata": {},
   "source": [
    "### Bygger en liste med underbibliotekter"
   ]
  },
  {
   "cell_type": "code",
   "execution_count": 6,
   "id": "444f57f6",
   "metadata": {},
   "outputs": [],
   "source": [
    "for i in range (0, len(dirs), 1):\n",
    "    sub_dir.append(ftp_dir+dirs[i][-5:]+'/') "
   ]
  },
  {
   "cell_type": "markdown",
   "id": "15f65ee7",
   "metadata": {},
   "source": [
    "### Bygger en liste med filnavne"
   ]
  },
  {
   "cell_type": "code",
   "execution_count": 7,
   "id": "5ea6990e",
   "metadata": {},
   "outputs": [],
   "source": [
    "for i in range (0, len(sub_dir), 1):\n",
    "    ftp.cwd(sub_dir[i])\n",
    "    ftp.dir(filer.append)"
   ]
  },
  {
   "cell_type": "markdown",
   "id": "6618ec3d",
   "metadata": {},
   "source": [
    "### Ekstrakt af filnavn"
   ]
  },
  {
   "cell_type": "code",
   "execution_count": 8,
   "id": "80b8a6d3",
   "metadata": {},
   "outputs": [],
   "source": [
    "for i in range(0, len(filer)):\n",
    "    filer_navne.append(filer[i][39:])"
   ]
  },
  {
   "cell_type": "markdown",
   "id": "11a19a62",
   "metadata": {},
   "source": [
    "### Opbygning af hele stien og filnavn"
   ]
  },
  {
   "cell_type": "code",
   "execution_count": 9,
   "id": "0567fd6c",
   "metadata": {},
   "outputs": [],
   "source": [
    "for i in range(0, len(filer_navne)):\n",
    "    sti_navn.append(ftp_dir+filer_navne[i][0:5]+'/'+filer_navne[i])"
   ]
  },
  {
   "cell_type": "markdown",
   "id": "d4647f76",
   "metadata": {},
   "source": [
    "### Overførsel af de enkelte filer fra ftp://oda.ft.dk, og indholdet skrives til liste"
   ]
  },
  {
   "cell_type": "code",
   "execution_count": 10,
   "id": "83b7e735",
   "metadata": {},
   "outputs": [
    {
     "name": "stderr",
     "output_type": "stream",
     "text": [
      "100%|██████████| 1489/1489 [03:42<00:00,  6.68it/s]\n"
     ]
    }
   ],
   "source": [
    "for i in tqdm.tqdm(range(0, len(sti_navn))):\n",
    "# for i in tqdm.tqdm(range(0, 10)):\n",
    "    r = BytesIO()\n",
    "    ftp.retrbinary(f\"RETR {sti_navn[i]}\", r.write)\n",
    "    indhold.append(r.getvalue())\n",
    "    r.close()"
   ]
  },
  {
   "cell_type": "markdown",
   "id": "85307e4f",
   "metadata": {},
   "source": [
    "# Single file (online)"
   ]
  },
  {
   "cell_type": "markdown",
   "id": "3028a198",
   "metadata": {},
   "source": [
    "##### Soup "
   ]
  },
  {
   "cell_type": "code",
   "execution_count": 16,
   "id": "df753fa4",
   "metadata": {},
   "outputs": [],
   "source": [
    "xml = indhold[0]"
   ]
  },
  {
   "cell_type": "code",
   "execution_count": 17,
   "id": "e443588b",
   "metadata": {},
   "outputs": [],
   "source": [
    "soup = bs(xml, 'lxml')"
   ]
  },
  {
   "cell_type": "code",
   "execution_count": null,
   "id": "f5f6c694",
   "metadata": {},
   "outputs": [],
   "source": [
    "soup.find_all(\"dagsordenpunkt\")"
   ]
  },
  {
   "cell_type": "code",
   "execution_count": null,
   "id": "0163a00b",
   "metadata": {},
   "outputs": [],
   "source": [
    "\n",
    "'''    \n",
    "    for dp in range(len(dp_list)):\n",
    "            temp = []\n",
    "            temp.append(dp_list[dp].get_text(separator = ' '))\n",
    "            \n",
    "            content.append(''.join(temp))\n",
    "'''"
   ]
  },
  {
   "cell_type": "markdown",
   "id": "0ce9990b",
   "metadata": {},
   "source": [
    "# content fixed single"
   ]
  },
  {
   "cell_type": "code",
   "execution_count": 60,
   "id": "118c5b91",
   "metadata": {},
   "outputs": [],
   "source": [
    "dagspunkt_list = soup.find_all(\"dagsordenpunkt\") # liste med dagsordenpunkter"
   ]
  },
  {
   "cell_type": "code",
   "execution_count": 62,
   "id": "225272ec",
   "metadata": {
    "scrolled": true
   },
   "outputs": [
    {
     "data": {
      "text/plain": [
       "<dagsordenpunkt><metaftagendaitem><itemno>0</itemno><ftcase></ftcase><ftcasenumber></ftcasenumber><ftcasetype>FM</ftcasetype><ftcasestage></ftcasestage><shorttitle>Punkt 0</shorttitle></metaftagendaitem><punkttekst><exitus><linea><char></char></linea></exitus></punkttekst><aktivitet><rubrica><linea><char>Meddelelser fra formanden</char></linea></rubrica><tale><taler><metaspeakermp><oratorfirstname>Holger K.</oratorfirstname><oratorlastname>Nielsen</oratorlastname><groupnameshort>SF</groupnameshort><oratorrole>formand</oratorrole></metaspeakermp><talertitel><linea><char>Tredje næstformand</char><char> (Holger K. Nielsen)</char></linea></talertitel></taler><talesegment><metaspeechsegment><lastmodified>2011-01-18T14:15:16</lastmodified><edixistatus>Typeset</edixistatus><startdatetime>2010-05-31T10:00:02</startdatetime><enddatetime>2010-05-31T10:00:26</enddatetime></metaspeechsegment><tekstgruppe><exitus><linea><char>Mødet er åbnet.</char></linea></exitus></tekstgruppe><tekstgruppe><exitus><linea><char>Finansudvalget har afgivet:</char></linea></exitus></tekstgruppe><tekstgruppe><exitus><linea><char>Betænkning og indstilling vedrørende forslag til folketingsbeslutning i henhold til grundlovens § 47 med hensyn til statsregnskabet for finansåret 2008.</char></linea></exitus><exitus><linea><char>(Beslutningsforslag nr.</char></linea><linea><char>B 248).</char></linea></exitus></tekstgruppe><tekstgruppe><exitus><linea><char>Betænkningen og indstillingen vil fremgå af www.folketingstidende.dk.</char></linea></exitus></tekstgruppe></talesegment></tale></aktivitet></dagsordenpunkt>"
      ]
     },
     "execution_count": 62,
     "metadata": {},
     "output_type": "execute_result"
    }
   ],
   "source": [
    "dagspunkt_list[0]"
   ]
  },
  {
   "cell_type": "code",
   "execution_count": 74,
   "id": "24964311",
   "metadata": {},
   "outputs": [],
   "source": [
    "sentences_xml = dagspunkt_list[0].find_all(\"linea\")"
   ]
  },
  {
   "cell_type": "code",
   "execution_count": 90,
   "id": "aca00724",
   "metadata": {},
   "outputs": [],
   "source": [
    "sentences = []"
   ]
  },
  {
   "cell_type": "code",
   "execution_count": 87,
   "id": "86e34f2e",
   "metadata": {},
   "outputs": [],
   "source": [
    "for sentence in sentences_xml:\n",
    "    sentences.append(sentence.get_text(separator = ' '))\n",
    "    con = ' '.join(sentences)"
   ]
  },
  {
   "cell_type": "code",
   "execution_count": 89,
   "id": "c25915a2",
   "metadata": {
    "scrolled": true
   },
   "outputs": [
    {
     "data": {
      "text/plain": [
       "' Meddelelser fra formanden Tredje næstformand  (Holger K. Nielsen) Mødet er åbnet. Finansudvalget har afgivet: Betænkning og indstilling vedrørende forslag til folketingsbeslutning i henhold til grundlovens § 47 med hensyn til statsregnskabet for finansåret 2008. (Beslutningsforslag nr. B 248). Betænkningen og indstillingen vil fremgå af www.folketingstidende.dk.'"
      ]
     },
     "execution_count": 89,
     "metadata": {},
     "output_type": "execute_result"
    }
   ],
   "source": [
    "con"
   ]
  },
  {
   "cell_type": "markdown",
   "id": "1edba99a",
   "metadata": {},
   "source": [
    "# content fixed single"
   ]
  },
  {
   "cell_type": "code",
   "execution_count": 68,
   "id": "0be57100",
   "metadata": {},
   "outputs": [
    {
     "ename": "TypeError",
     "evalue": "sequence item 0: expected str instance, Tag found",
     "output_type": "error",
     "traceback": [
      "\u001b[0;31m---------------------------------------------------------------------------\u001b[0m",
      "\u001b[0;31mTypeError\u001b[0m                                 Traceback (most recent call last)",
      "\u001b[0;32m<ipython-input-68-b5875f609b12>\u001b[0m in \u001b[0;36m<module>\u001b[0;34m\u001b[0m\n\u001b[0;32m----> 1\u001b[0;31m \u001b[0mcontent\u001b[0m\u001b[0;34m.\u001b[0m\u001b[0mappend\u001b[0m\u001b[0;34m(\u001b[0m\u001b[0;34m''\u001b[0m\u001b[0;34m.\u001b[0m\u001b[0mjoin\u001b[0m\u001b[0;34m(\u001b[0m\u001b[0msentences\u001b[0m\u001b[0;34m)\u001b[0m\u001b[0;34m)\u001b[0m\u001b[0;34m\u001b[0m\u001b[0;34m\u001b[0m\u001b[0m\n\u001b[0m",
      "\u001b[0;31mTypeError\u001b[0m: sequence item 0: expected str instance, Tag found"
     ]
    }
   ],
   "source": [
    "content.append(''.join(sentences))"
   ]
  },
  {
   "cell_type": "code",
   "execution_count": 67,
   "id": "aa7f1247",
   "metadata": {},
   "outputs": [],
   "source": [
    "content = []"
   ]
  },
  {
   "cell_type": "code",
   "execution_count": 58,
   "id": "bffa7530",
   "metadata": {},
   "outputs": [],
   "source": [
    "dagspunkt_list = soup.find_all(\"dagsordenpunkt\") # liste med dagsordenpunkter\n",
    "\n",
    "for dagspunkt in dagspunkt_list:\n",
    "    sentence_list = dagspunkt.find_all(\"linea\") # liste med sætningerne\n",
    "\n",
    "    for sentence in range(len(sentence_list)): # for hver sætning, get_text()\n",
    "        temp = []\n",
    "        temp.append(sentence_list[sentence].get_text(separator = ' '))\n",
    "        content.append(''.join(temp))"
   ]
  },
  {
   "cell_type": "code",
   "execution_count": 59,
   "id": "37e44d4f",
   "metadata": {},
   "outputs": [
    {
     "data": {
      "text/plain": [
       "['',\n",
       " 'Meddelelser fra formanden',\n",
       " 'Tredje næstformand  (Holger K. Nielsen)',\n",
       " 'Mødet er åbnet.',\n",
       " 'Finansudvalget har afgivet:',\n",
       " 'Betænkning og indstilling vedrørende forslag til folketingsbeslutning i henhold til grundlovens § 47 med hensyn til statsregnskabet for finansåret 2008.',\n",
       " '(Beslutningsforslag nr.',\n",
       " 'B 248).',\n",
       " 'Betænkningen og indstillingen vil fremgå af www.folketingstidende.dk.',\n",
       " 'Det første punkt på dagsordenen er:',\n",
       " '1) 1. behandling af lovforslag nr. L 222:',\n",
       " 'Forslag til lov om ændring af lov om arbejdsløshedsforsikring m.v. (Nedsættelse af dagpengeperioden).',\n",
       " 'Af beskæftigelsesministeren (Inger Støjberg).',\n",
       " '(Fremsættelse 27.05.2010).',\n",
       " 'Forhandling',\n",
       " 'Tredje næstformand  (Holger K. Nielsen)',\n",
       " 'Forhandlingen er åbnet.',\n",
       " 'Fru Ulla Tørnæs som ordfører for Venstre.',\n",
       " 'Ulla Tørnæs  (V)',\n",
       " 'Ordfører',\n",
       " 'Regeringen har sammen med Dansk Folkeparti indgået en ansvarlig og helt igennem nødvendig aftale om genopretning af dansk økonomi.',\n",
       " 'Med genopretningspakken betaler vi regningen en gang for alle, og vi viser, at Danmark har styr på økonomien.',\n",
       " 'Planen er lavet så lempelig som muligt, men når man skal betale en regning på 24 mia.',\n",
       " 'kr., kan det mærkes af alle.',\n",
       " 'Det er ikke nemt, men det er nødvendigt.',\n",
       " 'Vi vil ikke sådan som Socialdemokraterne og Socialistisk Folkeparti lukke øjnene for den økonomiske virkelighed og se bort fra de krav, som EU stiller til os om at nedbringe vores offentlige underskud.',\n",
       " 'Danmark er en åben økonomi, og hvis ikke vi betaler regningen nu, risikerer vi højere renter og spekulation mod kronen og finansiel uro.',\n",
       " 'Det vil ramme boligejerne, det vil ramme virksomhederne, og det vil koste danske arbejdspladser.',\n",
       " 'Det har vi ganske enkelt ikke råd til.',\n",
       " 'Ikke nok med det, så forsøger Socialdemokraterne og Socialistisk Folkeparti at foregøgle danskerne, at vi bare skal arbejde en lillebitte smule ekstra engang ud i fremtiden, og så er alle økonomiske problemer løst.',\n",
       " 'Nej, Socialdemokraternes og Socialistisk Folkepartis planer er rene luftkasteller og er blottet for konkrete svar på, hvordan vi løser de økonomiske udfordringer, som vi står over for her og nu.',\n",
       " 'Med genopretningspakken betales regningen en gang for alle.',\n",
       " 'Et væsentligt led i aftalen er en samlet dagpengereform, som indebærer den nedsættelse af dagpengeperioden fra 4 år til 2 år, som L 222 handler om.',\n",
       " 'Dagpengereformen omhandler desuden en harmonisering af optjenings- og genoptjeningskravet for ret til dagpenge til 52 uger inden for 3 år og en ændring af beregningsperioden fra en 3-måneders- til en 12-måneders-periode.',\n",
       " 'Det er vigtigt for Venstre at sikre, at de borgere, som bliver berørt af dagpengereformen, også får mulighed for at vurdere deres samlede situation efter reformens ikrafttræden og dermed har mulighed for at indrette sig på reformens samlede konsekvenser.',\n",
       " 'Derfor vil regeringen på onsdag fremsætte et selvstændigt lovforslag om de to øvrige elementer af dagpengereformen, nemlig forslaget om harmonisering af beregningsperioden.',\n",
       " 'Med forslaget her, altså L 222, bidrager vi på kort sigt til genopretningen af dansk økonomi, men samtidig bidrager vi med en ganske betydelig udvidelse af arbejdsstyrken, idet beskæftigelsen vil forøges med helt op til 13.000 fuldtidspersoner, et væsentligt bidrag til at sikre det fremtidige arbejdsudbud og dermed også et væsentligt bidrag i forbindelse med diskussionen om, hvordan vi sikrer den nødvendige arbejdskraft i fremtiden.',\n",
       " 'For vi ved jo, at det er de store efterkrigsårgange, der i øjeblikket er på vej på pension, og at de skal afløses af de små ungdomsårgange, der i øjeblikket er på vej ud på arbejdsmarkedet.',\n",
       " 'Med en dagpengeperiode på 2 år vil Danmark fortsat have en lang dagpengeperiode sammenlignet med andre lande.',\n",
       " 'Vi vil være på niveau med f.eks.',\n",
       " 'Norge og Finland, der ligeledes har 2 år, men vi vil fortsat have en længere dagpengeperiode end Sverige, Holland og Tyskland.',\n",
       " 'Vores dagpengesystem er en væsentlig forudsætning for vores fleksible arbejdsmarked, og den aktive arbejdsmarkedspolitik, der bygger på ret og pligt, er helt afgørende for at sikre, at ledige vender tilbage til arbejdsmarkedet så hurtigt som muligt, bliver selvforsørgende og ikke kommer til at hænge fast i offentlig forsørgelse og dermed udstødt fra arbejdsmarkedet.',\n",
       " 'Nu vil Socialdemokraterne og Socialistisk Folkeparti sammen med vennerne fra Enhedslisten sikkert om lidt himle op om, at regeringen er ved at grave den sociale massegrav, og at vi vil stille de ledige dårligere.',\n",
       " 'Dertil vil jeg gerne understrege, at langt de fleste ledige faktisk forlader dagpengesystemet, inden der er gået 2 år.',\n",
       " 'Rent faktisk viser et øjebliksbillede fra første uge i marts 2010, at 94 pct.',\n",
       " 'havde en dagpengeanciennitet på mindre end 2 år.',\n",
       " 'Med andre ord, langt, langt hovedparten når altså at komme i beskæftigelse inden for de første 2 år.',\n",
       " 'Da den socialdemokratiske regering i 1998 afkortede dagpengeperioden, blev det lagt til grund, at de ledige ville komme hurtigere i arbejde.',\n",
       " 'Det holdt stik, og der er absolut ingen grund til at antage, at det ikke skulle forholde sig tilsvarende i 2010.',\n",
       " 'Det er velkendt, som også de økonomiske vismænd flere gange har påpeget, at søgemønsteret hos den ledige typisk ændres.',\n",
       " 'Erfaringer viser, at omkring udløbet af dagpengeperioden stiger søgeaktiviteten typisk til niveau over gennemsnittet, og derfor overgår de, der står til at miste dagpengeretten, til beskæftigelse i nærmest samme grad som nyledige, et synspunkt, som også blev fremført af Arbejdsmarkedskommissionen, der i sin rapport sidste år gav en klar og utvetydig anbefaling om afkortning af dagpengeperioden.',\n",
       " 'Der var meget mere, der kunne siges, men jeg kan se på den ivrige spørgeliste, at det bliver der nok lejlighed til at komme ind på.',\n",
       " 'Tredje næstformand  (Holger K. Nielsen)',\n",
       " 'Det tror jeg bestemt der gør.',\n",
       " 'Der er en række korte bemærkninger, først er det hr.',\n",
       " 'Torben Hansen.',\n",
       " 'Torben Hansen  (S)',\n",
       " 'Tak, hr.',\n",
       " 'formand.',\n",
       " 'Det skal ikke være nogen hemmelighed, at Socialdemokratiet synes, det her er et meget usympatisk forslag.',\n",
       " 'Og så kan jeg også høre, at Venstres arbejdsmarkedsordfører pakker det ind i, at det her er det fleksible arbejdsmarked og sådan noget, men jeg har meget svært ved at se, Socialdemokratiet har meget svært ved at se, at man gør arbejdsmarkedet mere fleksibelt, ved at man forkorter dagpengeperioden, tværtimod.',\n",
       " 'Men det, man jo også kan se i selve forslaget, er rent faktisk, at regeringen regner med, at man, når det her er fuldt indfaset, skal bruge 1,5 mia.',\n",
       " 'kr.',\n",
       " 'minimum på kontanthjælp.',\n",
       " '1:',\n",
       " 'Hvor mange regner man med der kommer på kontanthjælp efter det her forslag og dermed længere væk fra arbejdsmarkedet?',\n",
       " 'Og 2:',\n",
       " 'Hvor mange regner man med der falder ud af dagpengesystemet, men som ikke er berettiget til kontanthjælp?',\n",
       " 'Det må man jo vide, siden man kan skrive ind, at der i hvert fald kommer ekstraudgifter på minimum 1,5 mia.',\n",
       " 'kr.',\n",
       " 'Tredje næstformand  (Holger K. Nielsen)',\n",
       " 'Ordføreren.',\n",
       " 'Ulla Tørnæs  (V)',\n",
       " 'Som jeg nævnte, er referencen sådan set til, hvad den tidligere socialdemokratiske regering gennemførte, da man forkortede dagpengeperioden tilbage i 1998.',\n",
       " 'Da antog man nøjagtig det samme, som vi antager i dag, nemlig at søgemønsteret blandt de ledige ændrer sig, og at de dermed kommer hurtigere tilbage i beskæftigelse, hvilket jo rent faktisk er formålet med vores aktive arbejdsmarkedspolitik.',\n",
       " 'Så når hr.',\n",
       " 'Torben Hansen spørger, hvor mange vi regner med der kommer på kontanthjælp, vil jeg sige, at vi sådan set ikke har grund til at antage, at der kommer flere end det, som vi ser i dag, nemlig omkring 1.000.',\n",
       " 'Det var det tal, der også var gældende tilbage i 1998, da man senest afkortede dagpengeperioden, og der er sådan set ikke noget belæg for at tro, at det ikke forholder sig nøjagtig ligesådan i 2010.',\n",
       " 'Tredje næstformand  (Holger K. Nielsen)',\n",
       " 'Hr.',\n",
       " 'Torben Hansen.',\n",
       " 'Torben Hansen  (S)',\n",
       " 'Tak, hr.',\n",
       " 'formand.',\n",
       " 'Jamen jeg forstår simpelt hen ikke det, ordføreren siger, for det fremgår klart af bemærkningerne til lovforslaget, at man samlet set regner med ekstraudgifter til kontanthjælp på 1,5 mia.',\n",
       " 'kr., når det her er fuldt indfaset.',\n",
       " 'Og det siger man så skal fordeles på 1.000 kontanthjælpsmodtagere.',\n",
       " 'Det tror jeg faktisk ikke helt hænger sammen; det er en noget voldsom kontanthjælp, de ville få ud af det.',\n",
       " 'Det korte af det lange er vel, at det her producerer folk, der kommer på kontanthjælp, og som falder ud af dagpengesystemet, hvilket gør, at det dér, man tager rundt med i skåltaler om det fleksible arbejdsmarked, og som Venstres ordfører også har med i sin tale, slet ikke eksisterer.',\n",
       " 'Så mine spørgsmål er igen:',\n",
       " '1) Hvor mange regner man med der falder ud af dagpengesystemet og kommer på kontanthjælp?',\n",
       " 'Og 2) Hvor mange regner man med der falder ud af dagpengesystemet, og som ikke engang kan få kontanthjælp, men som falder fuldstændig ud af systemet?',\n",
       " 'Det må jo være noget, som man kan svare på, når man har siddet bag lukkede døre og forhandlet det.',\n",
       " 'Tredje næstformand  (Holger K. Nielsen)',\n",
       " 'Ordføreren.',\n",
       " 'Ulla Tørnæs  (V)',\n",
       " 'Jamen jeg har sådan set svaret på det.',\n",
       " 'Altså, man regner med, at omkring 1.000 personer, mellem 1.000 og 2.000 personer falder ud af dagpengesystemet i dag, og deraf kommer en tredjedel på kontanthjælp.',\n",
       " 'Og det forventer vi sådan set vil være det samme.',\n",
       " 'Tredje næstformand  (Holger K. Nielsen)',\n",
       " 'Hr.',\n",
       " 'Anders Samuelsen for en kort bemærkning.',\n",
       " 'Anders Samuelsen  (LA)',\n",
       " 'Tak for det.',\n",
       " 'Først og fremmest vil jeg sige, at jeg synes, det er fint, at vi får mulighed for at stemme ja til det her forslag.',\n",
       " 'Det er jo ikke mere end 4-5 uger siden, at Liberal Alliance fremsatte præcis det forslag i Folketingssalen, og da var der et klart nej fra VKO og fra S og SF.',\n",
       " 'Jeg tror, De Radikale endte med at stemme blankt til forslaget.',\n",
       " 'Men nu er der da opbakning til det, og det viser jo, at det er muligt at flytte tingene.',\n",
       " 'Fint nok så langt.',\n",
       " 'Men jeg tager lige fat i starten på ordførertalen, hvor der blev sagt, at vi nu betaler regningen en gang for alle.',\n",
       " 'Er det en tilfredsstillende måde, når man skal finde 24 mia.',\n",
       " 'kr., at man åbenbart ikke kan finde 24 mia.',\n",
       " 'kr.',\n",
       " 'ud af et samlet forbrug på 1.000 mia.',\n",
       " 'kr.',\n",
       " 'og derfor føler sig nødsaget til at hæve skatterne med 11 mia.',\n",
       " 'kr.?',\n",
       " 'Er det god borgerlig-liberal politik?',\n",
       " 'Tredje næstformand  (Holger K. Nielsen)',\n",
       " 'Ordføreren.',\n",
       " 'Ulla Tørnæs  (V)',\n",
       " 'Jeg mener faktisk, at genopretningspakken er udtryk for god borgerlig-liberal politik.',\n",
       " 'Og det lovforslag, som vi behandler her, er, synes jeg, i særdeleshed udtryk for god borgerlig-liberal politik, al den stund at vi bidrager til at sikre, at arbejdsudbuddet vil forøges med 13.000 fuldtidsbeskæftigede, og vi sikrer, at de ledige kommer hurtigere ud på arbejdsmarkedet.',\n",
       " 'Så jeg synes faktisk, det er udtryk for rigtig god borgerlig-liberal politik.',\n",
       " 'Tredje næstformand  (Holger K. Nielsen)',\n",
       " 'Hr.',\n",
       " 'Anders Samuelsen.',\n",
       " 'Anders Samuelsen  (LA)',\n",
       " 'Når jeg tager fat i det, er det, fordi vi ved, at det faktisk er væsentligt, at man, når man laver den her slags øvelser, samtidig sørger for, at der kommer en ordentlig vækstpolitik, at man skaber nye arbejdspladser.',\n",
       " 'Sagen er jo, at når man hæver skatterne med 11 mia.',\n",
       " 'kr., som VKO har besluttet sig for at gøre, koster det ca.',\n",
       " '10.000 arbejdspladser.',\n",
       " 'Er det tilfredsstillende?',\n",
       " 'Og er det tilfredsstillende, at vi går fra, at der er lidt under 600.000, som betaler topskat, til, at der er over 850.000 i 2013, der pludselig betaler topskat, og at det altså koster nogle af de arbejdspladser, som jo gerne skulle være til rådighed for de folk, som nu får en kortere dagpengeperiode?',\n",
       " 'Er det også god borgerlig-liberal politik, at der er så mange ekstra, som nu kommer til at betale topskat, og at det dermed kommer til at koste arbejdspladser?',\n",
       " 'Tredje næstformand  (Holger K. Nielsen)',\n",
       " 'Ordføreren.',\n",
       " 'Ulla Tørnæs  (V)',\n",
       " 'Som hr.',\n",
       " 'Anders Samuelsen udmærket er klar over, har det faktisk været magtpåliggende for regeringen at sikre, at alle dele af det danske samfund bidrager til genopretningen af den danske økonomi, og derfor har vi valgt at udskyde indfasningen at topskattelettelserne i 3 år.',\n",
       " 'Det mener jeg faktisk er meget rimeligt, set i lyset af at vi altså står over for en økonomisk regning, som alle i det danske samfund bør bidrage til at finansiere.',\n",
       " 'Tredje næstformand  (Holger K. Nielsen)',\n",
       " 'Fru Line Barfod for en kort bemærkning.',\n",
       " 'Line Barfod  (EL)',\n",
       " 'Det er svært at se, at det er alle i samfundet, der kommer til at bidrage.',\n",
       " 'Det virker helt klart, som om det, regeringen opfatter som alle, er alle andre, nemlig de fattige, børnefamilierne, dem med handicappede børn osv., så det er dem, der har det allersværest, der kommer til at betale mest.',\n",
       " 'Jeg kan forstå, at ordføreren siger, at grunden til, at der skal skæres i dagpengene, er, at der kommer flere i arbejde, så derfor har jeg et par konkrete spørgsmål, for det første:',\n",
       " 'Hvad er det helt konkret for nogle job, Venstre har tænkt sig at skaffe til de her mennesker?',\n",
       " 'Når man samtidig siger, at der skal fyres ude i kommunerne, kan det jo ikke være offentlige job, så hvad er det helt konkret for nogle job, Venstre vil skaffe til de her mennesker?',\n",
       " 'For det andet:',\n",
       " 'Den måde, Venstre forestiller sig der bliver job på, er, at når folk oplever, at de har valget mellem at gå ud og tage et underbetalt arbejde med elendige arbejdsvilkår eller at ryge på kontanthjælp eller ingenting, så tager de det underbetalte job.',\n",
       " 'Så er det her i virkeligheden ikke udtryk for, at Venstre ønsker at presse løn- og arbejdsvilkår i Danmark?',\n",
       " 'Tredje næstformand  (Holger K. Nielsen)',\n",
       " 'Ordføreren.',\n",
       " 'Ulla Tørnæs  (V)',\n",
       " 'Heldigvis oplever vi jo, at der er nye jobåbninger.',\n",
       " 'Så sent som her i weekenden hørte vi en stor dansk industrivirksomhed melde ud, at de nu hyrede et stort antal nye medarbejdere.',\n",
       " 'Der er heldigvis gode og positive tegn i den danske økonomi, så jeg tror da helt sikkert, at vi vil se, at der vil blive nye job, også nye jobmuligheder.',\n",
       " 'Samtidig nævnte jeg også i min ordførertale den demografiske udvikling, som vi står over for, altså det, at der vil blive mangel på arbejdskraft.',\n",
       " 'Det vil jo betyde, at det vil blive lettere for folk, som af den ene eller den anden årsag midlertidigt bliver ledige, at komme tilbage på arbejdsmarkedet.',\n",
       " 'Tredje næstformand  (Holger K. Nielsen)',\n",
       " 'Fru Line Barfod.',\n",
       " 'Line Barfod  (EL)',\n",
       " 'Ordføreren svarede ikke på mit spørgsmål.',\n",
       " 'Når nu en arbejdsløs murer ikke kan få arbejde og kan se, at han vil falde for 2-års-reglen med dagpengene og kommer til at gå på kontanthjælp – hvilket han så ikke kan få, fordi han har en kone, der heldigvis stadig har et arbejde – og at de bliver nødt til at gå fra hus og hjem, hvis ikke han begynder at tjene penge, er regeringens håb så, at han går ud og tager et job til underbetaling, som hverken lever op til løn- eller arbejdsvilkår efter overenskomsten?',\n",
       " 'Er det den måde, Venstre ønsker at der skal komme flere i arbejde på?',\n",
       " 'Er det, man egentlig er ude efter med den her forringelse af dagpengene, at man får undergravet de danske løn- og arbejdsvilkår?',\n",
       " 'Tredje næstformand  (Holger K. Nielsen)',\n",
       " 'Ordføreren.',\n",
       " 'Ulla Tørnæs  (V)',\n",
       " 'Det, som fru Line Barfod fuldstændig ser bort fra, er, at regeringen jo netop har indgået en aftale om en helt ekstraordinær indsats for at forebygge langtidsledighed.',\n",
       " 'Vi har faktisk sammen med Dansk Folkeparti og Det Radikale Venstre afsat 500 mio.',\n",
       " 'kr.',\n",
       " 'til en helt ekstraordinær indsats, som netop skal bidrage til, at folk ikke kommer til at hænge fast i dagpengesystemet, men at man får nye muligheder med hensyn til uddannelse og kompetenceløft, og at jobcentrene får bedre muligheder for at få en tæt virksomhedskontakt med henblik på netop at sikre, at de ledige hurtigt kommer i job ude i virksomhederne.',\n",
       " 'Tredje næstformand  (Holger K. Nielsen)',\n",
       " 'Hr.',\n",
       " 'Eigil Andersen.',\n",
       " 'Eigil Andersen  (SF)',\n",
       " 'Der er jo ingen tvivl om, at der er mange arbejdsløse, mange, mange flere end dem, som Venstres ordfører her siger, som vil havne på kontanthjælp eller på 0,00 kr.',\n",
       " 'pr.',\n",
       " 'måned, fordi de ikke har ret til kontanthjælp, den dag de kun 2 år på dagpenge er udløbet.',\n",
       " 'For det afhænger jo af beskæftigelsessituationen, om der vil være job til dem.',\n",
       " 'Venstres politik skifter, som vinden blæser.',\n",
       " 'Den 6.',\n",
       " 'april var der debat her i Folketingssalen om dagpengeperioden, hvor Venstre sagde nej til at forkorte dagpengeperioden fra 4 år til 2 år, og fru Ulla Tørnæs sagde ordret:',\n",
       " '»Beskæftigelsessituationen har jo ændret sig ganske væsentligt, siden Arbejdsmarkedskommissionen blev nedsat tilbage i 2007.',\n",
       " 'Derfor er tiden ikke inde til forringelser af dagpengeperioden.«',\n",
       " 'Den er ikke inde til forringelser af dagpengeperioden.',\n",
       " 'Det sagde fru Ulla Tørnæs for under 2 måneder siden.',\n",
       " 'Hvad er der sket siden, som gør, at man nu har et andet syn på beskæftigelsessituationen?',\n",
       " 'Tredje næstformand  (Holger K. Nielsen)',\n",
       " 'Ordføreren.',\n",
       " 'Ulla Tørnæs  (V)',\n",
       " 'Som nævnt har vi gjort en helt ekstraordinær indsats til bekæmpelse af langtidsledighed.',\n",
       " 'Det er det ene, og det andet er, at hvis man ser på netop ledighedstallene, kan man se, at vi faktisk oplevede, at for apriltallet var det den femte måned i træk,  hvor der var sket en stigning i beskæftigelsen.',\n",
       " 'Så vi er sådan set på rette vej, lad mig sige det sådan.',\n",
       " 'Vi så også med finansministerens budgetredegørelse forleden, at der er positive tegn i den danske økonomi.',\n",
       " 'Der er en gryende – hvad kan man sige?',\n",
       " '– optimisme, og det synes jeg da at vi skal glæde os over.',\n",
       " 'Tredje næstformand  (Holger K. Nielsen)',\n",
       " 'Hr.',\n",
       " 'Eigil Andersen.',\n",
       " 'Eigil Andersen  (SF)',\n",
       " 'Den aftale, der er lavet med hensyn til langtidsledige, indeholder for en stor dels vedkommende gamle penge, som man bruger på en anden måde, og meget af det vil ikke komme til at virke på grund af de refusionssystemer, som den her regering har lavet over for kommunerne.',\n",
       " 'Med hensyn til beskæftigelsessituationen er det, der er sket her den senere tid, jo kosmetisk.',\n",
       " 'Jeg har opfattet Venstre som et parti, der forsøgte at være socialt ansvarligt, som ville tale ind over midten i dansk politik til mennesker, der lægger vægt på, at vi har en ordentlig velfærd og også redder de svageste, som kommer på den.',\n",
       " 'Men her støder man altså titusinder af mennesker ud i mørket ved at fjerne deres dagpenge efter 2 år.',\n",
       " 'Hvordan er det gået til, at Venstre er blevet et så asocialt parti?',\n",
       " 'Tredje næstformand  (Holger K. Nielsen)',\n",
       " 'Ordføreren.',\n",
       " 'Ulla Tørnæs  (V)',\n",
       " 'Jeg vil på det kraftigste afvise, at Venstre skulle være et asocialt parti.',\n",
       " 'Og skulle det være tilfældet – hvilket jeg ikke er enig med hr.',\n",
       " 'Eigil Andersen i – må hr.',\n",
       " 'Eigil Andersen jo også mene, at Socialdemokraterne er et asocialt parti, al den stund ledigheden faktisk var væsentlig højere, end den er i dag, da man sidst afkortede dagpengeperioden.',\n",
       " 'Tredje næstformand  (Holger K. Nielsen)',\n",
       " 'Hr.',\n",
       " 'Magnus Heunicke.',\n",
       " 'Magnus Heunicke  (S)',\n",
       " 'Tak for det.',\n",
       " 'Jeg sidder her med nogle beregninger, som handler om, hvad den her dagpengeforkortelse betyder for en ganske almindelig LO-familie, og det betyder jo, at hvis den ene af forældrene i sådan en familie bliver ledig – og sådan en LO-familie har jo altså ikke ret til kontanthjælp – så mister familien 110.000 kr.',\n",
       " 'Hvorfor er det de familier, som skal betale for den fest, som de rigeste har holdt i Danmark?',\n",
       " 'Hvorfor er det til de familier, som knokler for at få hverdagen til at hænge sammen, og som er overalt i Danmark, at regeringen har sagt, at de, som er blevet ledige i en tid med krise, skal betale 110.000 kr.?',\n",
       " 'Det kan mærkes.',\n",
       " 'Tredje næstformand  (Holger K. Nielsen)',\n",
       " 'Ordføreren.',\n",
       " 'Ulla Tørnæs  (V)',\n",
       " 'Men det, som hr.',\n",
       " 'Magnus Heunicke totalt ser bort fra, er jo, hvad der er formålet med den aktive arbejdsmarkedspolitik.',\n",
       " 'Formålet med den aktive arbejdsmarkedspolitik er jo at sikre, at dagpengemodtagere så hurtigt som muligt kommer tilbage på arbejdsmarkedet.',\n",
       " 'Det er ikke et mål i sig selv, at man skal være 4 år i dagpengesystemet.',\n",
       " 'Jeg går da sandelig ud fra, at Socialdemokraterne er enige med Venstre i, at det ikke er et mål i sig selv, at man skal være 4 år i dagpengesystemet.',\n",
       " 'Faktisk tværtimod er det et mål, at man kommer så hurtigt som muligt tilbage i job.',\n",
       " 'Tredje næstformand  (Holger K. Nielsen)',\n",
       " 'Hr.',\n",
       " 'Magnus Heunicke.',\n",
       " 'Magnus Heunicke  (S)',\n",
       " 'Nu taler Venstre om en aktiv arbejdsmarkedspolitik, og det er fint, at man nu kan det ord.',\n",
       " 'Så vil jeg gerne spørge Venstre:',\n",
       " 'Hvor mange tiltag for at fremme en aktiv arbejdsmarkedspolitik er der i den her pakke, som vi nu er samlet for at behandle?',\n",
       " 'Hvor mange ekstraordinære tiltag er der til mere uddannelse?',\n",
       " 'Er det nemlig ikke sådan, at der faktisk er mindre uddannelse?',\n",
       " 'Er det ikke sådan, at der faktisk kun er tiltag, der forringer den aktive arbejdsmarkedspolitik?',\n",
       " 'Kan ordføreren komme med bare et eksempel på, at man har brugt nogle penge på at forbedre en aktiv arbejdsmarkedspolitik, som ordføreren nu siger er det, som skal forklare hele den forringelse på 110.000 kr.',\n",
       " 'for en ganske almindelig dansk familie?',\n",
       " 'Tredje næstformand  (Holger K. Nielsen)',\n",
       " 'Ordføreren.',\n",
       " 'Ulla Tørnæs  (V)',\n",
       " 'Jeg synes, at det er helt synd for hr.',\n",
       " 'Magnus Heunicke, at Socialdemokraterne pantsatte deres handlefrihed og sagde nej til at være med i det initiativ, som netop handler om det, som hr.',\n",
       " 'Magnus Heunicke her efterlyser, nemlig en helt ekstraordinær, målrettet indsats til bekæmpelse af langtidsledighed med øgede muligheder for opkvalificering og kompetenceløft til de ledige.',\n",
       " 'Men det er altså synd for hr.',\n",
       " 'Magnus Heunicke, at hans parti afviste at være med i aftalen, for det er så god en aftale, at jeg kan høre, at hr.',\n",
       " 'Magnus Heunicke sådan set er fuldstændig enig i indholdet i aftalen.',\n",
       " 'Tredje næstformand  (Holger K. Nielsen)',\n",
       " 'Hr.',\n",
       " 'Per Clausen for en kort bemærkning.',\n",
       " 'Per Clausen  (EL)',\n",
       " 'Der er en enkelt ting, jeg ikke forstår, og det er, når fru Ulla Tørnæs siger, at det her ikke fører til, at nogen kommer på kontanthjælp, at det ikke fører til, at nogen ryger ud af dagpengesystemet, der ikke var røget ud alligevel.',\n",
       " 'Hvorfor er det så, man i regeringsforslaget opererer med, at der skal udbetales 1,33 mia.',\n",
       " 'kr.',\n",
       " 'mere i kontanthjælp?',\n",
       " 'Altså, jeg tror, der går ganske mange ekstra kontanthjælpsmodtagere på det beløb.',\n",
       " 'Tredje næstformand  (Holger K. Nielsen)',\n",
       " 'Ordføreren.',\n",
       " 'Ulla Tørnæs  (V)',\n",
       " 'Det er sådan, at ser vi på, hvordan det forholder sig i dag, kan vi se, at der er mellem 1.000-2.000, som falder ud af dagpengesystemet, og heraf går en tredjedel på kontanthjælp.',\n",
       " 'Det kan godt være, at det tal stiger, men det vil maks.',\n",
       " 'stige til 2.000-4.000 personer.',\n",
       " 'Og igen vil jeg gerne understrege, hvad der er formålet med den aktive arbejdsmarkedspolitik, nemlig at sikre, at folk kommer i jobrettet aktivering med mulighed for at komme tilbage på arbejdsmarkedet så hurtigt som muligt.',\n",
       " 'Det var nøjagtig det samme, der gjorde sig gældende sidst, da man afkortede dagpengeperioden.',\n",
       " 'Jeg har også noteret mig, at formanden for LO, hr.',\n",
       " 'Harald Børsting, rent faktisk har understreget, at det med afkortningen af dagpengeperioden i 1998 faktisk lykkedes at sikre, at de ledige kom hurtigere i job, og jeg er overbevist om, at nøjagtig det samme vil ske med den her ændring af dagpengesystemet.',\n",
       " 'Tredje næstformand  (Holger K. Nielsen)',\n",
       " 'Hr.',\n",
       " 'Per Clausen.',\n",
       " 'Per Clausen  (EL)',\n",
       " 'Men så må der være sket noget i genopretningsplanen, som jeg slet ikke har opdaget, for hvis der næsten ikke kommer flere kontanthjælpsmodtagere og man alligevel skal bruge næsten 1,5 mia.',\n",
       " 'kr.',\n",
       " 'på disse næsten ingen kontanthjælpsmodtagere, så må der ligge et forslag om, at man skal forhøje kontanthjælpen dramatisk, som man bare har glemt at få fremsat.',\n",
       " 'Et andet spørgsmål, jeg godt vil stille fru Ulla Tørnæs, er:',\n",
       " 'Er realiteten ikke, når man snakker om dette ændrede søgemønster, at det så præcis handler om det, som fru Line Barfod sagde, nemlig at man har en klar forventning om, at folk, når alternativet til dagpenge er kontanthjælp eller slet ingen penge, så vil være villige til at tage dårligere arbejde til en dårligere betaling, og at man fra regeringens og Dansk Folkepartis side dermed her har lagt op til yderligere social dumping på det danske arbejdsmarked?',\n",
       " 'Tredje næstformand  (Holger K. Nielsen)',\n",
       " 'Ordføreren.',\n",
       " 'Ulla Tørnæs  (V)',\n",
       " 'Nu spørger hr.',\n",
       " 'Per Clausen til det samme, som også hr.',\n",
       " 'Torben Hansen tidligere spurgte til, nemlig de lovtekniske beregninger, som fremgår af lovforslagets bemærkninger.',\n",
       " 'Og er der spørgsmål til dem, mener jeg da helt klart, at de bør stilles i forbindelse med udvalgsbehandlingen, og så er jeg helt sikker på, at både hr.',\n",
       " 'Torben Hansen og hr.',\n",
       " 'Per Clausen kan få en lovteknisk gennemgang af de tal, som fremgår af lovforslagets bemærkninger.',\n",
       " 'Tredje næstformand  (Holger K. Nielsen)',\n",
       " 'Hr.',\n",
       " 'Frank Aaen.',\n",
       " 'Frank Aaen  (EL)',\n",
       " 'Det giver jo sig selv, at hvis man fratager arbejdsløse deres dagpenge og enten giver dem 0 kr.',\n",
       " 'eller sætter dem på kontanthjælp i stedet for, sparer man penge.',\n",
       " 'Det synes jeg ikke er svært at forstå.',\n",
       " 'En del af målsætningen er jo at spare nogle penge ved at tage penge fra arbejdsløse.',\n",
       " 'Det forstår jeg godt.',\n",
       " 'Men så er der noget rent voodoo i bemærkningerne til lovforslaget.',\n",
       " 'Der står »at den strukturelle beskæftigelse vil øges med omkring 13.000 fuldtidspersoner … «.',\n",
       " 'Nu ved jeg ikke rigtig, hvad strukturel beskæftigelse er for noget, men skal det her forstås sådan, at der kommer 13.000 flere arbejdspladser, ved at man halverer dagpengeperioden?',\n",
       " 'Hvis det er tilfældet, hvordan havde ordføreren så tænkt sig at det skulle ske?',\n",
       " 'Tredje næstformand  (Holger K. Nielsen)',\n",
       " 'Ordføreren.',\n",
       " 'Ulla Tørnæs  (V)',\n",
       " 'Det er jo ikke et tal, jeg på nogen måde har opfundet.',\n",
       " 'Det har været nævnt i mange forskellige sammenhænge.',\n",
       " 'Det var også det, som Arbejdsmarkedskommissionen nåede frem til, nemlig at det er det tal, som arbejdsstyrken vil blive øget med, i det øjeblik man afkorter dagpengeperioden med 2 år.',\n",
       " 'Så det er ikke et tal, som blot er grebet ud af den blå luft.',\n",
       " 'Det er som sagt et tal, som også Arbejdsmarkedskommissionen nåede frem til.',\n",
       " 'Tredje næstformand  (Holger K. Nielsen)',\n",
       " 'Hr.',\n",
       " 'Frank Aaen.',\n",
       " 'Frank Aaen  (EL)',\n",
       " 'Nu kan man jo altid henvise til en eller anden beregning og en eller anden rapport, dem er der jo skrevet titusinder af.',\n",
       " 'Politikere bør også have bare lidt almindelig sund fornuft.',\n",
       " 'Jeg spørger bare:',\n",
       " 'Altså, hvordan bliver der skabt 13.000 arbejdspladser?',\n",
       " 'Jeg snakker ikke om, hvor mange der vil have arbejde, dem er der masser af i forvejen.',\n",
       " 'Men hvordan bliver der skabt 13.000 flere arbejdspladser?',\n",
       " 'Altså, hvad er det for en arbejdsgiver, der siger:',\n",
       " 'Jeg opretter lige en ny stilling, fordi dagpengeperioden bliver halveret?',\n",
       " 'Hvor eksisterer den arbejdsgiver?',\n",
       " 'Eller hvad er det for noget voodoo, at det, at man vil halvere dagpengeperioden, skulle betyde, at der kommer 13.000 nye arbejdspladser?',\n",
       " 'Tredje næstformand  (Holger K. Nielsen)',\n",
       " 'Ordføreren.',\n",
       " 'Ulla Tørnæs  (V)',\n",
       " 'Jamen altså, vi så det også sidst, da dagpengeperioden blev forkortet med 1 år.',\n",
       " 'Da kom de ledige også hurtigere i job.',\n",
       " 'For mig er der ikke nogen grund til at antage, at det skulle forholde sig anderledes i 2010, end det gjorde i 1998.',\n",
       " '13.000 var det, Arbejdsmarkedskommissionen vurderede arbejdsstyrken ville øges med, såfremt man halverede dagpengeperioden.',\n",
       " 'Tredje næstformand  (Holger K. Nielsen)',\n",
       " 'Hr.',\n",
       " 'Lennart Damsbo-Andersen.',\n",
       " 'Lennart Damsbo-Andersen  (S)',\n",
       " 'Jeg kan forstå, at når man halverer dagpengene, er der 13.000 mennesker, der maser sig ud på arbejdsmarkedet og tager sig et arbejde et eller andet sted – nogle job, der sandsynligvis ikke er der, men det vil de jo så komme ifølge det, der er beregnet.',\n",
       " 'Men så kan jeg også regne ud, hvor de der 1,5 mia.',\n",
       " 'kr.',\n",
       " 'kommer fra, som skal bruges til at finansiere alle de mennesker, der kommer på kontanthjælp.',\n",
       " 'For det er jo resten af de 25.000, der nu står og har været ledige i mere end 2 år; det er resten af dem, der så skal på kontanthjælp, det er jo det, tallene viser.',\n",
       " 'Så det er såmænd ikke særlig svært at regne ud, men det kan vi jo se efterfølgende.',\n",
       " 'Det, som jeg godt kunne tænke mig at spørge om, er:',\n",
       " 'Hvad er der egentlig sket siden den 6.',\n",
       " 'april, hvor Venstres ordfører stod her på talerstolen og sagde, at der ikke var nogen grund til at gå ind og gøre noget som helst i forhold til dagpengeperioden, fordi beskæftigelsessituationen var så slem, at det ikke var noget, man skulle tage fat i lige her og nu?',\n",
       " 'Tredje næstformand  (Holger K. Nielsen)',\n",
       " 'Ordføreren.',\n",
       " 'Ulla Tørnæs  (V)',\n",
       " 'Jeg vil gerne understrege, at der sådan set ikke er noget nyt i, at det har været et ønske fra regeringens side at ændre dagpengeperioden.',\n",
       " 'I 2008 fremlagde vi faktisk et forslag, som nogenlunde svarer til det, som vi behandler her i dag.',\n",
       " 'Men på daværende tidspunkt var der sorte, sorte udsigter, ikke bare for dansk økonomi, men internationalt, og derfor var det ikke tiden at gennemføre en afkortning af dagpengeperioden.',\n",
       " 'Nu forholder det sig anderledes, der er lysere udsigter, ikke bare for dansk økonomi, men også internationalt, så nu mener vi faktisk, at tiden er til at gennemføre den reform af dagpengesystemet, som vi egentlig lagde op til i 2008.',\n",
       " 'Tredje næstformand  (Holger K. Nielsen)',\n",
       " 'Hr.',\n",
       " 'Lennart Damsbo-Andersen.',\n",
       " 'Lennart Damsbo-Andersen  (S)',\n",
       " 'Det er nyt for mig at høre, at regeringen er begyndt at agere hurtigt, altså, i løbet af under 2 måneder er situationen ændret fuldstændig radikalt, så nu er hele Danmarks situation anderledes, og nu kan man godt reagere og gå ind og halvere dagpengeperioden.',\n",
       " 'Da vi stod her for 2 år siden og sagde til regeringen, at økonomien gik ad Pommern til, og at der ville være stigende ledighed, sagde man dengang:',\n",
       " 'Nej, nej, tag det roligt, der sker ingenting.',\n",
       " 'Da kunne man ikke finde ud af det.',\n",
       " 'De ting, som ordføreren nævnte heroppefra, da det blev behandlet sidste gang, altså initiativer, der var taget for at modvirke den stigende ledighed, må åbenbart ikke have virket, eller hvad pokker er der sket?',\n",
       " 'Altså, ungepakken og langtidsledighedspakken osv.',\n",
       " 'er jo ikke noget nyt, det var jo allerede på tale dengang.',\n",
       " 'Der er jo overhovedet ingen ændringer.',\n",
       " 'Det, der er ændringen, er sådan set kun, at Venstre har besluttet sig for, at nu skal dagpengeperioden forkortes.',\n",
       " 'Tredje næstformand  (Holger K. Nielsen)',\n",
       " 'Ordføreren.',\n",
       " 'Ulla Tørnæs  (V)',\n",
       " 'Ja, altså, som jeg sagde før, er der sådan set ikke noget nyt i, at Venstre og regeringen har ønsket at forkorte dagpengeperioden.',\n",
       " 'Vi har sådan set ønsket at lytte både til de økonomiske vismænd, OECD og senest Arbejdsmarkedskommissionens anbefalinger om, at vi tilretter det danske dagpengesystem, sådan at vi kommer på niveau med andre sammenlignelige lande.',\n",
       " 'Jeg vil bare lige minde om, at vi med det her lovforslag kommer fuldstændig på niveau med bl.a.',\n",
       " 'Norge og Finland, men vi vil fortsat ligge over Tyskland, Sverige og Holland, som også er lande, vi normalt sammenligner os med.',\n",
       " 'Tredje næstformand  (Holger K. Nielsen)',\n",
       " 'Fru Julie Rademacher.',\n",
       " 'Julie Rademacher  (S)',\n",
       " \"I 1990'erne betød en afkortning af dagpengeperioden, at flere kom i beskæftigelse, siger ordføreren; det var med til at reducere den strukturelle arbejdsløshed.\",\n",
       " 'Men dette foregik jo i en opgangsperiode med vækst.',\n",
       " 'I dag er beskæftigelsen, ja, ikke ligefrem stigende, og den sidste arbejdskraftundersøgelse viser, at det fortsat forventes, at ledigheden vil stige yderligere, og selv om der her over weekenden er skabt flere job i Danmark, er økonomerne meget i tvivl om, hvorvidt den her vækst vil komme.',\n",
       " 'Er det ikke korrekt, at hvis man går ind og afkorter dagpengeperioden uden at sikre en fortsat vækst, vil man ikke skabe beskæftigelse?',\n",
       " 'Tredje næstformand  (Holger K. Nielsen)',\n",
       " 'Ordføreren.',\n",
       " 'Ulla Tørnæs  (V)',\n",
       " 'Men nu forholder det sig sådan, at langt de fleste økonomer faktisk har opfordret regeringen til netop at tage det her skridt.',\n",
       " 'Jeg nævnte før de økonomiske vismænd, som faktisk flere gange har opfordret regeringen til at afkorte dagpengeperioden, OECD har gjort det samme, og senest blev det grundigt beskrevet som en anbefaling i Arbejdsmarkedskommissionens rapport, som kom sidste år.',\n",
       " 'Så jeg ved ikke helt, hvad det er for økonomer, fru Julie Rademacher hentyder til, når hun kommer med disse advarende formaninger.',\n",
       " 'Men jeg henholder mig altså til de økonomer, som det er velkendt faktisk igennem en årrække har anbefalet, at vi netop gør det for at sikre, at vi har den arbejdskraft til rådighed, som der bliver brug for, når vi ved, at de store årgange, som i dag er på vej ud af arbejdsmarkedet, skal erstattes af de små ungdomsårgange, som er på vej ind på arbejdsmarkedet.',\n",
       " 'Det er velkendt, og det plejer Socialdemokraterne faktisk også at erkende:',\n",
       " 'at der er brug for arbejdskraft, at der vil være et stigende brug for arbejdskraft i fremtiden.',\n",
       " 'Jeg har også hæftet mig ved, at Socialdemokraterne engang ude i fremtiden vil snakke med fagbevægelsen om, at vi alle sammen skal arbejde 12 minutter mere om dagen.',\n",
       " 'Det må jo også være udtryk for, at Socialdemokraterne dog et eller andet sted erkender, at der muligvis bliver mangel på arbejdskraft i fremtiden.',\n",
       " 'Tredje næstformand  (Holger K. Nielsen)',\n",
       " 'Fru Julie Rademacher.',\n",
       " 'Julie Rademacher  (S)',\n",
       " 'Socialdemokraterne har et klart bud på fremtiden, men for os handler det også om at skaffe job her og nu.',\n",
       " 'Så helt konkret, som flere har spurgt om tidligere:',\n",
       " 'Hvilke job er det præcis, Venstre vil skaffe, hvordan er det, man vil sørge for, at der kommer vækst?',\n",
       " 'For der er jo ingen her, der kan være i tvivl om, at god borgerlig, liberal politik er, at folk bliver straffet ved at blive ledige, og så kommer man oven i købet som en tyv om natten og straffer dem igen, efter at man i en vækstperiode netop i 2003 og også i 2007 har delt skattelettelser ud til de rige.',\n",
       " 'Var det ikke der, man i stedet skulle have tænkt sig lidt om?',\n",
       " 'Man har altså brugt ca.',\n",
       " '20 mia.',\n",
       " 'kr.',\n",
       " 'på ufinansierede skattelettelser, og nu står man og mangler penge, og så er det de svage, der må betale.',\n",
       " 'Hvilke job er det konkret, Venstre vil skaffe her og nu?',\n",
       " 'Tredje næstformand  (Holger K. Nielsen)',\n",
       " 'Ordføreren.',\n",
       " 'Ulla Tørnæs  (V)',\n",
       " 'Jeg må bare konstatere, at fru Julie Rademacher ikke er særlig velopdateret på, hvordan det rent faktisk forholder sig med dansk økonomi.',\n",
       " 'Der er faktisk lysere udsigter for dansk økonomi, og det viser sig rent faktisk også, at ledigheden falder, det har den rent faktisk gjort i de seneste 5 måneder, og det til trods for at vi jo alle havde frygtet, at den ville blive ved med at stige.',\n",
       " 'Det var, hvad økonomer forudsagde tilbage i bl.a.',\n",
       " '2008, hvor vi jo skrinlagde dagpengereformen, som jeg var inde på tidligere.',\n",
       " 'Jeg må altså konstatere, at fru Julie Rademacher ikke er opdateret på, hvordan det rent faktisk forholder sig, ikke bare med dansk økonomi, men også internationalt, hvor der er lysere udsigter.',\n",
       " 'Tredje næstformand  (Holger K. Nielsen)',\n",
       " 'Hr.',\n",
       " 'Mogens Jensen.',\n",
       " 'Mogens Jensen  (S)',\n",
       " 'Det er jo lidt patetisk at høre Venstres arbejdsmarkedsordfører stå her og henvise til, at det var økonomiske nedgangstider, og så kunne man ikke gennemføre en nedsættelse af dagpengeperioden.',\n",
       " 'Man havde altså 7 år med et kæmpe opsving i det her land, hvor man havde mulighed for at gøre det, så hvorfor gjorde man det ikke dengang?',\n",
       " 'Er sandheden ikke, at Venstre også på det her område nu er i gang med at begå klokkeklare løftebrud over for befolkningen, først på skatteområdet, så på ulandsbistanden og altså også på dagpengeområdet, hvor vi ikke skal længere tilbage end til august 2009, før vi hørte en finansminister gå ud og sige, at man ikke ville ændre på dagpengeperioden?',\n",
       " 'Er ordføreren ikke enig i, at det er klokkeklare løftebrud over for befolkningen, som Venstre er i gang med at begå?',\n",
       " 'Tredje næstformand  (Holger K. Nielsen)',\n",
       " 'Ordføreren.',\n",
       " 'Ulla Tørnæs  (V)',\n",
       " 'Jeg aner ikke, hvad hr.',\n",
       " 'Mogens Jensen taler om, når han taler om løftebrud.',\n",
       " 'Det forholder sig rent faktisk sådan, at vi tilbage i 2008 fremlagde en plan for en reform af dagpengesystemet, som nogenlunde svarer til det, der er til behandling i Folketinget i dag.',\n",
       " 'Det er oven i købet efter det seneste folketingsvalg, at vi har fremlagt et forslag til ændring af vores dagpengesystem.',\n",
       " 'Så at tale om løftebrud i den her sammenhæng er helt ude i hegnet, vil jeg sige til hr.',\n",
       " 'Mogens Jensen.',\n",
       " 'Tredje næstformand  (Holger K. Nielsen)',\n",
       " 'Hr.',\n",
       " 'Mogens Jensen.',\n",
       " 'Mogens Jensen  (S)',\n",
       " 'Ja, vi husker jo alle sammen, hvordan det gik med det forslag.',\n",
       " 'Da der kom kritik og man kunne se, at det ikke var populært i befolkningen, trak man forslaget tilbage, og finansministeren bedyrede nok en gang, som han altså også gjorde det i august 2009, at der ikke ville komme til at ske forringelser af dagpengesystemet.',\n",
       " 'Nu sker det så, og enhver i befolkningen kan da se, at der er tale om et løftebrud.',\n",
       " 'Jeg synes heller ikke, at Venstres arbejdsmarkedsordfører har svaret klart på det spørgsmål, der handler om de 1,5 mia.',\n",
       " 'kr., der er nævnt i lovforslaget, til ekstra kontanthjælpsudbetaling.',\n",
       " 'Betyder det ikke, at der kommer temmelig mange flere kontanthjælpsmodtagere ud af det her, som så skal forsørges af det offentlige?',\n",
       " 'Kan ordføreren klart oplyse, hvad de 1,5 mia.',\n",
       " 'kr.',\n",
       " 'dækker over, hvor mange kontanthjælpsmodtagere der bliver ramt af det her, og hvor mange familier der nu skal til at modtage kontanthjælp?',\n",
       " 'Kan vi ikke få et klart svar på det?',\n",
       " 'Tredje næstformand  (Holger K. Nielsen)',\n",
       " 'Ordføreren.',\n",
       " 'Ulla Tørnæs  (V)',\n",
       " 'Altså, som nævnt forstår jeg overhovedet ikke, hvor hr.',\n",
       " 'Mogens Jensen vil hen med sine påstande om løftebrud.',\n",
       " 'Vi har sådan set hele vejen igennem sagt, at vi ville gøre, hvad vi kunne, for at sikre, at arbejdsudbuddet var tilgængeligt og til rådighed for arbejdsmarkedet.',\n",
       " 'Vi ved, at vi står over for kæmpestore udfordringer, når de store årgange forlader arbejdsmarkedet og de små skal erstatte dem.',\n",
       " 'Jeg troede egentlig, at Socialdemokraterne var nået til den erkendelse, at det var en udfordring, som man var nødt til at tage seriøst.',\n",
       " 'Med det her forslag om ændringer af dagpengesystemet bidrager vi altså til holdbarheden i dansk økonomi.',\n",
       " 'Vi udvider arbejdsstyrken med 13.000 fuldtidspersoner, og det er immer væk noget, der vil kunne mærkes på dansk økonomi.',\n",
       " 'Det er jeg ikke et sekund i tvivl om.',\n",
       " 'Med hensyn til bemærkningerne i lovforslaget er det, forstår jeg, lovtekniske beregninger, der er grundlag for bemærkningerne, og jeg vil blot opfordre hr.',\n",
       " 'Mogens Jensen og andre, der har stillet det samme spørgsmål, til at stille spørgsmålet under udvalgsbehandlingen.',\n",
       " 'Tredje næstformand  (Holger K. Nielsen)',\n",
       " 'Hr.',\n",
       " 'Morten Østergaard.',\n",
       " 'Morten Østergaard  (RV)',\n",
       " 'Venstres ordfører startede med at sige, at nu var regningen betalt, og det er jo ikke rigtigt.',\n",
       " '80 pct.',\n",
       " 'af den regning, som regeringen har opgjort frem til 2015, er betalt, og der forestår flere reformer, forstår man på regeringens egen økonomiske redegørelse.',\n",
       " 'Derfor synes jeg, selv om Det Radikale Venstre har sympati for forslaget her, stadig væk, det er værd at hæfte sig ved den proces, som nu har været gennemført, hvor man altså trak en kanin op af hatten i form af den her dagpengereform.',\n",
       " 'Er det den måde, Venstre agter at lave arbejdsmarkedsreformer på også i den kommende tid?',\n",
       " 'Der er tale om en førtidspensionsreform og om en SU-reform, områder, som også berører mange mennesker.',\n",
       " 'Synes Venstres ordfører ikke, det er bedre at tage diskussionen åbent og ærligt med vælgerne i stedet for at slå syv kors for sig og benægte reformbehovet indtil lige den nat, hvor man står og mangler pengene og så kommer frem med aftalen?',\n",
       " 'Tredje næstformand  (Holger K. Nielsen)',\n",
       " 'Ordføreren.',\n",
       " 'Ulla Tørnæs  (V)',\n",
       " 'Vi har faktisk ikke benægtet, at der var behov for reformer.',\n",
       " 'I regeringens arbejdsgrundlag er netop de reformer, som hr.',\n",
       " 'Morten Østergaard her fremhæver, nævnt som områder, hvor vi vil gennemføre reformer for at bidrage til arbejdsudbuddet og dermed sikre, at vi altså har de hænder på det danske arbejdsmarked, der er brug for.',\n",
       " 'Så jo, der er brug for flere reformer, og dem vil vi selvfølgelig også gennemføre som nævnt i regeringens arbejdsgrundlag.',\n",
       " 'Tredje næstformand  (Holger K. Nielsen)',\n",
       " 'Hr.',\n",
       " 'Morten Østergaard.',\n",
       " 'Morten Østergaard  (RV)',\n",
       " 'Jeg må sige, at jeg ikke håber, det er førtidspensionisterne og SU-modtagerne, der skal holde for, hvad angår de sidste 20 pct.',\n",
       " 'af regningen.',\n",
       " 'Hvis det er det, Venstre forestiller sig, bliver det jo en dramatisk affære for de grupper, som godt kan begynde at ligge vågen om natten.',\n",
       " 'Derfor må der jo være andre reformer på tapetet.',\n",
       " 'Jeg kunne selvfølgelig nævne en diskussion om efterlønnen, men jeg ved, at man igen fra Venstres side straks vil slå syv kors for sig.',\n",
       " 'Det er derfor, jeg synes, at Venstres ordfører i dag i det mindste kunne mande sig op til at beklage, at den her reform kom som en trold af en æske, i stedet for at man havde taget en åben og ærlig debat med borgerne, vælgerne og med de andre partier i Folketinget om det.',\n",
       " 'Jeg synes, det er en sølle måde at lave reformer på.',\n",
       " 'Der synes jeg, at man skal forberede det noget grundigere, tage dialogen og gennemføre det i god ro og orden i stedet for som hasteforslag før en sommerferie.',\n",
       " 'Tredje næstformand  (Holger K. Nielsen)',\n",
       " 'Ordføreren.',\n",
       " 'Ulla Tørnæs  (V)',\n",
       " 'Som jeg allerede har nævnt flere gange, svarer de her ændringer jo stort set til de ændringer, som vi fremlagde forslag til tilbage i 2008.',\n",
       " 'Men på grund af den daværende økonomiske situation og udsigten til, at ledigheden ville stige drastisk, valgte vi ikke at gennemføre det på daværende tidspunkt.',\n",
       " 'Så der er ikke noget nyt i, at Venstre og regeringen har ønsket ændringer i dagpengesystemet.',\n",
       " 'Det, jeg synes er vigtigt at understrege her – og det vil jeg sådan set gerne rose og anerkende hr.',\n",
       " 'Morten Østergaard og Det Radikale Venstre for – er, at vi i fællesskab har strikket en pakke sammen til bekæmpelse af langtidsledighed, for tingene skal selvfølgelig ses i sammenhæng.',\n",
       " 'Afkortningen af dagpengeperioden betyder selvfølgelig, at der er brug for en helt ekstraordinær indsats for netop at sikre, at folk får de kvalifikationer og de kompetencer, som der er brug for, for at de kan vende tilbage til arbejdsmarkedet.',\n",
       " 'Noget af det har vi fundet svaret på i den pakke, som vi i fællesskab har strikket sammen i forbindelse med langtidsledighed, og tak til Det Radikale Venstre for det udviste mod til at være med i den pakke.',\n",
       " 'Man kan jo så undre sig over, at Socialdemokraterne valgte at tænke valgkamp og ikke tænke på de ledige.',\n",
       " 'Tredje næstformand  (Holger K. Nielsen)',\n",
       " 'Hr.',\n",
       " 'Ole Hækkerup.',\n",
       " 'Ole Hækkerup  (S)',\n",
       " 'Ordføreren sagde lidt tidligere det her med, at der nok ville være lidt flere, der kom på kontanthjælp, og det ville også være mærkeligt andet, ellers ville der jo ikke være den besparelse, regeringen regner med.',\n",
       " \"Samtidig planlægger regeringen, at der skal fyres 8.000 i kommunerne, og det er næppe nyt for ordføreren, at en stor del af dem, der netop er i beskæftigelse i kommunerne, er sidst i 50'erne.\",\n",
       " 'Det vil sige, at vi står i en situation, hvor regeringen planlægger, at der skal afskediges nogle folk i kommunerne, som man godt ved er 56-57 år, og samtidig indfører man så, at de kan få dagpenge i en meget kortere periode.',\n",
       " 'Mit spørgsmål til ordføreren er:',\n",
       " 'Når man ser de to beslutninger sammen, hvor er så retfærdigheden i det?',\n",
       " 'Tredje næstformand  (Holger K. Nielsen)',\n",
       " 'Ordføreren.',\n",
       " 'Ulla Tørnæs  (V)',\n",
       " 'Jamen det er simpelt hen fantastisk.',\n",
       " 'Altså, nu hører jeg igen et medlem af Socialdemokratiet, som fuldstændig ser bort fra alle de ændringer, der er sket i dagpengesystemet med den aktive arbejdsmarkedspolitik, alle de ændringer, der i dag betyder, at man jo har ret til aktivering og ret til at få forskellige ydelser hos jobcenteret med henblik på at sikre, at man kan vende tilbage i job.',\n",
       " 'Det gør sig også gældende for den 55-årige, som bliver afskediget fra et kommunalt job.',\n",
       " 'Da har man naturligvis nøjagtig de samme rettigheder og dermed også de samme muligheder for at kunne vende tilbage i job.',\n",
       " 'Det er jo det, der er hele formålet med de mange ændringer, de mange forbedringer i den aktive arbejdsmarkedspolitik, som vi har gennemført igennem årene.',\n",
       " 'Tredje næstformand  (Holger K. Nielsen)',\n",
       " 'Hr.',\n",
       " 'Ole Hækkerup.',\n",
       " 'Ole Hækkerup  (S)',\n",
       " 'Kan ordføreren ikke selv se det himmelråbende i på den ene side at planlægge at fyre folk og på den anden side at planlægge og beslutte at gennemføre forringelser for dem, der er fyret?',\n",
       " 'Tredje næstformand  (Holger K. Nielsen)',\n",
       " 'Ordføreren.',\n",
       " 'Ulla Tørnæs  (V)',\n",
       " 'Jeg mener ikke, at det er forringelser.',\n",
       " 'Nu nævnte jeg det for hr.',\n",
       " 'Morten Østergaard, og jeg har også nævnt det tidligere over for nogle af hr.',\n",
       " 'Ole Hækkerups socialdemokratiske kollegaer – hvilket man totalt vil se bort fra, fordi man ikke ønskede at tage et medansvar – 1 bio.',\n",
       " 'pund nemlig pakken vedrørende en ekstraordinær indsats for at bekæmpe langtidsledighed, og de to ting skal selvfølgelig ses i sammenhæng.',\n",
       " 'I det øjeblik vi afkorter dagpengeperioden, er der selvfølgelig brug for det løft, som Socialdemokraterne af partitaktiske grunde valgte at sige nej tak til at være med til at gennemføre.',\n",
       " 'Vi har afsat omkring 0,5 mia.',\n",
       " 'kr.',\n",
       " 'til en helt ekstraordinær indsats til netop at følge op på det, som hr.',\n",
       " 'Ole Hækkerup her nævner.',\n",
       " 'Tredje næstformand  (Holger K. Nielsen)',\n",
       " 'Hr.',\n",
       " 'Simon Emil Ammitzbøll.',\n",
       " 'Simon Emil Ammitzbøll  (LA)',\n",
       " 'Tak.',\n",
       " 'Det er jo ikke lang tid siden, at vi har behandlet et forslag om netop det samme, fremsat af Liberal Alliance, og jeg tror ikke, at jeg afslører meget ved at sige, at det kun var Liberal Alliance, der stemte for det forslag.',\n",
       " 'Det fremsatte vi allerede den 6.',\n",
       " 'april her i 2010.',\n",
       " 'Da sagde den nuværende ordfører, at Liberal Alliance henviste til Arbejdsmarkedskommissionens anbefalinger, men jeg skal i lighed med det, vi netop har hørt beskæftigelsesministeren så ganske glimrende redegøre for, understrege, at beskæftigelsessituationen jo har ændret sig ganske væsentligt, siden Arbejdsmarkedskommissionen blev nedsat i 2007, men dengang sagde man:',\n",
       " 'Derfor er tiden ikke inde til forringelser af dagpengeperioden.',\n",
       " 'Så kunne jeg jo nu stå og gøre mig morsom over det, men det har jeg sådan set ikke tænkt mig.',\n",
       " 'Jeg synes faktisk, at der er grund til at rose, for man skal rose den, der fortjener det.',\n",
       " 'Og det er da bedre at blive klogere og gå i gang med reformarbejdet end at blive ved med dumstædigt, som nogle partier gør, at hævde, at det er en dårlig idé at gøre noget ved problemerne.',\n",
       " 'Så det vil jeg sådan set godt rose regeringen for, og så kommer spørgsmålet i anden runde.',\n",
       " 'Tredje næstformand  (Holger K. Nielsen)',\n",
       " 'Ordføreren.',\n",
       " 'Ulla Tørnæs  (V)',\n",
       " 'Jeg takker meget for Liberal Alliances ros og anerkendelse af, at det er det rigtige at gøre, at det er det nødvendige at gøre, og at det helt sikkert også vil bidrage til det, som jeg ved at Liberal Alliance er meget optaget af, nemlig holdbarheden i dansk økonomi, i og med at forslaget her vil bidrage til, at arbejdsstyrken vil øges med 13.000 fuldtidspersoner.',\n",
       " 'Tredje næstformand  (Holger K. Nielsen)',\n",
       " 'Hr.',\n",
       " 'Simon Emil Ammitzbøll.',\n",
       " 'Simon Emil Ammitzbøll  (LA)',\n",
       " 'Lige præcis, og det er også derfor, at man burde gå langt videre med reformarbejdet.',\n",
       " 'Men det her forslag er jo en del af en større pakke – noget, man kalder en genopretningspakke – som også indeholder en række skattestigninger.',\n",
       " 'Vi kan se i dag i Børsen, hvor mange flere der skal betale topskat.',\n",
       " 'Vi kan se, at skattetrykket bliver hævet med mere end 10 mia.',\n",
       " 'kr.',\n",
       " 'i 2014.',\n",
       " 'Hvordan kan det være borgerlig politik?',\n",
       " 'Hvordan kan det være med til at sikre, at vi får en klar vækstprofil fremadrettet for det her land?',\n",
       " 'Det kunne jeg godt tænke mig at få at vide.',\n",
       " 'Tredje næstformand  (Holger K. Nielsen)',\n",
       " 'Ordføreren.',\n",
       " 'Ulla Tørnæs  (V)',\n",
       " 'Det er jo stort set det samme spørgsmål, som hr.',\n",
       " 'Simon Emil Ammitzbølls gode kollega hr.',\n",
       " 'Anders Samuelsen stillede for et øjeblik siden.',\n",
       " 'Altså, med genopretningspakken har vi lagt op til, at alle dele af det danske samfund bidrager til at betale regningen – regningen på 24 mia.',\n",
       " 'kr.',\n",
       " 'Det har ikke været nogen nem opgave, men alle dele af det danske samfund skal være med til at løfte den opgave, herunder den del af befolkningen, som havde udsigt til en lempelse i topskatten.',\n",
       " 'Den lempelse udskyder vi med genopretningspakken i 3 år, og det mener jeg faktisk er rimeligt.',\n",
       " 'Jeg synes, det er udtryk for god borgerlig liberal politik, at alle dele af det danske samfund på den her måde er med til at bidrage til genopretningen af dansk økonomi.',\n",
       " 'Tredje næstformand  (Holger K. Nielsen)',\n",
       " 'Hr.',\n",
       " 'Benny Engelbrecht.',\n",
       " 'Benny Engelbrecht  (S)',\n",
       " 'Jeg vil godt stille et konkret spørgsmål i forhold til lovgivningsarbejdet, nemlig om lovforslaget er blevet udkantstjekket.',\n",
       " 'Jeg har jo noteret mig, at ordføreren i anden sammenhæng har været meget opmærksom på, at alle lovforslag netop skal udkantstjekkes, og det har været et forslag, som Venstre står bag.',\n",
       " 'Vi kan i dag også konstatere, at AE-Rådet med analyser viser, at det er sværere at finde job i provinsen, og særlig tydeligt er det blevet væsentlig sværere at finde arbejde i Sydjylland, hvor ordføreren i øvrigt er valgt.',\n",
       " 'Derfor synes jeg egentlig, at det er meget naturligt at spørge – lidt afhængigt af om svaret er ja eller nej, men jeg gætter jo på, at det er et nej – om det ikke er lidt hyklerisk at sige ét i slutningen af april, nemlig at alting skal udkantstjekkes, at der skal tages højde for det hele, og så sige noget andet her i slutningen af maj.',\n",
       " 'Tredje næstformand  (Holger K. Nielsen)',\n",
       " 'Ordføreren.',\n",
       " 'Ulla Tørnæs  (V)',\n",
       " 'Nu er det jo sådan, at mit ganske glimrende forslag om at lave et, hvad kan man sige, udkantstjek af al lovgivning her i Folketinget endnu ikke er vedtaget.',\n",
       " 'Men jeg glæder mig faktisk utrolig meget over, at beskæftigelsesministeren af egen drift faktisk har lavet et udkantstjek, kan man sige, af lovforslaget.',\n",
       " 'Det var omtalt i Jyllands-Posten i sidste uge, hvoraf det fremgik, at man faktisk ikke kan hævde det, som jeg fornemmer ligger i hr.',\n",
       " 'Benny Engelbrechts spørgsmål, nemlig at lovforslaget her vil ramme forholdsmæssigt hårdere i provinsen end i hovedstadsområdet.',\n",
       " 'Det forholder sig faktisk modsat.',\n",
       " 'Jobcentrenes tilbagemeldinger på, hvor hurtigt ledige kommer i beskæftigelse, viser rent faktisk, at ledige er kortere i dagpengesystemet i det, som hr.',\n",
       " 'Benny Engelbrecht her benævner Udkantsdanmark, end i hovedstadsområdet.',\n",
       " 'Tredje næstformand  (Holger K. Nielsen)',\n",
       " 'Hr.',\n",
       " 'Benny Engelbrecht.',\n",
       " 'Benny Engelbrecht  (S)',\n",
       " 'Jeg benævner faktisk ikke disse områder Udkantsdanmark.',\n",
       " 'Det må stå for ordførerens helt egen regning.',\n",
       " 'Derimod har jeg omtalt dem som provinsen, men det er så også fair nok, at man hellere vil bruge et negativt udtryk.',\n",
       " 'Jeg kan godt tvivle lidt på, om det udkantstjek er udført på den måde, som ordføreren taler om, og når Venstre fremlægger et forslag, må man jo gå ud fra, at det også er Venstres politik på alle områder, uanset om det så i øvrigt er sådan, at der nu er fremsat lovforslag om det eller ej.',\n",
       " 'Det ændrer altså ikke på, at jeg har noteret mig, at fru Ulla Tørnæs til Danmarks Radio den 28.',\n",
       " 'april netop siger, at der skal konkret politisk handling bag de mange fine ord om et Danmark i bedre balance.',\n",
       " 'Mener ordføreren, at det her rent faktisk sikrer et Danmark i bedre balance?',\n",
       " 'Tredje næstformand  (Holger K. Nielsen)',\n",
       " 'Ordføreren.',\n",
       " 'Ulla Tørnæs  (V)',\n",
       " 'Jeg er fuldstændig enig med hr.',\n",
       " 'Benny Engelbrecht i, at vi skal sikre et Danmark i bedre balance.',\n",
       " 'Men vi bliver nødt til at forholde os til, hvad det er, vi diskuterer her.',\n",
       " 'Nu nævnte jeg det udkantstjek, som beskæftigelsesministeren af egen drift har lavet af ændringerne her, men jeg kunne også nævne ledighedsprocenten.',\n",
       " 'Hvis vi ser på ledighedsprocenten, kan vi se, at det rent faktisk også viser sig, at den typisk er lavere i det, som hr.',\n",
       " 'Benny Engelbrecht her kalder provinsen, og det synes jeg der er god grund til at glæde sig over.',\n",
       " 'Ser vi på de allerseneste ledighedstal, kan vi se, at det faktisk viser sig, at beskæftigelsen er steget mest i netop den syddanske region, og det kan hr.',\n",
       " 'Benny Engelbrecht og jeg jo glæde os over i fællesskab, i og med at vi er valgt i netop dette område.',\n",
       " 'Tredje næstformand  (Holger K. Nielsen)',\n",
       " 'Hr.',\n",
       " 'Morten Bødskov.',\n",
       " 'Morten Bødskov  (S)',\n",
       " 'Tak for det, formand.',\n",
       " 'Altså, man kan sige, at det er meget, meget klart, hvad regeringspartierne nu står og siger.',\n",
       " 'Nu er det, vi andre har gået og sagt, jo kommet frem, nemlig at det nu er de arbejdsløse, som skal betale regningen for de store skattelettelser, som bankdirektører og andre venner i den bedrestillede del af det danske samfund har fået.',\n",
       " 'Det er jo det, der er virkeligheden i det.',\n",
       " 'Derfor er valget, som regeringen giver danskerne, også meget klart:',\n",
       " 'Enten fortsætter den her regering – gud bedre det – og så får man en regering, man ikke kan stole på, eller også får man et alternativt flertal, som tør sige sandheden.',\n",
       " 'For hvad er definitionen på et løftebrud fra Venstres side?',\n",
       " 'Når den tidligere beskæftigelsesminister, hr.',\n",
       " 'Claus Hjort Frederiksen, i 2007 garanterer, at han ikke vil røre ved dagpengeperioden eller dagpengesatserne, er det, vi her har set, så et løftebrud?',\n",
       " 'Tredje næstformand  (Holger K. Nielsen)',\n",
       " 'Ordføreren.',\n",
       " 'Ulla Tørnæs  (V)',\n",
       " 'Jeg er sådan set meget enig med hr.',\n",
       " 'Morten Bødskov i, at det må stå meget klart for vælgerne, at der er en ansvarlig regering, som påtager sig det ansvar at genoprette dansk økonomi og gennemføre de nødvendige reformer, herunder den dagpengereform, som er til behandling her og nu, plus den øvrige del af genopretningspakken, som skal til behandling senere i dag.',\n",
       " 'Jeg er faktisk enig med hr.',\n",
       " 'Morten Bødskov i, at regeringen med genopretningspakken her netop udviser den helt nødvendige og rigtige ansvarlighed i modsætning til netop Socialdemokraterne og Socialistisk Folkeparti, der med deres såkaldte plan »En Fair Løsning« kommer med en række luftkasteller om, at vi i fremtiden alle sammen skal arbejde 12 minutter mere om dagen, såfremt fagbevægelsen ellers er enig i det.',\n",
       " 'Det er jo ikke noget svar, vil jeg sige til hr.',\n",
       " 'Morten Bødskov.',\n",
       " \"I øvrigt understreger anerkendte økonomer, at Socialdemokraterne og SF's plan ikke lever op til de krav, som stilles af EU, og den form for uansvarlighed vil jeg bare sige at jeg synes er helt ude i hampen.\",\n",
       " 'Tredje næstformand  (Holger K. Nielsen)',\n",
       " 'Hr.',\n",
       " 'Morten Bødskov.',\n",
       " 'Morten Bødskov  (S)',\n",
       " 'Den form for politisk bestilt argumentation kan vi jo alle sammen finde.',\n",
       " 'Jeg spurgte til definitionen på et løftebrud.',\n",
       " 'Er det, man laver her, når man kommer som en tyv om natten og forringer folks tryghed og sikkerhed omkring deres økonomi, ikke et løftebrud?',\n",
       " 'Hvorfor kan det ikke tolkes som et løftebrud, når den tidligere beskæftigelsesminister, hr.',\n",
       " 'Claus Hjort Frederiksen, i 2007 siger til Information, at han ikke vil røre ved dagpengeperioden eller dagpengesatserne, eller når den i salen tilstedeværende beskæftigelsesminister i februar 2010 til Ugebrevet A4 siger:',\n",
       " '»Det er overhovedet ikke aktuelt med en dagpengereform, og derfor vil jeg ikke tale om det.',\n",
       " 'Vi skal ikke gøre folk usikre på deres økonomi.«?',\n",
       " 'Altså, det, man har begået her, er danmarkshistoriens største løftebrud.',\n",
       " 'Hvorfor vil man ikke bare erkende det?',\n",
       " 'Hvis man ikke vil det, hvad er så egentlig definitionen på et løftebrud i Venstre?',\n",
       " 'Tredje næstformand  (Holger K. Nielsen)',\n",
       " 'Ordføreren.',\n",
       " 'Ulla Tørnæs  (V)',\n",
       " 'Jeg synes, det er fantastisk, at det er en repræsentant for Socialdemokraterne, der spørger til, hvad et løftebrud er.',\n",
       " 'Netop Socialdemokraterne har jo, må man sige, gjort sig visse erfaringer med at bryde løfter over for vælgerne.',\n",
       " 'Jeg tænker på det eklatante løftebrud, som den tidligere statsminister Poul Nyrup Rasmussen begik i forbindelse med efterlønsordningen.',\n",
       " 'Situationen var, at Poul Nyrup Rasmussen i en valgkamp havde udstedt et klokkeklart løfte til vælgerne.',\n",
       " 'Vi har faktisk tidligere fremlagt en reform svarende til det, vi har til behandling her, og det har vi gjort efter det seneste folketingsvalg, nemlig i 2008.',\n",
       " 'Men jeg synes godt nok, at det er lidt morsomt, at det netop er en repræsentant for Socialdemokraterne, der her spørger til en definition på løftebrud.',\n",
       " 'Hr.',\n",
       " 'Morten Bødskov burde da om nogen vide det.',\n",
       " 'Tredje næstformand  (Holger K. Nielsen)',\n",
       " 'Fru Maja Panduro.',\n",
       " 'Maja Panduro  (S)',\n",
       " 'Jamen så kommer der en repræsentant mere fra Socialdemokraterne, der gerne vil stille spørgsmål om løftebrud.',\n",
       " 'Ordføreren argumenterer for, at der ikke er tale om et løftebrud, fordi man forsøgte at forringe dagpengene allerede i 2008 efter det sidste folketingsvalg.',\n",
       " 'Bliver løftebruddet bedre af, at det i virkeligheden foregik allerede i 2008, og af, at man så nu gentager det?',\n",
       " 'Når ordføreren siger, at der ikke er noget nyt i, at Venstre ønsker at ændre dagpengeperioden, har jeg også lyst til at spørge, om man har glemt at fortælle det til sin arbejdsmarkedsordfører, til sin finansminister og til sin beskæftigelsesminister, for vi har jo hørt citater fra det, disse mennesker indtil for kort tid siden har sagt om dagpengeperioden.',\n",
       " 'Så hvis det her har været Venstres politik hele tiden, har man måske ud over at glemme at fortælle det til befolkningen også glemt at fortælle det til nogle af sine egne folk.',\n",
       " 'Tredje næstformand  (Holger K. Nielsen)',\n",
       " 'Ordføreren.',\n",
       " 'Ulla Tørnæs  (V)',\n",
       " 'Jeg synes virkelig, det er morsomt, at det er Socialdemokraterne her, der er så optaget af begrebet løftebrud.',\n",
       " 'Jeg vil endnu en gang understrege, at vi sådan set tilbage i 2008 fremlagde, at vi ønskede at ændre dagpengesystemet.',\n",
       " 'Den økonomiske situation gjorde imidlertid, at det ikke var hensigtsmæssigt på daværende tidspunkt, hvor vi havde udsigt til en stigende ledighed.',\n",
       " 'Heldigvis voksede ledigheden ikke så meget, som det blev prognosticeret tilbage i 2008, og det synes jeg vi skal glæde os over.',\n",
       " 'Den voksede bl.a.',\n",
       " 'ikke så meget, som det blev forudsagt, fordi regeringen tog en række finanspolitiske initiativer, herunder fremrykning af offentlige investeringer.',\n",
       " 'Regeringen foretog i det hele taget finanspolitiske lempelser, som har betydet, at vi er kommet skånsomt igennem den økonomiske krise i Danmark.',\n",
       " 'Tredje næstformand  (Holger K. Nielsen)',\n",
       " 'Fru Maja Panduro.',\n",
       " 'Maja Panduro  (S)',\n",
       " 'Nu har jeg jo hørt, for ordføreren har gentaget det rigtig mange gange, at det hele tiden har været Venstres politik, at man ville forringe dagpengene.',\n",
       " 'Jeg bliver bare nødt til at forholde mig til, at det hverken før valget eller efter valget var det, man sagde til vælgerne.',\n",
       " 'Før valget var bl.a.',\n",
       " 'den nuværende finansminister ude at sige, at en afkortning af dagpengeperioden svarer til en nedsættelse af dagpengene og falder inden for regeringens løfter om ikke at røre satserne, og efter valget har både finansministeren, beskæftigelsesministeren og Venstres arbejdsmarkedsordfører også været ude at sige, at man ikke vil forringe dagpengene.',\n",
       " 'Så det kan da godt være, at det hele tiden har været Venstres holdning, men burde man så ikke bare også have fortalt det til vælgerne også?',\n",
       " 'Tredje næstformand  (Holger K. Nielsen)',\n",
       " 'Ordføreren.',\n",
       " 'Ulla Tørnæs  (V)',\n",
       " 'Jeg vil sige til fru Maja Panduro, at det, der er det nye her, jo er, at den økonomiske situation – heldigvis, kan man sige – er ved at vende, og at der er lysere udsigter både for dansk økonomi som helhed og for beskæftigelsen i særdeleshed.',\n",
       " 'Da vi tilbage i 2008 ønskede at ændre dagpengeperioden, forholdt det sig anderledes, for da var der udsigt til, at ledigheden ville vokse.',\n",
       " 'Tredje næstformand  (Holger K. Nielsen)',\n",
       " 'Fru Julie Skovsby.',\n",
       " 'Julie Skovsby  (S)',\n",
       " 'Tak for det.',\n",
       " 'Der er et spørgsmål, der endnu ikke er blevet besvaret, og det er:',\n",
       " 'Hvad er så Venstres definition på et løftebrud?',\n",
       " 'Tredje næstformand  (Holger K. Nielsen)',\n",
       " 'Ordføreren.',\n",
       " 'Ulla Tørnæs  (V)',\n",
       " 'Ja, den bedste definition, jeg henholder mig til, var sådan set det løftebrud, som hr.',\n",
       " 'Poul Nyrup Rasmussen begik tilbage i 1998, hvor hr.',\n",
       " 'Poul Nyrup Rasmussen i valgkampen havde lovet vælgerne, at han ikke ville forringe efterlønnen – han udstedte oven i købet en efterlønsgaranti – og da vi kom et par måneder længere hen på året, lavede han faktisk ganske væsentlige forringelser af efterlønsordningen.',\n",
       " 'Det er det bedste eksempel, jeg kan give på et politisk løftebrud, som er begået her i Danmark.',\n",
       " 'Tredje næstformand  (Holger K. Nielsen)',\n",
       " 'Fru Julie Skovsby.',\n",
       " 'Julie Skovsby  (S)',\n",
       " 'Ja, vi står med en debat i dag, hvor der bestemt ikke kommer særlig mange klare svar.',\n",
       " 'Et af de allerførste spørgsmål, der blev stillet til ordføreren i den her debat, var fra den socialdemokratiske arbejdsmarkedsordfører, hr.',\n",
       " 'Torben Hansen, og han stillede spørgsmålet:',\n",
       " 'Hvor mange mennesker falder nu ud af dagpengesystemet, og hvor mange mennesker kommer nu på kontanthjælp?',\n",
       " 'Efterhånden fik vi et svar, der hed:',\n",
       " 'Jamen det er omkring 1.000-2.000, der falder ud af dagpengesystemet, og cirka en tredjedel af dem vil så komme på kontanthjælp.',\n",
       " 'Da der så blev spurgt nærmere ind til det, og hvorfor der var sat 1,5 mia.',\n",
       " 'kr.',\n",
       " 'af til kontanthjælp, ja, så hørte vi, at det tal godt kunne stige.',\n",
       " 'Hvor meget vil det tal stige?',\n",
       " 'Kan ordføreren svare klart på det?',\n",
       " 'Tredje næstformand  (Holger K. Nielsen)',\n",
       " 'Ordføreren.',\n",
       " 'Ulla Tørnæs  (V)',\n",
       " 'Nu siger fru Julie Skovsby, at der ikke kommer klare svar.',\n",
       " 'Jeg synes faktisk, jeg svarede fuldstændig klart og præcist på, hvad der var det bedste løftebrud, jeg har oplevet i dansk politik, og fordi fru Julie Skovsby ikke kan lide svaret, påstår fru Julie Skovsby altså, at det er et uklart svar.',\n",
       " 'Det hænger da ikke sammen.',\n",
       " 'Med hensyn til at fru Julie Skovsby så gentager det spørgsmål, som flere af hendes kollegaer allerede har stillet, vil jeg blot anmode om, at det bliver stillet ved den lovtekniske gennemgang undervejs i udvalgsbehandlingen.',\n",
       " 'Tredje næstformand  (Holger K. Nielsen)',\n",
       " 'Tiden tillader yderligere en kort bemærkning, og det er fra hr.',\n",
       " 'Rasmus Prehn.',\n",
       " 'Rasmus Prehn  (S)',\n",
       " 'Jeg synes, vi har haft en ret interessant diskussion om det med løftebrud osv.',\n",
       " 'Sagen er jo den, at Venstre virkelig om nogen har slået sig op på at beskylde alle andre for at være løftebrydere og til gengæld at sige, at Venstre vidste man hvor man havde.',\n",
       " 'Og så har vi hørt ordføreren sige her, at man efter valget vistnok kom med nogle ændringer, og at man vistnok sagde, at man ville prøve og sådan nogle ting.',\n",
       " ' Det, der er interessant her, er jo, hvad Venstre sagde til vælgerne, inden man gik til valg i 2007, altså hvad det var, man kiggede folk i øjnene og lovede at man ville overholde, inden valget blev udskrevet.',\n",
       " 'Det var, at dagpengeperioden ikke ville blive forkortet.',\n",
       " 'Jeg kan bare tage et citat her fra 2005 – det er i hvert fald før valget:',\n",
       " '»En afkortning af dagpengeperioden svarer til en nedsættelse af dagpengene og falder inden for regeringens løfter om ikke at røre satserne.«',\n",
       " 'Det var hr.',\n",
       " 'Claus Hjort Frederiksen, der sagde det til Børsen den 8.',\n",
       " 'december 2005.',\n",
       " 'Så man kiggede vælgerne i øjnene og lovede direkte ikke at røre ved dagpengeperioden, men på den anden side af valget løber man så fra det hele.',\n",
       " 'Er det ikke usmageligt først at skyde på alle mulige andre partier for at løbe fra deres løfter og sige, at Venstre ved man hvor man har, og så at gøre nøjagtig det samme selv?',\n",
       " 'Tredje næstformand  (Holger K. Nielsen)',\n",
       " 'Tak.',\n",
       " 'Ordføreren.',\n",
       " 'Ulla Tørnæs  (V)',\n",
       " 'Jeg får mest af alt lyst til at spørge hr.',\n",
       " 'Rasmus Prehn, om ikke han rent faktisk mener, at vi står over for en kæmpe udfordring, når det handler om at sikre, at vi har den nødvendige arbejdskraft til rådighed.',\n",
       " 'Når man lytter til Socialdemokraterne, kunne det lyde, som om det er en udfordring, som Socialdemokraterne totalt negligerer.',\n",
       " 'I hvert fald er man overhovedet ikke parat til at forholde sig til den kendsgerning, at vi står i en situation, hvor det er de store årgange, der forlader det danske arbejdsmarked, og at de skal erstattes af de små ungdomsårgange.',\n",
       " 'Hvordan vil Socialdemokraterne og hr.',\n",
       " 'Rasmus Prehn sikre, at vi har de hænder til rådighed, der er brug for på det danske arbejdsmarked, hvad enten det er det offentlige eller det private arbejdsmarked?',\n",
       " 'Tredje næstformand  (Holger K. Nielsen)',\n",
       " 'Hr.',\n",
       " 'Rasmus Prehn.',\n",
       " 'Rasmus Prehn  (S)',\n",
       " 'Så vi fik da endelig indrømmelsen.',\n",
       " 'På intet tidspunkt lykkes det Venstres ordfører at afvise, at der var tale om direkte løftebrud.',\n",
       " 'Man brugte hele valgkampen 2007 på at kigge vælgerne i øjnene og love ikke at røre ved dagpengeperioden, og så gjorde man det alligevel.',\n",
       " 'Nu taler man udenom og spørger, om Socialdemokratiet ikke har noget.',\n",
       " 'Jeg er sikker på, at hvad enten Venstres ordfører har cyklet, har taget bussen, har taget toget eller er kørt i bil ind til Folketinget, så har hun ikke kunnet undgå at se store, massive plakater fra Socialdemokratiet, hvor vi siger:',\n",
       " 'Lad os arbejde 12 minutter mere hver eneste dag; lad os arbejde 1 time mere på en uge.',\n",
       " 'Så kan vi faktisk løse noget af det her problem med den manglende arbejdskraft.',\n",
       " 'Derudover har vi en opkvalificeringsstrategi, vi vil få nogle af de ledige på banen igen.',\n",
       " 'Så der er en fuldstændig klar og tydelig socialdemokratisk politik for, hvordan man gør det her uden at løbe fra løfterne.',\n",
       " 'Der synes jeg at partiet Venstre skulle have hentet inspiration.',\n",
       " 'Tredje næstformand  (Holger K. Nielsen)',\n",
       " 'Ordføreren.',\n",
       " 'Ulla Tørnæs  (V)',\n",
       " 'Nu forholder det sig imidlertid sådan, at de 12 minutter, som hr.',\n",
       " 'Rasmus Prehn mener at vi alle skal arbejde mere hver dag, jo ikke er andet end luftkasteller og fugle på taget, for det er jo ikke noget, der kan lovgives om.',\n",
       " 'Det er jo noget, som indebærer, at hr.',\n",
       " 'Rasmus Prehn og kompagni har pantsat deres handlefrihed hos fagbevægelsen.',\n",
       " 'Fagbevægelsen er dybt splittet på det her område.',\n",
       " 'Så skulle det gå så vel, at hr.',\n",
       " 'Rasmus Prehn skulle kunne lykkes med sit forslag om, at vi alle skal arbejde 12 minutter mere om dagen, hvilket jeg sagtens kan støtte hr.',\n",
       " 'Rasmus Prehn i, så vil der gå rigtig, rigtig lang tid – i modsætning til ved en afkortning af dagpengeperioden.',\n",
       " 'Det er lovgivningsstof, det er her, vi kan tage et medansvar for udviklingen i dansk samfundsøkonomi.',\n",
       " 'Det er det, vi gør, det er det rigtige, vi gør, det er det nødvendige, vi gør, og vi gør det på det rigtige tidspunkt.',\n",
       " 'Tredje næstformand  (Holger K. Nielsen)',\n",
       " 'Tak til ordføreren.',\n",
       " 'Det var lang tid, men det er jo vigtige spørgsmål.',\n",
       " 'Hr.',\n",
       " 'Torben Hansen som ordfører for Socialdemokraterne.',\n",
       " 'Torben Hansen  (S)',\n",
       " 'Ordfører',\n",
       " 'Socialdemokraterne vender sig stærkt imod regeringens foreslåede forringelse af dagpengene og dermed den danske model.',\n",
       " 'Det her forslag halverer dagpengeperioden og gør det sværere at opnå dagpenge.',\n",
       " 'Hvis man eksempelvis sammenligner det med et klippekort til bussen, er der lige pludselig kun halvt så mange klip til mere end den dobbelte pris, da optjeningen bliver gjort vanskeligere.',\n",
       " 'Det vil ramme bredt og hårdt og tvinge tusindvis af mennesker på kontanthjælp, og derved vil mange i sidste ende blive nødt til at gå fra hus og hjem.',\n",
       " 'Det er også i klokkeklar modstrid med de løfter, som både regeringen og Dansk Folkeparti har givet vedrørende dagpengene, løfter, som er blevet gentaget ofte, bl.a.',\n",
       " 'i august sidste år i forbindelse med Arbejdsmarkedskommissionens rapport og også her i Folketinget i april måned.',\n",
       " 'Forslaget her vil være ruinerende for mange danske familier.',\n",
       " 'Allerede for nuværende er der næsten 10.000 ledige på dagpenge, der har været ledige i mere end 2 år, og endvidere er der 25.000 ledige, der har været ledige mellem 1 og 2 år.',\n",
       " 'Der er mange af dem, der vil komme på kontanthjælp, da der ikke for nuværende er et arbejdsmarked, der står og skriger på arbejdskraft.',\n",
       " 'At det forholder sig sådan, vedgår regeringen jo også i lovforslaget, da man regner med ekstra udgifter til kontanthjælp i milliardklassen.',\n",
       " 'Så det er en ren tilståelsessag, at mange ledige vil blive skubbet fra dagpenge til kontanthjælp.',\n",
       " 'Tusindvis vil oven i dette ikke have ret til kontanthjælp, da de har en ægtefælle, der har arbejde, eller de har en formue på mere end 10.000 kr.',\n",
       " \"Med den her såkaldte genopretningspakke har regeringen også gjort efter- og videreuddannelse sværere og dyrere ved at skære både i VEU-godtgørelsen og SVU'en, Statens Voksenuddannelsesstøtte.\",\n",
       " 'Man har også skåret i fradragsretten for det faglige kontingent.',\n",
       " 'De stramninger, som VKO agter at gennemføre, vil forringe de væsentligste detaljer i den danske flexicuritymodel.',\n",
       " 'De vil udhule sikkerhedsnettet og forringe de efteruddannelsesmuligheder, der sikrer arbejde, og som opretholder en arbejdsstyrke, der hurtigt kan omstille sig i takt med nye konkurrencemæssige vilkår.',\n",
       " 'Regeringen har på den ene side i årevis rejst Europa tyndt for at holde skåltaler om den danske flexicuritymodel over for de andre EU-lande, mens de på den anden side, bakket ivrigt op af Dansk Folkeparti, støt og sikkert forringer modellen.',\n",
       " 'Det er ikke genopretning, det er nedbrydning.',\n",
       " 'Det hele er så også i det her tilfælde kommet som en tyv om natten.',\n",
       " 'Konklusionen på lovforslaget og pakken er egentlig klar.',\n",
       " 'Efteruddannelsesmulighederne bliver voldsomt forringet, der kommer en kortere dagpengeperiode, og det bliver vanskeligere at genoptjene retten til dagpenge, mange vil ende på kontanthjælp, hvor man jo næsten kun skal eje den skjorte, man har på, for overhovedet at kunne få kontanthjælp, og det er et historisk svigt fra regeringens side over for de ledige og arbejdsmarkedet, og det er så langtfra at være socialt afbalanceret, som noget kan være.',\n",
       " \"Uddannelse svigtes, voksen- og efteruddannelsen beskæres, SVU'en, som jeg sagde før, alt sammen det, der skal skabe vækst og arbejdspladser, og dernæst er der dagpengeperioden oveni med de drastiske konsekvenser til følge.\",\n",
       " 'Socialdemokratiet ser det her som et frontalangreb på den danske model og flexicurity, et angreb, som Socialdemokratiet ikke er en del af, og derfor kommer det jo ej heller som nogen overraskelse, at Socialdemokratiet vil stemme nej til det her lovforslag.',\n",
       " 'Tredje næstformand  (Holger K. Nielsen)',\n",
       " 'Tak til ordføreren.',\n",
       " 'Der er en række korte bemærkninger.',\n",
       " 'Først er det hr.',\n",
       " 'Peter Christensen.',\n",
       " 'Peter Christensen  (V)',\n",
       " 'Et historisk svigt.',\n",
       " 'Det synes jeg er en bemærkelsesværdig kommentar at give, al den stund vi havde forhandlinger og drøftelser om at forkorte dagpengeperioden i 2008, hvor Socialdemokratiet sådan set var positive over for det, på betingelse af at ydelserne blev sat op.',\n",
       " 'Men det at have en kortere dagpengeperiode i sig selv fandt Socialdemokratiet sådan set ikke problematisk, og nu bliver det kaldt et historisk svigt.',\n",
       " 'Det hænger simpelt hen ikke sammen.',\n",
       " 'Jeg kunne sådan set godt tænke mig at vide, om Socialdemokratiet vil ændre dagpengeperioden tilbage til 4 år, hvis de kan skaffe flertal for det efter et valg.',\n",
       " 'Tredje næstformand  (Holger K. Nielsen)',\n",
       " 'Ordføreren.',\n",
       " 'Torben Hansen  (S)',\n",
       " 'Svaret til hr.',\n",
       " 'Peter Christensen er egentlig meget klart, og det kan hr.',\n",
       " 'Peter Christensen også læse i »En Fair Løsning«, som jeg klart kan anbefale.',\n",
       " 'Det er, at vi har meldt tindrende klart ud, at vi vil tage en drøftelse med arbejdsmarkedets parter om, hvordan man nu får vendt det her dagpengesystem, sådan at det bliver bedst muligt.',\n",
       " 'Men det skal netop ikke være en spareøvelse, der går ind og ødelægger den danske flexicuritymodel, som regeringen er i gang med her.',\n",
       " 'Tredje næstformand  (Holger K. Nielsen)',\n",
       " 'Hr.',\n",
       " 'Peter Christensen.',\n",
       " 'Peter Christensen  (V)',\n",
       " 'Nu kan man sådan set overhovedet ikke læse noget som helst svar på mit spørgsmål ud af »En Fair Løsning«.',\n",
       " 'Men jeg kan forstå, at det er noget, LO også skal afgøre.',\n",
       " 'Der er temmelig mange ting hos Socialdemokratiet, der er parkeret ovre hos LO.',\n",
       " \"Men lige præcis med det her spørgsmål behøver man jo sådan set ikke at vente, fordi Harald Børsting, LO's formand, har været enormt klar.\",\n",
       " 'Han synes ikke, at det er i orden med en 2-årig dagpengeperiode.',\n",
       " \"Derfor kender vi allerede LO's svar.\",\n",
       " 'Der er ikke nogen grund til at vente på det.',\n",
       " 'Så er der sådan set bare tilbage at høre, hvad Socialdemokratiet mener – ikke hvad LO mener, men hvad Socialdemokratiet mener.',\n",
       " 'Vil man sætte dagpengeperioden tilbage til 4 år, hvis man kan få flertal for det?',\n",
       " 'Tredje næstformand  (Holger K. Nielsen)',\n",
       " 'Ordføreren.',\n",
       " 'Torben Hansen  (S)',\n",
       " 'Hvis det var sådan, at man havde hørt min ordførertale, ville man vide, at jeg sådan set også klart sagde, at det, der ligger her med 2 år, synes vi er for lidt.',\n",
       " 'Det synes vi er for ringe, og det undergraver fuldstændig den danske model.',\n",
       " 'Det undergraver flexicurity.',\n",
       " 'Derfor vil vi stadig væk som i »En Fair Løsning« række hånden frem til arbejdsmarkedets parter – og hr.',\n",
       " 'Peter Christensen skal bemærke, at jeg sagde part er  og ikke part – og sige, at vi godt vil tage en drøftelse af, hvordan man kan gøre det her bedre, men det skal ikke være en spareøvelse.',\n",
       " 'Det skal være en drøftelse af, hvordan vi generelt kan få dagpengesystemet til at hænge sammen.',\n",
       " 'Men det, som regeringen for nuværende lægger på bordet her, kommer som en tyv midt om natten.',\n",
       " 'Det ødelægger mange familiers økonomi.',\n",
       " '2 år er alt for lidt, og Socialdemokratiet stemmer tindrende klart imod, fordi vi ikke kan bruge det her til noget som helst.',\n",
       " 'Tredje næstformand  (Holger K. Nielsen)',\n",
       " 'Hr.',\n",
       " 'Kristian Jensen for en kort bemærkning.',\n",
       " 'Kristian Jensen  (V)',\n",
       " 'Jeg forstår det ikke helt.',\n",
       " 'Der bliver sagt, at der kommer et klart svar, og svaret er:',\n",
       " 'Vi holder et møde.',\n",
       " 'Hvis hr.',\n",
       " 'Torben Hansen nu virkelig mener, at en forkortelse af dagpengeperioden er så forfærdelig, som hr.',\n",
       " 'Torben Hansen her giver udtryk for, må svaret da være, at de vil rulle det tilbage.',\n",
       " 'Så kan vi ikke bare få hr.',\n",
       " 'Torben Hansens personlige holdning?',\n",
       " 'Skal dagpengeperioden rulles tilbage – ja eller nej?',\n",
       " 'Tredje næstformand  (Holger K. Nielsen)',\n",
       " 'Ordføreren.',\n",
       " 'Torben Hansen  (S)',\n",
       " 'Jeg har over for hr.',\n",
       " 'Kristian Jensen givet udtryk for, hvad min personlige holdning er, og det er også den, som Socialdemokratiet står for.',\n",
       " 'Vi vil gerne tage en snak med arbejdsmarkedets parter om, hvordan vi gør det her bedre.',\n",
       " 'Men det forslag, der ligger her, er en spareøvelse.',\n",
       " 'Det er en undergravning af hele flexicuritymodellen.',\n",
       " 'Det er en undergravning af den danske model.',\n",
       " 'Det kan vi under ingen omstændigheder stå model til.',\n",
       " 'Det vil skubbe tusindvis af mennesker over i kontanthjælpssystemet.',\n",
       " 'Det er ikke socialdemokratisk politik, og det bliver heller aldrig socialdemokratisk politik.',\n",
       " 'Men der kan da ikke være noget forgjort i, at man starter med at tage en drøftelse med arbejdsmarkedets parter af, hvordan de kan se det her, frem for at man lige nu og her står og udsteder løfter om 3, 4, 5 eller 6 år.',\n",
       " 'Vi må høre, hvad parterne siger, og så må vi tage den derfra bagefter.',\n",
       " 'Tredje næstformand  (Holger K. Nielsen)',\n",
       " 'Hr.',\n",
       " 'Kristian Jensen.',\n",
       " 'Kristian Jensen  (V)',\n",
       " 'Det må være en meget mærkelig oplevelse at have hørt både hr.',\n",
       " 'Torben Hansen og andre socialdemokrater i den seneste uges tid sige med den mest skingre tone, der overhovedet kan være i selv fru Mette Frederiksens toneleje, at det er helt forfærdeligt, hvad regeringen har foreslået.',\n",
       " 'Det er helt forfærdeligt at gå fra 4 til 2 år.',\n",
       " 'Når spørgsmålet så kommer, om man vil gå tilbage fra 2 til 4 års dagpengeperiode, er svaret:',\n",
       " 'Nja, vi skal lige have spurgt oppositionens sande leder, Harald Børsting, om vi må.',\n",
       " 'Vi skal lige spørge fagbevægelsen, om vi godt må foreslå det.',\n",
       " 'Når hr.',\n",
       " 'Torben Hansen beder om at indkalde til trepartsmøde og høre arbejdsmarkedets parter, kan vi allerede nu forklare, hvad arbejdsmarkedets parter siger.',\n",
       " 'LO har sagt nej.',\n",
       " 'Dansk Arbejdsgiverforening har sagt ja.',\n",
       " 'Hvad er der tilbage andet end at få et klart svar fra Socialdemokratiet?',\n",
       " 'Vil man rulle forslaget tilbage, eller er det i virkeligheden teatertorden, og mener man, at forslaget faktisk er ganske glimrende – så glimrende, at selv Socialdemokraterne inderst inde, når de lukker øjnene, godt kan se, at det er en god idé?',\n",
       " 'Tredje næstformand  (Holger K. Nielsen)',\n",
       " 'Ordføreren.',\n",
       " 'Torben Hansen  (S)',\n",
       " 'Det er bestemt ikke teatertorden.',\n",
       " 'Socialdemokratiet synes, det her forslag er dybt, dybt usympatisk.',\n",
       " 'Vi kan også se i bemærkningerne til lovforslaget, at man rent faktisk regner med, at der skal bruges 1,5 mia.',\n",
       " 'kr.',\n",
       " 'ekstra på kontanthjælp, når det her bliver indfaset.',\n",
       " 'Det vil sige, at regeringen med åbne øjne nu rent faktisk tager og smider tusindvis af mennesker ud af dagpengesystemet og ind i kontanthjælpssystemet.',\n",
       " 'Det er kommet som en tyv om natten.',\n",
       " 'Det går også ind og ødelægger den enkelte families økonomi.',\n",
       " 'Derfor står det fuldstændig klart, at Socialdemokratiet er imod det her forslag.',\n",
       " 'Men vi vil gerne i modsætning til Venstre, der overhovedet ikke vil tage nogen som helst former for offentlig diskussion om det her, tage en diskussion bagefter om, hvordan vi så kan gøre det her bedre.',\n",
       " 'Hvordan kan vi gøre det her bedre?',\n",
       " 'Vi vil ikke komme som en tyv om natten, som andre har gjort.',\n",
       " 'Tredje næstformand  (Holger K. Nielsen)',\n",
       " 'Beskæftigelsesministeren har bedt om at komme med en bemærkning, og ifølge forretningsordenen har ministrene lov til det.',\n",
       " 'Det betyder, at beskæftigelsesministeren får ordet nu, og så bliver der mulighed for korte bemærkninger til hende.',\n",
       " 'Og så vender vi tilbage til ordføreren igen på et senere tidspunkt.',\n",
       " 'Vi har brugt modellen på et andet tidspunkt her for ikke så længe siden.',\n",
       " 'Man kan diskutere, hvor hensigtsmæssig den er, men der er altså mulighed for det.',\n",
       " 'Beskæftigelsesministeren.',\n",
       " 'Beskæftigelsesministeren  (Inger Støjberg)',\n",
       " 'Tak.',\n",
       " 'Forretningsordenen er jo sådan indrettet, at man som minister til hver en tid kan bede om ordet, og det gør jeg så her, fordi jeg ærlig talt føler anledning til at bryde ind i debatten for at få den på rette spor igen.',\n",
       " 'Man kan jo undre sig over, at det kunne gå så galt så hurtigt for den socialdemokratiske ordfører, i og med at det ikke var mange spørgsmål, man nåede.',\n",
       " 'Det er ganske enkelt helt ude af proportioner, når den socialdemokratiske ordfører, hr.',\n",
       " 'Torben Hansen, her på talerstolen siger, at forringelserne af dagpengesystemet vil betyde, at tusinder af mennesker vil blive sat på kontanthjælp.',\n",
       " 'Det er også helt forkert, når hr.',\n",
       " 'Torben Hansen antyder, at de ændringer, der nu vil komme til at ske i dagpengesystemet, ligesom kommer til at udstille Danmark som et meget dårligt land at være ledig i.',\n",
       " 'Det er rent faktisk sådan, at det dagpengesystem, vi har i Danmark – også med de ændringer, der kommer til at ske nu – ligger helt på niveau med de lande, som vi normalt sammenligner os med.',\n",
       " 'Og ikke mindst er der hr.',\n",
       " 'Torben Hansens bevæggrund for ligesom at nævne »En Fair Løsning«, og at 12 minutters arbejde mere pr.',\n",
       " 'dag skulle løse hele den udfordring, vi står over for.',\n",
       " 'Det er jo tre ting, der samlet set er med til fuldstændig at bringe den her debat af sporet, og det er også derfor, at jeg har valgt at bryde ind i debatten nu.',\n",
       " 'Tredje næstformand  (Holger K. Nielsen)',\n",
       " 'Tak til ministeren.',\n",
       " 'Der er en række korte bemærkninger.',\n",
       " 'Vi kan selvfølgelig køre videre hele dagen og indtil kl.',\n",
       " '5.00 i morgen tidlig, men jeg håber på en vis selvdisciplin i løbet af dagen, i forhold til at man ikke gentager, hvad der er blevet sagt tidligere.',\n",
       " 'Jeg anser det ikke for sandsynligt, at det vil blive overholdt, men man har altid et fromt håb, når man sidder heroppe.',\n",
       " 'Men vi tager en runde med korte bemærkninger, og i og med at sagen er så vigtig, som den er, tager vi dem efter de standardiserede regler.',\n",
       " 'Det vil sige, at der maksimalt bliver 1 time til korte bemærkninger.',\n",
       " 'Det er først hr.',\n",
       " 'Frank Aaen.',\n",
       " 'Frank Aaen  (EL)',\n",
       " 'Jeg vil bare, når nu vi har mulighed for at spørge ministeren på det her tidspunkt af debatten, bede om at få bekræftet, at det her er en milliardbesparelse, og at den milliardbesparelse betales, ved at arbejdsløse mister deres dagpengeret og i stedet enten får 0 kr., fordi de er gift med en, der har indtægt, eller går fra dagpenge til kontanthjælp og på den måde mister indkomst.',\n",
       " 'Er det ikke korrekt?',\n",
       " 'Er det ikke korrekt, at hele det her regnestykke, der er stillet op, bygger på det helt basale, at mennesker, der mister deres arbejde, samtidig mister penge, altså i forhold til hvis de fik dagpenge?',\n",
       " 'Tredje næstformand  (Holger K. Nielsen)',\n",
       " 'Ministeren.',\n",
       " 'Beskæftigelsesministeren  (Inger Støjberg)',\n",
       " 'Det er fuldstændig korrekt, at der er en besparelse i det her forslag, men det, hr.',\n",
       " 'Frank Aaen jo fuldstændig glemmer, er den aktive arbejdsmarkedspolitik, som vi har lagt for dagen.',\n",
       " 'Senest har man jo set det med den langtidsledighedspakke, som er en massiv satsning over for langtidsledige, og som jo betyder, at vi har initiativer for knap og nap 0,5 mia.',\n",
       " 'kr.',\n",
       " 'til netop at imødegå den udfordring, som langtidsledigheden er.',\n",
       " 'Så hr.',\n",
       " 'Frank Aaen kan jo ikke bare stille det her op som et besparelsesforslag, som hr.',\n",
       " 'Frank Aaen jo ellers ynder altid at stille alting op, for tingene skal ses i sammenhæng.',\n",
       " 'Og så glemmer hr.',\n",
       " 'Frank Aaen jo også fuldstændig at kigge på den profil, der ligger i dagpengene nu, og som viser, at går man 2 år hen i en dagpengeperiode, så er der omkring 6 pct.',\n",
       " 'af de dagpengemodtagere tilbage, i hvert fald hvis man tager det øjebliksbillede, der var fra marts måned her i år.',\n",
       " 'Tredje næstformand  (Holger K. Nielsen)',\n",
       " 'Hr.',\n",
       " 'Frank Aaen.',\n",
       " 'Frank Aaen  (EL)',\n",
       " 'Jamen hvis man gør en masse for at sætte folk i arbejde, er der jo ikke nogen grund til at afkorte dagpengeperioden.',\n",
       " 'Det må være, fordi man ikke selv tror på, at folk kommer i arbejde, at man så afkorter dagpengeperioden for at spare penge.',\n",
       " 'Og derfor er bundresultatet af det her – lige meget hvor mange ord der bliver puttet på – at mennesker, der bliver arbejdsløse, ikke alene mister deres indkomst som værende i arbejde, men også samtidig kommer til at miste dagpenge enten helt eller delvis.',\n",
       " 'Altså, er det ikke bare det, der er kernen?',\n",
       " 'For hvis alt det gode, som ministeren står og snakker om, virkede, var der jo ikke nogen grund til at afkorte dagpengeperioden, vel?',\n",
       " 'Tredje næstformand  (Holger K. Nielsen)',\n",
       " 'Ministeren.',\n",
       " 'Beskæftigelsesministeren  (Inger Støjberg)',\n",
       " 'Nogle gange kunne man jo bare ønske sig, at verden var så nem, som den tilsyneladende er i Enhedslisteoptik, men sådan er det bare ikke, vil jeg sige til hr.',\n",
       " 'Frank Aaen.',\n",
       " 'Sagen er den, at vi jo kan se, at profilen på dagpenge gør, at når man når hen omkring den tid, hvor dagpengene stopper, er der rigtig mange mennesker, der kommer ud på arbejdsmarkedet.',\n",
       " 'Vi kan også se på dagpengeprofilen, at det er sådan – i hvert fald hvis vi tager det førnævnte øjebliksbillede fra marts måned – at ca.',\n",
       " '94 pct.',\n",
       " 'af de mennesker, der var i dagpengesystemet, ikke havde nået 2-års-grænsen.',\n",
       " 'Så det vil sige, at det jo er et relativt lille område, som vi kommer til at arbejde med, altså med relativt få mennesker, men det ændrer ikke på, at en ændring af dagpengeperioden nu animerer flere til at komme ud på arbejdsmarkedet hurtigere, og at vi dermed også er med til at løse et problem, som vi jo kommer til at stå med lige om lidt, nemlig at vi også kommer til at mangle hænder på det danske arbejdsmarked.',\n",
       " 'Jeg ved godt, at det er mange bolde at skulle holde i luften på en gang:',\n",
       " 'at vi på den ene side står med en økonomisk vanskelig opgave, der skal løses nu, og på den anden side også har en fremtid, der skal tages hensyn til, nemlig en fremtid, hvor vi har en stor demografisk udfordring.',\n",
       " 'Tredje næstformand  (Holger K. Nielsen)',\n",
       " 'Hr.',\n",
       " 'Eigil Andersen.',\n",
       " 'Eigil Andersen  (SF)',\n",
       " 'Jeg håber, ministeren er enig i, at hendes forgænger på posten, den nuværende finansminister, Claus Hjort Frederiksen, var regeringsrepræsentant også før sidste valg.',\n",
       " 'Den 31.',\n",
       " 'maj 2007 udtalte Claus Hjort Frederiksen:',\n",
       " 'Vi rører ikke ved dagpengeperioden.',\n",
       " 'Den 9.',\n",
       " 'januar 2007 stod der i Information, at »beskæftigelsesminister Claus Hjort Frederiksen (V) vil med opbakning fra Socialdemokraterne ikke røre ved dagpengeperioden eller dagpengesatserne.',\n",
       " 'Og det sker heller ikke efter næste valg, oplyser ministeren til Information.',\n",
       " '»Vi risikerer, at det går ud over vores flexicurity, hvor det er nemt at hyre og fyre, hvis vi reducerer dagpengene.',\n",
       " 'I givet fald vil lønmodtagerne nemlig ved overenskomstforhandlingerne kræve længere opsigelser eller bedre godtgørelser ved fyringer,« siger Hjort Frederiksen.«',\n",
       " 'Så lyder mit spørgsmål som følger:',\n",
       " 'Er ministeren enig i, at der her er tale om et klart og dokumenteret løftebrud fra regeringens side?',\n",
       " 'Tredje næstformand  (Holger K. Nielsen)',\n",
       " 'Ministeren.',\n",
       " 'Beskæftigelsesministeren  (Inger Støjberg)',\n",
       " 'Jeg kan lige så godt sige ligeud til hr.',\n",
       " ...]"
      ]
     },
     "execution_count": 59,
     "metadata": {},
     "output_type": "execute_result"
    }
   ],
   "source": [
    "content"
   ]
  },
  {
   "cell_type": "markdown",
   "id": "b6310dee",
   "metadata": {},
   "source": [
    "### Remove datetime tags (lokal)"
   ]
  },
  {
   "cell_type": "code",
   "execution_count": 18,
   "id": "8e1beee5",
   "metadata": {},
   "outputs": [
    {
     "data": {
      "text/plain": [
       "\"\\nfor tag in soup.find_all('startdatetime'):\\n    tag.replace('')\\n    \\nfor tag in soup.find_all('enddatetime'):\\n    tag.replace('')\\n\\nfor tag in soup.find_all('lastmodified'):\\n    tag.replace('')\\n    \\nfor tag in soup.find_all('edixistatus'):\\n    tag.replace('')\\n\""
      ]
     },
     "execution_count": 18,
     "metadata": {},
     "output_type": "execute_result"
    }
   ],
   "source": [
    "'''\n",
    "for tag in soup.find_all('startdatetime'):\n",
    "    tag.replace('')\n",
    "    \n",
    "for tag in soup.find_all('enddatetime'):\n",
    "    tag.replace('')\n",
    "\n",
    "for tag in soup.find_all('lastmodified'):\n",
    "    tag.replace('')\n",
    "    \n",
    "for tag in soup.find_all('edixistatus'):\n",
    "    tag.replace('')\n",
    "'''"
   ]
  },
  {
   "cell_type": "code",
   "execution_count": 19,
   "id": "37a4de42",
   "metadata": {},
   "outputs": [
    {
     "data": {
      "text/plain": [
       "\"\\nsoup.find_all('startdatetime').decompose()\\nsoup.find_all('enddatetime').decompose()\\nsoup.find_all('lastmodified').decompose()\\n\""
      ]
     },
     "execution_count": 19,
     "metadata": {},
     "output_type": "execute_result"
    }
   ],
   "source": [
    "'''\n",
    "soup.find_all('startdatetime').decompose()\n",
    "soup.find_all('enddatetime').decompose()\n",
    "soup.find_all('lastmodified').decompose()\n",
    "'''"
   ]
  },
  {
   "cell_type": "code",
   "execution_count": 20,
   "id": "f04332a1",
   "metadata": {},
   "outputs": [],
   "source": [
    "soup.startdatetime.clear()\n",
    "soup.enddatetime.clear()\n",
    "soup.lastmodified.clear()"
   ]
  },
  {
   "cell_type": "markdown",
   "id": "7ad19d1c",
   "metadata": {},
   "source": [
    "### Dagsordenpunkter uden tags (lokal)"
   ]
  },
  {
   "cell_type": "code",
   "execution_count": 22,
   "id": "813d912c",
   "metadata": {},
   "outputs": [],
   "source": [
    "punkter = []  # punkterne uden tags \n",
    "\n",
    "for dagsordenpunkt in range(0, len(dagsordenpunkter)):\n",
    "    punkter.append(dagsordenpunkter[dagsordenpunkt].get_text(separator = ' '))"
   ]
  },
  {
   "cell_type": "code",
   "execution_count": 23,
   "id": "9bfa0489",
   "metadata": {},
   "outputs": [
    {
     "data": {
      "text/plain": [
       "'0 FM Punkt 0 Meddelelser fra formanden Holger K. Nielsen SF formand Tredje næstformand  (Holger K. Nielsen) Typeset Mødet er åbnet. Finansudvalget har afgivet: Betænkning og indstilling vedrørende forslag til folketingsbeslutning i henhold til grundlovens § 47 med hensyn til statsregnskabet for finansåret 2008. (Beslutningsforslag nr. B 248). Betænkningen og indstillingen vil fremgå af www.folketingstidende.dk.'"
      ]
     },
     "execution_count": 23,
     "metadata": {},
     "output_type": "execute_result"
    }
   ],
   "source": [
    "punkter[0]"
   ]
  },
  {
   "cell_type": "markdown",
   "id": "883ddaf0",
   "metadata": {},
   "source": [
    "### Meta data (lokal)"
   ]
  },
  {
   "cell_type": "code",
   "execution_count": 25,
   "id": "d23d5f3f",
   "metadata": {},
   "outputs": [],
   "source": [
    "dato = bs(xml).find(\"dateofsitting\").text[:10]\n",
    "moedenr = bs(xml).find(\"meetingnumber\").text\n",
    "samling = bs(xml).find(\"parliamentarysession\").text\n",
    "hvem = bs(xml).find(\"parliamentarygroup\").text\n",
    "lokation = bs(xml).find(\"location\").text"
   ]
  },
  {
   "cell_type": "code",
   "execution_count": 26,
   "id": "88644fa7",
   "metadata": {},
   "outputs": [
    {
     "data": {
      "text/plain": [
       "'Folketingssalen'"
      ]
     },
     "execution_count": 26,
     "metadata": {},
     "output_type": "execute_result"
    }
   ],
   "source": [
    "lokation"
   ]
  },
  {
   "cell_type": "markdown",
   "id": "147b27e3",
   "metadata": {},
   "source": [
    "### List of filepaths (skrottet)"
   ]
  },
  {
   "cell_type": "code",
   "execution_count": 28,
   "id": "32333b84",
   "metadata": {},
   "outputs": [],
   "source": [
    "def getListOfFiles(dirName):\n",
    "    listOfFile = os.listdir(dirName)\n",
    "    allFiles = list()\n",
    "    for entry in listOfFile:\n",
    "        fullPath = os.path.join(dirName, entry)\n",
    "        if os.path.isdir(fullPath):\n",
    "            allFiles = allFiles + getListOfFiles(fullPath)\n",
    "        else:\n",
    "            allFiles.append(fullPath)\n",
    "                \n",
    "    return allFiles \n",
    "\n",
    "#getListOfFiles('all')"
   ]
  },
  {
   "cell_type": "code",
   "execution_count": 29,
   "id": "b05fec19",
   "metadata": {},
   "outputs": [],
   "source": [
    "path_list = getListOfFiles('sample')"
   ]
  },
  {
   "cell_type": "code",
   "execution_count": 66,
   "id": "0142cbef",
   "metadata": {},
   "outputs": [
    {
     "data": {
      "text/plain": [
       "['sample/20171_M11_helemoedet.xml',\n",
       " 'sample/20211_M60_helemoedet.xml',\n",
       " 'sample/20171_M46_helemoedet.xml']"
      ]
     },
     "execution_count": 66,
     "metadata": {},
     "output_type": "execute_result"
    }
   ],
   "source": [
    "path_list"
   ]
  },
  {
   "cell_type": "markdown",
   "id": "ec89c337",
   "metadata": {},
   "source": [
    "# Extract metadata function"
   ]
  },
  {
   "cell_type": "code",
   "execution_count": 69,
   "id": "fea7b193",
   "metadata": {},
   "outputs": [],
   "source": [
    "#def extract_metadata(file): \n",
    "    #tree = ET.parse(file)\n",
    "    #root = tree.getroot()\n",
    "    #xml = ET.tostring(root, encoding='utf8').decode('utf8')\n",
    "\n",
    "def extract_metadata(xml): \n",
    "    soup = bs(xml, 'lxml')\n",
    "    \n",
    "    d = soup.find(\"dateofsitting\").text[:10]\n",
    "    m = soup.find(\"meetingnumber\").text\n",
    "    s = soup.find(\"parliamentarysession\").text\n",
    "    g = soup.find(\"parliamentarygroup\").text\n",
    "    l = soup.find(\"location\").text\n",
    "    \n",
    "    date.append(d)\n",
    "    meetingnumber.append(m)\n",
    "    session.append(s)\n",
    "    group.append(g)\n",
    "    location.append(l)"
   ]
  },
  {
   "cell_type": "code",
   "execution_count": 70,
   "id": "1cd9d366",
   "metadata": {},
   "outputs": [],
   "source": [
    "# empty lists (columns)\n",
    "date = []\n",
    "content = []\n",
    "meetingnumber = []\n",
    "session = []\n",
    "group = []\n",
    "location = []"
   ]
  },
  {
   "cell_type": "code",
   "execution_count": null,
   "id": "74c70e6b",
   "metadata": {},
   "outputs": [],
   "source": []
  },
  {
   "cell_type": "markdown",
   "id": "cae19217",
   "metadata": {},
   "source": [
    "# Content function "
   ]
  },
  {
   "cell_type": "code",
   "execution_count": 88,
   "id": "3f4f43ea",
   "metadata": {},
   "outputs": [],
   "source": [
    "''' lokalt\n",
    "def extract_content(file):\n",
    "    tree = ET.parse(file)\n",
    "    root = tree.getroot()\n",
    "    xml = ET.tostring(root, encoding='utf8').decode('utf8')\n",
    "'''    \n",
    "\n",
    "def extract_content(xml):\n",
    "    soup = bs(xml, 'lxml')\n",
    "    \n",
    "    dp = soup.find_all(\"dagsordenpunkt\")\n",
    "    \n",
    "    for punkt in range(0, len(dp)):\n",
    "        content.append(dp[punkt].get_text(separator = ' '))"
   ]
  },
  {
   "cell_type": "markdown",
   "id": "3dc7e086",
   "metadata": {},
   "source": [
    "# Apply content function to files"
   ]
  },
  {
   "cell_type": "code",
   "execution_count": 37,
   "id": "a0f2bb37",
   "metadata": {},
   "outputs": [],
   "source": [
    "extract_content('20091_M100_helemoedet.xml')"
   ]
  },
  {
   "cell_type": "code",
   "execution_count": 38,
   "id": "4802c1a8",
   "metadata": {},
   "outputs": [],
   "source": [
    "dp = soup.find_all(\"dagsordenpunkt\")\n",
    "    \n",
    "for punkt in range(0, len(dp)):\n",
    "    content.append(dp[punkt].get_text(separator = ' '))"
   ]
  },
  {
   "cell_type": "code",
   "execution_count": 87,
   "id": "c918b9a6",
   "metadata": {},
   "outputs": [
    {
     "data": {
      "text/plain": [
       "0"
      ]
     },
     "execution_count": 87,
     "metadata": {},
     "output_type": "execute_result"
    }
   ],
   "source": [
    "len(content)"
   ]
  },
  {
   "cell_type": "code",
   "execution_count": 40,
   "id": "c7a5b431",
   "metadata": {},
   "outputs": [],
   "source": [
    "t = extract_content('20091_M100_helemoedet.xml')"
   ]
  },
  {
   "cell_type": "code",
   "execution_count": 41,
   "id": "69e0d79d",
   "metadata": {},
   "outputs": [],
   "source": [
    "for path in path_list: \n",
    "    extract_content(path)"
   ]
  },
  {
   "cell_type": "markdown",
   "id": "2389eaec",
   "metadata": {},
   "source": [
    "# Apply metadata function to files"
   ]
  },
  {
   "cell_type": "code",
   "execution_count": 43,
   "id": "3cc4dfad",
   "metadata": {},
   "outputs": [],
   "source": [
    "#for path in path_list: \n",
    "#    extract_metadata(path)"
   ]
  },
  {
   "cell_type": "code",
   "execution_count": 85,
   "id": "789b3f31",
   "metadata": {},
   "outputs": [],
   "source": [
    "test = indhold[0:5]\n",
    "for i in test: \n",
    "    extract_metadata(i)"
   ]
  },
  {
   "cell_type": "code",
   "execution_count": 86,
   "id": "d533cac3",
   "metadata": {},
   "outputs": [
    {
     "data": {
      "text/plain": [
       "['20091',\n",
       " '20091',\n",
       " '20091',\n",
       " '20091',\n",
       " '20091',\n",
       " '20091',\n",
       " '20091',\n",
       " '20091',\n",
       " '20091',\n",
       " '20091',\n",
       " '20091',\n",
       " '20091']"
      ]
     },
     "execution_count": 86,
     "metadata": {},
     "output_type": "execute_result"
    }
   ],
   "source": [
    "session"
   ]
  },
  {
   "cell_type": "markdown",
   "id": "0bcd87fa",
   "metadata": {},
   "source": [
    "# Make DataFrame"
   ]
  },
  {
   "cell_type": "code",
   "execution_count": 46,
   "id": "bad36ae8",
   "metadata": {},
   "outputs": [
    {
     "data": {
      "text/html": [
       "<div>\n",
       "<style scoped>\n",
       "    .dataframe tbody tr th:only-of-type {\n",
       "        vertical-align: middle;\n",
       "    }\n",
       "\n",
       "    .dataframe tbody tr th {\n",
       "        vertical-align: top;\n",
       "    }\n",
       "\n",
       "    .dataframe thead th {\n",
       "        text-align: right;\n",
       "    }\n",
       "</style>\n",
       "<table border=\"1\" class=\"dataframe\">\n",
       "  <thead>\n",
       "    <tr style=\"text-align: right;\">\n",
       "      <th></th>\n",
       "      <th>date</th>\n",
       "      <th>content</th>\n",
       "      <th>meetingnumber</th>\n",
       "      <th>session</th>\n",
       "      <th>group</th>\n",
       "      <th>location</th>\n",
       "    </tr>\n",
       "  </thead>\n",
       "  <tbody>\n",
       "    <tr>\n",
       "      <th>0</th>\n",
       "      <td>2017-10-27</td>\n",
       "      <td>0 FM Punkt 0 Meddelelser fra formanden Holger ...</td>\n",
       "      <td>11</td>\n",
       "      <td>20171</td>\n",
       "      <td>Folketinget</td>\n",
       "      <td>Folketingssalen</td>\n",
       "    </tr>\n",
       "    <tr>\n",
       "      <th>1</th>\n",
       "      <td>2022-02-10</td>\n",
       "      <td>1 222 L BEH1 1. behandling af L 222: Om nedsæt...</td>\n",
       "      <td>60</td>\n",
       "      <td>20211</td>\n",
       "      <td>Folketinget</td>\n",
       "      <td>Folketingssalen</td>\n",
       "    </tr>\n",
       "    <tr>\n",
       "      <th>2</th>\n",
       "      <td>2018-01-18</td>\n",
       "      <td>2 218 L BEH1 1. behandling af L 218: Om nedsæt...</td>\n",
       "      <td>46</td>\n",
       "      <td>20171</td>\n",
       "      <td>Folketinget</td>\n",
       "      <td>Folketingssalen</td>\n",
       "    </tr>\n",
       "    <tr>\n",
       "      <th>3</th>\n",
       "      <td>None</td>\n",
       "      <td>3 219 L BEH1 1. behandling af L 219: Om forhøj...</td>\n",
       "      <td>None</td>\n",
       "      <td>None</td>\n",
       "      <td>None</td>\n",
       "      <td>None</td>\n",
       "    </tr>\n",
       "    <tr>\n",
       "      <th>4</th>\n",
       "      <td>None</td>\n",
       "      <td>4 223 L BEH1 1. behandling af L 223: Om staten...</td>\n",
       "      <td>None</td>\n",
       "      <td>None</td>\n",
       "      <td>None</td>\n",
       "      <td>None</td>\n",
       "    </tr>\n",
       "    <tr>\n",
       "      <th>5</th>\n",
       "      <td>None</td>\n",
       "      <td>5 221 L BEH1 1. behandling af L 221: Om person...</td>\n",
       "      <td>None</td>\n",
       "      <td>None</td>\n",
       "      <td>None</td>\n",
       "      <td>None</td>\n",
       "    </tr>\n",
       "    <tr>\n",
       "      <th>6</th>\n",
       "      <td>None</td>\n",
       "      <td>6 220 L BEH1 1. behandling af L 220: Om nedsæt...</td>\n",
       "      <td>None</td>\n",
       "      <td>None</td>\n",
       "      <td>None</td>\n",
       "      <td>None</td>\n",
       "    </tr>\n",
       "    <tr>\n",
       "      <th>7</th>\n",
       "      <td>None</td>\n",
       "      <td>0 FM Punkt 0 Meddelelser fra formanden Holger ...</td>\n",
       "      <td>None</td>\n",
       "      <td>None</td>\n",
       "      <td>None</td>\n",
       "      <td>None</td>\n",
       "    </tr>\n",
       "  </tbody>\n",
       "</table>\n",
       "</div>"
      ],
      "text/plain": [
       "         date                                            content  \\\n",
       "0  2017-10-27  0 FM Punkt 0 Meddelelser fra formanden Holger ...   \n",
       "1  2022-02-10  1 222 L BEH1 1. behandling af L 222: Om nedsæt...   \n",
       "2  2018-01-18  2 218 L BEH1 1. behandling af L 218: Om nedsæt...   \n",
       "3        None  3 219 L BEH1 1. behandling af L 219: Om forhøj...   \n",
       "4        None  4 223 L BEH1 1. behandling af L 223: Om staten...   \n",
       "5        None  5 221 L BEH1 1. behandling af L 221: Om person...   \n",
       "6        None  6 220 L BEH1 1. behandling af L 220: Om nedsæt...   \n",
       "7        None  0 FM Punkt 0 Meddelelser fra formanden Holger ...   \n",
       "\n",
       "  meetingnumber session        group         location  \n",
       "0            11   20171  Folketinget  Folketingssalen  \n",
       "1            60   20211  Folketinget  Folketingssalen  \n",
       "2            46   20171  Folketinget  Folketingssalen  \n",
       "3          None    None         None             None  \n",
       "4          None    None         None             None  \n",
       "5          None    None         None             None  \n",
       "6          None    None         None             None  \n",
       "7          None    None         None             None  "
      ]
     },
     "execution_count": 46,
     "metadata": {},
     "output_type": "execute_result"
    }
   ],
   "source": [
    "df = pd.DataFrame([date, content, meetingnumber, session, group, location]).transpose()\n",
    "df.columns = ['date', 'content', 'meetingnumber', 'session', 'group', 'location']\n",
    "df"
   ]
  },
  {
   "cell_type": "code",
   "execution_count": null,
   "id": "e5dded1f",
   "metadata": {},
   "outputs": [],
   "source": []
  },
  {
   "cell_type": "code",
   "execution_count": null,
   "id": "e0873f6b",
   "metadata": {},
   "outputs": [],
   "source": []
  },
  {
   "cell_type": "code",
   "execution_count": null,
   "id": "401e050b",
   "metadata": {},
   "outputs": [],
   "source": []
  },
  {
   "cell_type": "code",
   "execution_count": null,
   "id": "6e3bc2e5",
   "metadata": {},
   "outputs": [],
   "source": []
  },
  {
   "cell_type": "code",
   "execution_count": null,
   "id": "c96bbb3e",
   "metadata": {},
   "outputs": [],
   "source": []
  },
  {
   "cell_type": "code",
   "execution_count": null,
   "id": "995729d3",
   "metadata": {},
   "outputs": [],
   "source": []
  },
  {
   "cell_type": "code",
   "execution_count": null,
   "id": "574f4024",
   "metadata": {},
   "outputs": [],
   "source": []
  },
  {
   "cell_type": "code",
   "execution_count": null,
   "id": "44d9a44d",
   "metadata": {},
   "outputs": [],
   "source": []
  }
 ],
 "metadata": {
  "kernelspec": {
   "display_name": "Python 3",
   "language": "python",
   "name": "python3"
  },
  "language_info": {
   "codemirror_mode": {
    "name": "ipython",
    "version": 3
   },
   "file_extension": ".py",
   "mimetype": "text/x-python",
   "name": "python",
   "nbconvert_exporter": "python",
   "pygments_lexer": "ipython3",
   "version": "3.8.8"
  }
 },
 "nbformat": 4,
 "nbformat_minor": 5
}
