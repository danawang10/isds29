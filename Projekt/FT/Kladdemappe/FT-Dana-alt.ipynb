{
 "cells": [
  {
   "cell_type": "code",
   "execution_count": 57,
   "id": "4ed9ff1a",
   "metadata": {},
   "outputs": [],
   "source": [
    "from bs4 import BeautifulSoup as bs\n",
    "import re \n",
    "import os\n",
    "import lxml\n",
    "import xml.etree.ElementTree as ET\n",
    "from lxml import objectify\n",
    "from datetime import datetime\n",
    "import numpy as np \n",
    "import pandas as pd \n",
    "import requests\n",
    "import ftplib\n",
    "from io import BytesIO\n",
    "import tqdm"
   ]
  },
  {
   "cell_type": "markdown",
   "id": "6fe27186",
   "metadata": {},
   "source": [
    "### Prepare to load data"
   ]
  },
  {
   "cell_type": "code",
   "execution_count": 3,
   "id": "42198dbb",
   "metadata": {},
   "outputs": [
    {
     "data": {
      "text/plain": [
       "'\\nwith open(file) as f:\\n    parsed = objectify.parse(f)\\nroot = parsed.getroot()\\n'"
      ]
     },
     "execution_count": 3,
     "metadata": {},
     "output_type": "execute_result"
    }
   ],
   "source": [
    "'''\n",
    "with open(file) as f:\n",
    "    parsed = objectify.parse(f)\n",
    "root = parsed.getroot()\n",
    "'''"
   ]
  },
  {
   "cell_type": "markdown",
   "id": "09b998f5",
   "metadata": {},
   "source": [
    "##### Read xml file "
   ]
  },
  {
   "cell_type": "code",
   "execution_count": 6,
   "id": "c65998c4",
   "metadata": {},
   "outputs": [],
   "source": [
    "file = \"20091_M100_helemoedet.xml\"\n",
    "tree = ET.parse(file)\n",
    "root = tree.getroot()"
   ]
  },
  {
   "cell_type": "markdown",
   "id": "78d07e05",
   "metadata": {},
   "source": [
    "##### Subelements / children"
   ]
  },
  {
   "cell_type": "code",
   "execution_count": 8,
   "id": "85d3f4c8",
   "metadata": {},
   "outputs": [],
   "source": [
    "# children of the root only \n",
    "root_children = []\n",
    "\n",
    "for child in root:\n",
    "    root_children.append((child.tag, child.attrib))"
   ]
  },
  {
   "cell_type": "code",
   "execution_count": 9,
   "id": "2d2a3fd0",
   "metadata": {},
   "outputs": [],
   "source": [
    "# All children in file\n",
    "all_children = [elem.tag for elem in root.iter()]"
   ]
  },
  {
   "cell_type": "code",
   "execution_count": 10,
   "id": "8bca46fa",
   "metadata": {},
   "outputs": [
    {
     "name": "stdout",
     "output_type": "stream",
     "text": [
      "{'MeetingNumber', 'Taler', 'GroupNameShort', 'TalerTitel', 'DateOfSitting', 'Char', 'Rubrica', 'ParliamentarySession', 'AudioFileFolder', 'PunktTekst', 'Dokument', 'ParliamentaryGroup', 'Titel', 'Linea', 'Location', 'MetaFTAgendaItem', 'FTCase', 'Exitus', 'ShortTitle', 'PreTekst', 'OratorFirstName', 'DagsordenPlan', 'Aktivitet', 'TitelGruppe', 'FTCaseType', 'OratorLastName', 'OratorRole', 'FTCaseStage', 'MetaMeeting', 'TekstGruppe', 'StartDateTime', 'TaleType', 'DagsordenPunkt', 'FTCaseNumber', 'MetaSpeakerMP', 'ItemNo', 'TaleSegment', 'EdixiStatus', 'Tale', 'LastModified', 'EdixiDocLocation', 'MetaSpeechSegment', 'EndDateTime', 'UnderTitel'}\n"
     ]
    }
   ],
   "source": [
    "unique_children = set(all_children)\n",
    "print(unique_children)"
   ]
  },
  {
   "cell_type": "markdown",
   "id": "98dadcd6",
   "metadata": {},
   "source": [
    "# Kim"
   ]
  },
  {
   "cell_type": "code",
   "execution_count": 58,
   "id": "b0b93b4f",
   "metadata": {},
   "outputs": [],
   "source": [
    "ftp_url = \"oda.ft.dk\"\n",
    "ftp_dir = \"/ODAXML/Referat/samling/\""
   ]
  },
  {
   "cell_type": "markdown",
   "id": "11d7633b",
   "metadata": {},
   "source": [
    "# Initialisering af lister\n",
    "### Jeg skal finde ud af, hvordan jeg dropper dem igen, når jeg er færdig"
   ]
  },
  {
   "cell_type": "code",
   "execution_count": 59,
   "id": "90b99a5a",
   "metadata": {},
   "outputs": [],
   "source": [
    "dirs = []\n",
    "sub_dir = []\n",
    "filer = []\n",
    "filer_navne = []\n",
    "sti_navn = []\n",
    "indhold = []\n",
    "\n",
    "suppe = []"
   ]
  },
  {
   "cell_type": "markdown",
   "id": "ae76df71",
   "metadata": {},
   "source": [
    "### Login til ftp serveren og henter en liste over biblioteker"
   ]
  },
  {
   "cell_type": "code",
   "execution_count": 60,
   "id": "69c471e2",
   "metadata": {},
   "outputs": [],
   "source": [
    "ftp = ftplib.FTP(ftp_url)\n",
    "ftp.login(\"anonymous\", \"wpg345@alumni.ku.dk\")\n",
    "ftp.set_pasv(True)\n",
    "ftp.cwd(ftp_dir)\n",
    "ftp.dir(dirs.append)"
   ]
  },
  {
   "cell_type": "markdown",
   "id": "3ab54388",
   "metadata": {},
   "source": [
    "### Bygger en liste med underbibliotekter"
   ]
  },
  {
   "cell_type": "code",
   "execution_count": 61,
   "id": "444f57f6",
   "metadata": {},
   "outputs": [],
   "source": [
    "for i in range (0, len(dirs), 1):\n",
    "    sub_dir.append(ftp_dir+dirs[i][-5:]+'/') "
   ]
  },
  {
   "cell_type": "markdown",
   "id": "15f65ee7",
   "metadata": {},
   "source": [
    "### Bygger en liste med filnavne"
   ]
  },
  {
   "cell_type": "code",
   "execution_count": 62,
   "id": "5ea6990e",
   "metadata": {},
   "outputs": [],
   "source": [
    "for i in range (0, len(sub_dir), 1):\n",
    "    ftp.cwd(sub_dir[i])\n",
    "    ftp.dir(filer.append)"
   ]
  },
  {
   "cell_type": "markdown",
   "id": "6618ec3d",
   "metadata": {},
   "source": [
    "### Ekstrakt af filnavn"
   ]
  },
  {
   "cell_type": "code",
   "execution_count": 63,
   "id": "80b8a6d3",
   "metadata": {},
   "outputs": [],
   "source": [
    "for i in range(0, len(filer)):\n",
    "    filer_navne.append(filer[i][39:])"
   ]
  },
  {
   "cell_type": "markdown",
   "id": "11a19a62",
   "metadata": {},
   "source": [
    "### Opbygning af hele stien og filnavn"
   ]
  },
  {
   "cell_type": "code",
   "execution_count": 64,
   "id": "0567fd6c",
   "metadata": {},
   "outputs": [],
   "source": [
    "for i in range(0, len(filer_navne)):\n",
    "    sti_navn.append(ftp_dir+filer_navne[i][0:5]+'/'+filer_navne[i])"
   ]
  },
  {
   "cell_type": "markdown",
   "id": "d4647f76",
   "metadata": {},
   "source": [
    "### Overførsel af de enkelte filer fra ftp://oda.ft.dk, og indholdet skrives til liste"
   ]
  },
  {
   "cell_type": "code",
   "execution_count": 65,
   "id": "83b7e735",
   "metadata": {},
   "outputs": [
    {
     "name": "stderr",
     "output_type": "stream",
     "text": [
      "100%|██████████| 1489/1489 [02:53<00:00,  8.58it/s]\n"
     ]
    }
   ],
   "source": [
    "for i in tqdm.tqdm(range(0, len(sti_navn))):\n",
    "# for i in tqdm.tqdm(range(0, 10)):\n",
    "    r = BytesIO()\n",
    "    ftp.retrbinary(f\"RETR {sti_navn[i]}\", r.write)\n",
    "    indhold.append(r.getvalue())\n",
    "    r.close()"
   ]
  },
  {
   "cell_type": "code",
   "execution_count": null,
   "id": "5cfd0daf",
   "metadata": {},
   "outputs": [],
   "source": []
  },
  {
   "cell_type": "markdown",
   "id": "4225a763",
   "metadata": {},
   "source": [
    "# Single file (lokal)"
   ]
  },
  {
   "cell_type": "code",
   "execution_count": 12,
   "id": "770b58ff",
   "metadata": {},
   "outputs": [],
   "source": [
    "# entire xml file as string\n",
    "xml = ET.tostring(root, encoding='utf8').decode('utf8')"
   ]
  },
  {
   "cell_type": "markdown",
   "id": "3028a198",
   "metadata": {},
   "source": [
    "##### Soup "
   ]
  },
  {
   "cell_type": "code",
   "execution_count": 14,
   "id": "e443588b",
   "metadata": {},
   "outputs": [],
   "source": [
    "soup = bs(xml, 'lxml')"
   ]
  },
  {
   "cell_type": "code",
   "execution_count": 15,
   "id": "bffa7530",
   "metadata": {},
   "outputs": [
    {
     "data": {
      "text/plain": [
       "8"
      ]
     },
     "execution_count": 15,
     "metadata": {},
     "output_type": "execute_result"
    }
   ],
   "source": [
    "dagsordenpunkter = soup.find_all(\"dagsordenpunkt\") # punkterne med tags \n",
    "len(dagsordenpunkter)"
   ]
  },
  {
   "cell_type": "code",
   "execution_count": null,
   "id": "37e44d4f",
   "metadata": {},
   "outputs": [],
   "source": [
    "# dagsordenpunkter[1]"
   ]
  },
  {
   "cell_type": "markdown",
   "id": "b6310dee",
   "metadata": {},
   "source": [
    "### Remove datetime tags (lokal)"
   ]
  },
  {
   "cell_type": "code",
   "execution_count": 18,
   "id": "8e1beee5",
   "metadata": {},
   "outputs": [
    {
     "data": {
      "text/plain": [
       "\"\\nfor tag in soup.find_all('startdatetime'):\\n    tag.replace('')\\n    \\nfor tag in soup.find_all('enddatetime'):\\n    tag.replace('')\\n\\nfor tag in soup.find_all('lastmodified'):\\n    tag.replace('')\\n    \\nfor tag in soup.find_all('edixistatus'):\\n    tag.replace('')\\n\""
      ]
     },
     "execution_count": 18,
     "metadata": {},
     "output_type": "execute_result"
    }
   ],
   "source": [
    "'''\n",
    "for tag in soup.find_all('startdatetime'):\n",
    "    tag.replace('')\n",
    "    \n",
    "for tag in soup.find_all('enddatetime'):\n",
    "    tag.replace('')\n",
    "\n",
    "for tag in soup.find_all('lastmodified'):\n",
    "    tag.replace('')\n",
    "    \n",
    "for tag in soup.find_all('edixistatus'):\n",
    "    tag.replace('')\n",
    "'''"
   ]
  },
  {
   "cell_type": "code",
   "execution_count": 19,
   "id": "37a4de42",
   "metadata": {},
   "outputs": [
    {
     "data": {
      "text/plain": [
       "\"\\nsoup.find_all('startdatetime').decompose()\\nsoup.find_all('enddatetime').decompose()\\nsoup.find_all('lastmodified').decompose()\\n\""
      ]
     },
     "execution_count": 19,
     "metadata": {},
     "output_type": "execute_result"
    }
   ],
   "source": [
    "'''\n",
    "soup.find_all('startdatetime').decompose()\n",
    "soup.find_all('enddatetime').decompose()\n",
    "soup.find_all('lastmodified').decompose()\n",
    "'''"
   ]
  },
  {
   "cell_type": "code",
   "execution_count": 20,
   "id": "f04332a1",
   "metadata": {},
   "outputs": [],
   "source": [
    "soup.startdatetime.clear()\n",
    "soup.enddatetime.clear()\n",
    "soup.lastmodified.clear()"
   ]
  },
  {
   "cell_type": "markdown",
   "id": "7ad19d1c",
   "metadata": {},
   "source": [
    "### Dagsordenpunkter uden tags (lokal)"
   ]
  },
  {
   "cell_type": "code",
   "execution_count": 22,
   "id": "813d912c",
   "metadata": {},
   "outputs": [],
   "source": [
    "punkter = []  # punkterne uden tags \n",
    "\n",
    "for dagsordenpunkt in range(0, len(dagsordenpunkter)):\n",
    "    punkter.append(dagsordenpunkter[dagsordenpunkt].get_text(separator = ' '))"
   ]
  },
  {
   "cell_type": "code",
   "execution_count": 23,
   "id": "9bfa0489",
   "metadata": {},
   "outputs": [
    {
     "data": {
      "text/plain": [
       "'0 FM Punkt 0 Meddelelser fra formanden Holger K. Nielsen SF formand Tredje næstformand  (Holger K. Nielsen) Typeset Mødet er åbnet. Finansudvalget har afgivet: Betænkning og indstilling vedrørende forslag til folketingsbeslutning i henhold til grundlovens § 47 med hensyn til statsregnskabet for finansåret 2008. (Beslutningsforslag nr. B 248). Betænkningen og indstillingen vil fremgå af www.folketingstidende.dk.'"
      ]
     },
     "execution_count": 23,
     "metadata": {},
     "output_type": "execute_result"
    }
   ],
   "source": [
    "punkter[0]"
   ]
  },
  {
   "cell_type": "markdown",
   "id": "883ddaf0",
   "metadata": {},
   "source": [
    "### Meta data (lokal)"
   ]
  },
  {
   "cell_type": "code",
   "execution_count": 25,
   "id": "d23d5f3f",
   "metadata": {},
   "outputs": [],
   "source": [
    "dato = bs(xml).find(\"dateofsitting\").text[:10]\n",
    "moedenr = bs(xml).find(\"meetingnumber\").text\n",
    "samling = bs(xml).find(\"parliamentarysession\").text\n",
    "hvem = bs(xml).find(\"parliamentarygroup\").text\n",
    "lokation = bs(xml).find(\"location\").text"
   ]
  },
  {
   "cell_type": "code",
   "execution_count": 26,
   "id": "88644fa7",
   "metadata": {},
   "outputs": [
    {
     "data": {
      "text/plain": [
       "'Folketingssalen'"
      ]
     },
     "execution_count": 26,
     "metadata": {},
     "output_type": "execute_result"
    }
   ],
   "source": [
    "lokation"
   ]
  },
  {
   "cell_type": "markdown",
   "id": "147b27e3",
   "metadata": {},
   "source": [
    "### List of filepaths (skrottet)"
   ]
  },
  {
   "cell_type": "code",
   "execution_count": 28,
   "id": "32333b84",
   "metadata": {},
   "outputs": [],
   "source": [
    "def getListOfFiles(dirName):\n",
    "    listOfFile = os.listdir(dirName)\n",
    "    allFiles = list()\n",
    "    for entry in listOfFile:\n",
    "        fullPath = os.path.join(dirName, entry)\n",
    "        if os.path.isdir(fullPath):\n",
    "            allFiles = allFiles + getListOfFiles(fullPath)\n",
    "        else:\n",
    "            allFiles.append(fullPath)\n",
    "                \n",
    "    return allFiles \n",
    "\n",
    "#getListOfFiles('all')"
   ]
  },
  {
   "cell_type": "code",
   "execution_count": 29,
   "id": "b05fec19",
   "metadata": {},
   "outputs": [],
   "source": [
    "path_list = getListOfFiles('sample')"
   ]
  },
  {
   "cell_type": "code",
   "execution_count": 66,
   "id": "0142cbef",
   "metadata": {},
   "outputs": [
    {
     "data": {
      "text/plain": [
       "['sample/20171_M11_helemoedet.xml',\n",
       " 'sample/20211_M60_helemoedet.xml',\n",
       " 'sample/20171_M46_helemoedet.xml']"
      ]
     },
     "execution_count": 66,
     "metadata": {},
     "output_type": "execute_result"
    }
   ],
   "source": [
    "path_list"
   ]
  },
  {
   "cell_type": "markdown",
   "id": "ec89c337",
   "metadata": {},
   "source": [
    "# Extract metadata function"
   ]
  },
  {
   "cell_type": "code",
   "execution_count": 69,
   "id": "fea7b193",
   "metadata": {},
   "outputs": [],
   "source": [
    "#def extract_metadata(file): \n",
    "    #tree = ET.parse(file)\n",
    "    #root = tree.getroot()\n",
    "    #xml = ET.tostring(root, encoding='utf8').decode('utf8')\n",
    "\n",
    "def extract_metadata(xml): \n",
    "    soup = bs(xml, 'lxml')\n",
    "    \n",
    "    d = soup.find(\"dateofsitting\").text[:10]\n",
    "    m = soup.find(\"meetingnumber\").text\n",
    "    s = soup.find(\"parliamentarysession\").text\n",
    "    g = soup.find(\"parliamentarygroup\").text\n",
    "    l = soup.find(\"location\").text\n",
    "    \n",
    "    date.append(d)\n",
    "    meetingnumber.append(m)\n",
    "    session.append(s)\n",
    "    group.append(g)\n",
    "    location.append(l)"
   ]
  },
  {
   "cell_type": "code",
   "execution_count": 70,
   "id": "1cd9d366",
   "metadata": {},
   "outputs": [],
   "source": [
    "# empty lists (columns)\n",
    "date = []\n",
    "content = []\n",
    "meetingnumber = []\n",
    "session = []\n",
    "group = []\n",
    "location = []"
   ]
  },
  {
   "cell_type": "code",
   "execution_count": null,
   "id": "74c70e6b",
   "metadata": {},
   "outputs": [],
   "source": []
  },
  {
   "cell_type": "markdown",
   "id": "cae19217",
   "metadata": {},
   "source": [
    "# Content function "
   ]
  },
  {
   "cell_type": "code",
   "execution_count": 88,
   "id": "3f4f43ea",
   "metadata": {},
   "outputs": [],
   "source": [
    "''' lokalt\n",
    "def extract_content(file):\n",
    "    tree = ET.parse(file)\n",
    "    root = tree.getroot()\n",
    "    xml = ET.tostring(root, encoding='utf8').decode('utf8')\n",
    "'''    \n",
    "\n",
    "def extract_content(xml):\n",
    "    soup = bs(xml, 'lxml')\n",
    "    \n",
    "    dp = soup.find_all(\"dagsordenpunkt\")\n",
    "    \n",
    "    for punkt in range(0, len(dp)):\n",
    "        content.append(dp[punkt].get_text(separator = ' '))"
   ]
  },
  {
   "cell_type": "markdown",
   "id": "3dc7e086",
   "metadata": {},
   "source": [
    "# Apply content function to files"
   ]
  },
  {
   "cell_type": "code",
   "execution_count": 37,
   "id": "a0f2bb37",
   "metadata": {},
   "outputs": [],
   "source": [
    "extract_content('20091_M100_helemoedet.xml')"
   ]
  },
  {
   "cell_type": "code",
   "execution_count": 38,
   "id": "4802c1a8",
   "metadata": {},
   "outputs": [],
   "source": [
    "dp = soup.find_all(\"dagsordenpunkt\")\n",
    "    \n",
    "for punkt in range(0, len(dp)):\n",
    "    content.append(dp[punkt].get_text(separator = ' '))"
   ]
  },
  {
   "cell_type": "code",
   "execution_count": 87,
   "id": "c918b9a6",
   "metadata": {},
   "outputs": [
    {
     "data": {
      "text/plain": [
       "0"
      ]
     },
     "execution_count": 87,
     "metadata": {},
     "output_type": "execute_result"
    }
   ],
   "source": [
    "len(content)"
   ]
  },
  {
   "cell_type": "code",
   "execution_count": 40,
   "id": "c7a5b431",
   "metadata": {},
   "outputs": [],
   "source": [
    "t = extract_content('20091_M100_helemoedet.xml')"
   ]
  },
  {
   "cell_type": "code",
   "execution_count": 41,
   "id": "69e0d79d",
   "metadata": {},
   "outputs": [],
   "source": [
    "for path in path_list: \n",
    "    extract_content(path)"
   ]
  },
  {
   "cell_type": "markdown",
   "id": "2389eaec",
   "metadata": {},
   "source": [
    "# Apply metadata function to files"
   ]
  },
  {
   "cell_type": "code",
   "execution_count": 43,
   "id": "3cc4dfad",
   "metadata": {},
   "outputs": [],
   "source": [
    "#for path in path_list: \n",
    "#    extract_metadata(path)"
   ]
  },
  {
   "cell_type": "code",
   "execution_count": 85,
   "id": "789b3f31",
   "metadata": {},
   "outputs": [],
   "source": [
    "test = indhold[0:5]\n",
    "for i in test: \n",
    "    extract_metadata(i)"
   ]
  },
  {
   "cell_type": "code",
   "execution_count": 86,
   "id": "d533cac3",
   "metadata": {},
   "outputs": [
    {
     "data": {
      "text/plain": [
       "['20091',\n",
       " '20091',\n",
       " '20091',\n",
       " '20091',\n",
       " '20091',\n",
       " '20091',\n",
       " '20091',\n",
       " '20091',\n",
       " '20091',\n",
       " '20091',\n",
       " '20091',\n",
       " '20091']"
      ]
     },
     "execution_count": 86,
     "metadata": {},
     "output_type": "execute_result"
    }
   ],
   "source": [
    "session"
   ]
  },
  {
   "cell_type": "markdown",
   "id": "0bcd87fa",
   "metadata": {},
   "source": [
    "# Make DataFrame"
   ]
  },
  {
   "cell_type": "code",
   "execution_count": 46,
   "id": "bad36ae8",
   "metadata": {},
   "outputs": [
    {
     "data": {
      "text/html": [
       "<div>\n",
       "<style scoped>\n",
       "    .dataframe tbody tr th:only-of-type {\n",
       "        vertical-align: middle;\n",
       "    }\n",
       "\n",
       "    .dataframe tbody tr th {\n",
       "        vertical-align: top;\n",
       "    }\n",
       "\n",
       "    .dataframe thead th {\n",
       "        text-align: right;\n",
       "    }\n",
       "</style>\n",
       "<table border=\"1\" class=\"dataframe\">\n",
       "  <thead>\n",
       "    <tr style=\"text-align: right;\">\n",
       "      <th></th>\n",
       "      <th>date</th>\n",
       "      <th>content</th>\n",
       "      <th>meetingnumber</th>\n",
       "      <th>session</th>\n",
       "      <th>group</th>\n",
       "      <th>location</th>\n",
       "    </tr>\n",
       "  </thead>\n",
       "  <tbody>\n",
       "    <tr>\n",
       "      <th>0</th>\n",
       "      <td>2017-10-27</td>\n",
       "      <td>0 FM Punkt 0 Meddelelser fra formanden Holger ...</td>\n",
       "      <td>11</td>\n",
       "      <td>20171</td>\n",
       "      <td>Folketinget</td>\n",
       "      <td>Folketingssalen</td>\n",
       "    </tr>\n",
       "    <tr>\n",
       "      <th>1</th>\n",
       "      <td>2022-02-10</td>\n",
       "      <td>1 222 L BEH1 1. behandling af L 222: Om nedsæt...</td>\n",
       "      <td>60</td>\n",
       "      <td>20211</td>\n",
       "      <td>Folketinget</td>\n",
       "      <td>Folketingssalen</td>\n",
       "    </tr>\n",
       "    <tr>\n",
       "      <th>2</th>\n",
       "      <td>2018-01-18</td>\n",
       "      <td>2 218 L BEH1 1. behandling af L 218: Om nedsæt...</td>\n",
       "      <td>46</td>\n",
       "      <td>20171</td>\n",
       "      <td>Folketinget</td>\n",
       "      <td>Folketingssalen</td>\n",
       "    </tr>\n",
       "    <tr>\n",
       "      <th>3</th>\n",
       "      <td>None</td>\n",
       "      <td>3 219 L BEH1 1. behandling af L 219: Om forhøj...</td>\n",
       "      <td>None</td>\n",
       "      <td>None</td>\n",
       "      <td>None</td>\n",
       "      <td>None</td>\n",
       "    </tr>\n",
       "    <tr>\n",
       "      <th>4</th>\n",
       "      <td>None</td>\n",
       "      <td>4 223 L BEH1 1. behandling af L 223: Om staten...</td>\n",
       "      <td>None</td>\n",
       "      <td>None</td>\n",
       "      <td>None</td>\n",
       "      <td>None</td>\n",
       "    </tr>\n",
       "    <tr>\n",
       "      <th>5</th>\n",
       "      <td>None</td>\n",
       "      <td>5 221 L BEH1 1. behandling af L 221: Om person...</td>\n",
       "      <td>None</td>\n",
       "      <td>None</td>\n",
       "      <td>None</td>\n",
       "      <td>None</td>\n",
       "    </tr>\n",
       "    <tr>\n",
       "      <th>6</th>\n",
       "      <td>None</td>\n",
       "      <td>6 220 L BEH1 1. behandling af L 220: Om nedsæt...</td>\n",
       "      <td>None</td>\n",
       "      <td>None</td>\n",
       "      <td>None</td>\n",
       "      <td>None</td>\n",
       "    </tr>\n",
       "    <tr>\n",
       "      <th>7</th>\n",
       "      <td>None</td>\n",
       "      <td>0 FM Punkt 0 Meddelelser fra formanden Holger ...</td>\n",
       "      <td>None</td>\n",
       "      <td>None</td>\n",
       "      <td>None</td>\n",
       "      <td>None</td>\n",
       "    </tr>\n",
       "  </tbody>\n",
       "</table>\n",
       "</div>"
      ],
      "text/plain": [
       "         date                                            content  \\\n",
       "0  2017-10-27  0 FM Punkt 0 Meddelelser fra formanden Holger ...   \n",
       "1  2022-02-10  1 222 L BEH1 1. behandling af L 222: Om nedsæt...   \n",
       "2  2018-01-18  2 218 L BEH1 1. behandling af L 218: Om nedsæt...   \n",
       "3        None  3 219 L BEH1 1. behandling af L 219: Om forhøj...   \n",
       "4        None  4 223 L BEH1 1. behandling af L 223: Om staten...   \n",
       "5        None  5 221 L BEH1 1. behandling af L 221: Om person...   \n",
       "6        None  6 220 L BEH1 1. behandling af L 220: Om nedsæt...   \n",
       "7        None  0 FM Punkt 0 Meddelelser fra formanden Holger ...   \n",
       "\n",
       "  meetingnumber session        group         location  \n",
       "0            11   20171  Folketinget  Folketingssalen  \n",
       "1            60   20211  Folketinget  Folketingssalen  \n",
       "2            46   20171  Folketinget  Folketingssalen  \n",
       "3          None    None         None             None  \n",
       "4          None    None         None             None  \n",
       "5          None    None         None             None  \n",
       "6          None    None         None             None  \n",
       "7          None    None         None             None  "
      ]
     },
     "execution_count": 46,
     "metadata": {},
     "output_type": "execute_result"
    }
   ],
   "source": [
    "df = pd.DataFrame([date, content, meetingnumber, session, group, location]).transpose()\n",
    "df.columns = ['date', 'content', 'meetingnumber', 'session', 'group', 'location']\n",
    "df"
   ]
  },
  {
   "cell_type": "code",
   "execution_count": null,
   "id": "e5dded1f",
   "metadata": {},
   "outputs": [],
   "source": []
  },
  {
   "cell_type": "code",
   "execution_count": null,
   "id": "e0873f6b",
   "metadata": {},
   "outputs": [],
   "source": []
  },
  {
   "cell_type": "code",
   "execution_count": null,
   "id": "401e050b",
   "metadata": {},
   "outputs": [],
   "source": []
  },
  {
   "cell_type": "code",
   "execution_count": null,
   "id": "6e3bc2e5",
   "metadata": {},
   "outputs": [],
   "source": []
  },
  {
   "cell_type": "code",
   "execution_count": null,
   "id": "c96bbb3e",
   "metadata": {},
   "outputs": [],
   "source": []
  },
  {
   "cell_type": "code",
   "execution_count": null,
   "id": "995729d3",
   "metadata": {},
   "outputs": [],
   "source": []
  },
  {
   "cell_type": "code",
   "execution_count": null,
   "id": "574f4024",
   "metadata": {},
   "outputs": [],
   "source": []
  },
  {
   "cell_type": "code",
   "execution_count": null,
   "id": "44d9a44d",
   "metadata": {},
   "outputs": [],
   "source": []
  }
 ],
 "metadata": {
  "kernelspec": {
   "display_name": "Python 3",
   "language": "python",
   "name": "python3"
  },
  "language_info": {
   "codemirror_mode": {
    "name": "ipython",
    "version": 3
   },
   "file_extension": ".py",
   "mimetype": "text/x-python",
   "name": "python",
   "nbconvert_exporter": "python",
   "pygments_lexer": "ipython3",
   "version": "3.8.8"
  }
 },
 "nbformat": 4,
 "nbformat_minor": 5
}
