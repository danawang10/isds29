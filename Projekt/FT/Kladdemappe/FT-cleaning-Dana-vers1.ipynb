{
 "cells": [
  {
   "cell_type": "markdown",
   "id": "4633df9f",
   "metadata": {},
   "source": [
    "# FT cleaning"
   ]
  },
  {
   "cell_type": "code",
   "execution_count": 3,
   "id": "c70b1103",
   "metadata": {},
   "outputs": [],
   "source": [
    "from bs4 import BeautifulSoup as bs\n",
    "import re \n",
    "import os\n",
    "import lxml\n",
    "import xml.etree.ElementTree as ET\n",
    "from lxml import objectify\n",
    "from datetime import datetime\n",
    "import numpy as np \n",
    "import pandas as pd \n",
    "import requests\n",
    "import ftplib\n",
    "from io import BytesIO\n",
    "import tqdm\n",
    "import matplotlib.pyplot as plt\n",
    "import seaborn as sns"
   ]
  },
  {
   "cell_type": "markdown",
   "id": "5733a54a",
   "metadata": {},
   "source": [
    "# Load FT.csv"
   ]
  },
  {
   "cell_type": "code",
   "execution_count": 4,
   "id": "23ced595",
   "metadata": {},
   "outputs": [],
   "source": [
    "df = pd.read_csv('FT.csv')"
   ]
  },
  {
   "cell_type": "markdown",
   "id": "3abf36c1",
   "metadata": {},
   "source": [
    "# Clean function"
   ]
  },
  {
   "cell_type": "code",
   "execution_count": 5,
   "id": "c3c0e21c",
   "metadata": {},
   "outputs": [],
   "source": [
    "# Define cleaner function\n",
    "def cleaner(df):\n",
    "    df['content'] = df['content'].apply(lambda x:x.lower())\n",
    "    df['content'] = df[\"content\"].str.replace(\"[.,:;]\",\"\") # Remove special characters\n",
    "    \n",
    "    return df"
   ]
  },
  {
   "cell_type": "code",
   "execution_count": 12,
   "id": "2c0a17de",
   "metadata": {},
   "outputs": [
    {
     "name": "stderr",
     "output_type": "stream",
     "text": [
      "<ipython-input-11-7ee2d852affc>:3: FutureWarning: The default value of regex will change from True to False in a future version.\n",
      "  df['content'] = df[\"content\"].str.replace(\"[.,:;]\",\"\") # Remove special characters\n"
     ]
    }
   ],
   "source": [
    "# Apply cleaner function and save cleaned to csv \n",
    "df = cleaner(df)\n",
    "df.to_csv('FT_clean.csv')"
   ]
  },
  {
   "cell_type": "markdown",
   "id": "175bfc60",
   "metadata": {},
   "source": [
    "# Discard rows that do not mention 'sygeplej*'"
   ]
  },
  {
   "cell_type": "code",
   "execution_count": 13,
   "id": "1eb57df2",
   "metadata": {},
   "outputs": [],
   "source": [
    "FT_clean_syg = df[df.apply(lambda row: row.astype(str).str.contains('sygeplej',\n",
    "                                                             case = False).any(), axis=1)]"
   ]
  },
  {
   "cell_type": "code",
   "execution_count": 14,
   "id": "9faa97b0",
   "metadata": {},
   "outputs": [],
   "source": [
    "FT_clean_syg.to_csv('FT_clean_syg.csv', index = False)"
   ]
  },
  {
   "cell_type": "markdown",
   "id": "007df149",
   "metadata": {},
   "source": [
    "# Load FT_clean_syg"
   ]
  },
  {
   "cell_type": "code",
   "execution_count": 26,
   "id": "7018df0d",
   "metadata": {},
   "outputs": [],
   "source": [
    "FT_clean_syg = pd.read_csv('FT_clean_syg.csv')"
   ]
  },
  {
   "cell_type": "code",
   "execution_count": 48,
   "id": "034ac395",
   "metadata": {},
   "outputs": [
    {
     "data": {
      "text/html": [
       "<div>\n",
       "<style scoped>\n",
       "    .dataframe tbody tr th:only-of-type {\n",
       "        vertical-align: middle;\n",
       "    }\n",
       "\n",
       "    .dataframe tbody tr th {\n",
       "        vertical-align: top;\n",
       "    }\n",
       "\n",
       "    .dataframe thead th {\n",
       "        text-align: right;\n",
       "    }\n",
       "</style>\n",
       "<table border=\"1\" class=\"dataframe\">\n",
       "  <thead>\n",
       "    <tr style=\"text-align: right;\">\n",
       "      <th></th>\n",
       "      <th>date</th>\n",
       "      <th>content</th>\n",
       "      <th>meetingnumber</th>\n",
       "      <th>session</th>\n",
       "      <th>group</th>\n",
       "      <th>location</th>\n",
       "    </tr>\n",
       "  </thead>\n",
       "  <tbody>\n",
       "    <tr>\n",
       "      <th>0</th>\n",
       "      <td>2010-05-31</td>\n",
       "      <td>1 222 l beh1 1 behandling af l 222 om nedsætte...</td>\n",
       "      <td>100</td>\n",
       "      <td>20091</td>\n",
       "      <td>Folketinget</td>\n",
       "      <td>Folketingssalen</td>\n",
       "    </tr>\n",
       "    <tr>\n",
       "      <th>1</th>\n",
       "      <td>2010-05-31</td>\n",
       "      <td>2 218 l beh1 1 behandling af l 218 om nedsætte...</td>\n",
       "      <td>100</td>\n",
       "      <td>20091</td>\n",
       "      <td>Folketinget</td>\n",
       "      <td>Folketingssalen</td>\n",
       "    </tr>\n",
       "    <tr>\n",
       "      <th>2</th>\n",
       "      <td>2010-05-31</td>\n",
       "      <td>3 219 l beh1 1 behandling af l 219 om forhøjel...</td>\n",
       "      <td>100</td>\n",
       "      <td>20091</td>\n",
       "      <td>Folketinget</td>\n",
       "      <td>Folketingssalen</td>\n",
       "    </tr>\n",
       "    <tr>\n",
       "      <th>3</th>\n",
       "      <td>2010-06-02</td>\n",
       "      <td>1 49 f beh1 forhandling af f 49 om den indenri...</td>\n",
       "      <td>102</td>\n",
       "      <td>20091</td>\n",
       "      <td>Folketinget</td>\n",
       "      <td>Folketingssalen</td>\n",
       "    </tr>\n",
       "    <tr>\n",
       "      <th>4</th>\n",
       "      <td>2010-06-03</td>\n",
       "      <td>11 130 l beh3 3 behandling af l 130 om klage- ...</td>\n",
       "      <td>103</td>\n",
       "      <td>20091</td>\n",
       "      <td>Folketinget</td>\n",
       "      <td>Folketingssalen</td>\n",
       "    </tr>\n",
       "    <tr>\n",
       "      <th>...</th>\n",
       "      <td>...</td>\n",
       "      <td>...</td>\n",
       "      <td>...</td>\n",
       "      <td>...</td>\n",
       "      <td>...</td>\n",
       "      <td>...</td>\n",
       "    </tr>\n",
       "    <tr>\n",
       "      <th>678</th>\n",
       "      <td>2022-04-21</td>\n",
       "      <td>23 178 b beh1 1 behandling af b 178 om oprette...</td>\n",
       "      <td>94</td>\n",
       "      <td>20211</td>\n",
       "      <td>Folketinget</td>\n",
       "      <td>Folketingssalen</td>\n",
       "    </tr>\n",
       "    <tr>\n",
       "      <th>679</th>\n",
       "      <td>2022-04-26</td>\n",
       "      <td>1 spørgetime med statsministeren det første pu...</td>\n",
       "      <td>97</td>\n",
       "      <td>20211</td>\n",
       "      <td>Folketinget</td>\n",
       "      <td>Folketingssalen</td>\n",
       "    </tr>\n",
       "    <tr>\n",
       "      <th>680</th>\n",
       "      <td>2022-04-26</td>\n",
       "      <td>18 97 b beh1 1 behandling af b 97 om bedre læg...</td>\n",
       "      <td>97</td>\n",
       "      <td>20211</td>\n",
       "      <td>Folketinget</td>\n",
       "      <td>Folketingssalen</td>\n",
       "    </tr>\n",
       "    <tr>\n",
       "      <th>681</th>\n",
       "      <td>2022-04-26</td>\n",
       "      <td>19 121 b beh1 1 behandling af b 121 om at alle...</td>\n",
       "      <td>97</td>\n",
       "      <td>20211</td>\n",
       "      <td>Folketinget</td>\n",
       "      <td>Folketingssalen</td>\n",
       "    </tr>\n",
       "    <tr>\n",
       "      <th>682</th>\n",
       "      <td>2021-10-26</td>\n",
       "      <td>5 27 l beh1 1 behandling af l 27 om forenkling...</td>\n",
       "      <td>9</td>\n",
       "      <td>20211</td>\n",
       "      <td>Folketinget</td>\n",
       "      <td>Folketingssalen</td>\n",
       "    </tr>\n",
       "  </tbody>\n",
       "</table>\n",
       "<p>683 rows × 6 columns</p>\n",
       "</div>"
      ],
      "text/plain": [
       "           date                                            content  \\\n",
       "0    2010-05-31  1 222 l beh1 1 behandling af l 222 om nedsætte...   \n",
       "1    2010-05-31  2 218 l beh1 1 behandling af l 218 om nedsætte...   \n",
       "2    2010-05-31  3 219 l beh1 1 behandling af l 219 om forhøjel...   \n",
       "3    2010-06-02  1 49 f beh1 forhandling af f 49 om den indenri...   \n",
       "4    2010-06-03  11 130 l beh3 3 behandling af l 130 om klage- ...   \n",
       "..          ...                                                ...   \n",
       "678  2022-04-21  23 178 b beh1 1 behandling af b 178 om oprette...   \n",
       "679  2022-04-26  1 spørgetime med statsministeren det første pu...   \n",
       "680  2022-04-26  18 97 b beh1 1 behandling af b 97 om bedre læg...   \n",
       "681  2022-04-26  19 121 b beh1 1 behandling af b 121 om at alle...   \n",
       "682  2021-10-26  5 27 l beh1 1 behandling af l 27 om forenkling...   \n",
       "\n",
       "     meetingnumber  session        group         location  \n",
       "0              100    20091  Folketinget  Folketingssalen  \n",
       "1              100    20091  Folketinget  Folketingssalen  \n",
       "2              100    20091  Folketinget  Folketingssalen  \n",
       "3              102    20091  Folketinget  Folketingssalen  \n",
       "4              103    20091  Folketinget  Folketingssalen  \n",
       "..             ...      ...          ...              ...  \n",
       "678             94    20211  Folketinget  Folketingssalen  \n",
       "679             97    20211  Folketinget  Folketingssalen  \n",
       "680             97    20211  Folketinget  Folketingssalen  \n",
       "681             97    20211  Folketinget  Folketingssalen  \n",
       "682              9    20211  Folketinget  Folketingssalen  \n",
       "\n",
       "[683 rows x 6 columns]"
      ]
     },
     "execution_count": 48,
     "metadata": {},
     "output_type": "execute_result"
    }
   ],
   "source": [
    "FT_clean_syg"
   ]
  },
  {
   "cell_type": "code",
   "execution_count": 57,
   "id": "6645f3c2",
   "metadata": {},
   "outputs": [],
   "source": [
    "def cleaner_(document):\n",
    "    document = re.sub(r'\\d.+typeset.+\\d',' ', document)\n",
    "    return document"
   ]
  },
  {
   "cell_type": "code",
   "execution_count": null,
   "id": "b65590e8",
   "metadata": {},
   "outputs": [],
   "source": [
    "document = re.sub(r'\\d.+typeset.+\\d',' ', document)\n",
    "document = re.sub(r'.+beh\\d.\\d.','', document)"
   ]
  },
  {
   "cell_type": "code",
   "execution_count": 62,
   "id": "2f32dc46",
   "metadata": {
    "scrolled": true
   },
   "outputs": [
    {
     "data": {
      "text/plain": [
       "'  dermed sluttede spørgerunden og ministerens time heroppe er slut der er ikke flere der har bedt om ordet så forhandlingen er slut jeg foreslår at lovforslaget henvises til arbejdsmarkedsudvalget hvis ingen gør indsigelse betragter jeg dette som vedtaget det er vedtaget'"
      ]
     },
     "execution_count": 62,
     "metadata": {},
     "output_type": "execute_result"
    }
   ],
   "source": [
    "cleaner_(sample)"
   ]
  },
  {
   "cell_type": "code",
   "execution_count": 56,
   "id": "241179c1",
   "metadata": {},
   "outputs": [
    {
     "ename": "KeyboardInterrupt",
     "evalue": "",
     "output_type": "error",
     "traceback": [
      "\u001b[0;31m---------------------------------------------------------------------------\u001b[0m",
      "\u001b[0;31mKeyboardInterrupt\u001b[0m                         Traceback (most recent call last)",
      "\u001b[0;32m<ipython-input-56-7b970762bdd3>\u001b[0m in \u001b[0;36m<module>\u001b[0;34m\u001b[0m\n\u001b[0;32m----> 1\u001b[0;31m \u001b[0mcleaner_\u001b[0m\u001b[0;34m(\u001b[0m\u001b[0msample\u001b[0m\u001b[0;34m)\u001b[0m\u001b[0;34m\u001b[0m\u001b[0;34m\u001b[0m\u001b[0m\n\u001b[0m",
      "\u001b[0;32m<ipython-input-42-c67fe5ae6bfd>\u001b[0m in \u001b[0;36mcleaner_\u001b[0;34m(document)\u001b[0m\n\u001b[1;32m      1\u001b[0m \u001b[0;32mdef\u001b[0m \u001b[0mcleaner_\u001b[0m\u001b[0;34m(\u001b[0m\u001b[0mdocument\u001b[0m\u001b[0;34m)\u001b[0m\u001b[0;34m:\u001b[0m\u001b[0;34m\u001b[0m\u001b[0;34m\u001b[0m\u001b[0m\n\u001b[0;32m----> 2\u001b[0;31m     \u001b[0mdocument\u001b[0m \u001b[0;34m=\u001b[0m \u001b[0mre\u001b[0m\u001b[0;34m.\u001b[0m\u001b[0msub\u001b[0m\u001b[0;34m(\u001b[0m\u001b[0;34mr'.+beh\\d.\\d.'\u001b[0m\u001b[0;34m,\u001b[0m\u001b[0;34m''\u001b[0m\u001b[0;34m,\u001b[0m \u001b[0mdocument\u001b[0m\u001b[0;34m)\u001b[0m\u001b[0;34m\u001b[0m\u001b[0;34m\u001b[0m\u001b[0m\n\u001b[0m\u001b[1;32m      3\u001b[0m     \u001b[0;32mreturn\u001b[0m \u001b[0mdocument\u001b[0m\u001b[0;34m\u001b[0m\u001b[0;34m\u001b[0m\u001b[0m\n",
      "\u001b[0;32m~/opt/anaconda3/lib/python3.8/re.py\u001b[0m in \u001b[0;36msub\u001b[0;34m(pattern, repl, string, count, flags)\u001b[0m\n\u001b[1;32m    208\u001b[0m     \u001b[0ma\u001b[0m \u001b[0mcallable\u001b[0m\u001b[0;34m,\u001b[0m \u001b[0mit\u001b[0m\u001b[0;31m'\u001b[0m\u001b[0ms\u001b[0m \u001b[0mpassed\u001b[0m \u001b[0mthe\u001b[0m \u001b[0mMatch\u001b[0m \u001b[0mobject\u001b[0m \u001b[0;32mand\u001b[0m \u001b[0mmust\u001b[0m \u001b[0;32mreturn\u001b[0m\u001b[0;34m\u001b[0m\u001b[0;34m\u001b[0m\u001b[0m\n\u001b[1;32m    209\u001b[0m     a replacement string to be used.\"\"\"\n\u001b[0;32m--> 210\u001b[0;31m     \u001b[0;32mreturn\u001b[0m \u001b[0m_compile\u001b[0m\u001b[0;34m(\u001b[0m\u001b[0mpattern\u001b[0m\u001b[0;34m,\u001b[0m \u001b[0mflags\u001b[0m\u001b[0;34m)\u001b[0m\u001b[0;34m.\u001b[0m\u001b[0msub\u001b[0m\u001b[0;34m(\u001b[0m\u001b[0mrepl\u001b[0m\u001b[0;34m,\u001b[0m \u001b[0mstring\u001b[0m\u001b[0;34m,\u001b[0m \u001b[0mcount\u001b[0m\u001b[0;34m)\u001b[0m\u001b[0;34m\u001b[0m\u001b[0;34m\u001b[0m\u001b[0m\n\u001b[0m\u001b[1;32m    211\u001b[0m \u001b[0;34m\u001b[0m\u001b[0m\n\u001b[1;32m    212\u001b[0m \u001b[0;32mdef\u001b[0m \u001b[0msubn\u001b[0m\u001b[0;34m(\u001b[0m\u001b[0mpattern\u001b[0m\u001b[0;34m,\u001b[0m \u001b[0mrepl\u001b[0m\u001b[0;34m,\u001b[0m \u001b[0mstring\u001b[0m\u001b[0;34m,\u001b[0m \u001b[0mcount\u001b[0m\u001b[0;34m=\u001b[0m\u001b[0;36m0\u001b[0m\u001b[0;34m,\u001b[0m \u001b[0mflags\u001b[0m\u001b[0;34m=\u001b[0m\u001b[0;36m0\u001b[0m\u001b[0;34m)\u001b[0m\u001b[0;34m:\u001b[0m\u001b[0;34m\u001b[0m\u001b[0;34m\u001b[0m\u001b[0m\n",
      "\u001b[0;31mKeyboardInterrupt\u001b[0m: "
     ]
    }
   ],
   "source": [
    "cleaner_(sample)"
   ]
  },
  {
   "cell_type": "code",
   "execution_count": null,
   "id": "748a684f",
   "metadata": {},
   "outputs": [],
   "source": []
  },
  {
   "cell_type": "code",
   "execution_count": 55,
   "id": "8c3bbdd3",
   "metadata": {
    "scrolled": true
   },
   "outputs": [
    {
     "ename": "KeyboardInterrupt",
     "evalue": "",
     "output_type": "error",
     "traceback": [
      "\u001b[0;31m---------------------------------------------------------------------------\u001b[0m",
      "\u001b[0;31mKeyboardInterrupt\u001b[0m                         Traceback (most recent call last)",
      "\u001b[0;32m<ipython-input-55-a76c9b5bdfbc>\u001b[0m in \u001b[0;36m<module>\u001b[0;34m\u001b[0m\n\u001b[0;32m----> 1\u001b[0;31m \u001b[0mFT_clean_syg\u001b[0m\u001b[0;34m[\u001b[0m\u001b[0;34m'content'\u001b[0m\u001b[0;34m]\u001b[0m \u001b[0;34m=\u001b[0m \u001b[0mFT_clean_syg\u001b[0m\u001b[0;34m[\u001b[0m\u001b[0;34m'content'\u001b[0m\u001b[0;34m]\u001b[0m\u001b[0;34m.\u001b[0m\u001b[0mapply\u001b[0m\u001b[0;34m(\u001b[0m\u001b[0mcleaner_\u001b[0m\u001b[0;34m)\u001b[0m\u001b[0;34m\u001b[0m\u001b[0;34m\u001b[0m\u001b[0m\n\u001b[0m",
      "\u001b[0;32m~/opt/anaconda3/lib/python3.8/site-packages/pandas/core/series.py\u001b[0m in \u001b[0;36mapply\u001b[0;34m(self, func, convert_dtype, args, **kwds)\u001b[0m\n\u001b[1;32m   4136\u001b[0m             \u001b[0;32melse\u001b[0m\u001b[0;34m:\u001b[0m\u001b[0;34m\u001b[0m\u001b[0;34m\u001b[0m\u001b[0m\n\u001b[1;32m   4137\u001b[0m                 \u001b[0mvalues\u001b[0m \u001b[0;34m=\u001b[0m \u001b[0mself\u001b[0m\u001b[0;34m.\u001b[0m\u001b[0mastype\u001b[0m\u001b[0;34m(\u001b[0m\u001b[0mobject\u001b[0m\u001b[0;34m)\u001b[0m\u001b[0;34m.\u001b[0m\u001b[0m_values\u001b[0m\u001b[0;34m\u001b[0m\u001b[0;34m\u001b[0m\u001b[0m\n\u001b[0;32m-> 4138\u001b[0;31m                 \u001b[0mmapped\u001b[0m \u001b[0;34m=\u001b[0m \u001b[0mlib\u001b[0m\u001b[0;34m.\u001b[0m\u001b[0mmap_infer\u001b[0m\u001b[0;34m(\u001b[0m\u001b[0mvalues\u001b[0m\u001b[0;34m,\u001b[0m \u001b[0mf\u001b[0m\u001b[0;34m,\u001b[0m \u001b[0mconvert\u001b[0m\u001b[0;34m=\u001b[0m\u001b[0mconvert_dtype\u001b[0m\u001b[0;34m)\u001b[0m\u001b[0;34m\u001b[0m\u001b[0;34m\u001b[0m\u001b[0m\n\u001b[0m\u001b[1;32m   4139\u001b[0m \u001b[0;34m\u001b[0m\u001b[0m\n\u001b[1;32m   4140\u001b[0m         \u001b[0;32mif\u001b[0m \u001b[0mlen\u001b[0m\u001b[0;34m(\u001b[0m\u001b[0mmapped\u001b[0m\u001b[0;34m)\u001b[0m \u001b[0;32mand\u001b[0m \u001b[0misinstance\u001b[0m\u001b[0;34m(\u001b[0m\u001b[0mmapped\u001b[0m\u001b[0;34m[\u001b[0m\u001b[0;36m0\u001b[0m\u001b[0;34m]\u001b[0m\u001b[0;34m,\u001b[0m \u001b[0mSeries\u001b[0m\u001b[0;34m)\u001b[0m\u001b[0;34m:\u001b[0m\u001b[0;34m\u001b[0m\u001b[0;34m\u001b[0m\u001b[0m\n",
      "\u001b[0;32mpandas/_libs/lib.pyx\u001b[0m in \u001b[0;36mpandas._libs.lib.map_infer\u001b[0;34m()\u001b[0m\n",
      "\u001b[0;32m<ipython-input-42-c67fe5ae6bfd>\u001b[0m in \u001b[0;36mcleaner_\u001b[0;34m(document)\u001b[0m\n\u001b[1;32m      1\u001b[0m \u001b[0;32mdef\u001b[0m \u001b[0mcleaner_\u001b[0m\u001b[0;34m(\u001b[0m\u001b[0mdocument\u001b[0m\u001b[0;34m)\u001b[0m\u001b[0;34m:\u001b[0m\u001b[0;34m\u001b[0m\u001b[0;34m\u001b[0m\u001b[0m\n\u001b[0;32m----> 2\u001b[0;31m     \u001b[0mdocument\u001b[0m \u001b[0;34m=\u001b[0m \u001b[0mre\u001b[0m\u001b[0;34m.\u001b[0m\u001b[0msub\u001b[0m\u001b[0;34m(\u001b[0m\u001b[0;34mr'.+beh\\d.\\d.'\u001b[0m\u001b[0;34m,\u001b[0m\u001b[0;34m''\u001b[0m\u001b[0;34m,\u001b[0m \u001b[0mdocument\u001b[0m\u001b[0;34m)\u001b[0m\u001b[0;34m\u001b[0m\u001b[0;34m\u001b[0m\u001b[0m\n\u001b[0m\u001b[1;32m      3\u001b[0m     \u001b[0;32mreturn\u001b[0m \u001b[0mdocument\u001b[0m\u001b[0;34m\u001b[0m\u001b[0;34m\u001b[0m\u001b[0m\n",
      "\u001b[0;32m~/opt/anaconda3/lib/python3.8/re.py\u001b[0m in \u001b[0;36msub\u001b[0;34m(pattern, repl, string, count, flags)\u001b[0m\n\u001b[1;32m    208\u001b[0m     \u001b[0ma\u001b[0m \u001b[0mcallable\u001b[0m\u001b[0;34m,\u001b[0m \u001b[0mit\u001b[0m\u001b[0;31m'\u001b[0m\u001b[0ms\u001b[0m \u001b[0mpassed\u001b[0m \u001b[0mthe\u001b[0m \u001b[0mMatch\u001b[0m \u001b[0mobject\u001b[0m \u001b[0;32mand\u001b[0m \u001b[0mmust\u001b[0m \u001b[0;32mreturn\u001b[0m\u001b[0;34m\u001b[0m\u001b[0;34m\u001b[0m\u001b[0m\n\u001b[1;32m    209\u001b[0m     a replacement string to be used.\"\"\"\n\u001b[0;32m--> 210\u001b[0;31m     \u001b[0;32mreturn\u001b[0m \u001b[0m_compile\u001b[0m\u001b[0;34m(\u001b[0m\u001b[0mpattern\u001b[0m\u001b[0;34m,\u001b[0m \u001b[0mflags\u001b[0m\u001b[0;34m)\u001b[0m\u001b[0;34m.\u001b[0m\u001b[0msub\u001b[0m\u001b[0;34m(\u001b[0m\u001b[0mrepl\u001b[0m\u001b[0;34m,\u001b[0m \u001b[0mstring\u001b[0m\u001b[0;34m,\u001b[0m \u001b[0mcount\u001b[0m\u001b[0;34m)\u001b[0m\u001b[0;34m\u001b[0m\u001b[0;34m\u001b[0m\u001b[0m\n\u001b[0m\u001b[1;32m    211\u001b[0m \u001b[0;34m\u001b[0m\u001b[0m\n\u001b[1;32m    212\u001b[0m \u001b[0;32mdef\u001b[0m \u001b[0msubn\u001b[0m\u001b[0;34m(\u001b[0m\u001b[0mpattern\u001b[0m\u001b[0;34m,\u001b[0m \u001b[0mrepl\u001b[0m\u001b[0;34m,\u001b[0m \u001b[0mstring\u001b[0m\u001b[0;34m,\u001b[0m \u001b[0mcount\u001b[0m\u001b[0;34m=\u001b[0m\u001b[0;36m0\u001b[0m\u001b[0;34m,\u001b[0m \u001b[0mflags\u001b[0m\u001b[0;34m=\u001b[0m\u001b[0;36m0\u001b[0m\u001b[0;34m)\u001b[0m\u001b[0;34m:\u001b[0m\u001b[0;34m\u001b[0m\u001b[0;34m\u001b[0m\u001b[0m\n",
      "\u001b[0;31mKeyboardInterrupt\u001b[0m: "
     ]
    }
   ],
   "source": [
    "FT_clean_syg['content'] = FT_clean_syg['content'].apply(cleaner_)"
   ]
  },
  {
   "cell_type": "code",
   "execution_count": null,
   "id": "e0dd0fe1",
   "metadata": {},
   "outputs": [],
   "source": [
    "FT_clean_syg"
   ]
  },
  {
   "cell_type": "code",
   "execution_count": null,
   "id": "86b8e1db",
   "metadata": {},
   "outputs": [],
   "source": []
  },
  {
   "cell_type": "markdown",
   "id": "31f60a16",
   "metadata": {},
   "source": [
    "# Descriptive statistics"
   ]
  },
  {
   "cell_type": "code",
   "execution_count": 13,
   "id": "6f730240",
   "metadata": {},
   "outputs": [],
   "source": [
    "plt.style.use('ggplot')\n",
    "sns.set_style(\"whitegrid\")"
   ]
  },
  {
   "cell_type": "code",
   "execution_count": null,
   "id": "2a1fd087",
   "metadata": {},
   "outputs": [],
   "source": [
    "fig, ax = plt.subplots(nrows = 1, ncols = 1) # create placeholder for plot\n",
    "ax = sns.countplot(x = 'tag', data = tv2)"
   ]
  },
  {
   "cell_type": "code",
   "execution_count": null,
   "id": "6675ab72",
   "metadata": {},
   "outputs": [],
   "source": [
    "tv2[tv2.author == r'Søg på TV 2']"
   ]
  },
  {
   "cell_type": "markdown",
   "id": "48126896",
   "metadata": {},
   "source": [
    "#"
   ]
  },
  {
   "cell_type": "code",
   "execution_count": null,
   "id": "e5dfd653",
   "metadata": {},
   "outputs": [],
   "source": [
    "counter = 0\n",
    "\n",
    "for i in range(0,100):\n",
    "    try: \n",
    "        if re.findall(r'[Rr]itzau', tv2.author[i]) == ['ritzau' or 'Ritzau']:\n",
    "            counter += 1\n",
    "    except: \n",
    "        pass"
   ]
  },
  {
   "cell_type": "code",
   "execution_count": null,
   "id": "258c52d6",
   "metadata": {},
   "outputs": [],
   "source": []
  },
  {
   "cell_type": "code",
   "execution_count": null,
   "id": "0d3d61ee",
   "metadata": {},
   "outputs": [],
   "source": []
  },
  {
   "cell_type": "code",
   "execution_count": null,
   "id": "e8e95fee",
   "metadata": {},
   "outputs": [],
   "source": []
  },
  {
   "cell_type": "code",
   "execution_count": null,
   "id": "6f10ca31",
   "metadata": {},
   "outputs": [],
   "source": []
  },
  {
   "cell_type": "code",
   "execution_count": null,
   "id": "71d272a9",
   "metadata": {},
   "outputs": [],
   "source": []
  },
  {
   "cell_type": "code",
   "execution_count": null,
   "id": "6b9914ae",
   "metadata": {},
   "outputs": [],
   "source": []
  },
  {
   "cell_type": "code",
   "execution_count": null,
   "id": "7a76f071",
   "metadata": {},
   "outputs": [],
   "source": []
  },
  {
   "cell_type": "code",
   "execution_count": null,
   "id": "0b1a4bc0",
   "metadata": {},
   "outputs": [],
   "source": []
  },
  {
   "cell_type": "code",
   "execution_count": null,
   "id": "24ade595",
   "metadata": {},
   "outputs": [],
   "source": []
  },
  {
   "cell_type": "code",
   "execution_count": null,
   "id": "d14ef90e",
   "metadata": {},
   "outputs": [],
   "source": []
  }
 ],
 "metadata": {
  "kernelspec": {
   "display_name": "Python 3",
   "language": "python",
   "name": "python3"
  },
  "language_info": {
   "codemirror_mode": {
    "name": "ipython",
    "version": 3
   },
   "file_extension": ".py",
   "mimetype": "text/x-python",
   "name": "python",
   "nbconvert_exporter": "python",
   "pygments_lexer": "ipython3",
   "version": "3.8.8"
  }
 },
 "nbformat": 4,
 "nbformat_minor": 5
}
