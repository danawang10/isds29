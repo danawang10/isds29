{
 "cells": [
  {
   "cell_type": "code",
   "execution_count": 32,
   "id": "6145e125",
   "metadata": {},
   "outputs": [],
   "source": [
    "import pandas as pd\n",
    "import numpy as np\n",
    "import re"
   ]
  },
  {
   "cell_type": "markdown",
   "id": "99a26ae8",
   "metadata": {},
   "source": [
    "### Import and clean data"
   ]
  },
  {
   "cell_type": "code",
   "execution_count": 33,
   "id": "a620c9ea",
   "metadata": {},
   "outputs": [],
   "source": [
    "df = pd.read_csv('FT.csv')"
   ]
  },
  {
   "cell_type": "code",
   "execution_count": 38,
   "id": "7cf20674",
   "metadata": {},
   "outputs": [],
   "source": [
    "def cleaner(df):\n",
    "    df['content'] = df['content'].apply(lambda x:x.lower())\n",
    "    df['content'] = df[\"content\"].str.replace(\"[.,:;]\",\"\") # Remove special characters\n",
    "    return df"
   ]
  },
  {
   "cell_type": "code",
   "execution_count": 42,
   "id": "281b1432",
   "metadata": {},
   "outputs": [
    {
     "name": "stderr",
     "output_type": "stream",
     "text": [
      "<ipython-input-38-7ee2d852affc>:3: FutureWarning: The default value of regex will change from True to False in a future version.\n",
      "  df['content'] = df[\"content\"].str.replace(\"[.,:;]\",\"\") # Remove special characters\n"
     ]
    }
   ],
   "source": [
    "df = cleaner(df)"
   ]
  },
  {
   "cell_type": "code",
   "execution_count": 43,
   "id": "1e4325e0",
   "metadata": {},
   "outputs": [],
   "source": [
    "df.to_csv('FT_clean.csv')"
   ]
  },
  {
   "cell_type": "code",
   "execution_count": 44,
   "id": "85a280e6",
   "metadata": {},
   "outputs": [
    {
     "data": {
      "text/plain": [
       "'0 fm punkt 0 meddelelser fra formanden holger k nielsen sf formand tredje næstformand  (holger k nielsen) 2011-01-18t141516 typeset 2010-05-31t100002 2010-05-31t100026 mødet er åbnet finansudvalget har afgivet betænkning og indstilling vedrørende forslag til folketingsbeslutning i henhold til grundlovens § 47 med hensyn til statsregnskabet for finansåret 2008 (beslutningsforslag nr b 248) betænkningen og indstillingen vil fremgå af wwwfolketingstidendedk'"
      ]
     },
     "execution_count": 44,
     "metadata": {},
     "output_type": "execute_result"
    }
   ],
   "source": [
    "df.content[0]"
   ]
  },
  {
   "cell_type": "markdown",
   "id": "22c0434f",
   "metadata": {},
   "source": [
    "### Danish stop words"
   ]
  },
  {
   "cell_type": "code",
   "execution_count": 11,
   "id": "b3690e11",
   "metadata": {},
   "outputs": [
    {
     "data": {
      "text/html": [
       "<div>\n",
       "<style scoped>\n",
       "    .dataframe tbody tr th:only-of-type {\n",
       "        vertical-align: middle;\n",
       "    }\n",
       "\n",
       "    .dataframe tbody tr th {\n",
       "        vertical-align: top;\n",
       "    }\n",
       "\n",
       "    .dataframe thead th {\n",
       "        text-align: right;\n",
       "    }\n",
       "</style>\n",
       "<table border=\"1\" class=\"dataframe\">\n",
       "  <thead>\n",
       "    <tr style=\"text-align: right;\">\n",
       "      <th></th>\n",
       "      <th>date</th>\n",
       "      <th>content</th>\n",
       "      <th>meetingnumber</th>\n",
       "      <th>session</th>\n",
       "      <th>group</th>\n",
       "      <th>location</th>\n",
       "      <th>content_cleaned</th>\n",
       "    </tr>\n",
       "  </thead>\n",
       "  <tbody>\n",
       "    <tr>\n",
       "      <th>0</th>\n",
       "      <td>2010-05-31</td>\n",
       "      <td>1 222 L BEH1 1. behandling af L 222: Om nedsæt...</td>\n",
       "      <td>100</td>\n",
       "      <td>20091</td>\n",
       "      <td>Folketinget</td>\n",
       "      <td>Folketingssalen</td>\n",
       "      <td>1 222 l beh1 1. behandling af l 222: om nedsæt...</td>\n",
       "    </tr>\n",
       "    <tr>\n",
       "      <th>1</th>\n",
       "      <td>2010-05-31</td>\n",
       "      <td>2 218 L BEH1 1. behandling af L 218: Om nedsæt...</td>\n",
       "      <td>100</td>\n",
       "      <td>20091</td>\n",
       "      <td>Folketinget</td>\n",
       "      <td>Folketingssalen</td>\n",
       "      <td>2 218 l beh1 1. behandling af l 218: om nedsæt...</td>\n",
       "    </tr>\n",
       "    <tr>\n",
       "      <th>2</th>\n",
       "      <td>2010-05-31</td>\n",
       "      <td>3 219 L BEH1 1. behandling af L 219: Om forhøj...</td>\n",
       "      <td>100</td>\n",
       "      <td>20091</td>\n",
       "      <td>Folketinget</td>\n",
       "      <td>Folketingssalen</td>\n",
       "      <td>3 219 l beh1 1. behandling af l 219: om forhøj...</td>\n",
       "    </tr>\n",
       "    <tr>\n",
       "      <th>3</th>\n",
       "      <td>2010-06-02</td>\n",
       "      <td>1 49 F BEH1 Forhandling af F 49: Om den indenr...</td>\n",
       "      <td>102</td>\n",
       "      <td>20091</td>\n",
       "      <td>Folketinget</td>\n",
       "      <td>Folketingssalen</td>\n",
       "      <td>1 49 f beh1 forhandling af f 49: om den indenr...</td>\n",
       "    </tr>\n",
       "    <tr>\n",
       "      <th>4</th>\n",
       "      <td>2010-06-03</td>\n",
       "      <td>11 130 L BEH3 3. behandling af L 130: Om klage...</td>\n",
       "      <td>103</td>\n",
       "      <td>20091</td>\n",
       "      <td>Folketinget</td>\n",
       "      <td>Folketingssalen</td>\n",
       "      <td>11 130 l beh3 3. behandling af l 130: om klage...</td>\n",
       "    </tr>\n",
       "    <tr>\n",
       "      <th>...</th>\n",
       "      <td>...</td>\n",
       "      <td>...</td>\n",
       "      <td>...</td>\n",
       "      <td>...</td>\n",
       "      <td>...</td>\n",
       "      <td>...</td>\n",
       "      <td>...</td>\n",
       "    </tr>\n",
       "    <tr>\n",
       "      <th>678</th>\n",
       "      <td>2022-04-21</td>\n",
       "      <td>23 178 B BEH1 1. behandling af B 178: Om opret...</td>\n",
       "      <td>94</td>\n",
       "      <td>20211</td>\n",
       "      <td>Folketinget</td>\n",
       "      <td>Folketingssalen</td>\n",
       "      <td>23 178 b beh1 1. behandling af b 178: om opret...</td>\n",
       "    </tr>\n",
       "    <tr>\n",
       "      <th>679</th>\n",
       "      <td>2022-04-26</td>\n",
       "      <td>1 Spørgetime med statsministeren. Det første p...</td>\n",
       "      <td>97</td>\n",
       "      <td>20211</td>\n",
       "      <td>Folketinget</td>\n",
       "      <td>Folketingssalen</td>\n",
       "      <td>1 spørgetime med statsministeren. det første p...</td>\n",
       "    </tr>\n",
       "    <tr>\n",
       "      <th>680</th>\n",
       "      <td>2022-04-26</td>\n",
       "      <td>18 97 B BEH1 1. behandling af B 97: Om bedre l...</td>\n",
       "      <td>97</td>\n",
       "      <td>20211</td>\n",
       "      <td>Folketinget</td>\n",
       "      <td>Folketingssalen</td>\n",
       "      <td>18 97 b beh1 1. behandling af b 97: om bedre l...</td>\n",
       "    </tr>\n",
       "    <tr>\n",
       "      <th>681</th>\n",
       "      <td>2022-04-26</td>\n",
       "      <td>19 121 B BEH1 1. behandling af B 121: Om at al...</td>\n",
       "      <td>97</td>\n",
       "      <td>20211</td>\n",
       "      <td>Folketinget</td>\n",
       "      <td>Folketingssalen</td>\n",
       "      <td>19 121 b beh1 1. behandling af b 121: om at al...</td>\n",
       "    </tr>\n",
       "    <tr>\n",
       "      <th>682</th>\n",
       "      <td>2021-10-26</td>\n",
       "      <td>5 27 L BEH1 1. behandling af L 27: Om forenkli...</td>\n",
       "      <td>9</td>\n",
       "      <td>20211</td>\n",
       "      <td>Folketinget</td>\n",
       "      <td>Folketingssalen</td>\n",
       "      <td>5 27 l beh1 1. behandling af l 27: om forenkli...</td>\n",
       "    </tr>\n",
       "  </tbody>\n",
       "</table>\n",
       "<p>683 rows × 7 columns</p>\n",
       "</div>"
      ],
      "text/plain": [
       "           date                                            content  \\\n",
       "0    2010-05-31  1 222 L BEH1 1. behandling af L 222: Om nedsæt...   \n",
       "1    2010-05-31  2 218 L BEH1 1. behandling af L 218: Om nedsæt...   \n",
       "2    2010-05-31  3 219 L BEH1 1. behandling af L 219: Om forhøj...   \n",
       "3    2010-06-02  1 49 F BEH1 Forhandling af F 49: Om den indenr...   \n",
       "4    2010-06-03  11 130 L BEH3 3. behandling af L 130: Om klage...   \n",
       "..          ...                                                ...   \n",
       "678  2022-04-21  23 178 B BEH1 1. behandling af B 178: Om opret...   \n",
       "679  2022-04-26  1 Spørgetime med statsministeren. Det første p...   \n",
       "680  2022-04-26  18 97 B BEH1 1. behandling af B 97: Om bedre l...   \n",
       "681  2022-04-26  19 121 B BEH1 1. behandling af B 121: Om at al...   \n",
       "682  2021-10-26  5 27 L BEH1 1. behandling af L 27: Om forenkli...   \n",
       "\n",
       "     meetingnumber  session        group         location  \\\n",
       "0              100    20091  Folketinget  Folketingssalen   \n",
       "1              100    20091  Folketinget  Folketingssalen   \n",
       "2              100    20091  Folketinget  Folketingssalen   \n",
       "3              102    20091  Folketinget  Folketingssalen   \n",
       "4              103    20091  Folketinget  Folketingssalen   \n",
       "..             ...      ...          ...              ...   \n",
       "678             94    20211  Folketinget  Folketingssalen   \n",
       "679             97    20211  Folketinget  Folketingssalen   \n",
       "680             97    20211  Folketinget  Folketingssalen   \n",
       "681             97    20211  Folketinget  Folketingssalen   \n",
       "682              9    20211  Folketinget  Folketingssalen   \n",
       "\n",
       "                                       content_cleaned  \n",
       "0    1 222 l beh1 1. behandling af l 222: om nedsæt...  \n",
       "1    2 218 l beh1 1. behandling af l 218: om nedsæt...  \n",
       "2    3 219 l beh1 1. behandling af l 219: om forhøj...  \n",
       "3    1 49 f beh1 forhandling af f 49: om den indenr...  \n",
       "4    11 130 l beh3 3. behandling af l 130: om klage...  \n",
       "..                                                 ...  \n",
       "678  23 178 b beh1 1. behandling af b 178: om opret...  \n",
       "679  1 spørgetime med statsministeren. det første p...  \n",
       "680  18 97 b beh1 1. behandling af b 97: om bedre l...  \n",
       "681  19 121 b beh1 1. behandling af b 121: om at al...  \n",
       "682  5 27 l beh1 1. behandling af l 27: om forenkli...  \n",
       "\n",
       "[683 rows x 7 columns]"
      ]
     },
     "execution_count": 11,
     "metadata": {},
     "output_type": "execute_result"
    }
   ],
   "source": [
    "df"
   ]
  },
  {
   "cell_type": "code",
   "execution_count": null,
   "id": "74367489",
   "metadata": {},
   "outputs": [],
   "source": [
    "'''\n",
    "import nltk\n",
    "#nltk.download('stopwords')\n",
    "stop = nltk.corpus.stopwords.words('danish')\n",
    "'''"
   ]
  },
  {
   "cell_type": "code",
   "execution_count": 5,
   "id": "121ae7c8",
   "metadata": {},
   "outputs": [
    {
     "data": {
      "text/html": [
       "<div>\n",
       "<style scoped>\n",
       "    .dataframe tbody tr th:only-of-type {\n",
       "        vertical-align: middle;\n",
       "    }\n",
       "\n",
       "    .dataframe tbody tr th {\n",
       "        vertical-align: top;\n",
       "    }\n",
       "\n",
       "    .dataframe thead th {\n",
       "        text-align: right;\n",
       "    }\n",
       "</style>\n",
       "<table border=\"1\" class=\"dataframe\">\n",
       "  <thead>\n",
       "    <tr style=\"text-align: right;\">\n",
       "      <th></th>\n",
       "      <th>Frequency</th>\n",
       "    </tr>\n",
       "    <tr>\n",
       "      <th>Word</th>\n",
       "      <th></th>\n",
       "    </tr>\n",
       "  </thead>\n",
       "  <tbody>\n",
       "    <tr>\n",
       "      <th>at</th>\n",
       "      <td>631956</td>\n",
       "    </tr>\n",
       "    <tr>\n",
       "      <th>det</th>\n",
       "      <td>536954</td>\n",
       "    </tr>\n",
       "    <tr>\n",
       "      <th>er</th>\n",
       "      <td>486473</td>\n",
       "    </tr>\n",
       "    <tr>\n",
       "      <th>og</th>\n",
       "      <td>399372</td>\n",
       "    </tr>\n",
       "    <tr>\n",
       "      <th>i</th>\n",
       "      <td>368895</td>\n",
       "    </tr>\n",
       "    <tr>\n",
       "      <th>...</th>\n",
       "      <td>...</td>\n",
       "    </tr>\n",
       "    <tr>\n",
       "      <th>brevmodellen</th>\n",
       "      <td>1</td>\n",
       "    </tr>\n",
       "    <tr>\n",
       "      <th>eksemplificeres</th>\n",
       "      <td>1</td>\n",
       "    </tr>\n",
       "    <tr>\n",
       "      <th>libitum,</th>\n",
       "      <td>1</td>\n",
       "    </tr>\n",
       "    <tr>\n",
       "      <th>fritidshjemmet</th>\n",
       "      <td>1</td>\n",
       "    </tr>\n",
       "    <tr>\n",
       "      <th>dsi-rapporten,</th>\n",
       "      <td>1</td>\n",
       "    </tr>\n",
       "  </tbody>\n",
       "</table>\n",
       "<p>377251 rows × 1 columns</p>\n",
       "</div>"
      ],
      "text/plain": [
       "                 Frequency\n",
       "Word                      \n",
       "at                  631956\n",
       "det                 536954\n",
       "er                  486473\n",
       "og                  399372\n",
       "i                   368895\n",
       "...                    ...\n",
       "brevmodellen             1\n",
       "eksemplificeres          1\n",
       "libitum,                 1\n",
       "fritidshjemmet           1\n",
       "dsi-rapporten,           1\n",
       "\n",
       "[377251 rows x 1 columns]"
      ]
     },
     "execution_count": 5,
     "metadata": {},
     "output_type": "execute_result"
    }
   ],
   "source": [
    "df_words = df.content_cleaned.str.split(expand = True).stack().value_counts().reset_index()\n",
    "df_words.columns = ['Word', 'Frequency']\n",
    "df_words.set_index(\"Word\", inplace = True)\n",
    "df_words"
   ]
  },
  {
   "cell_type": "code",
   "execution_count": null,
   "id": "8781a6ab",
   "metadata": {},
   "outputs": [],
   "source": []
  },
  {
   "cell_type": "code",
   "execution_count": null,
   "id": "2bcf7e1b",
   "metadata": {},
   "outputs": [],
   "source": []
  },
  {
   "cell_type": "code",
   "execution_count": null,
   "id": "4099af94",
   "metadata": {},
   "outputs": [],
   "source": []
  },
  {
   "cell_type": "code",
   "execution_count": null,
   "id": "95b30974",
   "metadata": {},
   "outputs": [],
   "source": []
  }
 ],
 "metadata": {
  "kernelspec": {
   "display_name": "Python 3",
   "language": "python",
   "name": "python3"
  },
  "language_info": {
   "codemirror_mode": {
    "name": "ipython",
    "version": 3
   },
   "file_extension": ".py",
   "mimetype": "text/x-python",
   "name": "python",
   "nbconvert_exporter": "python",
   "pygments_lexer": "ipython3",
   "version": "3.8.8"
  }
 },
 "nbformat": 4,
 "nbformat_minor": 5
}
