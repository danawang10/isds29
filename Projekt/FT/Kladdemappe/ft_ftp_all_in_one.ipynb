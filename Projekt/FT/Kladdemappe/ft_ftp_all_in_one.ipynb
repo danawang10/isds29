{
 "cells": [
  {
   "cell_type": "code",
   "execution_count": null,
   "id": "09f3543d",
   "metadata": {},
   "outputs": [
    {
     "name": "stderr",
     "output_type": "stream",
     "text": [
      "100%|██████████████████████████████████████████████████████████████████████████████| 1489/1489 [04:01<00:00,  6.16it/s]\n",
      "100%|██████████████████████████████████████████████████████████████████████████████| 1489/1489 [13:11<00:00,  1.88it/s]\n"
     ]
    }
   ],
   "source": [
    "import requests\n",
    "import ftplib\n",
    "import pandas as pd\n",
    "import numpy as np\n",
    "import tqdm\n",
    "import time\n",
    "from io import BytesIO\n",
    "from bs4 import BeautifulSoup as bs\n",
    "\n",
    "ftp_url = \"oda.ft.dk\"\n",
    "ftp_dir = \"/ODAXML/Referat/samling/\"\n",
    "\n",
    "dirs = []\n",
    "sub_dir = []\n",
    "filer = []\n",
    "filer_navne = []\n",
    "filer_size = []\n",
    "sti_navn = []\n",
    "indhold = []\n",
    "suppe = []\n",
    "\n",
    "ftp = ftplib.FTP(ftp_url)\n",
    "ftp.login(\"anonymous\", \"wpg345@alumni.ku.dk\")\n",
    "ftp.set_pasv(True)\n",
    "ftp.cwd(ftp_dir)\n",
    "ftp.dir(dirs.append)\n",
    "\n",
    "for i in range (0, len(dirs), 1):\n",
    "    sub_dir.append(ftp_dir+dirs[i][-5:]+'/') \n",
    "\n",
    "for i in range (0, len(sub_dir), 1):\n",
    "    ftp.cwd(sub_dir[i])\n",
    "    ftp.dir(filer.append)\n",
    "    \n",
    "for i in range(0, len(filer)):\n",
    "    filer_navne.append(filer[i][39:])\n",
    "    \n",
    "for i in range(0, len(filer)):\n",
    "    filer_size.append(int(filer[i][17:39]))\n",
    "    \n",
    "for i in range(0, len(filer_navne)):\n",
    "    sti_navn.append(ftp_dir+filer_navne[i][0:5]+'/'+filer_navne[i])\n",
    "    \n",
    "for i in tqdm.tqdm(range(0, len(sti_navn))):\n",
    "    r = BytesIO()\n",
    "    ftp.retrbinary(f\"RETR {sti_navn[i]}\", r.write) #, blocksize=ftp_block)\n",
    "    indhold.append(r.getvalue())\n",
    "    r.close()\n",
    "\n",
    "for i in tqdm.tqdm(range (0,len(indhold))):\n",
    "    suppe.append(bs(indhold[i],\"lxml\"))\n",
    "    \n",
    "df_suppe = pd.DataFrame(suppe)"
   ]
  },
  {
   "cell_type": "code",
   "execution_count": null,
   "id": "1e037f42",
   "metadata": {},
   "outputs": [],
   "source": []
  }
 ],
 "metadata": {
  "kernelspec": {
   "display_name": "Python 3 (ipykernel)",
   "language": "python",
   "name": "python3"
  },
  "language_info": {
   "codemirror_mode": {
    "name": "ipython",
    "version": 3
   },
   "file_extension": ".py",
   "mimetype": "text/x-python",
   "name": "python",
   "nbconvert_exporter": "python",
   "pygments_lexer": "ipython3",
   "version": "3.9.12"
  }
 },
 "nbformat": 4,
 "nbformat_minor": 5
}
