{
 "cells": [
  {
   "cell_type": "code",
   "execution_count": 53,
   "id": "6145e125",
   "metadata": {},
   "outputs": [],
   "source": [
    "import pandas as pd\n",
    "import numpy as np"
   ]
  },
  {
   "cell_type": "markdown",
   "id": "99a26ae8",
   "metadata": {},
   "source": [
    "### Import and clean data"
   ]
  },
  {
   "cell_type": "code",
   "execution_count": 54,
   "id": "8f8899f3",
   "metadata": {},
   "outputs": [
    {
     "name": "stderr",
     "output_type": "stream",
     "text": [
      "C:\\Users\\kim\\AppData\\Local\\Temp\\ipykernel_8616\\2497644450.py:3: FutureWarning: The default value of regex will change from True to False in a future version.\n",
      "  df[\"content_cleaned\"].str.replace(\"[.,:;]\",\"\") #Special characters\n"
     ]
    }
   ],
   "source": [
    "df = pd.read_csv('df_sygeplejersker.csv')\n",
    "df['content_cleaned'] = df['content'].apply(lambda x:x.lower()) # Lowecase\n",
    "df[\"content_cleaned\"].str.replace(\"[.,:;]\",\"\") #Special characters\n",
    "\n",
    "df.to_csv('df_sygeplejersker_cleaned.csv')"
   ]
  },
  {
   "cell_type": "code",
   "execution_count": 55,
   "id": "1e4325e0",
   "metadata": {},
   "outputs": [
    {
     "data": {
      "text/plain": [
       "'\\ndef clean(df, column):\\n....\\n'"
      ]
     },
     "execution_count": 55,
     "metadata": {},
     "output_type": "execute_result"
    }
   ],
   "source": [
    "'''\n",
    "def clean(df, column):\n",
    "....\n",
    "''' "
   ]
  },
  {
   "cell_type": "markdown",
   "id": "22c0434f",
   "metadata": {},
   "source": [
    "### Danish stop words"
   ]
  },
  {
   "cell_type": "code",
   "execution_count": 56,
   "id": "74367489",
   "metadata": {},
   "outputs": [
    {
     "data": {
      "text/plain": [
       "\"\\nimport nltk\\n#nltk.download('stopwords')\\nstop = nltk.corpus.stopwords.words('danish')\\n\""
      ]
     },
     "execution_count": 56,
     "metadata": {},
     "output_type": "execute_result"
    }
   ],
   "source": [
    "'''\n",
    "import nltk\n",
    "#nltk.download('stopwords')\n",
    "stop = nltk.corpus.stopwords.words('danish')\n",
    "'''"
   ]
  }
 ],
 "metadata": {
  "kernelspec": {
   "display_name": "Python 3 (ipykernel)",
   "language": "python",
   "name": "python3"
  },
  "language_info": {
   "codemirror_mode": {
    "name": "ipython",
    "version": 3
   },
   "file_extension": ".py",
   "mimetype": "text/x-python",
   "name": "python",
   "nbconvert_exporter": "python",
   "pygments_lexer": "ipython3",
   "version": "3.9.12"
  }
 },
 "nbformat": 4,
 "nbformat_minor": 5
}
