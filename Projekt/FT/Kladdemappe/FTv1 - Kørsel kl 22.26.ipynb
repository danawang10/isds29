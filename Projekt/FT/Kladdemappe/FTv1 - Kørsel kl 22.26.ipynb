{
 "cells": [
  {
   "cell_type": "markdown",
   "id": "81f18fb0",
   "metadata": {},
   "source": [
    "Version, der læser alle møder ind i en liste"
   ]
  },
  {
   "cell_type": "code",
   "execution_count": 1,
   "id": "d7519112",
   "metadata": {},
   "outputs": [],
   "source": [
    "#Nødvendige biblioteker\n",
    "import requests\n",
    "import ftplib\n",
    "import pandas as pd\n",
    "import numpy as np\n",
    "from bs4 import BeautifulSoup as bs4\n",
    "import tqdm"
   ]
  },
  {
   "cell_type": "code",
   "execution_count": 2,
   "id": "7676f0f8",
   "metadata": {},
   "outputs": [],
   "source": [
    "#Initialisering af forbindelse til oda.ft.dk\n",
    "ftp_url = \"oda.ft.dk\"\n",
    "ftp_dir = \"/ODAXML/Referat/samling/\"\n",
    "dirs = []\n",
    "sub_dirs = []\n",
    "filer = []"
   ]
  },
  {
   "cell_type": "code",
   "execution_count": 3,
   "id": "120e9d38",
   "metadata": {},
   "outputs": [
    {
     "data": {
      "text/plain": [
       "'250 CWD command successful.'"
      ]
     },
     "execution_count": 3,
     "metadata": {},
     "output_type": "execute_result"
    }
   ],
   "source": [
    "#FTP login\n",
    "ftp = ftplib.FTP(ftp_url)\n",
    "ftp.login(\"anonymous\", \"\")\n",
    "ftp.cwd(ftp_dir)"
   ]
  },
  {
   "cell_type": "code",
   "execution_count": 4,
   "id": "f0c713a1",
   "metadata": {},
   "outputs": [],
   "source": [
    "#Liste med biblioteksnavne\n",
    "ftp.dir(dirs.append)"
   ]
  },
  {
   "cell_type": "code",
   "execution_count": 5,
   "id": "dcf1fb22",
   "metadata": {},
   "outputs": [],
   "source": [
    "#Liste med underbiblioteker\n",
    "sub_dir = []\n",
    "for i in range (0, len(dirs), 1):\n",
    "    sub_dir.append(ftp_dir+dirs[i][-5:]+'/') "
   ]
  },
  {
   "cell_type": "code",
   "execution_count": 6,
   "id": "9ede60dc",
   "metadata": {},
   "outputs": [],
   "source": [
    "#Liste med referater fra Folketingets samlingerne i XML format\n",
    "files = []\n",
    "for i in range (0, len(sub_dir), 1):\n",
    "    ftp.cwd(sub_dir[i])\n",
    "    ftp.dir(files.append)"
   ]
  },
  {
   "cell_type": "code",
   "execution_count": 7,
   "id": "c93968fe",
   "metadata": {},
   "outputs": [],
   "source": [
    "#Her omdannes til en liste med kun filnavne\n",
    "filenames = []\n",
    "for i in range(0, len(files)):\n",
    "    filenames.append(files[i][39:])"
   ]
  },
  {
   "cell_type": "code",
   "execution_count": 8,
   "id": "d3b815d3",
   "metadata": {},
   "outputs": [],
   "source": [
    "#Generering af sti og filnavn, som kan importeres\n",
    "files_to_import = []\n",
    "for i in range(0, len(filenames)):\n",
    "    files_to_import.append(ftp_dir+filenames[i][0:5]+'/'+filenames[i])"
   ]
  },
  {
   "cell_type": "code",
   "execution_count": 9,
   "id": "611b6aaf",
   "metadata": {},
   "outputs": [
    {
     "name": "stderr",
     "output_type": "stream",
     "text": [
      "100%|██████████████████████████████████████████████████████████████████████████████| 1489/1489 [03:28<00:00,  7.15it/s]\n"
     ]
    }
   ],
   "source": [
    "#Her hentes alle transskriptioner fra Folketingets samlinger og indsættes i file_content\n",
    "file_content = []\n",
    "for i in tqdm.tqdm(range(0, len(files_to_import))):\n",
    "    ftp.retrbinary(f\"RETR {files_to_import[i]}\", file_content.append)"
   ]
  },
  {
   "cell_type": "code",
   "execution_count": 11,
   "id": "96ac86e9",
   "metadata": {},
   "outputs": [
    {
     "name": "stdout",
     "output_type": "stream",
     "text": [
      "17 b'1T10:43:36</EndDateTime></MetaSpeechSegment><TekstGruppe><Exitus><Linea><Char>Som jeg allerede har n\\xc3\\xa6vnt flere gange, svarer de her \\xc3\\xa6ndringer jo stort set til de \\xc3\\xa6ndringer, som vi fremlagde forslag til tilbage i 2008.</Char></Linea><Linea><Char>Men p\\xc3\\xa5 grund af den dav\\xc3\\xa6rende \\xc3\\xb8konomiske situation og udsigten til, at ledigheden ville stige drastisk, valgte vi ikke at gennemf\\xc3\\xb8re det p\\xc3\\xa5 dav\\xc3\\xa6rende tidspunkt.</Char></Linea><Linea><Char>S\\xc3\\xa5 der er ikke noget nyt i, at Venstre og regeringen har \\xc3\\xb8nsket \\xc3\\xa6ndringer i dagpengesystemet.</Char></Linea></Exitus><Exitus><Linea><Char>Det, jeg synes er vigtigt at understrege her \\xe2\\x80\\x93 og det vil jeg s\\xc3\\xa5dan set gerne rose og anerkende hr.</Char></Linea><Linea><Char>Morten \\xc3\\x98stergaard og Det Radikale Venstre for \\xe2\\x80\\x93 er, at vi i f\\xc3\\xa6llesskab har strikket en pakke sammen til bek\\xc3\\xa6mpelse af langtidsledighed, for tingene skal selvf\\xc3\\xb8lgelig ses i sammenh\\xc3\\xa6ng.</Char></Linea><Linea><Char>Afkortningen af dagpengeperioden betyder selvf\\xc3\\xb8lgelig, at der er brug for en helt ekstraordin\\xc3\\xa6r indsats for netop at sikre, at folk f\\xc3\\xa5r de kvalifikationer og de kompetencer, som der er brug for, for at de kan vende tilbage til arbejdsmarkedet.</Char></Linea><Linea><Char>Noget af det har vi fundet svaret p\\xc3\\xa5 i den pakke, som vi i f\\xc3\\xa6llesskab har strikket sammen i forbindelse med langtidsledighed, og tak til Det Radikale Venstre for det udviste mod til at v\\xc3\\xa6re med i den pakke.</Char></Linea></Exitus><Exitus><Linea><Char>Man kan jo s\\xc3\\xa5 undre sig over, at Socialdemokraterne valgte at t\\xc3\\xa6nke valgkamp og ikke t\\xc3\\xa6nke p\\xc3\\xa5 de ledige.</Char></Linea></Exitus></TekstGruppe></TaleSegment></Tale><Tale><Taler><MetaSpeakerMP><OratorFirstName>Holger K.</OratorFirstName><OratorLastName>Nielsen</OratorLastName><GroupNameShort>SF</GroupNameShort><OratorRole>formand</OratorRole></MetaSpeakerMP><TalerTitel><Linea><Char>Tredje n\\xc3\\xa6stformand</Char><Char> (Holger K. Nielsen)</Char></Linea></TalerTitel></Taler><TaleSegment><MetaSpeechSegment><LastModified>2011-01-18T14:15:21</LastModified><EdixiStatus>Typeset</EdixiStatus><StartDateTime>2010-05-31T10:43:36</StartDateTime><EndDateTime>2010-05-31T10:43:42</EndDateTime></MetaSpeechSegment><TekstGruppe><Exitus><Linea><Char>Hr.</Char></Linea><Linea><Char>Ole H\\xc3\\xa6kkerup.</Char></Linea></Exitus></TekstGruppe></TaleSegment></Tale><Tale><Taler><MetaSpeakerMP><OratorFirstName>Ole</OratorFirstName><OratorLastName>H\\xc3\\xa6kkerup</OratorLastName><GroupNameShort>S</GroupNameShort><OratorRole>medlem</OratorRole></MetaSpeakerMP><TalerTitel><Linea><Char>Ole H\\xc3\\xa6kkerup</Char><Char> (S)</Char></Linea></TalerTitel></Taler><TaleSegment><MetaSpeechSegment><LastModified>2011-01-18T14:15:21</LastModified><EdixiStatus>Typeset</EdixiStatus><StartDateTime>2010-05-31T10:43:42</StartDateTime><EndDateTime>2010-05-31T10:44:29</EndDateTime></MetaSpeechSegment><TekstGruppe><Exitus><Linea><Char>Ordf\\xc3\\xb8reren sagde lidt tidligere det her med, at der nok ville v\\xc3\\xa6re lidt flere, der kom p\\xc3\\xa5 kontanthj\\xc3\\xa6lp, og det ville ogs\\xc3\\xa5 v\\xc3\\xa6re m\\xc3\\xa6rkeligt andet, ellers ville der jo ikke v\\xc3'\n"
     ]
    }
   ],
   "source": [
    "#Da FTP protokollen ikke kan(?) håndtere UTF-8 laves en omkodning af indholdet\n",
    "file_content_decoded = []\n",
    "#for i in range (0, len(content)):\n",
    "#new_content = new_content\n",
    "try:\n",
    "    for i in range (0, len(file_content)):\n",
    "        #file_content_decoded.append(file_content[i].decode(\"utf-8\", errors='ignore'))\n",
    "        #file_content_decoded.append(file_content[i].decode(\"utf-8\"))\n",
    "        file_content_decoded.append(file_content[i].decode(\"utf-8_sig\"))\n",
    "except:\n",
    "        print(i, file_content[i])\n"
   ]
  },
  {
   "cell_type": "code",
   "execution_count": 27,
   "id": "27f4ae07",
   "metadata": {},
   "outputs": [
    {
     "data": {
      "text/plain": [
       "163650"
      ]
     },
     "execution_count": 27,
     "metadata": {},
     "output_type": "execute_result"
    }
   ],
   "source": [
    "len(file_content)"
   ]
  },
  {
   "cell_type": "code",
   "execution_count": null,
   "id": "d45d700b",
   "metadata": {},
   "outputs": [],
   "source": [
    "for i in range(0, len(file_content)):\n",
    "    print([i], len(str(file_content[i])))\n"
   ]
  },
  {
   "cell_type": "code",
   "execution_count": 11,
   "id": "74523bff",
   "metadata": {},
   "outputs": [
    {
     "name": "stdout",
     "output_type": "stream",
     "text": [
      "0\n",
      "1\n",
      "2\n",
      "3\n",
      "4\n",
      "5\n",
      "6\n",
      "7\n",
      "8\n",
      "9\n",
      "10\n",
      "11\n",
      "12\n",
      "13\n",
      "14\n",
      "15\n",
      "16\n",
      "17\n",
      "18\n",
      "19\n"
     ]
    },
    {
     "ename": "UnicodeDecodeError",
     "evalue": "'utf-8' codec can't decode bytes in position 6986-6987: unexpected end of data",
     "output_type": "error",
     "traceback": [
      "\u001b[1;31m---------------------------------------------------------------------------\u001b[0m",
      "\u001b[1;31mUnicodeDecodeError\u001b[0m                        Traceback (most recent call last)",
      "Input \u001b[1;32mIn [11]\u001b[0m, in \u001b[0;36m<cell line: 5>\u001b[1;34m()\u001b[0m\n\u001b[0;32m      2\u001b[0m \u001b[38;5;66;03m#for i in range (0, len(content)):\u001b[39;00m\n\u001b[0;32m      3\u001b[0m \u001b[38;5;66;03m#new_content = new_content\u001b[39;00m\n\u001b[0;32m      4\u001b[0m \u001b[38;5;66;03m#try:\u001b[39;00m\n\u001b[0;32m      5\u001b[0m \u001b[38;5;28;01mfor\u001b[39;00m i \u001b[38;5;129;01min\u001b[39;00m \u001b[38;5;28mrange\u001b[39m (\u001b[38;5;241m0\u001b[39m, \u001b[38;5;241m100\u001b[39m):\n\u001b[0;32m      6\u001b[0m     \u001b[38;5;66;03m#file_content_decoded.append(file_content[i].decode(\"utf-8\", errors='ignore'))\u001b[39;00m\n\u001b[1;32m----> 7\u001b[0m     file_content_decoded\u001b[38;5;241m.\u001b[39mappend(\u001b[43mfile_content\u001b[49m\u001b[43m[\u001b[49m\u001b[43mi\u001b[49m\u001b[43m]\u001b[49m\u001b[38;5;241;43m.\u001b[39;49m\u001b[43mdecode\u001b[49m\u001b[43m(\u001b[49m\u001b[38;5;124;43m\"\u001b[39;49m\u001b[38;5;124;43mutf-8\u001b[39;49m\u001b[38;5;124;43m\"\u001b[39;49m\u001b[43m)\u001b[49m)\n\u001b[0;32m      8\u001b[0m \u001b[38;5;66;03m#except:\u001b[39;00m\n\u001b[0;32m      9\u001b[0m     \u001b[38;5;28mprint\u001b[39m(i)\n",
      "\u001b[1;31mUnicodeDecodeError\u001b[0m: 'utf-8' codec can't decode bytes in position 6986-6987: unexpected end of data"
     ]
    }
   ],
   "source": [
    "file_content_decoded = []\n",
    "#for i in range (0, len(content)):\n",
    "#new_content = new_content\n",
    "#try:\n",
    "for i in range (0, 100):\n",
    "    #file_content_decoded.append(file_content[i].decode(\"utf-8\", errors='ignore'))\n",
    "    file_content_decoded.append(file_content[i].decode(\"utf-8\"))\n",
    "#except:\n",
    "    print(i)\n"
   ]
  },
  {
   "cell_type": "code",
   "execution_count": 12,
   "id": "ff03e642",
   "metadata": {},
   "outputs": [
    {
     "data": {
      "text/plain": [
       "'><TekstGruppe><Exitus><Linea><Char>Regeringen har sammen med Dansk Folkeparti indgået en ansvarlig og helt igennem nødvendig aftale om genopretning af dansk økonomi.</Char></Linea><Linea><Char>Med genopretningspakken betaler vi regningen en gang for alle, og vi viser, at Danmark har styr på økonomien.</Char></Linea><Linea><Char>Planen er lavet så lempelig som muligt, men når man skal betale en regning på 24 mia.</Char></Linea><Linea><Char>kr., kan det mærkes af alle.</Char></Linea><Linea><Char>Det er ikke nemt, men det er nødvendigt.</Char></Linea><Linea><Char>Vi vil ikke sådan som Socialdemokraterne og Socialistisk Folkeparti lukke øjnene for den økonomiske virkelighed og se bort fra de krav, som EU stiller til os om at nedbringe vores offentlige underskud.</Char></Linea></Exitus><Exitus><Linea><Char>Danmark er en åben økonomi, og hvis ikke vi betaler regningen nu, risikerer vi højere renter og spekulation mod kronen og finansiel uro.</Char></Linea><Linea><Char>Det vil ramme boligejerne, det vil ramme virksomhederne, og det vil koste danske arbejdspladser.</Char></Linea><Linea><Char>Det har vi ganske enkelt ikke råd til.</Char></Linea><Linea><Char>Ikke nok med det, så forsøger Socialdemokraterne og Socialistisk Folkeparti at foregøgle danskerne, at vi bare skal arbejde en lillebitte smule ekstra engang ud i fremtiden, og så er alle økonomiske problemer løst.</Char></Linea><Linea><Char>Nej, Socialdemokraternes og Socialistisk Folkepartis planer er rene luftkasteller og er blottet for konkrete svar på, hvordan vi løser de økonomiske udfordringer, som vi står over for her og nu.</Char></Linea></Exitus><Exitus><Linea><Char>Med genopretningspakken betales regningen en gang for alle.</Char></Linea><Linea><Char>Et væsentligt led i aftalen er en samlet dagpengereform, som indebærer den nedsættelse af dagpengeperioden fra 4 år til 2 år, som L 222 handler om.</Char></Linea><Linea><Char>Dagpengereformen omhandler desuden en harmonisering af optjenings- og genoptjeningskravet for ret til dagpenge til 52 uger inden for 3 år og en ændring af beregningsperioden fra en 3-måneders- til en 12-måneders-periode.</Char></Linea></Exitus><Exitus><Linea><Char>Det er vigtigt for Venstre at sikre, at de borgere, som bliver berørt af dagpengereformen, også får mulighed for at vurdere deres samlede situation efter reformens ikrafttræden og dermed har mulighed for at indrette sig på reformens samlede konsekvenser.</Char></Linea><Linea><Char>Derfor vil regeringen på onsdag fremsætte et selvstændigt lovforslag om de to øvrige elementer af dagpengereformen, nemlig forslaget om harmonisering af beregningsperioden.</Char></Linea></Exitus><Exitus><Linea><Char>Med forslaget her, altså L 222, bidrager vi på kort sigt til genopretningen af dansk økonomi, men samtidig bidrager vi med en '"
      ]
     },
     "execution_count": 12,
     "metadata": {},
     "output_type": "execute_result"
    }
   ],
   "source": [
    "file_content_decoded[1]"
   ]
  },
  {
   "cell_type": "code",
   "execution_count": null,
   "id": "1666dcf6",
   "metadata": {},
   "outputs": [],
   "source": [
    "df = pd.DataFrame(file_content_decoded)\n",
    "df.to_csv(\"file_content_decoded.csv\", index = False)"
   ]
  },
  {
   "cell_type": "code",
   "execution_count": null,
   "id": "d5d71ac6",
   "metadata": {},
   "outputs": [],
   "source": [
    "ft_df = pd.read_xml(file_content_decoded[1])\n",
    "#soup = bs(decoded_str, \"lxml\")"
   ]
  },
  {
   "cell_type": "code",
   "execution_count": null,
   "id": "d90b128e",
   "metadata": {},
   "outputs": [],
   "source": [
    "file_content_decoded"
   ]
  },
  {
   "cell_type": "code",
   "execution_count": null,
   "id": "4a699675",
   "metadata": {},
   "outputs": [],
   "source": [
    "df = pd.DataFrame(filer)\n",
    "df.to_excel(\"filnavn.xlsx\", index = False)"
   ]
  },
  {
   "cell_type": "code",
   "execution_count": null,
   "id": "899abf30",
   "metadata": {},
   "outputs": [],
   "source": []
  }
 ],
 "metadata": {
  "kernelspec": {
   "display_name": "Python 3 (ipykernel)",
   "language": "python",
   "name": "python3"
  },
  "language_info": {
   "codemirror_mode": {
    "name": "ipython",
    "version": 3
   },
   "file_extension": ".py",
   "mimetype": "text/x-python",
   "name": "python",
   "nbconvert_exporter": "python",
   "pygments_lexer": "ipython3",
   "version": "3.9.12"
  }
 },
 "nbformat": 4,
 "nbformat_minor": 5
}
