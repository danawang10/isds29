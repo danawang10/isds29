{
 "cells": [
  {
   "cell_type": "code",
   "execution_count": 56,
   "id": "9fead52c",
   "metadata": {},
   "outputs": [],
   "source": [
    "from bs4 import BeautifulSoup as bs\n",
    "import re \n",
    "import lxml\n",
    "import xml.etree.ElementTree as ET\n",
    "from pprint import pprint\n",
    "import datetime"
   ]
  },
  {
   "cell_type": "markdown",
   "id": "4ea03863",
   "metadata": {},
   "source": [
    "### Method 1 (skrottet)"
   ]
  },
  {
   "cell_type": "code",
   "execution_count": 2,
   "id": "fb64e925",
   "metadata": {},
   "outputs": [
    {
     "ename": "XMLSyntaxError",
     "evalue": "Start tag expected, '<' not found, line 1, column 1 (20091_M100_helemoedet.xml, line 1)",
     "output_type": "error",
     "traceback": [
      "Traceback \u001b[1;36m(most recent call last)\u001b[0m:\n",
      "  File \u001b[0;32m~\\anaconda3\\lib\\site-packages\\IPython\\core\\interactiveshell.py:3397\u001b[0m in \u001b[0;35mrun_code\u001b[0m\n    exec(code_obj, self.user_global_ns, self.user_ns)\n",
      "  Input \u001b[0;32mIn [2]\u001b[0m in \u001b[0;35m<cell line: 5>\u001b[0m\n    parsed = objectify.parse(f)\n",
      "  File \u001b[0;32msrc/lxml/objectify.pyx:2044\u001b[0m in \u001b[0;35mlxml.objectify.parse\u001b[0m\n",
      "  File \u001b[0;32msrc/lxml/etree.pyx:3536\u001b[0m in \u001b[0;35mlxml.etree.parse\u001b[0m\n",
      "  File \u001b[0;32msrc/lxml/parser.pxi:1897\u001b[0m in \u001b[0;35mlxml.etree._parseDocument\u001b[0m\n",
      "  File \u001b[0;32msrc/lxml/parser.pxi:1917\u001b[0m in \u001b[0;35mlxml.etree._parseFilelikeDocument\u001b[0m\n",
      "  File \u001b[0;32msrc/lxml/parser.pxi:1811\u001b[0m in \u001b[0;35mlxml.etree._parseDocFromFilelike\u001b[0m\n",
      "  File \u001b[0;32msrc/lxml/parser.pxi:1201\u001b[0m in \u001b[0;35mlxml.etree._BaseParser._parseDocFromFilelike\u001b[0m\n",
      "  File \u001b[0;32msrc/lxml/parser.pxi:615\u001b[0m in \u001b[0;35mlxml.etree._ParserContext._handleParseResultDoc\u001b[0m\n",
      "  File \u001b[0;32msrc/lxml/parser.pxi:725\u001b[0m in \u001b[0;35mlxml.etree._handleParseResult\u001b[0m\n",
      "\u001b[1;36m  File \u001b[1;32msrc/lxml/parser.pxi:654\u001b[1;36m in \u001b[1;35mlxml.etree._raiseParseError\u001b[1;36m\u001b[0m\n",
      "\u001b[1;36m  File \u001b[1;32m~\\OneDrive - University of Copenhagen\\GitHub\\isds29\\Projekt\\FT\\20091_M100_helemoedet.xml:1\u001b[1;36m\u001b[0m\n\u001b[1;33m    <?xml version=\"1.0\" encoding=\"utf-8\"?><Dokument edixistatus=\"\"><MetaMeeting><ParliamentarySession>20091</ParliamentarySession><ParliamentaryGroup>Folketinget</ParliamentaryGroup><MeetingNumber>100</MeetingNumber><DateOfSitting>2010-05-31T10:00:00</DateOfSitting><Location>Folketingssalen</Location><EdixiDocLocation>W:\\20091\\M100\\</EdixiDocLocation><AudioFileFolder>X:\\DAudio\\FT2009\\100\\SALEN\\</AudioFileFolder></MetaMeeting><TitelGruppe><Titel><Linea><Char>100. møde</Char></Linea></Titel><UnderTitel><Linea><Char>Mandag den 31. maj 2010 kl. 10.00</Char></Linea></UnderTitel></TitelGruppe><DagsordenPlan><Rubrica>\u001b[0m\n\u001b[1;37m                                                                                                                                                                                                                                                                                                                                                                                                                                                                                                                                                                                                                                          ^\u001b[0m\n\u001b[1;31mXMLSyntaxError\u001b[0m\u001b[1;31m:\u001b[0m Start tag expected, '<' not found, line 1, column 1\n"
     ]
    }
   ],
   "source": [
    "from lxml import objectify\n",
    "\n",
    "file = \"20091_M100_helemoedet.xml\"\n",
    "\n",
    "with open(file) as f:\n",
    "    parsed = objectify.parse(f)\n",
    "\n",
    "root = parsed.getroot()"
   ]
  },
  {
   "cell_type": "code",
   "execution_count": 3,
   "id": "135d17cb",
   "metadata": {
    "scrolled": true
   },
   "outputs": [
    {
     "ename": "NameError",
     "evalue": "name 'root' is not defined",
     "output_type": "error",
     "traceback": [
      "\u001b[1;31m---------------------------------------------------------------------------\u001b[0m",
      "\u001b[1;31mNameError\u001b[0m                                 Traceback (most recent call last)",
      "Input \u001b[1;32mIn [3]\u001b[0m, in \u001b[0;36m<cell line: 1>\u001b[1;34m()\u001b[0m\n\u001b[1;32m----> 1\u001b[0m \u001b[43mroot\u001b[49m\u001b[38;5;241m.\u001b[39mattrib\n",
      "\u001b[1;31mNameError\u001b[0m: name 'root' is not defined"
     ]
    }
   ],
   "source": [
    "root.attrib"
   ]
  },
  {
   "cell_type": "markdown",
   "id": "08783bf8",
   "metadata": {},
   "source": [
    "### Read xml file "
   ]
  },
  {
   "cell_type": "code",
   "execution_count": 4,
   "id": "b17f0bbb",
   "metadata": {},
   "outputs": [],
   "source": [
    "tree = ET.parse('20091_M100_helemoedet.xml')\n",
    "root = tree.getroot()"
   ]
  },
  {
   "cell_type": "code",
   "execution_count": 15,
   "id": "11812027",
   "metadata": {
    "scrolled": true
   },
   "outputs": [
    {
     "name": "stdout",
     "output_type": "stream",
     "text": [
      "Dokument\n"
     ]
    }
   ],
   "source": [
    "root[0].tag\n",
    "root[1].tag"
   ]
  },
  {
   "cell_type": "markdown",
   "id": "5bcf1a59",
   "metadata": {},
   "source": [
    "##### Subelements / children"
   ]
  },
  {
   "cell_type": "code",
   "execution_count": 16,
   "id": "1184746b",
   "metadata": {
    "scrolled": true
   },
   "outputs": [],
   "source": [
    "# children of the root only \n",
    "root_children = []\n",
    "\n",
    "for child in root:\n",
    "    root_children.append((child.tag, child.attrib))"
   ]
  },
  {
   "cell_type": "code",
   "execution_count": 17,
   "id": "c23805c9",
   "metadata": {},
   "outputs": [
    {
     "data": {
      "text/plain": [
       "[('MetaMeeting', {}),\n",
       " ('TitelGruppe', {}),\n",
       " ('DagsordenPlan', {}),\n",
       " ('DagsordenPunkt', {}),\n",
       " ('DagsordenPunkt', {}),\n",
       " ('DagsordenPunkt', {}),\n",
       " ('DagsordenPunkt', {}),\n",
       " ('DagsordenPunkt', {}),\n",
       " ('DagsordenPunkt', {}),\n",
       " ('DagsordenPunkt', {}),\n",
       " ('DagsordenPunkt', {})]"
      ]
     },
     "execution_count": 17,
     "metadata": {},
     "output_type": "execute_result"
    }
   ],
   "source": [
    "root_children.½"
   ]
  },
  {
   "cell_type": "code",
   "execution_count": 7,
   "id": "5e637762",
   "metadata": {
    "scrolled": true
   },
   "outputs": [],
   "source": [
    "# All children in file\n",
    "# d = [elem.tag for elem in root.iter()]"
   ]
  },
  {
   "cell_type": "code",
   "execution_count": 18,
   "id": "51b2c84c",
   "metadata": {},
   "outputs": [],
   "source": [
    "# entire xml file as string\n",
    "xml = ET.tostring(root, encoding='utf8').decode('utf8')"
   ]
  },
  {
   "cell_type": "markdown",
   "id": "b07a1c8c",
   "metadata": {},
   "source": [
    "### Method 3: soup"
   ]
  },
  {
   "cell_type": "code",
   "execution_count": 24,
   "id": "80bb2581",
   "metadata": {},
   "outputs": [],
   "source": [
    "soup = bs(xml, 'xml')"
   ]
  },
  {
   "cell_type": "code",
   "execution_count": 22,
   "id": "bd6d0a3e",
   "metadata": {},
   "outputs": [],
   "source": [
    "dagsordenpunkter = bs(xml).find_all(\"dagsordenpunkt\") # punkterne med tags \n",
    "punkter = []  # punkterne uden tags \n",
    "\n",
    "for dagsordenpunkt in range(0, len(dagsordenpunkter)):\n",
    "    punkter.append(dagsordenpunkter[dagsordenpunkt].get_text(separator = ' '))"
   ]
  },
  {
   "cell_type": "markdown",
   "id": "ced5c6f3",
   "metadata": {},
   "source": [
    "Nu tester jeg lige på dateofsetting"
   ]
  },
  {
   "cell_type": "code",
   "execution_count": 110,
   "id": "ff4aa6e3",
   "metadata": {},
   "outputs": [
    {
     "name": "stderr",
     "output_type": "stream",
     "text": [
      "C:\\Users\\kim\\anaconda3\\lib\\site-packages\\bs4\\builder\\__init__.py:545: XMLParsedAsHTMLWarning: It looks like you're parsing an XML document using an HTML parser. If this really is an HTML document (maybe it's XHTML?), you can ignore or filter this warning. If it's XML, you should know that using an XML parser will be more reliable. To parse this document as XML, make sure you have the lxml package installed, and pass the keyword argument `features=\"xml\"` into the BeautifulSoup constructor.\n",
      "  warnings.warn(\n"
     ]
    }
   ],
   "source": [
    "dato = bs(xml).find(\"dateofsitting\") # punkterne med tags \n",
    "moedenr = bs(xml).find(\"meetingnumber\") \n",
    "samling = bs(xml).find(\"parliamentarysession\")\n",
    "hvem = bs(xml).find(\"parliamentarygroup\")\n",
    "lokation = bs(xml).find(\"location\")"
   ]
  },
  {
   "cell_type": "code",
   "execution_count": 111,
   "id": "9b1a0110",
   "metadata": {},
   "outputs": [
    {
     "data": {
      "text/plain": [
       "'2010-05-31'"
      ]
     },
     "execution_count": 111,
     "metadata": {},
     "output_type": "execute_result"
    }
   ],
   "source": [
    "dato.text[:10]"
   ]
  },
  {
   "cell_type": "code",
   "execution_count": 112,
   "id": "271e6cde",
   "metadata": {},
   "outputs": [
    {
     "name": "stdout",
     "output_type": "stream",
     "text": [
      "2010-05-31 00:00:00\n"
     ]
    }
   ],
   "source": [
    "from datetime import datetime\n",
    "print(datetime.strptime(dato.text[:10],\"%Y-%m-%d\"))"
   ]
  },
  {
   "cell_type": "code",
   "execution_count": 113,
   "id": "eddfcf3e",
   "metadata": {},
   "outputs": [
    {
     "data": {
      "text/plain": [
       "'100'"
      ]
     },
     "execution_count": 113,
     "metadata": {},
     "output_type": "execute_result"
    }
   ],
   "source": [
    "moedenr.text"
   ]
  },
  {
   "cell_type": "code",
   "execution_count": 114,
   "id": "ab2e5806",
   "metadata": {},
   "outputs": [
    {
     "data": {
      "text/plain": [
       "'20091'"
      ]
     },
     "execution_count": 114,
     "metadata": {},
     "output_type": "execute_result"
    }
   ],
   "source": [
    "samling.text"
   ]
  },
  {
   "cell_type": "code",
   "execution_count": 116,
   "id": "ee9fbc1d",
   "metadata": {},
   "outputs": [
    {
     "data": {
      "text/plain": [
       "'Folketinget'"
      ]
     },
     "execution_count": 116,
     "metadata": {},
     "output_type": "execute_result"
    }
   ],
   "source": [
    "parliamentarygroup.text"
   ]
  },
  {
   "cell_type": "code",
   "execution_count": 117,
   "id": "1355b535",
   "metadata": {},
   "outputs": [
    {
     "data": {
      "text/plain": [
       "'Folketingssalen'"
      ]
     },
     "execution_count": 117,
     "metadata": {},
     "output_type": "execute_result"
    }
   ],
   "source": [
    "lokation.text"
   ]
  },
  {
   "cell_type": "code",
   "execution_count": null,
   "id": "cd53df9c",
   "metadata": {},
   "outputs": [],
   "source": []
  }
 ],
 "metadata": {
  "kernelspec": {
   "display_name": "Python 3 (ipykernel)",
   "language": "python",
   "name": "python3"
  },
  "language_info": {
   "codemirror_mode": {
    "name": "ipython",
    "version": 3
   },
   "file_extension": ".py",
   "mimetype": "text/x-python",
   "name": "python",
   "nbconvert_exporter": "python",
   "pygments_lexer": "ipython3",
   "version": "3.9.12"
  }
 },
 "nbformat": 4,
 "nbformat_minor": 5
}
