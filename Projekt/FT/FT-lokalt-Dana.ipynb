{
 "cells": [
  {
   "cell_type": "code",
   "execution_count": 22,
   "id": "0f9ba0ec",
   "metadata": {},
   "outputs": [],
   "source": [
    "from bs4 import BeautifulSoup as bs\n",
    "import re \n",
    "import lxml\n",
    "import xml.etree.ElementTree as ET\n",
    "from lxml import objectify\n",
    "from datetime import datetime"
   ]
  },
  {
   "cell_type": "markdown",
   "id": "0b49bbef",
   "metadata": {},
   "source": [
    "### Prepare to load data"
   ]
  },
  {
   "cell_type": "code",
   "execution_count": 3,
   "id": "2d17cd1e",
   "metadata": {},
   "outputs": [
    {
     "data": {
      "text/plain": [
       "'\\nwith open(file) as f:\\n    parsed = objectify.parse(f)\\n\\nroot = parsed.getroot()\\n'"
      ]
     },
     "execution_count": 3,
     "metadata": {},
     "output_type": "execute_result"
    }
   ],
   "source": [
    "'''\n",
    "with open(file) as f:\n",
    "    parsed = objectify.parse(f)\n",
    "\n",
    "root = parsed.getroot()\n",
    "'''"
   ]
  },
  {
   "cell_type": "markdown",
   "id": "67901f3c",
   "metadata": {},
   "source": [
    "##### Read xml file "
   ]
  },
  {
   "cell_type": "code",
   "execution_count": 4,
   "id": "29286a2d",
   "metadata": {},
   "outputs": [],
   "source": [
    "file = \"20091_M100_helemoedet.xml\"\n",
    "tree = ET.parse(file)\n",
    "root = tree.getroot()"
   ]
  },
  {
   "cell_type": "code",
   "execution_count": 5,
   "id": "d7858cb2",
   "metadata": {
    "scrolled": true
   },
   "outputs": [],
   "source": [
    "#root[0].tag\n",
    "#root[1].tag"
   ]
  },
  {
   "cell_type": "markdown",
   "id": "ba8386ca",
   "metadata": {},
   "source": [
    "##### Subelements / children"
   ]
  },
  {
   "cell_type": "code",
   "execution_count": 6,
   "id": "406ca250",
   "metadata": {
    "scrolled": true
   },
   "outputs": [],
   "source": [
    "# children of the root only \n",
    "root_children = []\n",
    "\n",
    "for child in root:\n",
    "    root_children.append((child.tag, child.attrib))"
   ]
  },
  {
   "cell_type": "code",
   "execution_count": 7,
   "id": "d49e49fb",
   "metadata": {
    "scrolled": true
   },
   "outputs": [],
   "source": [
    "# All children in file\n",
    "all_children = [elem.tag for elem in root.iter()]"
   ]
  },
  {
   "cell_type": "code",
   "execution_count": 8,
   "id": "6ebe21b5",
   "metadata": {},
   "outputs": [
    {
     "name": "stdout",
     "output_type": "stream",
     "text": [
      "{'MetaFTAgendaItem', 'EdixiDocLocation', 'Taler', 'ParliamentaryGroup', 'MetaSpeechSegment', 'LastModified', 'OratorLastName', 'Rubrica', 'ShortTitle', 'TaleType', 'ItemNo', 'DagsordenPunkt', 'TekstGruppe', 'GroupNameShort', 'TitelGruppe', 'EndDateTime', 'TaleSegment', 'OratorFirstName', 'TalerTitel', 'Exitus', 'UnderTitel', 'Titel', 'FTCaseStage', 'AudioFileFolder', 'ParliamentarySession', 'MetaMeeting', 'Location', 'Linea', 'DateOfSitting', 'FTCaseType', 'EdixiStatus', 'FTCaseNumber', 'StartDateTime', 'PunktTekst', 'Dokument', 'Char', 'MeetingNumber', 'FTCase', 'OratorRole', 'Aktivitet', 'MetaSpeakerMP', 'DagsordenPlan', 'Tale', 'PreTekst'}\n"
     ]
    }
   ],
   "source": [
    "unique_children = set(all_children)\n",
    "print(unique_children)"
   ]
  },
  {
   "cell_type": "code",
   "execution_count": 9,
   "id": "f8d34fcb",
   "metadata": {},
   "outputs": [],
   "source": [
    "# entire xml file as string\n",
    "xml = ET.tostring(root, encoding='utf8').decode('utf8')"
   ]
  },
  {
   "cell_type": "markdown",
   "id": "4aa490da",
   "metadata": {},
   "source": [
    "##### Soup"
   ]
  },
  {
   "cell_type": "code",
   "execution_count": 10,
   "id": "794474f8",
   "metadata": {},
   "outputs": [],
   "source": [
    "soup = bs(xml, 'lxml')"
   ]
  },
  {
   "cell_type": "code",
   "execution_count": 11,
   "id": "f289dda3",
   "metadata": {},
   "outputs": [
    {
     "data": {
      "text/plain": [
       "8"
      ]
     },
     "execution_count": 11,
     "metadata": {},
     "output_type": "execute_result"
    }
   ],
   "source": [
    "dagsordenpunkter = soup.find_all(\"dagsordenpunkt\") # punkterne med tags \n",
    "len(dagsordenpunkter)"
   ]
  },
  {
   "cell_type": "code",
   "execution_count": 38,
   "id": "31c2e27f",
   "metadata": {},
   "outputs": [],
   "source": [
    "# dagsordenpunkter[1]"
   ]
  },
  {
   "cell_type": "markdown",
   "id": "4d4a1434",
   "metadata": {},
   "source": [
    "### Remove datetime tags"
   ]
  },
  {
   "cell_type": "code",
   "execution_count": 13,
   "id": "b75f923c",
   "metadata": {},
   "outputs": [
    {
     "data": {
      "text/plain": [
       "\"\\nfor tag in soup.find_all('startdatetime'):\\n    tag.replace('')\\n    \\nfor tag in soup.find_all('enddatetime'):\\n    tag.replace('')\\n\\nfor tag in soup.find_all('lastmodified'):\\n    tag.replace('')\\n    \\nfor tag in soup.find_all('edixistatus'):\\n    tag.replace('')\\n\""
      ]
     },
     "execution_count": 13,
     "metadata": {},
     "output_type": "execute_result"
    }
   ],
   "source": [
    "'''\n",
    "for tag in soup.find_all('startdatetime'):\n",
    "    tag.replace('')\n",
    "    \n",
    "for tag in soup.find_all('enddatetime'):\n",
    "    tag.replace('')\n",
    "\n",
    "for tag in soup.find_all('lastmodified'):\n",
    "    tag.replace('')\n",
    "    \n",
    "for tag in soup.find_all('edixistatus'):\n",
    "    tag.replace('')\n",
    "'''"
   ]
  },
  {
   "cell_type": "markdown",
   "id": "38e3ee2c",
   "metadata": {},
   "source": [
    "### Dagsordenpunkter uden tags"
   ]
  },
  {
   "cell_type": "code",
   "execution_count": 14,
   "id": "8e927587",
   "metadata": {},
   "outputs": [
    {
     "data": {
      "text/plain": [
       "\"\\nsoup.find_all('startdatetime').decompose()\\nsoup.find_all('enddatetime').decompose()\\nsoup.find_all('lastmodified').decompose()\\n\""
      ]
     },
     "execution_count": 14,
     "metadata": {},
     "output_type": "execute_result"
    }
   ],
   "source": [
    "'''\n",
    "soup.find_all('startdatetime').decompose()\n",
    "soup.find_all('enddatetime').decompose()\n",
    "soup.find_all('lastmodified').decompose()\n",
    "'''"
   ]
  },
  {
   "cell_type": "code",
   "execution_count": 15,
   "id": "a2e3dc98",
   "metadata": {},
   "outputs": [],
   "source": [
    "soup.startdatetime.clear()\n",
    "soup.enddatetime.clear()\n",
    "soup.lastmodified.clear()"
   ]
  },
  {
   "cell_type": "code",
   "execution_count": 16,
   "id": "5a84e1a1",
   "metadata": {},
   "outputs": [],
   "source": [
    "punkter = []  # punkterne uden tags \n",
    "\n",
    "for dagsordenpunkt in range(0, len(dagsordenpunkter)):\n",
    "    punkter.append(dagsordenpunkter[dagsordenpunkt].get_text(separator = ' '))"
   ]
  },
  {
   "cell_type": "code",
   "execution_count": 39,
   "id": "dfeb0e03",
   "metadata": {
    "scrolled": true
   },
   "outputs": [],
   "source": [
    "# punkter[1]"
   ]
  },
  {
   "cell_type": "markdown",
   "id": "392f90d6",
   "metadata": {},
   "source": [
    "### Meta data"
   ]
  },
  {
   "cell_type": "code",
   "execution_count": 35,
   "id": "d758dada",
   "metadata": {},
   "outputs": [],
   "source": [
    "dato = bs(xml).find(\"dateofsitting\").text[:10]\n",
    "moedenr = bs(xml).find(\"meetingnumber\").text\n",
    "samling = bs(xml).find(\"parliamentarysession\").text\n",
    "hvem = bs(xml).find(\"parliamentarygroup\").text\n",
    "lokation = bs(xml).find(\"location\").text"
   ]
  },
  {
   "cell_type": "code",
   "execution_count": 37,
   "id": "d4fa5618",
   "metadata": {},
   "outputs": [
    {
     "data": {
      "text/plain": [
       "'Folketingssalen'"
      ]
     },
     "execution_count": 37,
     "metadata": {},
     "output_type": "execute_result"
    }
   ],
   "source": [
    "lokation"
   ]
  },
  {
   "cell_type": "markdown",
   "id": "6335a3f0",
   "metadata": {},
   "source": [
    "# Loop through multiple files"
   ]
  },
  {
   "cell_type": "code",
   "execution_count": 41,
   "id": "963f0dc6",
   "metadata": {},
   "outputs": [],
   "source": [
    "# empty lists (columns)\n",
    "date = []\n",
    "content = []\n",
    "meetingnumber = []\n",
    "session = []\n",
    "group = []\n",
    "location = []"
   ]
  },
  {
   "cell_type": "code",
   "execution_count": 66,
   "id": "1a838a6b",
   "metadata": {},
   "outputs": [],
   "source": [
    "def extract_metadata(file): \n",
    "    tree = ET.parse(file)\n",
    "    root = tree.getroot()\n",
    "    xml = ET.tostring(root, encoding='utf8').decode('utf8')\n",
    "\n",
    "    d = bs(xml, 'lxml').find(\"dateofsitting\").text[:10]\n",
    "    m = bs(xml, 'lxml').find(\"meetingnumber\").text\n",
    "    s = bs(xml, 'lxml').find(\"parliamentarysession\").text\n",
    "    g = bs(xml, 'lxml').find(\"parliamentarygroup\").text\n",
    "    l = bs(xml, 'lxml').find(\"location\").text\n",
    "    \n",
    "    date.append(d)\n",
    "    meetingnumber.append(m)\n",
    "    session.append(s)\n",
    "    group.append(g)\n",
    "    location.append(l)"
   ]
  },
  {
   "cell_type": "code",
   "execution_count": 67,
   "id": "3d32ce52",
   "metadata": {},
   "outputs": [],
   "source": [
    "extract_metadata('20091_M100_helemoedet.xml')"
   ]
  },
  {
   "cell_type": "code",
   "execution_count": 68,
   "id": "c92b450b",
   "metadata": {},
   "outputs": [
    {
     "data": {
      "text/plain": [
       "['2010-05-31']"
      ]
     },
     "execution_count": 68,
     "metadata": {},
     "output_type": "execute_result"
    }
   ],
   "source": [
    "date "
   ]
  },
  {
   "cell_type": "code",
   "execution_count": 58,
   "id": "8a7fe39e",
   "metadata": {},
   "outputs": [],
   "source": [
    "file = '20091_M100_helemoedet.xml'\n",
    "tree = ET.parse(file)\n",
    "root = tree.getroot()\n",
    "xml = ET.tostring(root, encoding='utf8').decode('utf8')"
   ]
  },
  {
   "cell_type": "code",
   "execution_count": 59,
   "id": "f8921235",
   "metadata": {},
   "outputs": [],
   "source": [
    "d = bs(xml, 'lxml').find(\"dateofsitting\").text[:10]"
   ]
  },
  {
   "cell_type": "code",
   "execution_count": null,
   "id": "7c0223ba",
   "metadata": {},
   "outputs": [],
   "source": []
  },
  {
   "cell_type": "code",
   "execution_count": null,
   "id": "9592906c",
   "metadata": {},
   "outputs": [],
   "source": []
  }
 ],
 "metadata": {
  "kernelspec": {
   "display_name": "Python 3",
   "language": "python",
   "name": "python3"
  },
  "language_info": {
   "codemirror_mode": {
    "name": "ipython",
    "version": 3
   },
   "file_extension": ".py",
   "mimetype": "text/x-python",
   "name": "python",
   "nbconvert_exporter": "python",
   "pygments_lexer": "ipython3",
   "version": "3.8.8"
  }
 },
 "nbformat": 4,
 "nbformat_minor": 5
}
