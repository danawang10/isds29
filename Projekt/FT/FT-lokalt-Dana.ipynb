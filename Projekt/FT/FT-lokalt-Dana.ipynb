{
 "cells": [
  {
   "cell_type": "code",
   "execution_count": 92,
   "id": "0f9ba0ec",
   "metadata": {},
   "outputs": [],
   "source": [
    "from bs4 import BeautifulSoup as bs\n",
    "import re \n",
    "import os\n",
    "import lxml\n",
    "import xml.etree.ElementTree as ET\n",
    "from lxml import objectify\n",
    "from datetime import datetime\n",
    "import numpy as np \n",
    "import pandas as pd "
   ]
  },
  {
   "cell_type": "markdown",
   "id": "0b49bbef",
   "metadata": {},
   "source": [
    "### Prepare to load data"
   ]
  },
  {
   "cell_type": "code",
   "execution_count": 3,
   "id": "2d17cd1e",
   "metadata": {},
   "outputs": [
    {
     "data": {
      "text/plain": [
       "'\\nwith open(file) as f:\\n    parsed = objectify.parse(f)\\n\\nroot = parsed.getroot()\\n'"
      ]
     },
     "execution_count": 3,
     "metadata": {},
     "output_type": "execute_result"
    }
   ],
   "source": [
    "'''\n",
    "with open(file) as f:\n",
    "    parsed = objectify.parse(f)\n",
    "\n",
    "root = parsed.getroot()\n",
    "'''"
   ]
  },
  {
   "cell_type": "markdown",
   "id": "67901f3c",
   "metadata": {},
   "source": [
    "##### Read xml file "
   ]
  },
  {
   "cell_type": "code",
   "execution_count": 4,
   "id": "29286a2d",
   "metadata": {},
   "outputs": [],
   "source": [
    "file = \"20091_M100_helemoedet.xml\"\n",
    "tree = ET.parse(file)\n",
    "root = tree.getroot()"
   ]
  },
  {
   "cell_type": "code",
   "execution_count": 5,
   "id": "d7858cb2",
   "metadata": {
    "scrolled": true
   },
   "outputs": [],
   "source": [
    "#root[0].tag\n",
    "#root[1].tag"
   ]
  },
  {
   "cell_type": "markdown",
   "id": "ba8386ca",
   "metadata": {},
   "source": [
    "##### Subelements / children"
   ]
  },
  {
   "cell_type": "code",
   "execution_count": 6,
   "id": "406ca250",
   "metadata": {
    "scrolled": true
   },
   "outputs": [],
   "source": [
    "# children of the root only \n",
    "root_children = []\n",
    "\n",
    "for child in root:\n",
    "    root_children.append((child.tag, child.attrib))"
   ]
  },
  {
   "cell_type": "code",
   "execution_count": 7,
   "id": "d49e49fb",
   "metadata": {
    "scrolled": true
   },
   "outputs": [],
   "source": [
    "# All children in file\n",
    "all_children = [elem.tag for elem in root.iter()]"
   ]
  },
  {
   "cell_type": "code",
   "execution_count": 8,
   "id": "6ebe21b5",
   "metadata": {},
   "outputs": [
    {
     "name": "stdout",
     "output_type": "stream",
     "text": [
      "{'MetaFTAgendaItem', 'EdixiDocLocation', 'Taler', 'ParliamentaryGroup', 'MetaSpeechSegment', 'LastModified', 'OratorLastName', 'Rubrica', 'ShortTitle', 'TaleType', 'ItemNo', 'DagsordenPunkt', 'TekstGruppe', 'GroupNameShort', 'TitelGruppe', 'EndDateTime', 'TaleSegment', 'OratorFirstName', 'TalerTitel', 'Exitus', 'UnderTitel', 'Titel', 'FTCaseStage', 'AudioFileFolder', 'ParliamentarySession', 'MetaMeeting', 'Location', 'Linea', 'DateOfSitting', 'FTCaseType', 'EdixiStatus', 'FTCaseNumber', 'StartDateTime', 'PunktTekst', 'Dokument', 'Char', 'MeetingNumber', 'FTCase', 'OratorRole', 'Aktivitet', 'MetaSpeakerMP', 'DagsordenPlan', 'Tale', 'PreTekst'}\n"
     ]
    }
   ],
   "source": [
    "unique_children = set(all_children)\n",
    "print(unique_children)"
   ]
  },
  {
   "cell_type": "code",
   "execution_count": 9,
   "id": "f8d34fcb",
   "metadata": {},
   "outputs": [],
   "source": [
    "# entire xml file as string\n",
    "xml = ET.tostring(root, encoding='utf8').decode('utf8')"
   ]
  },
  {
   "cell_type": "markdown",
   "id": "4aa490da",
   "metadata": {},
   "source": [
    "##### Soup"
   ]
  },
  {
   "cell_type": "code",
   "execution_count": 10,
   "id": "794474f8",
   "metadata": {},
   "outputs": [],
   "source": [
    "soup = bs(xml, 'lxml')"
   ]
  },
  {
   "cell_type": "code",
   "execution_count": 11,
   "id": "f289dda3",
   "metadata": {},
   "outputs": [
    {
     "data": {
      "text/plain": [
       "8"
      ]
     },
     "execution_count": 11,
     "metadata": {},
     "output_type": "execute_result"
    }
   ],
   "source": [
    "dagsordenpunkter = soup.find_all(\"dagsordenpunkt\") # punkterne med tags \n",
    "len(dagsordenpunkter)"
   ]
  },
  {
   "cell_type": "code",
   "execution_count": 38,
   "id": "31c2e27f",
   "metadata": {},
   "outputs": [],
   "source": [
    "# dagsordenpunkter[1]"
   ]
  },
  {
   "cell_type": "markdown",
   "id": "4d4a1434",
   "metadata": {},
   "source": [
    "### Remove datetime tags"
   ]
  },
  {
   "cell_type": "code",
   "execution_count": 13,
   "id": "b75f923c",
   "metadata": {},
   "outputs": [
    {
     "data": {
      "text/plain": [
       "\"\\nfor tag in soup.find_all('startdatetime'):\\n    tag.replace('')\\n    \\nfor tag in soup.find_all('enddatetime'):\\n    tag.replace('')\\n\\nfor tag in soup.find_all('lastmodified'):\\n    tag.replace('')\\n    \\nfor tag in soup.find_all('edixistatus'):\\n    tag.replace('')\\n\""
      ]
     },
     "execution_count": 13,
     "metadata": {},
     "output_type": "execute_result"
    }
   ],
   "source": [
    "'''\n",
    "for tag in soup.find_all('startdatetime'):\n",
    "    tag.replace('')\n",
    "    \n",
    "for tag in soup.find_all('enddatetime'):\n",
    "    tag.replace('')\n",
    "\n",
    "for tag in soup.find_all('lastmodified'):\n",
    "    tag.replace('')\n",
    "    \n",
    "for tag in soup.find_all('edixistatus'):\n",
    "    tag.replace('')\n",
    "'''"
   ]
  },
  {
   "cell_type": "code",
   "execution_count": 14,
   "id": "8e927587",
   "metadata": {},
   "outputs": [
    {
     "data": {
      "text/plain": [
       "\"\\nsoup.find_all('startdatetime').decompose()\\nsoup.find_all('enddatetime').decompose()\\nsoup.find_all('lastmodified').decompose()\\n\""
      ]
     },
     "execution_count": 14,
     "metadata": {},
     "output_type": "execute_result"
    }
   ],
   "source": [
    "'''\n",
    "soup.find_all('startdatetime').decompose()\n",
    "soup.find_all('enddatetime').decompose()\n",
    "soup.find_all('lastmodified').decompose()\n",
    "'''"
   ]
  },
  {
   "cell_type": "code",
   "execution_count": 15,
   "id": "a2e3dc98",
   "metadata": {},
   "outputs": [],
   "source": [
    "soup.startdatetime.clear()\n",
    "soup.enddatetime.clear()\n",
    "soup.lastmodified.clear()"
   ]
  },
  {
   "cell_type": "markdown",
   "id": "38e3ee2c",
   "metadata": {},
   "source": [
    "### Dagsordenpunkter uden tags"
   ]
  },
  {
   "cell_type": "code",
   "execution_count": 16,
   "id": "5a84e1a1",
   "metadata": {},
   "outputs": [],
   "source": [
    "punkter = []  # punkterne uden tags \n",
    "\n",
    "for dagsordenpunkt in range(0, len(dagsordenpunkter)):\n",
    "    punkter.append(dagsordenpunkter[dagsordenpunkt].get_text(separator = ' '))"
   ]
  },
  {
   "cell_type": "code",
   "execution_count": 39,
   "id": "dfeb0e03",
   "metadata": {
    "scrolled": true
   },
   "outputs": [],
   "source": [
    "# punkter[1]"
   ]
  },
  {
   "cell_type": "markdown",
   "id": "392f90d6",
   "metadata": {},
   "source": [
    "### Meta data"
   ]
  },
  {
   "cell_type": "code",
   "execution_count": 35,
   "id": "d758dada",
   "metadata": {},
   "outputs": [],
   "source": [
    "dato = bs(xml).find(\"dateofsitting\").text[:10]\n",
    "moedenr = bs(xml).find(\"meetingnumber\").text\n",
    "samling = bs(xml).find(\"parliamentarysession\").text\n",
    "hvem = bs(xml).find(\"parliamentarygroup\").text\n",
    "lokation = bs(xml).find(\"location\").text"
   ]
  },
  {
   "cell_type": "code",
   "execution_count": 37,
   "id": "d4fa5618",
   "metadata": {},
   "outputs": [
    {
     "data": {
      "text/plain": [
       "'Folketingssalen'"
      ]
     },
     "execution_count": 37,
     "metadata": {},
     "output_type": "execute_result"
    }
   ],
   "source": [
    "lokation"
   ]
  },
  {
   "cell_type": "markdown",
   "id": "34de29a0",
   "metadata": {},
   "source": [
    "### List of filepaths"
   ]
  },
  {
   "cell_type": "code",
   "execution_count": 72,
   "id": "fa31e6ae",
   "metadata": {},
   "outputs": [],
   "source": [
    "def getListOfFiles(dirName):\n",
    "    listOfFile = os.listdir(dirName)\n",
    "    allFiles = list()\n",
    "    for entry in listOfFile:\n",
    "        fullPath = os.path.join(dirName, entry)\n",
    "        if os.path.isdir(fullPath):\n",
    "            allFiles = allFiles + getListOfFiles(fullPath)\n",
    "        else:\n",
    "            allFiles.append(fullPath)\n",
    "                \n",
    "    return allFiles \n",
    "\n",
    "#getListOfFiles('all')"
   ]
  },
  {
   "cell_type": "code",
   "execution_count": 78,
   "id": "dc0ebd36",
   "metadata": {},
   "outputs": [],
   "source": [
    "path_list = getListOfFiles('sample')"
   ]
  },
  {
   "cell_type": "code",
   "execution_count": 83,
   "id": "03d492ac",
   "metadata": {},
   "outputs": [
    {
     "data": {
      "text/plain": [
       "['sample/20171_M11_helemoedet.xml',\n",
       " 'sample/20211_M60_helemoedet.xml',\n",
       " 'sample/20171_M46_helemoedet.xml']"
      ]
     },
     "execution_count": 83,
     "metadata": {},
     "output_type": "execute_result"
    }
   ],
   "source": [
    "path_list"
   ]
  },
  {
   "cell_type": "markdown",
   "id": "de31e2c8",
   "metadata": {},
   "source": [
    "# Extract metadata function"
   ]
  },
  {
   "cell_type": "code",
   "execution_count": 95,
   "id": "42d122ae",
   "metadata": {},
   "outputs": [],
   "source": [
    "def extract_metadata(file): \n",
    "    tree = ET.parse(file)\n",
    "    root = tree.getroot()\n",
    "    xml = ET.tostring(root, encoding='utf8').decode('utf8')\n",
    "    \n",
    "    soup = bs(xml, 'lxml')\n",
    "    \n",
    "    d = soup.find(\"dateofsitting\").text[:10]\n",
    "    m = soup.find(\"meetingnumber\").text\n",
    "    s = soup.find(\"parliamentarysession\").text\n",
    "    g = soup.find(\"parliamentarygroup\").text\n",
    "    l = soup.find(\"location\").text\n",
    "    \n",
    "    date.append(d)\n",
    "    meetingnumber.append(m)\n",
    "    session.append(s)\n",
    "    group.append(g)\n",
    "    location.append(l)"
   ]
  },
  {
   "cell_type": "code",
   "execution_count": 96,
   "id": "8d3cc452",
   "metadata": {},
   "outputs": [],
   "source": [
    "# empty lists (columns)\n",
    "date = []\n",
    "content = []\n",
    "meetingnumber = []\n",
    "session = []\n",
    "group = []\n",
    "location = []"
   ]
  },
  {
   "cell_type": "markdown",
   "id": "0123faaf",
   "metadata": {},
   "source": [
    "# Content function "
   ]
  },
  {
   "cell_type": "code",
   "execution_count": null,
   "id": "0dd0b85e",
   "metadata": {},
   "outputs": [],
   "source": []
  },
  {
   "cell_type": "code",
   "execution_count": null,
   "id": "ca15b6df",
   "metadata": {},
   "outputs": [],
   "source": [
    "dagsordenpunkter = soup.find_all(\"dagsordenpunkt\") # punkterne med tags \n",
    "len(dagsordenpunkter)"
   ]
  },
  {
   "cell_type": "markdown",
   "id": "db6179dc",
   "metadata": {},
   "source": [
    "# Apply metadata function to files"
   ]
  },
  {
   "cell_type": "code",
   "execution_count": 97,
   "id": "9b3ef662",
   "metadata": {},
   "outputs": [],
   "source": [
    "for path in path_list: \n",
    "    extract_metadata(path)"
   ]
  },
  {
   "cell_type": "code",
   "execution_count": 99,
   "id": "2d72a983",
   "metadata": {},
   "outputs": [
    {
     "data": {
      "text/plain": [
       "['20171', '20211', '20171']"
      ]
     },
     "execution_count": 99,
     "metadata": {},
     "output_type": "execute_result"
    }
   ],
   "source": [
    "session"
   ]
  },
  {
   "cell_type": "markdown",
   "id": "98129fc7",
   "metadata": {},
   "source": [
    "# Make DataFrame"
   ]
  },
  {
   "cell_type": "code",
   "execution_count": 94,
   "id": "44d90d05",
   "metadata": {},
   "outputs": [
    {
     "data": {
      "text/html": [
       "<div>\n",
       "<style scoped>\n",
       "    .dataframe tbody tr th:only-of-type {\n",
       "        vertical-align: middle;\n",
       "    }\n",
       "\n",
       "    .dataframe tbody tr th {\n",
       "        vertical-align: top;\n",
       "    }\n",
       "\n",
       "    .dataframe thead th {\n",
       "        text-align: right;\n",
       "    }\n",
       "</style>\n",
       "<table border=\"1\" class=\"dataframe\">\n",
       "  <thead>\n",
       "    <tr style=\"text-align: right;\">\n",
       "      <th></th>\n",
       "      <th>date</th>\n",
       "      <th>content</th>\n",
       "      <th>meetingnumber</th>\n",
       "      <th>session</th>\n",
       "      <th>group</th>\n",
       "      <th>location</th>\n",
       "    </tr>\n",
       "  </thead>\n",
       "  <tbody>\n",
       "    <tr>\n",
       "      <th>0</th>\n",
       "      <td>2017-10-27</td>\n",
       "      <td>None</td>\n",
       "      <td>11</td>\n",
       "      <td>20171</td>\n",
       "      <td>Folketinget</td>\n",
       "      <td>Folketingssalen</td>\n",
       "    </tr>\n",
       "    <tr>\n",
       "      <th>1</th>\n",
       "      <td>2022-02-10</td>\n",
       "      <td>None</td>\n",
       "      <td>60</td>\n",
       "      <td>20211</td>\n",
       "      <td>Folketinget</td>\n",
       "      <td>Folketingssalen</td>\n",
       "    </tr>\n",
       "    <tr>\n",
       "      <th>2</th>\n",
       "      <td>2018-01-18</td>\n",
       "      <td>None</td>\n",
       "      <td>46</td>\n",
       "      <td>20171</td>\n",
       "      <td>Folketinget</td>\n",
       "      <td>Folketingssalen</td>\n",
       "    </tr>\n",
       "  </tbody>\n",
       "</table>\n",
       "</div>"
      ],
      "text/plain": [
       "         date content meetingnumber session        group         location\n",
       "0  2017-10-27    None            11   20171  Folketinget  Folketingssalen\n",
       "1  2022-02-10    None            60   20211  Folketinget  Folketingssalen\n",
       "2  2018-01-18    None            46   20171  Folketinget  Folketingssalen"
      ]
     },
     "execution_count": 94,
     "metadata": {},
     "output_type": "execute_result"
    }
   ],
   "source": [
    "df = pd.DataFrame([date, content, meetingnumber, session, group, location]).transpose()\n",
    "df.columns = ['date', 'content', 'meetingnumber', 'session', 'group', 'location']\n",
    "df"
   ]
  },
  {
   "cell_type": "code",
   "execution_count": null,
   "id": "6f2c02de",
   "metadata": {},
   "outputs": [],
   "source": []
  },
  {
   "cell_type": "code",
   "execution_count": null,
   "id": "fcb77715",
   "metadata": {},
   "outputs": [],
   "source": []
  }
 ],
 "metadata": {
  "kernelspec": {
   "display_name": "Python 3",
   "language": "python",
   "name": "python3"
  },
  "language_info": {
   "codemirror_mode": {
    "name": "ipython",
    "version": 3
   },
   "file_extension": ".py",
   "mimetype": "text/x-python",
   "name": "python",
   "nbconvert_exporter": "python",
   "pygments_lexer": "ipython3",
   "version": "3.8.8"
  }
 },
 "nbformat": 4,
 "nbformat_minor": 5
}
