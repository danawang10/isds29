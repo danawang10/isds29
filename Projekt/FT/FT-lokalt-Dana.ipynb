{
 "cells": [
  {
   "cell_type": "code",
   "execution_count": 142,
   "id": "9fead52c",
   "metadata": {},
   "outputs": [],
   "source": [
    "from bs4 import BeautifulSoup as bs\n",
    "import re \n",
    "import lxml\n",
    "import xml.etree.ElementTree as ET"
   ]
  },
  {
   "cell_type": "markdown",
   "id": "4ea03863",
   "metadata": {},
   "source": [
    "### Method 1 (skrottet)"
   ]
  },
  {
   "cell_type": "code",
   "execution_count": 225,
   "id": "fb64e925",
   "metadata": {},
   "outputs": [],
   "source": [
    "from lxml import objectify\n",
    "\n",
    "file = \"20091_M1_helemoedet.xml\"\n",
    "\n",
    "with open(file) as f:\n",
    "    parsed = objectify.parse(f)\n",
    "\n",
    "root = parsed.getroot()"
   ]
  },
  {
   "cell_type": "code",
   "execution_count": 87,
   "id": "135d17cb",
   "metadata": {
    "scrolled": true
   },
   "outputs": [
    {
     "data": {
      "text/plain": [
       "{'edixistatus': ''}"
      ]
     },
     "execution_count": 87,
     "metadata": {},
     "output_type": "execute_result"
    }
   ],
   "source": [
    "root.attrib"
   ]
  },
  {
   "cell_type": "markdown",
   "id": "08783bf8",
   "metadata": {},
   "source": [
    "### Read xml file "
   ]
  },
  {
   "cell_type": "code",
   "execution_count": 201,
   "id": "b17f0bbb",
   "metadata": {},
   "outputs": [],
   "source": [
    "tree = ET.parse('20091_M100_helemoedet.xml')\n",
    "root = tree.getroot()"
   ]
  },
  {
   "cell_type": "code",
   "execution_count": 169,
   "id": "11812027",
   "metadata": {
    "scrolled": true
   },
   "outputs": [
    {
     "data": {
      "text/plain": [
       "'TitelGruppe'"
      ]
     },
     "execution_count": 169,
     "metadata": {},
     "output_type": "execute_result"
    }
   ],
   "source": [
    "root[0].tag\n",
    "root[1].tag"
   ]
  },
  {
   "cell_type": "markdown",
   "id": "5bcf1a59",
   "metadata": {},
   "source": [
    "##### Subelements / children"
   ]
  },
  {
   "cell_type": "code",
   "execution_count": 161,
   "id": "1184746b",
   "metadata": {
    "scrolled": true
   },
   "outputs": [],
   "source": [
    "# children of the root only \n",
    "root_children = []\n",
    "\n",
    "for child in root:\n",
    "    root_children.append((child.tag, child.attrib))"
   ]
  },
  {
   "cell_type": "code",
   "execution_count": 160,
   "id": "5e637762",
   "metadata": {
    "scrolled": true
   },
   "outputs": [],
   "source": [
    "# All children in file\n",
    "# d = [elem.tag for elem in root.iter()]"
   ]
  },
  {
   "cell_type": "code",
   "execution_count": 164,
   "id": "51b2c84c",
   "metadata": {},
   "outputs": [],
   "source": [
    "# entire xml file as string\n",
    "xml = ET.tostring(root, encoding='utf8').decode('utf8')"
   ]
  },
  {
   "cell_type": "markdown",
   "id": "b07a1c8c",
   "metadata": {},
   "source": [
    "### Method 3: soup"
   ]
  },
  {
   "cell_type": "code",
   "execution_count": 133,
   "id": "80bb2581",
   "metadata": {},
   "outputs": [],
   "source": [
    "soup = bs(b, 'lxml')"
   ]
  },
  {
   "cell_type": "code",
   "execution_count": 247,
   "id": "bd6d0a3e",
   "metadata": {},
   "outputs": [],
   "source": [
    "dagsordenpunkter = soup.find_all(\"dagsordenpunkt\") # punkterne med tags \n",
    "punkter = []  # punkterne uden tags \n",
    "\n",
    "for dagsordenpunkt in range(0, len(dagsordenpunkter)):\n",
    "    punkter.append(result[dagsordenpunkt].get_text(separator = ' '))"
   ]
  },
  {
   "cell_type": "code",
   "execution_count": null,
   "id": "0fa827a7",
   "metadata": {},
   "outputs": [],
   "source": []
  }
 ],
 "metadata": {
  "kernelspec": {
   "display_name": "Python 3",
   "language": "python",
   "name": "python3"
  },
  "language_info": {
   "codemirror_mode": {
    "name": "ipython",
    "version": 3
   },
   "file_extension": ".py",
   "mimetype": "text/x-python",
   "name": "python",
   "nbconvert_exporter": "python",
   "pygments_lexer": "ipython3",
   "version": "3.8.8"
  }
 },
 "nbformat": 4,
 "nbformat_minor": 5
}
