{
 "cells": [
  {
   "cell_type": "markdown",
   "id": "2755d5bf",
   "metadata": {
    "tags": []
   },
   "source": [
    "# Scraping from FT"
   ]
  },
  {
   "cell_type": "markdown",
   "id": "ca31ba3d-cdbc-4dd0-a876-ad8fc14a9b71",
   "metadata": {},
   "source": [
    "#### Import of needed packages"
   ]
  },
  {
   "cell_type": "code",
   "execution_count": 1,
   "id": "cdacc08b",
   "metadata": {},
   "outputs": [],
   "source": [
    "from bs4 import BeautifulSoup as bs\n",
    "import re \n",
    "import os\n",
    "import lxml\n",
    "import xml.etree.ElementTree as ET\n",
    "from lxml import objectify\n",
    "from datetime import datetime\n",
    "import numpy as np \n",
    "import pandas as pd \n",
    "import requests\n",
    "import ftplib\n",
    "from io import BytesIO\n",
    "import tqdm"
   ]
  },
  {
   "cell_type": "markdown",
   "id": "de8ab18d",
   "metadata": {},
   "source": [
    "##### Creation of empty lists"
   ]
  },
  {
   "cell_type": "code",
   "execution_count": 2,
   "id": "a743493f",
   "metadata": {},
   "outputs": [],
   "source": [
    "# Empty lists for loading data\n",
    "dirs = [] \n",
    "sub_dir = []\n",
    "files = []\n",
    "file_name = [] \n",
    "paths = []\n",
    "raw_xml_list = []\n",
    "\n",
    "# Empty lists for DataFrame creation (columns)\n",
    "session = []\n",
    "meetingnumber = []\n",
    "date = []\n",
    "location = []\n",
    "group = []\n",
    "content = []\n",
    "path = []"
   ]
  },
  {
   "cell_type": "markdown",
   "id": "ef71dc66",
   "metadata": {},
   "source": [
    "#### Logon to ftp server and get a list of dictionaries containing transscripted meetings in Folketinget"
   ]
  },
  {
   "cell_type": "code",
   "execution_count": 3,
   "id": "6fd2856b",
   "metadata": {},
   "outputs": [],
   "source": [
    "ftp_url = \"oda.ft.dk\"\n",
    "ftp_dir = \"/ODAXML/Referat/samling/\""
   ]
  },
  {
   "cell_type": "code",
   "execution_count": 4,
   "id": "02ee869a",
   "metadata": {},
   "outputs": [],
   "source": [
    "ftp = ftplib.FTP(ftp_url)\n",
    "ftp.login(\"anonymous\", \"wpg345@alumni.ku.dk\")\n",
    "ftp.set_pasv(True)\n",
    "ftp.cwd(ftp_dir)\n",
    "ftp.dir(dirs.append)"
   ]
  },
  {
   "cell_type": "markdown",
   "id": "ae98330a-3724-4069-88c4-e2ce7fde17b4",
   "metadata": {},
   "source": [
    "#### Creates a list of sub-dir's"
   ]
  },
  {
   "cell_type": "code",
   "execution_count": 5,
   "id": "7c846be2",
   "metadata": {},
   "outputs": [],
   "source": [
    "for i in range (0, len(dirs), 1):    # bygger en liste med underbiblioteker\n",
    "    sub_dir.append(ftp_dir+dirs[i][-5:]+'/') \n",
    "    \n",
    "for i in range (0, len(sub_dir), 1): # bygger en liste med filnavne\n",
    "    ftp.cwd(sub_dir[i])\n",
    "    ftp.dir(files.append)\n",
    "\n",
    "for i in range(0, len(files)):       # extract filnavn\n",
    "    file_name.append(files[i][39:])   \n",
    "\n",
    "for i in range(0, len(file_name)):   # opbygning af den fulde sti og filnavn\n",
    "    paths.append(ftp_dir+file_name[i][0:5]+'/'+file_name[i])"
   ]
  },
  {
   "cell_type": "markdown",
   "id": "33938698",
   "metadata": {},
   "source": [
    "#### All transscripted meetings are transferred from ftp://oda.ft.dk and the content is written to raw_xml_list\n",
    "* we use tqdm for monitoring the progress"
   ]
  },
  {
   "cell_type": "markdown",
   "id": "fd6c18cd",
   "metadata": {},
   "source": [
    "# The following code reads all 1489 meeting resumes from ft.dk - don't run!"
   ]
  },
  {
   "cell_type": "code",
   "execution_count": 6,
   "id": "c822719c",
   "metadata": {},
   "outputs": [],
   "source": [
    "#for i in tqdm.tqdm(range(0, len(paths))):\n",
    "#    r = BytesIO()\n",
    "#    ftp.retrbinary(f\"RETR {paths[i]}\", r.write)\n",
    "#    raw_xml_list.append(r.getvalue())\n",
    "#    r.close()"
   ]
  },
  {
   "cell_type": "markdown",
   "id": "a1640e53",
   "metadata": {},
   "source": [
    "# The following code reads 10 meeting resumes from ft.dk"
   ]
  },
  {
   "cell_type": "code",
   "execution_count": 7,
   "id": "81cd619e",
   "metadata": {},
   "outputs": [
    {
     "name": "stderr",
     "output_type": "stream",
     "text": [
      "100%|██████████████████████████████████████████████████████████████████████████████████| 10/10 [00:02<00:00,  4.37it/s]\n"
     ]
    }
   ],
   "source": [
    "for i in tqdm.tqdm(range(0, 10)):\n",
    "    r = BytesIO()\n",
    "    ftp.retrbinary(f\"RETR {paths[i]}\", r.write)\n",
    "    raw_xml_list.append(r.getvalue())\n",
    "    r.close()"
   ]
  },
  {
   "cell_type": "markdown",
   "id": "6ed9d674",
   "metadata": {
    "tags": []
   },
   "source": [
    "# Define metadata function"
   ]
  },
  {
   "cell_type": "code",
   "execution_count": 8,
   "id": "69938dc6",
   "metadata": {},
   "outputs": [],
   "source": [
    "def extract_metadata(xml):\n",
    "    soup = bs(xml, 'lxml')\n",
    "    \n",
    "    d = soup.find(\"dateofsitting\").text[:10]\n",
    "    m = soup.find(\"meetingnumber\").text\n",
    "    s = soup.find(\"parliamentarysession\").text\n",
    "    g = soup.find(\"parliamentarygroup\").text\n",
    "    l = soup.find(\"location\").text\n",
    "    \n",
    "    # antal gange de samme metadata gentages for hvert dagordenpunkt\n",
    "    repeats = len(soup.find_all(\"dagsordenpunkt\")) \n",
    "    \n",
    "    for repeat in range(0, repeats):\n",
    "        date.append(d)\n",
    "        meetingnumber.append(m)\n",
    "        session.append(s)\n",
    "        group.append(g)\n",
    "        location.append(l)\n",
    "    \n",
    "    return None"
   ]
  },
  {
   "cell_type": "markdown",
   "id": "d444d942",
   "metadata": {
    "tags": []
   },
   "source": [
    "# Define content function "
   ]
  },
  {
   "cell_type": "code",
   "execution_count": 9,
   "id": "da18d3f3",
   "metadata": {},
   "outputs": [],
   "source": [
    "def extract_content(xml): \n",
    "    soup = bs(xml, 'lxml')\n",
    "    dagsordenpunkter = soup.find_all(\"dagsordenpunkt\") # liste med dagsordenpunkter\n",
    "    #print(f\"Antal dagsordenpunkter: {len(dagsordenpunkter)}\")\n",
    "    \n",
    "    for dp in dagsordenpunkter: # find raw xml-sætninger for hvert dagsordenpunkt\n",
    "        sentences_raw = dp.find_all(\"linea\") # liste med raw sætninger \n",
    "        #print(f\"Antal sentences_raw: {len(sentences_raw)}\")\n",
    "        \n",
    "        sentences_text = []\n",
    "        \n",
    "        for sr in sentences_raw: # for hver raw sætning, kør .text af sætningen\n",
    "            sentences_text.append(sr.get_text(separator = ' ')) # gem clean sætninger til liste\n",
    "        \n",
    "        content.append(' '.join(sentences_text).strip()) # join, strip og append clean sætninger til liste\n",
    "        #print(f\"Antal content: {len(content)}\")\n",
    "\n",
    "    return None"
   ]
  },
  {
   "cell_type": "markdown",
   "id": "879466f1",
   "metadata": {
    "tags": []
   },
   "source": [
    "# Define path function"
   ]
  },
  {
   "cell_type": "code",
   "execution_count": 10,
   "id": "9e88e24f",
   "metadata": {},
   "outputs": [],
   "source": [
    "# extract_path VIRKER\n",
    "repeats = []\n",
    "\n",
    "def extract_path(xml_list):\n",
    "    \n",
    "    for xml in xml_list: \n",
    "        soup = bs(xml, 'lxml')\n",
    "        repeats.append(len(soup.find_all(\"dagsordenpunkt\")))\n",
    "    \n",
    "    for i in range(0, len(xml_list)): \n",
    "        p = paths[i]\n",
    "        path.extend([p] * repeats[i]) \n",
    "        #extend acts as append but multiplied by n times\n",
    "    \n",
    "    return None"
   ]
  },
  {
   "cell_type": "markdown",
   "id": "4940a5d2",
   "metadata": {},
   "source": [
    "Bemærk vi er interesseret i len(xml_list) modsat de næste funktioner, hvor det ikke behøver spille nogen rolle. Derfor vælger vi ikke at integrere extract_path ind i extract_metadata. "
   ]
  },
  {
   "cell_type": "markdown",
   "id": "ae9c68d4",
   "metadata": {},
   "source": [
    "# Full run"
   ]
  },
  {
   "cell_type": "markdown",
   "id": "185b3061",
   "metadata": {},
   "source": [
    "#### Extraction of meeting metadata"
   ]
  },
  {
   "cell_type": "code",
   "execution_count": 11,
   "id": "597a2cf5",
   "metadata": {},
   "outputs": [
    {
     "name": "stderr",
     "output_type": "stream",
     "text": [
      "100%|██████████████████████████████████████████████████████████████████████████████████| 10/10 [00:07<00:00,  1.36it/s]\n"
     ]
    }
   ],
   "source": [
    "for xml in tqdm.tqdm(raw_xml_list): \n",
    "    extract_metadata(xml)"
   ]
  },
  {
   "cell_type": "markdown",
   "id": "3a648dbe",
   "metadata": {},
   "source": [
    "#### Extraction of meeting content"
   ]
  },
  {
   "cell_type": "code",
   "execution_count": 12,
   "id": "55dc2eef",
   "metadata": {},
   "outputs": [
    {
     "name": "stderr",
     "output_type": "stream",
     "text": [
      "100%|██████████████████████████████████████████████████████████████████████████████████| 10/10 [00:07<00:00,  1.30it/s]\n"
     ]
    }
   ],
   "source": [
    "for xml in tqdm.tqdm(raw_xml_list): \n",
    "    extract_content(xml)"
   ]
  },
  {
   "cell_type": "markdown",
   "id": "38baf059",
   "metadata": {},
   "source": [
    "#### Extraction of path to original meeting resume "
   ]
  },
  {
   "cell_type": "code",
   "execution_count": 13,
   "id": "518de4c4",
   "metadata": {
    "scrolled": true
   },
   "outputs": [
    {
     "name": "stderr",
     "output_type": "stream",
     "text": [
      "100%|██████████████████████████████████████████████████████████████████████████████████| 10/10 [00:07<00:00,  1.37it/s]\n"
     ]
    }
   ],
   "source": [
    "extract_path(tqdm.tqdm(raw_xml_list))"
   ]
  },
  {
   "cell_type": "markdown",
   "id": "f52ae909",
   "metadata": {},
   "source": [
    "# Make DataFrame containing needed data for analysis"
   ]
  },
  {
   "cell_type": "code",
   "execution_count": 14,
   "id": "1452c96c",
   "metadata": {
    "scrolled": true
   },
   "outputs": [],
   "source": [
    "ft = pd.DataFrame([session, meetingnumber, date, location, group, content, path]).transpose()\n",
    "ft.columns = ['session', 'meetingnumber', 'date', 'location', 'group', 'content', 'path']"
   ]
  },
  {
   "cell_type": "markdown",
   "id": "168cdc36",
   "metadata": {},
   "source": [
    "# Changeing date column for text to date format "
   ]
  },
  {
   "cell_type": "code",
   "execution_count": null,
   "id": "3f0c5e82",
   "metadata": {},
   "outputs": [],
   "source": [
    "ft['date'] = pd.to_datetime(ft['date'])"
   ]
  },
  {
   "cell_type": "markdown",
   "id": "4fe35a4d",
   "metadata": {},
   "source": [
    "# Only keeping data where date >= 2012"
   ]
  },
  {
   "cell_type": "code",
   "execution_count": null,
   "id": "636b6c44",
   "metadata": {},
   "outputs": [],
   "source": [
    "ft = ft[ft['date'].dt.year >= 2012]"
   ]
  },
  {
   "cell_type": "markdown",
   "id": "fff8d2df",
   "metadata": {},
   "source": [
    "# Save DataFrame to ft.csv in your `local` working directory"
   ]
  },
  {
   "cell_type": "code",
   "execution_count": 15,
   "id": "6d668a23",
   "metadata": {},
   "outputs": [],
   "source": [
    "# Don't run on GitHub\n",
    "ft.to_csv('ft_sample.csv', index = False)"
   ]
  },
  {
   "cell_type": "code",
   "execution_count": 16,
   "id": "32efdd20",
   "metadata": {},
   "outputs": [
    {
     "data": {
      "text/html": [
       "<div>\n",
       "<style scoped>\n",
       "    .dataframe tbody tr th:only-of-type {\n",
       "        vertical-align: middle;\n",
       "    }\n",
       "\n",
       "    .dataframe tbody tr th {\n",
       "        vertical-align: top;\n",
       "    }\n",
       "\n",
       "    .dataframe thead th {\n",
       "        text-align: right;\n",
       "    }\n",
       "</style>\n",
       "<table border=\"1\" class=\"dataframe\">\n",
       "  <thead>\n",
       "    <tr style=\"text-align: right;\">\n",
       "      <th></th>\n",
       "      <th>session</th>\n",
       "      <th>meetingnumber</th>\n",
       "      <th>date</th>\n",
       "      <th>location</th>\n",
       "      <th>group</th>\n",
       "      <th>content</th>\n",
       "      <th>path</th>\n",
       "    </tr>\n",
       "  </thead>\n",
       "  <tbody>\n",
       "    <tr>\n",
       "      <th>0</th>\n",
       "      <td>20091</td>\n",
       "      <td>100</td>\n",
       "      <td>2010-05-31</td>\n",
       "      <td>Folketingssalen</td>\n",
       "      <td>Folketinget</td>\n",
       "      <td>Meddelelser fra formanden Tredje næstformand  ...</td>\n",
       "      <td>/ODAXML/Referat/samling/20091/20091_M100_helem...</td>\n",
       "    </tr>\n",
       "    <tr>\n",
       "      <th>1</th>\n",
       "      <td>20091</td>\n",
       "      <td>100</td>\n",
       "      <td>2010-05-31</td>\n",
       "      <td>Folketingssalen</td>\n",
       "      <td>Folketinget</td>\n",
       "      <td>Det første punkt på dagsordenen er: 1) 1. beha...</td>\n",
       "      <td>/ODAXML/Referat/samling/20091/20091_M100_helem...</td>\n",
       "    </tr>\n",
       "    <tr>\n",
       "      <th>2</th>\n",
       "      <td>20091</td>\n",
       "      <td>100</td>\n",
       "      <td>2010-05-31</td>\n",
       "      <td>Folketingssalen</td>\n",
       "      <td>Folketinget</td>\n",
       "      <td>Det næste punkt på dagsordenen er: 2) 1. behan...</td>\n",
       "      <td>/ODAXML/Referat/samling/20091/20091_M100_helem...</td>\n",
       "    </tr>\n",
       "    <tr>\n",
       "      <th>3</th>\n",
       "      <td>20091</td>\n",
       "      <td>100</td>\n",
       "      <td>2010-05-31</td>\n",
       "      <td>Folketingssalen</td>\n",
       "      <td>Folketinget</td>\n",
       "      <td>Det næste punkt på dagsordenen er: 3) 1. behan...</td>\n",
       "      <td>/ODAXML/Referat/samling/20091/20091_M100_helem...</td>\n",
       "    </tr>\n",
       "    <tr>\n",
       "      <th>4</th>\n",
       "      <td>20091</td>\n",
       "      <td>100</td>\n",
       "      <td>2010-05-31</td>\n",
       "      <td>Folketingssalen</td>\n",
       "      <td>Folketinget</td>\n",
       "      <td>Det næste punkt på dagsordenen er: 4) 1. behan...</td>\n",
       "      <td>/ODAXML/Referat/samling/20091/20091_M100_helem...</td>\n",
       "    </tr>\n",
       "    <tr>\n",
       "      <th>...</th>\n",
       "      <td>...</td>\n",
       "      <td>...</td>\n",
       "      <td>...</td>\n",
       "      <td>...</td>\n",
       "      <td>...</td>\n",
       "      <td>...</td>\n",
       "      <td>...</td>\n",
       "    </tr>\n",
       "    <tr>\n",
       "      <th>113</th>\n",
       "      <td>20091</td>\n",
       "      <td>11</td>\n",
       "      <td>2009-11-04</td>\n",
       "      <td>Folketingssalen</td>\n",
       "      <td>Folketinget</td>\n",
       "      <td>Meddelelser fra formanden Formanden Mødet er å...</td>\n",
       "      <td>/ODAXML/Referat/samling/20091/20091_M11_helemo...</td>\n",
       "    </tr>\n",
       "    <tr>\n",
       "      <th>114</th>\n",
       "      <td>20091</td>\n",
       "      <td>11</td>\n",
       "      <td>2009-11-04</td>\n",
       "      <td>Folketingssalen</td>\n",
       "      <td>Folketinget</td>\n",
       "      <td>Det første punkt på dagsordenen er: 1) Spørgsm...</td>\n",
       "      <td>/ODAXML/Referat/samling/20091/20091_M11_helemo...</td>\n",
       "    </tr>\n",
       "    <tr>\n",
       "      <th>115</th>\n",
       "      <td>20091</td>\n",
       "      <td>11</td>\n",
       "      <td>2009-11-04</td>\n",
       "      <td>Folketingssalen</td>\n",
       "      <td>Folketinget</td>\n",
       "      <td>Det næste punkt på dagsordenen er: \\n \\n 2) Be...</td>\n",
       "      <td>/ODAXML/Referat/samling/20091/20091_M11_helemo...</td>\n",
       "    </tr>\n",
       "    <tr>\n",
       "      <th>116</th>\n",
       "      <td>20091</td>\n",
       "      <td>11</td>\n",
       "      <td>2009-11-04</td>\n",
       "      <td>Folketingssalen</td>\n",
       "      <td>Folketinget</td>\n",
       "      <td>Det sidste punkt på dagsordenen er: 3) 1. beha...</td>\n",
       "      <td>/ODAXML/Referat/samling/20091/20091_M11_helemo...</td>\n",
       "    </tr>\n",
       "    <tr>\n",
       "      <th>117</th>\n",
       "      <td>20091</td>\n",
       "      <td>11</td>\n",
       "      <td>2009-11-04</td>\n",
       "      <td>Folketingssalen</td>\n",
       "      <td>Folketinget</td>\n",
       "      <td>Meddelelser fra formanden Anden næstformand  (...</td>\n",
       "      <td>/ODAXML/Referat/samling/20091/20091_M11_helemo...</td>\n",
       "    </tr>\n",
       "  </tbody>\n",
       "</table>\n",
       "<p>118 rows × 7 columns</p>\n",
       "</div>"
      ],
      "text/plain": [
       "    session meetingnumber        date         location        group  \\\n",
       "0     20091           100  2010-05-31  Folketingssalen  Folketinget   \n",
       "1     20091           100  2010-05-31  Folketingssalen  Folketinget   \n",
       "2     20091           100  2010-05-31  Folketingssalen  Folketinget   \n",
       "3     20091           100  2010-05-31  Folketingssalen  Folketinget   \n",
       "4     20091           100  2010-05-31  Folketingssalen  Folketinget   \n",
       "..      ...           ...         ...              ...          ...   \n",
       "113   20091            11  2009-11-04  Folketingssalen  Folketinget   \n",
       "114   20091            11  2009-11-04  Folketingssalen  Folketinget   \n",
       "115   20091            11  2009-11-04  Folketingssalen  Folketinget   \n",
       "116   20091            11  2009-11-04  Folketingssalen  Folketinget   \n",
       "117   20091            11  2009-11-04  Folketingssalen  Folketinget   \n",
       "\n",
       "                                               content  \\\n",
       "0    Meddelelser fra formanden Tredje næstformand  ...   \n",
       "1    Det første punkt på dagsordenen er: 1) 1. beha...   \n",
       "2    Det næste punkt på dagsordenen er: 2) 1. behan...   \n",
       "3    Det næste punkt på dagsordenen er: 3) 1. behan...   \n",
       "4    Det næste punkt på dagsordenen er: 4) 1. behan...   \n",
       "..                                                 ...   \n",
       "113  Meddelelser fra formanden Formanden Mødet er å...   \n",
       "114  Det første punkt på dagsordenen er: 1) Spørgsm...   \n",
       "115  Det næste punkt på dagsordenen er: \\n \\n 2) Be...   \n",
       "116  Det sidste punkt på dagsordenen er: 3) 1. beha...   \n",
       "117  Meddelelser fra formanden Anden næstformand  (...   \n",
       "\n",
       "                                                  path  \n",
       "0    /ODAXML/Referat/samling/20091/20091_M100_helem...  \n",
       "1    /ODAXML/Referat/samling/20091/20091_M100_helem...  \n",
       "2    /ODAXML/Referat/samling/20091/20091_M100_helem...  \n",
       "3    /ODAXML/Referat/samling/20091/20091_M100_helem...  \n",
       "4    /ODAXML/Referat/samling/20091/20091_M100_helem...  \n",
       "..                                                 ...  \n",
       "113  /ODAXML/Referat/samling/20091/20091_M11_helemo...  \n",
       "114  /ODAXML/Referat/samling/20091/20091_M11_helemo...  \n",
       "115  /ODAXML/Referat/samling/20091/20091_M11_helemo...  \n",
       "116  /ODAXML/Referat/samling/20091/20091_M11_helemo...  \n",
       "117  /ODAXML/Referat/samling/20091/20091_M11_helemo...  \n",
       "\n",
       "[118 rows x 7 columns]"
      ]
     },
     "execution_count": 16,
     "metadata": {},
     "output_type": "execute_result"
    }
   ],
   "source": [
    "#ft"
   ]
  }
 ],
 "metadata": {
  "kernelspec": {
   "display_name": "Python 3 (ipykernel)",
   "language": "python",
   "name": "python3"
  },
  "language_info": {
   "codemirror_mode": {
    "name": "ipython",
    "version": 3
   },
   "file_extension": ".py",
   "mimetype": "text/x-python",
   "name": "python",
   "nbconvert_exporter": "python",
   "pygments_lexer": "ipython3",
   "version": "3.9.12"
  }
 },
 "nbformat": 4,
 "nbformat_minor": 5
}
