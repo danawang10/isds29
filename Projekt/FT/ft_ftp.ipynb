{
 "cells": [
  {
   "cell_type": "markdown",
   "id": "3171ea7c",
   "metadata": {},
   "source": [
    "# Nødvendige biblioteker"
   ]
  },
  {
   "cell_type": "code",
   "execution_count": 1,
   "id": "bac49c50",
   "metadata": {},
   "outputs": [],
   "source": [
    "import requests\n",
    "import ftplib\n",
    "import pandas as pd\n",
    "import numpy as np\n",
    "import tqdm\n",
    "import time\n",
    "from io import BytesIO\n",
    "from bs4 import BeautifulSoup as bs"
   ]
  },
  {
   "cell_type": "markdown",
   "id": "47e59932",
   "metadata": {},
   "source": [
    "# Opsætning af ftp serveradresse og bibliotek"
   ]
  },
  {
   "cell_type": "code",
   "execution_count": 2,
   "id": "ac828650",
   "metadata": {},
   "outputs": [],
   "source": [
    "ftp_url = \"oda.ft.dk\"\n",
    "ftp_dir = \"/ODAXML/Referat/samling/\""
   ]
  },
  {
   "cell_type": "markdown",
   "id": "64146200",
   "metadata": {},
   "source": [
    "# Initialisering af lister\n",
    "## Jeg skal finde ud af, hvordan jeg dropper dem igen, når jeg er færdig"
   ]
  },
  {
   "cell_type": "code",
   "execution_count": 3,
   "id": "8cb2ee41",
   "metadata": {},
   "outputs": [],
   "source": [
    "dirs = []\n",
    "sub_dir = []\n",
    "filer = []\n",
    "filer_navne = []\n",
    "filer_size = []\n",
    "sti_navn = []\n",
    "indhold = []\n",
    "suppe = []"
   ]
  },
  {
   "cell_type": "markdown",
   "id": "892f05e2",
   "metadata": {},
   "source": [
    "# Login til ftp serveren og henter en liste over biblioteker"
   ]
  },
  {
   "cell_type": "code",
   "execution_count": 4,
   "id": "a693d04e",
   "metadata": {},
   "outputs": [],
   "source": [
    "ftp = ftplib.FTP(ftp_url)\n",
    "ftp.login(\"anonymous\", \"wpg345@alumni.ku.dk\")\n",
    "ftp.set_pasv(True)\n",
    "ftp.cwd(ftp_dir)\n",
    "ftp.dir(dirs.append)"
   ]
  },
  {
   "cell_type": "markdown",
   "id": "5f6cbcc7",
   "metadata": {},
   "source": [
    "# Bygger en liste med underbibliotekter"
   ]
  },
  {
   "cell_type": "code",
   "execution_count": 5,
   "id": "b684f037",
   "metadata": {},
   "outputs": [],
   "source": [
    "for i in range (0, len(dirs), 1):\n",
    "    sub_dir.append(ftp_dir+dirs[i][-5:]+'/') "
   ]
  },
  {
   "cell_type": "markdown",
   "id": "e7294ad0",
   "metadata": {},
   "source": [
    "# Bygger en liste med filnavne"
   ]
  },
  {
   "cell_type": "code",
   "execution_count": 6,
   "id": "b5eb45c1",
   "metadata": {},
   "outputs": [],
   "source": [
    "for i in range (0, len(sub_dir), 1):\n",
    "    ftp.cwd(sub_dir[i])\n",
    "    ftp.dir(filer.append)"
   ]
  },
  {
   "cell_type": "markdown",
   "id": "7a4b6bce",
   "metadata": {},
   "source": [
    "# Ekstrakt af filnavn"
   ]
  },
  {
   "cell_type": "code",
   "execution_count": 7,
   "id": "f64747be",
   "metadata": {},
   "outputs": [],
   "source": [
    "for i in range(0, len(filer)):\n",
    "    filer_navne.append(filer[i][39:])"
   ]
  },
  {
   "cell_type": "markdown",
   "id": "f29a03b0",
   "metadata": {},
   "source": [
    "# Opbygning af hele stien og filnavn"
   ]
  },
  {
   "cell_type": "code",
   "execution_count": 8,
   "id": "831dde06",
   "metadata": {},
   "outputs": [],
   "source": [
    "for i in range(0, len(filer_navne)):\n",
    "    sti_navn.append(ftp_dir+filer_navne[i][0:5]+'/'+filer_navne[i])"
   ]
  },
  {
   "cell_type": "markdown",
   "id": "fb2b4bee",
   "metadata": {},
   "source": [
    "# Overførsel af de enkelte filer fra ftp://oda.ft.dk, og indholdet skrives til liste"
   ]
  },
  {
   "cell_type": "code",
   "execution_count": 9,
   "id": "fe7a6025",
   "metadata": {},
   "outputs": [
    {
     "name": "stderr",
     "output_type": "stream",
     "text": [
      "100%|██████████| 1489/1489 [04:13<00:00,  5.88it/s]\n"
     ]
    }
   ],
   "source": [
    "for i in tqdm.tqdm(range(0, len(sti_navn))):\n",
    "    r = BytesIO()\n",
    "    ftp.retrbinary(f\"RETR {sti_navn[i]}\", r.write)\n",
    "    indhold.append(r.getvalue())\n",
    "    r.close()"
   ]
  },
  {
   "cell_type": "markdown",
   "id": "10457862",
   "metadata": {},
   "source": [
    "# BeautifulSoup - her kommer der korrekte danske karakterer, og der sker eet eller andet med XML-tags'ene\n",
    "## Men det er tilsyneladende ikke alle æøå, den kan finde ud af"
   ]
  },
  {
   "cell_type": "code",
   "execution_count": 10,
   "id": "64a58cb2",
   "metadata": {},
   "outputs": [
    {
     "name": "stderr",
     "output_type": "stream",
     "text": [
      "100%|██████████| 1489/1489 [10:34<00:00,  2.35it/s]\n"
     ]
    }
   ],
   "source": [
    "for i in tqdm.tqdm(range (0,len(indhold))):\n",
    "    suppe.append(bs(indhold[i],\"lxml\"))"
   ]
  },
  {
   "cell_type": "markdown",
   "id": "09614b96",
   "metadata": {},
   "source": [
    "# Dataframe skabes"
   ]
  },
  {
   "cell_type": "code",
   "execution_count": 11,
   "id": "b835df37",
   "metadata": {
    "scrolled": true
   },
   "outputs": [
    {
     "name": "stderr",
     "output_type": "stream",
     "text": [
      "C:\\Users\\kim\\anaconda3\\lib\\site-packages\\pandas\\core\\internals\\construction.py:576: VisibleDeprecationWarning: Creating an ndarray from ragged nested sequences (which is a list-or-tuple of lists-or-tuples-or ndarrays with different lengths or shapes) is deprecated. If you meant to do this, you must specify 'dtype=object' when creating the ndarray.\n",
      "  values = np.array([convert(v) for v in values])\n"
     ]
    }
   ],
   "source": [
    "df_suppe = pd.DataFrame(suppe, columns = ['metadata', 'indhold'])"
   ]
  },
  {
   "cell_type": "markdown",
   "id": "234d0622",
   "metadata": {},
   "source": [
    "# Der søges på de møder i salen, hvor ordet \"sygeplejerske\" har været nævnt\n",
    "# Der returneres 512 møder i salen, hvilket svarer til ca. 35%"
   ]
  },
  {
   "cell_type": "code",
   "execution_count": 12,
   "id": "06eb1324",
   "metadata": {},
   "outputs": [],
   "source": [
    "substring = 'sygeplejerske'\n",
    "df_sygep = df_suppe[df_suppe.apply(lambda row: row.astype(str).str.contains(substring, case=False).any(), axis=1)]"
   ]
  },
  {
   "cell_type": "code",
   "execution_count": 13,
   "id": "1d461835",
   "metadata": {},
   "outputs": [],
   "source": [
    "df_suppe.to_csv('suppe.csv') "
   ]
  },
  {
   "cell_type": "code",
   "execution_count": 14,
   "id": "fecad4d7",
   "metadata": {},
   "outputs": [],
   "source": [
    "df_sygep.to_csv('sygep.csv') "
   ]
  },
  {
   "cell_type": "code",
   "execution_count": null,
   "id": "4ccc1a91",
   "metadata": {},
   "outputs": [],
   "source": []
  }
 ],
 "metadata": {
  "kernelspec": {
   "display_name": "Python 3 (ipykernel)",
   "language": "python",
   "name": "python3"
  },
  "language_info": {
   "codemirror_mode": {
    "name": "ipython",
    "version": 3
   },
   "file_extension": ".py",
   "mimetype": "text/x-python",
   "name": "python",
   "nbconvert_exporter": "python",
   "pygments_lexer": "ipython3",
   "version": "3.9.12"
  }
 },
 "nbformat": 4,
 "nbformat_minor": 5
}
