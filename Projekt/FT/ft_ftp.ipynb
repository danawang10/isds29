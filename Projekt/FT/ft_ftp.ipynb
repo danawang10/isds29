{
 "cells": [
  {
   "cell_type": "code",
   "execution_count": 20,
   "id": "bac49c50",
   "metadata": {},
   "outputs": [],
   "source": [
    "import requests\n",
    "import ftplib\n",
    "import pandas as pd\n",
    "import numpy as np\n",
    "import tqdm\n",
    "import time\n",
    "from io import BytesIO\n",
    "from bs4 import BeautifulSoup as bs"
   ]
  },
  {
   "cell_type": "code",
   "execution_count": 3,
   "id": "ac828650",
   "metadata": {},
   "outputs": [],
   "source": [
    "ftp_url = \"oda.ft.dk\"\n",
    "ftp_dir = \"/ODAXML/Referat/samling/\""
   ]
  },
  {
   "cell_type": "code",
   "execution_count": 4,
   "id": "8cb2ee41",
   "metadata": {},
   "outputs": [],
   "source": [
    "dirs = []\n",
    "sub_dir = []\n",
    "filer = []\n",
    "filer_navne = []\n",
    "filer_size = []\n",
    "sti_navn = []\n",
    "indhold = []\n",
    "\n",
    "r = BytesIO()\n"
   ]
  },
  {
   "cell_type": "code",
   "execution_count": 5,
   "id": "a693d04e",
   "metadata": {},
   "outputs": [],
   "source": [
    "ftp = ftplib.FTP(ftp_url)\n",
    "ftp.login(\"anonymous\", \"wpg345@alumni.ku.dk\")\n",
    "ftp.set_pasv(True)\n",
    "ftp.cwd(ftp_dir)\n",
    "ftp.dir(dirs.append)\n",
    "#ftp.quit()\n",
    "#dirs"
   ]
  },
  {
   "cell_type": "code",
   "execution_count": 6,
   "id": "b684f037",
   "metadata": {},
   "outputs": [],
   "source": [
    "for i in range (0, len(dirs), 1):\n",
    "    sub_dir.append(ftp_dir+dirs[i][-5:]+'/') "
   ]
  },
  {
   "cell_type": "code",
   "execution_count": 7,
   "id": "b5eb45c1",
   "metadata": {},
   "outputs": [],
   "source": [
    "for i in range (0, len(sub_dir), 1):\n",
    "    ftp.cwd(sub_dir[i])\n",
    "    ftp.dir(filer.append)"
   ]
  },
  {
   "cell_type": "code",
   "execution_count": 8,
   "id": "f64747be",
   "metadata": {},
   "outputs": [],
   "source": [
    "for i in range(0, len(filer)):\n",
    "    filer_navne.append(filer[i][39:])"
   ]
  },
  {
   "cell_type": "code",
   "execution_count": 9,
   "id": "5a74dfcb",
   "metadata": {},
   "outputs": [],
   "source": [
    "for i in range(0, len(filer)):\n",
    "    filer_size.append(int(filer[i][17:39]))"
   ]
  },
  {
   "cell_type": "code",
   "execution_count": 10,
   "id": "b4e5f3cb",
   "metadata": {},
   "outputs": [
    {
     "name": "stdout",
     "output_type": "stream",
     "text": [
      "2688228\n"
     ]
    }
   ],
   "source": [
    "print(int(filer[0][17:38]))"
   ]
  },
  {
   "cell_type": "code",
   "execution_count": 11,
   "id": "831dde06",
   "metadata": {},
   "outputs": [],
   "source": [
    "for i in range(0, len(filer_navne)):\n",
    "    sti_navn.append(ftp_dir+filer_navne[i][0:5]+'/'+filer_navne[i])"
   ]
  },
  {
   "cell_type": "code",
   "execution_count": 12,
   "id": "fe7a6025",
   "metadata": {},
   "outputs": [
    {
     "name": "stderr",
     "output_type": "stream",
     "text": [
      "100%|██████████████████████████████████████████████████████████████████████████████| 1489/1489 [03:57<00:00,  6.27it/s]\n"
     ]
    }
   ],
   "source": [
    "for i in tqdm.tqdm(range(0, len(sti_navn))):\n",
    "#for i in tqdm.tqdm(range(0, 2)):\n",
    "    r = BytesIO()\n",
    "    ftp.retrbinary(f\"RETR {sti_navn[i]}\", r.write) #, blocksize=ftp_block)\n",
    "    indhold.append(r.getvalue())\n",
    "    r.close()\n",
    "    #print(sti_navn[i])\n",
    "    #time.sleep(0.75)\n",
    "#print(r.getvalue())"
   ]
  },
  {
   "cell_type": "code",
   "execution_count": 21,
   "id": "64a58cb2",
   "metadata": {},
   "outputs": [
    {
     "name": "stderr",
     "output_type": "stream",
     "text": [
      "100%|██████████████████████████████████████████████████████████████████████████████| 1489/1489 [18:17<00:00,  1.36it/s]\n"
     ]
    }
   ],
   "source": [
    "suppe = []\n",
    "#for i in tqdm.tqdm(range (0,len(indhold))):\n",
    "for i in tqdm.tqdm(range (0,len(indhold))):\n",
    "    suppe.append(bs(indhold[i],\"lxml\"))"
   ]
  },
  {
   "cell_type": "code",
   "execution_count": 24,
   "id": "e02e80e1",
   "metadata": {},
   "outputs": [
    {
     "name": "stderr",
     "output_type": "stream",
     "text": [
      "C:\\Users\\kim\\anaconda3\\lib\\site-packages\\pandas\\core\\internals\\construction.py:576: VisibleDeprecationWarning: Creating an ndarray from ragged nested sequences (which is a list-or-tuple of lists-or-tuples-or ndarrays with different lengths or shapes) is deprecated. If you meant to do this, you must specify 'dtype=object' when creating the ndarray.\n",
      "  values = np.array([convert(v) for v in values])\n"
     ]
    }
   ],
   "source": [
    "df_suppe = pd.DataFrame(suppe)"
   ]
  }
 ],
 "metadata": {
  "kernelspec": {
   "display_name": "Python 3 (ipykernel)",
   "language": "python",
   "name": "python3"
  },
  "language_info": {
   "codemirror_mode": {
    "name": "ipython",
    "version": 3
   },
   "file_extension": ".py",
   "mimetype": "text/x-python",
   "name": "python",
   "nbconvert_exporter": "python",
   "pygments_lexer": "ipython3",
   "version": "3.9.12"
  }
 },
 "nbformat": 4,
 "nbformat_minor": 5
}
