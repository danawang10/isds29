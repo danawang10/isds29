{
 "cells": [
  {
   "cell_type": "markdown",
   "id": "81f18fb0",
   "metadata": {},
   "source": [
    "Version, der læser alle møder ind i en liste"
   ]
  },
  {
   "cell_type": "code",
   "execution_count": 1,
   "id": "d7519112",
   "metadata": {},
   "outputs": [],
   "source": [
    "#Nødvendige biblioteker\n",
    "import requests\n",
    "import ftplib\n",
    "import pandas as pd\n",
    "import numpy as np\n",
    "from bs4 import BeautifulSoup as bs4\n",
    "import tqdm"
   ]
  },
  {
   "cell_type": "code",
   "execution_count": 2,
   "id": "7676f0f8",
   "metadata": {},
   "outputs": [],
   "source": [
    "#Initialisering af forbindelse til oda.ft.dk\n",
    "ftp_url = \"oda.ft.dk\"\n",
    "ftp_dir = \"/ODAXML/Referat/samling/\"\n",
    "dirs = []\n",
    "sub_dirs = []\n",
    "filer = []"
   ]
  },
  {
   "cell_type": "code",
   "execution_count": 3,
   "id": "120e9d38",
   "metadata": {},
   "outputs": [
    {
     "data": {
      "text/plain": [
       "'250 CWD command successful.'"
      ]
     },
     "execution_count": 3,
     "metadata": {},
     "output_type": "execute_result"
    }
   ],
   "source": [
    "#FTP login\n",
    "ftp = ftplib.FTP(ftp_url)\n",
    "ftp.login(\"anonymous\", \"\")\n",
    "ftp.cwd(ftp_dir)"
   ]
  },
  {
   "cell_type": "code",
   "execution_count": 4,
   "id": "f0c713a1",
   "metadata": {},
   "outputs": [],
   "source": [
    "#Liste med biblioteksnavne\n",
    "ftp.dir(dirs.append)"
   ]
  },
  {
   "cell_type": "code",
   "execution_count": 5,
   "id": "dcf1fb22",
   "metadata": {},
   "outputs": [],
   "source": [
    "#Liste med underbiblioteker\n",
    "sub_dir = []\n",
    "for i in range (0, len(dirs), 1):\n",
    "    sub_dir.append(ftp_dir+dirs[i][-5:]+'/') "
   ]
  },
  {
   "cell_type": "code",
   "execution_count": 6,
   "id": "9ede60dc",
   "metadata": {},
   "outputs": [],
   "source": [
    "#Liste med referater fra Folketingets samlingerne i XML format\n",
    "files = []\n",
    "for i in range (0, len(sub_dir), 1):\n",
    "    ftp.cwd(sub_dir[i])\n",
    "    ftp.dir(files.append)"
   ]
  },
  {
   "cell_type": "code",
   "execution_count": 7,
   "id": "c93968fe",
   "metadata": {},
   "outputs": [],
   "source": [
    "#Her omdannes til en liste med kun filnavne\n",
    "filenames = []\n",
    "for i in range(0, len(files)):\n",
    "    filenames.append(files[i][39:])"
   ]
  },
  {
   "cell_type": "code",
   "execution_count": 8,
   "id": "d3b815d3",
   "metadata": {},
   "outputs": [],
   "source": [
    "#Generering af sti og filnavn, som kan importeres\n",
    "files_to_import = []\n",
    "for i in range(0, len(filenames)):\n",
    "    files_to_import.append(ftp_dir+filenames[i][0:5]+'/'+filenames[i])"
   ]
  },
  {
   "cell_type": "code",
   "execution_count": null,
   "id": "611b6aaf",
   "metadata": {},
   "outputs": [
    {
     "name": "stderr",
     "output_type": "stream",
     "text": [
      " 39%|██████████████████████████████▊                                                | 580/1489 [01:22<02:00,  7.53it/s]"
     ]
    }
   ],
   "source": [
    "#Her hentes alle transskriptioner fra Folketingets samlinger og indsættes i file_content\n",
    "file_content = []\n",
    "for i in tqdm.tqdm(range(0, len(files_to_import))):\n",
    "    ftp.retrbinary(f\"RETR {files_to_import[i]}\", file_content.append)"
   ]
  },
  {
   "cell_type": "code",
   "execution_count": 10,
   "id": "96ac86e9",
   "metadata": {},
   "outputs": [
    {
     "name": "stdout",
     "output_type": "stream",
     "text": [
      "20 b'38</StartDateTime><EndDateTime>2010-05-31T10:46:25</EndDateTime></MetaSpeechSegment><TekstGruppe><Exitus><Linea><Char>Jeg mener ikke, at det er forringelser.</Char></Linea><Linea><Char>Nu n\\xc3\\xa6vnte jeg det for hr.</Char></Linea><Linea><Char>Morten \\xc3\\x98stergaard, og jeg har ogs\\xc3\\xa5 n\\xc3\\xa6vnt det tidligere over for nogle af hr.</Char></Linea><Linea><Char>Ole H\\xc3\\xa6kkerups socialdemokratiske kollegaer \\xe2\\x80\\x93 hvilket man totalt vil se bort fra, fordi man ikke \\xc3\\xb8nskede at tage et medansvar \\xe2\\x80\\x93 1 bio.</Char></Linea><Linea><Char>pund nemlig pakken vedr\\xc3\\xb8rende en ekstraordin\\xc3\\xa6r indsats for at bek\\xc3\\xa6mpe langtidsledighed, og de to ting skal selvf\\xc3\\xb8lgelig ses i sammenh\\xc3\\xa6ng.</Char></Linea><Linea><Char>I det \\xc3\\xb8jeblik vi afkorter dagpengeperioden, er der selvf\\xc3\\xb8lgelig brug for det l\\xc3\\xb8ft, som Socialdemokraterne af partitaktiske grunde valgte at sige nej tak til at v\\xc3\\xa6re med til at gennemf\\xc3\\xb8re.</Char></Linea><Linea><Char>Vi har afsat omkring 0,5 mia.</Char></Linea><Linea><Char>kr.</Char></Linea><Linea><Char>til en helt ekstraordin\\xc3\\xa6r indsats til netop at f\\xc3\\xb8lge op p\\xc3\\xa5 det, som hr.</Char></Linea><Linea><Char>Ole H\\xc3\\xa6kkerup her n\\xc3\\xa6vner.</Char></Linea></Exitus></TekstGruppe></TaleSegment></Tale><Tale><Taler><MetaSpeakerMP><OratorFirstName>Holger K.</OratorFirstName><OratorLastName>Nielsen</OratorLastName><GroupNameShort>SF</GroupNameShort><OratorRole>formand</OratorRole></MetaSpeakerMP><TalerTitel><Linea><Char>Tredje n\\xc3\\xa6stformand</Char><Char> (Holger K. Nielsen)</Char></Linea></TalerTitel></Taler><TaleSegment><MetaSpeechSegment><LastModified>2011-01-18T14:15:21</LastModified><EdixiStatus>Typeset</EdixiStatus><StartDateTime>2010-05-31T10:46:25</StartDateTime><EndDateTime>2010-05-31T10:46:29</EndDateTime></MetaSpeechSegment><TekstGruppe><Exitus><Linea><Char>Hr.</Char></Linea><Linea><Char>Simon Emil Ammitzb\\xc3\\xb8ll.</Char></Linea></Exitus></TekstGruppe></TaleSegment></Tale><Tale><Taler><MetaSpeakerMP><OratorFirstName>Simon Emil</OratorFirstName><OratorLastName>Ammitzb\\xc3\\xb8ll</OratorLastName><GroupNameShort>LA</GroupNameShort><OratorRole>medlem</OratorRole></MetaSpeakerMP><TalerTitel><Linea><Char>Simon Emil Ammitzb\\xc3\\xb8ll</Char><Char> (LA)</Char></Linea></TalerTitel></Taler><TaleSegment><MetaSpeechSegment><LastModified>2011-01-18T14:15:21</LastModified><EdixiStatus>Typeset</EdixiStatus><StartDateTime>2010-05-31T10:46:29</StartDateTime><EndDateTime>2010-05-31T10:47:30</EndDateTime></MetaSpeechSegment><TekstGruppe><Exitus><Linea><Char>Tak.</Char></Linea><Linea><Char>Det er jo ikke lang tid siden, at vi har behandlet et forslag om netop det samme, fremsat af Liberal Alliance, og jeg tror ikke, at jeg afsl\\xc3\\xb8rer meget ved at sige, at det kun var Liberal Alliance, der stemte for det forslag.</Char></Linea><Linea><Char>Det fremsatte vi allerede den 6.</Char></Linea><Linea><Char>april her i 2010.</Char></Linea><Linea><Char>Da sagde den nuv\\xc3\\xa6rende ordf\\xc3\\xb8rer, at Liberal Alliance henviste til Arbejdsmarkedskommissionens anbefalinger, men jeg skal i lighed med det, vi netop har h\\xc3\\xb8rt besk\\xc3\\xa6ftigelsesministeren s\\xc3\\xa5 ganske glimrende redeg\\xc3\\xb8re for, understrege, at besk\\xc3\\xa6ftigelsessituationen jo har \\xc3\\xa6ndret sig ganske v\\xc3\\xa6sentligt, siden Arbejdsmarkedskommissionen blev nedsat i 2007, men dengang sagde man:</Char></Linea><Linea><Char>Derfor er tiden ikke inde til forringelser af dagpengeperioden.</Char></Linea></Exitus><Exitus><Linea><Char>S\\xc3\\xa5 kunne jeg jo nu st\\xc3\\xa5 og g\\xc3\\xb8re mig morsom over det, men det har jeg s\\xc3\\xa5dan set ikke t\\xc3\\xa6nkt mig.</Char></Linea><Linea><Char>Jeg synes faktisk, at der er grund til at rose, for man skal rose den, der fortjener det.</Char></Linea><Linea><Char>Og det er da bedre at blive klogere og g\\xc3\\xa5 i gang med reformarbejdet end at blive ved med dumst\\xc3\\xa6digt, som nogle partier g\\xc3\\xb8r, at h\\xc3\\xa6vde, at det er en d\\xc3\\xa5rlig id\\xc3\\xa9 at g\\xc3\\xb8re noget ved problemerne.</Char></Linea><Linea><Char>S\\xc3\\xa5 det vil jeg s\\xc3\\xa5dan set godt rose regeringen for, og s\\xc3\\xa5 kommer sp\\xc3\\xb8rgsm\\xc3\\xa5let i anden runde.</Char></Linea></Exitus></TekstGruppe></TaleSegment></Tale><Tale><Taler><MetaSpeakerMP><OratorFirstName>Holger K.</OratorFirstName><OratorLastName>Nielsen</OratorLastName><GroupNameShort>SF</GroupNameShort><OratorRole>formand</OratorRole></MetaSpeakerMP><TalerTitel><Linea><Char>Tredje n\\xc3\\xa6stformand</Char><Char> (Holger K. Nielsen)</Char></Linea></TalerTitel></Taler><TaleSegment><MetaSpeechSegment><LastModified>2011-01-18T14:15:22</LastModified><EdixiStatus>Typeset</EdixiStatus><StartDateTime>2010-05-31T10:47:30</StartDateTime><EndDateTime>2010-05-31T10:47:32</EndDateTime></MetaSpeechSegment><TekstGruppe><Exitus><Linea><Char>Ordf\\xc3\\xb8reren.</Char></Linea></Exitus></TekstGruppe></TaleSegment></Tale><Tale><Taler><MetaSpeakerMP><OratorFirstName>Ulla</OratorFirstName><OratorLastName>T\\xc3\\xb8rn\\xc3\\xa6s</OratorLastName><GroupNameShort>V</GroupNameShort><OratorRole>medlem</OratorRole></MetaSpeakerMP><TalerTitel><Linea><Char>Ulla T\\xc3\\xb8rn\\xc3\\xa6s</Char><Char> (V)</Char></Linea></TalerTitel></Taler><TaleSegment><MetaSpeechSegment><LastModified>2011-01-18T14:15:22</LastModified><EdixiStatus>Typeset</EdixiStatus><StartDateTime>2010-05-31T10:47:32</StartDateTime><EndDateTime>2010-05-31T10:48:00</EndDateTime></MetaSpeechSegment><TekstGruppe><Exitus><Linea><Char>Jeg takker meget for Liberal Alliances ros og anerkendelse af, at det er det rigtige at g\\xc3\\xb8re, at det er det n\\xc3\\xb8dvendige at g\\xc3\\xb8re, og at det helt sikkert ogs\\xc3\\xa5 vil bidrage til det, som jeg ved at Liberal Alliance er meget optaget af, nemlig holdbarheden i dansk \\xc3\\xb8konomi, i og med at forslaget her vil bidrage til, at arbejdsstyrken vil \\xc3\\xb8ges med 13.000 fuldtidspersoner.</Char></Linea></Exitus></TekstGruppe></TaleSegment></Tale><Tale><Taler><MetaSpeakerMP><OratorFirstName>Holger K.</OratorFirstName><OratorLastName>Nielsen</OratorLastName><GroupNameShort>SF</GroupNameShort><OratorRole>formand</OratorRole></MetaSpeakerMP><TalerTitel><Linea><Char>Tredje n\\xc3\\xa6stformand</Char><Char> (Holger K. Nielsen)</Char></Linea></TalerTitel></Taler><TaleSegment><MetaSpeechSegment><LastModified>2011-01-18T14:15:22</LastModified><EdixiStatus>Typeset</EdixiStatus><StartDateTime>2010-05-31T10:48:00</StartDateTime><EndDateTime>2010-05-31T10:48:03</EndDateTime></MetaSpeechSegment><TekstGruppe><Exitus><Linea><Char>Hr.</Char></Linea><Linea><Char>Simon Emil Ammitzb\\xc3\\xb8ll.</Char></Linea></Exitus></TekstGruppe></TaleSegment></Tale><Tale><Taler><MetaSpeakerMP><OratorFirstName>Simon Emil</OratorFirstName><OratorLastName>Ammitzb\\xc3\\xb8ll</OratorLastName><GroupNameShort>LA</GroupNameShort><OratorRole>medlem</OratorRole></MetaSpeakerMP><TalerTitel><Linea><Char>Simon Emil Ammitzb\\xc3\\xb8ll</Char><Char> (LA)</Char></Linea></TalerTitel></Taler><TaleSegment><MetaSpeechSegment><LastModified>2011-01-18T14:15:22</LastModified><EdixiStatus>Typeset</EdixiStatus><StartDateTime>2010-05-31T10:48:03</StartDateTime><EndDateTime>2010-05-31T10:48:37</EndDateTime></MetaSpeechSegment><TekstGruppe><Exitus><Linea><Char>Lige pr\\xc3\\xa6cis, og det er ogs\\xc3\\xa5 derfor, at man burde g\\xc3\\xa5 langt videre med reformarbejdet.</Char></Linea><Linea><Char>Men det her forslag er jo en del af en st\\xc3\\xb8rre pakke \\xe2\\x80'\n"
     ]
    }
   ],
   "source": [
    "#Da FTP protokollen ikke kan(?) håndtere UTF-8 laves en omkodning af indholdet\n",
    "file_content_decoded = []\n",
    "#for i in range (0, len(content)):\n",
    "#new_content = new_content\n",
    "try:\n",
    "    for i in range (0, len(file_content)):\n",
    "        #file_content_decoded.append(file_content[i].decode(\"utf-8\", errors='ignore'))\n",
    "        file_content_decoded.append(file_content[i].decode(\"utf-8\"))\n",
    "except:\n",
    "        print(i, file_content[i])\n"
   ]
  },
  {
   "cell_type": "code",
   "execution_count": 11,
   "id": "74523bff",
   "metadata": {},
   "outputs": [
    {
     "name": "stdout",
     "output_type": "stream",
     "text": [
      "0\n",
      "1\n",
      "2\n",
      "3\n",
      "4\n",
      "5\n",
      "6\n",
      "7\n",
      "8\n",
      "9\n",
      "10\n",
      "11\n",
      "12\n",
      "13\n",
      "14\n",
      "15\n",
      "16\n",
      "17\n",
      "18\n",
      "19\n"
     ]
    },
    {
     "ename": "UnicodeDecodeError",
     "evalue": "'utf-8' codec can't decode bytes in position 6986-6987: unexpected end of data",
     "output_type": "error",
     "traceback": [
      "\u001b[1;31m---------------------------------------------------------------------------\u001b[0m",
      "\u001b[1;31mUnicodeDecodeError\u001b[0m                        Traceback (most recent call last)",
      "Input \u001b[1;32mIn [11]\u001b[0m, in \u001b[0;36m<cell line: 5>\u001b[1;34m()\u001b[0m\n\u001b[0;32m      2\u001b[0m \u001b[38;5;66;03m#for i in range (0, len(content)):\u001b[39;00m\n\u001b[0;32m      3\u001b[0m \u001b[38;5;66;03m#new_content = new_content\u001b[39;00m\n\u001b[0;32m      4\u001b[0m \u001b[38;5;66;03m#try:\u001b[39;00m\n\u001b[0;32m      5\u001b[0m \u001b[38;5;28;01mfor\u001b[39;00m i \u001b[38;5;129;01min\u001b[39;00m \u001b[38;5;28mrange\u001b[39m (\u001b[38;5;241m0\u001b[39m, \u001b[38;5;241m100\u001b[39m):\n\u001b[0;32m      6\u001b[0m     \u001b[38;5;66;03m#file_content_decoded.append(file_content[i].decode(\"utf-8\", errors='ignore'))\u001b[39;00m\n\u001b[1;32m----> 7\u001b[0m     file_content_decoded\u001b[38;5;241m.\u001b[39mappend(\u001b[43mfile_content\u001b[49m\u001b[43m[\u001b[49m\u001b[43mi\u001b[49m\u001b[43m]\u001b[49m\u001b[38;5;241;43m.\u001b[39;49m\u001b[43mdecode\u001b[49m\u001b[43m(\u001b[49m\u001b[38;5;124;43m\"\u001b[39;49m\u001b[38;5;124;43mutf-8\u001b[39;49m\u001b[38;5;124;43m\"\u001b[39;49m\u001b[43m)\u001b[49m)\n\u001b[0;32m      8\u001b[0m \u001b[38;5;66;03m#except:\u001b[39;00m\n\u001b[0;32m      9\u001b[0m     \u001b[38;5;28mprint\u001b[39m(i)\n",
      "\u001b[1;31mUnicodeDecodeError\u001b[0m: 'utf-8' codec can't decode bytes in position 6986-6987: unexpected end of data"
     ]
    }
   ],
   "source": [
    "file_content_decoded = []\n",
    "#for i in range (0, len(content)):\n",
    "#new_content = new_content\n",
    "#try:\n",
    "for i in range (0, 100):\n",
    "    #file_content_decoded.append(file_content[i].decode(\"utf-8\", errors='ignore'))\n",
    "    file_content_decoded.append(file_content[i].decode(\"utf-8\"))\n",
    "#except:\n",
    "    print(i)\n"
   ]
  },
  {
   "cell_type": "code",
   "execution_count": 12,
   "id": "ff03e642",
   "metadata": {},
   "outputs": [
    {
     "data": {
      "text/plain": [
       "'><TekstGruppe><Exitus><Linea><Char>Regeringen har sammen med Dansk Folkeparti indgået en ansvarlig og helt igennem nødvendig aftale om genopretning af dansk økonomi.</Char></Linea><Linea><Char>Med genopretningspakken betaler vi regningen en gang for alle, og vi viser, at Danmark har styr på økonomien.</Char></Linea><Linea><Char>Planen er lavet så lempelig som muligt, men når man skal betale en regning på 24 mia.</Char></Linea><Linea><Char>kr., kan det mærkes af alle.</Char></Linea><Linea><Char>Det er ikke nemt, men det er nødvendigt.</Char></Linea><Linea><Char>Vi vil ikke sådan som Socialdemokraterne og Socialistisk Folkeparti lukke øjnene for den økonomiske virkelighed og se bort fra de krav, som EU stiller til os om at nedbringe vores offentlige underskud.</Char></Linea></Exitus><Exitus><Linea><Char>Danmark er en åben økonomi, og hvis ikke vi betaler regningen nu, risikerer vi højere renter og spekulation mod kronen og finansiel uro.</Char></Linea><Linea><Char>Det vil ramme boligejerne, det vil ramme virksomhederne, og det vil koste danske arbejdspladser.</Char></Linea><Linea><Char>Det har vi ganske enkelt ikke råd til.</Char></Linea><Linea><Char>Ikke nok med det, så forsøger Socialdemokraterne og Socialistisk Folkeparti at foregøgle danskerne, at vi bare skal arbejde en lillebitte smule ekstra engang ud i fremtiden, og så er alle økonomiske problemer løst.</Char></Linea><Linea><Char>Nej, Socialdemokraternes og Socialistisk Folkepartis planer er rene luftkasteller og er blottet for konkrete svar på, hvordan vi løser de økonomiske udfordringer, som vi står over for her og nu.</Char></Linea></Exitus><Exitus><Linea><Char>Med genopretningspakken betales regningen en gang for alle.</Char></Linea><Linea><Char>Et væsentligt led i aftalen er en samlet dagpengereform, som indebærer den nedsættelse af dagpengeperioden fra 4 år til 2 år, som L 222 handler om.</Char></Linea><Linea><Char>Dagpengereformen omhandler desuden en harmonisering af optjenings- og genoptjeningskravet for ret til dagpenge til 52 uger inden for 3 år og en ændring af beregningsperioden fra en 3-måneders- til en 12-måneders-periode.</Char></Linea></Exitus><Exitus><Linea><Char>Det er vigtigt for Venstre at sikre, at de borgere, som bliver berørt af dagpengereformen, også får mulighed for at vurdere deres samlede situation efter reformens ikrafttræden og dermed har mulighed for at indrette sig på reformens samlede konsekvenser.</Char></Linea><Linea><Char>Derfor vil regeringen på onsdag fremsætte et selvstændigt lovforslag om de to øvrige elementer af dagpengereformen, nemlig forslaget om harmonisering af beregningsperioden.</Char></Linea></Exitus><Exitus><Linea><Char>Med forslaget her, altså L 222, bidrager vi på kort sigt til genopretningen af dansk økonomi, men samtidig bidrager vi med en '"
      ]
     },
     "execution_count": 12,
     "metadata": {},
     "output_type": "execute_result"
    }
   ],
   "source": [
    "file_content_decoded[1]"
   ]
  },
  {
   "cell_type": "code",
   "execution_count": null,
   "id": "1666dcf6",
   "metadata": {},
   "outputs": [],
   "source": [
    "df = pd.DataFrame(file_content_decoded)\n",
    "df.to_csv(\"file_content_decoded.csv\", index = False)"
   ]
  },
  {
   "cell_type": "code",
   "execution_count": null,
   "id": "d5d71ac6",
   "metadata": {},
   "outputs": [],
   "source": [
    "ft_df = pd.read_xml(file_content_decoded[1])\n",
    "#soup = bs(decoded_str, \"lxml\")"
   ]
  },
  {
   "cell_type": "code",
   "execution_count": null,
   "id": "d90b128e",
   "metadata": {},
   "outputs": [],
   "source": [
    "file_content_decoded"
   ]
  },
  {
   "cell_type": "code",
   "execution_count": null,
   "id": "4a699675",
   "metadata": {},
   "outputs": [],
   "source": [
    "df = pd.DataFrame(filer)\n",
    "df.to_excel(\"filnavn.xlsx\", index = False)"
   ]
  },
  {
   "cell_type": "code",
   "execution_count": null,
   "id": "899abf30",
   "metadata": {},
   "outputs": [],
   "source": []
  }
 ],
 "metadata": {
  "kernelspec": {
   "display_name": "Python 3 (ipykernel)",
   "language": "python",
   "name": "python3"
  },
  "language_info": {
   "codemirror_mode": {
    "name": "ipython",
    "version": 3
   },
   "file_extension": ".py",
   "mimetype": "text/x-python",
   "name": "python",
   "nbconvert_exporter": "python",
   "pygments_lexer": "ipython3",
   "version": "3.9.12"
  }
 },
 "nbformat": 4,
 "nbformat_minor": 5
}
