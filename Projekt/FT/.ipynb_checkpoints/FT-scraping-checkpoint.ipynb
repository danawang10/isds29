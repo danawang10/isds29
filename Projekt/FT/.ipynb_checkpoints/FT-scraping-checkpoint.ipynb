{
 "cells": [
  {
   "cell_type": "markdown",
   "id": "2755d5bf",
   "metadata": {},
   "source": [
    "# Scraping af FT"
   ]
  },
  {
   "cell_type": "code",
   "execution_count": 3,
   "id": "cdacc08b",
   "metadata": {},
   "outputs": [],
   "source": [
    "from bs4 import BeautifulSoup as bs\n",
    "import re \n",
    "import os\n",
    "import lxml\n",
    "import xml.etree.ElementTree as ET\n",
    "from lxml import objectify\n",
    "from datetime import datetime\n",
    "import numpy as np \n",
    "import pandas as pd \n",
    "import requests\n",
    "import ftplib\n",
    "from io import BytesIO\n",
    "import tqdm"
   ]
  },
  {
   "cell_type": "markdown",
   "id": "de8ab18d",
   "metadata": {},
   "source": [
    "##### Tomme lister"
   ]
  },
  {
   "cell_type": "code",
   "execution_count": 4,
   "id": "a743493f",
   "metadata": {},
   "outputs": [],
   "source": [
    "dirs = []\n",
    "sub_dir = []\n",
    "files = []\n",
    "file_name = []\n",
    "paths = []\n",
    "raw_xml_list = []\n",
    "\n",
    "suppe = []"
   ]
  },
  {
   "cell_type": "markdown",
   "id": "ef71dc66",
   "metadata": {},
   "source": [
    "### Login til ftp serveren og henter en liste over biblioteker"
   ]
  },
  {
   "cell_type": "code",
   "execution_count": 5,
   "id": "6fd2856b",
   "metadata": {},
   "outputs": [],
   "source": [
    "ftp_url = \"oda.ft.dk\"\n",
    "ftp_dir = \"/ODAXML/Referat/samling/\""
   ]
  },
  {
   "cell_type": "code",
   "execution_count": 6,
   "id": "02ee869a",
   "metadata": {},
   "outputs": [],
   "source": [
    "ftp = ftplib.FTP(ftp_url)\n",
    "ftp.login(\"anonymous\", \"wpg345@alumni.ku.dk\")\n",
    "ftp.set_pasv(True)\n",
    "ftp.cwd(ftp_dir)\n",
    "ftp.dir(dirs.append)"
   ]
  },
  {
   "cell_type": "code",
   "execution_count": 7,
   "id": "7c846be2",
   "metadata": {},
   "outputs": [],
   "source": [
    "for i in range (0, len(dirs), 1):    # bygger en liste med underbiblioteker\n",
    "    sub_dir.append(ftp_dir+dirs[i][-5:]+'/') \n",
    "    \n",
    "for i in range (0, len(sub_dir), 1): # bygger en liste med filnavne\n",
    "    ftp.cwd(sub_dir[i])\n",
    "    ftp.dir(files.append)\n",
    "\n",
    "for i in range(0, len(files)):       # extract filnavn\n",
    "    file_name.append(files[i][39:])   \n",
    "\n",
    "for i in range(0, len(file_name)):   # opbygning af den fulde sti og filnavn\n",
    "    paths.append(ftp_dir+file_name[i][0:5]+'/'+file_name[i])"
   ]
  },
  {
   "cell_type": "markdown",
   "id": "33938698",
   "metadata": {},
   "source": [
    "### Overførsel af de enkelte filer fra ftp://oda.ft.dk, og raw_xml skrives til liste"
   ]
  },
  {
   "cell_type": "code",
   "execution_count": 8,
   "id": "c822719c",
   "metadata": {},
   "outputs": [
    {
     "name": "stderr",
     "output_type": "stream",
     "text": [
      "100%|██████████| 1489/1489 [02:51<00:00,  8.68it/s]\n"
     ]
    }
   ],
   "source": [
    "for i in tqdm.tqdm(range(0, len(paths))):\n",
    "    r = BytesIO()\n",
    "    ftp.retrbinary(f\"RETR {paths[i]}\", r.write)\n",
    "    raw_xml_list.append(r.getvalue())\n",
    "    r.close()"
   ]
  },
  {
   "cell_type": "markdown",
   "id": "879466f1",
   "metadata": {},
   "source": [
    "# Define path function"
   ]
  },
  {
   "cell_type": "code",
   "execution_count": 50,
   "id": "9e88e24f",
   "metadata": {},
   "outputs": [],
   "source": [
    "# extract_path VIRKER\n",
    "repeats = []\n",
    "\n",
    "def extract_path(xml_list):\n",
    "    \n",
    "    for xml in xml_list: \n",
    "        soup = bs(xml, 'lxml')\n",
    "        repeats.append(len(soup.find_all(\"dagsordenpunkt\")))\n",
    "    \n",
    "    for i in range(0, len(xml_list)): \n",
    "        p = paths[i]\n",
    "        path.extend([p] * repeats[i]) \n",
    "        #extend acts as append but multiplied by n times\n",
    "    \n",
    "    return None"
   ]
  },
  {
   "cell_type": "markdown",
   "id": "4940a5d2",
   "metadata": {},
   "source": [
    "Bemærk vi er interesseret i len(xml_list) modsat de næste funktioner, hvor det ikke behøver spille nogen rolle. Derfor vælger vi ikke at integrere extract_path ind i extract_metadata. "
   ]
  },
  {
   "cell_type": "markdown",
   "id": "6ed9d674",
   "metadata": {},
   "source": [
    "# Define metadata function"
   ]
  },
  {
   "cell_type": "code",
   "execution_count": 51,
   "id": "69938dc6",
   "metadata": {},
   "outputs": [],
   "source": [
    "# vers1 virker\n",
    "def extract_metadata(xml):\n",
    "    soup = bs(xml, 'lxml')\n",
    "    \n",
    "    d = soup.find(\"dateofsitting\").text[:10]\n",
    "    m = soup.find(\"meetingnumber\").text\n",
    "    s = soup.find(\"parliamentarysession\").text\n",
    "    g = soup.find(\"parliamentarygroup\").text\n",
    "    l = soup.find(\"location\").text\n",
    "    \n",
    "    # antal gange de samme metadata gentages for hvert dagordenpunkt\n",
    "    repeats = len(soup.find_all(\"dagsordenpunkt\")) \n",
    "    \n",
    "    for repeat in range(0, repeats):\n",
    "        date.append(d)\n",
    "        meetingnumber.append(m)\n",
    "        session.append(s)\n",
    "        group.append(g)\n",
    "        location.append(l)\n",
    "    \n",
    "    return None"
   ]
  },
  {
   "cell_type": "markdown",
   "id": "d444d942",
   "metadata": {},
   "source": [
    "# Define content function "
   ]
  },
  {
   "cell_type": "code",
   "execution_count": 52,
   "id": "da18d3f3",
   "metadata": {},
   "outputs": [],
   "source": [
    "def extract_content(xml): \n",
    "    soup = bs(xml, 'lxml')\n",
    "    dagsordenpunkter = soup.find_all(\"dagsordenpunkt\") # liste med dagsordenpunkter\n",
    "    #print(f\"Antal dagsordenpunkter: {len(dagsordenpunkter)}\")\n",
    "    \n",
    "    for dp in dagsordenpunkter: # find raw xml-sætninger for hvert dagsordenpunkt\n",
    "        sentences_raw = dp.find_all(\"linea\") # liste med raw sætninger \n",
    "        #print(f\"Antal sentences_raw: {len(sentences_raw)}\")\n",
    "        \n",
    "        sentences_text = []\n",
    "        \n",
    "        for sr in sentences_raw: # for hver raw sætning, kør .text af sætningen\n",
    "            sentences_text.append(sr.get_text(separator = ' ')) # gem clean sætninger til liste\n",
    "        \n",
    "        content.append(' '.join(sentences_text).strip()) # join, strip og append clean sætninger til liste\n",
    "        #print(f\"Antal content: {len(content)}\")\n",
    "\n",
    "    return None"
   ]
  },
  {
   "cell_type": "markdown",
   "id": "f03da44d",
   "metadata": {},
   "source": [
    "# Sample run"
   ]
  },
  {
   "cell_type": "code",
   "execution_count": 13,
   "id": "a7ecd9c4",
   "metadata": {
    "scrolled": false
   },
   "outputs": [],
   "source": [
    "xml_sample = raw_xml_list[0:1]"
   ]
  },
  {
   "cell_type": "code",
   "execution_count": null,
   "id": "dce81e37",
   "metadata": {},
   "outputs": [],
   "source": [
    "for xml in xml_sample: \n",
    "    extract_metadata(xml) # meta"
   ]
  },
  {
   "cell_type": "code",
   "execution_count": 38,
   "id": "2783aa30",
   "metadata": {
    "scrolled": true
   },
   "outputs": [
    {
     "name": "stderr",
     "output_type": "stream",
     "text": [
      "100%|██████████| 1/1 [00:02<00:00,  2.00s/it]\n"
     ]
    }
   ],
   "source": [
    "for xml in tqdm.tqdm(xml_sample): \n",
    "    extract_content(xml) # content"
   ]
  },
  {
   "cell_type": "code",
   "execution_count": 39,
   "id": "535f3db7",
   "metadata": {},
   "outputs": [
    {
     "data": {
      "text/plain": [
       "'Meddelelser fra formanden Tredje næstformand  (Holger K. Nielsen) Mødet er åbnet. Finansudvalget har afgivet: Betænkning og indstilling vedrørende forslag til folketingsbeslutning i henhold til grundlovens § 47 med hensyn til statsregnskabet for finansåret 2008. (Beslutningsforslag nr. B 248). Betænkningen og indstillingen vil fremgå af www.folketingstidende.dk.'"
      ]
     },
     "execution_count": 39,
     "metadata": {},
     "output_type": "execute_result"
    }
   ],
   "source": []
  },
  {
   "cell_type": "markdown",
   "id": "ae9c68d4",
   "metadata": {},
   "source": [
    "# Full run"
   ]
  },
  {
   "cell_type": "code",
   "execution_count": 53,
   "id": "a3b62df8",
   "metadata": {},
   "outputs": [],
   "source": [
    "# empty lists (columns)\n",
    "date = []\n",
    "content = []\n",
    "meetingnumber = []\n",
    "session = []\n",
    "group = []\n",
    "location = []\n",
    "path = []"
   ]
  },
  {
   "cell_type": "code",
   "execution_count": 54,
   "id": "597a2cf5",
   "metadata": {},
   "outputs": [
    {
     "name": "stderr",
     "output_type": "stream",
     "text": [
      "100%|██████████| 1489/1489 [10:18<00:00,  2.41it/s]\n"
     ]
    }
   ],
   "source": [
    "for xml in tqdm.tqdm(raw_xml_list): \n",
    "    extract_metadata(xml)"
   ]
  },
  {
   "cell_type": "code",
   "execution_count": 55,
   "id": "55dc2eef",
   "metadata": {},
   "outputs": [
    {
     "name": "stderr",
     "output_type": "stream",
     "text": [
      "100%|██████████| 1489/1489 [10:56<00:00,  2.27it/s]\n"
     ]
    }
   ],
   "source": [
    "for xml in tqdm.tqdm(raw_xml_list): \n",
    "    extract_content(xml)"
   ]
  },
  {
   "cell_type": "code",
   "execution_count": 56,
   "id": "518de4c4",
   "metadata": {
    "scrolled": true
   },
   "outputs": [
    {
     "name": "stderr",
     "output_type": "stream",
     "text": [
      "100%|██████████| 1489/1489 [09:59<00:00,  2.48it/s]\n"
     ]
    }
   ],
   "source": [
    "extract_path(tqdm.tqdm(raw_xml_list))"
   ]
  },
  {
   "cell_type": "markdown",
   "id": "b58f2b5c",
   "metadata": {},
   "source": [
    "### title kladdder"
   ]
  },
  {
   "cell_type": "code",
   "execution_count": null,
   "id": "f3c95795",
   "metadata": {
    "scrolled": true
   },
   "outputs": [],
   "source": [
    "soup = bs(sample1, 'lxml')\n",
    "test = soup.find(\"punkttekst\").find_all(\"char\")\n",
    "test"
   ]
  },
  {
   "cell_type": "code",
   "execution_count": null,
   "id": "6b47a867",
   "metadata": {},
   "outputs": [],
   "source": [
    "sample1 = raw_xml_list[0]"
   ]
  },
  {
   "cell_type": "code",
   "execution_count": null,
   "id": "3b4b600c",
   "metadata": {
    "scrolled": true
   },
   "outputs": [],
   "source": [
    "sample1 = raw_xml_list[0]\n",
    "soup = bs(sample1, 'lxml')"
   ]
  },
  {
   "cell_type": "markdown",
   "id": "f52ae909",
   "metadata": {},
   "source": [
    "# Make DataFrame"
   ]
  },
  {
   "cell_type": "code",
   "execution_count": 67,
   "id": "1452c96c",
   "metadata": {
    "scrolled": true
   },
   "outputs": [],
   "source": [
    "df = pd.DataFrame([session, meetingnumber, date, location, group, content, path]).transpose()\n",
    "df.columns = ['session', 'meetingnumber', 'date', 'location', 'group', 'content', 'path']"
   ]
  },
  {
   "cell_type": "code",
   "execution_count": 68,
   "id": "891f9da1",
   "metadata": {
    "scrolled": true
   },
   "outputs": [
    {
     "data": {
      "text/html": [
       "<div>\n",
       "<style scoped>\n",
       "    .dataframe tbody tr th:only-of-type {\n",
       "        vertical-align: middle;\n",
       "    }\n",
       "\n",
       "    .dataframe tbody tr th {\n",
       "        vertical-align: top;\n",
       "    }\n",
       "\n",
       "    .dataframe thead th {\n",
       "        text-align: right;\n",
       "    }\n",
       "</style>\n",
       "<table border=\"1\" class=\"dataframe\">\n",
       "  <thead>\n",
       "    <tr style=\"text-align: right;\">\n",
       "      <th></th>\n",
       "      <th>session</th>\n",
       "      <th>meetingnumber</th>\n",
       "      <th>date</th>\n",
       "      <th>location</th>\n",
       "      <th>group</th>\n",
       "      <th>content</th>\n",
       "      <th>path</th>\n",
       "    </tr>\n",
       "  </thead>\n",
       "  <tbody>\n",
       "    <tr>\n",
       "      <th>0</th>\n",
       "      <td>20091</td>\n",
       "      <td>100</td>\n",
       "      <td>2010-05-31</td>\n",
       "      <td>Folketingssalen</td>\n",
       "      <td>Folketinget</td>\n",
       "      <td>Meddelelser fra formanden Tredje næstformand  ...</td>\n",
       "      <td>/ODAXML/Referat/samling/20091/20091_M100_helem...</td>\n",
       "    </tr>\n",
       "    <tr>\n",
       "      <th>1</th>\n",
       "      <td>20091</td>\n",
       "      <td>100</td>\n",
       "      <td>2010-05-31</td>\n",
       "      <td>Folketingssalen</td>\n",
       "      <td>Folketinget</td>\n",
       "      <td>Det første punkt på dagsordenen er: 1) 1. beha...</td>\n",
       "      <td>/ODAXML/Referat/samling/20091/20091_M100_helem...</td>\n",
       "    </tr>\n",
       "    <tr>\n",
       "      <th>2</th>\n",
       "      <td>20091</td>\n",
       "      <td>100</td>\n",
       "      <td>2010-05-31</td>\n",
       "      <td>Folketingssalen</td>\n",
       "      <td>Folketinget</td>\n",
       "      <td>Det næste punkt på dagsordenen er: 2) 1. behan...</td>\n",
       "      <td>/ODAXML/Referat/samling/20091/20091_M100_helem...</td>\n",
       "    </tr>\n",
       "    <tr>\n",
       "      <th>3</th>\n",
       "      <td>20091</td>\n",
       "      <td>100</td>\n",
       "      <td>2010-05-31</td>\n",
       "      <td>Folketingssalen</td>\n",
       "      <td>Folketinget</td>\n",
       "      <td>Det næste punkt på dagsordenen er: 3) 1. behan...</td>\n",
       "      <td>/ODAXML/Referat/samling/20091/20091_M100_helem...</td>\n",
       "    </tr>\n",
       "    <tr>\n",
       "      <th>4</th>\n",
       "      <td>20091</td>\n",
       "      <td>100</td>\n",
       "      <td>2010-05-31</td>\n",
       "      <td>Folketingssalen</td>\n",
       "      <td>Folketinget</td>\n",
       "      <td>Det næste punkt på dagsordenen er: 4) 1. behan...</td>\n",
       "      <td>/ODAXML/Referat/samling/20091/20091_M100_helem...</td>\n",
       "    </tr>\n",
       "    <tr>\n",
       "      <th>...</th>\n",
       "      <td>...</td>\n",
       "      <td>...</td>\n",
       "      <td>...</td>\n",
       "      <td>...</td>\n",
       "      <td>...</td>\n",
       "      <td>...</td>\n",
       "      <td>...</td>\n",
       "    </tr>\n",
       "    <tr>\n",
       "      <th>16684</th>\n",
       "      <td>20211</td>\n",
       "      <td>9</td>\n",
       "      <td>2021-10-26</td>\n",
       "      <td>Folketingssalen</td>\n",
       "      <td>Folketinget</td>\n",
       "      <td>Det næste punkt på dagsordenen er: 4) 1. behan...</td>\n",
       "      <td>/ODAXML/Referat/samling/20211/20211_M9_helemoe...</td>\n",
       "    </tr>\n",
       "    <tr>\n",
       "      <th>16685</th>\n",
       "      <td>20211</td>\n",
       "      <td>9</td>\n",
       "      <td>2021-10-26</td>\n",
       "      <td>Folketingssalen</td>\n",
       "      <td>Folketinget</td>\n",
       "      <td>Det næste punkt på dagsordenen er: 5) 1. behan...</td>\n",
       "      <td>/ODAXML/Referat/samling/20211/20211_M9_helemoe...</td>\n",
       "    </tr>\n",
       "    <tr>\n",
       "      <th>16686</th>\n",
       "      <td>20211</td>\n",
       "      <td>9</td>\n",
       "      <td>2021-10-26</td>\n",
       "      <td>Folketingssalen</td>\n",
       "      <td>Folketinget</td>\n",
       "      <td>Det næste punkt på dagsordenen er: 6) 1. behan...</td>\n",
       "      <td>/ODAXML/Referat/samling/20211/20211_M9_helemoe...</td>\n",
       "    </tr>\n",
       "    <tr>\n",
       "      <th>16687</th>\n",
       "      <td>20211</td>\n",
       "      <td>9</td>\n",
       "      <td>2021-10-26</td>\n",
       "      <td>Folketingssalen</td>\n",
       "      <td>Folketinget</td>\n",
       "      <td>Det sidste punkt på dagsordenen er: 7) 1. beha...</td>\n",
       "      <td>/ODAXML/Referat/samling/20211/20211_M9_helemoe...</td>\n",
       "    </tr>\n",
       "    <tr>\n",
       "      <th>16688</th>\n",
       "      <td>20211</td>\n",
       "      <td>9</td>\n",
       "      <td>2021-10-26</td>\n",
       "      <td>Folketingssalen</td>\n",
       "      <td>Folketinget</td>\n",
       "      <td>Meddelelser fra formanden Første næstformand  ...</td>\n",
       "      <td>/ODAXML/Referat/samling/20211/20211_M9_helemoe...</td>\n",
       "    </tr>\n",
       "  </tbody>\n",
       "</table>\n",
       "<p>16689 rows × 7 columns</p>\n",
       "</div>"
      ],
      "text/plain": [
       "      session meetingnumber        date         location        group  \\\n",
       "0       20091           100  2010-05-31  Folketingssalen  Folketinget   \n",
       "1       20091           100  2010-05-31  Folketingssalen  Folketinget   \n",
       "2       20091           100  2010-05-31  Folketingssalen  Folketinget   \n",
       "3       20091           100  2010-05-31  Folketingssalen  Folketinget   \n",
       "4       20091           100  2010-05-31  Folketingssalen  Folketinget   \n",
       "...       ...           ...         ...              ...          ...   \n",
       "16684   20211             9  2021-10-26  Folketingssalen  Folketinget   \n",
       "16685   20211             9  2021-10-26  Folketingssalen  Folketinget   \n",
       "16686   20211             9  2021-10-26  Folketingssalen  Folketinget   \n",
       "16687   20211             9  2021-10-26  Folketingssalen  Folketinget   \n",
       "16688   20211             9  2021-10-26  Folketingssalen  Folketinget   \n",
       "\n",
       "                                                 content  \\\n",
       "0      Meddelelser fra formanden Tredje næstformand  ...   \n",
       "1      Det første punkt på dagsordenen er: 1) 1. beha...   \n",
       "2      Det næste punkt på dagsordenen er: 2) 1. behan...   \n",
       "3      Det næste punkt på dagsordenen er: 3) 1. behan...   \n",
       "4      Det næste punkt på dagsordenen er: 4) 1. behan...   \n",
       "...                                                  ...   \n",
       "16684  Det næste punkt på dagsordenen er: 4) 1. behan...   \n",
       "16685  Det næste punkt på dagsordenen er: 5) 1. behan...   \n",
       "16686  Det næste punkt på dagsordenen er: 6) 1. behan...   \n",
       "16687  Det sidste punkt på dagsordenen er: 7) 1. beha...   \n",
       "16688  Meddelelser fra formanden Første næstformand  ...   \n",
       "\n",
       "                                                    path  \n",
       "0      /ODAXML/Referat/samling/20091/20091_M100_helem...  \n",
       "1      /ODAXML/Referat/samling/20091/20091_M100_helem...  \n",
       "2      /ODAXML/Referat/samling/20091/20091_M100_helem...  \n",
       "3      /ODAXML/Referat/samling/20091/20091_M100_helem...  \n",
       "4      /ODAXML/Referat/samling/20091/20091_M100_helem...  \n",
       "...                                                  ...  \n",
       "16684  /ODAXML/Referat/samling/20211/20211_M9_helemoe...  \n",
       "16685  /ODAXML/Referat/samling/20211/20211_M9_helemoe...  \n",
       "16686  /ODAXML/Referat/samling/20211/20211_M9_helemoe...  \n",
       "16687  /ODAXML/Referat/samling/20211/20211_M9_helemoe...  \n",
       "16688  /ODAXML/Referat/samling/20211/20211_M9_helemoe...  \n",
       "\n",
       "[16689 rows x 7 columns]"
      ]
     },
     "execution_count": 68,
     "metadata": {},
     "output_type": "execute_result"
    }
   ],
   "source": [
    "df"
   ]
  },
  {
   "cell_type": "markdown",
   "id": "72ac1249",
   "metadata": {},
   "source": [
    "# Examining the empty content rows "
   ]
  },
  {
   "cell_type": "markdown",
   "id": "fff8d2df",
   "metadata": {},
   "source": [
    "# Save df to csv"
   ]
  },
  {
   "cell_type": "code",
   "execution_count": 69,
   "id": "6d668a23",
   "metadata": {},
   "outputs": [],
   "source": [
    "df.to_csv('FT.csv', index = False)"
   ]
  },
  {
   "cell_type": "code",
   "execution_count": 70,
   "id": "b171ee3a",
   "metadata": {},
   "outputs": [],
   "source": [
    "df = pd.read_csv('FT.csv')"
   ]
  },
  {
   "cell_type": "markdown",
   "id": "70723110",
   "metadata": {},
   "source": []
  },
  {
   "cell_type": "code",
   "execution_count": 81,
   "id": "eb08e10b",
   "metadata": {},
   "outputs": [],
   "source": [
    "stopwords = ['er', 'og', 'der', 'på']"
   ]
  },
  {
   "cell_type": "code",
   "execution_count": 86,
   "id": "a5095300",
   "metadata": {},
   "outputs": [
    {
     "data": {
      "text/plain": [
       "16689"
      ]
     },
     "execution_count": 86,
     "metadata": {},
     "output_type": "execute_result"
    }
   ],
   "source": [
    "len(df['content'])"
   ]
  },
  {
   "cell_type": "code",
   "execution_count": 96,
   "id": "a650792d",
   "metadata": {},
   "outputs": [],
   "source": [
    "sample = df[0:3]"
   ]
  },
  {
   "cell_type": "code",
   "execution_count": 95,
   "id": "f4f8aec3",
   "metadata": {},
   "outputs": [
    {
     "data": {
      "text/html": [
       "<div>\n",
       "<style scoped>\n",
       "    .dataframe tbody tr th:only-of-type {\n",
       "        vertical-align: middle;\n",
       "    }\n",
       "\n",
       "    .dataframe tbody tr th {\n",
       "        vertical-align: top;\n",
       "    }\n",
       "\n",
       "    .dataframe thead th {\n",
       "        text-align: right;\n",
       "    }\n",
       "</style>\n",
       "<table border=\"1\" class=\"dataframe\">\n",
       "  <thead>\n",
       "    <tr style=\"text-align: right;\">\n",
       "      <th></th>\n",
       "      <th>session</th>\n",
       "      <th>meetingnumber</th>\n",
       "      <th>date</th>\n",
       "      <th>location</th>\n",
       "      <th>group</th>\n",
       "      <th>content</th>\n",
       "      <th>path</th>\n",
       "    </tr>\n",
       "  </thead>\n",
       "  <tbody>\n",
       "    <tr>\n",
       "      <th>0</th>\n",
       "      <td>20091</td>\n",
       "      <td>100</td>\n",
       "      <td>2010-05-31</td>\n",
       "      <td>Folketingssalen</td>\n",
       "      <td>Folketinget</td>\n",
       "      <td>Meddelelser fra formanden Tredje næstformand  ...</td>\n",
       "      <td>/ODAXML/Referat/samling/20091/20091_M100_helem...</td>\n",
       "    </tr>\n",
       "    <tr>\n",
       "      <th>1</th>\n",
       "      <td>20091</td>\n",
       "      <td>100</td>\n",
       "      <td>2010-05-31</td>\n",
       "      <td>Folketingssalen</td>\n",
       "      <td>Folketinget</td>\n",
       "      <td>Det første punkt på dagsordenen er: 1) 1. beha...</td>\n",
       "      <td>/ODAXML/Referat/samling/20091/20091_M100_helem...</td>\n",
       "    </tr>\n",
       "    <tr>\n",
       "      <th>2</th>\n",
       "      <td>20091</td>\n",
       "      <td>100</td>\n",
       "      <td>2010-05-31</td>\n",
       "      <td>Folketingssalen</td>\n",
       "      <td>Folketinget</td>\n",
       "      <td>Det næste punkt på dagsordenen er: 2) 1. behan...</td>\n",
       "      <td>/ODAXML/Referat/samling/20091/20091_M100_helem...</td>\n",
       "    </tr>\n",
       "  </tbody>\n",
       "</table>\n",
       "</div>"
      ],
      "text/plain": [
       "   session  meetingnumber        date         location        group  \\\n",
       "0    20091            100  2010-05-31  Folketingssalen  Folketinget   \n",
       "1    20091            100  2010-05-31  Folketingssalen  Folketinget   \n",
       "2    20091            100  2010-05-31  Folketingssalen  Folketinget   \n",
       "\n",
       "                                             content  \\\n",
       "0  Meddelelser fra formanden Tredje næstformand  ...   \n",
       "1  Det første punkt på dagsordenen er: 1) 1. beha...   \n",
       "2  Det næste punkt på dagsordenen er: 2) 1. behan...   \n",
       "\n",
       "                                                path  \n",
       "0  /ODAXML/Referat/samling/20091/20091_M100_helem...  \n",
       "1  /ODAXML/Referat/samling/20091/20091_M100_helem...  \n",
       "2  /ODAXML/Referat/samling/20091/20091_M100_helem...  "
      ]
     },
     "execution_count": 95,
     "metadata": {},
     "output_type": "execute_result"
    }
   ],
   "source": [
    "sample"
   ]
  },
  {
   "cell_type": "code",
   "execution_count": 125,
   "id": "f98be1d1",
   "metadata": {},
   "outputs": [],
   "source": [
    "## converts lists of list to ONE list: import itertools; list(itertools.chain(*mylist))"
   ]
  },
  {
   "cell_type": "code",
   "execution_count": null,
   "id": "011ce986",
   "metadata": {},
   "outputs": [],
   "source": []
  },
  {
   "cell_type": "code",
   "execution_count": null,
   "id": "daa99276",
   "metadata": {},
   "outputs": [],
   "source": []
  },
  {
   "cell_type": "code",
   "execution_count": null,
   "id": "e87d4aae",
   "metadata": {},
   "outputs": [],
   "source": []
  }
 ],
 "metadata": {
  "kernelspec": {
   "display_name": "Python 3",
   "language": "python",
   "name": "python3"
  },
  "language_info": {
   "codemirror_mode": {
    "name": "ipython",
    "version": 3
   },
   "file_extension": ".py",
   "mimetype": "text/x-python",
   "name": "python",
   "nbconvert_exporter": "python",
   "pygments_lexer": "ipython3",
   "version": "3.8.8"
  }
 },
 "nbformat": 4,
 "nbformat_minor": 5
}
