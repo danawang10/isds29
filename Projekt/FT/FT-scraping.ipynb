{
 "cells": [
  {
   "cell_type": "markdown",
   "id": "2755d5bf",
   "metadata": {},
   "source": [
    "# Scraping af FT"
   ]
  },
  {
   "cell_type": "code",
   "execution_count": 126,
   "id": "cdacc08b",
   "metadata": {},
   "outputs": [],
   "source": [
    "from bs4 import BeautifulSoup as bs\n",
    "import re \n",
    "import os\n",
    "import lxml\n",
    "import xml.etree.ElementTree as ET\n",
    "from lxml import objectify\n",
    "from datetime import datetime\n",
    "import numpy as np \n",
    "import pandas as pd \n",
    "import requests\n",
    "import ftplib\n",
    "from io import BytesIO\n",
    "import tqdm"
   ]
  },
  {
   "cell_type": "markdown",
   "id": "755a0a95",
   "metadata": {},
   "source": [
    "### Prepare to load data"
   ]
  },
  {
   "cell_type": "code",
   "execution_count": 127,
   "id": "6fd2856b",
   "metadata": {},
   "outputs": [],
   "source": [
    "ftp_url = \"oda.ft.dk\"\n",
    "ftp_dir = \"/ODAXML/Referat/samling/\""
   ]
  },
  {
   "cell_type": "markdown",
   "id": "de8ab18d",
   "metadata": {},
   "source": [
    "\n",
    "##### Tomme lister"
   ]
  },
  {
   "cell_type": "code",
   "execution_count": 128,
   "id": "a743493f",
   "metadata": {},
   "outputs": [],
   "source": [
    "dirs = []\n",
    "sub_dir = []\n",
    "files = []\n",
    "file_name = []\n",
    "paths = []\n",
    "raw_xml_list = []\n",
    "\n",
    "suppe = []"
   ]
  },
  {
   "cell_type": "markdown",
   "id": "ef71dc66",
   "metadata": {},
   "source": [
    "### Login til ftp serveren og henter en liste over biblioteker"
   ]
  },
  {
   "cell_type": "code",
   "execution_count": 129,
   "id": "02ee869a",
   "metadata": {},
   "outputs": [],
   "source": [
    "ftp = ftplib.FTP(ftp_url)\n",
    "ftp.login(\"anonymous\", \"wpg345@alumni.ku.dk\")\n",
    "ftp.set_pasv(True)\n",
    "ftp.cwd(ftp_dir)\n",
    "ftp.dir(dirs.append)"
   ]
  },
  {
   "cell_type": "markdown",
   "id": "51b4e392",
   "metadata": {},
   "source": [
    "### Bygger en liste med underbibliotekter"
   ]
  },
  {
   "cell_type": "code",
   "execution_count": 130,
   "id": "96aafef1",
   "metadata": {},
   "outputs": [],
   "source": [
    "for i in range (0, len(dirs), 1):\n",
    "    sub_dir.append(ftp_dir+dirs[i][-5:]+'/') "
   ]
  },
  {
   "cell_type": "markdown",
   "id": "b34144ce",
   "metadata": {},
   "source": [
    "### Bygger en liste med filnavne"
   ]
  },
  {
   "cell_type": "code",
   "execution_count": 131,
   "id": "7c846be2",
   "metadata": {},
   "outputs": [],
   "source": [
    "for i in range (0, len(sub_dir), 1):\n",
    "    ftp.cwd(sub_dir[i])\n",
    "    ftp.dir(files.append)"
   ]
  },
  {
   "cell_type": "markdown",
   "id": "692d966e",
   "metadata": {},
   "source": [
    "### Ekstrakt af filnavn"
   ]
  },
  {
   "cell_type": "code",
   "execution_count": 132,
   "id": "38cdb590",
   "metadata": {},
   "outputs": [],
   "source": [
    "for i in range(0, len(files)):\n",
    "    file_name.append(files[i][39:])"
   ]
  },
  {
   "cell_type": "markdown",
   "id": "1d9ede56",
   "metadata": {},
   "source": [
    "### Opbygning af hele stien og filnavn"
   ]
  },
  {
   "cell_type": "code",
   "execution_count": 133,
   "id": "61204a75",
   "metadata": {},
   "outputs": [],
   "source": [
    "for i in range(0, len(file_name)):\n",
    "    paths.append(ftp_dir+file_name[i][0:5]+'/'+file_name[i])"
   ]
  },
  {
   "cell_type": "markdown",
   "id": "33938698",
   "metadata": {},
   "source": [
    "### Overførsel af de enkelte filer fra ftp://oda.ft.dk, og raw_xml skrives til liste"
   ]
  },
  {
   "cell_type": "code",
   "execution_count": 134,
   "id": "c822719c",
   "metadata": {},
   "outputs": [
    {
     "name": "stderr",
     "output_type": "stream",
     "text": [
      "100%|██████████| 1489/1489 [03:15<00:00,  7.63it/s]\n"
     ]
    }
   ],
   "source": [
    "for i in tqdm.tqdm(range(0, len(paths))):\n",
    "    r = BytesIO()\n",
    "    ftp.retrbinary(f\"RETR {paths[i]}\", r.write)\n",
    "    raw_xml_list.append(r.getvalue())\n",
    "    r.close()"
   ]
  },
  {
   "cell_type": "markdown",
   "id": "6ed9d674",
   "metadata": {},
   "source": [
    "# Define metadata function"
   ]
  },
  {
   "cell_type": "code",
   "execution_count": 135,
   "id": "69938dc6",
   "metadata": {},
   "outputs": [],
   "source": [
    "def extract_metadata(xml): \n",
    "    soup = bs(xml, 'lxml')\n",
    "    \n",
    "    d = soup.find(\"dateofsitting\").text[:10]\n",
    "    m = soup.find(\"meetingnumber\").text\n",
    "    s = soup.find(\"parliamentarysession\").text\n",
    "    g = soup.find(\"parliamentarygroup\").text\n",
    "    l = soup.find(\"location\").text\n",
    "    \n",
    "    \n",
    "    repeats = len(soup.find_all(\"dagsordenpunkt\"))\n",
    "    \n",
    "    for repeat in range(0, repeats):\n",
    "        date.append(d)\n",
    "        meetingnumber.append(m)\n",
    "        session.append(s)\n",
    "        group.append(g)\n",
    "        location.append(l)"
   ]
  },
  {
   "cell_type": "code",
   "execution_count": 139,
   "id": "a3b62df8",
   "metadata": {},
   "outputs": [],
   "source": [
    "# empty lists (columns)\n",
    "date = []\n",
    "content = []\n",
    "meetingnumber = []\n",
    "session = []\n",
    "group = []\n",
    "location = []"
   ]
  },
  {
   "cell_type": "markdown",
   "id": "d444d942",
   "metadata": {},
   "source": [
    "# Define content function "
   ]
  },
  {
   "cell_type": "code",
   "execution_count": 140,
   "id": "abbaa76b",
   "metadata": {},
   "outputs": [],
   "source": [
    "def extract_content(xml):\n",
    "    soup = bs(xml, 'lxml')\n",
    "    \n",
    "    dp = soup.find_all(\"dagsordenpunkt\")\n",
    "    \n",
    "    for punkt in range(0, len(dp)):\n",
    "        content.append(dp[punkt].get_text(separator = ' '))"
   ]
  },
  {
   "cell_type": "markdown",
   "id": "f03da44d",
   "metadata": {},
   "source": [
    "# Sample run"
   ]
  },
  {
   "cell_type": "code",
   "execution_count": 137,
   "id": "a7ecd9c4",
   "metadata": {},
   "outputs": [],
   "source": [
    "'''\n",
    "xml_sample = raw_xml_list[0:5]\n",
    "\n",
    "for xml in xml_sample: \n",
    "    extract_metadata(xml)\n",
    "\n",
    "for xml in xml_sample: \n",
    "    extract_content(xml)\n",
    "'''"
   ]
  },
  {
   "cell_type": "markdown",
   "id": "ae9c68d4",
   "metadata": {},
   "source": [
    "# Full run"
   ]
  },
  {
   "cell_type": "code",
   "execution_count": 143,
   "id": "518de4c4",
   "metadata": {
    "scrolled": false
   },
   "outputs": [
    {
     "name": "stderr",
     "output_type": "stream",
     "text": [
      "100%|██████████| 1489/1489 [16:27<00:00,  1.51it/s]\n"
     ]
    }
   ],
   "source": [
    "for xml in tqdm.tqdm(raw_xml_list): \n",
    "    extract_metadata(xml)\n",
    "    extract_content(xml)"
   ]
  },
  {
   "cell_type": "markdown",
   "id": "f52ae909",
   "metadata": {},
   "source": [
    "# Make DataFrame"
   ]
  },
  {
   "cell_type": "code",
   "execution_count": 165,
   "id": "1452c96c",
   "metadata": {
    "scrolled": true
   },
   "outputs": [],
   "source": [
    "df = pd.DataFrame([date, content, meetingnumber, session, group, location]).transpose()\n",
    "df.columns = ['date', 'content', 'meetingnumber', 'session', 'group', 'location']"
   ]
  },
  {
   "cell_type": "code",
   "execution_count": 171,
   "id": "891f9da1",
   "metadata": {},
   "outputs": [
    {
     "data": {
      "text/html": [
       "<div>\n",
       "<style scoped>\n",
       "    .dataframe tbody tr th:only-of-type {\n",
       "        vertical-align: middle;\n",
       "    }\n",
       "\n",
       "    .dataframe tbody tr th {\n",
       "        vertical-align: top;\n",
       "    }\n",
       "\n",
       "    .dataframe thead th {\n",
       "        text-align: right;\n",
       "    }\n",
       "</style>\n",
       "<table border=\"1\" class=\"dataframe\">\n",
       "  <thead>\n",
       "    <tr style=\"text-align: right;\">\n",
       "      <th></th>\n",
       "      <th>date</th>\n",
       "      <th>content</th>\n",
       "      <th>meetingnumber</th>\n",
       "      <th>session</th>\n",
       "      <th>group</th>\n",
       "      <th>location</th>\n",
       "    </tr>\n",
       "  </thead>\n",
       "  <tbody>\n",
       "    <tr>\n",
       "      <th>0</th>\n",
       "      <td>2010-05-31</td>\n",
       "      <td>0 FM Punkt 0 Meddelelser fra formanden Holger ...</td>\n",
       "      <td>100</td>\n",
       "      <td>20091</td>\n",
       "      <td>Folketinget</td>\n",
       "      <td>Folketingssalen</td>\n",
       "    </tr>\n",
       "    <tr>\n",
       "      <th>1</th>\n",
       "      <td>2010-05-31</td>\n",
       "      <td>1 222 L BEH1 1. behandling af L 222: Om nedsæt...</td>\n",
       "      <td>100</td>\n",
       "      <td>20091</td>\n",
       "      <td>Folketinget</td>\n",
       "      <td>Folketingssalen</td>\n",
       "    </tr>\n",
       "    <tr>\n",
       "      <th>2</th>\n",
       "      <td>2010-05-31</td>\n",
       "      <td>2 218 L BEH1 1. behandling af L 218: Om nedsæt...</td>\n",
       "      <td>100</td>\n",
       "      <td>20091</td>\n",
       "      <td>Folketinget</td>\n",
       "      <td>Folketingssalen</td>\n",
       "    </tr>\n",
       "    <tr>\n",
       "      <th>3</th>\n",
       "      <td>2010-05-31</td>\n",
       "      <td>3 219 L BEH1 1. behandling af L 219: Om forhøj...</td>\n",
       "      <td>100</td>\n",
       "      <td>20091</td>\n",
       "      <td>Folketinget</td>\n",
       "      <td>Folketingssalen</td>\n",
       "    </tr>\n",
       "    <tr>\n",
       "      <th>4</th>\n",
       "      <td>2010-05-31</td>\n",
       "      <td>4 223 L BEH1 1. behandling af L 223: Om staten...</td>\n",
       "      <td>100</td>\n",
       "      <td>20091</td>\n",
       "      <td>Folketinget</td>\n",
       "      <td>Folketingssalen</td>\n",
       "    </tr>\n",
       "    <tr>\n",
       "      <th>...</th>\n",
       "      <td>...</td>\n",
       "      <td>...</td>\n",
       "      <td>...</td>\n",
       "      <td>...</td>\n",
       "      <td>...</td>\n",
       "      <td>...</td>\n",
       "    </tr>\n",
       "    <tr>\n",
       "      <th>16762</th>\n",
       "      <td>2021-10-26</td>\n",
       "      <td>None</td>\n",
       "      <td>9</td>\n",
       "      <td>20211</td>\n",
       "      <td>Folketinget</td>\n",
       "      <td>Folketingssalen</td>\n",
       "    </tr>\n",
       "    <tr>\n",
       "      <th>16763</th>\n",
       "      <td>2021-10-26</td>\n",
       "      <td>None</td>\n",
       "      <td>9</td>\n",
       "      <td>20211</td>\n",
       "      <td>Folketinget</td>\n",
       "      <td>Folketingssalen</td>\n",
       "    </tr>\n",
       "    <tr>\n",
       "      <th>16764</th>\n",
       "      <td>2021-10-26</td>\n",
       "      <td>None</td>\n",
       "      <td>9</td>\n",
       "      <td>20211</td>\n",
       "      <td>Folketinget</td>\n",
       "      <td>Folketingssalen</td>\n",
       "    </tr>\n",
       "    <tr>\n",
       "      <th>16765</th>\n",
       "      <td>2021-10-26</td>\n",
       "      <td>None</td>\n",
       "      <td>9</td>\n",
       "      <td>20211</td>\n",
       "      <td>Folketinget</td>\n",
       "      <td>Folketingssalen</td>\n",
       "    </tr>\n",
       "    <tr>\n",
       "      <th>16766</th>\n",
       "      <td>2021-10-26</td>\n",
       "      <td>None</td>\n",
       "      <td>9</td>\n",
       "      <td>20211</td>\n",
       "      <td>Folketinget</td>\n",
       "      <td>Folketingssalen</td>\n",
       "    </tr>\n",
       "  </tbody>\n",
       "</table>\n",
       "<p>16767 rows × 6 columns</p>\n",
       "</div>"
      ],
      "text/plain": [
       "             date                                            content  \\\n",
       "0      2010-05-31  0 FM Punkt 0 Meddelelser fra formanden Holger ...   \n",
       "1      2010-05-31  1 222 L BEH1 1. behandling af L 222: Om nedsæt...   \n",
       "2      2010-05-31  2 218 L BEH1 1. behandling af L 218: Om nedsæt...   \n",
       "3      2010-05-31  3 219 L BEH1 1. behandling af L 219: Om forhøj...   \n",
       "4      2010-05-31  4 223 L BEH1 1. behandling af L 223: Om staten...   \n",
       "...           ...                                                ...   \n",
       "16762  2021-10-26                                               None   \n",
       "16763  2021-10-26                                               None   \n",
       "16764  2021-10-26                                               None   \n",
       "16765  2021-10-26                                               None   \n",
       "16766  2021-10-26                                               None   \n",
       "\n",
       "      meetingnumber session        group         location  \n",
       "0               100   20091  Folketinget  Folketingssalen  \n",
       "1               100   20091  Folketinget  Folketingssalen  \n",
       "2               100   20091  Folketinget  Folketingssalen  \n",
       "3               100   20091  Folketinget  Folketingssalen  \n",
       "4               100   20091  Folketinget  Folketingssalen  \n",
       "...             ...     ...          ...              ...  \n",
       "16762             9   20211  Folketinget  Folketingssalen  \n",
       "16763             9   20211  Folketinget  Folketingssalen  \n",
       "16764             9   20211  Folketinget  Folketingssalen  \n",
       "16765             9   20211  Folketinget  Folketingssalen  \n",
       "16766             9   20211  Folketinget  Folketingssalen  \n",
       "\n",
       "[16767 rows x 6 columns]"
      ]
     },
     "execution_count": 171,
     "metadata": {},
     "output_type": "execute_result"
    }
   ],
   "source": [
    "df"
   ]
  },
  {
   "cell_type": "markdown",
   "id": "72ac1249",
   "metadata": {},
   "source": [
    "# Examining the empty content rows "
   ]
  },
  {
   "cell_type": "markdown",
   "id": "3372cb9d",
   "metadata": {},
   "source": [
    "De sidste 78 rækker har ingen content. Vi vil undersøge det nærmere i cleaning-delen. "
   ]
  },
  {
   "cell_type": "code",
   "execution_count": 170,
   "id": "b2d0868b",
   "metadata": {
    "scrolled": true
   },
   "outputs": [
    {
     "data": {
      "text/html": [
       "<div>\n",
       "<style scoped>\n",
       "    .dataframe tbody tr th:only-of-type {\n",
       "        vertical-align: middle;\n",
       "    }\n",
       "\n",
       "    .dataframe tbody tr th {\n",
       "        vertical-align: top;\n",
       "    }\n",
       "\n",
       "    .dataframe thead th {\n",
       "        text-align: right;\n",
       "    }\n",
       "</style>\n",
       "<table border=\"1\" class=\"dataframe\">\n",
       "  <thead>\n",
       "    <tr style=\"text-align: right;\">\n",
       "      <th></th>\n",
       "      <th>date</th>\n",
       "      <th>content</th>\n",
       "      <th>meetingnumber</th>\n",
       "      <th>session</th>\n",
       "      <th>group</th>\n",
       "      <th>location</th>\n",
       "    </tr>\n",
       "  </thead>\n",
       "  <tbody>\n",
       "    <tr>\n",
       "      <th>0</th>\n",
       "      <td>2010-05-31</td>\n",
       "      <td>0 FM Punkt 0 Meddelelser fra formanden Holger ...</td>\n",
       "      <td>100</td>\n",
       "      <td>20091</td>\n",
       "      <td>Folketinget</td>\n",
       "      <td>Folketingssalen</td>\n",
       "    </tr>\n",
       "    <tr>\n",
       "      <th>1</th>\n",
       "      <td>2010-05-31</td>\n",
       "      <td>1 222 L BEH1 1. behandling af L 222: Om nedsæt...</td>\n",
       "      <td>100</td>\n",
       "      <td>20091</td>\n",
       "      <td>Folketinget</td>\n",
       "      <td>Folketingssalen</td>\n",
       "    </tr>\n",
       "    <tr>\n",
       "      <th>2</th>\n",
       "      <td>2010-05-31</td>\n",
       "      <td>2 218 L BEH1 1. behandling af L 218: Om nedsæt...</td>\n",
       "      <td>100</td>\n",
       "      <td>20091</td>\n",
       "      <td>Folketinget</td>\n",
       "      <td>Folketingssalen</td>\n",
       "    </tr>\n",
       "    <tr>\n",
       "      <th>3</th>\n",
       "      <td>2010-05-31</td>\n",
       "      <td>3 219 L BEH1 1. behandling af L 219: Om forhøj...</td>\n",
       "      <td>100</td>\n",
       "      <td>20091</td>\n",
       "      <td>Folketinget</td>\n",
       "      <td>Folketingssalen</td>\n",
       "    </tr>\n",
       "    <tr>\n",
       "      <th>4</th>\n",
       "      <td>2010-05-31</td>\n",
       "      <td>4 223 L BEH1 1. behandling af L 223: Om staten...</td>\n",
       "      <td>100</td>\n",
       "      <td>20091</td>\n",
       "      <td>Folketinget</td>\n",
       "      <td>Folketingssalen</td>\n",
       "    </tr>\n",
       "    <tr>\n",
       "      <th>...</th>\n",
       "      <td>...</td>\n",
       "      <td>...</td>\n",
       "      <td>...</td>\n",
       "      <td>...</td>\n",
       "      <td>...</td>\n",
       "      <td>...</td>\n",
       "    </tr>\n",
       "    <tr>\n",
       "      <th>16684</th>\n",
       "      <td>2022-04-21</td>\n",
       "      <td>4 16 L BEH1 1. behandling af L 16: Om ændring ...</td>\n",
       "      <td>93</td>\n",
       "      <td>20211</td>\n",
       "      <td>Folketinget</td>\n",
       "      <td>Folketingssalen</td>\n",
       "    </tr>\n",
       "    <tr>\n",
       "      <th>16685</th>\n",
       "      <td>2022-04-21</td>\n",
       "      <td>5 27 L BEH1 1. behandling af L 27: Om forenkli...</td>\n",
       "      <td>94</td>\n",
       "      <td>20211</td>\n",
       "      <td>Folketinget</td>\n",
       "      <td>Folketingssalen</td>\n",
       "    </tr>\n",
       "    <tr>\n",
       "      <th>16686</th>\n",
       "      <td>2022-04-21</td>\n",
       "      <td>6 10 L BEH1 1. behandling af L 10: Om ophævels...</td>\n",
       "      <td>94</td>\n",
       "      <td>20211</td>\n",
       "      <td>Folketinget</td>\n",
       "      <td>Folketingssalen</td>\n",
       "    </tr>\n",
       "    <tr>\n",
       "      <th>16687</th>\n",
       "      <td>2022-04-21</td>\n",
       "      <td>7 11 L BEH1 1. behandling af L 11: Om tilpasni...</td>\n",
       "      <td>94</td>\n",
       "      <td>20211</td>\n",
       "      <td>Folketinget</td>\n",
       "      <td>Folketingssalen</td>\n",
       "    </tr>\n",
       "    <tr>\n",
       "      <th>16688</th>\n",
       "      <td>2022-04-21</td>\n",
       "      <td>0 FM Punkt 0 Meddelelser fra formanden Karen E...</td>\n",
       "      <td>94</td>\n",
       "      <td>20211</td>\n",
       "      <td>Folketinget</td>\n",
       "      <td>Folketingssalen</td>\n",
       "    </tr>\n",
       "  </tbody>\n",
       "</table>\n",
       "<p>16689 rows × 6 columns</p>\n",
       "</div>"
      ],
      "text/plain": [
       "             date                                            content  \\\n",
       "0      2010-05-31  0 FM Punkt 0 Meddelelser fra formanden Holger ...   \n",
       "1      2010-05-31  1 222 L BEH1 1. behandling af L 222: Om nedsæt...   \n",
       "2      2010-05-31  2 218 L BEH1 1. behandling af L 218: Om nedsæt...   \n",
       "3      2010-05-31  3 219 L BEH1 1. behandling af L 219: Om forhøj...   \n",
       "4      2010-05-31  4 223 L BEH1 1. behandling af L 223: Om staten...   \n",
       "...           ...                                                ...   \n",
       "16684  2022-04-21  4 16 L BEH1 1. behandling af L 16: Om ændring ...   \n",
       "16685  2022-04-21  5 27 L BEH1 1. behandling af L 27: Om forenkli...   \n",
       "16686  2022-04-21  6 10 L BEH1 1. behandling af L 10: Om ophævels...   \n",
       "16687  2022-04-21  7 11 L BEH1 1. behandling af L 11: Om tilpasni...   \n",
       "16688  2022-04-21  0 FM Punkt 0 Meddelelser fra formanden Karen E...   \n",
       "\n",
       "      meetingnumber session        group         location  \n",
       "0               100   20091  Folketinget  Folketingssalen  \n",
       "1               100   20091  Folketinget  Folketingssalen  \n",
       "2               100   20091  Folketinget  Folketingssalen  \n",
       "3               100   20091  Folketinget  Folketingssalen  \n",
       "4               100   20091  Folketinget  Folketingssalen  \n",
       "...             ...     ...          ...              ...  \n",
       "16684            93   20211  Folketinget  Folketingssalen  \n",
       "16685            94   20211  Folketinget  Folketingssalen  \n",
       "16686            94   20211  Folketinget  Folketingssalen  \n",
       "16687            94   20211  Folketinget  Folketingssalen  \n",
       "16688            94   20211  Folketinget  Folketingssalen  \n",
       "\n",
       "[16689 rows x 6 columns]"
      ]
     },
     "execution_count": 170,
     "metadata": {},
     "output_type": "execute_result"
    }
   ],
   "source": [
    "df[df['content'].notnull()]"
   ]
  },
  {
   "cell_type": "markdown",
   "id": "b30971bb",
   "metadata": {},
   "source": [
    "Metadata om de berørte rækker."
   ]
  },
  {
   "cell_type": "code",
   "execution_count": 176,
   "id": "ace00677",
   "metadata": {
    "scrolled": true
   },
   "outputs": [
    {
     "data": {
      "text/plain": [
       "array(['2022-04-21', '2022-04-22', '2022-04-25', '2022-04-26',\n",
       "       '2022-04-27', '2022-04-28', '2021-10-26'], dtype=object)"
      ]
     },
     "execution_count": 176,
     "metadata": {},
     "output_type": "execute_result"
    }
   ],
   "source": [
    "df.iloc[16689:].date.unique()"
   ]
  },
  {
   "cell_type": "code",
   "execution_count": 177,
   "id": "42489997",
   "metadata": {
    "scrolled": true
   },
   "outputs": [
    {
     "data": {
      "text/plain": [
       "array(['94', '95', '96', '97', '98', '99', '9'], dtype=object)"
      ]
     },
     "execution_count": 177,
     "metadata": {},
     "output_type": "execute_result"
    }
   ],
   "source": [
    "df.iloc[16689:].meetingnumber.unique()"
   ]
  },
  {
   "cell_type": "code",
   "execution_count": 178,
   "id": "ad7724c6",
   "metadata": {
    "scrolled": false
   },
   "outputs": [
    {
     "data": {
      "text/plain": [
       "array(['20211'], dtype=object)"
      ]
     },
     "execution_count": 178,
     "metadata": {},
     "output_type": "execute_result"
    }
   ],
   "source": [
    "df.iloc[16689:].session.unique()"
   ]
  },
  {
   "cell_type": "markdown",
   "id": "fff8d2df",
   "metadata": {},
   "source": [
    "# Save df to csv"
   ]
  },
  {
   "cell_type": "code",
   "execution_count": 164,
   "id": "6d668a23",
   "metadata": {},
   "outputs": [],
   "source": [
    "df.to_csv('FT.csv', index = False)"
   ]
  },
  {
   "cell_type": "code",
   "execution_count": null,
   "id": "b171ee3a",
   "metadata": {},
   "outputs": [],
   "source": []
  },
  {
   "cell_type": "code",
   "execution_count": null,
   "id": "a7b46b46",
   "metadata": {},
   "outputs": [],
   "source": []
  }
 ],
 "metadata": {
  "kernelspec": {
   "display_name": "Python 3",
   "language": "python",
   "name": "python3"
  },
  "language_info": {
   "codemirror_mode": {
    "name": "ipython",
    "version": 3
   },
   "file_extension": ".py",
   "mimetype": "text/x-python",
   "name": "python",
   "nbconvert_exporter": "python",
   "pygments_lexer": "ipython3",
   "version": "3.8.8"
  }
 },
 "nbformat": 4,
 "nbformat_minor": 5
}
