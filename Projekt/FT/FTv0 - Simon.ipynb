{
 "cells": [
  {
   "cell_type": "code",
   "execution_count": 6,
   "id": "5844d285",
   "metadata": {},
   "outputs": [],
   "source": [
    "import requests\n",
    "import ftplib\n",
    "import pandas as pd\n",
    "import numpy as np\n",
    "from bs4 import BeautifulSoup as bs"
   ]
  },
  {
   "cell_type": "code",
   "execution_count": 19,
   "id": "717c7b79",
   "metadata": {},
   "outputs": [],
   "source": [
    "ftp_url = \"oda.ft.dk\"\n",
    "ftp_dir = \"/ODAXML/Referat/samling/\"\n",
    "dirs = []"
   ]
  },
  {
   "cell_type": "code",
   "execution_count": 34,
   "id": "d1cf77dd",
   "metadata": {},
   "outputs": [
    {
     "data": {
      "text/plain": [
       "'10-20-18  11:21AM       <DIR>          20101'"
      ]
     },
     "execution_count": 34,
     "metadata": {},
     "output_type": "execute_result"
    }
   ],
   "source": [
    "ftp = ftplib.FTP(ftp_url)\n",
    "ftp.login(\"anonymous\", \"ftplib-example-1\")\n",
    "ftp.cwd(ftp_dir)\n",
    "ftp.dir(dirs.append)\n",
    "#ftp.quit()\n",
    "dirs\n",
    "dirs[1]"
   ]
  },
  {
   "cell_type": "code",
   "execution_count": null,
   "id": "4edc97f8",
   "metadata": {},
   "outputs": [],
   "source": []
  },
  {
   "cell_type": "code",
   "execution_count": null,
   "id": "77512aec",
   "metadata": {},
   "outputs": [],
   "source": []
  },
  {
   "cell_type": "code",
   "execution_count": 35,
   "id": "e41d2ca7",
   "metadata": {},
   "outputs": [
    {
     "ename": "TypeError",
     "evalue": "'list' object cannot be interpreted as an integer",
     "output_type": "error",
     "traceback": [
      "\u001b[1;31m---------------------------------------------------------------------------\u001b[0m",
      "\u001b[1;31mTypeError\u001b[0m                                 Traceback (most recent call last)",
      "\u001b[1;32m~\\AppData\\Local\\Temp/ipykernel_28564/886551198.py\u001b[0m in \u001b[0;36m<module>\u001b[1;34m\u001b[0m\n\u001b[0;32m      4\u001b[0m \u001b[1;31m#ftp.login(\"anonymous\", \"ftplib-example-1\")\u001b[0m\u001b[1;33m\u001b[0m\u001b[1;33m\u001b[0m\u001b[0m\n\u001b[0;32m      5\u001b[0m \u001b[1;33m\u001b[0m\u001b[0m\n\u001b[1;32m----> 6\u001b[1;33m \u001b[1;32mfor\u001b[0m \u001b[0mi\u001b[0m \u001b[1;32min\u001b[0m \u001b[0mrange\u001b[0m \u001b[1;33m(\u001b[0m\u001b[0msub_dir\u001b[0m\u001b[1;33m)\u001b[0m\u001b[1;33m:\u001b[0m\u001b[1;33m\u001b[0m\u001b[1;33m\u001b[0m\u001b[0m\n\u001b[0m\u001b[0;32m      7\u001b[0m     \u001b[0mftp\u001b[0m\u001b[1;33m.\u001b[0m\u001b[0mcwd\u001b[0m\u001b[1;33m(\u001b[0m\u001b[0msub_dir\u001b[0m\u001b[1;33m[\u001b[0m\u001b[0mi\u001b[0m\u001b[1;33m]\u001b[0m\u001b[1;33m)\u001b[0m\u001b[1;33m\u001b[0m\u001b[1;33m\u001b[0m\u001b[0m\n\u001b[0;32m      8\u001b[0m     \u001b[0mftp\u001b[0m\u001b[1;33m.\u001b[0m\u001b[0mdir\u001b[0m\u001b[1;33m(\u001b[0m\u001b[0mfiler\u001b[0m\u001b[1;33m.\u001b[0m\u001b[0mappend\u001b[0m\u001b[1;33m)\u001b[0m\u001b[1;33m\u001b[0m\u001b[1;33m\u001b[0m\u001b[0m\n",
      "\u001b[1;31mTypeError\u001b[0m: 'list' object cannot be interpreted as an integer"
     ]
    }
   ],
   "source": [
    "filer = []\n",
    "text = []\n",
    "#ftp = ftplib.FTP(ftp_url)\n",
    "#ftp.login(\"anonymous\", \"ftplib-example-1\")\n",
    "\n",
    "for i in range (sub_dir):\n",
    "    ftp.cwd(sub_dir[i])\n",
    "    ftp.dir(filer.append)"
   ]
  },
  {
   "cell_type": "code",
   "execution_count": 11,
   "id": "4669cfa9",
   "metadata": {},
   "outputs": [
    {
     "data": {
      "text/plain": [
       "['10-20-18  12:48PM              2688228 20091_M100_helemoedet.xml',\n",
       " '10-20-18  12:56PM               865875 20091_M101_helemoedet.xml',\n",
       " '10-20-18  12:56PM              1646286 20091_M102_helemoedet.xml',\n",
       " '06-21-18  05:10PM               754958 20091_M103_helemoedet.xml',\n",
       " '10-20-18  12:59PM              1543337 20091_M106_helemoedet.xml',\n",
       " '06-21-18  05:04PM               479669 20091_M107_helemoedet.xml',\n",
       " '10-20-18  12:59PM               376584 20091_M108_helemoedet.xml',\n",
       " '10-20-18  01:29PM              1128369 20091_M109_helemoedet.xml',\n",
       " '06-21-18  04:30PM               564560 20091_M10_helemoedet.xml',\n",
       " '06-21-18  04:18PM               779960 20091_M11_helemoedet.xml',\n",
       " '06-21-18  04:12PM              1128790 20091_M12_helemoedet.xml',\n",
       " '06-21-18  04:12PM               514690 20091_M13_helemoedet.xml',\n",
       " '06-21-18  04:24PM               682132 20091_M14_helemoedet.xml',\n",
       " '06-21-18  04:31PM               924055 20091_M15_helemoedet.xml',\n",
       " '06-21-18  04:31PM              1000114 20091_M16_helemoedet.xml',\n",
       " '06-21-18  04:25PM               233407 20091_M17_helemoedet.xml',\n",
       " '10-20-18  11:35AM              1186166 20091_M18_helemoedet.xml',\n",
       " '06-21-18  04:25PM               478237 20091_M19_helemoedet.xml',\n",
       " '06-21-18  04:12PM                56825 20091_M1_helemoedet.xml',\n",
       " '06-21-18  04:12PM               887384 20091_M20_helemoedet.xml']"
      ]
     },
     "execution_count": 11,
     "metadata": {},
     "output_type": "execute_result"
    }
   ],
   "source": [
    "filer[:20]"
   ]
  },
  {
   "cell_type": "code",
   "execution_count": 33,
   "id": "90f7dbd9",
   "metadata": {},
   "outputs": [
    {
     "data": {
      "text/plain": [
       "1489"
      ]
     },
     "execution_count": 33,
     "metadata": {},
     "output_type": "execute_result"
    }
   ],
   "source": [
    "filer_navne = []\n",
    "for i in range(0, len(filer)):\n",
    "    filer_navne.append(filer[i][39:])\n",
    "\n",
    "len(filer_navne)"
   ]
  },
  {
   "cell_type": "code",
   "execution_count": 103,
   "id": "414390d1",
   "metadata": {},
   "outputs": [
    {
     "name": "stdout",
     "output_type": "stream",
     "text": [
      "oda.ft.dk/ODAXML/Referat/samling/20091/20091_M100_helemoedet.xml\n"
     ]
    }
   ],
   "source": [
    "print(ftp_url+sub_dir[0]+filer[0][39:])"
   ]
  },
  {
   "cell_type": "code",
   "execution_count": 104,
   "id": "acccfd6b",
   "metadata": {},
   "outputs": [
    {
     "data": {
      "text/plain": [
       "'226'"
      ]
     },
     "execution_count": 104,
     "metadata": {},
     "output_type": "execute_result"
    }
   ],
   "source": [
    "ftp.lastresp"
   ]
  },
  {
   "cell_type": "code",
   "execution_count": null,
   "id": "647e3e08",
   "metadata": {},
   "outputs": [],
   "source": []
  },
  {
   "cell_type": "code",
   "execution_count": 105,
   "id": "b05ee770",
   "metadata": {},
   "outputs": [],
   "source": [
    "decoded_str = ls[0].decode(\"utf-8\")"
   ]
  },
  {
   "cell_type": "code",
   "execution_count": 106,
   "id": "b5449e62",
   "metadata": {},
   "outputs": [],
   "source": [
    "\n",
    "soup = bs(decoded_str, \"lxml\")"
   ]
  },
  {
   "cell_type": "code",
   "execution_count": 108,
   "id": "ea7f2d68",
   "metadata": {},
   "outputs": [
    {
     "data": {
      "text/plain": [
       "'226 Transfer complete.'"
      ]
     },
     "execution_count": 108,
     "metadata": {},
     "output_type": "execute_result"
    }
   ],
   "source": [
    "#from io import BytesIO\n",
    "ftp_url2 = \"oda.ft.dk\"\n",
    "ftp_dir2 = \"/ODAXML/Referat/samling\"\n",
    "content = []\n",
    "ftp = ftplib.FTP(ftp_url2)\n",
    "\n",
    "ftp.login(\"anonymous\", \"\")\n",
    "\n",
    "\n",
    "ftp.cwd(ftp_dir2)\n",
    "#r = BytesIO()\n",
    "ls = []\n",
    "ftp.retrbinary('RETR 20091_M1_helemoedet.xml', ls.append)\n",
    "\n",
    "#print(r.getvalue())\n"
   ]
  },
  {
   "cell_type": "code",
   "execution_count": 135,
   "id": "8188fd84",
   "metadata": {},
   "outputs": [
    {
     "name": "stdout",
     "output_type": "stream",
     "text": [
      "/ODAXML/Referat/samling/20091\n",
      "/ODAXML/Referat/samling/20101\n",
      "/ODAXML/Referat/samling/20102\n",
      "/ODAXML/Referat/samling/20111\n",
      "/ODAXML/Referat/samling/20121\n",
      "/ODAXML/Referat/samling/20131\n",
      "/ODAXML/Referat/samling/20141\n",
      "/ODAXML/Referat/samling/20142\n",
      "/ODAXML/Referat/samling/20151\n",
      "/ODAXML/Referat/samling/20161\n",
      "/ODAXML/Referat/samling/20171\n",
      "/ODAXML/Referat/samling/20181\n",
      "/ODAXML/Referat/samling/20182\n",
      "/ODAXML/Referat/samling/20191\n",
      "/ODAXML/Referat/samling/20201\n",
      "/ODAXML/Referat/samling/20211\n"
     ]
    }
   ],
   "source": [
    "new_url = 'oda.ft.dk'\n",
    "new_dir = '/ODAXML/Referat/samling/'\n",
    "\n",
    "content = []\n",
    "\n",
    "samling = []\n",
    "\n",
    "ftp = ftplib.FTP(new_url)\n",
    "ftp.login('anonymous', '')\n",
    "ftp.cwd(new_dir)\n",
    "ftp.dir(samling.append)\n",
    "\n",
    "d2 = []\n",
    "\n",
    "for i in range(0, len(samling)):\n",
    "    #d2.append(new_dir+d1[i]+'/'[-5:]+'/')\n",
    "    d2.append(new_dir+samling[i][-5:])\n",
    "    #print(d2[i])\n",
    "\n",
    "\n",
    "d3 = []\n",
    "names = []\n",
    "for i in range(0, len(d2)):\n",
    "    ftp.cwd(f'{d2[i]}')\n",
    "    print(d2[i])\n",
    "    ftp.dir(d3.append)\n",
    "    for i in range(0, len(d3)):\n",
    "        #print(d3[i])\n",
    "        names.append(d3[i][39:])\n",
    "        "
   ]
  },
  {
   "cell_type": "code",
   "execution_count": 137,
   "id": "69eef1bc",
   "metadata": {},
   "outputs": [
    {
     "name": "stdout",
     "output_type": "stream",
     "text": [
      "10-20-18  01:01PM       <DIR>          20091\n",
      "10-20-18  11:21AM       <DIR>          20101\n",
      "06-21-18  07:25PM       <DIR>          20102\n",
      "10-20-18  01:01PM       <DIR>          20111\n",
      "10-20-18  02:06PM       <DIR>          20121\n",
      "10-19-18  10:46AM       <DIR>          20131\n",
      "10-17-18  06:12PM       <DIR>          20141\n",
      "04-09-18  05:19PM       <DIR>          20142\n",
      "04-09-18  11:54AM       <DIR>          20151\n",
      "06-15-18  02:51PM       <DIR>          20161\n",
      "06-26-19  03:30PM       <DIR>          20171\n",
      "05-07-19  02:14PM       <DIR>          20181\n",
      "09-12-19  11:03AM       <DIR>          20182\n",
      "09-29-20  01:56PM       <DIR>          20191\n",
      "09-09-21  10:16AM       <DIR>          20201\n",
      "06-10-22  01:26PM       <DIR>          20211\n"
     ]
    }
   ],
   "source": [
    "for i in samling:\n",
    "    print(i)"
   ]
  },
  {
   "cell_type": "code",
   "execution_count": 65,
   "id": "078ff050",
   "metadata": {},
   "outputs": [
    {
     "name": "stdout",
     "output_type": "stream",
     "text": [
      "/ODAXML/Referat/samling/20091/\n",
      "/ODAXML/Referat/samling/20101/\n",
      "20091_M100_helemoedet.xml 10-20-18  12:48PM              2688228 20091_M100_helemoedet.xml /ODAXML/Referat/samling/20091/\n",
      "20091_M101_helemoedet.xml 10-20-18  12:56PM               865875 20091_M101_helemoedet.xml /ODAXML/Referat/samling/20101/\n",
      "20091_M102_helemoedet.xml 10-20-18  12:56PM              1646286 20091_M102_helemoedet.xml /ODAXML/Referat/samling/20102/\n",
      "20091_M103_helemoedet.xml 06-21-18  05:10PM               754958 20091_M103_helemoedet.xml /ODAXML/Referat/samling/20111/\n",
      "20091_M106_helemoedet.xml 10-20-18  12:59PM              1543337 20091_M106_helemoedet.xml /ODAXML/Referat/samling/20121/\n",
      "20091_M107_helemoedet.xml 06-21-18  05:04PM               479669 20091_M107_helemoedet.xml /ODAXML/Referat/samling/20131/\n",
      "20091_M108_helemoedet.xml 10-20-18  12:59PM               376584 20091_M108_helemoedet.xml /ODAXML/Referat/samling/20141/\n",
      "20091_M109_helemoedet.xml 10-20-18  01:29PM              1128369 20091_M109_helemoedet.xml /ODAXML/Referat/samling/20142/\n",
      "20091_M10_helemoedet.xml 06-21-18  04:30PM               564560 20091_M10_helemoedet.xml /ODAXML/Referat/samling/20151/\n",
      "20091_M11_helemoedet.xml 06-21-18  04:18PM               779960 20091_M11_helemoedet.xml /ODAXML/Referat/samling/20161/\n",
      "20091_M12_helemoedet.xml 06-21-18  04:12PM              1128790 20091_M12_helemoedet.xml /ODAXML/Referat/samling/20171/\n",
      "20091_M13_helemoedet.xml 06-21-18  04:12PM               514690 20091_M13_helemoedet.xml /ODAXML/Referat/samling/20181/\n",
      "20091_M14_helemoedet.xml 06-21-18  04:24PM               682132 20091_M14_helemoedet.xml /ODAXML/Referat/samling/20182/\n",
      "20091_M15_helemoedet.xml 06-21-18  04:31PM               924055 20091_M15_helemoedet.xml /ODAXML/Referat/samling/20191/\n",
      "20091_M16_helemoedet.xml 06-21-18  04:31PM              1000114 20091_M16_helemoedet.xml /ODAXML/Referat/samling/20201/\n",
      "20091_M17_helemoedet.xml 06-21-18  04:25PM               233407 20091_M17_helemoedet.xml /ODAXML/Referat/samling/20211/\n"
     ]
    },
    {
     "ename": "IndexError",
     "evalue": "list index out of range",
     "output_type": "error",
     "traceback": [
      "\u001b[1;31m---------------------------------------------------------------------------\u001b[0m",
      "\u001b[1;31merror_perm\u001b[0m                                Traceback (most recent call last)",
      "Input \u001b[1;32mIn [65]\u001b[0m, in \u001b[0;36m<cell line: 10>\u001b[1;34m()\u001b[0m\n\u001b[0;32m     23\u001b[0m     \u001b[38;5;66;03m#print(fn[i])\u001b[39;00m\n\u001b[1;32m---> 24\u001b[0m     \u001b[43mftp\u001b[49m\u001b[38;5;241;43m.\u001b[39;49m\u001b[43mretrbinary\u001b[49m\u001b[43m(\u001b[49m\u001b[38;5;124;43mf\u001b[39;49m\u001b[38;5;124;43m\"\u001b[39;49m\u001b[38;5;124;43mRETR \u001b[39;49m\u001b[38;5;132;43;01m{\u001b[39;49;00m\u001b[43mfn\u001b[49m\u001b[43m[\u001b[49m\u001b[43mi\u001b[49m\u001b[43m]\u001b[49m\u001b[38;5;132;43;01m}\u001b[39;49;00m\u001b[38;5;124;43m\"\u001b[39;49m\u001b[43m,\u001b[49m\u001b[43m \u001b[49m\u001b[43mcontent\u001b[49m\u001b[38;5;241;43m.\u001b[39;49m\u001b[43mappend\u001b[49m\u001b[43m)\u001b[49m\n\u001b[0;32m     25\u001b[0m \u001b[38;5;28;01mexcept\u001b[39;00m:\n",
      "File \u001b[1;32m~\\anaconda3\\lib\\ftplib.py:436\u001b[0m, in \u001b[0;36mFTP.retrbinary\u001b[1;34m(self, cmd, callback, blocksize, rest)\u001b[0m\n\u001b[0;32m    435\u001b[0m \u001b[38;5;28mself\u001b[39m\u001b[38;5;241m.\u001b[39mvoidcmd(\u001b[38;5;124m'\u001b[39m\u001b[38;5;124mTYPE I\u001b[39m\u001b[38;5;124m'\u001b[39m)\n\u001b[1;32m--> 436\u001b[0m \u001b[38;5;28;01mwith\u001b[39;00m \u001b[38;5;28;43mself\u001b[39;49m\u001b[38;5;241;43m.\u001b[39;49m\u001b[43mtransfercmd\u001b[49m\u001b[43m(\u001b[49m\u001b[43mcmd\u001b[49m\u001b[43m,\u001b[49m\u001b[43m \u001b[49m\u001b[43mrest\u001b[49m\u001b[43m)\u001b[49m \u001b[38;5;28;01mas\u001b[39;00m conn:\n\u001b[0;32m    437\u001b[0m     \u001b[38;5;28;01mwhile\u001b[39;00m \u001b[38;5;241m1\u001b[39m:\n",
      "File \u001b[1;32m~\\anaconda3\\lib\\ftplib.py:393\u001b[0m, in \u001b[0;36mFTP.transfercmd\u001b[1;34m(self, cmd, rest)\u001b[0m\n\u001b[0;32m    392\u001b[0m \u001b[38;5;124;03m\"\"\"Like ntransfercmd() but returns only the socket.\"\"\"\u001b[39;00m\n\u001b[1;32m--> 393\u001b[0m \u001b[38;5;28;01mreturn\u001b[39;00m \u001b[38;5;28;43mself\u001b[39;49m\u001b[38;5;241;43m.\u001b[39;49m\u001b[43mntransfercmd\u001b[49m\u001b[43m(\u001b[49m\u001b[43mcmd\u001b[49m\u001b[43m,\u001b[49m\u001b[43m \u001b[49m\u001b[43mrest\u001b[49m\u001b[43m)\u001b[49m[\u001b[38;5;241m0\u001b[39m]\n",
      "File \u001b[1;32m~\\anaconda3\\lib\\ftplib.py:359\u001b[0m, in \u001b[0;36mFTP.ntransfercmd\u001b[1;34m(self, cmd, rest)\u001b[0m\n\u001b[0;32m    358\u001b[0m     \u001b[38;5;28mself\u001b[39m\u001b[38;5;241m.\u001b[39msendcmd(\u001b[38;5;124m\"\u001b[39m\u001b[38;5;124mREST \u001b[39m\u001b[38;5;132;01m%s\u001b[39;00m\u001b[38;5;124m\"\u001b[39m \u001b[38;5;241m%\u001b[39m rest)\n\u001b[1;32m--> 359\u001b[0m resp \u001b[38;5;241m=\u001b[39m \u001b[38;5;28;43mself\u001b[39;49m\u001b[38;5;241;43m.\u001b[39;49m\u001b[43msendcmd\u001b[49m\u001b[43m(\u001b[49m\u001b[43mcmd\u001b[49m\u001b[43m)\u001b[49m\n\u001b[0;32m    360\u001b[0m \u001b[38;5;66;03m# Some servers apparently send a 200 reply to\u001b[39;00m\n\u001b[0;32m    361\u001b[0m \u001b[38;5;66;03m# a LIST or STOR command, before the 150 reply\u001b[39;00m\n\u001b[0;32m    362\u001b[0m \u001b[38;5;66;03m# (and way before the 226 reply). This seems to\u001b[39;00m\n\u001b[0;32m    363\u001b[0m \u001b[38;5;66;03m# be in violation of the protocol (which only allows\u001b[39;00m\n\u001b[0;32m    364\u001b[0m \u001b[38;5;66;03m# 1xx or error messages for LIST), so we just discard\u001b[39;00m\n\u001b[0;32m    365\u001b[0m \u001b[38;5;66;03m# this response.\u001b[39;00m\n",
      "File \u001b[1;32m~\\anaconda3\\lib\\ftplib.py:281\u001b[0m, in \u001b[0;36mFTP.sendcmd\u001b[1;34m(self, cmd)\u001b[0m\n\u001b[0;32m    280\u001b[0m \u001b[38;5;28mself\u001b[39m\u001b[38;5;241m.\u001b[39mputcmd(cmd)\n\u001b[1;32m--> 281\u001b[0m \u001b[38;5;28;01mreturn\u001b[39;00m \u001b[38;5;28;43mself\u001b[39;49m\u001b[38;5;241;43m.\u001b[39;49m\u001b[43mgetresp\u001b[49m\u001b[43m(\u001b[49m\u001b[43m)\u001b[49m\n",
      "File \u001b[1;32m~\\anaconda3\\lib\\ftplib.py:254\u001b[0m, in \u001b[0;36mFTP.getresp\u001b[1;34m(self)\u001b[0m\n\u001b[0;32m    253\u001b[0m \u001b[38;5;28;01mif\u001b[39;00m c \u001b[38;5;241m==\u001b[39m \u001b[38;5;124m'\u001b[39m\u001b[38;5;124m5\u001b[39m\u001b[38;5;124m'\u001b[39m:\n\u001b[1;32m--> 254\u001b[0m     \u001b[38;5;28;01mraise\u001b[39;00m error_perm(resp)\n\u001b[0;32m    255\u001b[0m \u001b[38;5;28;01mraise\u001b[39;00m error_proto(resp)\n",
      "\u001b[1;31merror_perm\u001b[0m: 550 The system cannot find the file specified. ",
      "\nDuring handling of the above exception, another exception occurred:\n",
      "\u001b[1;31mIndexError\u001b[0m                                Traceback (most recent call last)",
      "Input \u001b[1;32mIn [65]\u001b[0m, in \u001b[0;36m<cell line: 10>\u001b[1;34m()\u001b[0m\n\u001b[0;32m     24\u001b[0m     ftp\u001b[38;5;241m.\u001b[39mretrbinary(\u001b[38;5;124mf\u001b[39m\u001b[38;5;124m\"\u001b[39m\u001b[38;5;124mRETR \u001b[39m\u001b[38;5;132;01m{\u001b[39;00mfn[i]\u001b[38;5;132;01m}\u001b[39;00m\u001b[38;5;124m\"\u001b[39m, content\u001b[38;5;241m.\u001b[39mappend)\n\u001b[0;32m     25\u001b[0m \u001b[38;5;28;01mexcept\u001b[39;00m:\n\u001b[1;32m---> 26\u001b[0m     \u001b[38;5;28mprint\u001b[39m(fn[i], filer[i], \u001b[43msub_dir\u001b[49m\u001b[43m[\u001b[49m\u001b[43mi\u001b[49m\u001b[43m]\u001b[49m)\n",
      "\u001b[1;31mIndexError\u001b[0m: list index out of range"
     ]
    }
   ],
   "source": [
    "#from io import BytesIO\n",
    "ftp_url2 = \"oda.ft.dk\"\n",
    "#ftp_dir2 = \"/ODAXML/Referat/samling\"\n",
    "ftp_dir2 = \"/\"\n",
    "content = []\n",
    "ftp = ftplib.FTP(ftp_url2)\n",
    "\n",
    "ftp.login(\"anonymous\", \"\")\n",
    "\n",
    "for i in range(0, 2):\n",
    "#for i in range(0, len(sub_dir)):\n",
    "    sd = []\n",
    "    ftp.cwd(sub_dir[i])\n",
    "    ftp.dir(sd.append)\n",
    "    fn = []\n",
    "    for i in range(0, len(sd)-1):\n",
    "    #for i in range(0, 2):\n",
    "        try:\n",
    "            \n",
    "            #print(filer[i])\n",
    "            fn.append(filer[i][39:])\n",
    "            #print(fn[i])\n",
    "            ftp.retrbinary(f\"RETR {fn[i]}\", content.append)\n",
    "        except:\n",
    "            print(fn[i], filer[i], sub_dir[i])\n"
   ]
  },
  {
   "cell_type": "code",
   "execution_count": 57,
   "id": "0c8136bd",
   "metadata": {},
   "outputs": [
    {
     "data": {
      "text/plain": [
       "(20106, 123, 163.46341463414635)"
      ]
     },
     "execution_count": 57,
     "metadata": {},
     "output_type": "execute_result"
    }
   ],
   "source": [
    "len(content), len (sd), len(content)/len(sd)"
   ]
  },
  {
   "cell_type": "code",
   "execution_count": 45,
   "id": "c649aa0e",
   "metadata": {},
   "outputs": [],
   "source": [
    "decoded_content = content[0].decode(\"utf-8\")"
   ]
  },
  {
   "cell_type": "code",
   "execution_count": 48,
   "id": "e3bba94e",
   "metadata": {},
   "outputs": [
    {
     "ename": "UnicodeDecodeError",
     "evalue": "'utf-8' codec can't decode byte 0xc3 in position 8191: unexpected end of data",
     "output_type": "error",
     "traceback": [
      "\u001b[1;31m---------------------------------------------------------------------------\u001b[0m",
      "\u001b[1;31mUnicodeDecodeError\u001b[0m                        Traceback (most recent call last)",
      "Input \u001b[1;32mIn [48]\u001b[0m, in \u001b[0;36m<cell line: 2>\u001b[1;34m()\u001b[0m\n\u001b[0;32m      1\u001b[0m new_content \u001b[38;5;241m=\u001b[39m []\n\u001b[0;32m      2\u001b[0m \u001b[38;5;28;01mfor\u001b[39;00m i \u001b[38;5;129;01min\u001b[39;00m \u001b[38;5;28mrange\u001b[39m (\u001b[38;5;241m0\u001b[39m, \u001b[38;5;28mlen\u001b[39m(content)):\n\u001b[1;32m----> 3\u001b[0m     new_content\u001b[38;5;241m.\u001b[39mappend(\u001b[43mcontent\u001b[49m\u001b[43m[\u001b[49m\u001b[43mi\u001b[49m\u001b[43m]\u001b[49m\u001b[38;5;241;43m.\u001b[39;49m\u001b[43mdecode\u001b[49m\u001b[43m(\u001b[49m\u001b[38;5;124;43m\"\u001b[39;49m\u001b[38;5;124;43mutf-8\u001b[39;49m\u001b[38;5;124;43m\"\u001b[39;49m\u001b[43m)\u001b[49m)\n",
      "\u001b[1;31mUnicodeDecodeError\u001b[0m: 'utf-8' codec can't decode byte 0xc3 in position 8191: unexpected end of data"
     ]
    }
   ],
   "source": [
    "new_content = []\n",
    "for i in range (0, len(content)):\n",
    "    new_content.append(content[i].decode(\"utf-8\"))"
   ]
  },
  {
   "cell_type": "code",
   "execution_count": 109,
   "id": "97e35c32",
   "metadata": {},
   "outputs": [],
   "source": [
    "decoded_str = ls[0].decode(\"utf-8\")\n",
    "soup = bs(decoded_str, \"lxml\")"
   ]
  },
  {
   "cell_type": "code",
   "execution_count": 111,
   "id": "17a1055c",
   "metadata": {},
   "outputs": [
    {
     "data": {
      "text/plain": [
       "<?xml version=\"1.0\" encoding=\"utf-8\"?><html><body><dokument edixistatus=\"\"><metameeting><parliamentarysession>20091</parliamentarysession><parliamentarygroup>Folketinget</parliamentarygroup><meetingnumber>1</meetingnumber><dateofsitting>2009-10-06T12:00:00</dateofsitting><location>Folketingssalen</location><edixidoclocation>W:\\20091\\M001\\</edixidoclocation><audiofilefolder>X:\\DAudio\\FT2009\\001\\SALEN\\</audiofilefolder></metameeting><titelgruppe><titel><linea><char>1. møde</char></linea></titel><undertitel><linea><char>Tirsdag den 6. oktober 2009 kl. 12.00</char></linea></undertitel></titelgruppe><dagsordenplan><rubrica>\n",
       "<linea>\n",
       "<char>1. møde</char>\n",
       "</linea>\n",
       "<linea>\n",
       "<char>Tirsdag den 6. oktober 2009 kl. 12.00</char>\n",
       "</linea>\n",
       "</rubrica>\n",
       "<punkttekst>\n",
       "<exitus>\n",
       "<linea>\n",
       "<char>\n",
       "</char>\n",
       "</linea>\n",
       "</exitus>\n",
       "</punkttekst></dagsordenplan><dagsordenpunkt><metaftagendaitem><itemno>0</itemno><ftcase></ftcase><ftcasenumber></ftcasenumber><ftcasetype>FM</ftcasetype><ftcasestage></ftcasestage><shorttitle>Punkt 0</shorttitle></metaftagendaitem><punkttekst><exitus><linea><char></char></linea></exitus></punkttekst><aktivitet><tale><taler><metaspeakermp><oratorfirstname>Niels Helveg</oratorfirstname><oratorlastname>Petersen</oratorlastname><groupnameshort>RV</groupnameshort><oratorrole>aldersformanden</oratorrole></metaspeakermp><talertitel><linea><char>Aldersformanden</char><char> (Niels Helveg Petersen)</char></linea></talertitel></taler><talesegment><metaspeechsegment><lastmodified>2009-10-20T15:24:22</lastmodified><edixistatus>Typeset</edixistatus><startdatetime>2009-10-06T12:00:32</startdatetime><enddatetime>2009-10-06T12:02:08</enddatetime></metaspeechsegment><tekstgruppe><exitus><linea><char>Mødet er åbnet.</char></linea></exitus></tekstgruppe><tekstgruppe><exitus><linea><char>I henhold til grundloven er Folketinget på denne første tirsdag i oktober trådt sammen til sit første møde i det nye folketingsår.</char></linea></exitus><exitus><linea><char>Som det medlem, der – efter Svend Aukens alt for tidlige død – længst har haft sæde i Folketinget, påhviler det mig at lede valget af Præsidium og valget af tingsekretærer.</char></linea></exitus><exitus><linea><char>Til formand har samtlige grupper med undtagelse af Enhedslisten indstillet hr.</char></linea><linea><char>Thor Pedersen.</char></linea><linea><char>Der foreligger ikke andre indstillinger.</char></linea><linea><char>Hvis ingen begærer afstemning, vil jeg betragte indstillingen som vedtaget.</char></linea></exitus><exitus><linea><char>Den er vedtaget.</char></linea></exitus><exitus><linea><char>Til første næstformand har Socialdemokratiets gruppe udpeget hr.</char></linea><linea><char>Mogens Lykketoft, til anden næstformand har Dansk Folkepartis gruppe udpeget hr.</char></linea><linea><char>Søren Espersen, til tredje næstformand har Socialistisk Folkepartis gruppe udpeget hr.</char></linea><linea><char>Holger K.</char></linea><linea><char>Nielsen, og til fjerde næstformand har Det Konservative Folkepartis gruppe udpeget hr.</char></linea><linea><char>Helge Adam Møller.</char></linea></exitus><exitus><linea><char>Til tingsekretærer er i henhold til de indgåede valgforbund og gruppernes indstilling valgt følgende medlemmer:</char></linea><linea><char>hr.</char></linea><linea><char>Jens Vibjerg (V), hr.</char></linea><linea><char>Bent Bøgsted (DF), fru Karen J.</char></linea><linea><char>Klint (S) og fru Pernille Frahm (SF).</char></linea></exitus><exitus><linea><char>Tinget er herefter sat, og jeg skal bede formanden om at indtage formandsstolen.</char></linea></exitus></tekstgruppe></talesegment></tale><tale><taler><metaspeakermp><oratorfirstname>Thor</oratorfirstname><oratorlastname>Pedersen</oratorlastname><groupnameshort>V</groupnameshort><oratorrole>formand</oratorrole></metaspeakermp><talertitel><linea><char>Formanden</char><char></char></linea></talertitel></taler><talesegment><metaspeechsegment><lastmodified>2009-10-20T15:24:22</lastmodified><edixistatus>Typeset</edixistatus><startdatetime>2009-10-06T12:02:08</startdatetime><enddatetime>2009-10-06T12:04:01</enddatetime></metaspeechsegment></talesegment></tale></aktivitet></dagsordenpunkt></dokument></body></html>"
      ]
     },
     "execution_count": 111,
     "metadata": {},
     "output_type": "execute_result"
    }
   ],
   "source": [
    "soup"
   ]
  },
  {
   "cell_type": "code",
   "execution_count": 140,
   "id": "d2e4d0bd",
   "metadata": {},
   "outputs": [
    {
     "data": {
      "text/html": [
       "<div>\n",
       "<style scoped>\n",
       "    .dataframe tbody tr th:only-of-type {\n",
       "        vertical-align: middle;\n",
       "    }\n",
       "\n",
       "    .dataframe tbody tr th {\n",
       "        vertical-align: top;\n",
       "    }\n",
       "\n",
       "    .dataframe thead th {\n",
       "        text-align: right;\n",
       "    }\n",
       "</style>\n",
       "<table border=\"1\" class=\"dataframe\">\n",
       "  <thead>\n",
       "    <tr style=\"text-align: right;\">\n",
       "      <th></th>\n",
       "      <th>ItemNo</th>\n",
       "      <th>ShortTitle</th>\n",
       "    </tr>\n",
       "  </thead>\n",
       "  <tbody>\n",
       "  </tbody>\n",
       "</table>\n",
       "</div>"
      ],
      "text/plain": [
       "Empty DataFrame\n",
       "Columns: [ItemNo, ShortTitle]\n",
       "Index: []"
      ]
     },
     "execution_count": 140,
     "metadata": {},
     "output_type": "execute_result"
    }
   ],
   "source": [
    "import xml.etree.ElementTree as et \n",
    "\n",
    "xml_str = str(soup)\n",
    "etree = ET.fromstring(xml_str)\n",
    "\n",
    "\n",
    "dfcols = ['ItemNo', 'ShortTitle']\n",
    "df = pd.DataFrame(columns=dfcols)\n",
    "\n",
    "for i in etree.iter(tag='MetaFTAgendaItem'):\n",
    "    df = df.append(\n",
    "        pd.Series([i.get('ItemNo'), i.get('ShortTitle')], index=dfcols),\n",
    "        ignore_index=True)\n",
    "\n",
    "    \n",
    "df.head()\n",
    "#df_d = pd.read_xml(str(soup))\n",
    "#df_d"
   ]
  },
  {
   "cell_type": "code",
   "execution_count": 122,
   "id": "e9313734",
   "metadata": {},
   "outputs": [
    {
     "ename": "TypeError",
     "evalue": "'xml.etree.ElementTree.Element' object is not callable",
     "output_type": "error",
     "traceback": [
      "\u001b[1;31m---------------------------------------------------------------------------\u001b[0m",
      "\u001b[1;31mTypeError\u001b[0m                                 Traceback (most recent call last)",
      "Input \u001b[1;32mIn [122]\u001b[0m, in \u001b[0;36m<cell line: 1>\u001b[1;34m()\u001b[0m\n\u001b[1;32m----> 1\u001b[0m \u001b[43metree\u001b[49m\u001b[43m(\u001b[49m\u001b[43m)\u001b[49m\n",
      "\u001b[1;31mTypeError\u001b[0m: 'xml.etree.ElementTree.Element' object is not callable"
     ]
    }
   ],
   "source": [
    "df.c"
   ]
  },
  {
   "cell_type": "code",
   "execution_count": 73,
   "id": "80e2b38f",
   "metadata": {},
   "outputs": [
    {
     "ename": "ParseError",
     "evalue": "unclosed token: line 16, column 523 (<string>)",
     "output_type": "error",
     "traceback": [
      "Traceback \u001b[1;36m(most recent call last)\u001b[0m:\n",
      "  File \u001b[0;32m~\\anaconda3\\lib\\site-packages\\IPython\\core\\interactiveshell.py:3397\u001b[0m in \u001b[0;35mrun_code\u001b[0m\n    exec(code_obj, self.user_global_ns, self.user_ns)\n",
      "  Input \u001b[0;32mIn [73]\u001b[0m in \u001b[0;35m<cell line: 3>\u001b[0m\n    root = ET.fromstring(i)\n",
      "\u001b[1;36m  File \u001b[1;32m~\\anaconda3\\lib\\xml\\etree\\ElementTree.py:1350\u001b[1;36m in \u001b[1;35mXML\u001b[1;36m\u001b[0m\n\u001b[1;33m    return parser.close()\u001b[0m\n",
      "\u001b[1;36m  File \u001b[1;32m<string>\u001b[1;36m\u001b[0m\n\u001b[1;31mParseError\u001b[0m\u001b[1;31m:\u001b[0m unclosed token: line 16, column 523\n"
     ]
    }
   ],
   "source": [
    "import xml.etree.ElementTree as ET\n",
    "fields = {}\n",
    "for i in ls:\n",
    "    root = ET.fromstring(i)\n",
    "    for child in root:\n",
    "        fields.setdefault(child.tag, []).append(child.text)"
   ]
  },
  {
   "cell_type": "code",
   "execution_count": 16,
   "id": "91572fd3",
   "metadata": {},
   "outputs": [
    {
     "data": {
      "text/plain": [
       "'oda.ft.dk'"
      ]
     },
     "execution_count": 16,
     "metadata": {},
     "output_type": "execute_result"
    }
   ],
   "source": [
    "ftp_url2 = \"oda.ft.dk\"\n",
    "ftp_dir2 = \"/ODAXML/Referat/samling/20091\"\n",
    "dirs2=[]\n",
    "ftp = ftplib.FTP(ftp_url2)\n",
    "ftp.login(\"anonymous\", \"ftplib-example-1\")\n",
    "ftp.cwd(ftp_dir2)\n",
    "ftp.(dirs2.append)\n",
    "ftp.host"
   ]
  },
  {
   "cell_type": "code",
   "execution_count": 17,
   "id": "86f46316",
   "metadata": {},
   "outputs": [
    {
     "data": {
      "text/plain": [
       "['10-20-18  12:48PM              2688228 20091_M100_helemoedet.xml',\n",
       " '10-20-18  12:56PM               865875 20091_M101_helemoedet.xml',\n",
       " '10-20-18  12:56PM              1646286 20091_M102_helemoedet.xml',\n",
       " '06-21-18  05:10PM               754958 20091_M103_helemoedet.xml',\n",
       " '10-20-18  12:59PM              1543337 20091_M106_helemoedet.xml',\n",
       " '06-21-18  05:04PM               479669 20091_M107_helemoedet.xml',\n",
       " '10-20-18  12:59PM               376584 20091_M108_helemoedet.xml',\n",
       " '10-20-18  01:29PM              1128369 20091_M109_helemoedet.xml',\n",
       " '06-21-18  04:30PM               564560 20091_M10_helemoedet.xml',\n",
       " '06-21-18  04:18PM               779960 20091_M11_helemoedet.xml',\n",
       " '06-21-18  04:12PM              1128790 20091_M12_helemoedet.xml',\n",
       " '06-21-18  04:12PM               514690 20091_M13_helemoedet.xml',\n",
       " '06-21-18  04:24PM               682132 20091_M14_helemoedet.xml',\n",
       " '06-21-18  04:31PM               924055 20091_M15_helemoedet.xml',\n",
       " '06-21-18  04:31PM              1000114 20091_M16_helemoedet.xml',\n",
       " '06-21-18  04:25PM               233407 20091_M17_helemoedet.xml',\n",
       " '10-20-18  11:35AM              1186166 20091_M18_helemoedet.xml',\n",
       " '06-21-18  04:25PM               478237 20091_M19_helemoedet.xml',\n",
       " '06-21-18  04:12PM                56825 20091_M1_helemoedet.xml',\n",
       " '06-21-18  04:12PM               887384 20091_M20_helemoedet.xml',\n",
       " '06-21-18  04:19PM               533431 20091_M21_helemoedet.xml',\n",
       " '06-21-18  04:31PM               681624 20091_M22_helemoedet.xml',\n",
       " '06-21-18  04:30PM               367416 20091_M23_helemoedet.xml',\n",
       " '06-21-18  04:25PM               829793 20091_M24_helemoedet.xml',\n",
       " '06-21-18  04:24PM               672381 20091_M25_helemoedet.xml',\n",
       " '06-21-18  04:31PM              1075493 20091_M26_helemoedet.xml',\n",
       " '06-21-18  04:24PM               703584 20091_M27_helemoedet.xml',\n",
       " '06-21-18  04:18PM               949832 20091_M28_helemoedet.xml',\n",
       " '06-21-18  04:31PM               727882 20091_M29_helemoedet.xml',\n",
       " '06-21-18  04:30PM               399168 20091_M2_helemoedet.xml',\n",
       " '06-21-18  04:18PM               549085 20091_M30_helemoedet.xml',\n",
       " '06-21-18  04:25PM               595742 20091_M31_helemoedet.xml',\n",
       " '06-21-18  04:18PM               288576 20091_M32_helemoedet.xml',\n",
       " '10-20-18  11:35AM              1193193 20091_M33_helemoedet.xml',\n",
       " '06-21-18  04:18PM               119406 20091_M34_helemoedet.xml',\n",
       " '06-21-18  04:25PM               198671 20091_M35_helemoedet.xml',\n",
       " '06-21-18  04:12PM               308743 20091_M36_helemoedet.xml',\n",
       " '06-21-18  04:18PM              1154102 20091_M37_helemoedet.xml',\n",
       " '06-21-18  04:19PM               326814 20091_M38_helemoedet.xml',\n",
       " '06-21-18  04:24PM               267039 20091_M39_helemoedet.xml',\n",
       " '10-20-18  11:31AM              1527749 20091_M3_helemoedet.xml',\n",
       " '06-21-18  04:18PM              1070645 20091_M40_helemoedet.xml',\n",
       " '06-21-18  04:12PM               847877 20091_M41_helemoedet.xml',\n",
       " '06-21-18  04:12PM               607431 20091_M42_helemoedet.xml',\n",
       " '06-21-18  04:19PM              1198320 20091_M43_helemoedet.xml',\n",
       " '06-21-18  04:25PM               382424 20091_M44_helemoedet.xml',\n",
       " '06-21-18  04:18PM               877772 20091_M45_helemoedet.xml',\n",
       " '06-21-18  04:18PM               342659 20091_M46_helemoedet.xml',\n",
       " '06-21-18  04:24PM               835518 20091_M47_helemoedet.xml',\n",
       " '10-20-18  11:35AM              1296262 20091_M48_helemoedet.xml',\n",
       " '06-21-18  04:12PM               806006 20091_M49_helemoedet.xml',\n",
       " '06-21-18  04:12PM               345603 20091_M4_helemoedet.xml',\n",
       " '06-21-18  04:12PM               625795 20091_M50_helemoedet.xml',\n",
       " '06-21-18  05:10PM              1157873 20091_M51_helemoedet.xml',\n",
       " '10-20-18  11:56AM              1143260 20091_M52_helemoedet.xml',\n",
       " '06-21-18  05:04PM               438280 20091_M53_helemoedet.xml',\n",
       " '10-20-18  11:56AM               406509 20091_M54_helemoedet.xml',\n",
       " '10-20-18  12:00PM               573235 20091_M55_helemoedet.xml',\n",
       " '06-21-18  05:16PM              1044109 20091_M56_helemoedet.xml',\n",
       " '06-21-18  05:04PM               980736 20091_M57_helemoedet.xml',\n",
       " '10-20-18  12:00PM              1054546 20091_M58_helemoedet.xml',\n",
       " '10-20-18  12:01PM              1051848 20091_M59_helemoedet.xml',\n",
       " '06-21-18  04:25PM               706527 20091_M5_helemoedet.xml',\n",
       " '06-21-18  05:22PM              1497671 20091_M60_helemoedet.xml',\n",
       " '06-21-18  05:04PM               725677 20091_M61_helemoedet.xml',\n",
       " '10-20-18  12:00PM               367921 20091_M62_helemoedet.xml',\n",
       " '10-20-18  12:00PM               995352 20091_M63_helemoedet.xml',\n",
       " '06-21-18  05:04PM               692729 20091_M64_helemoedet.xml',\n",
       " '06-21-18  05:04PM               500266 20091_M65_helemoedet.xml',\n",
       " '06-21-18  05:04PM               667590 20091_M66_helemoedet.xml',\n",
       " '10-20-18  12:01PM               892154 20091_M67_helemoedet.xml',\n",
       " '06-21-18  05:10PM              1299352 20091_M68_helemoedet.xml',\n",
       " '06-21-18  05:04PM               821548 20091_M69_helemoedet.xml',\n",
       " '06-21-18  04:12PM               535756 20091_M6_helemoedet.xml',\n",
       " '10-20-18  12:01PM              1619380 20091_M70_helemoedet.xml',\n",
       " '10-20-18  12:27PM               899503 20091_M71_helemoedet.xml',\n",
       " '06-21-18  05:04PM               685617 20091_M72_helemoedet.xml',\n",
       " '06-21-18  05:16PM               873995 20091_M73_helemoedet.xml',\n",
       " '06-21-18  05:04PM               327425 20091_M74_helemoedet.xml',\n",
       " '10-20-18  12:28PM              1387649 20091_M75_helemoedet.xml',\n",
       " '06-21-18  05:04PM               864980 20091_M76_helemoedet.xml',\n",
       " '06-21-18  05:22PM              1045916 20091_M77_helemoedet.xml',\n",
       " '10-20-18  12:28PM              1118188 20091_M78_helemoedet.xml',\n",
       " '10-20-18  12:28PM               756479 20091_M79_helemoedet.xml',\n",
       " '06-21-18  04:12PM               263083 20091_M7_helemoedet.xml',\n",
       " '10-20-18  12:28PM              1400026 20091_M80_helemoedet.xml',\n",
       " '10-20-18  12:43PM               469673 20091_M81_helemoedet.xml',\n",
       " '10-20-18  12:44PM              1201251 20091_M82_helemoedet.xml',\n",
       " '10-20-18  12:43PM               808487 20091_M83_helemoedet.xml',\n",
       " '10-20-18  12:43PM               783116 20091_M84_helemoedet.xml',\n",
       " '10-20-18  12:44PM              1577492 20091_M85_helemoedet.xml',\n",
       " '10-20-18  12:44PM              1398000 20091_M86_helemoedet.xml',\n",
       " '06-21-18  05:16PM               595447 20091_M87_helemoedet.xml',\n",
       " '10-20-18  12:44PM               968230 20091_M88_helemoedet.xml',\n",
       " '06-21-18  05:21PM              1256415 20091_M89_helemoedet.xml',\n",
       " '06-21-18  04:24PM               876385 20091_M8_helemoedet.xml',\n",
       " '06-21-18  05:04PM              1093560 20091_M90_helemoedet.xml',\n",
       " '10-20-18  12:43PM               804556 20091_M91_helemoedet.xml',\n",
       " '10-20-18  12:47PM               899624 20091_M92_helemoedet.xml',\n",
       " '10-20-18  12:47PM               946544 20091_M93_helemoedet.xml',\n",
       " '10-20-18  12:47PM              1548210 20091_M94_helemoedet.xml',\n",
       " '06-21-18  05:16PM               638795 20091_M95_helemoedet.xml',\n",
       " '06-21-18  05:22PM               735234 20091_M96_helemoedet.xml',\n",
       " '10-20-18  12:47PM               803117 20091_M97_helemoedet.xml',\n",
       " '10-20-18  12:47PM               958290 20091_M98_helemoedet.xml',\n",
       " '06-21-18  05:22PM               702272 20091_M99_helemoedet.xml',\n",
       " '06-21-18  04:12PM               193774 20091_M9_helemoedet.xml']"
      ]
     },
     "execution_count": 17,
     "metadata": {},
     "output_type": "execute_result"
    }
   ],
   "source": [
    "dirs2"
   ]
  },
  {
   "cell_type": "code",
   "execution_count": 138,
   "id": "8f5dccd5",
   "metadata": {},
   "outputs": [
    {
     "name": "stderr",
     "output_type": "stream",
     "text": [
      "C:\\Users\\kim\\AppData\\Local\\Temp\\ipykernel_10588\\64261522.py:11: FutureWarning: The frame.append method is deprecated and will be removed from pandas in a future version. Use pandas.concat instead.\n",
      "  df = df.append(\n",
      "C:\\Users\\kim\\AppData\\Local\\Temp\\ipykernel_10588\\64261522.py:11: FutureWarning: The frame.append method is deprecated and will be removed from pandas in a future version. Use pandas.concat instead.\n",
      "  df = df.append(\n"
     ]
    },
    {
     "data": {
      "text/html": [
       "<div>\n",
       "<style scoped>\n",
       "    .dataframe tbody tr th:only-of-type {\n",
       "        vertical-align: middle;\n",
       "    }\n",
       "\n",
       "    .dataframe tbody tr th {\n",
       "        vertical-align: top;\n",
       "    }\n",
       "\n",
       "    .dataframe thead th {\n",
       "        text-align: right;\n",
       "    }\n",
       "</style>\n",
       "<table border=\"1\" class=\"dataframe\">\n",
       "  <thead>\n",
       "    <tr style=\"text-align: right;\">\n",
       "      <th></th>\n",
       "      <th>id</th>\n",
       "      <th>name</th>\n",
       "    </tr>\n",
       "  </thead>\n",
       "  <tbody>\n",
       "    <tr>\n",
       "      <th>0</th>\n",
       "      <td>0</td>\n",
       "      <td>All Categories</td>\n",
       "    </tr>\n",
       "    <tr>\n",
       "      <th>1</th>\n",
       "      <td>13</td>\n",
       "      <td>RealEstate.com.au [H]</td>\n",
       "    </tr>\n",
       "  </tbody>\n",
       "</table>\n",
       "</div>"
      ],
      "text/plain": [
       "   id                   name\n",
       "0   0         All Categories\n",
       "1  13  RealEstate.com.au [H]"
      ]
     },
     "execution_count": 138,
     "metadata": {},
     "output_type": "execute_result"
    }
   ],
   "source": [
    "import pandas as pd\n",
    "import xml.etree.ElementTree as ET\n",
    "\n",
    "xml_str = '<?xml version=\"1.0\" encoding=\"utf-8\"?>\\n<response>\\n <head>\\n  <code>\\n   200\\n  </code>\\n </head>\\n <body>\\n  <data id=\"0\" name=\"All Categories\" t=\"2018052600\" tg=\"1\" type=\"category\"/>\\n  <data id=\"13\" name=\"RealEstate.com.au [H]\" t=\"2018052600\" tg=\"1\" type=\"publication\"/>\\n </body>\\n</response>'\n",
    "\n",
    "etree = ET.fromstring(xml_str)\n",
    "dfcols = ['id', 'name']\n",
    "df = pd.DataFrame(columns=dfcols)\n",
    "\n",
    "for i in etree.iter(tag='data'):\n",
    "    df = df.append(\n",
    "        pd.Series([i.get('id'), i.get('name')], index=dfcols),\n",
    "        ignore_index=True)\n",
    "\n",
    "df.head()"
   ]
  },
  {
   "cell_type": "code",
   "execution_count": null,
   "id": "e42374c6",
   "metadata": {},
   "outputs": [],
   "source": []
  }
 ],
 "metadata": {
  "kernelspec": {
   "display_name": "Python 3 (ipykernel)",
   "language": "python",
   "name": "python3"
  },
  "language_info": {
   "codemirror_mode": {
    "name": "ipython",
    "version": 3
   },
   "file_extension": ".py",
   "mimetype": "text/x-python",
   "name": "python",
   "nbconvert_exporter": "python",
   "pygments_lexer": "ipython3",
   "version": "3.9.7"
  }
 },
 "nbformat": 4,
 "nbformat_minor": 5
}
