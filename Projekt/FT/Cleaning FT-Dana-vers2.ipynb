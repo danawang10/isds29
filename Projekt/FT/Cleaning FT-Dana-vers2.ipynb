{
 "cells": [
  {
   "cell_type": "markdown",
   "id": "a455ed2f",
   "metadata": {},
   "source": [
    "## Cleaning FT dataset and basic statistics"
   ]
  },
  {
   "cell_type": "code",
   "execution_count": 138,
   "id": "00cfb2f0-6d1d-4c5e-b9b3-f640fcabf283",
   "metadata": {},
   "outputs": [],
   "source": [
    "import requests\n",
    "import time\n",
    "from bs4 import BeautifulSoup\n",
    "from bs4 import SoupStrainer\n",
    "import tqdm\n",
    "import pandas as pd\n",
    "import numpy as np\n",
    "import datetime as dt\n",
    "\n",
    "import matplotlib.pyplot as plt\n",
    "import seaborn as sns\n"
   ]
  },
  {
   "cell_type": "markdown",
   "id": "a8fe060d",
   "metadata": {},
   "source": [
    "### Import dataset"
   ]
  },
  {
   "cell_type": "code",
   "execution_count": 142,
   "id": "9f7d0fc3-781d-4c0b-a0c8-e3a8305c56c1",
   "metadata": {},
   "outputs": [
    {
     "name": "stdout",
     "output_type": "stream",
     "text": [
      "Number of rows in the scraped XML dataset for FT: 16689\n"
     ]
    }
   ],
   "source": [
    "# Import FT dataset\n",
    "df = pd.read_csv('FT.csv')\n",
    "print(f\"Number of rows in the scraped XML dataset for FT: {len(df)}\")"
   ]
  },
  {
   "cell_type": "markdown",
   "id": "1b6d9a71",
   "metadata": {},
   "source": [
    "### Diverse cleaning operations"
   ]
  },
  {
   "cell_type": "code",
   "execution_count": 83,
   "id": "834bbfea",
   "metadata": {},
   "outputs": [],
   "source": [
    "ft = df.copy()"
   ]
  },
  {
   "cell_type": "markdown",
   "id": "d2a35c45",
   "metadata": {},
   "source": [
    "#### FT Dataset"
   ]
  },
  {
   "cell_type": "markdown",
   "id": "d1f879af",
   "metadata": {},
   "source": [
    "Firstly, we make sure that the elements in each column are formatted correctly. "
   ]
  },
  {
   "cell_type": "code",
   "execution_count": 84,
   "id": "0648e649",
   "metadata": {},
   "outputs": [],
   "source": [
    "# Add source column\n",
    "ft['source'] = 'FT'\n",
    "\n",
    "# Change date to date_time objects, session and meetingnumber to integers \n",
    "ft['date'] = pd.to_datetime(ft['date'])\n",
    "ft['session'] = ft['session'].astype(int)\n",
    "ft['meetingnumber'] = ft['meetingnumber'].astype(int)"
   ]
  },
  {
   "cell_type": "markdown",
   "id": "aa50fc6b",
   "metadata": {},
   "source": [
    "Secondly, we discard rows that are of no interest. "
   ]
  },
  {
   "cell_type": "code",
   "execution_count": 85,
   "id": "8fb61d1a",
   "metadata": {},
   "outputs": [
    {
     "name": "stdout",
     "output_type": "stream",
     "text": [
      "Number of rows that contain 'sygeplej in contents: 659\n"
     ]
    }
   ],
   "source": [
    "# Discard rows where 'sygeplej*' is not mentioned in content. \n",
    "ft = ft[ft['content'].str.contains(\"sygeplej\")]\n",
    "\n",
    "print(f\"Number of rows that contain 'sygeplej in contents: {len(ft)}\")"
   ]
  },
  {
   "cell_type": "code",
   "execution_count": 86,
   "id": "a3f27234-38a8-46c5-b016-83c7d70d96ac",
   "metadata": {
    "scrolled": true,
    "tags": []
   },
   "outputs": [
    {
     "name": "stdout",
     "output_type": "stream",
     "text": [
      "Number of rows from period 2012-2022: 524\n"
     ]
    }
   ],
   "source": [
    "# Drop articles published outside period of interest (2012-2022)\n",
    "ft = ft[ft['date'].dt.year >= 2012]\n",
    "\n",
    "# Reset index\n",
    "ft = ft.reset_index(drop = True)\n",
    "\n",
    "print(f\"Number of rows from period 2012-2022: {len(ft)}\")"
   ]
  },
  {
   "cell_type": "markdown",
   "id": "aff27912",
   "metadata": {},
   "source": [
    "##### Checking for duplicates"
   ]
  },
  {
   "cell_type": "code",
   "execution_count": 118,
   "id": "f0f89e01",
   "metadata": {},
   "outputs": [
    {
     "name": "stdout",
     "output_type": "stream",
     "text": [
      "Number of duplicated rows based on 'content': 0\n"
     ]
    }
   ],
   "source": [
    "duplicateRowsDF = ft_new[ft_new.duplicated(['content'])]\n",
    "print(f\"Number of duplicated rows based on 'content': {len(duplicateRowsDF)}\")"
   ]
  },
  {
   "cell_type": "markdown",
   "id": "79e3dfb1",
   "metadata": {},
   "source": [
    "#### Columns of FT dataset: \n",
    "* `session` contains the session number - Folketingssamling\n",
    "* `meetingnumber` contains the meetning number within the session\n",
    "* `date` contains the date of the meeting in the datetime format\n",
    "* `location` contains the location of the meeting - Folketingssalen\n",
    "* `group` contains Folketinget\n",
    "* `title`(to come) contains the articles' title\n",
    "* `content` contains the transscription of the meeting\n",
    "* `source` indicates the source (FT) \n",
    "* `links` contains the link to the original transscript"
   ]
  },
  {
   "cell_type": "markdown",
   "id": "4fcbcb47",
   "metadata": {},
   "source": [
    "#### Cleaning articles' content"
   ]
  },
  {
   "cell_type": "code",
   "execution_count": 119,
   "id": "69943cbf",
   "metadata": {},
   "outputs": [],
   "source": [
    "def cleaning_texts(df):\n",
    "    \n",
    "    '''\n",
    "    Function cleans the text of the \"content\" column. \n",
    "    '''\n",
    "    \n",
    "    df_new = df.copy()\n",
    "    \n",
    "    for i in ft[['content']]:\n",
    "        df_new[i] = df_new[i].str.lower()\\\n",
    "            .str.replace('\\r', '')\\\n",
    "            .str.replace('\\n', '')\\\n",
    "            .str.replace('\\xa0', '')\n",
    "    \n",
    "    for i in ft[['location']]:\n",
    "        df_new[i] = df_new[i].str.lower()\\\n",
    "        \n",
    "    for i in ft[['group']]:\n",
    "        df_new[i] = df_new[i].str.lower()\\\n",
    "\n",
    "    return df_new"
   ]
  },
  {
   "cell_type": "code",
   "execution_count": 120,
   "id": "5841e2a2",
   "metadata": {},
   "outputs": [],
   "source": [
    "# Cleaning datasets with cleaning function\n",
    "ft_new = cleaning_texts(ft)"
   ]
  },
  {
   "cell_type": "code",
   "execution_count": 121,
   "id": "d4e31f6f",
   "metadata": {
    "scrolled": true
   },
   "outputs": [
    {
     "data": {
      "text/html": [
       "<div>\n",
       "<style scoped>\n",
       "    .dataframe tbody tr th:only-of-type {\n",
       "        vertical-align: middle;\n",
       "    }\n",
       "\n",
       "    .dataframe tbody tr th {\n",
       "        vertical-align: top;\n",
       "    }\n",
       "\n",
       "    .dataframe thead th {\n",
       "        text-align: right;\n",
       "    }\n",
       "</style>\n",
       "<table border=\"1\" class=\"dataframe\">\n",
       "  <thead>\n",
       "    <tr style=\"text-align: right;\">\n",
       "      <th></th>\n",
       "      <th>session</th>\n",
       "      <th>meetingnumber</th>\n",
       "      <th>date</th>\n",
       "      <th>location</th>\n",
       "      <th>group</th>\n",
       "      <th>content</th>\n",
       "      <th>path</th>\n",
       "      <th>source</th>\n",
       "    </tr>\n",
       "  </thead>\n",
       "  <tbody>\n",
       "    <tr>\n",
       "      <th>0</th>\n",
       "      <td>20111</td>\n",
       "      <td>100</td>\n",
       "      <td>2012-09-06</td>\n",
       "      <td>folketingssalen</td>\n",
       "      <td>folketinget</td>\n",
       "      <td>det eneste punkt på dagsordenen er: 1) 1. beha...</td>\n",
       "      <td>/ODAXML/Referat/samling/20111/20111_M100_helem...</td>\n",
       "      <td>FT</td>\n",
       "    </tr>\n",
       "    <tr>\n",
       "      <th>1</th>\n",
       "      <td>20111</td>\n",
       "      <td>102</td>\n",
       "      <td>2012-09-13</td>\n",
       "      <td>folketingssalen</td>\n",
       "      <td>folketinget</td>\n",
       "      <td>det næste punkt på dagsordenen er: 3) 3. behan...</td>\n",
       "      <td>/ODAXML/Referat/samling/20111/20111_M102_helem...</td>\n",
       "      <td>FT</td>\n",
       "    </tr>\n",
       "    <tr>\n",
       "      <th>2</th>\n",
       "      <td>20111</td>\n",
       "      <td>35</td>\n",
       "      <td>2012-01-18</td>\n",
       "      <td>folketingssalen</td>\n",
       "      <td>folketinget</td>\n",
       "      <td>det sidste punkt på dagsordenen er: 2) besvare...</td>\n",
       "      <td>/ODAXML/Referat/samling/20111/20111_M35_helemo...</td>\n",
       "      <td>FT</td>\n",
       "    </tr>\n",
       "    <tr>\n",
       "      <th>3</th>\n",
       "      <td>20111</td>\n",
       "      <td>39</td>\n",
       "      <td>2012-01-26</td>\n",
       "      <td>folketingssalen</td>\n",
       "      <td>folketinget</td>\n",
       "      <td>det sidste punkt på dagsordenen er: 9) 1. beha...</td>\n",
       "      <td>/ODAXML/Referat/samling/20111/20111_M39_helemo...</td>\n",
       "      <td>FT</td>\n",
       "    </tr>\n",
       "    <tr>\n",
       "      <th>4</th>\n",
       "      <td>20111</td>\n",
       "      <td>47</td>\n",
       "      <td>2012-02-09</td>\n",
       "      <td>folketingssalen</td>\n",
       "      <td>folketinget</td>\n",
       "      <td>det næste punkt på dagsordenen er: 8) 1. behan...</td>\n",
       "      <td>/ODAXML/Referat/samling/20111/20111_M47_helemo...</td>\n",
       "      <td>FT</td>\n",
       "    </tr>\n",
       "    <tr>\n",
       "      <th>...</th>\n",
       "      <td>...</td>\n",
       "      <td>...</td>\n",
       "      <td>...</td>\n",
       "      <td>...</td>\n",
       "      <td>...</td>\n",
       "      <td>...</td>\n",
       "      <td>...</td>\n",
       "      <td>...</td>\n",
       "    </tr>\n",
       "    <tr>\n",
       "      <th>519</th>\n",
       "      <td>20211</td>\n",
       "      <td>94</td>\n",
       "      <td>2022-04-21</td>\n",
       "      <td>folketingssalen</td>\n",
       "      <td>folketinget</td>\n",
       "      <td>det næste punkt på dagsordenen er: 23) 1. beha...</td>\n",
       "      <td>/ODAXML/Referat/samling/20211/20211_M94_helemo...</td>\n",
       "      <td>FT</td>\n",
       "    </tr>\n",
       "    <tr>\n",
       "      <th>520</th>\n",
       "      <td>20211</td>\n",
       "      <td>97</td>\n",
       "      <td>2022-04-26</td>\n",
       "      <td>folketingssalen</td>\n",
       "      <td>folketinget</td>\n",
       "      <td>det første punkt på dagsordenen er: 1) spørget...</td>\n",
       "      <td>/ODAXML/Referat/samling/20211/20211_M97_helemo...</td>\n",
       "      <td>FT</td>\n",
       "    </tr>\n",
       "    <tr>\n",
       "      <th>521</th>\n",
       "      <td>20211</td>\n",
       "      <td>97</td>\n",
       "      <td>2022-04-26</td>\n",
       "      <td>folketingssalen</td>\n",
       "      <td>folketinget</td>\n",
       "      <td>det næste punkt på dagsordenen er: 18) 1. beha...</td>\n",
       "      <td>/ODAXML/Referat/samling/20211/20211_M97_helemo...</td>\n",
       "      <td>FT</td>\n",
       "    </tr>\n",
       "    <tr>\n",
       "      <th>522</th>\n",
       "      <td>20211</td>\n",
       "      <td>97</td>\n",
       "      <td>2022-04-26</td>\n",
       "      <td>folketingssalen</td>\n",
       "      <td>folketinget</td>\n",
       "      <td>det næste punkt på dagsordenen er: 19) 1. beha...</td>\n",
       "      <td>/ODAXML/Referat/samling/20211/20211_M97_helemo...</td>\n",
       "      <td>FT</td>\n",
       "    </tr>\n",
       "    <tr>\n",
       "      <th>523</th>\n",
       "      <td>20211</td>\n",
       "      <td>9</td>\n",
       "      <td>2021-10-26</td>\n",
       "      <td>folketingssalen</td>\n",
       "      <td>folketinget</td>\n",
       "      <td>det næste punkt på dagsordenen er: 5) 1. behan...</td>\n",
       "      <td>/ODAXML/Referat/samling/20211/20211_M9_helemoe...</td>\n",
       "      <td>FT</td>\n",
       "    </tr>\n",
       "  </tbody>\n",
       "</table>\n",
       "<p>524 rows × 8 columns</p>\n",
       "</div>"
      ],
      "text/plain": [
       "     session  meetingnumber       date         location        group  \\\n",
       "0      20111            100 2012-09-06  folketingssalen  folketinget   \n",
       "1      20111            102 2012-09-13  folketingssalen  folketinget   \n",
       "2      20111             35 2012-01-18  folketingssalen  folketinget   \n",
       "3      20111             39 2012-01-26  folketingssalen  folketinget   \n",
       "4      20111             47 2012-02-09  folketingssalen  folketinget   \n",
       "..       ...            ...        ...              ...          ...   \n",
       "519    20211             94 2022-04-21  folketingssalen  folketinget   \n",
       "520    20211             97 2022-04-26  folketingssalen  folketinget   \n",
       "521    20211             97 2022-04-26  folketingssalen  folketinget   \n",
       "522    20211             97 2022-04-26  folketingssalen  folketinget   \n",
       "523    20211              9 2021-10-26  folketingssalen  folketinget   \n",
       "\n",
       "                                               content  \\\n",
       "0    det eneste punkt på dagsordenen er: 1) 1. beha...   \n",
       "1    det næste punkt på dagsordenen er: 3) 3. behan...   \n",
       "2    det sidste punkt på dagsordenen er: 2) besvare...   \n",
       "3    det sidste punkt på dagsordenen er: 9) 1. beha...   \n",
       "4    det næste punkt på dagsordenen er: 8) 1. behan...   \n",
       "..                                                 ...   \n",
       "519  det næste punkt på dagsordenen er: 23) 1. beha...   \n",
       "520  det første punkt på dagsordenen er: 1) spørget...   \n",
       "521  det næste punkt på dagsordenen er: 18) 1. beha...   \n",
       "522  det næste punkt på dagsordenen er: 19) 1. beha...   \n",
       "523  det næste punkt på dagsordenen er: 5) 1. behan...   \n",
       "\n",
       "                                                  path source  \n",
       "0    /ODAXML/Referat/samling/20111/20111_M100_helem...     FT  \n",
       "1    /ODAXML/Referat/samling/20111/20111_M102_helem...     FT  \n",
       "2    /ODAXML/Referat/samling/20111/20111_M35_helemo...     FT  \n",
       "3    /ODAXML/Referat/samling/20111/20111_M39_helemo...     FT  \n",
       "4    /ODAXML/Referat/samling/20111/20111_M47_helemo...     FT  \n",
       "..                                                 ...    ...  \n",
       "519  /ODAXML/Referat/samling/20211/20211_M94_helemo...     FT  \n",
       "520  /ODAXML/Referat/samling/20211/20211_M97_helemo...     FT  \n",
       "521  /ODAXML/Referat/samling/20211/20211_M97_helemo...     FT  \n",
       "522  /ODAXML/Referat/samling/20211/20211_M97_helemo...     FT  \n",
       "523  /ODAXML/Referat/samling/20211/20211_M9_helemoe...     FT  \n",
       "\n",
       "[524 rows x 8 columns]"
      ]
     },
     "execution_count": 121,
     "metadata": {},
     "output_type": "execute_result"
    }
   ],
   "source": [
    "ft_new"
   ]
  },
  {
   "cell_type": "code",
   "execution_count": 161,
   "id": "001ef081",
   "metadata": {},
   "outputs": [],
   "source": [
    "import re"
   ]
  },
  {
   "cell_type": "code",
   "execution_count": 167,
   "id": "f93f8786",
   "metadata": {},
   "outputs": [],
   "source": [
    "sentences = ['my words are here', 'hi guys', 'you are happy']\n",
    "sentences[0]\n",
    "words_list = []\n",
    "\n",
    "for i in range(0, len(sentences)): \n",
    "    words_list.append(re.split('\\s+', sentences[i]))"
   ]
  },
  {
   "cell_type": "code",
   "execution_count": 168,
   "id": "4e609b2e",
   "metadata": {},
   "outputs": [
    {
     "data": {
      "text/plain": [
       "[['my', 'words', 'are', 'here'], ['hi', 'guys'], ['you', 'are', 'happy']]"
      ]
     },
     "execution_count": 168,
     "metadata": {},
     "output_type": "execute_result"
    }
   ],
   "source": [
    "words_list"
   ]
  },
  {
   "cell_type": "markdown",
   "id": "7680594a",
   "metadata": {},
   "source": [
    "### Creating more relevant datasets\n",
    "\n",
    "Creating different DataFrames according to the number of times \"sygeplej*\" is found in the articles' content. The more frequently the term features in the text, the more relevant the articles' should be for our analysis. \n",
    "\n",
    "_For now, we continue working with data in which \"sygeplej*\" appears at least twice_."
   ]
  },
  {
   "cell_type": "code",
   "execution_count": 122,
   "id": "40455c7e",
   "metadata": {},
   "outputs": [],
   "source": [
    "### Defining function"
   ]
  },
  {
   "cell_type": "code",
   "execution_count": 123,
   "id": "89ba2427",
   "metadata": {},
   "outputs": [],
   "source": [
    "# Create different datasets with \"sygeplej*\" featuring at least X times in the text\n",
    "def sygeplej_count(df):\n",
    "    df_sygeplej1x = df[df['content'].str.count(\"sygeplej\") >= 1]\n",
    "    df_sygeplej2x = df[df['content'].str.count(\"sygeplej\") >= 2]\n",
    "    df_sygeplej3x = df[df['content'].str.count(\"sygeplej\") >= 3]\n",
    "    df_sygeplej4x = df[df['content'].str.count(\"sygeplej\") >= 4]\n",
    "    return df_sygeplej1x, df_sygeplej2x, df_sygeplej3x, df_sygeplej4x"
   ]
  },
  {
   "cell_type": "code",
   "execution_count": 124,
   "id": "79a585a0",
   "metadata": {},
   "outputs": [],
   "source": [
    "ft_sygeplej1x, ft_sygeplej2x, ft_sygeplej3x, ft_sygeplej4x = sygeplej_count(ft)"
   ]
  },
  {
   "cell_type": "code",
   "execution_count": 125,
   "id": "993517eb",
   "metadata": {},
   "outputs": [
    {
     "data": {
      "text/html": [
       "<div>\n",
       "<style scoped>\n",
       "    .dataframe tbody tr th:only-of-type {\n",
       "        vertical-align: middle;\n",
       "    }\n",
       "\n",
       "    .dataframe tbody tr th {\n",
       "        vertical-align: top;\n",
       "    }\n",
       "\n",
       "    .dataframe thead th {\n",
       "        text-align: right;\n",
       "    }\n",
       "</style>\n",
       "<table border=\"1\" class=\"dataframe\">\n",
       "  <thead>\n",
       "    <tr style=\"text-align: right;\">\n",
       "      <th></th>\n",
       "      <th>sygeplej* count</th>\n",
       "      <th>Num. of articles (FT)</th>\n",
       "    </tr>\n",
       "  </thead>\n",
       "  <tbody>\n",
       "    <tr>\n",
       "      <th>0</th>\n",
       "      <td>At least once</td>\n",
       "      <td>524</td>\n",
       "    </tr>\n",
       "    <tr>\n",
       "      <th>1</th>\n",
       "      <td>At least twice</td>\n",
       "      <td>291</td>\n",
       "    </tr>\n",
       "    <tr>\n",
       "      <th>2</th>\n",
       "      <td>At least three times</td>\n",
       "      <td>199</td>\n",
       "    </tr>\n",
       "    <tr>\n",
       "      <th>3</th>\n",
       "      <td>More than three times</td>\n",
       "      <td>142</td>\n",
       "    </tr>\n",
       "  </tbody>\n",
       "</table>\n",
       "</div>"
      ],
      "text/plain": [
       "         sygeplej* count  Num. of articles (FT)\n",
       "0          At least once                    524\n",
       "1         At least twice                    291\n",
       "2   At least three times                    199\n",
       "3  More than three times                    142"
      ]
     },
     "metadata": {},
     "output_type": "display_data"
    }
   ],
   "source": [
    "dict_sygeplej_count = {\"sygeplej* count\":\\\n",
    "                       ['At least once', 'At least twice', 'At least three times', 'More than three times'],\\\n",
    "                       \"Num. of articles (FT)\" :\\\n",
    "                       [len(ft_sygeplej1x), len(ft_sygeplej2x), len(ft_sygeplej3x), len(ft_sygeplej4x)]}\n",
    "\n",
    "table_sygeplej_count = pd.DataFrame(data = dict_sygeplej_count)\n",
    "display(table_sygeplej_count)"
   ]
  },
  {
   "cell_type": "markdown",
   "id": "ec9dee67",
   "metadata": {},
   "source": [
    "## Frequency of Articles by Date"
   ]
  },
  {
   "cell_type": "code",
   "execution_count": 126,
   "id": "b35c7d4d-42c9-421e-bd2c-68c2085dd0c2",
   "metadata": {},
   "outputs": [
    {
     "name": "stdout",
     "output_type": "stream",
     "text": [
      "    year  month  content\n",
      "0   2012      1        2\n",
      "1   2012      2        2\n",
      "2   2012      3        4\n",
      "3   2012      4        6\n",
      "4   2012      5        9\n",
      "..   ...    ...      ...\n",
      "95  2022      2        6\n",
      "96  2022      3        9\n",
      "97  2022      4        8\n",
      "98  2022      5       13\n",
      "99  2022      6        1\n",
      "\n",
      "[100 rows x 3 columns]\n"
     ]
    }
   ],
   "source": [
    "def frequency_table(df):\n",
    "    df['year']=pd.to_datetime(df[\"date\"]).dt.year\n",
    "    df['month']=pd.to_datetime(df[\"date\"]).dt.month\n",
    "    df_freq=df.copy()\n",
    "    df_freq = df_freq.dropna(subset = ['year', 'month'])\n",
    "    \n",
    "    \n",
    "    df_freq1, df_freq2, df_freq3, df_freq4=sygeplej_count(df_freq)\n",
    "    \n",
    "    freq1 = df_freq1.groupby(['year', 'month'])[\"content\"].count()\n",
    "    df_freq1x=pd.DataFrame(freq1).reset_index(drop=False)\n",
    "    \n",
    "    freq1.reset_index(drop=False)\n",
    "    print(df_freq1x)\n",
    "    freq2 = df_freq2.groupby(['year', 'month'])[\"content\"].count()\n",
    "    df_freq2x=pd.DataFrame(freq2).reset_index(drop=True)\n",
    "\n",
    "    freq3 = df_freq3.groupby(['year', 'month'])[\"content\"].count()\n",
    "    df_freq3x=pd.DataFrame(freq3).reset_index(drop=True)\n",
    "    \n",
    "    freq4 = df_freq4.groupby(['year', 'month'])[\"content\"].count()\n",
    "    df_freq4x=pd.DataFrame(freq4).reset_index(drop=True)\n",
    "  \n",
    "      \n",
    "    \n",
    "    df_freq = pd.DataFrame([df_freq1x['year'].astype(str),df_freq1x['month'].astype(str), df_freq1x['content'] , df_freq2x['content'],\\\n",
    "                            df_freq3x['content'], df_freq4x['content']]).transpose()\n",
    "    df_freq.columns=(['Year', \"Month\",\"At least once\", \"At least twice\", \"At least three times\", \"More than three times\"])\n",
    "    df_freq['Date']=df_freq['Year']+\"-\"+ df_freq['Month']\n",
    "    \n",
    "    return df_freq\n",
    "ft_freq_df=frequency_table(ft)\n"
   ]
  },
  {
   "cell_type": "code",
   "execution_count": 129,
   "id": "8875ddc4-d931-48b8-94fe-f099d2d3239c",
   "metadata": {},
   "outputs": [
    {
     "data": {
      "text/html": [
       "<div>\n",
       "<style scoped>\n",
       "    .dataframe tbody tr th:only-of-type {\n",
       "        vertical-align: middle;\n",
       "    }\n",
       "\n",
       "    .dataframe tbody tr th {\n",
       "        vertical-align: top;\n",
       "    }\n",
       "\n",
       "    .dataframe thead th {\n",
       "        text-align: right;\n",
       "    }\n",
       "</style>\n",
       "<table border=\"1\" class=\"dataframe\">\n",
       "  <thead>\n",
       "    <tr style=\"text-align: right;\">\n",
       "      <th></th>\n",
       "      <th>Year</th>\n",
       "      <th>Month</th>\n",
       "      <th>At least once</th>\n",
       "      <th>At least twice</th>\n",
       "      <th>At least three times</th>\n",
       "      <th>More than three times</th>\n",
       "      <th>Date</th>\n",
       "    </tr>\n",
       "  </thead>\n",
       "  <tbody>\n",
       "    <tr>\n",
       "      <th>0</th>\n",
       "      <td>2012</td>\n",
       "      <td>1</td>\n",
       "      <td>2</td>\n",
       "      <td>1.0</td>\n",
       "      <td>4.0</td>\n",
       "      <td>4.0</td>\n",
       "      <td>2012-1</td>\n",
       "    </tr>\n",
       "    <tr>\n",
       "      <th>1</th>\n",
       "      <td>2012</td>\n",
       "      <td>2</td>\n",
       "      <td>2</td>\n",
       "      <td>4.0</td>\n",
       "      <td>1.0</td>\n",
       "      <td>1.0</td>\n",
       "      <td>2012-2</td>\n",
       "    </tr>\n",
       "    <tr>\n",
       "      <th>2</th>\n",
       "      <td>2012</td>\n",
       "      <td>3</td>\n",
       "      <td>4</td>\n",
       "      <td>2.0</td>\n",
       "      <td>5.0</td>\n",
       "      <td>3.0</td>\n",
       "      <td>2012-3</td>\n",
       "    </tr>\n",
       "    <tr>\n",
       "      <th>3</th>\n",
       "      <td>2012</td>\n",
       "      <td>4</td>\n",
       "      <td>6</td>\n",
       "      <td>5.0</td>\n",
       "      <td>1.0</td>\n",
       "      <td>1.0</td>\n",
       "      <td>2012-4</td>\n",
       "    </tr>\n",
       "    <tr>\n",
       "      <th>4</th>\n",
       "      <td>2012</td>\n",
       "      <td>5</td>\n",
       "      <td>9</td>\n",
       "      <td>1.0</td>\n",
       "      <td>1.0</td>\n",
       "      <td>1.0</td>\n",
       "      <td>2012-5</td>\n",
       "    </tr>\n",
       "    <tr>\n",
       "      <th>...</th>\n",
       "      <td>...</td>\n",
       "      <td>...</td>\n",
       "      <td>...</td>\n",
       "      <td>...</td>\n",
       "      <td>...</td>\n",
       "      <td>...</td>\n",
       "      <td>...</td>\n",
       "    </tr>\n",
       "    <tr>\n",
       "      <th>95</th>\n",
       "      <td>2022</td>\n",
       "      <td>2</td>\n",
       "      <td>6</td>\n",
       "      <td>NaN</td>\n",
       "      <td>NaN</td>\n",
       "      <td>NaN</td>\n",
       "      <td>2022-2</td>\n",
       "    </tr>\n",
       "    <tr>\n",
       "      <th>96</th>\n",
       "      <td>2022</td>\n",
       "      <td>3</td>\n",
       "      <td>9</td>\n",
       "      <td>NaN</td>\n",
       "      <td>NaN</td>\n",
       "      <td>NaN</td>\n",
       "      <td>2022-3</td>\n",
       "    </tr>\n",
       "    <tr>\n",
       "      <th>97</th>\n",
       "      <td>2022</td>\n",
       "      <td>4</td>\n",
       "      <td>8</td>\n",
       "      <td>NaN</td>\n",
       "      <td>NaN</td>\n",
       "      <td>NaN</td>\n",
       "      <td>2022-4</td>\n",
       "    </tr>\n",
       "    <tr>\n",
       "      <th>98</th>\n",
       "      <td>2022</td>\n",
       "      <td>5</td>\n",
       "      <td>13</td>\n",
       "      <td>NaN</td>\n",
       "      <td>NaN</td>\n",
       "      <td>NaN</td>\n",
       "      <td>2022-5</td>\n",
       "    </tr>\n",
       "    <tr>\n",
       "      <th>99</th>\n",
       "      <td>2022</td>\n",
       "      <td>6</td>\n",
       "      <td>1</td>\n",
       "      <td>NaN</td>\n",
       "      <td>NaN</td>\n",
       "      <td>NaN</td>\n",
       "      <td>2022-6</td>\n",
       "    </tr>\n",
       "  </tbody>\n",
       "</table>\n",
       "<p>100 rows × 7 columns</p>\n",
       "</div>"
      ],
      "text/plain": [
       "    Year Month At least once At least twice At least three times  \\\n",
       "0   2012     1             2            1.0                  4.0   \n",
       "1   2012     2             2            4.0                  1.0   \n",
       "2   2012     3             4            2.0                  5.0   \n",
       "3   2012     4             6            5.0                  1.0   \n",
       "4   2012     5             9            1.0                  1.0   \n",
       "..   ...   ...           ...            ...                  ...   \n",
       "95  2022     2             6            NaN                  NaN   \n",
       "96  2022     3             9            NaN                  NaN   \n",
       "97  2022     4             8            NaN                  NaN   \n",
       "98  2022     5            13            NaN                  NaN   \n",
       "99  2022     6             1            NaN                  NaN   \n",
       "\n",
       "   More than three times    Date  \n",
       "0                    4.0  2012-1  \n",
       "1                    1.0  2012-2  \n",
       "2                    3.0  2012-3  \n",
       "3                    1.0  2012-4  \n",
       "4                    1.0  2012-5  \n",
       "..                   ...     ...  \n",
       "95                   NaN  2022-2  \n",
       "96                   NaN  2022-3  \n",
       "97                   NaN  2022-4  \n",
       "98                   NaN  2022-5  \n",
       "99                   NaN  2022-6  \n",
       "\n",
       "[100 rows x 7 columns]"
      ]
     },
     "execution_count": 129,
     "metadata": {},
     "output_type": "execute_result"
    }
   ],
   "source": [
    "ft_freq_df"
   ]
  },
  {
   "cell_type": "code",
   "execution_count": 130,
   "id": "259259e5-cfa6-4f18-8987-6aea5464d176",
   "metadata": {},
   "outputs": [],
   "source": [
    "year_month=[]\n",
    "for year in range(2012,2023):\n",
    "    for month in [\"jan\", \"feb\",\"mar\", \"apr\", \"may\", \"jun\", \"jul\", \"aug\", \"sep\", \"okt\", \"nov\", \"dec\"]:\n",
    "        _=f'{year} {month}'\n",
    "        year_month.append(_)\n",
    "year_month=year_month[0:-4]\n",
    "date=pd.DataFrame(year_month) "
   ]
  },
  {
   "cell_type": "code",
   "execution_count": 131,
   "id": "3e797259-5dea-4424-ae6d-3bb7398bb6de",
   "metadata": {},
   "outputs": [
    {
     "data": {
      "text/html": [
       "<div>\n",
       "<style scoped>\n",
       "    .dataframe tbody tr th:only-of-type {\n",
       "        vertical-align: middle;\n",
       "    }\n",
       "\n",
       "    .dataframe tbody tr th {\n",
       "        vertical-align: top;\n",
       "    }\n",
       "\n",
       "    .dataframe thead th {\n",
       "        text-align: right;\n",
       "    }\n",
       "</style>\n",
       "<table border=\"1\" class=\"dataframe\">\n",
       "  <thead>\n",
       "    <tr style=\"text-align: right;\">\n",
       "      <th></th>\n",
       "      <th>Year</th>\n",
       "      <th>Month</th>\n",
       "      <th>At least once</th>\n",
       "      <th>At least twice</th>\n",
       "      <th>At least three times</th>\n",
       "      <th>More than three times</th>\n",
       "      <th>Date</th>\n",
       "    </tr>\n",
       "  </thead>\n",
       "  <tbody>\n",
       "    <tr>\n",
       "      <th>0</th>\n",
       "      <td>2012</td>\n",
       "      <td>1</td>\n",
       "      <td>2</td>\n",
       "      <td>1.0</td>\n",
       "      <td>4.0</td>\n",
       "      <td>4.0</td>\n",
       "      <td>2012-1</td>\n",
       "    </tr>\n",
       "    <tr>\n",
       "      <th>1</th>\n",
       "      <td>2012</td>\n",
       "      <td>2</td>\n",
       "      <td>2</td>\n",
       "      <td>4.0</td>\n",
       "      <td>1.0</td>\n",
       "      <td>1.0</td>\n",
       "      <td>2012-2</td>\n",
       "    </tr>\n",
       "    <tr>\n",
       "      <th>2</th>\n",
       "      <td>2012</td>\n",
       "      <td>3</td>\n",
       "      <td>4</td>\n",
       "      <td>2.0</td>\n",
       "      <td>5.0</td>\n",
       "      <td>3.0</td>\n",
       "      <td>2012-3</td>\n",
       "    </tr>\n",
       "    <tr>\n",
       "      <th>3</th>\n",
       "      <td>2012</td>\n",
       "      <td>4</td>\n",
       "      <td>6</td>\n",
       "      <td>5.0</td>\n",
       "      <td>1.0</td>\n",
       "      <td>1.0</td>\n",
       "      <td>2012-4</td>\n",
       "    </tr>\n",
       "    <tr>\n",
       "      <th>4</th>\n",
       "      <td>2012</td>\n",
       "      <td>5</td>\n",
       "      <td>9</td>\n",
       "      <td>1.0</td>\n",
       "      <td>1.0</td>\n",
       "      <td>1.0</td>\n",
       "      <td>2012-5</td>\n",
       "    </tr>\n",
       "    <tr>\n",
       "      <th>...</th>\n",
       "      <td>...</td>\n",
       "      <td>...</td>\n",
       "      <td>...</td>\n",
       "      <td>...</td>\n",
       "      <td>...</td>\n",
       "      <td>...</td>\n",
       "      <td>...</td>\n",
       "    </tr>\n",
       "    <tr>\n",
       "      <th>95</th>\n",
       "      <td>2022</td>\n",
       "      <td>2</td>\n",
       "      <td>6</td>\n",
       "      <td>NaN</td>\n",
       "      <td>NaN</td>\n",
       "      <td>NaN</td>\n",
       "      <td>2022-2</td>\n",
       "    </tr>\n",
       "    <tr>\n",
       "      <th>96</th>\n",
       "      <td>2022</td>\n",
       "      <td>3</td>\n",
       "      <td>9</td>\n",
       "      <td>NaN</td>\n",
       "      <td>NaN</td>\n",
       "      <td>NaN</td>\n",
       "      <td>2022-3</td>\n",
       "    </tr>\n",
       "    <tr>\n",
       "      <th>97</th>\n",
       "      <td>2022</td>\n",
       "      <td>4</td>\n",
       "      <td>8</td>\n",
       "      <td>NaN</td>\n",
       "      <td>NaN</td>\n",
       "      <td>NaN</td>\n",
       "      <td>2022-4</td>\n",
       "    </tr>\n",
       "    <tr>\n",
       "      <th>98</th>\n",
       "      <td>2022</td>\n",
       "      <td>5</td>\n",
       "      <td>13</td>\n",
       "      <td>NaN</td>\n",
       "      <td>NaN</td>\n",
       "      <td>NaN</td>\n",
       "      <td>2022-5</td>\n",
       "    </tr>\n",
       "    <tr>\n",
       "      <th>99</th>\n",
       "      <td>2022</td>\n",
       "      <td>6</td>\n",
       "      <td>1</td>\n",
       "      <td>NaN</td>\n",
       "      <td>NaN</td>\n",
       "      <td>NaN</td>\n",
       "      <td>2022-6</td>\n",
       "    </tr>\n",
       "  </tbody>\n",
       "</table>\n",
       "<p>100 rows × 7 columns</p>\n",
       "</div>"
      ],
      "text/plain": [
       "    Year Month At least once At least twice At least three times  \\\n",
       "0   2012     1             2            1.0                  4.0   \n",
       "1   2012     2             2            4.0                  1.0   \n",
       "2   2012     3             4            2.0                  5.0   \n",
       "3   2012     4             6            5.0                  1.0   \n",
       "4   2012     5             9            1.0                  1.0   \n",
       "..   ...   ...           ...            ...                  ...   \n",
       "95  2022     2             6            NaN                  NaN   \n",
       "96  2022     3             9            NaN                  NaN   \n",
       "97  2022     4             8            NaN                  NaN   \n",
       "98  2022     5            13            NaN                  NaN   \n",
       "99  2022     6             1            NaN                  NaN   \n",
       "\n",
       "   More than three times    Date  \n",
       "0                    4.0  2012-1  \n",
       "1                    1.0  2012-2  \n",
       "2                    3.0  2012-3  \n",
       "3                    1.0  2012-4  \n",
       "4                    1.0  2012-5  \n",
       "..                   ...     ...  \n",
       "95                   NaN  2022-2  \n",
       "96                   NaN  2022-3  \n",
       "97                   NaN  2022-4  \n",
       "98                   NaN  2022-5  \n",
       "99                   NaN  2022-6  \n",
       "\n",
       "[100 rows x 7 columns]"
      ]
     },
     "execution_count": 131,
     "metadata": {},
     "output_type": "execute_result"
    }
   ],
   "source": [
    "ft_freq_df\n"
   ]
  },
  {
   "cell_type": "code",
   "execution_count": 132,
   "id": "078faba5-e4a2-4eee-a852-038c3b279973",
   "metadata": {},
   "outputs": [
    {
     "ename": "DataError",
     "evalue": "No numeric types to aggregate",
     "output_type": "error",
     "traceback": [
      "\u001b[0;31m---------------------------------------------------------------------------\u001b[0m",
      "\u001b[0;31mDataError\u001b[0m                                 Traceback (most recent call last)",
      "\u001b[0;32m<ipython-input-132-c576bc1e6ad4>\u001b[0m in \u001b[0;36m<module>\u001b[0;34m\u001b[0m\n\u001b[1;32m      4\u001b[0m \u001b[0mfig\u001b[0m\u001b[0;34m,\u001b[0m \u001b[0max\u001b[0m \u001b[0;34m=\u001b[0m \u001b[0mplt\u001b[0m\u001b[0;34m.\u001b[0m\u001b[0msubplots\u001b[0m\u001b[0;34m(\u001b[0m\u001b[0mnrows\u001b[0m\u001b[0;34m=\u001b[0m\u001b[0;36m4\u001b[0m\u001b[0;34m,\u001b[0m \u001b[0mncols\u001b[0m\u001b[0;34m=\u001b[0m\u001b[0;36m1\u001b[0m\u001b[0;34m,\u001b[0m \u001b[0msharey\u001b[0m\u001b[0;34m=\u001b[0m\u001b[0;32mFalse\u001b[0m\u001b[0;34m,\u001b[0m \u001b[0mfigsize\u001b[0m\u001b[0;34m=\u001b[0m\u001b[0;34m(\u001b[0m\u001b[0;36m25\u001b[0m\u001b[0;34m,\u001b[0m\u001b[0;36m10\u001b[0m\u001b[0;34m)\u001b[0m\u001b[0;34m)\u001b[0m\u001b[0;34m\u001b[0m\u001b[0;34m\u001b[0m\u001b[0m\n\u001b[1;32m      5\u001b[0m \u001b[0;34m\u001b[0m\u001b[0m\n\u001b[0;32m----> 6\u001b[0;31m \u001b[0max\u001b[0m\u001b[0;34m[\u001b[0m\u001b[0;36m0\u001b[0m\u001b[0;34m]\u001b[0m \u001b[0;34m=\u001b[0m \u001b[0msns\u001b[0m\u001b[0;34m.\u001b[0m\u001b[0mlineplot\u001b[0m\u001b[0;34m(\u001b[0m\u001b[0mx\u001b[0m \u001b[0;34m=\u001b[0m \u001b[0;34m'Date'\u001b[0m\u001b[0;34m,\u001b[0m \u001b[0my\u001b[0m \u001b[0;34m=\u001b[0m \u001b[0;34m\"At least once\"\u001b[0m\u001b[0;34m,\u001b[0m \u001b[0mdata\u001b[0m\u001b[0;34m=\u001b[0m\u001b[0mft_freq_df\u001b[0m\u001b[0;34m,\u001b[0m \u001b[0max\u001b[0m\u001b[0;34m=\u001b[0m\u001b[0max\u001b[0m\u001b[0;34m[\u001b[0m\u001b[0;36m0\u001b[0m\u001b[0;34m]\u001b[0m\u001b[0;34m)\u001b[0m\u001b[0;34m\u001b[0m\u001b[0;34m\u001b[0m\u001b[0m\n\u001b[0m\u001b[1;32m      7\u001b[0m \u001b[0max\u001b[0m\u001b[0;34m[\u001b[0m\u001b[0;36m0\u001b[0m\u001b[0;34m]\u001b[0m\u001b[0;34m.\u001b[0m\u001b[0mset\u001b[0m\u001b[0;34m(\u001b[0m\u001b[0mylim\u001b[0m\u001b[0;34m=\u001b[0m\u001b[0;34m(\u001b[0m\u001b[0;36m0\u001b[0m\u001b[0;34m,\u001b[0m \u001b[0;36m20\u001b[0m\u001b[0;34m)\u001b[0m\u001b[0;34m)\u001b[0m\u001b[0;34m\u001b[0m\u001b[0;34m\u001b[0m\u001b[0m\n\u001b[1;32m      8\u001b[0m \u001b[0max\u001b[0m\u001b[0;34m[\u001b[0m\u001b[0;36m1\u001b[0m\u001b[0;34m]\u001b[0m \u001b[0;34m=\u001b[0m \u001b[0msns\u001b[0m\u001b[0;34m.\u001b[0m\u001b[0mlineplot\u001b[0m\u001b[0;34m(\u001b[0m\u001b[0mx\u001b[0m \u001b[0;34m=\u001b[0m \u001b[0;34m'Date'\u001b[0m\u001b[0;34m,\u001b[0m \u001b[0my\u001b[0m \u001b[0;34m=\u001b[0m \u001b[0;34m\"At least twice\"\u001b[0m\u001b[0;34m,\u001b[0m \u001b[0mdata\u001b[0m\u001b[0;34m=\u001b[0m\u001b[0mft_freq_df\u001b[0m\u001b[0;34m,\u001b[0m \u001b[0max\u001b[0m\u001b[0;34m=\u001b[0m\u001b[0max\u001b[0m\u001b[0;34m[\u001b[0m\u001b[0;36m1\u001b[0m\u001b[0;34m]\u001b[0m\u001b[0;34m)\u001b[0m\u001b[0;34m\u001b[0m\u001b[0;34m\u001b[0m\u001b[0m\n",
      "\u001b[0;32m~/opt/anaconda3/lib/python3.8/site-packages/seaborn/_decorators.py\u001b[0m in \u001b[0;36minner_f\u001b[0;34m(*args, **kwargs)\u001b[0m\n\u001b[1;32m     44\u001b[0m             )\n\u001b[1;32m     45\u001b[0m         \u001b[0mkwargs\u001b[0m\u001b[0;34m.\u001b[0m\u001b[0mupdate\u001b[0m\u001b[0;34m(\u001b[0m\u001b[0;34m{\u001b[0m\u001b[0mk\u001b[0m\u001b[0;34m:\u001b[0m \u001b[0marg\u001b[0m \u001b[0;32mfor\u001b[0m \u001b[0mk\u001b[0m\u001b[0;34m,\u001b[0m \u001b[0marg\u001b[0m \u001b[0;32min\u001b[0m \u001b[0mzip\u001b[0m\u001b[0;34m(\u001b[0m\u001b[0msig\u001b[0m\u001b[0;34m.\u001b[0m\u001b[0mparameters\u001b[0m\u001b[0;34m,\u001b[0m \u001b[0margs\u001b[0m\u001b[0;34m)\u001b[0m\u001b[0;34m}\u001b[0m\u001b[0;34m)\u001b[0m\u001b[0;34m\u001b[0m\u001b[0;34m\u001b[0m\u001b[0m\n\u001b[0;32m---> 46\u001b[0;31m         \u001b[0;32mreturn\u001b[0m \u001b[0mf\u001b[0m\u001b[0;34m(\u001b[0m\u001b[0;34m**\u001b[0m\u001b[0mkwargs\u001b[0m\u001b[0;34m)\u001b[0m\u001b[0;34m\u001b[0m\u001b[0;34m\u001b[0m\u001b[0m\n\u001b[0m\u001b[1;32m     47\u001b[0m     \u001b[0;32mreturn\u001b[0m \u001b[0minner_f\u001b[0m\u001b[0;34m\u001b[0m\u001b[0;34m\u001b[0m\u001b[0m\n\u001b[1;32m     48\u001b[0m \u001b[0;34m\u001b[0m\u001b[0m\n",
      "\u001b[0;32m~/opt/anaconda3/lib/python3.8/site-packages/seaborn/relational.py\u001b[0m in \u001b[0;36mlineplot\u001b[0;34m(x, y, hue, size, style, data, palette, hue_order, hue_norm, sizes, size_order, size_norm, dashes, markers, style_order, units, estimator, ci, n_boot, seed, sort, err_style, err_kws, legend, ax, **kwargs)\u001b[0m\n\u001b[1;32m    701\u001b[0m     \u001b[0mp\u001b[0m\u001b[0;34m.\u001b[0m\u001b[0m_attach\u001b[0m\u001b[0;34m(\u001b[0m\u001b[0max\u001b[0m\u001b[0;34m)\u001b[0m\u001b[0;34m\u001b[0m\u001b[0;34m\u001b[0m\u001b[0m\n\u001b[1;32m    702\u001b[0m \u001b[0;34m\u001b[0m\u001b[0m\n\u001b[0;32m--> 703\u001b[0;31m     \u001b[0mp\u001b[0m\u001b[0;34m.\u001b[0m\u001b[0mplot\u001b[0m\u001b[0;34m(\u001b[0m\u001b[0max\u001b[0m\u001b[0;34m,\u001b[0m \u001b[0mkwargs\u001b[0m\u001b[0;34m)\u001b[0m\u001b[0;34m\u001b[0m\u001b[0;34m\u001b[0m\u001b[0m\n\u001b[0m\u001b[1;32m    704\u001b[0m     \u001b[0;32mreturn\u001b[0m \u001b[0max\u001b[0m\u001b[0;34m\u001b[0m\u001b[0;34m\u001b[0m\u001b[0m\n\u001b[1;32m    705\u001b[0m \u001b[0;34m\u001b[0m\u001b[0m\n",
      "\u001b[0;32m~/opt/anaconda3/lib/python3.8/site-packages/seaborn/relational.py\u001b[0m in \u001b[0;36mplot\u001b[0;34m(self, ax, kws)\u001b[0m\n\u001b[1;32m    497\u001b[0m                     \u001b[0merr\u001b[0m \u001b[0;34m=\u001b[0m \u001b[0;34m\"estimator must be None when specifying units\"\u001b[0m\u001b[0;34m\u001b[0m\u001b[0;34m\u001b[0m\u001b[0m\n\u001b[1;32m    498\u001b[0m                     \u001b[0;32mraise\u001b[0m \u001b[0mValueError\u001b[0m\u001b[0;34m(\u001b[0m\u001b[0merr\u001b[0m\u001b[0;34m)\u001b[0m\u001b[0;34m\u001b[0m\u001b[0;34m\u001b[0m\u001b[0m\n\u001b[0;32m--> 499\u001b[0;31m                 \u001b[0mx\u001b[0m\u001b[0;34m,\u001b[0m \u001b[0my\u001b[0m\u001b[0;34m,\u001b[0m \u001b[0my_ci\u001b[0m \u001b[0;34m=\u001b[0m \u001b[0mself\u001b[0m\u001b[0;34m.\u001b[0m\u001b[0maggregate\u001b[0m\u001b[0;34m(\u001b[0m\u001b[0my\u001b[0m\u001b[0;34m,\u001b[0m \u001b[0mx\u001b[0m\u001b[0;34m,\u001b[0m \u001b[0mu\u001b[0m\u001b[0;34m)\u001b[0m\u001b[0;34m\u001b[0m\u001b[0;34m\u001b[0m\u001b[0m\n\u001b[0m\u001b[1;32m    500\u001b[0m             \u001b[0;32melse\u001b[0m\u001b[0;34m:\u001b[0m\u001b[0;34m\u001b[0m\u001b[0;34m\u001b[0m\u001b[0m\n\u001b[1;32m    501\u001b[0m                 \u001b[0my_ci\u001b[0m \u001b[0;34m=\u001b[0m \u001b[0;32mNone\u001b[0m\u001b[0;34m\u001b[0m\u001b[0;34m\u001b[0m\u001b[0m\n",
      "\u001b[0;32m~/opt/anaconda3/lib/python3.8/site-packages/seaborn/relational.py\u001b[0m in \u001b[0;36maggregate\u001b[0;34m(self, vals, grouper, units)\u001b[0m\n\u001b[1;32m    399\u001b[0m         \u001b[0;31m# Group and get the aggregation estimate\u001b[0m\u001b[0;34m\u001b[0m\u001b[0;34m\u001b[0m\u001b[0;34m\u001b[0m\u001b[0m\n\u001b[1;32m    400\u001b[0m         \u001b[0mgrouped\u001b[0m \u001b[0;34m=\u001b[0m \u001b[0mvals\u001b[0m\u001b[0;34m.\u001b[0m\u001b[0mgroupby\u001b[0m\u001b[0;34m(\u001b[0m\u001b[0mgrouper\u001b[0m\u001b[0;34m,\u001b[0m \u001b[0msort\u001b[0m\u001b[0;34m=\u001b[0m\u001b[0mself\u001b[0m\u001b[0;34m.\u001b[0m\u001b[0msort\u001b[0m\u001b[0;34m)\u001b[0m\u001b[0;34m\u001b[0m\u001b[0;34m\u001b[0m\u001b[0m\n\u001b[0;32m--> 401\u001b[0;31m         \u001b[0mest\u001b[0m \u001b[0;34m=\u001b[0m \u001b[0mgrouped\u001b[0m\u001b[0;34m.\u001b[0m\u001b[0magg\u001b[0m\u001b[0;34m(\u001b[0m\u001b[0mfunc\u001b[0m\u001b[0;34m)\u001b[0m\u001b[0;34m\u001b[0m\u001b[0;34m\u001b[0m\u001b[0m\n\u001b[0m\u001b[1;32m    402\u001b[0m \u001b[0;34m\u001b[0m\u001b[0m\n\u001b[1;32m    403\u001b[0m         \u001b[0;31m# Exit early if we don't want a confidence interval\u001b[0m\u001b[0;34m\u001b[0m\u001b[0;34m\u001b[0m\u001b[0;34m\u001b[0m\u001b[0m\n",
      "\u001b[0;32m~/opt/anaconda3/lib/python3.8/site-packages/pandas/core/groupby/generic.py\u001b[0m in \u001b[0;36maggregate\u001b[0;34m(self, func, engine, engine_kwargs, *args, **kwargs)\u001b[0m\n\u001b[1;32m    239\u001b[0m \u001b[0;34m\u001b[0m\u001b[0m\n\u001b[1;32m    240\u001b[0m         \u001b[0;32mif\u001b[0m \u001b[0misinstance\u001b[0m\u001b[0;34m(\u001b[0m\u001b[0mfunc\u001b[0m\u001b[0;34m,\u001b[0m \u001b[0mstr\u001b[0m\u001b[0;34m)\u001b[0m\u001b[0;34m:\u001b[0m\u001b[0;34m\u001b[0m\u001b[0;34m\u001b[0m\u001b[0m\n\u001b[0;32m--> 241\u001b[0;31m             \u001b[0;32mreturn\u001b[0m \u001b[0mgetattr\u001b[0m\u001b[0;34m(\u001b[0m\u001b[0mself\u001b[0m\u001b[0;34m,\u001b[0m \u001b[0mfunc\u001b[0m\u001b[0;34m)\u001b[0m\u001b[0;34m(\u001b[0m\u001b[0;34m*\u001b[0m\u001b[0margs\u001b[0m\u001b[0;34m,\u001b[0m \u001b[0;34m**\u001b[0m\u001b[0mkwargs\u001b[0m\u001b[0;34m)\u001b[0m\u001b[0;34m\u001b[0m\u001b[0;34m\u001b[0m\u001b[0m\n\u001b[0m\u001b[1;32m    242\u001b[0m \u001b[0;34m\u001b[0m\u001b[0m\n\u001b[1;32m    243\u001b[0m         \u001b[0;32melif\u001b[0m \u001b[0misinstance\u001b[0m\u001b[0;34m(\u001b[0m\u001b[0mfunc\u001b[0m\u001b[0;34m,\u001b[0m \u001b[0mabc\u001b[0m\u001b[0;34m.\u001b[0m\u001b[0mIterable\u001b[0m\u001b[0;34m)\u001b[0m\u001b[0;34m:\u001b[0m\u001b[0;34m\u001b[0m\u001b[0;34m\u001b[0m\u001b[0m\n",
      "\u001b[0;32m~/opt/anaconda3/lib/python3.8/site-packages/pandas/core/groupby/groupby.py\u001b[0m in \u001b[0;36mmean\u001b[0;34m(self, numeric_only)\u001b[0m\n\u001b[1;32m   1494\u001b[0m         \u001b[0mName\u001b[0m\u001b[0;34m:\u001b[0m \u001b[0mB\u001b[0m\u001b[0;34m,\u001b[0m \u001b[0mdtype\u001b[0m\u001b[0;34m:\u001b[0m \u001b[0mfloat64\u001b[0m\u001b[0;34m\u001b[0m\u001b[0;34m\u001b[0m\u001b[0m\n\u001b[1;32m   1495\u001b[0m         \"\"\"\n\u001b[0;32m-> 1496\u001b[0;31m         return self._cython_agg_general(\n\u001b[0m\u001b[1;32m   1497\u001b[0m             \u001b[0;34m\"mean\"\u001b[0m\u001b[0;34m,\u001b[0m\u001b[0;34m\u001b[0m\u001b[0;34m\u001b[0m\u001b[0m\n\u001b[1;32m   1498\u001b[0m             \u001b[0malt\u001b[0m\u001b[0;34m=\u001b[0m\u001b[0;32mlambda\u001b[0m \u001b[0mx\u001b[0m\u001b[0;34m,\u001b[0m \u001b[0maxis\u001b[0m\u001b[0;34m:\u001b[0m \u001b[0mSeries\u001b[0m\u001b[0;34m(\u001b[0m\u001b[0mx\u001b[0m\u001b[0;34m)\u001b[0m\u001b[0;34m.\u001b[0m\u001b[0mmean\u001b[0m\u001b[0;34m(\u001b[0m\u001b[0mnumeric_only\u001b[0m\u001b[0;34m=\u001b[0m\u001b[0mnumeric_only\u001b[0m\u001b[0;34m)\u001b[0m\u001b[0;34m,\u001b[0m\u001b[0;34m\u001b[0m\u001b[0;34m\u001b[0m\u001b[0m\n",
      "\u001b[0;32m~/opt/anaconda3/lib/python3.8/site-packages/pandas/core/groupby/groupby.py\u001b[0m in \u001b[0;36m_cython_agg_general\u001b[0;34m(self, how, alt, numeric_only, min_count)\u001b[0m\n\u001b[1;32m   1079\u001b[0m \u001b[0;34m\u001b[0m\u001b[0m\n\u001b[1;32m   1080\u001b[0m         \u001b[0;32mif\u001b[0m \u001b[0;32mnot\u001b[0m \u001b[0moutput\u001b[0m\u001b[0;34m:\u001b[0m\u001b[0;34m\u001b[0m\u001b[0;34m\u001b[0m\u001b[0m\n\u001b[0;32m-> 1081\u001b[0;31m             \u001b[0;32mraise\u001b[0m \u001b[0mDataError\u001b[0m\u001b[0;34m(\u001b[0m\u001b[0;34m\"No numeric types to aggregate\"\u001b[0m\u001b[0;34m)\u001b[0m\u001b[0;34m\u001b[0m\u001b[0;34m\u001b[0m\u001b[0m\n\u001b[0m\u001b[1;32m   1082\u001b[0m \u001b[0;34m\u001b[0m\u001b[0m\n\u001b[1;32m   1083\u001b[0m         \u001b[0;32mreturn\u001b[0m \u001b[0mself\u001b[0m\u001b[0;34m.\u001b[0m\u001b[0m_wrap_aggregated_output\u001b[0m\u001b[0;34m(\u001b[0m\u001b[0moutput\u001b[0m\u001b[0;34m,\u001b[0m \u001b[0mindex\u001b[0m\u001b[0;34m=\u001b[0m\u001b[0mself\u001b[0m\u001b[0;34m.\u001b[0m\u001b[0mgrouper\u001b[0m\u001b[0;34m.\u001b[0m\u001b[0mresult_index\u001b[0m\u001b[0;34m)\u001b[0m\u001b[0;34m\u001b[0m\u001b[0;34m\u001b[0m\u001b[0m\n",
      "\u001b[0;31mDataError\u001b[0m: No numeric types to aggregate"
     ]
    },
    {
     "data": {
      "image/png": "[encoded data removed]",
      "text/plain": [
       "<Figure size 1800x720 with 4 Axes>"
      ]
     },
     "metadata": {},
     "output_type": "display_data"
    }
   ],
   "source": [
    "plt.style.use('ggplot')\n",
    "sns.set_style(\"whitegrid\")\n",
    "\n",
    "fig, ax = plt.subplots(nrows=4, ncols=1, sharey=False, figsize=(25,10))\n",
    "\n",
    "ax[0] = sns.lineplot(x = 'Date', y = \"At least once\", data=ft_freq_df, ax=ax[0])\n",
    "ax[0].set(ylim=(0, 20))\n",
    "ax[1] = sns.lineplot(x = 'Date', y = \"At least twice\", data=ft_freq_df, ax=ax[1])\n",
    "ax[1].set(ylim=(0, 20))\n",
    "\n",
    "ax[2] = sns.lineplot(x = 'Date', y = \"At least three times\", data=ft_freq_df, ax=ax[2])\n",
    "ax[2].set(ylim=(0, 20))\n",
    "\n",
    "ax[3] = sns.lineplot(x = 'Date', y = \"More than three times\", data=ft_freq_df, ax=ax[3])\n",
    "ax[3].set(ylim=(0, 20))\n"
   ]
  },
  {
   "cell_type": "code",
   "execution_count": null,
   "id": "71ccdcfc-f1d8-4e0b-8d98-d0faf198b5a4",
   "metadata": {},
   "outputs": [],
   "source": [
    "plt.style.use('ggplot')\n",
    "sns.set_style(\"whitegrid\")\n",
    "\n",
    "fig, ax = plt.subplots(nrows=1, ncols=1, sharey=False, figsize=(15,5))\n",
    "\n",
    "ax = sns.lineplot(x = 'Date', y = \"At least once\", data=ft_freq_df)\n",
    "\n"
   ]
  },
  {
   "cell_type": "code",
   "execution_count": null,
   "id": "624a328e-9d85-4bd0-a0be-53747df0ea3a",
   "metadata": {},
   "outputs": [],
   "source": [
    "plt.style.use('ggplot')\n",
    "sns.set_style(\"whitegrid\")\n",
    "\n",
    "fig, ax = plt.subplots(nrows=1, ncols=1, sharey=False, figsize=(15,5))\n",
    "\n",
    "ax = sns.lineplot(x = 'Date', y = \"At least twice\", data=ft_freq_df)"
   ]
  },
  {
   "cell_type": "code",
   "execution_count": null,
   "id": "d0045113-9e70-4281-86b9-e56db8361f38",
   "metadata": {},
   "outputs": [],
   "source": [
    "plt.style.use('ggplot')\n",
    "sns.set_style(\"whitegrid\")\n",
    "\n",
    "fig, ax = plt.subplots(nrows=1, ncols=1, sharey=False, figsize=(15,5))\n",
    "\n",
    "ax = sns.lineplot(x = 'Date', y = \"At least three times\", data=ft_freq_df)"
   ]
  },
  {
   "cell_type": "code",
   "execution_count": null,
   "id": "9e9e468c-4b68-418f-9a74-a10aa22073ab",
   "metadata": {},
   "outputs": [],
   "source": [
    "plt.style.use('ggplot')\n",
    "sns.set_style(\"whitegrid\")\n",
    "\n",
    "fig, ax = plt.subplots(nrows=1, ncols=1, sharey=False, figsize=(15,5))\n",
    "\n",
    "ax = sns.lineplot(x = 'Date', y = \"More than three times\", data=ft_freq_df)"
   ]
  },
  {
   "cell_type": "code",
   "execution_count": null,
   "id": "f1fd00c5",
   "metadata": {},
   "outputs": [],
   "source": [
    "ft['year'] = pd.to_datetime(ft_sygeplej2x[\"date\"]).dt.year\n",
    "ft['month'] = pd.to_datetime(ft_sygeplej2x[\"date\"]).dt.month\n",
    "ft_freq = ft.copy()\n",
    "ft_freq = ft_freq.dropna(subset = ['year', 'month'])"
   ]
  },
  {
   "cell_type": "code",
   "execution_count": null,
   "id": "5eff561b",
   "metadata": {},
   "outputs": [],
   "source": [
    "ft_freq = ft.groupby(['year', 'month'])[\"content\"].count()\n",
    "ft_freq_df = pd.DataFrame(ft_freq).reset_index()\n",
    "ft_freq_df"
   ]
  },
  {
   "cell_type": "code",
   "execution_count": 133,
   "id": "789a30de",
   "metadata": {},
   "outputs": [
    {
     "ename": "NameError",
     "evalue": "name 'tv2_freq_df' is not defined",
     "output_type": "error",
     "traceback": [
      "\u001b[0;31m---------------------------------------------------------------------------\u001b[0m",
      "\u001b[0;31mNameError\u001b[0m                                 Traceback (most recent call last)",
      "\u001b[0;32m<ipython-input-133-09591d2c0f42>\u001b[0m in \u001b[0;36m<module>\u001b[0;34m\u001b[0m\n\u001b[0;32m----> 1\u001b[0;31m \u001b[0mtv2_freq_df\u001b[0m\u001b[0;34m[\u001b[0m\u001b[0;34m'date'\u001b[0m\u001b[0;34m]\u001b[0m\u001b[0;34m=\u001b[0m\u001b[0mtv2_freq_df\u001b[0m\u001b[0;34m[\u001b[0m\u001b[0;34m'year'\u001b[0m\u001b[0;34m]\u001b[0m\u001b[0;34m.\u001b[0m\u001b[0mastype\u001b[0m\u001b[0;34m(\u001b[0m\u001b[0mstr\u001b[0m\u001b[0;34m)\u001b[0m\u001b[0;34m+\u001b[0m\u001b[0mtv2_freq_df\u001b[0m\u001b[0;34m[\u001b[0m\u001b[0;34m'month'\u001b[0m\u001b[0;34m]\u001b[0m\u001b[0;34m.\u001b[0m\u001b[0mastype\u001b[0m\u001b[0;34m(\u001b[0m\u001b[0mstr\u001b[0m\u001b[0;34m)\u001b[0m\u001b[0;34m\u001b[0m\u001b[0;34m\u001b[0m\u001b[0m\n\u001b[0m",
      "\u001b[0;31mNameError\u001b[0m: name 'tv2_freq_df' is not defined"
     ]
    }
   ],
   "source": [
    "tv2_freq_df['date']=tv2_freq_df['year'].astype(str)+tv2_freq_df['month'].astype(str)"
   ]
  },
  {
   "cell_type": "code",
   "execution_count": 134,
   "id": "1a406b1c-cbb1-4027-980b-dfe52d21745b",
   "metadata": {},
   "outputs": [
    {
     "ename": "NameError",
     "evalue": "name 'tv2_freq' is not defined",
     "output_type": "error",
     "traceback": [
      "\u001b[0;31m---------------------------------------------------------------------------\u001b[0m",
      "\u001b[0;31mNameError\u001b[0m                                 Traceback (most recent call last)",
      "\u001b[0;32m<ipython-input-134-e8a73fbd733b>\u001b[0m in \u001b[0;36m<module>\u001b[0;34m\u001b[0m\n\u001b[0;32m----> 1\u001b[0;31m \u001b[0mtv2_freq\u001b[0m\u001b[0;34m\u001b[0m\u001b[0;34m\u001b[0m\u001b[0m\n\u001b[0m",
      "\u001b[0;31mNameError\u001b[0m: name 'tv2_freq' is not defined"
     ]
    }
   ],
   "source": [
    "tv2_freq"
   ]
  },
  {
   "cell_type": "code",
   "execution_count": 135,
   "id": "fa1dee52",
   "metadata": {},
   "outputs": [
    {
     "ename": "NameError",
     "evalue": "name 'tv2_freq_df' is not defined",
     "output_type": "error",
     "traceback": [
      "\u001b[0;31m---------------------------------------------------------------------------\u001b[0m",
      "\u001b[0;31mNameError\u001b[0m                                 Traceback (most recent call last)",
      "\u001b[0;32m<ipython-input-135-44b542fe7d78>\u001b[0m in \u001b[0;36m<module>\u001b[0;34m\u001b[0m\n\u001b[1;32m      5\u001b[0m \u001b[0mfig\u001b[0m\u001b[0;34m,\u001b[0m \u001b[0max\u001b[0m \u001b[0;34m=\u001b[0m \u001b[0mplt\u001b[0m\u001b[0;34m.\u001b[0m\u001b[0msubplots\u001b[0m\u001b[0;34m(\u001b[0m\u001b[0mnrows\u001b[0m\u001b[0;34m=\u001b[0m\u001b[0;36m1\u001b[0m\u001b[0;34m,\u001b[0m \u001b[0mncols\u001b[0m\u001b[0;34m=\u001b[0m\u001b[0;36m1\u001b[0m\u001b[0;34m,\u001b[0m \u001b[0msharey\u001b[0m\u001b[0;34m=\u001b[0m\u001b[0;32mFalse\u001b[0m\u001b[0;34m,\u001b[0m \u001b[0mfigsize\u001b[0m\u001b[0;34m=\u001b[0m\u001b[0;34m(\u001b[0m\u001b[0;36m15\u001b[0m\u001b[0;34m,\u001b[0m\u001b[0;36m5\u001b[0m\u001b[0;34m)\u001b[0m\u001b[0;34m)\u001b[0m\u001b[0;34m\u001b[0m\u001b[0;34m\u001b[0m\u001b[0m\n\u001b[1;32m      6\u001b[0m \u001b[0;34m\u001b[0m\u001b[0m\n\u001b[0;32m----> 7\u001b[0;31m \u001b[0max\u001b[0m \u001b[0;34m=\u001b[0m \u001b[0msns\u001b[0m\u001b[0;34m.\u001b[0m\u001b[0mlineplot\u001b[0m\u001b[0;34m(\u001b[0m\u001b[0mx\u001b[0m \u001b[0;34m=\u001b[0m \u001b[0;34m'date'\u001b[0m\u001b[0;34m,\u001b[0m \u001b[0my\u001b[0m \u001b[0;34m=\u001b[0m \u001b[0;34m'content'\u001b[0m\u001b[0;34m,\u001b[0m \u001b[0mdata\u001b[0m\u001b[0;34m=\u001b[0m \u001b[0mtv2_freq_df\u001b[0m \u001b[0;34m)\u001b[0m\u001b[0;34m\u001b[0m\u001b[0;34m\u001b[0m\u001b[0m\n\u001b[0m",
      "\u001b[0;31mNameError\u001b[0m: name 'tv2_freq_df' is not defined"
     ]
    },
    {
     "data": {
      "image/png": "[encoded data removed]",
      "text/plain": [
       "<Figure size 1080x360 with 1 Axes>"
      ]
     },
     "metadata": {},
     "output_type": "display_data"
    }
   ],
   "source": [
    "# Plotting count of tags\n",
    "plt.style.use('ggplot')\n",
    "sns.set_style(\"whitegrid\")\n",
    "\n",
    "fig, ax = plt.subplots(nrows=1, ncols=1, sharey=False, figsize=(15,5))\n",
    "\n",
    "ax = sns.lineplot(x = 'date', y = 'content', data= tv2_freq_df )"
   ]
  },
  {
   "cell_type": "markdown",
   "id": "c00e7634",
   "metadata": {},
   "source": [
    "## Analysis of Tags"
   ]
  },
  {
   "cell_type": "markdown",
   "id": "234a8ca5",
   "metadata": {},
   "source": [
    "### Most frequent Tags"
   ]
  },
  {
   "cell_type": "code",
   "execution_count": 136,
   "id": "1ead22d6",
   "metadata": {},
   "outputs": [
    {
     "ename": "NameError",
     "evalue": "name 'tv2_sygeplej2x' is not defined",
     "output_type": "error",
     "traceback": [
      "\u001b[0;31m---------------------------------------------------------------------------\u001b[0m",
      "\u001b[0;31mNameError\u001b[0m                                 Traceback (most recent call last)",
      "\u001b[0;32m<ipython-input-136-26ff3e461057>\u001b[0m in \u001b[0;36m<module>\u001b[0;34m\u001b[0m\n\u001b[1;32m      7\u001b[0m \u001b[0;34m\u001b[0m\u001b[0m\n\u001b[1;32m      8\u001b[0m \u001b[0;31m# Call function\u001b[0m\u001b[0;34m\u001b[0m\u001b[0;34m\u001b[0m\u001b[0;34m\u001b[0m\u001b[0m\n\u001b[0;32m----> 9\u001b[0;31m \u001b[0mtv2_tags\u001b[0m \u001b[0;34m=\u001b[0m \u001b[0mtag_count\u001b[0m\u001b[0;34m(\u001b[0m\u001b[0mtv2_sygeplej2x\u001b[0m\u001b[0;34m)\u001b[0m\u001b[0;34m\u001b[0m\u001b[0;34m\u001b[0m\u001b[0m\n\u001b[0m\u001b[1;32m     10\u001b[0m \u001b[0mdr_tags\u001b[0m \u001b[0;34m=\u001b[0m \u001b[0mtag_count\u001b[0m\u001b[0;34m(\u001b[0m\u001b[0mdr_sygeplej2x\u001b[0m\u001b[0;34m)\u001b[0m\u001b[0;34m\u001b[0m\u001b[0;34m\u001b[0m\u001b[0m\n",
      "\u001b[0;31mNameError\u001b[0m: name 'tv2_sygeplej2x' is not defined"
     ]
    }
   ],
   "source": [
    "# Define tag-count function\n",
    "def tag_count(df):\n",
    "    df_tags=df[\"tag\"].value_counts()\n",
    "    df_tags=pd.DataFrame(df_tags).reset_index(drop=False)\n",
    "    df_tags.columns=(\"tags\", \"count\")\n",
    "    return df_tags\n",
    "\n",
    "# Call function\n",
    "tv2_tags = tag_count(tv2_sygeplej2x)\n",
    "dr_tags = tag_count(dr_sygeplej2x)"
   ]
  },
  {
   "cell_type": "code",
   "execution_count": 137,
   "id": "cd70ca22",
   "metadata": {},
   "outputs": [
    {
     "ename": "NameError",
     "evalue": "name 'tv2_tags' is not defined",
     "output_type": "error",
     "traceback": [
      "\u001b[0;31m---------------------------------------------------------------------------\u001b[0m",
      "\u001b[0;31mNameError\u001b[0m                                 Traceback (most recent call last)",
      "\u001b[0;32m<ipython-input-137-9ca71f8220a0>\u001b[0m in \u001b[0;36m<module>\u001b[0;34m\u001b[0m\n\u001b[1;32m      5\u001b[0m \u001b[0mfig\u001b[0m\u001b[0;34m,\u001b[0m \u001b[0max\u001b[0m \u001b[0;34m=\u001b[0m \u001b[0mplt\u001b[0m\u001b[0;34m.\u001b[0m\u001b[0msubplots\u001b[0m\u001b[0;34m(\u001b[0m\u001b[0mnrows\u001b[0m\u001b[0;34m=\u001b[0m\u001b[0;36m1\u001b[0m\u001b[0;34m,\u001b[0m \u001b[0mncols\u001b[0m\u001b[0;34m=\u001b[0m\u001b[0;36m2\u001b[0m\u001b[0;34m,\u001b[0m \u001b[0msharey\u001b[0m\u001b[0;34m=\u001b[0m\u001b[0;32mFalse\u001b[0m\u001b[0;34m,\u001b[0m \u001b[0mfigsize\u001b[0m\u001b[0;34m=\u001b[0m\u001b[0;34m(\u001b[0m\u001b[0;36m15\u001b[0m\u001b[0;34m,\u001b[0m\u001b[0;36m5\u001b[0m\u001b[0;34m)\u001b[0m\u001b[0;34m)\u001b[0m\u001b[0;34m\u001b[0m\u001b[0;34m\u001b[0m\u001b[0m\n\u001b[1;32m      6\u001b[0m \u001b[0;34m\u001b[0m\u001b[0m\n\u001b[0;32m----> 7\u001b[0;31m \u001b[0max\u001b[0m\u001b[0;34m[\u001b[0m\u001b[0;36m0\u001b[0m\u001b[0;34m]\u001b[0m \u001b[0;34m=\u001b[0m \u001b[0msns\u001b[0m\u001b[0;34m.\u001b[0m\u001b[0mbarplot\u001b[0m\u001b[0;34m(\u001b[0m\u001b[0mx\u001b[0m \u001b[0;34m=\u001b[0m \u001b[0mtv2_tags\u001b[0m\u001b[0;34m[\u001b[0m\u001b[0;34m\"tags\"\u001b[0m\u001b[0;34m]\u001b[0m\u001b[0;34m[\u001b[0m\u001b[0;36m0\u001b[0m\u001b[0;34m:\u001b[0m\u001b[0;36m10\u001b[0m\u001b[0;34m]\u001b[0m\u001b[0;34m,\u001b[0m \u001b[0my\u001b[0m \u001b[0;34m=\u001b[0m \u001b[0mtv2_tags\u001b[0m\u001b[0;34m[\u001b[0m\u001b[0;34m\"count\"\u001b[0m\u001b[0;34m]\u001b[0m\u001b[0;34m,\u001b[0m \u001b[0morient\u001b[0m \u001b[0;34m=\u001b[0m\u001b[0;34m\"v\"\u001b[0m\u001b[0;34m,\u001b[0m \u001b[0max\u001b[0m \u001b[0;34m=\u001b[0m \u001b[0max\u001b[0m\u001b[0;34m[\u001b[0m\u001b[0;36m0\u001b[0m\u001b[0;34m]\u001b[0m\u001b[0;34m)\u001b[0m\u001b[0;34m\u001b[0m\u001b[0;34m\u001b[0m\u001b[0m\n\u001b[0m\u001b[1;32m      8\u001b[0m \u001b[0max\u001b[0m\u001b[0;34m[\u001b[0m\u001b[0;36m1\u001b[0m\u001b[0;34m]\u001b[0m \u001b[0;34m=\u001b[0m \u001b[0msns\u001b[0m\u001b[0;34m.\u001b[0m\u001b[0mbarplot\u001b[0m\u001b[0;34m(\u001b[0m\u001b[0mx\u001b[0m \u001b[0;34m=\u001b[0m \u001b[0mdr_tags\u001b[0m\u001b[0;34m[\u001b[0m\u001b[0;34m\"tags\"\u001b[0m\u001b[0;34m]\u001b[0m\u001b[0;34m[\u001b[0m\u001b[0;36m0\u001b[0m\u001b[0;34m:\u001b[0m\u001b[0;36m10\u001b[0m\u001b[0;34m]\u001b[0m\u001b[0;34m,\u001b[0m \u001b[0my\u001b[0m \u001b[0;34m=\u001b[0m \u001b[0mdr_tags\u001b[0m\u001b[0;34m[\u001b[0m\u001b[0;34m\"count\"\u001b[0m\u001b[0;34m]\u001b[0m\u001b[0;34m,\u001b[0m \u001b[0morient\u001b[0m \u001b[0;34m=\u001b[0m\u001b[0;34m\"v\"\u001b[0m\u001b[0;34m,\u001b[0m \u001b[0max\u001b[0m \u001b[0;34m=\u001b[0m \u001b[0max\u001b[0m\u001b[0;34m[\u001b[0m\u001b[0;36m1\u001b[0m\u001b[0;34m]\u001b[0m\u001b[0;34m)\u001b[0m\u001b[0;34m\u001b[0m\u001b[0;34m\u001b[0m\u001b[0m\n\u001b[1;32m      9\u001b[0m \u001b[0;34m\u001b[0m\u001b[0m\n",
      "\u001b[0;31mNameError\u001b[0m: name 'tv2_tags' is not defined"
     ]
    },
    {
     "data": {
      "image/png": "[encoded data removed]",
      "text/plain": [
       "<Figure size 1080x360 with 2 Axes>"
      ]
     },
     "metadata": {},
     "output_type": "display_data"
    }
   ],
   "source": [
    "# Plotting count of tags\n",
    "plt.style.use('ggplot')\n",
    "sns.set_style(\"whitegrid\")\n",
    "\n",
    "fig, ax = plt.subplots(nrows=1, ncols=2, sharey=False, figsize=(15,5))\n",
    "\n",
    "ax[0] = sns.barplot(x = tv2_tags[\"tags\"][0:10], y = tv2_tags[\"count\"], orient =\"v\", ax = ax[0])\n",
    "ax[1] = sns.barplot(x = dr_tags[\"tags\"][0:10], y = dr_tags[\"count\"], orient =\"v\", ax = ax[1])\n",
    "\n",
    "_ = ax[1].set_xticklabels(ax[1].get_xticklabels(), rotation=45, horizontalalignment='right')\n",
    "_ = ax[0].set_xticklabels(ax[0].get_xticklabels(), rotation=45, horizontalalignment='right')\n",
    "\n",
    "_ = plt.suptitle(\"10 Most Frequent Tags\", size = 20)\n",
    "_ = ax[0].set_title(\"TV2\")\n",
    "_ = ax[1].set_title(\"DR\")\n",
    "_ = ax[0].set_ylabel(\"Number of Articles\")\n",
    "_ = ax[1].set_ylabel(\"\")\n",
    "\n",
    "_ = ax[0].set(xlabel=None)\n",
    "_ = ax[1].set(xlabel=None)"
   ]
  },
  {
   "cell_type": "markdown",
   "id": "1b2dcabd",
   "metadata": {},
   "source": [
    "### Usage of tags over time"
   ]
  },
  {
   "cell_type": "code",
   "execution_count": null,
   "id": "ce6c9c21-0421-4bd1-bc5a-21ed7617fbd9",
   "metadata": {},
   "outputs": [],
   "source": []
  }
 ],
 "metadata": {
  "kernelspec": {
   "display_name": "Python 3",
   "language": "python",
   "name": "python3"
  },
  "language_info": {
   "codemirror_mode": {
    "name": "ipython",
    "version": 3
   },
   "file_extension": ".py",
   "mimetype": "text/x-python",
   "name": "python",
   "nbconvert_exporter": "python",
   "pygments_lexer": "ipython3",
   "version": "3.8.8"
  }
 },
 "nbformat": 4,
 "nbformat_minor": 5
}
