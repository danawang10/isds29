{
 "cells": [
  {
   "cell_type": "code",
   "execution_count": 57,
   "id": "74e612ac",
   "metadata": {},
   "outputs": [],
   "source": [
    "from bs4 import BeautifulSoup as bs\n",
    "import re \n",
    "import os\n",
    "import lxml\n",
    "import xml.etree.ElementTree as ET\n",
    "from lxml import objectify\n",
    "from datetime import datetime\n",
    "import numpy as np \n",
    "import pandas as pd \n",
    "import requests\n",
    "import ftplib\n",
    "from io import BytesIO\n",
    "import tqdm"
   ]
  },
  {
   "cell_type": "markdown",
   "id": "728094fc",
   "metadata": {},
   "source": [
    "### Prepare to load data"
   ]
  },
  {
   "cell_type": "code",
   "execution_count": 58,
   "id": "e766a492",
   "metadata": {},
   "outputs": [],
   "source": [
    "ftp_url = \"oda.ft.dk\"\n",
    "ftp_dir = \"/ODAXML/Referat/samling/\""
   ]
  },
  {
   "cell_type": "markdown",
   "id": "3590af7c",
   "metadata": {},
   "source": [
    "\n",
    "##### Tomme lister"
   ]
  },
  {
   "cell_type": "code",
   "execution_count": 59,
   "id": "48c96d08",
   "metadata": {},
   "outputs": [],
   "source": [
    "dirs = []\n",
    "sub_dir = []\n",
    "filer = []\n",
    "filer_navne = []\n",
    "sti_navn = []\n",
    "indhold = []\n",
    "\n",
    "suppe = []"
   ]
  },
  {
   "cell_type": "markdown",
   "id": "e86e5062",
   "metadata": {},
   "source": [
    "### Login til ftp serveren og henter en liste over biblioteker"
   ]
  },
  {
   "cell_type": "code",
   "execution_count": 60,
   "id": "cbaf6138",
   "metadata": {},
   "outputs": [],
   "source": [
    "ftp = ftplib.FTP(ftp_url)\n",
    "ftp.login(\"anonymous\", \"wpg345@alumni.ku.dk\")\n",
    "ftp.set_pasv(True)\n",
    "ftp.cwd(ftp_dir)\n",
    "ftp.dir(dirs.append)"
   ]
  },
  {
   "cell_type": "markdown",
   "id": "e56266cd",
   "metadata": {},
   "source": [
    "### Bygger en liste med underbibliotekter"
   ]
  },
  {
   "cell_type": "code",
   "execution_count": 61,
   "id": "c27e2e44",
   "metadata": {},
   "outputs": [],
   "source": [
    "for i in range (0, len(dirs), 1):\n",
    "    sub_dir.append(ftp_dir+dirs[i][-5:]+'/') "
   ]
  },
  {
   "cell_type": "markdown",
   "id": "dababd12",
   "metadata": {},
   "source": [
    "### Bygger en liste med filnavne"
   ]
  },
  {
   "cell_type": "code",
   "execution_count": 62,
   "id": "04bd5e75",
   "metadata": {},
   "outputs": [],
   "source": [
    "for i in range (0, len(sub_dir), 1):\n",
    "    ftp.cwd(sub_dir[i])\n",
    "    ftp.dir(filer.append)"
   ]
  },
  {
   "cell_type": "markdown",
   "id": "e60af0bd",
   "metadata": {},
   "source": [
    "### Ekstrakt af filnavn"
   ]
  },
  {
   "cell_type": "code",
   "execution_count": 63,
   "id": "fcaef4eb",
   "metadata": {},
   "outputs": [],
   "source": [
    "for i in range(0, len(filer)):\n",
    "    filer_navne.append(filer[i][39:])"
   ]
  },
  {
   "cell_type": "markdown",
   "id": "97dc33a0",
   "metadata": {},
   "source": [
    "### Opbygning af hele stien og filnavn"
   ]
  },
  {
   "cell_type": "code",
   "execution_count": 64,
   "id": "8f6c8422",
   "metadata": {},
   "outputs": [],
   "source": [
    "for i in range(0, len(filer_navne)):\n",
    "    sti_navn.append(ftp_dir+filer_navne[i][0:5]+'/'+filer_navne[i])"
   ]
  },
  {
   "cell_type": "markdown",
   "id": "404a25bc",
   "metadata": {},
   "source": [
    "### Overførsel af de enkelte filer fra ftp://oda.ft.dk, og indholdet skrives til liste"
   ]
  },
  {
   "cell_type": "code",
   "execution_count": 65,
   "id": "cb8fe933",
   "metadata": {},
   "outputs": [
    {
     "name": "stderr",
     "output_type": "stream",
     "text": [
      "100%|██████████| 1489/1489 [02:53<00:00,  8.58it/s]\n"
     ]
    }
   ],
   "source": [
    "for i in tqdm.tqdm(range(0, len(sti_navn))):\n",
    "# for i in tqdm.tqdm(range(0, 10)):\n",
    "    r = BytesIO()\n",
    "    ftp.retrbinary(f\"RETR {sti_navn[i]}\", r.write)\n",
    "    indhold.append(r.getvalue())\n",
    "    r.close()"
   ]
  },
  {
   "cell_type": "markdown",
   "id": "ff7f75c9",
   "metadata": {},
   "source": [
    "# Define metadata function"
   ]
  },
  {
   "cell_type": "code",
   "execution_count": 69,
   "id": "b26d8bdb",
   "metadata": {},
   "outputs": [],
   "source": [
    "def extract_metadata(xml): \n",
    "    soup = bs(xml, 'lxml')\n",
    "    \n",
    "    d = soup.find(\"dateofsitting\").text[:10]\n",
    "    m = soup.find(\"meetingnumber\").text\n",
    "    s = soup.find(\"parliamentarysession\").text\n",
    "    g = soup.find(\"parliamentarygroup\").text\n",
    "    l = soup.find(\"location\").text\n",
    "    \n",
    "    date.append(d)\n",
    "    meetingnumber.append(m)\n",
    "    session.append(s)\n",
    "    group.append(g)\n",
    "    location.append(l)"
   ]
  },
  {
   "cell_type": "code",
   "execution_count": 92,
   "id": "10da8e89",
   "metadata": {},
   "outputs": [],
   "source": [
    "# empty lists (columns)\n",
    "date = []\n",
    "content = []\n",
    "meetingnumber = []\n",
    "session = []\n",
    "group = []\n",
    "location = []"
   ]
  },
  {
   "cell_type": "markdown",
   "id": "ab33d38e",
   "metadata": {},
   "source": [
    "# Apply metadata function to files"
   ]
  },
  {
   "cell_type": "code",
   "execution_count": 93,
   "id": "a7fcf528",
   "metadata": {},
   "outputs": [],
   "source": [
    "xml_sample = indhold[0:5]\n",
    "\n",
    "for xml in xml_sample: \n",
    "    extract_metadata(xml)"
   ]
  },
  {
   "cell_type": "code",
   "execution_count": 105,
   "id": "2175ab9f",
   "metadata": {},
   "outputs": [
    {
     "data": {
      "text/plain": [
       "['100', '101', '102', '103', '106']"
      ]
     },
     "execution_count": 105,
     "metadata": {},
     "output_type": "execute_result"
    }
   ],
   "source": [
    "meetingnumber"
   ]
  },
  {
   "cell_type": "markdown",
   "id": "d974d494",
   "metadata": {},
   "source": [
    "# Content function "
   ]
  },
  {
   "cell_type": "code",
   "execution_count": 107,
   "id": "d7e5ec4e",
   "metadata": {},
   "outputs": [],
   "source": [
    "def extract_content(xml):\n",
    "    soup = bs(xml, 'lxml')\n",
    "    \n",
    "    dp = soup.find_all(\"dagsordenpunkt\")\n",
    "    \n",
    "    for punkt in range(0, len(dp)):\n",
    "        content.append(dp[punkt].get_text(separator = ' '))"
   ]
  },
  {
   "cell_type": "markdown",
   "id": "c3ff6e1a",
   "metadata": {},
   "source": [
    "# Apply content function to files"
   ]
  },
  {
   "cell_type": "code",
   "execution_count": 108,
   "id": "da099f04",
   "metadata": {
    "scrolled": false
   },
   "outputs": [],
   "source": [
    "for xml in xml_sample: \n",
    "    extract_content(xml)"
   ]
  },
  {
   "cell_type": "markdown",
   "id": "6f6e1cad",
   "metadata": {},
   "source": [
    "# "
   ]
  },
  {
   "cell_type": "code",
   "execution_count": null,
   "id": "7628bfeb",
   "metadata": {},
   "outputs": [],
   "source": []
  },
  {
   "cell_type": "markdown",
   "id": "8e26002c",
   "metadata": {},
   "source": [
    "# Make DataFrame"
   ]
  },
  {
   "cell_type": "code",
   "execution_count": 46,
   "id": "0dcfc06c",
   "metadata": {},
   "outputs": [
    {
     "data": {
      "text/html": [
       "<div>\n",
       "<style scoped>\n",
       "    .dataframe tbody tr th:only-of-type {\n",
       "        vertical-align: middle;\n",
       "    }\n",
       "\n",
       "    .dataframe tbody tr th {\n",
       "        vertical-align: top;\n",
       "    }\n",
       "\n",
       "    .dataframe thead th {\n",
       "        text-align: right;\n",
       "    }\n",
       "</style>\n",
       "<table border=\"1\" class=\"dataframe\">\n",
       "  <thead>\n",
       "    <tr style=\"text-align: right;\">\n",
       "      <th></th>\n",
       "      <th>date</th>\n",
       "      <th>content</th>\n",
       "      <th>meetingnumber</th>\n",
       "      <th>session</th>\n",
       "      <th>group</th>\n",
       "      <th>location</th>\n",
       "    </tr>\n",
       "  </thead>\n",
       "  <tbody>\n",
       "    <tr>\n",
       "      <th>0</th>\n",
       "      <td>2017-10-27</td>\n",
       "      <td>0 FM Punkt 0 Meddelelser fra formanden Holger ...</td>\n",
       "      <td>11</td>\n",
       "      <td>20171</td>\n",
       "      <td>Folketinget</td>\n",
       "      <td>Folketingssalen</td>\n",
       "    </tr>\n",
       "    <tr>\n",
       "      <th>1</th>\n",
       "      <td>2022-02-10</td>\n",
       "      <td>1 222 L BEH1 1. behandling af L 222: Om nedsæt...</td>\n",
       "      <td>60</td>\n",
       "      <td>20211</td>\n",
       "      <td>Folketinget</td>\n",
       "      <td>Folketingssalen</td>\n",
       "    </tr>\n",
       "    <tr>\n",
       "      <th>2</th>\n",
       "      <td>2018-01-18</td>\n",
       "      <td>2 218 L BEH1 1. behandling af L 218: Om nedsæt...</td>\n",
       "      <td>46</td>\n",
       "      <td>20171</td>\n",
       "      <td>Folketinget</td>\n",
       "      <td>Folketingssalen</td>\n",
       "    </tr>\n",
       "    <tr>\n",
       "      <th>3</th>\n",
       "      <td>None</td>\n",
       "      <td>3 219 L BEH1 1. behandling af L 219: Om forhøj...</td>\n",
       "      <td>None</td>\n",
       "      <td>None</td>\n",
       "      <td>None</td>\n",
       "      <td>None</td>\n",
       "    </tr>\n",
       "    <tr>\n",
       "      <th>4</th>\n",
       "      <td>None</td>\n",
       "      <td>4 223 L BEH1 1. behandling af L 223: Om staten...</td>\n",
       "      <td>None</td>\n",
       "      <td>None</td>\n",
       "      <td>None</td>\n",
       "      <td>None</td>\n",
       "    </tr>\n",
       "    <tr>\n",
       "      <th>5</th>\n",
       "      <td>None</td>\n",
       "      <td>5 221 L BEH1 1. behandling af L 221: Om person...</td>\n",
       "      <td>None</td>\n",
       "      <td>None</td>\n",
       "      <td>None</td>\n",
       "      <td>None</td>\n",
       "    </tr>\n",
       "    <tr>\n",
       "      <th>6</th>\n",
       "      <td>None</td>\n",
       "      <td>6 220 L BEH1 1. behandling af L 220: Om nedsæt...</td>\n",
       "      <td>None</td>\n",
       "      <td>None</td>\n",
       "      <td>None</td>\n",
       "      <td>None</td>\n",
       "    </tr>\n",
       "    <tr>\n",
       "      <th>7</th>\n",
       "      <td>None</td>\n",
       "      <td>0 FM Punkt 0 Meddelelser fra formanden Holger ...</td>\n",
       "      <td>None</td>\n",
       "      <td>None</td>\n",
       "      <td>None</td>\n",
       "      <td>None</td>\n",
       "    </tr>\n",
       "  </tbody>\n",
       "</table>\n",
       "</div>"
      ],
      "text/plain": [
       "         date                                            content  \\\n",
       "0  2017-10-27  0 FM Punkt 0 Meddelelser fra formanden Holger ...   \n",
       "1  2022-02-10  1 222 L BEH1 1. behandling af L 222: Om nedsæt...   \n",
       "2  2018-01-18  2 218 L BEH1 1. behandling af L 218: Om nedsæt...   \n",
       "3        None  3 219 L BEH1 1. behandling af L 219: Om forhøj...   \n",
       "4        None  4 223 L BEH1 1. behandling af L 223: Om staten...   \n",
       "5        None  5 221 L BEH1 1. behandling af L 221: Om person...   \n",
       "6        None  6 220 L BEH1 1. behandling af L 220: Om nedsæt...   \n",
       "7        None  0 FM Punkt 0 Meddelelser fra formanden Holger ...   \n",
       "\n",
       "  meetingnumber session        group         location  \n",
       "0            11   20171  Folketinget  Folketingssalen  \n",
       "1            60   20211  Folketinget  Folketingssalen  \n",
       "2            46   20171  Folketinget  Folketingssalen  \n",
       "3          None    None         None             None  \n",
       "4          None    None         None             None  \n",
       "5          None    None         None             None  \n",
       "6          None    None         None             None  \n",
       "7          None    None         None             None  "
      ]
     },
     "execution_count": 46,
     "metadata": {},
     "output_type": "execute_result"
    }
   ],
   "source": [
    "df = pd.DataFrame([date, content, meetingnumber, session, group, location]).transpose()\n",
    "df.columns = ['date', 'content', 'meetingnumber', 'session', 'group', 'location']\n",
    "df"
   ]
  },
  {
   "cell_type": "code",
   "execution_count": null,
   "id": "e2d73d67",
   "metadata": {},
   "outputs": [],
   "source": []
  },
  {
   "cell_type": "code",
   "execution_count": null,
   "id": "6c4d08e1",
   "metadata": {},
   "outputs": [],
   "source": []
  },
  {
   "cell_type": "code",
   "execution_count": null,
   "id": "9622ba98",
   "metadata": {},
   "outputs": [],
   "source": []
  },
  {
   "cell_type": "code",
   "execution_count": null,
   "id": "0d366cb8",
   "metadata": {},
   "outputs": [],
   "source": []
  },
  {
   "cell_type": "code",
   "execution_count": null,
   "id": "d518ba45",
   "metadata": {},
   "outputs": [],
   "source": []
  },
  {
   "cell_type": "code",
   "execution_count": null,
   "id": "8d3a5c20",
   "metadata": {},
   "outputs": [],
   "source": []
  },
  {
   "cell_type": "code",
   "execution_count": null,
   "id": "a8054b7e",
   "metadata": {},
   "outputs": [],
   "source": []
  },
  {
   "cell_type": "code",
   "execution_count": null,
   "id": "fb0b4fc0",
   "metadata": {},
   "outputs": [],
   "source": []
  }
 ],
 "metadata": {
  "kernelspec": {
   "display_name": "Python 3",
   "language": "python",
   "name": "python3"
  },
  "language_info": {
   "codemirror_mode": {
    "name": "ipython",
    "version": 3
   },
   "file_extension": ".py",
   "mimetype": "text/x-python",
   "name": "python",
   "nbconvert_exporter": "python",
   "pygments_lexer": "ipython3",
   "version": "3.8.8"
  }
 },
 "nbformat": 4,
 "nbformat_minor": 5
}
