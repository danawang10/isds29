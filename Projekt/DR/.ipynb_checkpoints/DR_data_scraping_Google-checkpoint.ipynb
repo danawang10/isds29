{
 "cells": [
  {
   "cell_type": "markdown",
   "id": "8a6f9b10",
   "metadata": {},
   "source": [
    "# Google DR Search"
   ]
  },
  {
   "cell_type": "markdown",
   "id": "96ccae6d",
   "metadata": {},
   "source": []
  },
  {
   "cell_type": "markdown",
   "id": "36a45164",
   "metadata": {},
   "source": [
    "## Importing packages"
   ]
  },
  {
   "cell_type": "code",
   "execution_count": 45,
   "id": "ea05afce",
   "metadata": {},
   "outputs": [],
   "source": [
    "import requests\n",
    "from bs4 import BeautifulSoup\n",
    "import time\n",
    "import pandas as pd\n",
    "import numpy as np\n",
    "import tqdm\n",
    "import csv\n",
    "import re\n",
    "import os\n",
    "\n",
    "# Import selenium\n",
    "from selenium import webdriver\n",
    "from webdriver_manager.chrome import ChromeDriverManager\n",
    "from selenium.webdriver.chrome.service import Service\n",
    "from selenium.webdriver.common.by import By\n",
    "from selenium.webdriver.common.keys import Keys"
   ]
  },
  {
   "cell_type": "markdown",
   "id": "b30d2b71",
   "metadata": {},
   "source": [
    "## Generate search terms\n",
    "\n",
    "Search terms follow the following format: We search for the month and year in the format DR articles inclue a timestap. Manual Google searches proved to provide relevant research results mostly limited to the month provided. In this way we create a list of links to DR articles. All articles are located on the site https://www.dr.dk/nyheder or a subsite. This can be included in the google search. An example of a search is: jan. 2012\" AND \"sygeplejersker*\" site:https://www.dr.dk/nyheder."
   ]
  },
  {
   "cell_type": "code",
   "execution_count": 2,
   "id": "d03e9d0d",
   "metadata": {},
   "outputs": [],
   "source": [
    "# Generate empty list with search terms\n",
    "search_terms = []\n",
    "# Generate combinations of year-month and term search combinations\n",
    "for year in range(2012, 2023):\n",
    "    months = ['jan.', 'feb.', 'mar.', 'apr.', 'maj', 'jun.', 'jul.', 'aug.', 'sep.', 'okt.', 'nov.', 'dec.']\n",
    "    for month in months:\n",
    "        term = f'\"{month} {year}\" AND \"sygeplejersker*\" site:https://www.dr.dk/nyheder/ \\n'\n",
    "        search_terms.append(term)\n",
    "# Create final list of search terms, future month-year combinations deleted\n",
    "search_terms = search_terms[:-4]\n"
   ]
  },
  {
   "cell_type": "markdown",
   "id": "b0cbc9dc",
   "metadata": {},
   "source": [
    "We create a total of 124 search terms, for all month-year combinations between January 2012 and August 2022."
   ]
  },
  {
   "cell_type": "markdown",
   "id": "3b71e008",
   "metadata": {},
   "source": [
    "## Scraping Google search to retrieve list of links to DR articles\n",
    "With the following code we scrape Google searches to retrieve a list of links to DR articles, given the DR website does not provide a useful search function. We use Selenium to go execute a Google search and retrieve DR article links. We execute the search, save the HTML for the first results page and then go to further pages of the search results to retrieve more search resutls. Google intervenes when scaping search results too fast. We therefore integrate a break when moving between pages. The break time takes random values between 0.25 and 3.5 seconds."
   ]
  },
  {
   "cell_type": "markdown",
   "id": "bd50bf6c",
   "metadata": {},
   "source": [
    "### Scraping the first three search pages"
   ]
  },
  {
   "cell_type": "code",
   "execution_count": 29,
   "id": "f91be3f8",
   "metadata": {
    "scrolled": true
   },
   "outputs": [
    {
     "name": "stderr",
     "output_type": "stream",
     "text": [
      "  0%|                                                                                           | 0/24 [00:00<?, ?it/s]C:\\Users\\jgb569\\AppData\\Local\\Temp/ipykernel_24636/3617242327.py:4: DeprecationWarning: executable_path has been deprecated, please pass in a Service object\n",
      "  driver = webdriver.Chrome(ChromeDriverManager().install())\n",
      "100%|██████████████████████████████████████████████████████████████████████████████████| 24/24 [13:13<00:00, 33.05s/it]\n"
     ]
    }
   ],
   "source": [
    "html_list = []\n",
    "finished_searches = 0\n",
    "for i in tqdm.tqdm(search_terms[100:124]):\n",
    "    driver = webdriver.Chrome(ChromeDriverManager().install())\n",
    "    # Go to google\n",
    "    driver.get('https:google.com')\n",
    "    # Discard cookie message, reject cookies\n",
    "    cookie = driver.find_element(By.ID, \"W0wltc\")\n",
    "    cookie.click()\n",
    "    # Search for DR news articles\n",
    "    gsearch = driver.find_element(By.CSS_SELECTOR, \"input[title='Søg']\")\n",
    "    gsearch.send_keys(i)\n",
    "    # Get HTML for first search result page\n",
    "    html = driver.page_source\n",
    "    html_list.append(html)\n",
    "    # Go to next result page\n",
    "    next_page = driver.find_element(By.CSS_SELECTOR, \".NVbCr+ span\") #CSS selector only last not previous page\n",
    "    next_page.click()\n",
    "    # Define an error used when reaching last search page:\n",
    "        # When error = 0, there is another resut page.\n",
    "        # When error = 1, there is no further page on Google, loop stops.\n",
    "    error = 0\n",
    "    page = 1\n",
    "    for page in range(0,1): #Iterates over 3 Pages in total\n",
    "        try:\n",
    "            html2 = driver.page_source\n",
    "            html_list.append(html2)\n",
    "            # Google detects suspicious behavior and asks to solve some puzzle after 7 iterations. Trying random sleep time and scrolling down to element.\n",
    "            time.sleep(np.random.uniform(10, 15))\n",
    "            # Go to next result page\n",
    "            next_page = driver.find_element(By.CSS_SELECTOR, \"#pnnext .NVbCr+ span\") #CSS selector only last not previous page\n",
    "            next_page.click()\n",
    "            page += 1\n",
    "        except:\n",
    "            error += 1\n",
    "    finished_searches += 1\n",
    "    time.sleep(np.random.uniform(5,10))\n",
    "    driver.quit()"
   ]
  },
  {
   "cell_type": "markdown",
   "id": "22c9666c",
   "metadata": {},
   "source": [
    "### Create link list"
   ]
  },
  {
   "cell_type": "code",
   "execution_count": 30,
   "id": "43136112",
   "metadata": {},
   "outputs": [],
   "source": [
    "# Preparing two empty lists\n",
    "link_list = []\n",
    "link_list_clean = []\n",
    "# Iterating over the results from scraping\n",
    "for l in html_list:\n",
    "    soup = BeautifulSoup(l, 'lxml')\n",
    "    try: \n",
    "        links = soup.find('div', class_ = 'v7W49e').find_all('a', href=True)\n",
    "    except:\n",
    "        pass\n",
    "    # Generate list with all links\n",
    "    for i in links:\n",
    "        temp = i['href']\n",
    "        link_list.append(temp)\n",
    "    # Getting rid of noise, links not pointing to DR but Google infrastructure\n",
    "    for link in link_list:\n",
    "        if \"webcache.googleusercontent\" not in link:\n",
    "            link_list_clean.append(link)"
   ]
  },
  {
   "cell_type": "markdown",
   "id": "9285f93e",
   "metadata": {},
   "source": [
    "#### From list to DataFrame"
   ]
  },
  {
   "cell_type": "code",
   "execution_count": 31,
   "id": "a8dfc3a8",
   "metadata": {},
   "outputs": [],
   "source": [
    "# Creating a pd.DataFrame from link_list_clean\n",
    "dr_links = pd.DataFrame({'links':link_list_clean})\n",
    "# For some reason, there are many duplicates included, drop them\n",
    "dr_links = dr_links.drop_duplicates(subset = 'links')"
   ]
  },
  {
   "cell_type": "markdown",
   "id": "9061aa83",
   "metadata": {},
   "source": [
    "#### Save dataset"
   ]
  },
  {
   "cell_type": "code",
   "execution_count": 32,
   "id": "027ff252",
   "metadata": {},
   "outputs": [],
   "source": [
    "dr_links.to_csv(\"dr_links_100_124.csv\")"
   ]
  },
  {
   "cell_type": "markdown",
   "id": "5f4a312d",
   "metadata": {},
   "source": [
    "# Playground"
   ]
  },
  {
   "cell_type": "markdown",
   "id": "fc5b3b26",
   "metadata": {},
   "source": [
    "## Search results statistics"
   ]
  },
  {
   "cell_type": "markdown",
   "id": "6f5cb0cd",
   "metadata": {},
   "source": [
    "### Scraping Google results"
   ]
  },
  {
   "cell_type": "code",
   "execution_count": 50,
   "id": "df4ca169",
   "metadata": {},
   "outputs": [
    {
     "name": "stderr",
     "output_type": "stream",
     "text": [
      "  0%|                                                                                            | 0/4 [00:00<?, ?it/s]\n",
      "[WDM] - Downloading:   0%|                                                                 | 0.00/6.21M [00:00<?, ?B/s]\u001b[A\n",
      "[WDM] - Downloading:   7%|███▋                                                     | 416k/6.21M [00:00<00:01, 4.12MB/s]\u001b[A\n",
      "[WDM] - Downloading:  28%|███████████████▋                                        | 1.74M/6.21M [00:00<00:00, 9.75MB/s]\u001b[A\n",
      "[WDM] - Downloading: 100%|████████████████████████████████████████████████████████| 6.21M/6.21M [00:00<00:00, 17.1MB/s]\u001b[A\n",
      "C:\\Users\\jgb569\\AppData\\Local\\Temp/ipykernel_13496/2393136411.py:4: DeprecationWarning: executable_path has been deprecated, please pass in a Service object\n",
      "  driver = webdriver.Chrome(ChromeDriverManager().install())\n",
      "100%|████████████████████████████████████████████████████████████████████████████████████| 4/4 [00:47<00:00, 11.86s/it]\n"
     ]
    }
   ],
   "source": [
    "num_search_results = []\n",
    "\n",
    "for search_term in tqdm.tqdm(search_terms[124:129]):\n",
    "    driver = webdriver.Chrome(ChromeDriverManager().install())\n",
    "    # Go to google\n",
    "    driver.get('https:google.com')\n",
    "    # Discard cookie message, reject cookies\n",
    "    cookie = driver.find_element(By.ID, \"W0wltc\")\n",
    "    cookie.click()\n",
    "    # Search for DR news articles\n",
    "    gsearch = driver.find_element(By.CSS_SELECTOR, \"input[title='Søg']\")\n",
    "    gsearch.send_keys(search_term)\n",
    "    # Get HTML for first search result page\n",
    "    num_results = driver.find_element(By.ID, \"result-stats\")\n",
    "    num_search_results.append(num_results.text)\n",
    "    time.sleep(np.random.uniform(0.25,1))\n",
    "    driver.quit()"
   ]
  },
  {
   "cell_type": "markdown",
   "id": "b0246212",
   "metadata": {},
   "source": [
    "### Cleaning data"
   ]
  },
  {
   "cell_type": "code",
   "execution_count": 51,
   "id": "b4784d0e",
   "metadata": {},
   "outputs": [],
   "source": [
    "# Create list of search result counts\n",
    "num_search_results_clean = []\n",
    "for result in num_search_results:\n",
    "    number_only = result[3:10]\n",
    "    number_only = number_only.strip()\n",
    "    number_only = re.sub('\\D+', '', number_only)\n",
    "    num_search_results_clean.append(number_only)"
   ]
  },
  {
   "cell_type": "code",
   "execution_count": 52,
   "id": "9165a54e",
   "metadata": {},
   "outputs": [],
   "source": [
    "# Change to integer\n",
    "list_search_results = [int(search) for search in num_search_results_clean]"
   ]
  },
  {
   "cell_type": "code",
   "execution_count": 53,
   "id": "9c738257",
   "metadata": {},
   "outputs": [],
   "source": [
    "# Creating a pd.DataFrame from search result count\n",
    "list_search_results_df = pd.DataFrame({'Month': list_search_results}) # 'MONTH' SHOULD BE 'SEARCH_RESULTS'!"
   ]
  },
  {
   "cell_type": "code",
   "execution_count": 54,
   "id": "87cdad05",
   "metadata": {},
   "outputs": [],
   "source": [
    "# Export \n",
    "list_search_results_df.to_csv(\"list_search_results_124-128.csv\")"
   ]
  },
  {
   "cell_type": "markdown",
   "id": "e2cb2ccf",
   "metadata": {},
   "source": [
    "## Combine datasets"
   ]
  },
  {
   "cell_type": "code",
   "execution_count": 46,
   "id": "8572e3f1",
   "metadata": {},
   "outputs": [
    {
     "data": {
      "text/plain": [
       "['.ipynb_checkpoints',\n",
       " 'dr_content_list.txt',\n",
       " 'DR_data_retrieval_and_cleaning.ipynb',\n",
       " 'DR_data_scraping_Google.ipynb',\n",
       " 'dr_date.txt',\n",
       " 'dr_h2_list.txt',\n",
       " 'dr_links_100_124.csv',\n",
       " 'dr_links_1_26.csv',\n",
       " 'dr_links_26_50.csv',\n",
       " 'dr_links_51_75.csv',\n",
       " 'dr_links_76_100.csv',\n",
       " 'dr_titles_list.txt',\n",
       " 'list_search_results_0-50.csv',\n",
       " 'list_search_results_50-124.csv',\n",
       " 'Scraping_first_3_searchpages.ipynb']"
      ]
     },
     "execution_count": 46,
     "metadata": {},
     "output_type": "execute_result"
    }
   ],
   "source": [
    "os.listdir()"
   ]
  },
  {
   "cell_type": "code",
   "execution_count": 55,
   "id": "059368ff",
   "metadata": {},
   "outputs": [],
   "source": [
    "list_sr_df_50_124 = pd.read_csv(\"list_search_results_50-124.csv\")\n",
    "list_sr_df_0_50 = pd.read_csv(\"list_search_results_0-50.csv\")\n",
    "list_sr_df_124_128 = pd.read_csv(\"list_search_results_124-128.csv\")"
   ]
  },
  {
   "cell_type": "code",
   "execution_count": 56,
   "id": "1c8e097e",
   "metadata": {
    "scrolled": true
   },
   "outputs": [],
   "source": [
    "list_sr_all = pd.concat([list_sr_df_0_50, list_sr_df_50_124, list_sr_df_124_128], \n",
    "          ignore_index=True)"
   ]
  },
  {
   "cell_type": "code",
   "execution_count": null,
   "id": "6dfd1ea2",
   "metadata": {},
   "outputs": [],
   "source": []
  },
  {
   "cell_type": "code",
   "execution_count": 42,
   "id": "0a7a3193",
   "metadata": {},
   "outputs": [],
   "source": [
    "# Generate combinations of year-month\n",
    "month_year = []\n",
    "for year in range(2012, 2023):\n",
    "    months = ['jan.', 'feb.', 'mar.', 'apr.', 'maj', 'jun.', 'jul.', 'aug.', 'sep.', 'okt.', 'nov.', 'dec.']\n",
    "    for month in months:\n",
    "        time = f'\"{month} {year}\"'\n",
    "        month_year.append(time)\n",
    "# Create final list of search terms, future month-year combinations deleted\n",
    "month_year = month_year[:-4]"
   ]
  },
  {
   "cell_type": "code",
   "execution_count": 75,
   "id": "ef507463",
   "metadata": {},
   "outputs": [
    {
     "ename": "KeyError",
     "evalue": "\"None of [Int64Index([ 2220,  1450,  1360,  1310,  1700,  1610,   814,  2070,  1870,\\n             1840,\\n            ...\\n             1270,  1900,   436,  1700,  2780,  1160, 10600,    22,   423,\\n             3030],\\n           dtype='int64', length=128)] are in the [columns]\"",
     "output_type": "error",
     "traceback": [
      "\u001b[1;31m---------------------------------------------------------------------------\u001b[0m",
      "\u001b[1;31mKeyError\u001b[0m                                  Traceback (most recent call last)",
      "\u001b[1;32m~\\AppData\\Local\\Temp/ipykernel_13496/2089514052.py\u001b[0m in \u001b[0;36m<module>\u001b[1;34m\u001b[0m\n\u001b[0;32m      1\u001b[0m \u001b[1;31m# Merge number of search results with month year combination\u001b[0m\u001b[1;33m\u001b[0m\u001b[1;33m\u001b[0m\u001b[0m\n\u001b[1;32m----> 2\u001b[1;33m \u001b[0mlist_sr_all\u001b[0m\u001b[1;33m[\u001b[0m\u001b[0mlist_sr_all\u001b[0m\u001b[1;33m[\u001b[0m\u001b[1;34m\"Month\"\u001b[0m\u001b[1;33m]\u001b[0m\u001b[1;33m]\u001b[0m\u001b[1;33m\u001b[0m\u001b[1;33m\u001b[0m\u001b[0m\n\u001b[0m",
      "\u001b[1;32m~\\Anaconda3\\lib\\site-packages\\pandas\\core\\frame.py\u001b[0m in \u001b[0;36m__getitem__\u001b[1;34m(self, key)\u001b[0m\n\u001b[0;32m   3462\u001b[0m             \u001b[1;32mif\u001b[0m \u001b[0mis_iterator\u001b[0m\u001b[1;33m(\u001b[0m\u001b[0mkey\u001b[0m\u001b[1;33m)\u001b[0m\u001b[1;33m:\u001b[0m\u001b[1;33m\u001b[0m\u001b[1;33m\u001b[0m\u001b[0m\n\u001b[0;32m   3463\u001b[0m                 \u001b[0mkey\u001b[0m \u001b[1;33m=\u001b[0m \u001b[0mlist\u001b[0m\u001b[1;33m(\u001b[0m\u001b[0mkey\u001b[0m\u001b[1;33m)\u001b[0m\u001b[1;33m\u001b[0m\u001b[1;33m\u001b[0m\u001b[0m\n\u001b[1;32m-> 3464\u001b[1;33m             \u001b[0mindexer\u001b[0m \u001b[1;33m=\u001b[0m \u001b[0mself\u001b[0m\u001b[1;33m.\u001b[0m\u001b[0mloc\u001b[0m\u001b[1;33m.\u001b[0m\u001b[0m_get_listlike_indexer\u001b[0m\u001b[1;33m(\u001b[0m\u001b[0mkey\u001b[0m\u001b[1;33m,\u001b[0m \u001b[0maxis\u001b[0m\u001b[1;33m=\u001b[0m\u001b[1;36m1\u001b[0m\u001b[1;33m)\u001b[0m\u001b[1;33m[\u001b[0m\u001b[1;36m1\u001b[0m\u001b[1;33m]\u001b[0m\u001b[1;33m\u001b[0m\u001b[1;33m\u001b[0m\u001b[0m\n\u001b[0m\u001b[0;32m   3465\u001b[0m \u001b[1;33m\u001b[0m\u001b[0m\n\u001b[0;32m   3466\u001b[0m         \u001b[1;31m# take() does not accept boolean indexers\u001b[0m\u001b[1;33m\u001b[0m\u001b[1;33m\u001b[0m\u001b[0m\n",
      "\u001b[1;32m~\\Anaconda3\\lib\\site-packages\\pandas\\core\\indexing.py\u001b[0m in \u001b[0;36m_get_listlike_indexer\u001b[1;34m(self, key, axis)\u001b[0m\n\u001b[0;32m   1312\u001b[0m             \u001b[0mkeyarr\u001b[0m\u001b[1;33m,\u001b[0m \u001b[0mindexer\u001b[0m\u001b[1;33m,\u001b[0m \u001b[0mnew_indexer\u001b[0m \u001b[1;33m=\u001b[0m \u001b[0max\u001b[0m\u001b[1;33m.\u001b[0m\u001b[0m_reindex_non_unique\u001b[0m\u001b[1;33m(\u001b[0m\u001b[0mkeyarr\u001b[0m\u001b[1;33m)\u001b[0m\u001b[1;33m\u001b[0m\u001b[1;33m\u001b[0m\u001b[0m\n\u001b[0;32m   1313\u001b[0m \u001b[1;33m\u001b[0m\u001b[0m\n\u001b[1;32m-> 1314\u001b[1;33m         \u001b[0mself\u001b[0m\u001b[1;33m.\u001b[0m\u001b[0m_validate_read_indexer\u001b[0m\u001b[1;33m(\u001b[0m\u001b[0mkeyarr\u001b[0m\u001b[1;33m,\u001b[0m \u001b[0mindexer\u001b[0m\u001b[1;33m,\u001b[0m \u001b[0maxis\u001b[0m\u001b[1;33m)\u001b[0m\u001b[1;33m\u001b[0m\u001b[1;33m\u001b[0m\u001b[0m\n\u001b[0m\u001b[0;32m   1315\u001b[0m \u001b[1;33m\u001b[0m\u001b[0m\n\u001b[0;32m   1316\u001b[0m         if needs_i8_conversion(ax.dtype) or isinstance(\n",
      "\u001b[1;32m~\\Anaconda3\\lib\\site-packages\\pandas\\core\\indexing.py\u001b[0m in \u001b[0;36m_validate_read_indexer\u001b[1;34m(self, key, indexer, axis)\u001b[0m\n\u001b[0;32m   1372\u001b[0m                 \u001b[1;32mif\u001b[0m \u001b[0muse_interval_msg\u001b[0m\u001b[1;33m:\u001b[0m\u001b[1;33m\u001b[0m\u001b[1;33m\u001b[0m\u001b[0m\n\u001b[0;32m   1373\u001b[0m                     \u001b[0mkey\u001b[0m \u001b[1;33m=\u001b[0m \u001b[0mlist\u001b[0m\u001b[1;33m(\u001b[0m\u001b[0mkey\u001b[0m\u001b[1;33m)\u001b[0m\u001b[1;33m\u001b[0m\u001b[1;33m\u001b[0m\u001b[0m\n\u001b[1;32m-> 1374\u001b[1;33m                 \u001b[1;32mraise\u001b[0m \u001b[0mKeyError\u001b[0m\u001b[1;33m(\u001b[0m\u001b[1;34mf\"None of [{key}] are in the [{axis_name}]\"\u001b[0m\u001b[1;33m)\u001b[0m\u001b[1;33m\u001b[0m\u001b[1;33m\u001b[0m\u001b[0m\n\u001b[0m\u001b[0;32m   1375\u001b[0m \u001b[1;33m\u001b[0m\u001b[0m\n\u001b[0;32m   1376\u001b[0m             \u001b[0mnot_found\u001b[0m \u001b[1;33m=\u001b[0m \u001b[0mlist\u001b[0m\u001b[1;33m(\u001b[0m\u001b[0mensure_index\u001b[0m\u001b[1;33m(\u001b[0m\u001b[0mkey\u001b[0m\u001b[1;33m)\u001b[0m\u001b[1;33m[\u001b[0m\u001b[0mmissing_mask\u001b[0m\u001b[1;33m.\u001b[0m\u001b[0mnonzero\u001b[0m\u001b[1;33m(\u001b[0m\u001b[1;33m)\u001b[0m\u001b[1;33m[\u001b[0m\u001b[1;36m0\u001b[0m\u001b[1;33m]\u001b[0m\u001b[1;33m]\u001b[0m\u001b[1;33m.\u001b[0m\u001b[0munique\u001b[0m\u001b[1;33m(\u001b[0m\u001b[1;33m)\u001b[0m\u001b[1;33m)\u001b[0m\u001b[1;33m\u001b[0m\u001b[1;33m\u001b[0m\u001b[0m\n",
      "\u001b[1;31mKeyError\u001b[0m: \"None of [Int64Index([ 2220,  1450,  1360,  1310,  1700,  1610,   814,  2070,  1870,\\n             1840,\\n            ...\\n             1270,  1900,   436,  1700,  2780,  1160, 10600,    22,   423,\\n             3030],\\n           dtype='int64', length=128)] are in the [columns]\""
     ]
    }
   ],
   "source": [
    "# Merge number of search results with month year combination\n",
    "search_statistics = list_sr_all[list_sr_all[\"Month\"]]"
   ]
  },
  {
   "cell_type": "code",
   "execution_count": 70,
   "id": "6f32488a",
   "metadata": {},
   "outputs": [
    {
     "data": {
      "text/html": [
       "<div>\n",
       "<style scoped>\n",
       "    .dataframe tbody tr th:only-of-type {\n",
       "        vertical-align: middle;\n",
       "    }\n",
       "\n",
       "    .dataframe tbody tr th {\n",
       "        vertical-align: top;\n",
       "    }\n",
       "\n",
       "    .dataframe thead th {\n",
       "        text-align: right;\n",
       "    }\n",
       "</style>\n",
       "<table border=\"1\" class=\"dataframe\">\n",
       "  <thead>\n",
       "    <tr style=\"text-align: right;\">\n",
       "      <th></th>\n",
       "      <th>Month</th>\n",
       "    </tr>\n",
       "  </thead>\n",
       "  <tbody>\n",
       "    <tr>\n",
       "      <th>\"jan. 2012\"</th>\n",
       "      <td>NaN</td>\n",
       "    </tr>\n",
       "    <tr>\n",
       "      <th>\"feb. 2012\"</th>\n",
       "      <td>NaN</td>\n",
       "    </tr>\n",
       "    <tr>\n",
       "      <th>\"mar. 2012\"</th>\n",
       "      <td>NaN</td>\n",
       "    </tr>\n",
       "    <tr>\n",
       "      <th>\"apr. 2012\"</th>\n",
       "      <td>NaN</td>\n",
       "    </tr>\n",
       "    <tr>\n",
       "      <th>\"maj 2012\"</th>\n",
       "      <td>NaN</td>\n",
       "    </tr>\n",
       "    <tr>\n",
       "      <th>...</th>\n",
       "      <td>...</td>\n",
       "    </tr>\n",
       "    <tr>\n",
       "      <th>\"apr. 2022\"</th>\n",
       "      <td>NaN</td>\n",
       "    </tr>\n",
       "    <tr>\n",
       "      <th>\"maj 2022\"</th>\n",
       "      <td>NaN</td>\n",
       "    </tr>\n",
       "    <tr>\n",
       "      <th>\"jun. 2022\"</th>\n",
       "      <td>NaN</td>\n",
       "    </tr>\n",
       "    <tr>\n",
       "      <th>\"jul. 2022\"</th>\n",
       "      <td>NaN</td>\n",
       "    </tr>\n",
       "    <tr>\n",
       "      <th>\"aug. 2022\"</th>\n",
       "      <td>NaN</td>\n",
       "    </tr>\n",
       "  </tbody>\n",
       "</table>\n",
       "<p>128 rows × 1 columns</p>\n",
       "</div>"
      ],
      "text/plain": [
       "             Month\n",
       "\"jan. 2012\"    NaN\n",
       "\"feb. 2012\"    NaN\n",
       "\"mar. 2012\"    NaN\n",
       "\"apr. 2012\"    NaN\n",
       "\"maj 2012\"     NaN\n",
       "...            ...\n",
       "\"apr. 2022\"    NaN\n",
       "\"maj 2022\"     NaN\n",
       "\"jun. 2022\"    NaN\n",
       "\"jul. 2022\"    NaN\n",
       "\"aug. 2022\"    NaN\n",
       "\n",
       "[128 rows x 1 columns]"
      ]
     },
     "execution_count": 70,
     "metadata": {},
     "output_type": "execute_result"
    }
   ],
   "source": [
    "search_statistics_df = pd.DataFrame(list_sr_all.iloc[:,1], month_year)"
   ]
  }
 ],
 "metadata": {
  "kernelspec": {
   "display_name": "Python 3 (ipykernel)",
   "language": "python",
   "name": "python3"
  },
  "language_info": {
   "codemirror_mode": {
    "name": "ipython",
    "version": 3
   },
   "file_extension": ".py",
   "mimetype": "text/x-python",
   "name": "python",
   "nbconvert_exporter": "python",
   "pygments_lexer": "ipython3",
   "version": "3.9.7"
  }
 },
 "nbformat": 4,
 "nbformat_minor": 5
}
