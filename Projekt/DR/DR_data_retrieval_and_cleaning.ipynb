{
 "cells": [
  {
   "cell_type": "code",
   "execution_count": null,
   "id": "76596590",
   "metadata": {},
   "outputs": [],
   "source": []
  },
  {
   "cell_type": "code",
   "execution_count": 127,
   "id": "43234c1c",
   "metadata": {},
   "outputs": [],
   "source": [
    "import pandas as pd\n",
    "import numpy as np\n",
    "import os\n",
    "import re\n",
    "import tqdm \n",
    "import requests\n",
    "from bs4 import BeautifulSoup\n",
    "import time\n",
    "import datetime as dt"
   ]
  },
  {
   "cell_type": "markdown",
   "id": "3f61af75",
   "metadata": {},
   "source": [
    "## Clean link list further"
   ]
  },
  {
   "cell_type": "code",
   "execution_count": 128,
   "id": "b2830d50",
   "metadata": {},
   "outputs": [],
   "source": [
    "dr_01 = pd.read_csv(\"dr_links_1_26.csv\")\n",
    "dr_02 = pd.read_csv(\"dr_links_26_50.csv\")\n",
    "dr_03 = pd.read_csv(\"dr_links_51_75.csv\")\n",
    "dr_04 = pd.read_csv(\"dr_links_76_100.csv\")\n",
    "dr_05 = pd.read_csv(\"dr_links_100_124.csv\")"
   ]
  },
  {
   "cell_type": "code",
   "execution_count": null,
   "id": "d9840e54",
   "metadata": {},
   "outputs": [],
   "source": []
  },
  {
   "cell_type": "code",
   "execution_count": 129,
   "id": "39db5d75",
   "metadata": {},
   "outputs": [],
   "source": [
    "# Concatenate individual link-files\n",
    "dr_links = pd.concat([dr_01, dr_02, dr_03, dr_04, dr_05], ignore_index=True)"
   ]
  },
  {
   "cell_type": "code",
   "execution_count": 130,
   "id": "8a192d5e",
   "metadata": {},
   "outputs": [],
   "source": [
    "# Limit to index and links column\n",
    "dr_links = dr_links[[\"links\"]]"
   ]
  },
  {
   "cell_type": "code",
   "execution_count": 131,
   "id": "7a890a3c",
   "metadata": {
    "scrolled": true
   },
   "outputs": [],
   "source": [
    "# Drop false links\n",
    "dr_links = dr_links[dr_links['links'].str.contains(\"/search?\") == False]\n",
    "# Dropping rows that only contain a '#' - issue that later appeared\n",
    "dr_links = dr_links[dr_links['links'] != \"#\"]"
   ]
  },
  {
   "cell_type": "code",
   "execution_count": 132,
   "id": "186afe0e",
   "metadata": {},
   "outputs": [],
   "source": [
    "link_list_clean = dr_links.copy()"
   ]
  },
  {
   "cell_type": "code",
   "execution_count": 133,
   "id": "99e16e1a",
   "metadata": {},
   "outputs": [
    {
     "data": {
      "text/html": [
       "<div>\n",
       "<style scoped>\n",
       "    .dataframe tbody tr th:only-of-type {\n",
       "        vertical-align: middle;\n",
       "    }\n",
       "\n",
       "    .dataframe tbody tr th {\n",
       "        vertical-align: top;\n",
       "    }\n",
       "\n",
       "    .dataframe thead th {\n",
       "        text-align: right;\n",
       "    }\n",
       "</style>\n",
       "<table border=\"1\" class=\"dataframe\">\n",
       "  <thead>\n",
       "    <tr style=\"text-align: right;\">\n",
       "      <th></th>\n",
       "      <th>links</th>\n",
       "    </tr>\n",
       "  </thead>\n",
       "  <tbody>\n",
       "    <tr>\n",
       "      <th>0</th>\n",
       "      <td>https://www.dr.dk/nyheder/penge/danske-sygeple...</td>\n",
       "    </tr>\n",
       "    <tr>\n",
       "      <th>1</th>\n",
       "      <td>https://www.dr.dk/nyheder/regionale/sjaelland/...</td>\n",
       "    </tr>\n",
       "    <tr>\n",
       "      <th>2</th>\n",
       "      <td>https://www.dr.dk/nyheder/indland/dom-i-drabss...</td>\n",
       "    </tr>\n",
       "    <tr>\n",
       "      <th>3</th>\n",
       "      <td>https://www.dr.dk/Nyheder/Temaer/2012/Dronning...</td>\n",
       "    </tr>\n",
       "    <tr>\n",
       "      <th>4</th>\n",
       "      <td>https://www.dr.dk/nyheder/regionale/nordjyllan...</td>\n",
       "    </tr>\n",
       "  </tbody>\n",
       "</table>\n",
       "</div>"
      ],
      "text/plain": [
       "                                               links\n",
       "0  https://www.dr.dk/nyheder/penge/danske-sygeple...\n",
       "1  https://www.dr.dk/nyheder/regionale/sjaelland/...\n",
       "2  https://www.dr.dk/nyheder/indland/dom-i-drabss...\n",
       "3  https://www.dr.dk/Nyheder/Temaer/2012/Dronning...\n",
       "4  https://www.dr.dk/nyheder/regionale/nordjyllan..."
      ]
     },
     "execution_count": 133,
     "metadata": {},
     "output_type": "execute_result"
    }
   ],
   "source": [
    "link_list_clean.head()"
   ]
  },
  {
   "cell_type": "markdown",
   "id": "b1792eee",
   "metadata": {},
   "source": [
    "## End with `link_list_clean`"
   ]
  },
  {
   "cell_type": "code",
   "execution_count": 143,
   "id": "d3c4220c",
   "metadata": {},
   "outputs": [
    {
     "data": {
      "text/plain": [
       "0    https://www.dr.dk/nyheder/penge/danske-sygeple...\n",
       "1    https://www.dr.dk/nyheder/regionale/sjaelland/...\n",
       "Name: links, dtype: object"
      ]
     },
     "execution_count": 143,
     "metadata": {},
     "output_type": "execute_result"
    }
   ],
   "source": [
    "link_list_clean[\"links\"][0:2]"
   ]
  },
  {
   "cell_type": "markdown",
   "id": "5e165d4f",
   "metadata": {},
   "source": [
    "## Get DR articles from links"
   ]
  },
  {
   "cell_type": "markdown",
   "id": "065c3467",
   "metadata": {},
   "source": [
    "With the following code we scraped DR news articles collected with the Google search. Since this takes very long for all 2065 articles, we run the code here again with a small subset (`link_list_clean[\"links\"][0:5]`) to demonstrate the functionality of the code. We processed the full link set and saved the full dataset. For illustrative reasons, we process a small portion of the dataset and save it. Then, we continue working with the full dataset."
   ]
  },
  {
   "cell_type": "code",
   "execution_count": null,
   "id": "3da74067",
   "metadata": {},
   "outputs": [],
   "source": [
    "# Defining empty list for features\n",
    "dr_titles_list = []\n",
    "dr_h2_list = []\n",
    "dr_date = []\n",
    "dr_content_list = []\n",
    "dr_author_list = []\n",
    "dr_subhead_list = []\n",
    "dr_tag_list = []\n",
    "\n",
    "# Looping over links to retrieve HTMLs and extract relevant information from webpages\n",
    "for u in tqdm.tqdm(link_list_clean[\"links\"][0:5]): # [0:5] has been added to limit the run time for this code. We run it on all links.\n",
    "    re = requests.get(u, headers = {\"Name\" : \"Simon Ullrich - summer course project\" , \"email\": \"simon.ullrich@sodas.ku.dk\"})\n",
    "    soup = BeautifulSoup(re.content, \"lxml\")\n",
    "    # Extracting article titles\n",
    "    try:\n",
    "        title = soup.find(\"div\", class_ = \"dre-speech\")\n",
    "        dr_titles_list.append(title.text)\n",
    "    except:\n",
    "        dr_titles_list.append(\"\")\n",
    "    # Extracting date of publication\n",
    "    try:\n",
    "        try:\n",
    "            date = soup.find(\"time\", class_ = \"dre-byline__date\")['datetime']\n",
    "            dr_date.append(date)\n",
    "        # Some websites are of another type. Date of publication located elsewhere on the website\n",
    "        except:\n",
    "            # Different website type: e.g. https://www.dr.dk/nyheder/da-lille-rikke-loeb-ind-i-margrethe\n",
    "            date = soup.find(\"div\", class_ = \"hydra-latest-news-page-short-news__top\").find(\"span\", class_ = \"dre-label-text__text\")\n",
    "            dr_date.append(pd.to_datetime(date.text))\n",
    "    except:\n",
    "        dr_date.append(\"\")\n",
    "    # Extracting author of articles\n",
    "    try:\n",
    "        author = soup.find(\"div\", class_ = \"dre-byline__contribution-details\")\n",
    "        dr_author_list.append(author.text)\n",
    "    except:\n",
    "        dr_author_list.append(\"\")\n",
    "    # Extracting subheaders\n",
    "    try:\n",
    "        subheader = soup.find(\"p\", class_ = \"dre-article-title__summary\")\n",
    "        dr_subhead_list.append(subheader.text)\n",
    "    except:\n",
    "        dr_subhead_list.append(\"\")\n",
    "    # Extracting article bodies\n",
    "    try:\n",
    "        # try:\n",
    "        dr_content_i_list = []\n",
    "        dr_content = soup.find_all(\"p\", class_ = \"dre-article-body-paragraph dre-variables\")\n",
    "        for i in dr_content:\n",
    "            dr_content_i_list.append(i.text)\n",
    "        dr_content_str = \" \".join(dr_content_i_list)\n",
    "        dr_content_list.append(dr_content_str)\n",
    "        # except:\n",
    "            # dr_content_i_list = []\n",
    "            # dr_content = soup.find(\"div\", class_ = \"hydra-latest-news-page-short-news__body\")\n",
    "            # for i in dr_content:\n",
    "                # dr_content_i_list.append(i)\n",
    "                # dr_content_str = \" \".join(dr_content_i_list)\n",
    "            # dr_content_list.append(dr_content_str)\n",
    "    except:\n",
    "        dr_content_list.append(\"\")\n",
    "    # Extracting second headlines\n",
    "    try:\n",
    "        dr_h2 = soup.find_all(\"h2\", class_ = \"dre-article-body-sub-heading dre-variables\")\n",
    "        dr_h2_i_list = []\n",
    "        for i in dr_h2:\n",
    "            dr_h2_i = i.get_text()\n",
    "            dr_h2_i_list.append(dr_h2_i)\n",
    "        dr_h2_str = \" \".join(dr_h2_i_list)\n",
    "        dr_h2_list.append(dr_h2_str)\n",
    "    except:\n",
    "        dr_h2_list.append(\"\")\n",
    "    # Extracting article tags\n",
    "    try:\n",
    "        dr_tag = soup.find(\"a\", class_ = \"dre-article-title-section-label__title dre-article-title-section-label__title--link\")\n",
    "        dr_tag_list.append(dr_tag.text)\n",
    "    except:\n",
    "        dr_tag_list.append(\"\")"
   ]
  },
  {
   "cell_type": "code",
   "execution_count": null,
   "id": "1bcef83f",
   "metadata": {},
   "outputs": [],
   "source": [
    "### Combine lists to DataFrame\n",
    "dr_articles_test=pd.DataFrame([dr_titles_list, dr_subhead_list, dr_h2_list, dr_content_list, dr_author_list, dr_tag_list, dr_date, link_list_clean[\"links\"]]).transpose()\n",
    "dr_articles_test.columns=[\"titles\", \"sub_header\", \"h2\", \"content\", \"author\", \"tag\", \"date\", \"link\"]\n",
    "dr_articles_test[\"source\"] = \"DR\"\n",
    "\n",
    "display(dr_articles_test)"
   ]
  },
  {
   "cell_type": "code",
   "execution_count": null,
   "id": "4207f441",
   "metadata": {},
   "outputs": [],
   "source": [
    "### Save dataset\n",
    "dr_articles_test.to_csv(\"dr_articles_test.csv\", index = False)"
   ]
  },
  {
   "cell_type": "markdown",
   "id": "0988c34c",
   "metadata": {},
   "source": [
    "### Reading in the full dataset"
   ]
  },
  {
   "cell_type": "code",
   "execution_count": 149,
   "id": "fa39e578",
   "metadata": {},
   "outputs": [],
   "source": [
    "dr_articles = pd.read_csv(\"dr_articles.csv\")"
   ]
  },
  {
   "cell_type": "code",
   "execution_count": 151,
   "id": "e866967b",
   "metadata": {
    "scrolled": true
   },
   "outputs": [
    {
     "data": {
      "text/html": [
       "<div>\n",
       "<style scoped>\n",
       "    .dataframe tbody tr th:only-of-type {\n",
       "        vertical-align: middle;\n",
       "    }\n",
       "\n",
       "    .dataframe tbody tr th {\n",
       "        vertical-align: top;\n",
       "    }\n",
       "\n",
       "    .dataframe thead th {\n",
       "        text-align: right;\n",
       "    }\n",
       "</style>\n",
       "<table border=\"1\" class=\"dataframe\">\n",
       "  <thead>\n",
       "    <tr style=\"text-align: right;\">\n",
       "      <th></th>\n",
       "      <th>titles</th>\n",
       "      <th>sub_header</th>\n",
       "      <th>h2</th>\n",
       "      <th>content</th>\n",
       "      <th>author</th>\n",
       "      <th>tag</th>\n",
       "      <th>date</th>\n",
       "      <th>link</th>\n",
       "      <th>source</th>\n",
       "    </tr>\n",
       "  </thead>\n",
       "  <tbody>\n",
       "    <tr>\n",
       "      <th>0</th>\n",
       "      <td>Danske sygeplejersker får job i Norge</td>\n",
       "      <td>Krise, fyringer og ansættelsesstop får sygeple...</td>\n",
       "      <td>Markant flere</td>\n",
       "      <td>Antallet af danske sygeplejersker, der har fåe...</td>\n",
       "      <td>Ritzau/</td>\n",
       "      <td>Penge</td>\n",
       "      <td>2012-01-19T13:27:00+00:00</td>\n",
       "      <td>https://www.dr.dk/nyheder/penge/danske-sygeple...</td>\n",
       "      <td>DR</td>\n",
       "    </tr>\n",
       "    <tr>\n",
       "      <th>1</th>\n",
       "      <td>Næsten ingen ledige sygeplejersker</td>\n",
       "      <td>Trods fyringsrunder i både 2010 og 2011 er arb...</td>\n",
       "      <td>NaN</td>\n",
       "      <td>Trods fyringsrunder på sygehusene i både 2010 ...</td>\n",
       "      <td>Henny Mortensen</td>\n",
       "      <td>Sjælland</td>\n",
       "      <td>2012-01-28T07:42:00+00:00</td>\n",
       "      <td>https://www.dr.dk/nyheder/regionale/sjaelland/...</td>\n",
       "      <td>DR</td>\n",
       "    </tr>\n",
       "    <tr>\n",
       "      <th>2</th>\n",
       "      <td>Dom i drabssag fra Skodborg i dag</td>\n",
       "      <td>I dag afgøres det om en 40-årig kvinde er skyl...</td>\n",
       "      <td>NaN</td>\n",
       "      <td>I dag afsiges der dom i sagen om den 42-årige ...</td>\n",
       "      <td>Søren Andersen</td>\n",
       "      <td>Indland</td>\n",
       "      <td>2012-01-27T05:24:00+00:00</td>\n",
       "      <td>https://www.dr.dk/nyheder/indland/dom-i-drabss...</td>\n",
       "      <td>DR</td>\n",
       "    </tr>\n",
       "    <tr>\n",
       "      <th>3</th>\n",
       "      <td>BILLEDSERIE: Den nye dronning</td>\n",
       "      <td>NaN</td>\n",
       "      <td>NaN</td>\n",
       "      <td>NaN</td>\n",
       "      <td>Morten Top</td>\n",
       "      <td>NaN</td>\n",
       "      <td>2012-01-08 00:00:00</td>\n",
       "      <td>https://www.dr.dk/Nyheder/Temaer/2012/Dronning...</td>\n",
       "      <td>DR</td>\n",
       "    </tr>\n",
       "    <tr>\n",
       "      <th>4</th>\n",
       "      <td>Socialminister: Vi kommer til at lære af Rebil...</td>\n",
       "      <td>Socialminister Karen Hækkerup er overbevist om...</td>\n",
       "      <td>NaN</td>\n",
       "      <td>Socialminister Karen Hækkerup er overbevist om...</td>\n",
       "      <td>Søren K Nielsen</td>\n",
       "      <td>Nordjylland</td>\n",
       "      <td>2012-01-17T21:42:00+00:00</td>\n",
       "      <td>https://www.dr.dk/nyheder/regionale/nordjyllan...</td>\n",
       "      <td>DR</td>\n",
       "    </tr>\n",
       "  </tbody>\n",
       "</table>\n",
       "</div>"
      ],
      "text/plain": [
       "                                              titles  \\\n",
       "0              Danske sygeplejersker får job i Norge   \n",
       "1                 Næsten ingen ledige sygeplejersker   \n",
       "2                  Dom i drabssag fra Skodborg i dag   \n",
       "3                      BILLEDSERIE: Den nye dronning   \n",
       "4  Socialminister: Vi kommer til at lære af Rebil...   \n",
       "\n",
       "                                          sub_header             h2  \\\n",
       "0  Krise, fyringer og ansættelsesstop får sygeple...  Markant flere   \n",
       "1  Trods fyringsrunder i både 2010 og 2011 er arb...            NaN   \n",
       "2  I dag afgøres det om en 40-årig kvinde er skyl...            NaN   \n",
       "3                                                NaN            NaN   \n",
       "4  Socialminister Karen Hækkerup er overbevist om...            NaN   \n",
       "\n",
       "                                             content           author  \\\n",
       "0  Antallet af danske sygeplejersker, der har fåe...          Ritzau/   \n",
       "1  Trods fyringsrunder på sygehusene i både 2010 ...  Henny Mortensen   \n",
       "2  I dag afsiges der dom i sagen om den 42-årige ...   Søren Andersen   \n",
       "3                                                NaN       Morten Top   \n",
       "4  Socialminister Karen Hækkerup er overbevist om...  Søren K Nielsen   \n",
       "\n",
       "           tag                       date  \\\n",
       "0        Penge  2012-01-19T13:27:00+00:00   \n",
       "1     Sjælland  2012-01-28T07:42:00+00:00   \n",
       "2      Indland  2012-01-27T05:24:00+00:00   \n",
       "3          NaN        2012-01-08 00:00:00   \n",
       "4  Nordjylland  2012-01-17T21:42:00+00:00   \n",
       "\n",
       "                                                link source  \n",
       "0  https://www.dr.dk/nyheder/penge/danske-sygeple...     DR  \n",
       "1  https://www.dr.dk/nyheder/regionale/sjaelland/...     DR  \n",
       "2  https://www.dr.dk/nyheder/indland/dom-i-drabss...     DR  \n",
       "3  https://www.dr.dk/Nyheder/Temaer/2012/Dronning...     DR  \n",
       "4  https://www.dr.dk/nyheder/regionale/nordjyllan...     DR  "
      ]
     },
     "metadata": {},
     "output_type": "display_data"
    }
   ],
   "source": [
    "display(dr_articles.head())"
   ]
  },
  {
   "cell_type": "markdown",
   "id": "774c4009",
   "metadata": {},
   "source": [
    "## Next tasks\n",
    "* Clean dates - all datetime objects!"
   ]
  }
 ],
 "metadata": {
  "kernelspec": {
   "display_name": "Python 3 (ipykernel)",
   "language": "python",
   "name": "python3"
  },
  "language_info": {
   "codemirror_mode": {
    "name": "ipython",
    "version": 3
   },
   "file_extension": ".py",
   "mimetype": "text/x-python",
   "name": "python",
   "nbconvert_exporter": "python",
   "pygments_lexer": "ipython3",
   "version": "3.9.12"
  }
 },
 "nbformat": 4,
 "nbformat_minor": 5
}
