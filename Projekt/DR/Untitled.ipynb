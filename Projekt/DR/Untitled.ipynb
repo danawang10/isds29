{
 "cells": [
  {
   "cell_type": "code",
   "execution_count": 2,
   "id": "9cc42b72",
   "metadata": {},
   "outputs": [],
   "source": [
    "import requests\n",
    "from bs4 import BeautifulSoup\n",
    "import time\n",
    "import pandas as pd\n",
    "import numpy as np\n",
    "import tqdm\n",
    "import csv\n",
    "import re\n",
    "import os\n",
    "import seaborn as sns\n",
    "import matplotlib.pyplot as plt"
   ]
  },
  {
   "cell_type": "code",
   "execution_count": 12,
   "id": "a7814ba7",
   "metadata": {},
   "outputs": [],
   "source": [
    "list_sr_df_50_124 = pd.read_csv(\"list_search_results_50-124.csv\")\n",
    "list_sr_df_0_50 = pd.read_csv(\"list_search_results_0-50.csv\")\n",
    "list_sr_df_124_128 = pd.read_csv(\"list_search_results_124-128.csv\")"
   ]
  },
  {
   "cell_type": "code",
   "execution_count": 13,
   "id": "cede790c",
   "metadata": {},
   "outputs": [],
   "source": [
    "df_sr_all = pd.concat([list_sr_df_0_50, list_sr_df_50_124, list_sr_df_124_128], \n",
    "          ignore_index=True)"
   ]
  },
  {
   "cell_type": "code",
   "execution_count": 14,
   "id": "83bffdc2",
   "metadata": {},
   "outputs": [],
   "source": [
    "df_sr_all.to_csv(\"df_sr_all.csv\", index = False)"
   ]
  }
 ],
 "metadata": {
  "kernelspec": {
   "display_name": "Python 3 (ipykernel)",
   "language": "python",
   "name": "python3"
  },
  "language_info": {
   "codemirror_mode": {
    "name": "ipython",
    "version": 3
   },
   "file_extension": ".py",
   "mimetype": "text/x-python",
   "name": "python",
   "nbconvert_exporter": "python",
   "pygments_lexer": "ipython3",
   "version": "3.9.7"
  }
 },
 "nbformat": 4,
 "nbformat_minor": 5
}
