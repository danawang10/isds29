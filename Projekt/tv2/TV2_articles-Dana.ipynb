{
 "cells": [
  {
   "cell_type": "code",
   "execution_count": 108,
   "id": "c18bc33c",
   "metadata": {},
   "outputs": [],
   "source": [
    "# pd.set_option('max_colwidth', 50)"
   ]
  },
  {
   "cell_type": "code",
   "execution_count": 109,
   "id": "b97eeb79",
   "metadata": {},
   "outputs": [],
   "source": [
    "import requests\n",
    "import time\n",
    "from bs4 import BeautifulSoup\n",
    "import pandas as pd\n",
    "import numpy as np\n",
    "from tqdm import tqdm\n",
    "\n",
    "import matplotlib.pyplot as plt\n",
    "import seaborn as sns"
   ]
  },
  {
   "cell_type": "markdown",
   "id": "ce458f87",
   "metadata": {},
   "source": [
    "# Scraping"
   ]
  },
  {
   "cell_type": "markdown",
   "id": "c62d9e2b",
   "metadata": {},
   "source": [
    "## Scrape URL of articles"
   ]
  },
  {
   "cell_type": "code",
   "execution_count": null,
   "id": "51239599",
   "metadata": {},
   "outputs": [],
   "source": [
    "links = []\n",
    "year_list = []\n",
    "\n",
    "for year in range(2012, 2023, 1):\n",
    "    year=f\"https://search.tv2.dk/?query=sygeplejersker+{year}\"\n",
    "    year_list.append(year)\n",
    "    \n",
    "    for month in range(1,10,1): #Måned 1-9\n",
    "        search_month=f\"-0{month}&sort=relevance&page=\"\n",
    "        \n",
    "        for page in range(1,11,1): # (start, stop, step)\n",
    "            url = year+search_month+f\"{page}\"\n",
    "            links.append(url)\n",
    "    \n",
    "    for month in range(10, 13): #måned 10-12\n",
    "        search_month=f\"-{month}&sort=relevance&page=\"\n",
    "        \n",
    "        for page in range(1,11,1): # (start, stop, step)\n",
    "            url = year+search_month+f\"{page}\"\n",
    "            links.append(url)\n",
    "len(links)"
   ]
  },
  {
   "cell_type": "code",
   "execution_count": null,
   "id": "0c3233c1",
   "metadata": {},
   "outputs": [],
   "source": [
    "article_url=[]\n",
    "for i in tqdm(links):\n",
    "    try:\n",
    "        resp_page = requests.get(i,headers={\"Name\" : \"Oliver Fredborg Smietana\" , \"email\": \"ofsmietana@gmail.com\"})\n",
    "        soup = BeautifulSoup(resp_page.content, 'lxml')\n",
    "        for link in soup.find(\"section\").find_all('a', href=True):\n",
    "            article_url.append(link['href'])\n",
    "    except:\n",
    "        pass\n",
    "    time.sleep(0.25)\n",
    "len(article_url)"
   ]
  },
  {
   "cell_type": "code",
   "execution_count": null,
   "id": "07ca1ecb",
   "metadata": {},
   "outputs": [],
   "source": [
    "df = pd.DataFrame(article_url) \n",
    "df.to_csv('article_url.csv') "
   ]
  },
  {
   "cell_type": "code",
   "execution_count": 5,
   "id": "f463ec23",
   "metadata": {},
   "outputs": [
    {
     "data": {
      "text/html": [
       "<div>\n",
       "<style scoped>\n",
       "    .dataframe tbody tr th:only-of-type {\n",
       "        vertical-align: middle;\n",
       "    }\n",
       "\n",
       "    .dataframe tbody tr th {\n",
       "        vertical-align: top;\n",
       "    }\n",
       "\n",
       "    .dataframe thead th {\n",
       "        text-align: right;\n",
       "    }\n",
       "</style>\n",
       "<table border=\"1\" class=\"dataframe\">\n",
       "  <thead>\n",
       "    <tr style=\"text-align: right;\">\n",
       "      <th></th>\n",
       "      <th>0</th>\n",
       "    </tr>\n",
       "  </thead>\n",
       "  <tbody>\n",
       "    <tr>\n",
       "      <th>0</th>\n",
       "      <td>https://nyheder.tv2.dk/2012-01-27-paa-jagt-eft...</td>\n",
       "    </tr>\n",
       "    <tr>\n",
       "      <th>1</th>\n",
       "      <td>https://nyheder.tv2.dk/business/2012-01-19-dan...</td>\n",
       "    </tr>\n",
       "    <tr>\n",
       "      <th>2</th>\n",
       "      <td>https://nyheder.tv2.dk/udland/2012-04-02-syv-e...</td>\n",
       "    </tr>\n",
       "    <tr>\n",
       "      <th>3</th>\n",
       "      <td>https://nyheder.tv2.dk/krimi/2012-03-08-42aari...</td>\n",
       "    </tr>\n",
       "    <tr>\n",
       "      <th>4</th>\n",
       "      <td>https://nyheder.tv2.dk/udland/2012-04-22-sudan...</td>\n",
       "    </tr>\n",
       "    <tr>\n",
       "      <th>...</th>\n",
       "      <td>...</td>\n",
       "    </tr>\n",
       "    <tr>\n",
       "      <th>8753</th>\n",
       "      <td>https://nyheder.tv2.dk/udland/2011-01-21-giffo...</td>\n",
       "    </tr>\n",
       "    <tr>\n",
       "      <th>8754</th>\n",
       "      <td>https://nyheder.tv2.dk/business/2015-11-04-rob...</td>\n",
       "    </tr>\n",
       "    <tr>\n",
       "      <th>8755</th>\n",
       "      <td>https://nyheder.tv2.dk/2021-01-28-dagens-overb...</td>\n",
       "    </tr>\n",
       "    <tr>\n",
       "      <th>8756</th>\n",
       "      <td>https://tvtid.tv2.dk/nytomtv/article.php/id-38...</td>\n",
       "    </tr>\n",
       "    <tr>\n",
       "      <th>8757</th>\n",
       "      <td>https://search.tv2.dk?query=sygeplejerske 2022...</td>\n",
       "    </tr>\n",
       "  </tbody>\n",
       "</table>\n",
       "<p>8758 rows × 1 columns</p>\n",
       "</div>"
      ],
      "text/plain": [
       "                                                      0\n",
       "0     https://nyheder.tv2.dk/2012-01-27-paa-jagt-eft...\n",
       "1     https://nyheder.tv2.dk/business/2012-01-19-dan...\n",
       "2     https://nyheder.tv2.dk/udland/2012-04-02-syv-e...\n",
       "3     https://nyheder.tv2.dk/krimi/2012-03-08-42aari...\n",
       "4     https://nyheder.tv2.dk/udland/2012-04-22-sudan...\n",
       "...                                                 ...\n",
       "8753  https://nyheder.tv2.dk/udland/2011-01-21-giffo...\n",
       "8754  https://nyheder.tv2.dk/business/2015-11-04-rob...\n",
       "8755  https://nyheder.tv2.dk/2021-01-28-dagens-overb...\n",
       "8756  https://tvtid.tv2.dk/nytomtv/article.php/id-38...\n",
       "8757  https://search.tv2.dk?query=sygeplejerske 2022...\n",
       "\n",
       "[8758 rows x 1 columns]"
      ]
     },
     "execution_count": 5,
     "metadata": {},
     "output_type": "execute_result"
    }
   ],
   "source": [
    "df"
   ]
  },
  {
   "cell_type": "markdown",
   "id": "2afd2b84",
   "metadata": {},
   "source": [
    "## Use URL to scrape articles"
   ]
  },
  {
   "cell_type": "code",
   "execution_count": null,
   "id": "3108beb3",
   "metadata": {},
   "outputs": [],
   "source": []
  },
  {
   "cell_type": "markdown",
   "id": "e6788ea0",
   "metadata": {},
   "source": [
    "## Create dataframe and save it "
   ]
  },
  {
   "cell_type": "code",
   "execution_count": null,
   "id": "ca906cfd",
   "metadata": {},
   "outputs": [],
   "source": []
  },
  {
   "cell_type": "markdown",
   "id": "9ca77dc3",
   "metadata": {},
   "source": [
    "# Cleaning"
   ]
  },
  {
   "cell_type": "code",
   "execution_count": 225,
   "id": "bade4856",
   "metadata": {},
   "outputs": [],
   "source": [
    "# read file \n",
    "tv2 = pd.read_csv('articles_tv2')"
   ]
  },
  {
   "cell_type": "code",
   "execution_count": 259,
   "id": "37f47ee2",
   "metadata": {},
   "outputs": [
    {
     "data": {
      "text/plain": [
       "'ritzau'"
      ]
     },
     "execution_count": 259,
     "metadata": {},
     "output_type": "execute_result"
    }
   ],
   "source": [
    "tv2 = tv2[0:100]\n",
    "tv2.author[11]"
   ]
  },
  {
   "cell_type": "code",
   "execution_count": 228,
   "id": "65227a10",
   "metadata": {},
   "outputs": [],
   "source": [
    "# Remove 'back' and 'next' rows \n",
    "tv2 = tv2[tv2.titles != 'Søg på TV 2']"
   ]
  },
  {
   "cell_type": "code",
   "execution_count": 229,
   "id": "89bb2d8e",
   "metadata": {},
   "outputs": [],
   "source": [
    "# Remove rows with the tag 'Udland'\n",
    "# tv2 = tv2[tv2.tag != 'Udland']"
   ]
  },
  {
   "cell_type": "code",
   "execution_count": 230,
   "id": "a94aa716",
   "metadata": {},
   "outputs": [
    {
     "data": {
      "text/plain": [
       "'Dansk sygeplejeråd: \"What a waste\" Flere sygeplejersker har stress Hellere udlandet end at flere forlader faget 11 arbejdsgivere fra udlandet Leder også efter farmaceuter'"
      ]
     },
     "execution_count": 230,
     "metadata": {},
     "output_type": "execute_result"
    }
   ],
   "source": [
    "tv2.h2[0]"
   ]
  },
  {
   "cell_type": "markdown",
   "id": "a3bdc648",
   "metadata": {},
   "source": [
    "# Descriptive statistics"
   ]
  },
  {
   "cell_type": "markdown",
   "id": "bcd0d070",
   "metadata": {},
   "source": [
    "#### Global aesthetics"
   ]
  },
  {
   "cell_type": "code",
   "execution_count": 231,
   "id": "a39998ba",
   "metadata": {},
   "outputs": [],
   "source": [
    "plt.style.use('ggplot')\n",
    "sns.set_style(\"whitegrid\")"
   ]
  },
  {
   "cell_type": "markdown",
   "id": "9c51814a",
   "metadata": {},
   "source": [
    "#### Plot: Tag occurrence"
   ]
  },
  {
   "cell_type": "code",
   "execution_count": 232,
   "id": "53e53523",
   "metadata": {},
   "outputs": [
    {
     "data": {
      "image/png": "[encoded data removed]",
      "text/plain": [
       "<Figure size 432x288 with 1 Axes>"
      ]
     },
     "metadata": {},
     "output_type": "display_data"
    }
   ],
   "source": [
    "plt.style.use('ggplot')\n",
    "sns.set_style(\"whitegrid\")\n",
    "\n",
    "fig, ax = plt.subplots(nrows = 1, ncols = 1) # create placeholder for plot\n",
    "ax = sns.countplot(x = 'tag', data = tv2)"
   ]
  },
  {
   "cell_type": "code",
   "execution_count": 233,
   "id": "9a9f6a7a",
   "metadata": {
    "scrolled": true
   },
   "outputs": [
    {
     "data": {
      "image/png": "[encoded data removed]",
      "text/plain": [
       "<Figure size 432x288 with 1 Axes>"
      ]
     },
     "metadata": {},
     "output_type": "display_data"
    }
   ],
   "source": [
    "fig, ax = plt.subplots(nrows = 1, ncols = 1) # create placeholder for plot\n",
    "ax = sns.countplot(x = 'tag', data = tv2)"
   ]
  },
  {
   "cell_type": "code",
   "execution_count": 234,
   "id": "3507baf0",
   "metadata": {},
   "outputs": [
    {
     "data": {
      "text/html": [
       "<div>\n",
       "<style scoped>\n",
       "    .dataframe tbody tr th:only-of-type {\n",
       "        vertical-align: middle;\n",
       "    }\n",
       "\n",
       "    .dataframe tbody tr th {\n",
       "        vertical-align: top;\n",
       "    }\n",
       "\n",
       "    .dataframe thead th {\n",
       "        text-align: right;\n",
       "    }\n",
       "</style>\n",
       "<table border=\"1\" class=\"dataframe\">\n",
       "  <thead>\n",
       "    <tr style=\"text-align: right;\">\n",
       "      <th></th>\n",
       "      <th>titles</th>\n",
       "      <th>sub_header</th>\n",
       "      <th>h2</th>\n",
       "      <th>content</th>\n",
       "      <th>author</th>\n",
       "      <th>tag</th>\n",
       "      <th>date</th>\n",
       "      <th>link</th>\n",
       "      <th>tv2</th>\n",
       "    </tr>\n",
       "  </thead>\n",
       "  <tbody>\n",
       "  </tbody>\n",
       "</table>\n",
       "</div>"
      ],
      "text/plain": [
       "Empty DataFrame\n",
       "Columns: [titles, sub_header, h2, content, author, tag, date, link, tv2]\n",
       "Index: []"
      ]
     },
     "execution_count": 234,
     "metadata": {},
     "output_type": "execute_result"
    }
   ],
   "source": [
    "tv2[tv2.author == r'Søg på TV 2']"
   ]
  },
  {
   "cell_type": "markdown",
   "id": "b8dafa42",
   "metadata": {},
   "source": [
    "#### Number of articles from ritzau"
   ]
  },
  {
   "cell_type": "code",
   "execution_count": 116,
   "id": "c9e341f4",
   "metadata": {},
   "outputs": [],
   "source": [
    "import re"
   ]
  },
  {
   "cell_type": "code",
   "execution_count": 269,
   "id": "de12bcf1",
   "metadata": {},
   "outputs": [],
   "source": [
    "counter = 0\n",
    "\n",
    "for i in range(0,100):\n",
    "    try: \n",
    "        if re.findall(r'[Rr]itzau', tv2.author[i]) == ['ritzau' or 'Ritzau']:\n",
    "            counter += 1\n",
    "    except: \n",
    "        pass"
   ]
  },
  {
   "cell_type": "code",
   "execution_count": 270,
   "id": "fe2c57af",
   "metadata": {},
   "outputs": [
    {
     "data": {
      "text/plain": [
       "45"
      ]
     },
     "execution_count": 270,
     "metadata": {},
     "output_type": "execute_result"
    }
   ],
   "source": [
    "counter"
   ]
  },
  {
   "cell_type": "code",
   "execution_count": null,
   "id": "3c1ab066",
   "metadata": {},
   "outputs": [],
   "source": []
  }
 ],
 "metadata": {
  "kernelspec": {
   "display_name": "Python 3 (ipykernel)",
   "language": "python",
   "name": "python3"
  },
  "language_info": {
   "codemirror_mode": {
    "name": "ipython",
    "version": 3
   },
   "file_extension": ".py",
   "mimetype": "text/x-python",
   "name": "python",
   "nbconvert_exporter": "python",
   "pygments_lexer": "ipython3",
   "version": "3.9.12"
  }
 },
 "nbformat": 4,
 "nbformat_minor": 5
}
