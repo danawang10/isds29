{
 "cells": [
  {
   "cell_type": "code",
   "execution_count": 6,
   "id": "b97eeb79",
   "metadata": {},
   "outputs": [],
   "source": [
    "import requests\n",
    "import time\n",
    "from bs4 import BeautifulSoup\n",
    "import pandas as pd\n",
    "import numpy as np\n",
    "from tqdm import tqdm"
   ]
  },
  {
   "cell_type": "code",
   "execution_count": null,
   "id": "51239599",
   "metadata": {},
   "outputs": [],
   "source": [
    "links = []\n",
    "year_list = []\n",
    "\n",
    "for year in range(2012, 2023, 1):\n",
    "    year=f\"https://search.tv2.dk/?query=sygeplejersker+{year}\"\n",
    "    year_list.append(year)\n",
    "    \n",
    "    for month in range(1,10,1): #Måned 1-9\n",
    "        search_month=f\"-0{month}&sort=relevance&page=\"\n",
    "        \n",
    "        for page in range(1,11,1): # (start, stop, step)\n",
    "            url = year+search_month+f\"{page}\"\n",
    "            links.append(url)\n",
    "    \n",
    "    for month in range(10, 13): #måned 10-12\n",
    "        search_month=f\"-{month}&sort=relevance&page=\"\n",
    "        \n",
    "        for page in range(1,11,1): # (start, stop, step)\n",
    "            url = year+search_month+f\"{page}\"\n",
    "            links.append(url)\n",
    "len(links)"
   ]
  },
  {
   "cell_type": "code",
   "execution_count": null,
   "id": "0c3233c1",
   "metadata": {},
   "outputs": [],
   "source": [
    "article_url=[]\n",
    "for i in tqdm(links):\n",
    "    try:\n",
    "        resp_page = requests.get(i,headers={\"Name\" : \"Oliver Fredborg Smietana\" , \"email\": \"ofsmietana@gmail.com\"})\n",
    "        soup = BeautifulSoup(resp_page.content, 'lxml')\n",
    "        for link in soup.find(\"section\").find_all('a', href=True):\n",
    "            article_url.append(link['href'])\n",
    "    except:\n",
    "        pass\n",
    "    time.sleep(0.25)\n",
    "len(article_url)"
   ]
  },
  {
   "cell_type": "code",
   "execution_count": null,
   "id": "07ca1ecb",
   "metadata": {},
   "outputs": [],
   "source": [
    "df = pd.DataFrame(article_url) \n",
    "df.to_csv('article_url.csv') "
   ]
  },
  {
   "cell_type": "code",
   "execution_count": 5,
   "id": "f463ec23",
   "metadata": {},
   "outputs": [
    {
     "data": {
      "text/html": [
       "<div>\n",
       "<style scoped>\n",
       "    .dataframe tbody tr th:only-of-type {\n",
       "        vertical-align: middle;\n",
       "    }\n",
       "\n",
       "    .dataframe tbody tr th {\n",
       "        vertical-align: top;\n",
       "    }\n",
       "\n",
       "    .dataframe thead th {\n",
       "        text-align: right;\n",
       "    }\n",
       "</style>\n",
       "<table border=\"1\" class=\"dataframe\">\n",
       "  <thead>\n",
       "    <tr style=\"text-align: right;\">\n",
       "      <th></th>\n",
       "      <th>0</th>\n",
       "    </tr>\n",
       "  </thead>\n",
       "  <tbody>\n",
       "    <tr>\n",
       "      <th>0</th>\n",
       "      <td>https://nyheder.tv2.dk/2012-01-27-paa-jagt-eft...</td>\n",
       "    </tr>\n",
       "    <tr>\n",
       "      <th>1</th>\n",
       "      <td>https://nyheder.tv2.dk/business/2012-01-19-dan...</td>\n",
       "    </tr>\n",
       "    <tr>\n",
       "      <th>2</th>\n",
       "      <td>https://nyheder.tv2.dk/udland/2012-04-02-syv-e...</td>\n",
       "    </tr>\n",
       "    <tr>\n",
       "      <th>3</th>\n",
       "      <td>https://nyheder.tv2.dk/krimi/2012-03-08-42aari...</td>\n",
       "    </tr>\n",
       "    <tr>\n",
       "      <th>4</th>\n",
       "      <td>https://nyheder.tv2.dk/udland/2012-04-22-sudan...</td>\n",
       "    </tr>\n",
       "    <tr>\n",
       "      <th>...</th>\n",
       "      <td>...</td>\n",
       "    </tr>\n",
       "    <tr>\n",
       "      <th>8753</th>\n",
       "      <td>https://nyheder.tv2.dk/udland/2011-01-21-giffo...</td>\n",
       "    </tr>\n",
       "    <tr>\n",
       "      <th>8754</th>\n",
       "      <td>https://nyheder.tv2.dk/business/2015-11-04-rob...</td>\n",
       "    </tr>\n",
       "    <tr>\n",
       "      <th>8755</th>\n",
       "      <td>https://nyheder.tv2.dk/2021-01-28-dagens-overb...</td>\n",
       "    </tr>\n",
       "    <tr>\n",
       "      <th>8756</th>\n",
       "      <td>https://tvtid.tv2.dk/nytomtv/article.php/id-38...</td>\n",
       "    </tr>\n",
       "    <tr>\n",
       "      <th>8757</th>\n",
       "      <td>https://search.tv2.dk?query=sygeplejerske 2022...</td>\n",
       "    </tr>\n",
       "  </tbody>\n",
       "</table>\n",
       "<p>8758 rows × 1 columns</p>\n",
       "</div>"
      ],
      "text/plain": [
       "                                                      0\n",
       "0     https://nyheder.tv2.dk/2012-01-27-paa-jagt-eft...\n",
       "1     https://nyheder.tv2.dk/business/2012-01-19-dan...\n",
       "2     https://nyheder.tv2.dk/udland/2012-04-02-syv-e...\n",
       "3     https://nyheder.tv2.dk/krimi/2012-03-08-42aari...\n",
       "4     https://nyheder.tv2.dk/udland/2012-04-22-sudan...\n",
       "...                                                 ...\n",
       "8753  https://nyheder.tv2.dk/udland/2011-01-21-giffo...\n",
       "8754  https://nyheder.tv2.dk/business/2015-11-04-rob...\n",
       "8755  https://nyheder.tv2.dk/2021-01-28-dagens-overb...\n",
       "8756  https://tvtid.tv2.dk/nytomtv/article.php/id-38...\n",
       "8757  https://search.tv2.dk?query=sygeplejerske 2022...\n",
       "\n",
       "[8758 rows x 1 columns]"
      ]
     },
     "execution_count": 5,
     "metadata": {},
     "output_type": "execute_result"
    }
   ],
   "source": [
    "df"
   ]
  },
  {
   "cell_type": "code",
   "execution_count": null,
   "id": "bade4856",
   "metadata": {},
   "outputs": [],
   "source": []
  }
 ],
 "metadata": {
  "kernelspec": {
   "display_name": "Python 3",
   "language": "python",
   "name": "python3"
  },
  "language_info": {
   "codemirror_mode": {
    "name": "ipython",
    "version": 3
   },
   "file_extension": ".py",
   "mimetype": "text/x-python",
   "name": "python",
   "nbconvert_exporter": "python",
   "pygments_lexer": "ipython3",
   "version": "3.8.8"
  }
 },
 "nbformat": 4,
 "nbformat_minor": 5
}
