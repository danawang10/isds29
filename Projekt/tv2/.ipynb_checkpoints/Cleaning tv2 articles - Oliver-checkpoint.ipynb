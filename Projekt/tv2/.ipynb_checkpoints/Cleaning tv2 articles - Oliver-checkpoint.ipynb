{
 "cells": [
  {
   "cell_type": "markdown",
   "id": "a455ed2f",
   "metadata": {},
   "source": [
    "## Cleaning TV2 & DR datasets and basic statistics"
   ]
  },
  {
   "cell_type": "code",
   "execution_count": 1,
   "id": "00cfb2f0-6d1d-4c5e-b9b3-f640fcabf283",
   "metadata": {},
   "outputs": [],
   "source": [
    "import requests\n",
    "import time\n",
    "from bs4 import BeautifulSoup\n",
    "from bs4 import SoupStrainer\n",
    "import tqdm\n",
    "import pandas as pd\n",
    "import numpy as np\n",
    "import datetime as dt\n",
    "\n",
    "import matplotlib.pyplot as plt\n",
    "import seaborn as sns\n"
   ]
  },
  {
   "cell_type": "markdown",
   "id": "a8fe060d",
   "metadata": {},
   "source": [
    "### Import datasets"
   ]
  },
  {
   "cell_type": "code",
   "execution_count": 2,
   "id": "9f7d0fc3-781d-4c0b-a0c8-e3a8305c56c1",
   "metadata": {},
   "outputs": [
    {
     "data": {
      "text/plain": [
       "8758"
      ]
     },
     "metadata": {},
     "output_type": "display_data"
    }
   ],
   "source": [
    "# Import TV2 dataset\n",
    "tv2 = pd.read_csv('articles_tv2.csv')\n",
    "display(len(tv2))"
   ]
  },
  {
   "cell_type": "code",
   "execution_count": 3,
   "id": "7afad150",
   "metadata": {},
   "outputs": [
    {
     "data": {
      "text/plain": [
       "2065"
      ]
     },
     "metadata": {},
     "output_type": "display_data"
    }
   ],
   "source": [
    "dr = pd.read_csv('dr_articles.csv')\n",
    "display(len(dr))"
   ]
  },
  {
   "cell_type": "markdown",
   "id": "f3667364",
   "metadata": {},
   "source": [
    "TV2: The raw dataset after scraping websites from links has 8758 articles.\n",
    "\n",
    "DR: The raw dataset after scraping websites from links has 2065 articles. "
   ]
  },
  {
   "cell_type": "markdown",
   "id": "1b6d9a71",
   "metadata": {},
   "source": [
    "### Diverse cleaning operations"
   ]
  },
  {
   "cell_type": "markdown",
   "id": "d2a35c45",
   "metadata": {},
   "source": [
    "#### TV2 Dataset"
   ]
  },
  {
   "cell_type": "code",
   "execution_count": 4,
   "id": "a3f27234-38a8-46c5-b016-83c7d70d96ac",
   "metadata": {
    "scrolled": true,
    "tags": []
   },
   "outputs": [
    {
     "data": {
      "text/plain": [
       "6794"
      ]
     },
     "execution_count": 4,
     "metadata": {},
     "output_type": "execute_result"
    }
   ],
   "source": [
    "## Rows that stem from links to a search page. They have the title \"Søg på TV 2\" and can be deleted\n",
    "tv2 = tv2[tv2.titles != 'Søg på TV 2'].reset_index(drop = True)\n",
    "# After this step, 7416 observations remain\n",
    "# In the next step we drop all rows that do not contain values. These are sports artciles like this one: https://sport.tv2.dk/2012-02-26-sur-s%C3%B8d-fornemmelse-hos-kasper-hvidt\n",
    "tv2 = tv2.dropna(subset = ['content'])\n",
    "# Rename column\n",
    "tv2.rename(columns = {'tv2':'source'}, inplace = True)\n",
    "# Reset index\n",
    "tv2 = tv2.reset_index(drop = True)\n",
    "# Change date to date_time objects\n",
    "tv2['date'] = pd.to_datetime(tv2['date'])\n",
    "# Drop articles published outside period of interest (2012-2022)\n",
    "tv2 = tv2[tv2['date'].dt.year >= 2012]\n",
    "len(tv2)"
   ]
  },
  {
   "cell_type": "markdown",
   "id": "83db391c",
   "metadata": {},
   "source": [
    "Number of observations and rows: TV2 dataset now contains 6794 articles "
   ]
  },
  {
   "cell_type": "markdown",
   "id": "6294e2bf",
   "metadata": {},
   "source": [
    "#### DR Dataset"
   ]
  },
  {
   "cell_type": "markdown",
   "id": "c082c66a",
   "metadata": {},
   "source": [
    "We found 538 observations for which no content was retrieved. These include articles with a different HTML structure (see, e.g.: 'https://www.dr.dk/nyheder/region-ingen-fare-patienter-paa-holbaek-sygehus?focusId=3406239'). Unfortunately, our scraping code did not account for this structure. If we had more time, we would go back, adapt the code and get the content of these articles. For the purpose of this limited analysis, we continue without those articles."
   ]
  },
  {
   "cell_type": "code",
   "execution_count": 5,
   "id": "3dcf98ec",
   "metadata": {
    "scrolled": true
   },
   "outputs": [],
   "source": [
    "dr = dr.dropna(subset = [\"content\"]).reset_index(drop = True)"
   ]
  },
  {
   "cell_type": "code",
   "execution_count": 6,
   "id": "90f6f70c",
   "metadata": {},
   "outputs": [
    {
     "data": {
      "text/plain": [
       "1523"
      ]
     },
     "execution_count": 6,
     "metadata": {},
     "output_type": "execute_result"
    }
   ],
   "source": [
    "dr['date'] = pd.to_datetime(dr['date'])\n",
    "dr = dr[dr['date'].dt.year >= 2012].copy()\n",
    "len(dr)"
   ]
  },
  {
   "cell_type": "markdown",
   "id": "1f1d985e",
   "metadata": {},
   "source": [
    "After dropping observations without content, 1523 articles remain."
   ]
  },
  {
   "cell_type": "markdown",
   "id": "79e3dfb1",
   "metadata": {},
   "source": [
    "#### Columns of DR and TV datasets: \n",
    "* `titles` contains the articles' title\n",
    "* `sub_header` contains the articles' subheader\n",
    "* `h2` contains any headline found in the article \n",
    "* `author` contains the author of the article \n",
    "* `tag` contains any tags that TV2 added to the article: e.g. \"udland\". \n",
    "* `source` will later indicate the source \n",
    "* `links` contains the link to the original article\n",
    "* `date` contains date in the datetime formate"
   ]
  },
  {
   "cell_type": "markdown",
   "id": "4fcbcb47",
   "metadata": {},
   "source": [
    "#### Cleaning articles' content"
   ]
  },
  {
   "cell_type": "code",
   "execution_count": 7,
   "id": "69943cbf",
   "metadata": {},
   "outputs": [],
   "source": [
    "def cleaning_texts(df):\n",
    "    '''\n",
    "    Function cleans the text of the \"content\", \"titles\", \"subheaders\" and \"h2\" columns of TV2 and DR datasets.\n",
    "    '''\n",
    "    df_new = df.copy()\n",
    "    for i in tv2[['titles', 'sub_header', 'h2', 'content', 'author']]:\n",
    "        df_new[i] = df_new[i].str.lower()\\\n",
    "            .str.replace('\\r', '')\\\n",
    "            .str.replace('\\n', '')\\\n",
    "            .str.replace('\\xa0', '')\n",
    "    return df_new"
   ]
  },
  {
   "cell_type": "code",
   "execution_count": 8,
   "id": "5841e2a2",
   "metadata": {},
   "outputs": [],
   "source": [
    "# Cleaning datasets with cleaning function\n",
    "tv2 = cleaning_texts(tv2)\n",
    "dr = cleaning_texts(dr)"
   ]
  },
  {
   "cell_type": "markdown",
   "id": "7680594a",
   "metadata": {},
   "source": [
    "### Creating more relevant datasets\n",
    "\n",
    "Creating different DataFrames according to the number of times \"sygeplej*\" is found in the articles' content. The more frequently the term features in the text, the more relevant the articles' should be for our analysis. \n",
    "\n",
    "_For now, we continue working with data in which \"sygeplej*\" appears at least twice_."
   ]
  },
  {
   "cell_type": "code",
   "execution_count": 9,
   "id": "40455c7e",
   "metadata": {},
   "outputs": [],
   "source": [
    "### Defining function"
   ]
  },
  {
   "cell_type": "code",
   "execution_count": 10,
   "id": "89ba2427",
   "metadata": {},
   "outputs": [],
   "source": [
    "# Create different datasets with \"sygeplej*\" featuring at least X times in the text\n",
    "def sygeplej_count(df):\n",
    "    df_sygeplej1x = df[df['content'].str.count(\"sygeplej\") >= 1]\n",
    "    df_sygeplej2x = df[df['content'].str.count(\"sygeplej\") >= 2]\n",
    "    df_sygeplej3x = df[df['content'].str.count(\"sygeplej\") >= 3]\n",
    "    df_sygeplej4x = df[df['content'].str.count(\"sygeplej\") >= 4]\n",
    "    return df_sygeplej1x, df_sygeplej2x, df_sygeplej3x, df_sygeplej4x"
   ]
  },
  {
   "cell_type": "code",
   "execution_count": 11,
   "id": "79a585a0",
   "metadata": {},
   "outputs": [],
   "source": [
    "tv2_sygeplej1x, tv2_sygeplej2x, tv2_sygeplej3x, tv2_sygeplej4x = sygeplej_count(tv2)\n",
    "dr_sygeplej1x, dr_sygeplej2x, dr_sygeplej3x, dr_sygeplej4x = sygeplej_count(dr)"
   ]
  },
  {
   "cell_type": "code",
   "execution_count": 12,
   "id": "993517eb",
   "metadata": {},
   "outputs": [
    {
     "data": {
      "text/html": [
       "<div>\n",
       "<style scoped>\n",
       "    .dataframe tbody tr th:only-of-type {\n",
       "        vertical-align: middle;\n",
       "    }\n",
       "\n",
       "    .dataframe tbody tr th {\n",
       "        vertical-align: top;\n",
       "    }\n",
       "\n",
       "    .dataframe thead th {\n",
       "        text-align: right;\n",
       "    }\n",
       "</style>\n",
       "<table border=\"1\" class=\"dataframe\">\n",
       "  <thead>\n",
       "    <tr style=\"text-align: right;\">\n",
       "      <th></th>\n",
       "      <th>sygeplej* count</th>\n",
       "      <th>Num. of articles (TV2)</th>\n",
       "      <th>Num. of articles (DR)</th>\n",
       "    </tr>\n",
       "  </thead>\n",
       "  <tbody>\n",
       "    <tr>\n",
       "      <th>0</th>\n",
       "      <td>At least once</td>\n",
       "      <td>3607</td>\n",
       "      <td>660</td>\n",
       "    </tr>\n",
       "    <tr>\n",
       "      <th>1</th>\n",
       "      <td>At least twice</td>\n",
       "      <td>1511</td>\n",
       "      <td>528</td>\n",
       "    </tr>\n",
       "    <tr>\n",
       "      <th>2</th>\n",
       "      <td>At least three times</td>\n",
       "      <td>909</td>\n",
       "      <td>458</td>\n",
       "    </tr>\n",
       "    <tr>\n",
       "      <th>3</th>\n",
       "      <td>More than three times</td>\n",
       "      <td>668</td>\n",
       "      <td>392</td>\n",
       "    </tr>\n",
       "  </tbody>\n",
       "</table>\n",
       "</div>"
      ],
      "text/plain": [
       "         sygeplej* count  Num. of articles (TV2)  Num. of articles (DR)\n",
       "0          At least once                    3607                    660\n",
       "1         At least twice                    1511                    528\n",
       "2   At least three times                     909                    458\n",
       "3  More than three times                     668                    392"
      ]
     },
     "metadata": {},
     "output_type": "display_data"
    }
   ],
   "source": [
    "dict_sygeplej_count = {\"sygeplej* count\":\\\n",
    "                       ['At least once', 'At least twice', 'At least three times', 'More than three times'],\\\n",
    "                       \"Num. of articles (TV2)\" :\\\n",
    "                       [len(tv2_sygeplej1x), len(tv2_sygeplej2x), len(tv2_sygeplej3x), len(tv2_sygeplej4x)],\\\n",
    "                      \"Num. of articles (DR)\" :\\\n",
    "                       [len(dr_sygeplej1x), len(dr_sygeplej2x), len(dr_sygeplej3x), len(dr_sygeplej4x)]}\n",
    "\n",
    "table_sygeplej_count = pd.DataFrame(data = dict_sygeplej_count)\n",
    "display(table_sygeplej_count)"
   ]
  },
  {
   "cell_type": "markdown",
   "id": "ec9dee67",
   "metadata": {},
   "source": [
    "## Frequency of Articles by Date"
   ]
  },
  {
   "cell_type": "code",
   "execution_count": 33,
   "id": "b35c7d4d-42c9-421e-bd2c-68c2085dd0c2",
   "metadata": {},
   "outputs": [
    {
     "name": "stdout",
     "output_type": "stream",
     "text": [
      "0       3\n",
      "1       7\n",
      "2      32\n",
      "3       8\n",
      "4       6\n",
      "       ..\n",
      "119     4\n",
      "120     8\n",
      "121     1\n",
      "122     3\n",
      "123    15\n",
      "Name: content, Length: 124, dtype: int64\n"
     ]
    },
    {
     "ename": "TypeError",
     "evalue": "'method' object is not subscriptable",
     "output_type": "error",
     "traceback": [
      "\u001b[0;31m---------------------------------------------------------------------------\u001b[0m",
      "\u001b[0;31mTypeError\u001b[0m                                 Traceback (most recent call last)",
      "Input \u001b[0;32mIn [33]\u001b[0m, in \u001b[0;36m<cell line: 27>\u001b[0;34m()\u001b[0m\n\u001b[1;32m     24\u001b[0m     df_freq \u001b[38;5;241m=\u001b[39m pd\u001b[38;5;241m.\u001b[39mDataFrame([df_freq1x[\u001b[38;5;124m'\u001b[39m\u001b[38;5;124mcontent\u001b[39m\u001b[38;5;124m'\u001b[39m] , df_freq2x[\u001b[38;5;124m'\u001b[39m\u001b[38;5;124mcontent\u001b[39m\u001b[38;5;124m'\u001b[39m],\\\n\u001b[1;32m     25\u001b[0m                             df_freq3x[\u001b[38;5;124m'\u001b[39m\u001b[38;5;124mcontent\u001b[39m\u001b[38;5;124m'\u001b[39m], df_freq4x[\u001b[38;5;124m'\u001b[39m\u001b[38;5;124mcontent\u001b[39m\u001b[38;5;124m'\u001b[39m]])\n\u001b[1;32m     26\u001b[0m     \u001b[38;5;28;01mreturn\u001b[39;00m df_freq\n\u001b[0;32m---> 27\u001b[0m tv2_freq_df\u001b[38;5;241m=\u001b[39m\u001b[43mfrequency_table\u001b[49m\u001b[43m(\u001b[49m\u001b[43mtv2\u001b[49m\u001b[43m)\u001b[49m\n",
      "Input \u001b[0;32mIn [33]\u001b[0m, in \u001b[0;36mfrequency_table\u001b[0;34m(df)\u001b[0m\n\u001b[1;32m     19\u001b[0m freq4 \u001b[38;5;241m=\u001b[39m df_freq4\u001b[38;5;241m.\u001b[39mgroupby([\u001b[38;5;124m'\u001b[39m\u001b[38;5;124myear\u001b[39m\u001b[38;5;124m'\u001b[39m, \u001b[38;5;124m'\u001b[39m\u001b[38;5;124mmonth\u001b[39m\u001b[38;5;124m'\u001b[39m])[\u001b[38;5;124m\"\u001b[39m\u001b[38;5;124mcontent\u001b[39m\u001b[38;5;124m\"\u001b[39m]\u001b[38;5;241m.\u001b[39mcount()\n\u001b[1;32m     20\u001b[0m df_freq4x\u001b[38;5;241m=\u001b[39mpd\u001b[38;5;241m.\u001b[39mDataFrame(freq4)\u001b[38;5;241m.\u001b[39mreset_index()\n\u001b[0;32m---> 24\u001b[0m df_freq \u001b[38;5;241m=\u001b[39m pd\u001b[38;5;241m.\u001b[39mDataFrame([\u001b[43mdf_freq1x\u001b[49m\u001b[43m[\u001b[49m\u001b[38;5;124;43m'\u001b[39;49m\u001b[38;5;124;43mcontent\u001b[39;49m\u001b[38;5;124;43m'\u001b[39;49m\u001b[43m]\u001b[49m , df_freq2x[\u001b[38;5;124m'\u001b[39m\u001b[38;5;124mcontent\u001b[39m\u001b[38;5;124m'\u001b[39m],\\\n\u001b[1;32m     25\u001b[0m                         df_freq3x[\u001b[38;5;124m'\u001b[39m\u001b[38;5;124mcontent\u001b[39m\u001b[38;5;124m'\u001b[39m], df_freq4x[\u001b[38;5;124m'\u001b[39m\u001b[38;5;124mcontent\u001b[39m\u001b[38;5;124m'\u001b[39m]])\n\u001b[1;32m     26\u001b[0m \u001b[38;5;28;01mreturn\u001b[39;00m df_freq\n",
      "\u001b[0;31mTypeError\u001b[0m: 'method' object is not subscriptable"
     ]
    }
   ],
   "source": [
    "def frequency_table(df):\n",
    "    df['year']=pd.to_datetime(df[\"date\"]).dt.year\n",
    "    df['month']=pd.to_datetime(df[\"date\"]).dt.month\n",
    "    df_freq=df.copy()\n",
    "    df_freq = df_freq.dropna(subset = ['year', 'month'])\n",
    "    \n",
    "    \n",
    "    df_freq1, df_freq2, df_freq3, df_freq4=sygeplej_count(df_freq)\n",
    "    \n",
    "    freq1 = df_freq1.groupby(['year', 'month'])[\"content\"].count()\n",
    "    df_freq1x=pd.DataFrame(freq1).reset_index\n",
    "\n",
    "    freq2 = df_freq2.groupby(['year', 'month'])[\"content\"].count()\n",
    "    df_freq2x=pd.DataFrame(freq2).reset_index()\n",
    "    print(df_freq2x['content'])\n",
    "    freq3 = df_freq3.groupby(['year', 'month'])[\"content\"].count()\n",
    "    df_freq3x=pd.DataFrame(freq3).reset_index()\n",
    "    \n",
    "    freq4 = df_freq4.groupby(['year', 'month'])[\"content\"].count()\n",
    "    df_freq4x=pd.DataFrame(freq4).reset_index()\n",
    "    \n",
    "      \n",
    "    \n",
    "    df_freq = pd.DataFrame([df_freq1x['content'] , df_freq2x['content'],\\\n",
    "                            df_freq3x['content'], df_freq4x['content']])\n",
    "    return df_freq\n",
    "tv2_freq_df=frequency_table(tv2)"
   ]
  },
  {
   "cell_type": "code",
   "execution_count": null,
   "id": "259259e5-cfa6-4f18-8987-6aea5464d176",
   "metadata": {},
   "outputs": [],
   "source": [
    "year_month=[]\n",
    "    for year in range(2012,2023):\n",
    "        for month in [\"jan\", \"feb\",\"mar\", \"apr\", \"may\", \"jun\", \"jul\", \"aug\", \"sep\", \"okt\", \"nov\", \"dec\"]:\n",
    "            _=f'{year} {month}'\n",
    "            year_month.append(_)\n",
    "    year_month=year_month[0:-4]\n",
    "    date=pd.DataFrame(year_month) "
   ]
  },
  {
   "cell_type": "code",
   "execution_count": 14,
   "id": "3e797259-5dea-4424-ae6d-3bb7398bb6de",
   "metadata": {},
   "outputs": [
    {
     "ename": "NameError",
     "evalue": "name 'tv2_freq_df' is not defined",
     "output_type": "error",
     "traceback": [
      "\u001b[0;31m---------------------------------------------------------------------------\u001b[0m",
      "\u001b[0;31mNameError\u001b[0m                                 Traceback (most recent call last)",
      "Input \u001b[0;32mIn [14]\u001b[0m, in \u001b[0;36m<cell line: 1>\u001b[0;34m()\u001b[0m\n\u001b[0;32m----> 1\u001b[0m \u001b[43mtv2_freq_df\u001b[49m\n",
      "\u001b[0;31mNameError\u001b[0m: name 'tv2_freq_df' is not defined"
     ]
    }
   ],
   "source": [
    "tv2_freq_df\n"
   ]
  },
  {
   "cell_type": "code",
   "execution_count": 15,
   "id": "f1fd00c5",
   "metadata": {},
   "outputs": [],
   "source": [
    "tv2['year'] = pd.to_datetime(tv2_sygeplej2x[\"date\"]).dt.year\n",
    "tv2['month'] = pd.to_datetime(tv2_sygeplej2x[\"date\"]).dt.month\n",
    "tv2_freq = tv2.copy()\n",
    "tv2_freq = tv2_freq.dropna(subset = ['year', 'month'])"
   ]
  },
  {
   "cell_type": "code",
   "execution_count": 16,
   "id": "5eff561b",
   "metadata": {},
   "outputs": [
    {
     "data": {
      "text/html": [
       "<div>\n",
       "<style scoped>\n",
       "    .dataframe tbody tr th:only-of-type {\n",
       "        vertical-align: middle;\n",
       "    }\n",
       "\n",
       "    .dataframe tbody tr th {\n",
       "        vertical-align: top;\n",
       "    }\n",
       "\n",
       "    .dataframe thead th {\n",
       "        text-align: right;\n",
       "    }\n",
       "</style>\n",
       "<table border=\"1\" class=\"dataframe\">\n",
       "  <thead>\n",
       "    <tr style=\"text-align: right;\">\n",
       "      <th></th>\n",
       "      <th>year</th>\n",
       "      <th>month</th>\n",
       "      <th>content</th>\n",
       "    </tr>\n",
       "  </thead>\n",
       "  <tbody>\n",
       "    <tr>\n",
       "      <th>0</th>\n",
       "      <td>2012.0</td>\n",
       "      <td>1.0</td>\n",
       "      <td>3</td>\n",
       "    </tr>\n",
       "    <tr>\n",
       "      <th>1</th>\n",
       "      <td>2012.0</td>\n",
       "      <td>2.0</td>\n",
       "      <td>7</td>\n",
       "    </tr>\n",
       "    <tr>\n",
       "      <th>2</th>\n",
       "      <td>2012.0</td>\n",
       "      <td>3.0</td>\n",
       "      <td>32</td>\n",
       "    </tr>\n",
       "    <tr>\n",
       "      <th>3</th>\n",
       "      <td>2012.0</td>\n",
       "      <td>4.0</td>\n",
       "      <td>8</td>\n",
       "    </tr>\n",
       "    <tr>\n",
       "      <th>4</th>\n",
       "      <td>2012.0</td>\n",
       "      <td>5.0</td>\n",
       "      <td>6</td>\n",
       "    </tr>\n",
       "    <tr>\n",
       "      <th>...</th>\n",
       "      <td>...</td>\n",
       "      <td>...</td>\n",
       "      <td>...</td>\n",
       "    </tr>\n",
       "    <tr>\n",
       "      <th>119</th>\n",
       "      <td>2022.0</td>\n",
       "      <td>3.0</td>\n",
       "      <td>4</td>\n",
       "    </tr>\n",
       "    <tr>\n",
       "      <th>120</th>\n",
       "      <td>2022.0</td>\n",
       "      <td>4.0</td>\n",
       "      <td>8</td>\n",
       "    </tr>\n",
       "    <tr>\n",
       "      <th>121</th>\n",
       "      <td>2022.0</td>\n",
       "      <td>5.0</td>\n",
       "      <td>1</td>\n",
       "    </tr>\n",
       "    <tr>\n",
       "      <th>122</th>\n",
       "      <td>2022.0</td>\n",
       "      <td>6.0</td>\n",
       "      <td>3</td>\n",
       "    </tr>\n",
       "    <tr>\n",
       "      <th>123</th>\n",
       "      <td>2022.0</td>\n",
       "      <td>7.0</td>\n",
       "      <td>15</td>\n",
       "    </tr>\n",
       "  </tbody>\n",
       "</table>\n",
       "<p>124 rows × 3 columns</p>\n",
       "</div>"
      ],
      "text/plain": [
       "       year  month  content\n",
       "0    2012.0    1.0        3\n",
       "1    2012.0    2.0        7\n",
       "2    2012.0    3.0       32\n",
       "3    2012.0    4.0        8\n",
       "4    2012.0    5.0        6\n",
       "..      ...    ...      ...\n",
       "119  2022.0    3.0        4\n",
       "120  2022.0    4.0        8\n",
       "121  2022.0    5.0        1\n",
       "122  2022.0    6.0        3\n",
       "123  2022.0    7.0       15\n",
       "\n",
       "[124 rows x 3 columns]"
      ]
     },
     "execution_count": 16,
     "metadata": {},
     "output_type": "execute_result"
    }
   ],
   "source": [
    "tv2_freq = tv2.groupby(['year', 'month'])[\"content\"].count()\n",
    "tv2_freq_df = pd.DataFrame(tv2_freq).reset_index()\n",
    "tv2_freq_df"
   ]
  },
  {
   "cell_type": "code",
   "execution_count": 17,
   "id": "789a30de",
   "metadata": {},
   "outputs": [],
   "source": [
    "tv2_freq_df['date']=tv2_freq_df['year'].astype(str)+tv2_freq_df['month'].astype(str)"
   ]
  },
  {
   "cell_type": "code",
   "execution_count": 18,
   "id": "1a406b1c-cbb1-4027-980b-dfe52d21745b",
   "metadata": {},
   "outputs": [
    {
     "data": {
      "text/plain": [
       "year    month\n",
       "2012.0  1.0       3\n",
       "        2.0       7\n",
       "        3.0      32\n",
       "        4.0       8\n",
       "        5.0       6\n",
       "                 ..\n",
       "2022.0  3.0       4\n",
       "        4.0       8\n",
       "        5.0       1\n",
       "        6.0       3\n",
       "        7.0      15\n",
       "Name: content, Length: 124, dtype: int64"
      ]
     },
     "execution_count": 18,
     "metadata": {},
     "output_type": "execute_result"
    }
   ],
   "source": [
    "tv2_freq"
   ]
  },
  {
   "cell_type": "code",
   "execution_count": 19,
   "id": "fa1dee52",
   "metadata": {},
   "outputs": [
    {
     "data": {
      "image/png": "[encoded data removed]",
      "text/plain": [
       "<Figure size 1080x360 with 1 Axes>"
      ]
     },
     "metadata": {},
     "output_type": "display_data"
    }
   ],
   "source": [
    "# Plotting count of tags\n",
    "plt.style.use('ggplot')\n",
    "sns.set_style(\"whitegrid\")\n",
    "\n",
    "fig, ax = plt.subplots(nrows=1, ncols=1, sharey=False, figsize=(15,5))\n",
    "\n",
    "ax = sns.lineplot(x = 'date', y = 'content', data= tv2_freq_df )"
   ]
  },
  {
   "cell_type": "markdown",
   "id": "c00e7634",
   "metadata": {},
   "source": [
    "## Analysis of Tags"
   ]
  },
  {
   "cell_type": "markdown",
   "id": "234a8ca5",
   "metadata": {},
   "source": [
    "### Most frequent Tags"
   ]
  },
  {
   "cell_type": "code",
   "execution_count": 197,
   "id": "1ead22d6",
   "metadata": {},
   "outputs": [],
   "source": [
    "# Define tag-count function\n",
    "def tag_count(df):\n",
    "    df_tags=df[\"tag\"].value_counts()\n",
    "    df_tags=pd.DataFrame(df_tags).reset_index(drop=False)\n",
    "    df_tags.columns=(\"tags\", \"count\")\n",
    "    return df_tags\n",
    "\n",
    "# Call function\n",
    "tv2_tags = tag_count(tv2_sygeplej2x)\n",
    "dr_tags = tag_count(dr_sygeplej2x)"
   ]
  },
  {
   "cell_type": "code",
   "execution_count": 223,
   "id": "cd70ca22",
   "metadata": {},
   "outputs": [
    {
     "data": {
      "image/png": "[encoded data removed]",
      "text/plain": [
       "<Figure size 1080x360 with 2 Axes>"
      ]
     },
     "metadata": {},
     "output_type": "display_data"
    }
   ],
   "source": [
    "# Plotting count of tags\n",
    "plt.style.use('ggplot')\n",
    "sns.set_style(\"whitegrid\")\n",
    "\n",
    "fig, ax = plt.subplots(nrows=1, ncols=2, sharey=False, figsize=(15,5))\n",
    "\n",
    "ax[0] = sns.barplot(x = tv2_tags[\"tags\"][0:10], y = tv2_tags[\"count\"], orient =\"v\", ax = ax[0])\n",
    "ax[1] = sns.barplot(x = dr_tags[\"tags\"][0:10], y = dr_tags[\"count\"], orient =\"v\", ax = ax[1])\n",
    "\n",
    "_ = ax[1].set_xticklabels(ax[1].get_xticklabels(), rotation=45, horizontalalignment='right')\n",
    "_ = ax[0].set_xticklabels(ax[0].get_xticklabels(), rotation=45, horizontalalignment='right')\n",
    "\n",
    "_ = plt.suptitle(\"10 Most Frequent Tags\", size = 20)\n",
    "_ = ax[0].set_title(\"TV2\")\n",
    "_ = ax[1].set_title(\"DR\")\n",
    "_ = ax[0].set_ylabel(\"Number of Articles\")\n",
    "_ = ax[1].set_ylabel(\"\")\n",
    "\n",
    "_ = ax[0].set(xlabel=None)\n",
    "_ = ax[1].set(xlabel=None)"
   ]
  },
  {
   "cell_type": "markdown",
   "id": "1b2dcabd",
   "metadata": {},
   "source": [
    "### Usage of tags over time"
   ]
  },
  {
   "cell_type": "code",
   "execution_count": null,
   "id": "ce6c9c21-0421-4bd1-bc5a-21ed7617fbd9",
   "metadata": {},
   "outputs": [],
   "source": []
  }
 ],
 "metadata": {
  "kernelspec": {
   "display_name": "Python 3 (ipykernel)",
   "language": "python",
   "name": "python3"
  },
  "language_info": {
   "codemirror_mode": {
    "name": "ipython",
    "version": 3
   },
   "file_extension": ".py",
   "mimetype": "text/x-python",
   "name": "python",
   "nbconvert_exporter": "python",
   "pygments_lexer": "ipython3",
   "version": "3.9.12"
  }
 },
 "nbformat": 4,
 "nbformat_minor": 5
}
