{
 "cells": [
  {
   "cell_type": "code",
   "execution_count": 90,
   "id": "26536764",
   "metadata": {},
   "outputs": [],
   "source": [
    "from bs4 import BeautifulSoup as bs\n",
    "import requests\n",
    "import pandas as pd \n",
    "import numpy as np "
   ]
  },
  {
   "cell_type": "code",
   "execution_count": 124,
   "id": "39268f41",
   "metadata": {},
   "outputs": [],
   "source": [
    "title = []\n",
    "url = []\n",
    "page_url = []"
   ]
  },
  {
   "cell_type": "code",
   "execution_count": 125,
   "id": "bf446560",
   "metadata": {},
   "outputs": [],
   "source": [
    "start_url = 'https://search.tv2.dk/?query=ananas+og+%C3%A6bler&sort=relevance&page=1'\n",
    "old_url = 'dr.dk'\n",
    "\n",
    "while True: \n",
    "    response = requests.get(start_url, headers={'name':'Dana Wang',\n",
    "                                                    'email':'kzh628@alumni.ku.dk'})\n",
    "    soup = bs(response.content, 'lxml')\n",
    "\n",
    "    items = soup.find('section').find_all('a', href = True)\n",
    "\n",
    "    for item in items:\n",
    "        url.append(item[\"href\"])\n",
    "    \n",
    "    if start_url == old_url:\n",
    "        old_url = start_url\n",
    "        start_url = url[-1]\n",
    "        \n",
    "    else: \n",
    "        break"
   ]
  },
  {
   "cell_type": "code",
   "execution_count": 123,
   "id": "ec6a7820",
   "metadata": {},
   "outputs": [
    {
     "data": {
      "text/plain": [
       "['https://tv.tv2.dk/mad/go/article.php/id-31952935%3Ajoe--the-juice-sportsdrik.html',\n",
       " 'https://livsstil.tv2.dk/mad/opskrift/frugtsalat-med-raacreme',\n",
       " 'https://livsstil.tv2.dk/mad/2010-04-22-lene-hanssons-madplan-for-uge-17',\n",
       " 'https://livsstil.tv2.dk/mad/2014-01-14-der-laves-groentsagssafter-i-fri-huset',\n",
       " 'https://livsstil.tv2.dk/mad/opskrifter/juicer-greenies-noeddemaelk-og-smoothies',\n",
       " 'https://livsstil.tv2.dk/mad/opskrift/holms-utraditionelle-pizzaer',\n",
       " 'https://livsstil.tv2.dk/mad/2014-06-11-grilldesserter-i-frihuset',\n",
       " 'https://tv.tv2.dk/go/article.php/nem-frugtsalat?id=525751&go%3A=',\n",
       " 'https://livsstil.tv2.dk/mad/2010-03-24-indkoebsliste-til-lene-hanssons-madplan-uge-13',\n",
       " 'https://livsstil.tv2.dk/mad/opskrift/krydret-ananas-chutney-med-sennepsfroe',\n",
       " 'https://search.tv2.dk?query=ananas og æbler&sort=relevance&page=2',\n",
       " 'https://tv.tv2.dk/mad/go/article.php/id-31952935%3Ajoe--the-juice-sportsdrik.html',\n",
       " 'https://livsstil.tv2.dk/mad/opskrift/frugtsalat-med-raacreme',\n",
       " 'https://livsstil.tv2.dk/mad/2010-04-22-lene-hanssons-madplan-for-uge-17',\n",
       " 'https://livsstil.tv2.dk/mad/2014-01-14-der-laves-groentsagssafter-i-fri-huset',\n",
       " 'https://livsstil.tv2.dk/mad/opskrifter/juicer-greenies-noeddemaelk-og-smoothies',\n",
       " 'https://livsstil.tv2.dk/mad/opskrift/holms-utraditionelle-pizzaer',\n",
       " 'https://livsstil.tv2.dk/mad/2014-06-11-grilldesserter-i-frihuset',\n",
       " 'https://tv.tv2.dk/go/article.php/nem-frugtsalat?id=525751&go%3A=',\n",
       " 'https://livsstil.tv2.dk/mad/2010-03-24-indkoebsliste-til-lene-hanssons-madplan-uge-13',\n",
       " 'https://livsstil.tv2.dk/mad/opskrift/krydret-ananas-chutney-med-sennepsfroe',\n",
       " 'https://search.tv2.dk?query=ananas og æbler&sort=relevance&page=2',\n",
       " 'https://tv.tv2.dk/mad/go/article.php/id-31952935%3Ajoe--the-juice-sportsdrik.html',\n",
       " 'https://livsstil.tv2.dk/mad/opskrift/frugtsalat-med-raacreme',\n",
       " 'https://livsstil.tv2.dk/mad/2010-04-22-lene-hanssons-madplan-for-uge-17',\n",
       " 'https://livsstil.tv2.dk/mad/2014-01-14-der-laves-groentsagssafter-i-fri-huset',\n",
       " 'https://livsstil.tv2.dk/mad/opskrifter/juicer-greenies-noeddemaelk-og-smoothies',\n",
       " 'https://livsstil.tv2.dk/mad/opskrift/holms-utraditionelle-pizzaer',\n",
       " 'https://livsstil.tv2.dk/mad/2014-06-11-grilldesserter-i-frihuset',\n",
       " 'https://tv.tv2.dk/go/article.php/nem-frugtsalat?id=525751&go%3A=',\n",
       " 'https://livsstil.tv2.dk/mad/2010-03-24-indkoebsliste-til-lene-hanssons-madplan-uge-13',\n",
       " 'https://livsstil.tv2.dk/mad/opskrift/krydret-ananas-chutney-med-sennepsfroe',\n",
       " 'https://search.tv2.dk?query=ananas og æbler&sort=relevance&page=2',\n",
       " 'https://tv.tv2.dk/mad/go/article.php/id-31952935%3Ajoe--the-juice-sportsdrik.html',\n",
       " 'https://livsstil.tv2.dk/mad/opskrift/frugtsalat-med-raacreme',\n",
       " 'https://livsstil.tv2.dk/mad/2010-04-22-lene-hanssons-madplan-for-uge-17',\n",
       " 'https://livsstil.tv2.dk/mad/2014-01-14-der-laves-groentsagssafter-i-fri-huset',\n",
       " 'https://livsstil.tv2.dk/mad/opskrifter/juicer-greenies-noeddemaelk-og-smoothies',\n",
       " 'https://livsstil.tv2.dk/mad/opskrift/holms-utraditionelle-pizzaer',\n",
       " 'https://livsstil.tv2.dk/mad/2014-06-11-grilldesserter-i-frihuset',\n",
       " 'https://tv.tv2.dk/go/article.php/nem-frugtsalat?id=525751&go%3A=',\n",
       " 'https://livsstil.tv2.dk/mad/2010-03-24-indkoebsliste-til-lene-hanssons-madplan-uge-13',\n",
       " 'https://livsstil.tv2.dk/mad/opskrift/krydret-ananas-chutney-med-sennepsfroe',\n",
       " 'https://search.tv2.dk?query=ananas og æbler&sort=relevance&page=2',\n",
       " 'https://tv.tv2.dk/mad/go/article.php/id-31952935%3Ajoe--the-juice-sportsdrik.html',\n",
       " 'https://livsstil.tv2.dk/mad/opskrift/frugtsalat-med-raacreme',\n",
       " 'https://livsstil.tv2.dk/mad/2010-04-22-lene-hanssons-madplan-for-uge-17',\n",
       " 'https://livsstil.tv2.dk/mad/2014-01-14-der-laves-groentsagssafter-i-fri-huset',\n",
       " 'https://livsstil.tv2.dk/mad/opskrifter/juicer-greenies-noeddemaelk-og-smoothies',\n",
       " 'https://livsstil.tv2.dk/mad/opskrift/holms-utraditionelle-pizzaer',\n",
       " 'https://livsstil.tv2.dk/mad/2014-06-11-grilldesserter-i-frihuset',\n",
       " 'https://tv.tv2.dk/go/article.php/nem-frugtsalat?id=525751&go%3A=',\n",
       " 'https://livsstil.tv2.dk/mad/2010-03-24-indkoebsliste-til-lene-hanssons-madplan-uge-13',\n",
       " 'https://livsstil.tv2.dk/mad/opskrift/krydret-ananas-chutney-med-sennepsfroe',\n",
       " 'https://search.tv2.dk?query=ananas og æbler&sort=relevance&page=2',\n",
       " 'https://tv.tv2.dk/mad/go/article.php/id-31952935%3Ajoe--the-juice-sportsdrik.html',\n",
       " 'https://livsstil.tv2.dk/mad/opskrift/frugtsalat-med-raacreme',\n",
       " 'https://livsstil.tv2.dk/mad/2010-04-22-lene-hanssons-madplan-for-uge-17',\n",
       " 'https://livsstil.tv2.dk/mad/2014-01-14-der-laves-groentsagssafter-i-fri-huset',\n",
       " 'https://livsstil.tv2.dk/mad/opskrifter/juicer-greenies-noeddemaelk-og-smoothies',\n",
       " 'https://livsstil.tv2.dk/mad/opskrift/holms-utraditionelle-pizzaer',\n",
       " 'https://livsstil.tv2.dk/mad/2014-06-11-grilldesserter-i-frihuset',\n",
       " 'https://tv.tv2.dk/go/article.php/nem-frugtsalat?id=525751&go%3A=',\n",
       " 'https://livsstil.tv2.dk/mad/2010-03-24-indkoebsliste-til-lene-hanssons-madplan-uge-13',\n",
       " 'https://livsstil.tv2.dk/mad/opskrift/krydret-ananas-chutney-med-sennepsfroe',\n",
       " 'https://search.tv2.dk?query=ananas og æbler&sort=relevance&page=2']"
      ]
     },
     "execution_count": 123,
     "metadata": {},
     "output_type": "execute_result"
    }
   ],
   "source": [
    "url"
   ]
  },
  {
   "cell_type": "code",
   "execution_count": 99,
   "id": "08f46c88",
   "metadata": {},
   "outputs": [],
   "source": [
    "start_url = 'https://search.tv2.dk/?query=ananas+og+%C3%A6bler&sort=relevance&page=8'\n",
    "\n",
    "\n",
    "response = requests.get(start_url, headers={'name':'Dana Wang',\n",
    "                                                'email':'kzh628@alumni.ku.dk'})\n",
    "soup = bs(response.content, 'lxml')\n",
    "\n",
    "items = soup.find('section').find_all('a', href = True)\n",
    "\n",
    "for item in items:\n",
    "    url.append(item[\"href\"])"
   ]
  },
  {
   "cell_type": "code",
   "execution_count": 108,
   "id": "293974fd",
   "metadata": {},
   "outputs": [
    {
     "data": {
      "text/plain": [
       "['https://search.tv2.dk?query=ananas og æbler&sort=relevance&page=7',\n",
       " 'https://search.tv2.dk?query=ananas og æbler&sort=relevance&page=9']"
      ]
     },
     "execution_count": 108,
     "metadata": {},
     "output_type": "execute_result"
    }
   ],
   "source": [
    "url[-2:]"
   ]
  },
  {
   "cell_type": "code",
   "execution_count": 111,
   "id": "6f022bd4",
   "metadata": {},
   "outputs": [],
   "source": [
    "start_url = 'https://search.tv2.dk/?query=ananas+og+%C3%A6bler&sort=relevance&page=9'\n",
    "\n",
    "\n",
    "response = requests.get(start_url, headers={'name':'Dana Wang',\n",
    "                                                'email':'kzh628@alumni.ku.dk'})\n",
    "soup = bs(response.content, 'lxml')\n",
    "\n",
    "items = soup.find('section').find_all('a', href = True)\n",
    "\n",
    "for item in items:\n",
    "    url.append(item[\"href\"])"
   ]
  },
  {
   "cell_type": "code",
   "execution_count": 112,
   "id": "0f40e3f7",
   "metadata": {
    "scrolled": true
   },
   "outputs": [
    {
     "data": {
      "text/plain": [
       "['https://livsstil.tv2.dk/mad/2014-03-15-nyslaaet-michelin-kok-stjernen-er-af-mindre-betydning',\n",
       " 'https://search.tv2.dk?query=ananas og æbler&sort=relevance&page=8']"
      ]
     },
     "execution_count": 112,
     "metadata": {},
     "output_type": "execute_result"
    }
   ],
   "source": [
    "url[-2:]"
   ]
  },
  {
   "cell_type": "code",
   "execution_count": null,
   "id": "23b4b93d",
   "metadata": {},
   "outputs": [],
   "source": [
    "stop if start_url == "
   ]
  },
  {
   "cell_type": "code",
   "execution_count": 135,
   "id": "5e65cc14",
   "metadata": {},
   "outputs": [],
   "source": [
    "url = []"
   ]
  },
  {
   "cell_type": "code",
   "execution_count": 139,
   "id": "c005c5cf",
   "metadata": {},
   "outputs": [
    {
     "ename": "AttributeError",
     "evalue": "'str' object has no attribute 'append'",
     "output_type": "error",
     "traceback": [
      "\u001b[0;31m---------------------------------------------------------------------------\u001b[0m",
      "\u001b[0;31mAttributeError\u001b[0m                            Traceback (most recent call last)",
      "\u001b[0;32m<ipython-input-139-9f13d43eaaa4>\u001b[0m in \u001b[0;36m<module>\u001b[0;34m\u001b[0m\n\u001b[1;32m      8\u001b[0m \u001b[0;34m\u001b[0m\u001b[0m\n\u001b[1;32m      9\u001b[0m \u001b[0;32mfor\u001b[0m \u001b[0mitem\u001b[0m \u001b[0;32min\u001b[0m \u001b[0mitems\u001b[0m\u001b[0;34m:\u001b[0m\u001b[0;34m\u001b[0m\u001b[0;34m\u001b[0m\u001b[0m\n\u001b[0;32m---> 10\u001b[0;31m     \u001b[0murl\u001b[0m\u001b[0;34m.\u001b[0m\u001b[0mappend\u001b[0m\u001b[0;34m(\u001b[0m\u001b[0mitem\u001b[0m\u001b[0;34m[\u001b[0m\u001b[0;34m\"href\"\u001b[0m\u001b[0;34m]\u001b[0m\u001b[0;34m)\u001b[0m\u001b[0;34m\u001b[0m\u001b[0;34m\u001b[0m\u001b[0m\n\u001b[0m\u001b[1;32m     11\u001b[0m \u001b[0;34m\u001b[0m\u001b[0m\n",
      "\u001b[0;31mAttributeError\u001b[0m: 'str' object has no attribute 'append'"
     ]
    }
   ],
   "source": [
    "start_url = 'https://search.tv2.dk/?query=ananas+og+%C3%A6bler&sort=relevance&page=8'\n",
    "\n",
    "response = requests.get(start_url, headers={'name':'Dana Wang',\n",
    "                                                'email':'kzh628@alumni.ku.dk'})\n",
    "soup = bs(response.content, 'lxml')\n",
    "\n",
    "items = soup.find('section').find_all('a', href = True)\n",
    "\n",
    "for item in items:\n",
    "    url.append(item[\"href\"])\n",
    "        "
   ]
  },
  {
   "cell_type": "code",
   "execution_count": 133,
   "id": "61096d68",
   "metadata": {},
   "outputs": [
    {
     "data": {
      "text/plain": [
       "['https://t',\n",
       " 'https://l',\n",
       " 'https://l',\n",
       " 'https://l',\n",
       " 'https://l',\n",
       " 'https://n',\n",
       " 'https://l',\n",
       " 'https://l',\n",
       " 'https://t',\n",
       " 'https://u',\n",
       " 'https://s',\n",
       " 'https://s']"
      ]
     },
     "execution_count": 133,
     "metadata": {},
     "output_type": "execute_result"
    }
   ],
   "source": [
    "url"
   ]
  },
  {
   "cell_type": "code",
   "execution_count": 93,
   "id": "b789a3d8",
   "metadata": {},
   "outputs": [
    {
     "data": {
      "text/plain": [
       "['https://tv.tv2.dk/mad/go/article.php/frugtspyd-i-juice',\n",
       " 'https://livsstil.tv2.dk/mad/2016-08-24-dette-danske-frugt-og-groent-boer-du-spise-lige-nu',\n",
       " 'https://livsstil.tv2.dk/mad/opskrifter/frugtcocktail',\n",
       " 'https://livsstil.tv2.dk/mad/go/opskrifter/article.php/id-46160934',\n",
       " 'https://livsstil.tv2.dk/mad/2012-06-29-vi-spiser-slet-ikke-saa-sundt-som-vi-tror',\n",
       " 'https://nyheder.tv2.dk/samfund/2014-02-15-guide-undgaa-skadelige-kemikalier-i-hverdagen',\n",
       " 'https://livsstil.tv2.dk/mad/2010-08-12-lene-hanssons-madplan-for-uge-33',\n",
       " 'https://livsstil.tv2.dk/mad/go/article.php/vingummibamser',\n",
       " 'https://tv.tv2.dk/mad/go/opskrifter/article.php/eksotisk-vildsvin-med-coleslaw-og-jordn%C3%B8dder',\n",
       " 'https://underholdning.tv2.dk/viralt/2016-09-30-er-det-den-nye-gangnam-style-japaner-nedlaegger-internettet-med-saer-sang',\n",
       " 'https://search.tv2.dk?query=ananas og æbler&sort=relevance&page=7',\n",
       " 'https://search.tv2.dk?query=ananas og æbler&sort=relevance&page=9']"
      ]
     },
     "execution_count": 93,
     "metadata": {},
     "output_type": "execute_result"
    }
   ],
   "source": [
    "url"
   ]
  },
  {
   "cell_type": "code",
   "execution_count": 140,
   "id": "0525977b",
   "metadata": {},
   "outputs": [
    {
     "ename": "AttributeError",
     "evalue": "'str' object has no attribute 'append'",
     "output_type": "error",
     "traceback": [
      "\u001b[0;31m---------------------------------------------------------------------------\u001b[0m",
      "\u001b[0;31mAttributeError\u001b[0m                            Traceback (most recent call last)",
      "\u001b[0;32m<ipython-input-140-d531560d320c>\u001b[0m in \u001b[0;36m<module>\u001b[0;34m\u001b[0m\n\u001b[1;32m      9\u001b[0m \u001b[0;34m\u001b[0m\u001b[0m\n\u001b[1;32m     10\u001b[0m \u001b[0;32mfor\u001b[0m \u001b[0mitem\u001b[0m \u001b[0;32min\u001b[0m \u001b[0mitems\u001b[0m\u001b[0;34m:\u001b[0m\u001b[0;34m\u001b[0m\u001b[0;34m\u001b[0m\u001b[0m\n\u001b[0;32m---> 11\u001b[0;31m     \u001b[0murl\u001b[0m\u001b[0;34m.\u001b[0m\u001b[0mappend\u001b[0m\u001b[0;34m(\u001b[0m\u001b[0mitem\u001b[0m\u001b[0;34m[\u001b[0m\u001b[0;34m\"href\"\u001b[0m\u001b[0;34m]\u001b[0m\u001b[0;34m)\u001b[0m\u001b[0;34m\u001b[0m\u001b[0;34m\u001b[0m\u001b[0m\n\u001b[0m\u001b[1;32m     12\u001b[0m     \u001b[0mstart_url\u001b[0m \u001b[0;34m=\u001b[0m \u001b[0murl\u001b[0m\u001b[0;34m[\u001b[0m\u001b[0;34m:\u001b[0m\u001b[0;34m-\u001b[0m\u001b[0;36m1\u001b[0m\u001b[0;34m]\u001b[0m\u001b[0;34m\u001b[0m\u001b[0;34m\u001b[0m\u001b[0m\n",
      "\u001b[0;31mAttributeError\u001b[0m: 'str' object has no attribute 'append'"
     ]
    }
   ],
   "source": [
    "start_url = 'https://search.tv2.dk/?query=ananas+og+%C3%A6bler&sort=relevance&page=9'\n",
    "\n",
    "\n",
    "response = requests.get(start_url, headers={'name':'Dana Wang',\n",
    "                                                'email':'kzh628@alumni.ku.dk'})\n",
    "soup = bs(response.content, 'lxml')\n",
    "\n",
    "items = soup.find('section').find_all('a', href = True)\n",
    "\n",
    "for item in items:\n",
    "    url.append(item[\"href\"])\n",
    "    start_url = url[:-1]"
   ]
  },
  {
   "cell_type": "code",
   "execution_count": 95,
   "id": "a404e62b",
   "metadata": {},
   "outputs": [
    {
     "data": {
      "text/plain": [
       "['https://tv.tv2.dk/mad/go/article.php/frugtspyd-i-juice',\n",
       " 'https://livsstil.tv2.dk/mad/2016-08-24-dette-danske-frugt-og-groent-boer-du-spise-lige-nu',\n",
       " 'https://livsstil.tv2.dk/mad/opskrifter/frugtcocktail',\n",
       " 'https://livsstil.tv2.dk/mad/go/opskrifter/article.php/id-46160934',\n",
       " 'https://livsstil.tv2.dk/mad/2012-06-29-vi-spiser-slet-ikke-saa-sundt-som-vi-tror',\n",
       " 'https://nyheder.tv2.dk/samfund/2014-02-15-guide-undgaa-skadelige-kemikalier-i-hverdagen',\n",
       " 'https://livsstil.tv2.dk/mad/2010-08-12-lene-hanssons-madplan-for-uge-33',\n",
       " 'https://livsstil.tv2.dk/mad/go/article.php/vingummibamser',\n",
       " 'https://tv.tv2.dk/mad/go/opskrifter/article.php/eksotisk-vildsvin-med-coleslaw-og-jordn%C3%B8dder',\n",
       " 'https://underholdning.tv2.dk/viralt/2016-09-30-er-det-den-nye-gangnam-style-japaner-nedlaegger-internettet-med-saer-sang',\n",
       " 'https://search.tv2.dk?query=ananas og æbler&sort=relevance&page=7',\n",
       " 'https://search.tv2.dk?query=ananas og æbler&sort=relevance&page=9',\n",
       " 'https://livsstil.tv2.dk/sundhed/2013-08-23-foedevarestyrelsen-sproejtet-frugt-og-groent-er-ufarligt',\n",
       " 'https://livsstil.tv2.dk/mad/opskrifter/grillfeber-7-lakseside-ribben-og-chokoladefondant-med-kompot',\n",
       " 'https://livsstil.tv2.dk/mad/2011-01-06-lene-hansson-laver-din-mad-hele-ugen-uge-1',\n",
       " 'https://livsstil.tv2.dk/mad/2015-11-19-i-dag-har-jacob-levet-af-juice-i-100-dage-saa-meget-har-han-tabt-sig',\n",
       " 'https://livsstil.tv2.dk/mad/2015-11-04-12-foedevarer-du-roligt-kan-spise-selv-laenge-efter-holdbarhedsdatoen-er-udloebet',\n",
       " 'https://tv.tv2.dk/2005-10-20-yoghurt',\n",
       " 'https://livsstil.tv2.dk/mad/2010-05-20-lene-hanssons-madplan-for-uge-21',\n",
       " 'https://nyheder.tv2.dk/2014-05-15-slik-og-kage-forbud-se-de-kreative-alternativer',\n",
       " 'https://livsstil.tv2.dk/mad/2014-03-15-nyslaaet-michelin-kok-stjernen-er-af-mindre-betydning',\n",
       " 'https://search.tv2.dk?query=ananas og æbler&sort=relevance&page=8']"
      ]
     },
     "execution_count": 95,
     "metadata": {},
     "output_type": "execute_result"
    }
   ],
   "source": [
    "url"
   ]
  },
  {
   "cell_type": "code",
   "execution_count": 75,
   "id": "ab7cecc9",
   "metadata": {},
   "outputs": [
    {
     "ename": "KeyError",
     "evalue": "'title'",
     "output_type": "error",
     "traceback": [
      "\u001b[0;31m---------------------------------------------------------------------------\u001b[0m",
      "\u001b[0;31mKeyError\u001b[0m                                  Traceback (most recent call last)",
      "\u001b[0;32m<ipython-input-75-11d2e2bff617>\u001b[0m in \u001b[0;36m<module>\u001b[0;34m\u001b[0m\n\u001b[1;32m     12\u001b[0m     \u001b[0murl\u001b[0m \u001b[0;34m=\u001b[0m \u001b[0murl\u001b[0m\u001b[0;34m[\u001b[0m\u001b[0;34m:\u001b[0m\u001b[0;34m-\u001b[0m\u001b[0;36m1\u001b[0m\u001b[0;34m]\u001b[0m\u001b[0;34m\u001b[0m\u001b[0;34m\u001b[0m\u001b[0m\n\u001b[1;32m     13\u001b[0m \u001b[0;34m\u001b[0m\u001b[0m\n\u001b[0;32m---> 14\u001b[0;31m     \u001b[0mtitle\u001b[0m\u001b[0;34m.\u001b[0m\u001b[0mappend\u001b[0m\u001b[0;34m(\u001b[0m\u001b[0mitem\u001b[0m\u001b[0;34m[\u001b[0m\u001b[0;34m\"title\"\u001b[0m\u001b[0;34m]\u001b[0m\u001b[0;34m)\u001b[0m\u001b[0;34m\u001b[0m\u001b[0;34m\u001b[0m\u001b[0m\n\u001b[0m\u001b[1;32m     15\u001b[0m \u001b[0;34m\u001b[0m\u001b[0m\n\u001b[1;32m     16\u001b[0m \u001b[0;34m\u001b[0m\u001b[0m\n",
      "\u001b[0;32m~/opt/anaconda3/lib/python3.8/site-packages/bs4/element.py\u001b[0m in \u001b[0;36m__getitem__\u001b[0;34m(self, key)\u001b[0m\n\u001b[1;32m   1404\u001b[0m         \"\"\"tag[key] returns the value of the 'key' attribute for the Tag,\n\u001b[1;32m   1405\u001b[0m         and throws an exception if it's not there.\"\"\"\n\u001b[0;32m-> 1406\u001b[0;31m         \u001b[0;32mreturn\u001b[0m \u001b[0mself\u001b[0m\u001b[0;34m.\u001b[0m\u001b[0mattrs\u001b[0m\u001b[0;34m[\u001b[0m\u001b[0mkey\u001b[0m\u001b[0;34m]\u001b[0m\u001b[0;34m\u001b[0m\u001b[0;34m\u001b[0m\u001b[0m\n\u001b[0m\u001b[1;32m   1407\u001b[0m \u001b[0;34m\u001b[0m\u001b[0m\n\u001b[1;32m   1408\u001b[0m     \u001b[0;32mdef\u001b[0m \u001b[0m__iter__\u001b[0m\u001b[0;34m(\u001b[0m\u001b[0mself\u001b[0m\u001b[0;34m)\u001b[0m\u001b[0;34m:\u001b[0m\u001b[0;34m\u001b[0m\u001b[0;34m\u001b[0m\u001b[0m\n",
      "\u001b[0;31mKeyError\u001b[0m: 'title'"
     ]
    }
   ],
   "source": [
    "\n",
    "start_url = 'https://search.tv2.dk/?query=sygeplejersker&sort=relevance&page=1'\n",
    "\n",
    "response = requests.get(start_url, headers={'name':'Dana Wang',\n",
    "                                          'email':'kzh628@alumni.ku.dk'})\n",
    "soup = bs(response.content, 'lxml')\n",
    "\n",
    "items = soup.find('section').find_all('a', href = True)\n",
    "\n",
    "for item in items: \n",
    "    url.append(item[\"href\"])\n",
    "    next_page_url = url[-1]\n",
    "    url = url[:-1]\n",
    "    \n",
    "    title.append(item[\"title\"])\n",
    "\n",
    "    \n",
    "    \n",
    "    "
   ]
  },
  {
   "cell_type": "code",
   "execution_count": 76,
   "id": "f00761c3",
   "metadata": {},
   "outputs": [
    {
     "data": {
      "text/plain": [
       "[]"
      ]
     },
     "execution_count": 76,
     "metadata": {},
     "output_type": "execute_result"
    }
   ],
   "source": [
    "title"
   ]
  },
  {
   "cell_type": "code",
   "execution_count": 18,
   "id": "7f0ab053",
   "metadata": {
    "scrolled": true
   },
   "outputs": [
    {
     "ename": "AttributeError",
     "evalue": "'NoneType' object has no attribute 'findAll'",
     "output_type": "error",
     "traceback": [
      "\u001b[0;31m---------------------------------------------------------------------------\u001b[0m",
      "\u001b[0;31mAttributeError\u001b[0m                            Traceback (most recent call last)",
      "\u001b[0;32m<ipython-input-18-5c456811de9f>\u001b[0m in \u001b[0;36m<module>\u001b[0;34m\u001b[0m\n\u001b[1;32m      6\u001b[0m     \u001b[0msoup\u001b[0m \u001b[0;34m=\u001b[0m \u001b[0mbs\u001b[0m\u001b[0;34m(\u001b[0m\u001b[0mresponse\u001b[0m\u001b[0;34m.\u001b[0m\u001b[0mcontent\u001b[0m\u001b[0;34m,\u001b[0m \u001b[0;34m'lxml'\u001b[0m\u001b[0;34m)\u001b[0m\u001b[0;34m\u001b[0m\u001b[0;34m\u001b[0m\u001b[0m\n\u001b[1;32m      7\u001b[0m \u001b[0;34m\u001b[0m\u001b[0m\n\u001b[0;32m----> 8\u001b[0;31m     \u001b[0mitems\u001b[0m \u001b[0;34m=\u001b[0m \u001b[0msoup\u001b[0m\u001b[0;34m.\u001b[0m\u001b[0mfind\u001b[0m\u001b[0;34m(\u001b[0m\u001b[0;34m\"div\"\u001b[0m\u001b[0;34m,\u001b[0m \u001b[0;34m{\u001b[0m\u001b[0;34m'class'\u001b[0m\u001b[0;34m:\u001b[0m \u001b[0;34m'tc_searchresults__item__link'\u001b[0m\u001b[0;34m}\u001b[0m\u001b[0;34m)\u001b[0m\u001b[0;34m.\u001b[0m\u001b[0mfindAll\u001b[0m\u001b[0;34m(\u001b[0m\u001b[0;34m'a'\u001b[0m\u001b[0;34m)\u001b[0m\u001b[0;34m\u001b[0m\u001b[0;34m\u001b[0m\u001b[0m\n\u001b[0m\u001b[1;32m      9\u001b[0m \u001b[0;34m\u001b[0m\u001b[0m\n\u001b[1;32m     10\u001b[0m     \u001b[0;32mfor\u001b[0m \u001b[0mitem\u001b[0m \u001b[0;32min\u001b[0m \u001b[0mitems\u001b[0m\u001b[0;34m:\u001b[0m\u001b[0;34m\u001b[0m\u001b[0;34m\u001b[0m\u001b[0m\n",
      "\u001b[0;31mAttributeError\u001b[0m: 'NoneType' object has no attribute 'findAll'"
     ]
    }
   ],
   "source": [
    "while True: \n",
    "    start_url = 'https://search.tv2.dk/?query=sygeplejersker&sort=relevance&page=1'\n",
    "    \n",
    "    response = requests.get(start_url, headers={'name':'Dana Wang',\n",
    "                                      'email':'kzh628@alumni.ku.dk'})\n",
    "    soup = bs(response.content, 'lxml')\n",
    "    \n",
    "    items = soup.find(\"div\", {'class': 'tc_searchresults__item__link'}).findAll('a')\n",
    "    \n",
    "    for item in items: \n",
    "        temp_title.append(item[\"title\"])\n",
    "    for item in items: \n",
    "        temp_url.append(item[\"href\"])\n",
    "    \n",
    "    \n",
    "    link.append(url)"
   ]
  },
  {
   "cell_type": "code",
   "execution_count": null,
   "id": "a4a376df",
   "metadata": {},
   "outputs": [],
   "source": [
    "while True: \n",
    "    response = requests.get(start_url)\n",
    "    soup = bs(response.text, 'html.parser')\n",
    "    \n",
    "    # Finding each line \n",
    "    items = soup.find(\"div\", {\"id\":\"mw-pages\"}).findAll('a')\n",
    "\n",
    "    # Scrape url and titles and append to temporary lists\n",
    "    for item in items:\n",
    "        text.append(item.text)\n",
    "    for item in items: \n",
    "        title.append(item[\"title\"])\n",
    "    for item in items: \n",
    "        url.append(item[\"href\"])\n",
    "\n",
    "    # if 'next page' exists, then go to next page\n",
    "    if temp_text[-1] == 'next page':\n",
    "        start_url = 'https://en.wikinews.org' + temp_url[-1]\n",
    "    else:\n",
    "        break"
   ]
  },
  {
   "cell_type": "code",
   "execution_count": null,
   "id": "8d19e228",
   "metadata": {},
   "outputs": [],
   "source": [
    "links = [] # empty list\n",
    "\n",
    "for page in range(0, 100, 20): # (start, stop, step)\n",
    "    url = f'https://job.jobnet.dk/CV/FindWork?Offset={page}&SortValue=BestMatch'\n",
    "    links.append(url)\n",
    "\n",
    "links"
   ]
  },
  {
   "cell_type": "code",
   "execution_count": null,
   "id": "32fdd274",
   "metadata": {},
   "outputs": [],
   "source": []
  },
  {
   "cell_type": "code",
   "execution_count": null,
   "id": "06b7cfab",
   "metadata": {},
   "outputs": [],
   "source": []
  },
  {
   "cell_type": "code",
   "execution_count": null,
   "id": "58857fb1",
   "metadata": {},
   "outputs": [],
   "source": []
  },
  {
   "cell_type": "code",
   "execution_count": null,
   "id": "4c8367cb",
   "metadata": {},
   "outputs": [],
   "source": []
  },
  {
   "cell_type": "code",
   "execution_count": null,
   "id": "31e4559d",
   "metadata": {},
   "outputs": [],
   "source": []
  },
  {
   "cell_type": "code",
   "execution_count": null,
   "id": "35d53932",
   "metadata": {},
   "outputs": [],
   "source": []
  },
  {
   "cell_type": "code",
   "execution_count": null,
   "id": "08dddb05",
   "metadata": {},
   "outputs": [],
   "source": []
  },
  {
   "cell_type": "code",
   "execution_count": null,
   "id": "f4bd889e",
   "metadata": {},
   "outputs": [],
   "source": []
  },
  {
   "cell_type": "code",
   "execution_count": null,
   "id": "16b5faa6",
   "metadata": {},
   "outputs": [],
   "source": []
  }
 ],
 "metadata": {
  "kernelspec": {
   "display_name": "Python 3",
   "language": "python",
   "name": "python3"
  },
  "language_info": {
   "codemirror_mode": {
    "name": "ipython",
    "version": 3
   },
   "file_extension": ".py",
   "mimetype": "text/x-python",
   "name": "python",
   "nbconvert_exporter": "python",
   "pygments_lexer": "ipython3",
   "version": "3.8.8"
  }
 },
 "nbformat": 4,
 "nbformat_minor": 5
}
