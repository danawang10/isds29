{
 "cells": [
  {
   "cell_type": "markdown",
   "id": "2d74dc4a",
   "metadata": {},
   "source": [
    "## Cleaning TV2 & DR datasets and basic statistics"
   ]
  },
  {
   "cell_type": "code",
   "execution_count": 163,
   "id": "00cfb2f0-6d1d-4c5e-b9b3-f640fcabf283",
   "metadata": {},
   "outputs": [],
   "source": [
    "import requests\n",
    "import time\n",
    "from bs4 import BeautifulSoup\n",
    "from bs4 import SoupStrainer\n",
    "import tqdm\n",
    "import pandas as pd\n",
    "import numpy as np\n",
    "import datetime as dt\n",
    "\n",
    "import matplotlib.pyplot as plt\n",
    "import seaborn as sns\n"
   ]
  },
  {
   "cell_type": "markdown",
   "id": "2baa2bc2",
   "metadata": {},
   "source": [
    "### Import datasets"
   ]
  },
  {
   "cell_type": "code",
   "execution_count": 138,
   "id": "9f7d0fc3-781d-4c0b-a0c8-e3a8305c56c1",
   "metadata": {},
   "outputs": [
    {
     "data": {
      "text/plain": [
       "8758"
      ]
     },
     "metadata": {},
     "output_type": "display_data"
    }
   ],
   "source": [
    "# Import TV2 dataset\n",
    "tv2 = pd.read_csv('articles_tv2.csv')\n",
    "display(len(tv2))"
   ]
  },
  {
   "cell_type": "code",
   "execution_count": 142,
   "id": "0578f852",
   "metadata": {},
   "outputs": [
    {
     "data": {
      "text/plain": [
       "2065"
      ]
     },
     "metadata": {},
     "output_type": "display_data"
    }
   ],
   "source": [
    "dr = pd.read_csv('dr_articles.csv')\n",
    "display(len(dr))"
   ]
  },
  {
   "cell_type": "markdown",
   "id": "783f28ce",
   "metadata": {},
   "source": [
    "TV2: The raw dataset after scraping websites from links has 8758 articles.\n",
    "\n",
    "DR: The raw dataset after scraping websites from links has 2065 articles. "
   ]
  },
  {
   "cell_type": "markdown",
   "id": "b4dbd4a1",
   "metadata": {},
   "source": [
    "### Diverse cleaning operations"
   ]
  },
  {
   "cell_type": "markdown",
   "id": "29d6bf00",
   "metadata": {},
   "source": [
    "#### TV2 Dataset"
   ]
  },
  {
   "cell_type": "code",
   "execution_count": 172,
   "id": "a3f27234-38a8-46c5-b016-83c7d70d96ac",
   "metadata": {
    "scrolled": true,
    "tags": []
   },
   "outputs": [],
   "source": [
    "## Rows that stem from links to a search page. They have the title \"Søg på TV 2\" and can be deleted\n",
    "tv2 = tv2[tv2.titles != 'Søg på TV 2'].reset_index(drop = True)\n",
    "# After this step, 7416 observations remain\n",
    "# In the next step we drop all rows that do not contain values. These are sports artciles like this one: https://sport.tv2.dk/2012-02-26-sur-s%C3%B8d-fornemmelse-hos-kasper-hvidt\n",
    "tv2 = tv2.dropna(subset = ['content'])\n",
    "# Rename column\n",
    "tv2.rename(columns = {'tv2':'source'}, inplace = True)\n",
    "# Reset index\n",
    "tv2 = tv2.reset_index(drop = True)"
   ]
  },
  {
   "cell_type": "markdown",
   "id": "2d0a517c",
   "metadata": {},
   "source": [
    "Number of observations and rows: TV2 dataset now contains 6849 articles "
   ]
  },
  {
   "cell_type": "markdown",
   "id": "502ba1ec",
   "metadata": {},
   "source": [
    "#### DR Dataset"
   ]
  },
  {
   "cell_type": "markdown",
   "id": "b2f701f1",
   "metadata": {},
   "source": [
    "We found 538 observations for which no content was retrieved. These include articles with a different HTML structure (see, e.g.: 'https://www.dr.dk/nyheder/region-ingen-fare-patienter-paa-holbaek-sygehus?focusId=3406239'). Unfortunately, our scraping code did not account for this structure. If we had more time, we would go back, adapt the code and get the content of these articles. For the purpose of this limited analysis, we continue without those articles."
   ]
  },
  {
   "cell_type": "code",
   "execution_count": 169,
   "id": "62aeab48",
   "metadata": {
    "scrolled": false
   },
   "outputs": [
    {
     "data": {
      "text/plain": [
       "1527"
      ]
     },
     "execution_count": 169,
     "metadata": {},
     "output_type": "execute_result"
    }
   ],
   "source": [
    "dr = dr.dropna(subset = [\"content\"]).reset_index(drop = True)\n",
    "len(dr)"
   ]
  },
  {
   "cell_type": "code",
   "execution_count": 167,
   "id": "5645695b",
   "metadata": {},
   "outputs": [],
   "source": [
    "dr['date'] = pd.to_datetime(dr['date'])"
   ]
  },
  {
   "cell_type": "markdown",
   "id": "01669238",
   "metadata": {},
   "source": [
    "After dropping observations without content, 1527 articles remain."
   ]
  },
  {
   "cell_type": "markdown",
   "id": "46b124a2",
   "metadata": {},
   "source": [
    "#### Columns of DR and TV datasets: \n",
    "* `titles` contains the articles' title\n",
    "* `sub_header` contains the articles' subheader\n",
    "* `h2` contains any headline found in the article \n",
    "* `author` contains the author of the article \n",
    "* `tag` contains any tags that TV2 added to the article: e.g. \"udland\". \n",
    "* `source` will later indicate the source \n",
    "* `links` contains the link to the original article\n",
    "* `date` contains date in the datetime formate"
   ]
  },
  {
   "cell_type": "markdown",
   "id": "16ebde78",
   "metadata": {},
   "source": [
    "#### Cleaning articles' content"
   ]
  },
  {
   "cell_type": "code",
   "execution_count": 140,
   "id": "d25487fa",
   "metadata": {},
   "outputs": [],
   "source": [
    "def cleaning_texts(df):\n",
    "    '''\n",
    "    Function cleans the text of the \"content\", \"titles\", \"subheaders\" and \"h2\" columns of TV2 and DR datasets.\n",
    "    '''\n",
    "    df_new = df.copy()\n",
    "    for i in tv2[['titles', 'sub_header', 'h2', 'content', 'author']]:\n",
    "        df_new[i] = df_new[i].str.lower()\\\n",
    "            .str.replace('\\r', '')\\\n",
    "            .str.replace('\\n', '')\\\n",
    "            .str.replace('\\xa0', '')\n",
    "    return df_new"
   ]
  },
  {
   "cell_type": "code",
   "execution_count": 161,
   "id": "d452aacc",
   "metadata": {},
   "outputs": [],
   "source": [
    "# Cleaning datasets with cleaning function\n",
    "tv2 = cleaning_texts(tv2)\n",
    "dr = cleaning_texts(dr)"
   ]
  },
  {
   "cell_type": "markdown",
   "id": "c095263d",
   "metadata": {},
   "source": [
    "### Creating more relevant datasets\n",
    "\n",
    "Creating different DataFrames according to the number of times \"sygeplej*\" is found in the articles' content. The more frequently the term features in the text, the more relevant the articles' should be for our analysis. \n",
    "\n",
    "_For now, we continue working with data in which \"sygeplej*\" appears at least twice_."
   ]
  },
  {
   "cell_type": "code",
   "execution_count": null,
   "id": "c9771ec8",
   "metadata": {},
   "outputs": [],
   "source": [
    "### Defining function"
   ]
  },
  {
   "cell_type": "code",
   "execution_count": 180,
   "id": "fc111f0a",
   "metadata": {},
   "outputs": [],
   "source": [
    "# Create different datasets with \"sygeplej*\" featuring at least X times in the text\n",
    "def sygeplej_count(df):\n",
    "    df_sygeplej1x = df[df['content'].str.count(\"sygeplej\") >= 1]\n",
    "    df_sygeplej2x = df[df['content'].str.count(\"sygeplej\") >= 2]\n",
    "    df_sygeplej3x = df[df['content'].str.count(\"sygeplej\") >= 3]\n",
    "    df_sygeplej4x = df[df['content'].str.count(\"sygeplej\") >= 4]\n",
    "    return df_sygeplej1x, df_sygeplej2x, df_sygeplej3x, df_sygeplej4x"
   ]
  },
  {
   "cell_type": "code",
   "execution_count": 181,
   "id": "064ebdbd",
   "metadata": {},
   "outputs": [],
   "source": [
    "tv2_sygeplej1x, tv2_sygeplej2x, tv2_sygeplej3x, tv2_sygeplej4x = sygeplej_count(tv2)\n",
    "dr_sygeplej1x, dr_sygeplej2x, dr_sygeplej3x, dr_sygeplej4x = sygeplej_count(dr)"
   ]
  },
  {
   "cell_type": "code",
   "execution_count": 182,
   "id": "62740ba5",
   "metadata": {},
   "outputs": [
    {
     "data": {
      "text/html": [
       "<div>\n",
       "<style scoped>\n",
       "    .dataframe tbody tr th:only-of-type {\n",
       "        vertical-align: middle;\n",
       "    }\n",
       "\n",
       "    .dataframe tbody tr th {\n",
       "        vertical-align: top;\n",
       "    }\n",
       "\n",
       "    .dataframe thead th {\n",
       "        text-align: right;\n",
       "    }\n",
       "</style>\n",
       "<table border=\"1\" class=\"dataframe\">\n",
       "  <thead>\n",
       "    <tr style=\"text-align: right;\">\n",
       "      <th></th>\n",
       "      <th>sygeplej* count</th>\n",
       "      <th>Num. of articles (TV2)</th>\n",
       "      <th>Num. of articles (DR)</th>\n",
       "    </tr>\n",
       "  </thead>\n",
       "  <tbody>\n",
       "    <tr>\n",
       "      <th>0</th>\n",
       "      <td>At least once</td>\n",
       "      <td>3631</td>\n",
       "      <td>660</td>\n",
       "    </tr>\n",
       "    <tr>\n",
       "      <th>1</th>\n",
       "      <td>At least twice</td>\n",
       "      <td>1521</td>\n",
       "      <td>528</td>\n",
       "    </tr>\n",
       "    <tr>\n",
       "      <th>2</th>\n",
       "      <td>At least three times</td>\n",
       "      <td>914</td>\n",
       "      <td>458</td>\n",
       "    </tr>\n",
       "    <tr>\n",
       "      <th>3</th>\n",
       "      <td>More than three times</td>\n",
       "      <td>671</td>\n",
       "      <td>392</td>\n",
       "    </tr>\n",
       "  </tbody>\n",
       "</table>\n",
       "</div>"
      ],
      "text/plain": [
       "         sygeplej* count  Num. of articles (TV2)  Num. of articles (DR)\n",
       "0          At least once                    3631                    660\n",
       "1         At least twice                    1521                    528\n",
       "2   At least three times                     914                    458\n",
       "3  More than three times                     671                    392"
      ]
     },
     "metadata": {},
     "output_type": "display_data"
    }
   ],
   "source": [
    "dict_sygeplej_count = {\"sygeplej* count\":\\\n",
    "                       ['At least once', 'At least twice', 'At least three times', 'More than three times'],\\\n",
    "                       \"Num. of articles (TV2)\" :\\\n",
    "                       [len(tv2_sygeplej1x), len(tv2_sygeplej2x), len(tv2_sygeplej3x), len(tv2_sygeplej4x)],\\\n",
    "                      \"Num. of articles (DR)\" :\\\n",
    "                       [len(dr_sygeplej1x), len(dr_sygeplej2x), len(dr_sygeplej3x), len(dr_sygeplej4x)]}\n",
    "\n",
    "table_sygeplej_count = pd.DataFrame(data = dict_sygeplej_count)\n",
    "display(table_sygeplej_count)"
   ]
  },
  {
   "cell_type": "markdown",
   "id": "57eb0d04",
   "metadata": {},
   "source": [
    "# Analysis of tags"
   ]
  },
  {
   "cell_type": "code",
   "execution_count": 197,
   "id": "a978a398",
   "metadata": {},
   "outputs": [],
   "source": [
    "# Define tag-count function\n",
    "def tag_count(df):\n",
    "    df_tags=df[\"tag\"].value_counts()\n",
    "    df_tags=pd.DataFrame(df_tags).reset_index(drop=False)\n",
    "    df_tags.columns=(\"tags\", \"count\")\n",
    "    return df_tags\n",
    "\n",
    "# Call function\n",
    "tv2_tags = tag_count(tv2_sygeplej2x)\n",
    "dr_tags = tag_count(dr_sygeplej2x)"
   ]
  },
  {
   "cell_type": "code",
   "execution_count": 223,
   "id": "76ddc6aa",
   "metadata": {},
   "outputs": [
    {
     "data": {
      "image/png": "[encoded data removed]",
      "text/plain": [
       "<Figure size 1080x360 with 2 Axes>"
      ]
     },
     "metadata": {},
     "output_type": "display_data"
    }
   ],
   "source": [
    "# Plotting count of tags\n",
    "plt.style.use('ggplot')\n",
    "sns.set_style(\"whitegrid\")\n",
    "\n",
    "fig, ax = plt.subplots(nrows=1, ncols=2, sharey=False, figsize=(15,5))\n",
    "\n",
    "ax[0] = sns.barplot(x = tv2_tags[\"tags\"][0:10], y = tv2_tags[\"count\"], orient =\"v\", ax = ax[0])\n",
    "ax[1] = sns.barplot(x = dr_tags[\"tags\"][0:10], y = dr_tags[\"count\"], orient =\"v\", ax = ax[1])\n",
    "\n",
    "_ = ax[1].set_xticklabels(ax[1].get_xticklabels(), rotation=45, horizontalalignment='right')\n",
    "_ = ax[0].set_xticklabels(ax[0].get_xticklabels(), rotation=45, horizontalalignment='right')\n",
    "\n",
    "_ = plt.suptitle(\"10 Most Frequent Tags\", size = 20)\n",
    "_ = ax[0].set_title(\"TV2\")\n",
    "_ = ax[1].set_title(\"DR\")\n",
    "_ = ax[0].set_ylabel(\"Number of Articles\")\n",
    "_ = ax[1].set_ylabel(\"\")\n",
    "\n",
    "_ = ax[0].set(xlabel=None)\n",
    "_ = ax[1].set(xlabel=None)"
   ]
  },
  {
   "cell_type": "code",
   "execution_count": 120,
   "id": "758ea924",
   "metadata": {},
   "outputs": [
    {
     "data": {
      "text/plain": [
       "[Text(0, 0, 'Samfund'),\n",
       " Text(1, 0, 'Coronavirus'),\n",
       " Text(2, 0, 'Udland'),\n",
       " Text(3, 0, 'Nyheder'),\n",
       " Text(4, 0, 'Krimi'),\n",
       " Text(5, 0, 'Politik'),\n",
       " Text(6, 0, 'Lokalt'),\n",
       " Text(7, 0, 'Business'),\n",
       " Text(8, 0, 'Sygeplejerske tiltalt for drab'),\n",
       " Text(9, 0, 'Dagens overblik')]"
      ]
     },
     "execution_count": 120,
     "metadata": {},
     "output_type": "execute_result"
    },
    {
     "data": {
      "image/png": "[encoded data removed]",
      "text/plain": [
       "<Figure size 432x288 with 1 Axes>"
      ]
     },
     "metadata": {},
     "output_type": "display_data"
    }
   ],
   "source": [
    "# Counting tags\n",
    "tv2_tags=tv2_sygeplej2x[\"tag\"].value_counts()\n",
    "tv2_tags=pd.DataFrame(tv2_tags).reset_index(drop=False)\n",
    "tv2_tags.columns=(\"tags\", \"count\")\n",
    "# Plotting count of tags\n",
    "plt.style.use('ggplot')\n",
    "sns.set_style(\"whitegrid\")\n",
    "\n",
    "fig, ax = plt.subplots(nrows = 1, ncols = 1) # create placeholder for plot\n",
    "sns.barplot(tv2_tags[\"tags\"][0:10], ax=ax_tv)\n",
    "sns.barplot(dr_tags[\"tags\"][0:10], ax=ax_dr)\n",
    "\n",
    "ax = sns.barplot(x = tv2_tags[\"tags\"][0:10], y = tv2_tags[\"count\"], orient =\"v\")\n",
    "ax.set_xticklabels(ax.get_xticklabels(), rotation=45, horizontalalignment='right')\n"
   ]
  },
  {
   "cell_type": "code",
   "execution_count": null,
   "id": "b1128f6e",
   "metadata": {},
   "outputs": [],
   "source": []
  },
  {
   "cell_type": "code",
   "execution_count": null,
   "id": "ce6c9c21-0421-4bd1-bc5a-21ed7617fbd9",
   "metadata": {},
   "outputs": [],
   "source": []
  }
 ],
 "metadata": {
  "kernelspec": {
   "display_name": "Python 3 (ipykernel)",
   "language": "python",
   "name": "python3"
  },
  "language_info": {
   "codemirror_mode": {
    "name": "ipython",
    "version": 3
   },
   "file_extension": ".py",
   "mimetype": "text/x-python",
   "name": "python",
   "nbconvert_exporter": "python",
   "pygments_lexer": "ipython3",
   "version": "3.9.7"
  }
 },
 "nbformat": 4,
 "nbformat_minor": 5
}
