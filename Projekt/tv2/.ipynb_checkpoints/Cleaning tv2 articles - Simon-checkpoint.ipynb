{
 "cells": [
  {
   "cell_type": "markdown",
   "id": "0b9fd55c",
   "metadata": {},
   "source": [
    "## Cleaning TV2 & DR datasets and basic statistics"
   ]
  },
  {
   "cell_type": "code",
   "execution_count": 163,
   "id": "00cfb2f0-6d1d-4c5e-b9b3-f640fcabf283",
   "metadata": {},
   "outputs": [],
   "source": [
    "import requests\n",
    "import time\n",
    "from bs4 import BeautifulSoup\n",
    "from bs4 import SoupStrainer\n",
    "import tqdm\n",
    "import pandas as pd\n",
    "import numpy as np\n",
    "import datetime as dt\n",
    "\n",
    "import matplotlib.pyplot as plt\n",
    "import seaborn as sns\n"
   ]
  },
  {
   "cell_type": "markdown",
   "id": "9b3bee31",
   "metadata": {},
   "source": [
    "### Import datasets"
   ]
  },
  {
   "cell_type": "code",
   "execution_count": 138,
   "id": "9f7d0fc3-781d-4c0b-a0c8-e3a8305c56c1",
   "metadata": {},
   "outputs": [
    {
     "data": {
      "text/plain": [
       "8758"
      ]
     },
     "metadata": {},
     "output_type": "display_data"
    }
   ],
   "source": [
    "# Import TV2 dataset\n",
    "tv2 = pd.read_csv('articles_tv2.csv')\n",
    "display(len(tv2))"
   ]
  },
  {
   "cell_type": "code",
   "execution_count": 142,
   "id": "3352df92",
   "metadata": {},
   "outputs": [
    {
     "data": {
      "text/plain": [
       "2065"
      ]
     },
     "metadata": {},
     "output_type": "display_data"
    }
   ],
   "source": [
    "dr = pd.read_csv('dr_articles.csv')\n",
    "display(len(dr))"
   ]
  },
  {
   "cell_type": "markdown",
   "id": "72bc14dc",
   "metadata": {},
   "source": [
    "TV2: The raw dataset after scraping websites from links has 8758 articles.\n",
    "\n",
    "DR: The raw dataset after scraping websites from links has 2065 articles. "
   ]
  },
  {
   "cell_type": "markdown",
   "id": "c4d0d9ed",
   "metadata": {},
   "source": [
    "### Diverse cleaning operations"
   ]
  },
  {
   "cell_type": "markdown",
   "id": "f3b8a714",
   "metadata": {},
   "source": [
    "#### TV2 Dataset"
   ]
  },
  {
   "cell_type": "code",
   "execution_count": 172,
   "id": "a3f27234-38a8-46c5-b016-83c7d70d96ac",
   "metadata": {
    "scrolled": true,
    "tags": []
   },
   "outputs": [],
   "source": [
    "## Rows that stem from links to a search page. They have the title \"Søg på TV 2\" and can be deleted\n",
    "tv2 = tv2[tv2.titles != 'Søg på TV 2'].reset_index(drop = True)\n",
    "# After this step, 7416 observations remain\n",
    "# In the next step we drop all rows that do not contain values. These are sports artciles like this one: https://sport.tv2.dk/2012-02-26-sur-s%C3%B8d-fornemmelse-hos-kasper-hvidt\n",
    "tv2 = tv2.dropna(subset = ['content'])\n",
    "# Rename column\n",
    "tv2.rename(columns = {'tv2':'source'}, inplace = True)\n",
    "# Reset index\n",
    "tv2 = tv2.reset_index(drop = True)"
   ]
  },
  {
   "cell_type": "markdown",
   "id": "94368cc7",
   "metadata": {},
   "source": [
    "Number of observations and rows: TV2 dataset now contains 6849 articles "
   ]
  },
  {
   "cell_type": "markdown",
   "id": "b8da1263",
   "metadata": {},
   "source": [
    "#### DR Dataset"
   ]
  },
  {
   "cell_type": "markdown",
   "id": "91f42450",
   "metadata": {},
   "source": [
    "We found 538 observations for which no content was retrieved. These include articles with a different HTML structure (see, e.g.: 'https://www.dr.dk/nyheder/region-ingen-fare-patienter-paa-holbaek-sygehus?focusId=3406239'). Unfortunately, our scraping code did not account for this structure. If we had more time, we would go back, adapt the code and get the content of these articles. For the purpose of this limited analysis, we continue without those articles."
   ]
  },
  {
   "cell_type": "code",
   "execution_count": 169,
   "id": "80420b71",
   "metadata": {
    "scrolled": false
   },
   "outputs": [
    {
     "data": {
      "text/plain": [
       "1527"
      ]
     },
     "execution_count": 169,
     "metadata": {},
     "output_type": "execute_result"
    }
   ],
   "source": [
    "dr = dr.dropna(subset = [\"content\"]).reset_index(drop = True)\n",
    "len(dr)"
   ]
  },
  {
   "cell_type": "code",
   "execution_count": 167,
   "id": "5f8342cf",
   "metadata": {},
   "outputs": [],
   "source": [
    "dr['date'] = pd.to_datetime(dr['date'])"
   ]
  },
  {
   "cell_type": "markdown",
   "id": "ffced2b7",
   "metadata": {},
   "source": [
    "After dropping observations without content, 1527 articles remain."
   ]
  },
  {
   "cell_type": "markdown",
   "id": "16333122",
   "metadata": {},
   "source": [
    "#### Columns of DR and TV datasets: \n",
    "* `titles` contains the articles' title\n",
    "* `sub_header` contains the articles' subheader\n",
    "* `h2` contains any headline found in the article \n",
    "* `author` contains the author of the article \n",
    "* `tag` contains any tags that TV2 added to the article: e.g. \"udland\". \n",
    "* `source` will later indicate the source \n",
    "* `links` contains the link to the original article\n",
    "* `date` contains date in the datetime formate"
   ]
  },
  {
   "cell_type": "markdown",
   "id": "85dfd9a6",
   "metadata": {},
   "source": [
    "#### Cleaning articles' content"
   ]
  },
  {
   "cell_type": "code",
   "execution_count": 140,
   "id": "0807344b",
   "metadata": {},
   "outputs": [],
   "source": [
    "def cleaning_texts(df):\n",
    "    '''\n",
    "    Function cleans the text of the \"content\", \"titles\", \"subheaders\" and \"h2\" columns of TV2 and DR datasets.\n",
    "    '''\n",
    "    df_new = df.copy()\n",
    "    for i in tv2[['titles', 'sub_header', 'h2', 'content', 'author']]:\n",
    "        df_new[i] = df_new[i].str.lower()\\\n",
    "            .str.replace('\\r', '')\\\n",
    "            .str.replace('\\n', '')\\\n",
    "            .str.replace('\\xa0', '')\n",
    "    return df_new"
   ]
  },
  {
   "cell_type": "code",
   "execution_count": 161,
   "id": "7599b89a",
   "metadata": {},
   "outputs": [],
   "source": [
    "# Cleaning datasets with cleaning function\n",
    "tv2 = cleaning_texts(tv2)\n",
    "dr = cleaning_texts(dr)"
   ]
  },
  {
   "cell_type": "markdown",
   "id": "83a6e0c7",
   "metadata": {},
   "source": [
    "### Creating more relevant datasets\n",
    "\n",
    "Creating different DataFrames according to the number of times \"sygeplej*\" is found in the articles' content. The more frequently the term features in the text, the more relevant the articles' should be for our analysis. \n",
    "\n",
    "_For now, we continue working with data in which \"sygeplej*\" appears at least twice_."
   ]
  },
  {
   "cell_type": "code",
   "execution_count": null,
   "id": "2615f04a",
   "metadata": {},
   "outputs": [],
   "source": [
    "### Defining function"
   ]
  },
  {
   "cell_type": "code",
   "execution_count": 180,
   "id": "33869774",
   "metadata": {},
   "outputs": [],
   "source": [
    "# Create different datasets with \"sygeplej*\" featuring at least X times in the text\n",
    "def sygeplej_count(df):\n",
    "    df_sygeplej1x = df[df['content'].str.count(\"sygeplej\") >= 1]\n",
    "    df_sygeplej2x = df[df['content'].str.count(\"sygeplej\") >= 2]\n",
    "    df_sygeplej3x = df[df['content'].str.count(\"sygeplej\") >= 3]\n",
    "    df_sygeplej4x = df[df['content'].str.count(\"sygeplej\") >= 4]\n",
    "    return df_sygeplej1x, df_sygeplej2x, df_sygeplej3x, df_sygeplej4x"
   ]
  },
  {
   "cell_type": "code",
   "execution_count": 181,
   "id": "974810c9",
   "metadata": {},
   "outputs": [],
   "source": [
    "tv2_sygeplej1x, tv2_sygeplej2x, tv2_sygeplej3x, tv2_sygeplej4x = sygeplej_count(tv2)\n",
    "dr_sygeplej1x, dr_sygeplej2x, dr_sygeplej3x, dr_sygeplej4x = sygeplej_count(dr)"
   ]
  },
  {
   "cell_type": "code",
   "execution_count": 182,
   "id": "e6d0d384",
   "metadata": {},
   "outputs": [
    {
     "data": {
      "text/html": [
       "<div>\n",
       "<style scoped>\n",
       "    .dataframe tbody tr th:only-of-type {\n",
       "        vertical-align: middle;\n",
       "    }\n",
       "\n",
       "    .dataframe tbody tr th {\n",
       "        vertical-align: top;\n",
       "    }\n",
       "\n",
       "    .dataframe thead th {\n",
       "        text-align: right;\n",
       "    }\n",
       "</style>\n",
       "<table border=\"1\" class=\"dataframe\">\n",
       "  <thead>\n",
       "    <tr style=\"text-align: right;\">\n",
       "      <th></th>\n",
       "      <th>sygeplej* count</th>\n",
       "      <th>Num. of articles (TV2)</th>\n",
       "      <th>Num. of articles (DR)</th>\n",
       "    </tr>\n",
       "  </thead>\n",
       "  <tbody>\n",
       "    <tr>\n",
       "      <th>0</th>\n",
       "      <td>At least once</td>\n",
       "      <td>3631</td>\n",
       "      <td>660</td>\n",
       "    </tr>\n",
       "    <tr>\n",
       "      <th>1</th>\n",
       "      <td>At least twice</td>\n",
       "      <td>1521</td>\n",
       "      <td>528</td>\n",
       "    </tr>\n",
       "    <tr>\n",
       "      <th>2</th>\n",
       "      <td>At least three times</td>\n",
       "      <td>914</td>\n",
       "      <td>458</td>\n",
       "    </tr>\n",
       "    <tr>\n",
       "      <th>3</th>\n",
       "      <td>More than three times</td>\n",
       "      <td>671</td>\n",
       "      <td>392</td>\n",
       "    </tr>\n",
       "  </tbody>\n",
       "</table>\n",
       "</div>"
      ],
      "text/plain": [
       "         sygeplej* count  Num. of articles (TV2)  Num. of articles (DR)\n",
       "0          At least once                    3631                    660\n",
       "1         At least twice                    1521                    528\n",
       "2   At least three times                     914                    458\n",
       "3  More than three times                     671                    392"
      ]
     },
     "metadata": {},
     "output_type": "display_data"
    }
   ],
   "source": [
    "dict_sygeplej_count = {\"sygeplej* count\":\\\n",
    "                       ['At least once', 'At least twice', 'At least three times', 'More than three times'],\\\n",
    "                       \"Num. of articles (TV2)\" :\\\n",
    "                       [len(tv2_sygeplej1x), len(tv2_sygeplej2x), len(tv2_sygeplej3x), len(tv2_sygeplej4x)],\\\n",
    "                      \"Num. of articles (DR)\" :\\\n",
    "                       [len(dr_sygeplej1x), len(dr_sygeplej2x), len(dr_sygeplej3x), len(dr_sygeplej4x)]}\n",
    "\n",
    "table_sygeplej_count = pd.DataFrame(data = dict_sygeplej_count)\n",
    "display(table_sygeplej_count)"
   ]
  },
  {
   "cell_type": "markdown",
   "id": "cd2b7149",
   "metadata": {},
   "source": [
    "## Frequency of Articles by Date"
   ]
  },
  {
   "cell_type": "code",
   "execution_count": 239,
   "id": "527a54b3",
   "metadata": {},
   "outputs": [
    {
     "ename": "TypeError",
     "evalue": "cannot convert the series to <class 'int'>",
     "output_type": "error",
     "traceback": [
      "\u001b[1;31m---------------------------------------------------------------------------\u001b[0m",
      "\u001b[1;31mTypeError\u001b[0m                                 Traceback (most recent call last)",
      "\u001b[1;32m~\\AppData\\Local\\Temp/ipykernel_3172/754637334.py\u001b[0m in \u001b[0;36m<module>\u001b[1;34m\u001b[0m\n\u001b[1;32m----> 1\u001b[1;33m \u001b[0mtv2\u001b[0m\u001b[1;33m[\u001b[0m\u001b[1;34m'year'\u001b[0m\u001b[1;33m]\u001b[0m \u001b[1;33m=\u001b[0m \u001b[0mint\u001b[0m\u001b[1;33m(\u001b[0m\u001b[0mpd\u001b[0m\u001b[1;33m.\u001b[0m\u001b[0mto_datetime\u001b[0m\u001b[1;33m(\u001b[0m\u001b[0mtv2\u001b[0m\u001b[1;33m[\u001b[0m\u001b[1;34m\"date\"\u001b[0m\u001b[1;33m]\u001b[0m\u001b[1;33m)\u001b[0m\u001b[1;33m.\u001b[0m\u001b[0mdt\u001b[0m\u001b[1;33m.\u001b[0m\u001b[0myear\u001b[0m\u001b[1;33m)\u001b[0m\u001b[1;33m\u001b[0m\u001b[1;33m\u001b[0m\u001b[0m\n\u001b[0m",
      "\u001b[1;32m~\\Anaconda3\\lib\\site-packages\\pandas\\core\\series.py\u001b[0m in \u001b[0;36mwrapper\u001b[1;34m(self)\u001b[0m\n\u001b[0;32m    183\u001b[0m         \u001b[1;32mif\u001b[0m \u001b[0mlen\u001b[0m\u001b[1;33m(\u001b[0m\u001b[0mself\u001b[0m\u001b[1;33m)\u001b[0m \u001b[1;33m==\u001b[0m \u001b[1;36m1\u001b[0m\u001b[1;33m:\u001b[0m\u001b[1;33m\u001b[0m\u001b[1;33m\u001b[0m\u001b[0m\n\u001b[0;32m    184\u001b[0m             \u001b[1;32mreturn\u001b[0m \u001b[0mconverter\u001b[0m\u001b[1;33m(\u001b[0m\u001b[0mself\u001b[0m\u001b[1;33m.\u001b[0m\u001b[0miloc\u001b[0m\u001b[1;33m[\u001b[0m\u001b[1;36m0\u001b[0m\u001b[1;33m]\u001b[0m\u001b[1;33m)\u001b[0m\u001b[1;33m\u001b[0m\u001b[1;33m\u001b[0m\u001b[0m\n\u001b[1;32m--> 185\u001b[1;33m         \u001b[1;32mraise\u001b[0m \u001b[0mTypeError\u001b[0m\u001b[1;33m(\u001b[0m\u001b[1;34mf\"cannot convert the series to {converter}\"\u001b[0m\u001b[1;33m)\u001b[0m\u001b[1;33m\u001b[0m\u001b[1;33m\u001b[0m\u001b[0m\n\u001b[0m\u001b[0;32m    186\u001b[0m \u001b[1;33m\u001b[0m\u001b[0m\n\u001b[0;32m    187\u001b[0m     \u001b[0mwrapper\u001b[0m\u001b[1;33m.\u001b[0m\u001b[0m__name__\u001b[0m \u001b[1;33m=\u001b[0m \u001b[1;34mf\"__{converter.__name__}__\"\u001b[0m\u001b[1;33m\u001b[0m\u001b[1;33m\u001b[0m\u001b[0m\n",
      "\u001b[1;31mTypeError\u001b[0m: cannot convert the series to <class 'int'>"
     ]
    }
   ],
   "source": [
    "tv2['year'] = pd.to_datetime(tv2[\"date\"]).dt.year\n"
   ]
  },
  {
   "cell_type": "code",
   "execution_count": 228,
   "id": "59b25f41",
   "metadata": {},
   "outputs": [
    {
     "ename": "NameError",
     "evalue": "name 'date' is not defined",
     "output_type": "error",
     "traceback": [
      "\u001b[1;31m---------------------------------------------------------------------------\u001b[0m",
      "\u001b[1;31mNameError\u001b[0m                                 Traceback (most recent call last)",
      "\u001b[1;32m~\\AppData\\Local\\Temp/ipykernel_3172/664086247.py\u001b[0m in \u001b[0;36m<module>\u001b[1;34m\u001b[0m\n\u001b[1;32m----> 1\u001b[1;33m \u001b[0mtv2_article_freq\u001b[0m \u001b[1;33m=\u001b[0m \u001b[0mtv2\u001b[0m\u001b[1;33m.\u001b[0m\u001b[0mgroupby\u001b[0m\u001b[1;33m(\u001b[0m\u001b[1;33m[\u001b[0m\u001b[0mdate\u001b[0m\u001b[1;33m.\u001b[0m\u001b[0myear\u001b[0m\u001b[1;33m,\u001b[0m \u001b[0mdate\u001b[0m\u001b[1;33m.\u001b[0m\u001b[0mmonth\u001b[0m\u001b[1;33m]\u001b[0m\u001b[1;33m)\u001b[0m\u001b[1;33m[\u001b[0m\u001b[1;34m\"content\"\u001b[0m\u001b[1;33m]\u001b[0m\u001b[1;33m.\u001b[0m\u001b[0mcount\u001b[0m\u001b[1;33m(\u001b[0m\u001b[1;33m)\u001b[0m\u001b[1;33m\u001b[0m\u001b[1;33m\u001b[0m\u001b[0m\n\u001b[0m\u001b[0;32m      2\u001b[0m \u001b[1;33m\u001b[0m\u001b[0m\n\u001b[0;32m      3\u001b[0m \u001b[1;33m\u001b[0m\u001b[0m\n",
      "\u001b[1;31mNameError\u001b[0m: name 'date' is not defined"
     ]
    }
   ],
   "source": [
    "\n",
    "\n",
    "tv2_article_freq = tv2.groupby([date.year, date.month])[\"content\"].count()\n",
    "\n",
    "\n"
   ]
  },
  {
   "cell_type": "markdown",
   "id": "d728b6da",
   "metadata": {},
   "source": [
    "## Analysis of Tags"
   ]
  },
  {
   "cell_type": "markdown",
   "id": "e90ca32a",
   "metadata": {},
   "source": [
    "### Most frequent Tags"
   ]
  },
  {
   "cell_type": "code",
   "execution_count": 197,
   "id": "c347c43d",
   "metadata": {},
   "outputs": [],
   "source": [
    "# Define tag-count function\n",
    "def tag_count(df):\n",
    "    df_tags=df[\"tag\"].value_counts()\n",
    "    df_tags=pd.DataFrame(df_tags).reset_index(drop=False)\n",
    "    df_tags.columns=(\"tags\", \"count\")\n",
    "    return df_tags\n",
    "\n",
    "# Call function\n",
    "tv2_tags = tag_count(tv2_sygeplej2x)\n",
    "dr_tags = tag_count(dr_sygeplej2x)"
   ]
  },
  {
   "cell_type": "code",
   "execution_count": 223,
   "id": "09ce914a",
   "metadata": {},
   "outputs": [
    {
     "data": {
      "image/png": "[encoded data removed]",
      "text/plain": [
       "<Figure size 1080x360 with 2 Axes>"
      ]
     },
     "metadata": {},
     "output_type": "display_data"
    }
   ],
   "source": [
    "# Plotting count of tags\n",
    "plt.style.use('ggplot')\n",
    "sns.set_style(\"whitegrid\")\n",
    "\n",
    "fig, ax = plt.subplots(nrows=1, ncols=2, sharey=False, figsize=(15,5))\n",
    "\n",
    "ax[0] = sns.barplot(x = tv2_tags[\"tags\"][0:10], y = tv2_tags[\"count\"], orient =\"v\", ax = ax[0])\n",
    "ax[1] = sns.barplot(x = dr_tags[\"tags\"][0:10], y = dr_tags[\"count\"], orient =\"v\", ax = ax[1])\n",
    "\n",
    "_ = ax[1].set_xticklabels(ax[1].get_xticklabels(), rotation=45, horizontalalignment='right')\n",
    "_ = ax[0].set_xticklabels(ax[0].get_xticklabels(), rotation=45, horizontalalignment='right')\n",
    "\n",
    "_ = plt.suptitle(\"10 Most Frequent Tags\", size = 20)\n",
    "_ = ax[0].set_title(\"TV2\")\n",
    "_ = ax[1].set_title(\"DR\")\n",
    "_ = ax[0].set_ylabel(\"Number of Articles\")\n",
    "_ = ax[1].set_ylabel(\"\")\n",
    "\n",
    "_ = ax[0].set(xlabel=None)\n",
    "_ = ax[1].set(xlabel=None)"
   ]
  },
  {
   "cell_type": "markdown",
   "id": "a023a3d2",
   "metadata": {},
   "source": [
    "### Usage of tags over time"
   ]
  },
  {
   "cell_type": "code",
   "execution_count": null,
   "id": "ce6c9c21-0421-4bd1-bc5a-21ed7617fbd9",
   "metadata": {},
   "outputs": [],
   "source": []
  }
 ],
 "metadata": {
  "kernelspec": {
   "display_name": "Python 3 (ipykernel)",
   "language": "python",
   "name": "python3"
  },
  "language_info": {
   "codemirror_mode": {
    "name": "ipython",
    "version": 3
   },
   "file_extension": ".py",
   "mimetype": "text/x-python",
   "name": "python",
   "nbconvert_exporter": "python",
   "pygments_lexer": "ipython3",
   "version": "3.9.7"
  }
 },
 "nbformat": 4,
 "nbformat_minor": 5
}
