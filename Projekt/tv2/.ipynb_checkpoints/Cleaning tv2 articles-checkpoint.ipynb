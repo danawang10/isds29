{
 "cells": [
  {
   "cell_type": "code",
   "execution_count": 8,
   "id": "00cfb2f0-6d1d-4c5e-b9b3-f640fcabf283",
   "metadata": {},
   "outputs": [],
   "source": [
    "import requests\n",
    "import time\n",
    "from bs4 import BeautifulSoup\n",
    "from bs4 import SoupStrainer\n",
    "import tqdm\n",
    "import pandas as pd\n",
    "\n",
    "import matplotlib.pyplot as plt\n",
    "import seaborn as sns\n"
   ]
  },
  {
   "cell_type": "code",
   "execution_count": 22,
   "id": "9f7d0fc3-781d-4c0b-a0c8-e3a8305c56c1",
   "metadata": {},
   "outputs": [],
   "source": [
    "tv2 = pd.read_csv('articles_tv2.csv')"
   ]
  },
  {
   "cell_type": "code",
   "execution_count": 23,
   "id": "a3f27234-38a8-46c5-b016-83c7d70d96ac",
   "metadata": {
    "tags": []
   },
   "outputs": [],
   "source": [
    "tv2 = tv2[tv2.titles != 'Søg på TV 2']"
   ]
  },
  {
   "cell_type": "code",
   "execution_count": 69,
   "id": "8b6692a1-8355-4878-a1e9-4d114efb2d48",
   "metadata": {},
   "outputs": [],
   "source": [
    "tv2_tags=tv2[\"tag\"].value_counts()\n",
    "tv2_tags=pd.DataFrame(tv2_tags).reset_index(drop=False)\n",
    "tv2_tags.columns=(\"tags\", \"count\")\n",
    "plt.style.use('ggplot')\n",
    "sns.set_style(\"whitegrid\")\n"
   ]
  },
  {
   "cell_type": "code",
   "execution_count": 71,
   "id": "5ecbde9c-5a56-45f3-a90c-57a32a9f08a4",
   "metadata": {},
   "outputs": [
    {
     "data": {
      "image/png": "[encoded data removed]",
      "text/plain": [
       "<Figure size 432x288 with 1 Axes>"
      ]
     },
     "metadata": {},
     "output_type": "display_data"
    }
   ],
   "source": [
    "fig, ax = plt.subplots(nrows = 1, ncols = 1) # create placeholder for plot\n",
    "ax = sns.barplot(x = tv2_tags[\"tags\"][0:8], y = tv2_tags[\"count\"], orient =\"v\")"
   ]
  },
  {
   "cell_type": "code",
   "execution_count": 42,
   "id": "015492e5-3fe1-4c6c-aac5-3349f4e8344a",
   "metadata": {},
   "outputs": [],
   "source": []
  },
  {
   "cell_type": "code",
   "execution_count": 59,
   "id": "ce6c9c21-0421-4bd1-bc5a-21ed7617fbd9",
   "metadata": {},
   "outputs": [],
   "source": [
    "tv2_tags[\"tag\"]=tv2_tags[\"tag\"].astype(int)"
   ]
  },
  {
   "cell_type": "code",
   "execution_count": 68,
   "id": "4788e22f-84fa-47b7-9756-a645522f4f1f",
   "metadata": {},
   "outputs": [
    {
     "data": {
      "text/html": [
       "<div>\n",
       "<style scoped>\n",
       "    .dataframe tbody tr th:only-of-type {\n",
       "        vertical-align: middle;\n",
       "    }\n",
       "\n",
       "    .dataframe tbody tr th {\n",
       "        vertical-align: top;\n",
       "    }\n",
       "\n",
       "    .dataframe thead th {\n",
       "        text-align: right;\n",
       "    }\n",
       "</style>\n",
       "<table border=\"1\" class=\"dataframe\">\n",
       "  <thead>\n",
       "    <tr style=\"text-align: right;\">\n",
       "      <th></th>\n",
       "      <th>index</th>\n",
       "      <th>tag</th>\n",
       "    </tr>\n",
       "  </thead>\n",
       "  <tbody>\n",
       "    <tr>\n",
       "      <th>0</th>\n",
       "      <td>Samfund</td>\n",
       "      <td>1103</td>\n",
       "    </tr>\n",
       "    <tr>\n",
       "      <th>1</th>\n",
       "      <td>Udland</td>\n",
       "      <td>1012</td>\n",
       "    </tr>\n",
       "    <tr>\n",
       "      <th>2</th>\n",
       "      <td>Nyheder</td>\n",
       "      <td>952</td>\n",
       "    </tr>\n",
       "    <tr>\n",
       "      <th>3</th>\n",
       "      <td>Coronavirus</td>\n",
       "      <td>642</td>\n",
       "    </tr>\n",
       "    <tr>\n",
       "      <th>4</th>\n",
       "      <td>Politik</td>\n",
       "      <td>568</td>\n",
       "    </tr>\n",
       "    <tr>\n",
       "      <th>5</th>\n",
       "      <td>Krimi</td>\n",
       "      <td>455</td>\n",
       "    </tr>\n",
       "    <tr>\n",
       "      <th>6</th>\n",
       "      <td>Business</td>\n",
       "      <td>362</td>\n",
       "    </tr>\n",
       "    <tr>\n",
       "      <th>7</th>\n",
       "      <td>Lokalt</td>\n",
       "      <td>232</td>\n",
       "    </tr>\n",
       "    <tr>\n",
       "      <th>8</th>\n",
       "      <td>Tech</td>\n",
       "      <td>56</td>\n",
       "    </tr>\n",
       "    <tr>\n",
       "      <th>9</th>\n",
       "      <td>EP-valg 2019</td>\n",
       "      <td>47</td>\n",
       "    </tr>\n",
       "  </tbody>\n",
       "</table>\n",
       "</div>"
      ],
      "text/plain": [
       "          index   tag\n",
       "0       Samfund  1103\n",
       "1        Udland  1012\n",
       "2       Nyheder   952\n",
       "3   Coronavirus   642\n",
       "4       Politik   568\n",
       "5         Krimi   455\n",
       "6      Business   362\n",
       "7        Lokalt   232\n",
       "8          Tech    56\n",
       "9  EP-valg 2019    47"
      ]
     },
     "execution_count": 68,
     "metadata": {},
     "output_type": "execute_result"
    }
   ],
   "source": [
    "tv2_tags[0:10]"
   ]
  },
  {
   "cell_type": "code",
   "execution_count": null,
   "id": "f03d5243-a4a3-4c3f-bf77-e8ed97fc841e",
   "metadata": {},
   "outputs": [],
   "source": []
  }
 ],
 "metadata": {
  "kernelspec": {
   "display_name": "Python 3 (ipykernel)",
   "language": "python",
   "name": "python3"
  },
  "language_info": {
   "codemirror_mode": {
    "name": "ipython",
    "version": 3
   },
   "file_extension": ".py",
   "mimetype": "text/x-python",
   "name": "python",
   "nbconvert_exporter": "python",
   "pygments_lexer": "ipython3",
   "version": "3.9.12"
  }
 },
 "nbformat": 4,
 "nbformat_minor": 5
}
