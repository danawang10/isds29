{
 "cells": [
  {
   "cell_type": "code",
   "execution_count": 1,
   "id": "7d6a1787-51ae-4527-8301-6b598f60f53b",
   "metadata": {},
   "outputs": [],
   "source": [
    "import requests\n",
    "import time\n",
    "from bs4 import BeautifulSoup\n",
    "from bs4 import SoupStrainer\n",
    "import tqdm\n",
    "import pandas as pd\n"
   ]
  },
  {
   "cell_type": "code",
   "execution_count": 2,
   "id": "57f71bb3-9652-462c-88af-f486b5e7df98",
   "metadata": {},
   "outputs": [],
   "source": [
    "links=pd.read_csv(\"list_of_articles.csv\", index_col=False).reset_index(drop=True)\n",
    "links.columns=(\"b\", \"a\")\n",
    "links=links.drop(columns=[\"b\"])\n",
    "links_list=links[\"a\"]"
   ]
  },
  {
   "cell_type": "code",
   "execution_count": 3,
   "id": "74df5796-987f-4d9d-a321-fcab703ed645",
   "metadata": {},
   "outputs": [
    {
     "data": {
      "text/plain": [
       "90     https://nyheder.tv2.dk/krimi/2012-02-15-folk-s...\n",
       "91     https://search.tv2.dk?query=sygeplejerske 2012...\n",
       "92     https://search.tv2.dk?query=sygeplejerske 2012...\n",
       "93     https://nyheder.tv2.dk/2012-02-25-indvandrere-...\n",
       "94     https://sport.tv2.dk/fodbold/2012-02-16-kolleg...\n",
       "95     https://nyheder.tv2.dk/2022-04-06-han-moedte-h...\n",
       "96     https://nyheder.tv2.dk/2012-02-16-arets-gang-e...\n",
       "97     https://nyheder.tv2.dk/2012-02-25-hver-anden-h...\n",
       "98     https://nyheder.tv2.dk/2012-02-01-sigtet-chef-...\n",
       "99     https://nyheder.tv2.dk/business/2012-02-14-kap...\n",
       "100    https://nyheder.tv2.dk/2012-02-29-naesehorn-in...\n",
       "101    https://nyheder.tv2.dk/sundhed/2012-02-13-vita...\n",
       "102    https://nyheder.tv2.dk/2012-02-15-chefers-loen...\n",
       "103    https://search.tv2.dk?query=sygeplejerske 2012...\n",
       "104    https://search.tv2.dk?query=sygeplejerske 2012...\n",
       "105    https://nyheder.tv2.dk/2012-02-09-unge-er-mere...\n",
       "106    https://nyheder.tv2.dk/krimi/2012-02-27-mogens...\n",
       "107    https://nyheder.tv2.dk/2012-02-20-en-million-d...\n",
       "108    https://nyheder.tv2.dk/business/2012-02-16-ny-...\n",
       "109    https://nyheder.tv2.dk/2012-02-14-loenfest-paa...\n",
       "110    https://sport.tv2.dk/2012-02-20-silkeborg-test...\n",
       "111    https://nyheder.tv2.dk/krimi/2012-02-15-hashga...\n",
       "112    https://sport.tv2.dk/2012-02-29-s%C3%A5dan-gik...\n",
       "113    https://sport.tv2.dk/2012-02-22-bayern-keeper-...\n",
       "114    https://sport.tv2.dk/2012-02-15-ober-vil-have-...\n",
       "115    https://search.tv2.dk?query=sygeplejerske 2012...\n",
       "116    https://search.tv2.dk?query=sygeplejerske 2012...\n",
       "117    https://sport.tv2.dk/2012-02-26-sur-s%C3%B8d-f...\n",
       "118    https://sport.tv2.dk/2012-02-08-ex-stjerne-for...\n",
       "119    https://sport.tv2.dk/2012-02-01-europamester-t...\n",
       "Name: a, dtype: object"
      ]
     },
     "execution_count": 3,
     "metadata": {},
     "output_type": "execute_result"
    }
   ],
   "source": [
    "links_list[90:120]"
   ]
  },
  {
   "cell_type": "code",
   "execution_count": null,
   "id": "2df881fd-0685-4cdc-a8d7-6045fb4c23e1",
   "metadata": {},
   "outputs": [
    {
     "name": "stderr",
     "output_type": "stream",
     "text": [
      " 77%|███████▋  | 767/1000 [40:12<08:54,  2.30s/it]  "
     ]
    }
   ],
   "source": [
    "titles_list=[]\n",
    "h2_list=[]\n",
    "date_list=[]\n",
    "content_list=[]\n",
    "author_list=[]\n",
    "sub_head_list=[]\n",
    "tag_list=[]\n",
    "for u in tqdm.tqdm(links_list[6000:7000]) :\n",
    "    re=requests.get(u, headers={\"Name\" : \"Oliver Fredborg Smietana\" , \"email\": \"kph383@alumni.ku.dk\", \"Purpose\": \"exam project for Copenhagen uni Course\" })\n",
    "    soup=BeautifulSoup(re.content, \"lxml\")\n",
    "    try:\n",
    "        title=soup.find(\"h1\", class_=\"tc_heading tc_heading--2\")\n",
    "        titles_list.append(title.text.strip())\n",
    "    except:\n",
    "        titles_list.append(\"\")\n",
    "\n",
    "    try:\n",
    "        date=soup.find(\"time\", class_=\"tc_timestamp\")['datetime']\n",
    "        date_list.append(date)\n",
    "    except:\n",
    "        date_list.append(\"\")\n",
    "\n",
    "    try:\n",
    "        h2=soup.find_all(\"h2\", class_=\"tc_heading tc_heading--2\")\n",
    "        h2_i_list=[]\n",
    "        for i in h2:\n",
    "            h2_i=i.get_text()\n",
    "            h2_i_list.append(h2_i)\n",
    "        h2_str=\" \".join(h2_i_list)\n",
    "        h2_list.append(h2_str)\n",
    "    except:\n",
    "        h2_list.append(\"\")\n",
    "\n",
    "    try:\n",
    "        sub_head=soup.find(\"p\", class_=\"tc_page__body__standfirst\")\n",
    "        sub_head_list.append(sub_head.text.strip())\n",
    "    except:\n",
    "        sub_head_list.append(\"\")\n",
    "\n",
    "    try:\n",
    "        author=soup.find(\"span\", class_=\"tc_byline__author__text\")\n",
    "        author_list.append(author.text.strip())\n",
    "    except:\n",
    "         author_list.append(\"\")\n",
    "\n",
    "    try:\n",
    "        content_i_list=[]\n",
    "        content_i=soup.find(\"div\", class_=\"tc_richcontent\").find_all(\"p\")\n",
    "        for i in content_i:\n",
    "            content_i_list.append(i.text.strip())\n",
    "        content_str=\" \".join(content_i_list)\n",
    "        content_list.append(content_str)\n",
    "    except:\n",
    "        content_list.append(\"\")\n",
    "\n",
    "    try:\n",
    "        tag=soup.find(\"a\", class_=\"tc_label tc_label--color-base-red\")\n",
    "        tag_list.append(tag.text.strip())\n",
    "    except:\n",
    "        tag_list.append(\"\")\n",
    "\n",
    "    time.sleep(0.25)\n",
    "\n"
   ]
  },
  {
   "cell_type": "code",
   "execution_count": 27,
   "id": "ac29f49f-052d-4bfc-8d2f-1bb92d527be2",
   "metadata": {},
   "outputs": [
    {
     "data": {
      "text/plain": [
       "[\"50 fingre, 50 tæer og seks hjerter, der slog\\xa0i takt. Det tog ikke mere end to minutter, da den\\xa026-årige australske kvinde Kimberley Tucci skulle føde fem børn. En dreng og fire piger - alle sunde og raske. Der skriver BBC News. Femlingerne er naturligt undfangede, og det hører til sjældenhederne. Chancen for at få femlinger naturligt er helt nede på omkring en til 55 millioner. Til sammenligning er chancen for at vinde i Lotto\\xa0en til 8,3 millioner. Da lægerne opdagede, at der bankede fem små hjerter i maven på Kimberley Tucci, fik hun tilbuddet om at få fjernet tre af dem. På den måde ville hun komme\\xa0udenom de alvorlige risicis, der er for både moderen og de ufødte børn ved en flerfødsels i den størrelsesorden. Men det ville den 26-årige kvinde ikke høre tale om. - Ingen troede, jeg kunne gøre det, men det kunne jeg, siger hun. Og det selvom hun I et interview med det australske tv-program 60 Minutes\\xa0har fortalt, hvordan hun følte, at hendes krop lukkede ned under graviditeten. Hele 50 læger og sygeplejersker hjalp til med det planlagte kejsersnit tilbage i januar, og Kimberley Tucci\\xa0kunne efterfølgende kalde sig en stolt mor til otte børn. Udover de nyfødte femlinger har hun\\xa0og manden Vaughn i forvejen tre andre børn i alderen to, fire og ni år. Det betyder også, at det ikke er helt nemt at komme omkring for den ”lille” familie. Det krævede intet mindre end tre biler og ekstra\\xa0hjælp at fragte babyerne til lægen. Det samme krævede det, da moderen ville have femlingerne foreviget hos en fotograf. Her var der\\xa0fire hjælpere med til at bære børnene ind. Fotografen Erin Elizabeth Hoskins, der stod for billederne, har ikke fotograferet så mange nyfødte på én gang før. - Jeg har fotograferet mange nyfødte gennem tiden, men det her var overvældende, siger hun til TV 2. Hun nævner også, at flere har sat spørgsmålstegn ved, om de fem børn rent faktisk sover på samme tid. - Mange tror, at der er brugt Photoshop, men jeg måtte bare arbejde hurtigt, siger hun. Erin Elizabeth Hoskins beskriver besøget som ”en fornøjelse”, også fordi Kimberley Tucci ifølge hende virkede meget struktureret. Hun håber også på at få lov til at fotografere femlingerne igen, når de bliver så store, at de kan sidde. Kimberley Tuccis har delt sin historie på sin side ’Surprised by five’, som har fået over 250.000 likes på Facebook. Her er der også et link til en indsamling startet af femlinge-moderens bedstemor. Hun forsøger at samle penge sammen, så familien kan købe en bil, som de alle sammen kan være i – otte børn og to voksne. Indtil videre er der 686 personer, der har været med til at donere de næsten 21.995 dollars svarede til cirka 144.000 danske kroner. Og der er nok at bruge penge på, når man har\\xa0fem spædbørn. Familien skyder på, at de skifter omkring 350 bleer på en uge. Der er ingen danske kvinder, der endnu kan prale af at være blevet mor til fem på én gang. Femlinger - og alt derover - er ekstremt sjældne, og i Danmark har vi altså ikke haft ét eneste tilfælde, siden vi begyndte at holde tal på flerfødsler i 1850. Dog bliver der født en del flere tvillinger og trillinger i dag end for bare tredive år siden. Indehaver af jordemoder.dk, Birgit Thalwitzer, peger på\\xa0fertilitetsbehandlinger\\xa0som årsag. - Det er klart en hovedårsag. Kvinder i fertilitetsbehandling får ofte sat mere end et æg op, og det øger chancen for en flerfødsel, siger hun. Den fødendes alder kan også spille ind. Statistikker viser at flerfødsler forekommer oftere hos helt unge piger og ældre kvinder. Gennemsnitsalderen for førstegangsfødende lå i 2015 på 29,1. At vi får en femlige-fødsel i Danmark, ser Birgit Thalwitzer som meget usandsynligt. - Det er næsten utænkeligt at forestille sig. Chancen er ekstremt lille, siger hun. Se flere billeder af de australske femlinger på fotografen Erin Elizabeth Hoskins' Facebook.\"]"
      ]
     },
     "execution_count": 27,
     "metadata": {},
     "output_type": "execute_result"
    }
   ],
   "source": [
    "content_list\n"
   ]
  },
  {
   "cell_type": "code",
   "execution_count": 29,
   "id": "a4e7fd88-12e8-4c05-89d7-c43378aeef84",
   "metadata": {},
   "outputs": [],
   "source": [
    "#Dataframes\n",
    "\n",
    "tv2_articles=pd.DataFrame([titles_list, sub_head_list, h2_list, content_list, author_list, tag_list, date_list, links_list]).transpose()\n",
    "tv2_articles.columns=[\"titles\", \"sub_header\", \"h2\", \"content\", \"author\", \"tag\", \"date\", \"link\"]\n",
    "tv2_articles[\"tv2\"]=\"tv2\""
   ]
  },
  {
   "cell_type": "code",
   "execution_count": 22,
   "id": "af39d5a3-43a7-4450-91a4-9b7a61ec0886",
   "metadata": {},
   "outputs": [
    {
     "name": "stdout",
     "output_type": "stream",
     "text": [
      "50 fingre, 50 tæer og seks hjerter, der slog i takt. Det tog ikke mere end to minutter, da den 26-årige australske kvinde Kimberley Tucci skulle føde fem børn. En dreng og fire piger - alle sunde og raske. Der skriver BBC News. Femlingerne er naturligt undfangede, og det hører til sjældenhederne. Chancen for at få femlinger naturligt er helt nede på omkring en til 55 millioner. Til sammenligning er chancen for at vinde i Lotto en til 8,3 millioner. Da lægerne opdagede, at der bankede fem små hjerter i maven på Kimberley Tucci, fik hun tilbuddet om at få fjernet tre af dem. På den måde ville hun komme udenom de alvorlige risicis, der er for både moderen og de ufødte børn ved en flerfødsels i den størrelsesorden. Men det ville den 26-årige kvinde ikke høre tale om. - Ingen troede, jeg kunne gøre det, men det kunne jeg, siger hun. Og det selvom hun I et interview med det australske tv-program 60 Minutes har fortalt, hvordan hun følte, at hendes krop lukkede ned under graviditeten. Hele 50 læger og sygeplejersker hjalp til med det planlagte kejsersnit tilbage i januar, og Kimberley Tucci kunne efterfølgende kalde sig en stolt mor til otte børn. Udover de nyfødte femlinger har hun og manden Vaughn i forvejen tre andre børn i alderen to, fire og ni år. Det betyder også, at det ikke er helt nemt at komme omkring for den ”lille” familie. Det krævede intet mindre end tre biler og ekstra hjælp at fragte babyerne til lægen. Det samme krævede det, da moderen ville have femlingerne foreviget hos en fotograf. Her var der fire hjælpere med til at bære børnene ind. Fotografen Erin Elizabeth Hoskins, der stod for billederne, har ikke fotograferet så mange nyfødte på én gang før. - Jeg har fotograferet mange nyfødte gennem tiden, men det her var overvældende, siger hun til TV 2. Hun nævner også, at flere har sat spørgsmålstegn ved, om de fem børn rent faktisk sover på samme tid. - Mange tror, at der er brugt Photoshop, men jeg måtte bare arbejde hurtigt, siger hun. Erin Elizabeth Hoskins beskriver besøget som ”en fornøjelse”, også fordi Kimberley Tucci ifølge hende virkede meget struktureret. Hun håber også på at få lov til at fotografere femlingerne igen, når de bliver så store, at de kan sidde. Kimberley Tuccis har delt sin historie på sin side ’Surprised by five’, som har fået over 250.000 likes på Facebook. Her er der også et link til en indsamling startet af femlinge-moderens bedstemor. Hun forsøger at samle penge sammen, så familien kan købe en bil, som de alle sammen kan være i – otte børn og to voksne. Indtil videre er der 686 personer, der har været med til at donere de næsten 21.995 dollars svarede til cirka 144.000 danske kroner. Og der er nok at bruge penge på, når man har fem spædbørn. Familien skyder på, at de skifter omkring 350 bleer på en uge. Der er ingen danske kvinder, der endnu kan prale af at være blevet mor til fem på én gang. Femlinger - og alt derover - er ekstremt sjældne, og i Danmark har vi altså ikke haft ét eneste tilfælde, siden vi begyndte at holde tal på flerfødsler i 1850. Dog bliver der født en del flere tvillinger og trillinger i dag end for bare tredive år siden. Indehaver af jordemoder.dk, Birgit Thalwitzer, peger på fertilitetsbehandlinger som årsag. - Det er klart en hovedårsag. Kvinder i fertilitetsbehandling får ofte sat mere end et æg op, og det øger chancen for en flerfødsel, siger hun. Den fødendes alder kan også spille ind. Statistikker viser at flerfødsler forekommer oftere hos helt unge piger og ældre kvinder. Gennemsnitsalderen for førstegangsfødende lå i 2015 på 29,1. At vi får en femlige-fødsel i Danmark, ser Birgit Thalwitzer som meget usandsynligt. - Det er næsten utænkeligt at forestille sig. Chancen er ekstremt lille, siger hun. Se flere billeder af de australske femlinger på fotografen Erin Elizabeth Hoskins' Facebook.\n"
     ]
    }
   ],
   "source": [
    "print(tv2_articles.content[0])"
   ]
  },
  {
   "cell_type": "code",
   "execution_count": 23,
   "id": "dbae0308-9fcc-4c45-9ecf-fe53de806669",
   "metadata": {},
   "outputs": [
    {
     "name": "stdout",
     "output_type": "stream",
     "text": [
      "https://nyheder.tv2.dk/udland/2016-05-11-foedte-fem-boern-paa-to-minutter\n"
     ]
    }
   ],
   "source": [
    "print(links_list[4000])"
   ]
  },
  {
   "cell_type": "code",
   "execution_count": 30,
   "id": "1604963e-b8f4-4d43-86fb-b8cdac9928d7",
   "metadata": {},
   "outputs": [],
   "source": [
    "tv2_articles.to_csv(\"articles_tv2_05\", index=False)"
   ]
  },
  {
   "cell_type": "code",
   "execution_count": null,
   "id": "fc72e18f-2597-4d19-9d35-d93c352c5fbd",
   "metadata": {},
   "outputs": [],
   "source": [
    "links[0:3]"
   ]
  },
  {
   "cell_type": "code",
   "execution_count": null,
   "id": "31fcb7eb-ac7c-4c71-8c4e-50dbea60df2a",
   "metadata": {},
   "outputs": [],
   "source": []
  }
 ],
 "metadata": {
  "kernelspec": {
   "display_name": "Python 3 (ipykernel)",
   "language": "python",
   "name": "python3"
  },
  "language_info": {
   "codemirror_mode": {
    "name": "ipython",
    "version": 3
   },
   "file_extension": ".py",
   "mimetype": "text/x-python",
   "name": "python",
   "nbconvert_exporter": "python",
   "pygments_lexer": "ipython3",
   "version": "3.9.12"
  }
 },
 "nbformat": 4,
 "nbformat_minor": 5
}
