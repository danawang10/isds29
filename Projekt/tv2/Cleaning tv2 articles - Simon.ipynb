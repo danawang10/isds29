{
 "cells": [
  {
   "cell_type": "markdown",
   "id": "c1f05cd5",
   "metadata": {},
   "source": [
    "## Cleaning TV2 dataset and basic statistics"
   ]
  },
  {
   "cell_type": "code",
   "execution_count": 3,
   "id": "00cfb2f0-6d1d-4c5e-b9b3-f640fcabf283",
   "metadata": {},
   "outputs": [],
   "source": [
    "import requests\n",
    "import time\n",
    "from bs4 import BeautifulSoup\n",
    "from bs4 import SoupStrainer\n",
    "import tqdm\n",
    "import pandas as pd\n",
    "import numpy as np\n",
    "\n",
    "import matplotlib.pyplot as plt\n",
    "import seaborn as sns\n"
   ]
  },
  {
   "cell_type": "code",
   "execution_count": 37,
   "id": "9f7d0fc3-781d-4c0b-a0c8-e3a8305c56c1",
   "metadata": {},
   "outputs": [
    {
     "data": {
      "text/plain": [
       "8758"
      ]
     },
     "metadata": {},
     "output_type": "display_data"
    }
   ],
   "source": [
    "# Import TV2 dataset\n",
    "tv2 = pd.read_csv('articles_tv2.csv')\n",
    "display(len(tv2))"
   ]
  },
  {
   "cell_type": "markdown",
   "id": "73c12b2d",
   "metadata": {},
   "source": [
    "The raw dataset after scraping websites from links has 8758 observations. "
   ]
  },
  {
   "cell_type": "code",
   "execution_count": 6,
   "id": "085758e5",
   "metadata": {},
   "outputs": [],
   "source": [
    "# Delete rows that do not contain an article but noise from website infrastructure"
   ]
  },
  {
   "cell_type": "code",
   "execution_count": 46,
   "id": "a3f27234-38a8-46c5-b016-83c7d70d96ac",
   "metadata": {
    "scrolled": true,
    "tags": []
   },
   "outputs": [],
   "source": [
    "## Rows that stem from links to a search page. They have the title \"Søg på TV 2\" and can be deleted\n",
    "tv2 = tv2[tv2.titles != 'Søg på TV 2'].reset_index(drop = True)\n",
    "# After this step, 7416 observations remain\n",
    "# In the next step we drop all rows that do not contain values. These are sports artciles like this one: https://sport.tv2.dk/2012-02-26-sur-s%C3%B8d-fornemmelse-hos-kasper-hvidt\n",
    "tv2 = tv2.dropna(subset = ['content'])\n",
    "# After this step 6849 observations remain"
   ]
  },
  {
   "cell_type": "code",
   "execution_count": null,
   "id": "db9a8aa7",
   "metadata": {},
   "outputs": [],
   "source": []
  },
  {
   "cell_type": "code",
   "execution_count": 20,
   "id": "8b6692a1-8355-4878-a1e9-4d114efb2d48",
   "metadata": {},
   "outputs": [
    {
     "data": {
      "image/png": "[encoded data removed]",
      "text/plain": [
       "<Figure size 432x288 with 1 Axes>"
      ]
     },
     "metadata": {},
     "output_type": "display_data"
    }
   ],
   "source": [
    "tv2_tags=tv2.groupby([\"tag\"])[\"titles\"].transform(\"count\").reset_index(name=\"tag\")\n",
    "\n",
    "plt.style.use('ggplot')\n",
    "sns.set_style(\"whitegrid\")\n",
    "\n",
    "fig, ax = plt.subplots(nrows = 1, ncols = 1) # create placeholder for plot\n",
    "ax = sns.countplot(x = 'tag', data = tv2)"
   ]
  },
  {
   "cell_type": "code",
   "execution_count": 21,
   "id": "015492e5-3fe1-4c6c-aac5-3349f4e8344a",
   "metadata": {},
   "outputs": [
    {
     "data": {
      "text/html": [
       "<div>\n",
       "<style scoped>\n",
       "    .dataframe tbody tr th:only-of-type {\n",
       "        vertical-align: middle;\n",
       "    }\n",
       "\n",
       "    .dataframe tbody tr th {\n",
       "        vertical-align: top;\n",
       "    }\n",
       "\n",
       "    .dataframe thead th {\n",
       "        text-align: right;\n",
       "    }\n",
       "</style>\n",
       "<table border=\"1\" class=\"dataframe\">\n",
       "  <thead>\n",
       "    <tr style=\"text-align: right;\">\n",
       "      <th></th>\n",
       "      <th>index</th>\n",
       "      <th>tag</th>\n",
       "    </tr>\n",
       "  </thead>\n",
       "  <tbody>\n",
       "    <tr>\n",
       "      <th>0</th>\n",
       "      <td>0</td>\n",
       "      <td>945.0</td>\n",
       "    </tr>\n",
       "    <tr>\n",
       "      <th>1</th>\n",
       "      <td>1</td>\n",
       "      <td>362.0</td>\n",
       "    </tr>\n",
       "    <tr>\n",
       "      <th>2</th>\n",
       "      <td>2</td>\n",
       "      <td>1008.0</td>\n",
       "    </tr>\n",
       "    <tr>\n",
       "      <th>3</th>\n",
       "      <td>3</td>\n",
       "      <td>454.0</td>\n",
       "    </tr>\n",
       "    <tr>\n",
       "      <th>4</th>\n",
       "      <td>4</td>\n",
       "      <td>1008.0</td>\n",
       "    </tr>\n",
       "    <tr>\n",
       "      <th>...</th>\n",
       "      <td>...</td>\n",
       "      <td>...</td>\n",
       "    </tr>\n",
       "    <tr>\n",
       "      <th>7411</th>\n",
       "      <td>8752</td>\n",
       "      <td>559.0</td>\n",
       "    </tr>\n",
       "    <tr>\n",
       "      <th>7412</th>\n",
       "      <td>8753</td>\n",
       "      <td>1008.0</td>\n",
       "    </tr>\n",
       "    <tr>\n",
       "      <th>7413</th>\n",
       "      <td>8754</td>\n",
       "      <td>362.0</td>\n",
       "    </tr>\n",
       "    <tr>\n",
       "      <th>7414</th>\n",
       "      <td>8755</td>\n",
       "      <td>38.0</td>\n",
       "    </tr>\n",
       "    <tr>\n",
       "      <th>7415</th>\n",
       "      <td>8756</td>\n",
       "      <td>NaN</td>\n",
       "    </tr>\n",
       "  </tbody>\n",
       "</table>\n",
       "<p>7416 rows × 2 columns</p>\n",
       "</div>"
      ],
      "text/plain": [
       "      index     tag\n",
       "0         0   945.0\n",
       "1         1   362.0\n",
       "2         2  1008.0\n",
       "3         3   454.0\n",
       "4         4  1008.0\n",
       "...     ...     ...\n",
       "7411   8752   559.0\n",
       "7412   8753  1008.0\n",
       "7413   8754   362.0\n",
       "7414   8755    38.0\n",
       "7415   8756     NaN\n",
       "\n",
       "[7416 rows x 2 columns]"
      ]
     },
     "execution_count": 21,
     "metadata": {},
     "output_type": "execute_result"
    }
   ],
   "source": [
    "tv2_tags"
   ]
  },
  {
   "cell_type": "code",
   "execution_count": null,
   "id": "ce6c9c21-0421-4bd1-bc5a-21ed7617fbd9",
   "metadata": {},
   "outputs": [],
   "source": []
  }
 ],
 "metadata": {
  "kernelspec": {
   "display_name": "Python 3 (ipykernel)",
   "language": "python",
   "name": "python3"
  },
  "language_info": {
   "codemirror_mode": {
    "name": "ipython",
    "version": 3
   },
   "file_extension": ".py",
   "mimetype": "text/x-python",
   "name": "python",
   "nbconvert_exporter": "python",
   "pygments_lexer": "ipython3",
   "version": "3.9.7"
  }
 },
 "nbformat": 4,
 "nbformat_minor": 5
}
