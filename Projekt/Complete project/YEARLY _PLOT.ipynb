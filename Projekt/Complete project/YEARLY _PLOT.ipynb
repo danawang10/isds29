{
 "cells": [
  {
   "cell_type": "markdown",
   "id": "bf9010b3-2c9f-4bb8-8bf3-b40d8b69ffde",
   "metadata": {},
   "source": [
    "##### Per Year"
   ]
  },
  {
   "cell_type": "code",
   "execution_count": 139,
   "id": "b5697c7b-8987-426d-88de-20f5a89c0838",
   "metadata": {},
   "outputs": [],
   "source": [
    "# copying relevant dataset\n",
    "tv2_freq_df_year = tv2_freq_df.copy()\n",
    "dr_freq_df_year = dr_freq_df.copy()\n",
    "ft_freq_df_year = ft_freq_df.copy()"
   ]
  },
  {
   "cell_type": "code",
   "execution_count": 140,
   "id": "39bdaf17-1796-4205-b734-b44e38d800da",
   "metadata": {},
   "outputs": [],
   "source": [
    "# DR\n",
    "dr_freq_df_year = dr_freq_df_year[[\"Year\", \"At least twice\"]]\n",
    "dr_freq_df_year = dr_freq_df_year.groupby(\"Year\")[\"At least twice\"].sum()\n",
    "# TV2\n",
    "tv2_freq_df_year = tv2_freq_df_year[[\"Year\", \"At least twice\"]]\n",
    "tv2_freq_df_year = tv2_freq_df_year.groupby(\"Year\")[\"At least twice\"].sum()\n",
    "# Folketinget\n",
    "ft_freq_df_year = ft_freq_df_year[[\"Year\", \"At least twice\"]]\n",
    "ft_freq_df_year = ft_freq_df_year.groupby(\"Year\")[\"At least twice\"].sum()"
   ]
  },
  {
   "cell_type": "code",
   "execution_count": 142,
   "id": "93709206-5c47-4744-8195-746ad7be2228",
   "metadata": {},
   "outputs": [],
   "source": [
    "# Dropping 2022 because the year is not over yet\n",
    "# dr_freq_df_year = dr_freq_df_year.drop(\"2022\")\n",
    "tv2_freq_df_year = tv2_freq_df_year.drop(\"2022\")\n",
    "ft_freq_df_year = ft_freq_df_year.drop(\"2022\")"
   ]
  },
  {
   "cell_type": "code",
   "execution_count": 143,
   "id": "4a241e70-5976-4c93-bb3c-e7b94a877ac6",
   "metadata": {},
   "outputs": [],
   "source": [
    "dr_freq_df_year = pd.DataFrame(dr_freq_df_year)\n",
    "tv2_freq_df_year = pd.DataFrame(tv2_freq_df_year)\n",
    "ft_freq_df_year = pd.DataFrame(ft_freq_df_year)"
   ]
  },
  {
   "cell_type": "code",
   "execution_count": null,
   "id": "555d1787-2241-438b-902e-a5a81cef0605",
   "metadata": {
    "jp-MarkdownHeadingCollapsed": true,
    "tags": []
   },
   "outputs": [],
   "source": [
    "# Plotting yearly development\n",
    "fig, ax = plt.subplots(nrows=1, ncols=1, sharey=False, figsize=(20,10))\n",
    "\n",
    "sns.lineplot(x = 'Year', y = \"At least twice\", data = tv2_freq_df_year, color=\"red\", label=\"TV2\")\n",
    "sns.lineplot(x = 'Year', y = \"At least twice\", data = dr_freq_df_year, color=\"black\", label=\"DR\")\n",
    "sns.lineplot(x = 'Year', y = \"At least twice\", data = ft_freq_df_year, color=\"green\", label=\"FT\")\n",
    "\n",
    "plt.legend(fontsize=15)\n",
    "\n",
    "_ = plt.title (\"Number of DR and TV2 articles and Folketingets agenda items including search term 'sygeplej*' at least twice\", fontsize=15)\n",
    "_ = plt.ylabel(\"Number of documents\")\n",
    "\n",
    "plt.savefig(\"sygeplej_twice_yearly.jpg\")\n",
    "plt.show()"
   ]
  }
 ],
 "metadata": {
  "kernelspec": {
   "display_name": "Python 3 (ipykernel)",
   "language": "python",
   "name": "python3"
  },
  "language_info": {
   "codemirror_mode": {
    "name": "ipython",
    "version": 3
   },
   "file_extension": ".py",
   "mimetype": "text/x-python",
   "name": "python",
   "nbconvert_exporter": "python",
   "pygments_lexer": "ipython3",
   "version": "3.9.7"
  }
 },
 "nbformat": 4,
 "nbformat_minor": 5
}
