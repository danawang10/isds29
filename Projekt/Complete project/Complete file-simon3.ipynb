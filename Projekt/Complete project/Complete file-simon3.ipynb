{
 "cells": [
  {
   "cell_type": "markdown",
   "id": "62f18b47-2b01-4e26-bc78-9cfbf44f8bc4",
   "metadata": {},
   "source": [
    "# Analysis of usage of the term \"sygeplejersker\" in DR, TV2 and the danish parliament"
   ]
  },
  {
   "cell_type": "markdown",
   "id": "4f042807-e56d-49f5-8b70-cc2021484626",
   "metadata": {
    "jp-MarkdownHeadingCollapsed": true,
    "tags": []
   },
   "source": [
    "## Extract content of zip"
   ]
  },
  {
   "cell_type": "code",
   "execution_count": null,
   "id": "f9cee9ee-fbec-4155-a110-dfbf3ad42638",
   "metadata": {},
   "outputs": [],
   "source": []
  },
  {
   "cell_type": "markdown",
   "id": "3ebd9881-a42a-421c-9a7d-843f59faa8a7",
   "metadata": {
    "tags": []
   },
   "source": [
    "## Imports"
   ]
  },
  {
   "cell_type": "code",
   "execution_count": 2,
   "id": "b30278d2-007e-4853-af75-195303533cc4",
   "metadata": {},
   "outputs": [
    {
     "name": "stderr",
     "output_type": "stream",
     "text": [
      "[nltk_data] Downloading package punkt to\n",
      "[nltk_data]     C:\\Users\\jgb569\\AppData\\Roaming\\nltk_data...\n",
      "[nltk_data]   Package punkt is already up-to-date!\n"
     ]
    },
    {
     "data": {
      "text/plain": [
       "True"
      ]
     },
     "execution_count": 2,
     "metadata": {},
     "output_type": "execute_result"
    }
   ],
   "source": [
    "import pandas as pd\n",
    "import numpy as np\n",
    "import csv\n",
    "import re\n",
    "import time\n",
    "import tqdm\n",
    "import zipfile\n",
    "from datetime import datetime\n",
    "import warnings\n",
    "warnings.simplefilter(action='ignore',category=FutureWarning)\n",
    "import itertools\n",
    "\n",
    "# Plotting\n",
    "import seaborn as sns\n",
    "import matplotlib.pyplot as plt\n",
    "\n",
    "# Selenium\n",
    "from selenium import webdriver\n",
    "from webdriver_manager.chrome import ChromeDriverManager\n",
    "from selenium.webdriver.chrome.service import Service\n",
    "from selenium.webdriver.common.by import By\n",
    "from selenium.webdriver.common.keys import Keys\n",
    "\n",
    "# Scraping\n",
    "import requests\n",
    "from bs4 import BeautifulSoup as bs\n",
    "import os\n",
    "import lxml\n",
    "from lxml import objectify\n",
    "import ftplib\n",
    "from io import BytesIO\n",
    "\n",
    "#Text processing\n",
    "from nltk.stem import SnowballStemmer\n",
    "import nltk\n",
    "from sklearn.feature_extraction.text import CountVectorizer\n",
    "from nltk.corpus import stopwords\n",
    "from wordcloud import WordCloud\n",
    "from sklearn.feature_extraction.text import TfidfTransformer\n",
    "from PIL import Image\n",
    "nltk.download(\"punkt\")"
   ]
  },
  {
   "cell_type": "markdown",
   "id": "ecf08614-0d45-4cf2-b599-78f0e4da3f2c",
   "metadata": {},
   "source": [
    "> NOTE: The following code must be run on a computer with danish language as google behaves differently based on the computers language settings"
   ]
  },
  {
   "cell_type": "markdown",
   "id": "dfd9472f-f8af-4213-b601-9d23ec45c8e7",
   "metadata": {
    "tags": []
   },
   "source": [
    "#### 1:  Generate search terms\n",
    "\n",
    "Search terms follow the following format: We search for the month and year in the format DR articles inclue a timestap. Manual Google searches proved to provide relevant research results mostly limited to the month provided. In this way we create a list of links to DR articles. All articles are located on the site https://www.dr.dk/nyheder or a subsite. This can be included in the google search. An example of a search is: jan. 2012\" AND \"sygeplejersker*\" site:https://www.dr.dk/nyheder."
   ]
  },
  {
   "cell_type": "code",
   "execution_count": 3,
   "id": "fbddb6dd-1a86-4b77-bbfd-7856ae2a4ad9",
   "metadata": {},
   "outputs": [],
   "source": [
    "# Generate empty list with search terms\n",
    "search_terms = []\n",
    "# Generate combinations of year-month and term search combinations\n",
    "for year in range(2012, 2023):\n",
    "    months = ['jan.', 'feb.', 'mar.', 'apr.', 'maj', 'jun.', 'jul.', 'aug.', 'sep.', 'okt.', 'nov.', 'dec.']\n",
    "    for month in months:\n",
    "        term = f'\"{month} {year}\" AND \"sygeplejersker*\" site:https://www.dr.dk/nyheder/ \\n'\n",
    "        search_terms.append(term)\n",
    "# Create final list of search terms, future month-year combinations deleted\n",
    "search_terms = search_terms[:-4]\n"
   ]
  },
  {
   "cell_type": "markdown",
   "id": "90939c22-d9d1-4d10-96fa-8d8581813121",
   "metadata": {},
   "source": [
    "We create a total of 124 search terms, for all month-year combinations between January 2012 and August 2022."
   ]
  },
  {
   "cell_type": "markdown",
   "id": "072e3ab8-6639-4f7e-93f9-9f391a2acce2",
   "metadata": {
    "tags": []
   },
   "source": [
    "#### 2a: Scraping Google search to retrieve list of links to DR articles\n",
    "With the following code we scrape Google searches to retrieve a list of links to DR articles, given the DR website does not provide a useful search function. We use Selenium to go execute a Google search and retrieve DR article links. We execute the search, save the HTML for the first results page and then go to further pages of the search results to retrieve more search resutls. Google intervenes when scaping search results too fast. We therefore integrate a break when moving between pages. The break time takes random values between 0.25 and 3.5 seconds."
   ]
  },
  {
   "cell_type": "markdown",
   "id": "ce89324d-fc3a-484e-aa46-7cdc6e9f3ca5",
   "metadata": {
    "jp-MarkdownHeadingCollapsed": true,
    "tags": []
   },
   "source": [
    "Scraping the first three search pages:"
   ]
  },
  {
   "cell_type": "code",
   "execution_count": 4,
   "id": "b7e90353-f00c-4fcc-9974-03d9dcca753f",
   "metadata": {
    "scrolled": true,
    "tags": []
   },
   "outputs": [
    {
     "name": "stderr",
     "output_type": "stream",
     "text": [
      "[WDM] - Downloading: 100%|██████████| 6.21M/6.21M [00:00<00:00, 14.5MB/s]\n",
      "C:\\Users\\jgb569\\AppData\\Local\\Temp/ipykernel_2448/3444555280.py:1: DeprecationWarning: executable_path has been deprecated, please pass in a Service object\n",
      "  driver = webdriver.Chrome(ChromeDriverManager().install())\n",
      "100%|██████████| 1/1 [00:39<00:00, 39.03s/it]\n"
     ]
    }
   ],
   "source": [
    "driver = webdriver.Chrome(ChromeDriverManager().install())\n",
    "html_list = []\n",
    "finished_searches = 0\n",
    "\n",
    "for i in tqdm.tqdm(search_terms[0:1]):\n",
    "    # Go to google\n",
    "    driver.get('https:google.com')\n",
    "    # Discard cookie message, reject cookies\n",
    "    cookie = driver.find_element(By.ID, \"W0wltc\")\n",
    "    cookie.click()\n",
    "    # Search for DR news articles\n",
    "    gsearch = driver.find_element(By.CSS_SELECTOR, \"input[title='Søg']\")\n",
    "    gsearch.send_keys(i)\n",
    "    # Get HTML for first search result page\n",
    "    html = driver.page_source\n",
    "    html_list.append(html)\n",
    "    # Go to next result page\n",
    "    next_page = driver.find_element(By.CSS_SELECTOR, \".NVbCr+ span\") #CSS selector only last not previous page\n",
    "    next_page.click()\n",
    "    # Define an error used when reaching last search page:\n",
    "        # When error = 0, there is another resut page.\n",
    "        # When error = 1, there is no further page on Google, loop stops.\n",
    "    error = 0\n",
    "    page = 1\n",
    "    for page in range(0,1): #Iterates over 3 Pages in total\n",
    "        try:\n",
    "            html2 = driver.page_source\n",
    "            html_list.append(html2)\n",
    "            # Google detects suspicious behavior and asks to solve some puzzle after 7 iterations. Trying random sleep time and scrolling down to element.\n",
    "            time.sleep(np.random.uniform(10, 15))\n",
    "            # Go to next result page\n",
    "            next_page = driver.find_element(By.CSS_SELECTOR, \"#pnnext .NVbCr+ span\") #CSS selector only last not previous page\n",
    "            next_page.click()\n",
    "            page += 1\n",
    "        except:\n",
    "            error += 1\n",
    "    finished_searches += 1\n",
    "    time.sleep(np.random.uniform(5,10))\n",
    "    driver.quit()"
   ]
  },
  {
   "cell_type": "markdown",
   "id": "6d2e5b25-4204-4c6c-aaf3-2e2756b781f5",
   "metadata": {
    "jp-MarkdownHeadingCollapsed": true,
    "tags": []
   },
   "source": [
    "#### 2b: Scraping number of google results for search terms"
   ]
  },
  {
   "cell_type": "code",
   "execution_count": 5,
   "id": "0c18dc0d-9dff-4a1c-8560-c527fc69b995",
   "metadata": {},
   "outputs": [
    {
     "name": "stderr",
     "output_type": "stream",
     "text": [
      "  0%|          | 0/1 [00:00<?, ?it/s]C:\\Users\\jgb569\\AppData\\Local\\Temp/ipykernel_2448/952643850.py:4: DeprecationWarning: executable_path has been deprecated, please pass in a Service object\n",
      "  driver = webdriver.Chrome(ChromeDriverManager())\n",
      "  0%|          | 0/1 [00:00<?, ?it/s]\n"
     ]
    },
    {
     "ename": "TypeError",
     "evalue": "expected str, bytes or os.PathLike object, not ChromeDriverManager",
     "output_type": "error",
     "traceback": [
      "\u001b[1;31m---------------------------------------------------------------------------\u001b[0m",
      "\u001b[1;31mTypeError\u001b[0m                                 Traceback (most recent call last)",
      "\u001b[1;32m~\\AppData\\Local\\Temp/ipykernel_2448/952643850.py\u001b[0m in \u001b[0;36m<module>\u001b[1;34m\u001b[0m\n\u001b[0;32m      2\u001b[0m \u001b[1;33m\u001b[0m\u001b[0m\n\u001b[0;32m      3\u001b[0m \u001b[1;32mfor\u001b[0m \u001b[0msearch_term\u001b[0m \u001b[1;32min\u001b[0m \u001b[0mtqdm\u001b[0m\u001b[1;33m.\u001b[0m\u001b[0mtqdm\u001b[0m\u001b[1;33m(\u001b[0m\u001b[0msearch_terms\u001b[0m\u001b[1;33m[\u001b[0m\u001b[1;36m0\u001b[0m\u001b[1;33m:\u001b[0m\u001b[1;36m1\u001b[0m\u001b[1;33m]\u001b[0m\u001b[1;33m)\u001b[0m\u001b[1;33m:\u001b[0m\u001b[1;33m\u001b[0m\u001b[1;33m\u001b[0m\u001b[0m\n\u001b[1;32m----> 4\u001b[1;33m     \u001b[0mdriver\u001b[0m \u001b[1;33m=\u001b[0m \u001b[0mwebdriver\u001b[0m\u001b[1;33m.\u001b[0m\u001b[0mChrome\u001b[0m\u001b[1;33m(\u001b[0m\u001b[0mChromeDriverManager\u001b[0m\u001b[1;33m(\u001b[0m\u001b[1;33m)\u001b[0m\u001b[1;33m)\u001b[0m\u001b[1;33m\u001b[0m\u001b[1;33m\u001b[0m\u001b[0m\n\u001b[0m\u001b[0;32m      5\u001b[0m     \u001b[1;31m# Go to google\u001b[0m\u001b[1;33m\u001b[0m\u001b[1;33m\u001b[0m\u001b[0m\n\u001b[0;32m      6\u001b[0m     \u001b[0mdriver\u001b[0m\u001b[1;33m.\u001b[0m\u001b[0mget\u001b[0m\u001b[1;33m(\u001b[0m\u001b[1;34m'https:google.com'\u001b[0m\u001b[1;33m)\u001b[0m\u001b[1;33m\u001b[0m\u001b[1;33m\u001b[0m\u001b[0m\n",
      "\u001b[1;32m~\\Anaconda3\\lib\\site-packages\\selenium\\webdriver\\chrome\\webdriver.py\u001b[0m in \u001b[0;36m__init__\u001b[1;34m(self, executable_path, port, options, service_args, desired_capabilities, service_log_path, chrome_options, service, keep_alive)\u001b[0m\n\u001b[0;32m     67\u001b[0m             \u001b[0mservice\u001b[0m \u001b[1;33m=\u001b[0m \u001b[0mService\u001b[0m\u001b[1;33m(\u001b[0m\u001b[0mexecutable_path\u001b[0m\u001b[1;33m,\u001b[0m \u001b[0mport\u001b[0m\u001b[1;33m,\u001b[0m \u001b[0mservice_args\u001b[0m\u001b[1;33m,\u001b[0m \u001b[0mservice_log_path\u001b[0m\u001b[1;33m)\u001b[0m\u001b[1;33m\u001b[0m\u001b[1;33m\u001b[0m\u001b[0m\n\u001b[0;32m     68\u001b[0m \u001b[1;33m\u001b[0m\u001b[0m\n\u001b[1;32m---> 69\u001b[1;33m         super().__init__(DesiredCapabilities.CHROME['browserName'], \"goog\",\n\u001b[0m\u001b[0;32m     70\u001b[0m                          \u001b[0mport\u001b[0m\u001b[1;33m,\u001b[0m \u001b[0moptions\u001b[0m\u001b[1;33m,\u001b[0m\u001b[1;33m\u001b[0m\u001b[1;33m\u001b[0m\u001b[0m\n\u001b[0;32m     71\u001b[0m                          \u001b[0mservice_args\u001b[0m\u001b[1;33m,\u001b[0m \u001b[0mdesired_capabilities\u001b[0m\u001b[1;33m,\u001b[0m\u001b[1;33m\u001b[0m\u001b[1;33m\u001b[0m\u001b[0m\n",
      "\u001b[1;32m~\\Anaconda3\\lib\\site-packages\\selenium\\webdriver\\chromium\\webdriver.py\u001b[0m in \u001b[0;36m__init__\u001b[1;34m(self, browser_name, vendor_prefix, port, options, service_args, desired_capabilities, service_log_path, service, keep_alive)\u001b[0m\n\u001b[0;32m     87\u001b[0m \u001b[1;33m\u001b[0m\u001b[0m\n\u001b[0;32m     88\u001b[0m         \u001b[0mself\u001b[0m\u001b[1;33m.\u001b[0m\u001b[0mservice\u001b[0m \u001b[1;33m=\u001b[0m \u001b[0mservice\u001b[0m\u001b[1;33m\u001b[0m\u001b[1;33m\u001b[0m\u001b[0m\n\u001b[1;32m---> 89\u001b[1;33m         \u001b[0mself\u001b[0m\u001b[1;33m.\u001b[0m\u001b[0mservice\u001b[0m\u001b[1;33m.\u001b[0m\u001b[0mstart\u001b[0m\u001b[1;33m(\u001b[0m\u001b[1;33m)\u001b[0m\u001b[1;33m\u001b[0m\u001b[1;33m\u001b[0m\u001b[0m\n\u001b[0m\u001b[0;32m     90\u001b[0m \u001b[1;33m\u001b[0m\u001b[0m\n\u001b[0;32m     91\u001b[0m         \u001b[1;32mtry\u001b[0m\u001b[1;33m:\u001b[0m\u001b[1;33m\u001b[0m\u001b[1;33m\u001b[0m\u001b[0m\n",
      "\u001b[1;32m~\\Anaconda3\\lib\\site-packages\\selenium\\webdriver\\common\\service.py\u001b[0m in \u001b[0;36mstart\u001b[1;34m(self)\u001b[0m\n\u001b[0;32m     69\u001b[0m             \u001b[0mcmd\u001b[0m \u001b[1;33m=\u001b[0m \u001b[1;33m[\u001b[0m\u001b[0mself\u001b[0m\u001b[1;33m.\u001b[0m\u001b[0mpath\u001b[0m\u001b[1;33m]\u001b[0m\u001b[1;33m\u001b[0m\u001b[1;33m\u001b[0m\u001b[0m\n\u001b[0;32m     70\u001b[0m             \u001b[0mcmd\u001b[0m\u001b[1;33m.\u001b[0m\u001b[0mextend\u001b[0m\u001b[1;33m(\u001b[0m\u001b[0mself\u001b[0m\u001b[1;33m.\u001b[0m\u001b[0mcommand_line_args\u001b[0m\u001b[1;33m(\u001b[0m\u001b[1;33m)\u001b[0m\u001b[1;33m)\u001b[0m\u001b[1;33m\u001b[0m\u001b[1;33m\u001b[0m\u001b[0m\n\u001b[1;32m---> 71\u001b[1;33m             self.process = subprocess.Popen(cmd, env=self.env,\n\u001b[0m\u001b[0;32m     72\u001b[0m                                             \u001b[0mclose_fds\u001b[0m\u001b[1;33m=\u001b[0m\u001b[0msystem\u001b[0m\u001b[1;33m(\u001b[0m\u001b[1;33m)\u001b[0m \u001b[1;33m!=\u001b[0m \u001b[1;34m'Windows'\u001b[0m\u001b[1;33m,\u001b[0m\u001b[1;33m\u001b[0m\u001b[1;33m\u001b[0m\u001b[0m\n\u001b[0;32m     73\u001b[0m                                             \u001b[0mstdout\u001b[0m\u001b[1;33m=\u001b[0m\u001b[0mself\u001b[0m\u001b[1;33m.\u001b[0m\u001b[0mlog_file\u001b[0m\u001b[1;33m,\u001b[0m\u001b[1;33m\u001b[0m\u001b[1;33m\u001b[0m\u001b[0m\n",
      "\u001b[1;32m~\\Anaconda3\\lib\\subprocess.py\u001b[0m in \u001b[0;36m__init__\u001b[1;34m(self, args, bufsize, executable, stdin, stdout, stderr, preexec_fn, close_fds, shell, cwd, env, universal_newlines, startupinfo, creationflags, restore_signals, start_new_session, pass_fds, user, group, extra_groups, encoding, errors, text, umask)\u001b[0m\n\u001b[0;32m    949\u001b[0m                             encoding=encoding, errors=errors)\n\u001b[0;32m    950\u001b[0m \u001b[1;33m\u001b[0m\u001b[0m\n\u001b[1;32m--> 951\u001b[1;33m             self._execute_child(args, executable, preexec_fn, close_fds,\n\u001b[0m\u001b[0;32m    952\u001b[0m                                 \u001b[0mpass_fds\u001b[0m\u001b[1;33m,\u001b[0m \u001b[0mcwd\u001b[0m\u001b[1;33m,\u001b[0m \u001b[0menv\u001b[0m\u001b[1;33m,\u001b[0m\u001b[1;33m\u001b[0m\u001b[1;33m\u001b[0m\u001b[0m\n\u001b[0;32m    953\u001b[0m                                 \u001b[0mstartupinfo\u001b[0m\u001b[1;33m,\u001b[0m \u001b[0mcreationflags\u001b[0m\u001b[1;33m,\u001b[0m \u001b[0mshell\u001b[0m\u001b[1;33m,\u001b[0m\u001b[1;33m\u001b[0m\u001b[1;33m\u001b[0m\u001b[0m\n",
      "\u001b[1;32m~\\Anaconda3\\lib\\subprocess.py\u001b[0m in \u001b[0;36m_execute_child\u001b[1;34m(self, args, executable, preexec_fn, close_fds, pass_fds, cwd, env, startupinfo, creationflags, shell, p2cread, p2cwrite, c2pread, c2pwrite, errread, errwrite, unused_restore_signals, unused_gid, unused_gids, unused_uid, unused_umask, unused_start_new_session)\u001b[0m\n\u001b[0;32m   1358\u001b[0m                 \u001b[0margs\u001b[0m \u001b[1;33m=\u001b[0m \u001b[0mlist2cmdline\u001b[0m\u001b[1;33m(\u001b[0m\u001b[1;33m[\u001b[0m\u001b[0margs\u001b[0m\u001b[1;33m]\u001b[0m\u001b[1;33m)\u001b[0m\u001b[1;33m\u001b[0m\u001b[1;33m\u001b[0m\u001b[0m\n\u001b[0;32m   1359\u001b[0m             \u001b[1;32melse\u001b[0m\u001b[1;33m:\u001b[0m\u001b[1;33m\u001b[0m\u001b[1;33m\u001b[0m\u001b[0m\n\u001b[1;32m-> 1360\u001b[1;33m                 \u001b[0margs\u001b[0m \u001b[1;33m=\u001b[0m \u001b[0mlist2cmdline\u001b[0m\u001b[1;33m(\u001b[0m\u001b[0margs\u001b[0m\u001b[1;33m)\u001b[0m\u001b[1;33m\u001b[0m\u001b[1;33m\u001b[0m\u001b[0m\n\u001b[0m\u001b[0;32m   1361\u001b[0m \u001b[1;33m\u001b[0m\u001b[0m\n\u001b[0;32m   1362\u001b[0m             \u001b[1;32mif\u001b[0m \u001b[0mexecutable\u001b[0m \u001b[1;32mis\u001b[0m \u001b[1;32mnot\u001b[0m \u001b[1;32mNone\u001b[0m\u001b[1;33m:\u001b[0m\u001b[1;33m\u001b[0m\u001b[1;33m\u001b[0m\u001b[0m\n",
      "\u001b[1;32m~\\Anaconda3\\lib\\subprocess.py\u001b[0m in \u001b[0;36mlist2cmdline\u001b[1;34m(seq)\u001b[0m\n\u001b[0;32m    563\u001b[0m     \u001b[0mresult\u001b[0m \u001b[1;33m=\u001b[0m \u001b[1;33m[\u001b[0m\u001b[1;33m]\u001b[0m\u001b[1;33m\u001b[0m\u001b[1;33m\u001b[0m\u001b[0m\n\u001b[0;32m    564\u001b[0m     \u001b[0mneedquote\u001b[0m \u001b[1;33m=\u001b[0m \u001b[1;32mFalse\u001b[0m\u001b[1;33m\u001b[0m\u001b[1;33m\u001b[0m\u001b[0m\n\u001b[1;32m--> 565\u001b[1;33m     \u001b[1;32mfor\u001b[0m \u001b[0marg\u001b[0m \u001b[1;32min\u001b[0m \u001b[0mmap\u001b[0m\u001b[1;33m(\u001b[0m\u001b[0mos\u001b[0m\u001b[1;33m.\u001b[0m\u001b[0mfsdecode\u001b[0m\u001b[1;33m,\u001b[0m \u001b[0mseq\u001b[0m\u001b[1;33m)\u001b[0m\u001b[1;33m:\u001b[0m\u001b[1;33m\u001b[0m\u001b[1;33m\u001b[0m\u001b[0m\n\u001b[0m\u001b[0;32m    566\u001b[0m         \u001b[0mbs_buf\u001b[0m \u001b[1;33m=\u001b[0m \u001b[1;33m[\u001b[0m\u001b[1;33m]\u001b[0m\u001b[1;33m\u001b[0m\u001b[1;33m\u001b[0m\u001b[0m\n\u001b[0;32m    567\u001b[0m \u001b[1;33m\u001b[0m\u001b[0m\n",
      "\u001b[1;32m~\\Anaconda3\\lib\\os.py\u001b[0m in \u001b[0;36mfsdecode\u001b[1;34m(filename)\u001b[0m\n\u001b[0;32m    820\u001b[0m         \u001b[1;34m'mbcs'\u001b[0m \u001b[1;33m(\u001b[0m\u001b[0mwhich\u001b[0m \u001b[1;32mis\u001b[0m \u001b[0mthe\u001b[0m \u001b[0mdefault\u001b[0m \u001b[0mencoding\u001b[0m\u001b[1;33m)\u001b[0m\u001b[1;33m.\u001b[0m\u001b[1;33m\u001b[0m\u001b[1;33m\u001b[0m\u001b[0m\n\u001b[0;32m    821\u001b[0m         \"\"\"\n\u001b[1;32m--> 822\u001b[1;33m         \u001b[0mfilename\u001b[0m \u001b[1;33m=\u001b[0m \u001b[0mfspath\u001b[0m\u001b[1;33m(\u001b[0m\u001b[0mfilename\u001b[0m\u001b[1;33m)\u001b[0m  \u001b[1;31m# Does type-checking of `filename`.\u001b[0m\u001b[1;33m\u001b[0m\u001b[1;33m\u001b[0m\u001b[0m\n\u001b[0m\u001b[0;32m    823\u001b[0m         \u001b[1;32mif\u001b[0m \u001b[0misinstance\u001b[0m\u001b[1;33m(\u001b[0m\u001b[0mfilename\u001b[0m\u001b[1;33m,\u001b[0m \u001b[0mbytes\u001b[0m\u001b[1;33m)\u001b[0m\u001b[1;33m:\u001b[0m\u001b[1;33m\u001b[0m\u001b[1;33m\u001b[0m\u001b[0m\n\u001b[0;32m    824\u001b[0m             \u001b[1;32mreturn\u001b[0m \u001b[0mfilename\u001b[0m\u001b[1;33m.\u001b[0m\u001b[0mdecode\u001b[0m\u001b[1;33m(\u001b[0m\u001b[0mencoding\u001b[0m\u001b[1;33m,\u001b[0m \u001b[0merrors\u001b[0m\u001b[1;33m)\u001b[0m\u001b[1;33m\u001b[0m\u001b[1;33m\u001b[0m\u001b[0m\n",
      "\u001b[1;31mTypeError\u001b[0m: expected str, bytes or os.PathLike object, not ChromeDriverManager"
     ]
    }
   ],
   "source": [
    "num_search_results = []\n",
    "\n",
    "for search_term in tqdm.tqdm(search_terms[0:1]):\n",
    "    driver = webdriver.Chrome(ChromeDriverManager())\n",
    "    # Go to google\n",
    "    driver.get('https:google.com')\n",
    "    # Discard cookie message, reject cookies\n",
    "    cookie = driver.find_element(By.ID, \"W0wltc\")\n",
    "    cookie.click()\n",
    "    # Search for DR news articles\n",
    "    gsearch = driver.find_element(By.CSS_SELECTOR, \"input[title='Søg']\")\n",
    "    gsearch.send_keys(search_term)\n",
    "    # Get HTML for first search result page\n",
    "    num_results = driver.find_element(By.ID, \"result-stats\")\n",
    "    num_search_results.append(num_results.text)\n",
    "    time.sleep(np.random.uniform(0.25,1))\n",
    "    driver.quit()"
   ]
  },
  {
   "cell_type": "code",
   "execution_count": null,
   "id": "e18fed98-32f2-4d57-8e93-ddda8d7dad2f",
   "metadata": {},
   "outputs": [],
   "source": [
    "# Create list of search result counts\n",
    "num_search_results_clean = []\n",
    "for result in num_search_results:\n",
    "    number_only = result[3:10]\n",
    "    number_only = number_only.strip()\n",
    "    number_only = re.sub('\\D+', '', number_only)\n",
    "    num_search_results_clean.append(number_only)"
   ]
  },
  {
   "cell_type": "code",
   "execution_count": null,
   "id": "938652d6-9c7c-4a1f-ba8c-68fff582229a",
   "metadata": {},
   "outputs": [],
   "source": [
    "# Change to integer\n",
    "list_search_results = [int(search) for search in num_search_results_clean]"
   ]
  },
  {
   "cell_type": "code",
   "execution_count": null,
   "id": "f7477163-8853-4031-8af1-254782630a73",
   "metadata": {},
   "outputs": [],
   "source": [
    "# Creating a pd.DataFrame from search result count\n",
    "list_search_results_df = pd.DataFrame({'Month': list_search_results}) # 'MONTH' SHOULD BE 'SEARCH_RESULTS'!"
   ]
  },
  {
   "cell_type": "code",
   "execution_count": null,
   "id": "59909ef6-6518-4f56-b8d5-53b15faeb93a",
   "metadata": {},
   "outputs": [],
   "source": [
    "# Export \n",
    "list_search_results_df.to_csv(\"dr_google_search_results_sample.csv\")"
   ]
  },
  {
   "cell_type": "markdown",
   "id": "0caac0f3-91b1-4ae5-80cd-5bbb818ddd10",
   "metadata": {
    "jp-MarkdownHeadingCollapsed": true,
    "tags": []
   },
   "source": [
    "#### 3: Create link list"
   ]
  },
  {
   "cell_type": "code",
   "execution_count": null,
   "id": "e53828fb-66d5-4a11-a00a-ed503001207e",
   "metadata": {},
   "outputs": [],
   "source": [
    "# Preparing two empty lists\n",
    "link_list = []\n",
    "link_list_clean = []\n",
    "# Iterating over the results from scraping\n",
    "for l in html_list:\n",
    "    soup = bs(l, 'lxml')\n",
    "    try: \n",
    "        links = soup.find('div', class_ = 'v7W49e').find_all('a', href=True)\n",
    "    except:\n",
    "        pass\n",
    "    # Generate list with all links\n",
    "    for i in links:\n",
    "        temp = i['href']\n",
    "        link_list.append(temp)\n",
    "    # Getting rid of noise, links not pointing to DR but Google infrastructure\n",
    "    for link in link_list:\n",
    "        if \"webcache.googleusercontent\" not in link:\n",
    "            link_list_clean.append(link)"
   ]
  },
  {
   "cell_type": "markdown",
   "id": "7da5cdc6-5958-4f3c-b6a4-e081ca572c36",
   "metadata": {
    "tags": []
   },
   "source": [
    "#### 4: From list to DataFrame"
   ]
  },
  {
   "cell_type": "code",
   "execution_count": null,
   "id": "8f3dd3ce-727a-4928-a22c-cd08cd59a45e",
   "metadata": {},
   "outputs": [],
   "source": [
    "# Creating a pd.DataFrame from link_list_clean\n",
    "dr_links = pd.DataFrame({'links':link_list_clean})\n",
    "# For some reason, there are many duplicates included, drop them\n",
    "dr_links = dr_links.drop_duplicates(subset = 'links')"
   ]
  },
  {
   "cell_type": "code",
   "execution_count": null,
   "id": "bb88e6ec-b466-4512-947d-18c7c806caea",
   "metadata": {},
   "outputs": [],
   "source": [
    "# Defining empty list for features\n",
    "dr_titles_list = []\n",
    "dr_h2_list = []\n",
    "dr_date = []\n",
    "dr_content_list = []\n",
    "dr_author_list = []\n",
    "dr_subhead_list = []\n",
    "dr_tag_list = []\n",
    "\n",
    "# Looping over links to retrieve HTMLs and extract relevant information from webpages\n",
    "for u in tqdm.tqdm(dr_links[\"links\"]):\n",
    "    re = requests.get(u, headers = {\"Name\" : \"Simon Ullrich - summer course project\" , \"email\": \"simon.ullrich@sodas.ku.dk\"})\n",
    "    soup = bs(re.content, \"lxml\")\n",
    "    # Extracting article titles\n",
    "    try:\n",
    "        title = soup.find(\"div\", class_ = \"dre-speech\")\n",
    "        dr_titles_list.append(title.text)\n",
    "    except:\n",
    "        dr_titles_list.append(\"\")\n",
    "    # Extracting date of publication\n",
    "    try:\n",
    "        try:\n",
    "            date = soup.find(\"time\", class_ = \"dre-byline__date\")['datetime']\n",
    "            dr_date.append(date)\n",
    "        # Some websites are of another type. Date of publication located elsewhere on the website\n",
    "        except:\n",
    "            # Different website type: e.g. https://www.dr.dk/nyheder/da-lille-rikke-loeb-ind-i-margrethe\n",
    "            date = soup.find(\"div\", class_ = \"hydra-latest-news-page-short-news__top\").find(\"span\", class_ = \"dre-label-text__text\")\n",
    "            dr_date.append(pd.to_datetime(date.text))\n",
    "    except:\n",
    "        dr_date.append(\"\")\n",
    "    # Extracting author of articles\n",
    "    try:\n",
    "        author = soup.find(\"div\", class_ = \"dre-byline__contribution-details\")\n",
    "        dr_author_list.append(author.text)\n",
    "    except:\n",
    "        dr_author_list.append(\"\")\n",
    "    # Extracting subheaders\n",
    "    try:\n",
    "        subheader = soup.find(\"p\", class_ = \"dre-article-title__summary\")\n",
    "        dr_subhead_list.append(subheader.text)\n",
    "    except:\n",
    "        dr_subhead_list.append(\"\")\n",
    "    # Extracting article bodies\n",
    "    try:\n",
    "        # try:\n",
    "        dr_content_i_list = []\n",
    "        dr_content = soup.find_all(\"p\", class_ = \"dre-article-body-paragraph dre-variables\")\n",
    "        for i in dr_content:\n",
    "            dr_content_i_list.append(i.text)\n",
    "        dr_content_str = \" \".join(dr_content_i_list)\n",
    "        dr_content_list.append(dr_content_str)\n",
    "        # except:\n",
    "            # dr_content_i_list = []\n",
    "            # dr_content = soup.find(\"div\", class_ = \"hydra-latest-news-page-short-news__body\")\n",
    "            # for i in dr_content:\n",
    "                # dr_content_i_list.append(i)\n",
    "                # dr_content_str = \" \".join(dr_content_i_list)\n",
    "            # dr_content_list.append(dr_content_str)\n",
    "    except:\n",
    "        dr_content_list.append(\"\")\n",
    "    # Extracting second headlines\n",
    "    try:\n",
    "        dr_h2 = soup.find_all(\"h2\", class_ = \"dre-article-body-sub-heading dre-variables\")\n",
    "        dr_h2_i_list = []\n",
    "        for i in dr_h2:\n",
    "            dr_h2_i = i.get_text()\n",
    "            dr_h2_i_list.append(dr_h2_i)\n",
    "        dr_h2_str = \" \".join(dr_h2_i_list)\n",
    "        dr_h2_list.append(dr_h2_str)\n",
    "    except:\n",
    "        dr_h2_list.append(\"\")\n",
    "    # Extracting article tags\n",
    "    try:\n",
    "        dr_tag = soup.find(\"a\", class_ = \"dre-article-title-section-label__title dre-article-title-section-label__title--link\")\n",
    "        dr_tag_list.append(dr_tag.text)\n",
    "    except:\n",
    "        dr_tag_list.append(\"\")"
   ]
  },
  {
   "cell_type": "code",
   "execution_count": null,
   "id": "153ae774-4d0b-48a1-9b0d-3a8ef8082da9",
   "metadata": {},
   "outputs": [],
   "source": [
    "### Combine lists to DataFrame\n",
    "dr_articles_sample=pd.DataFrame([dr_titles_list, dr_subhead_list, dr_h2_list, dr_content_list, dr_author_list, dr_tag_list, dr_date, link_list_clean[\"links\"]]).transpose()\n",
    "dr_articles_sample.columns=[\"titles\", \"sub_header\", \"h2\", \"content\", \"author\", \"tag\", \"date\", \"link\"]\n",
    "dr_articles_sample[\"source\"] = \"DR\"\n",
    "\n",
    "display(dr_articles_test)"
   ]
  },
  {
   "cell_type": "markdown",
   "id": "e814eb19-8e58-4a64-8e52-6f369c44d825",
   "metadata": {
    "tags": []
   },
   "source": [
    "#### 5: Save sample dataset and load complete dataset"
   ]
  },
  {
   "cell_type": "code",
   "execution_count": null,
   "id": "a53bdb3f-943b-4c29-84a9-15c9c09ff07b",
   "metadata": {},
   "outputs": [],
   "source": [
    "### Save dataset\n",
    "dr_articles_sample.to_csv(\"dr_articles_sample.csv\", index = False)"
   ]
  },
  {
   "cell_type": "markdown",
   "id": "df696bac-33e2-4cb9-941f-914d738d798b",
   "metadata": {
    "jp-MarkdownHeadingCollapsed": true,
    "tags": []
   },
   "source": [
    "#### 1:  Generate search terms"
   ]
  },
  {
   "cell_type": "code",
   "execution_count": null,
   "id": "1a577362-4312-49ef-84df-1141596390c2",
   "metadata": {},
   "outputs": [],
   "source": [
    "links=[]\n",
    "for year in range(2012, 2023, 1):\n",
    "    year=f\"https://search.tv2.dk/?query=sygeplejersker+{year}\"\n",
    "    \n",
    "    for month in range(1,10,1): #Måned 1-9\n",
    "        search_month=f\"-0{month}&sort=relevance&page=\"\n",
    "        \n",
    "        for page in range(1,11,1): # (start, stop, step)\n",
    "            url = year+search_month+f\"{page}\"\n",
    "            links.append(url)\n",
    "    \n",
    "    for month in range(10, 13): #måned 10-12\n",
    "        search_month=f\"-{month}&sort=relevance&page=\"\n",
    "        \n",
    "        for page in range(1,11,1): # (start, stop, step)\n",
    "            url = year+search_month+f\"{page}\"\n",
    "            links.append(url)"
   ]
  },
  {
   "cell_type": "code",
   "execution_count": null,
   "id": "5d127176-ac6e-4ff7-a8b5-7b2bf0fa3af3",
   "metadata": {},
   "outputs": [],
   "source": [
    "tv2_article_list=pd.DataFrame(links)\n",
    "tv2_article_list.to_csv(\"tv2_links_to_articles.csv\")"
   ]
  },
  {
   "cell_type": "markdown",
   "id": "f1818fed-8182-469c-b9fa-97aea1e9c274",
   "metadata": {
    "tags": []
   },
   "source": [
    "#### 2: Scraping TV2 searches for links to articles and create list"
   ]
  },
  {
   "cell_type": "code",
   "execution_count": null,
   "id": "229f1bdc-5b02-4540-971a-45957353d880",
   "metadata": {
    "tags": []
   },
   "outputs": [],
   "source": [
    "article_url=[]\n",
    "for i in tqdm.tqdm(links[0:2]):\n",
    "    try:\n",
    "        resp_page = requests.get(i,headers={\"Name\" : \"Oliver Fredborg Smietana\" , \"email\": \"kph383@ku.alumni.dk\"})\n",
    "        soup = bs(resp_page.content, 'lxml')\n",
    "        for link in soup.find(\"section\").find_all('a', href=True):\n",
    "            article_url.append(links['href'])\n",
    "    except:\n",
    "        pass\n",
    "    time.sleep(0.25)"
   ]
  },
  {
   "cell_type": "markdown",
   "id": "3a188ee2-10cb-48fa-b69b-dc713b659076",
   "metadata": {
    "tags": []
   },
   "source": [
    "#### 3: Scraping articles from links list"
   ]
  },
  {
   "cell_type": "code",
   "execution_count": null,
   "id": "33f880f9-cab1-4b93-b565-bca66f5b8d41",
   "metadata": {},
   "outputs": [],
   "source": [
    "titles_list=[]\n",
    "h2_list=[]\n",
    "date_list=[]\n",
    "content_list=[]\n",
    "author_list=[]\n",
    "sub_head_list=[]\n",
    "tag_list=[]\n",
    "\n",
    "#  Define start and end of article loop\n",
    "start=0\n",
    "end=15\n",
    "\n",
    "\n",
    "for u in tqdm.tqdm(article_url[start: end]) :\n",
    "    re=requests.get(u, headers={\"Name\" : \"Oliver Fredborg Smietana\" , \"email\": \"kph383@alumni.ku.dk\", \"Purpose\": \"exam project for Copenhagen uni Course\" })\n",
    "    soup=bs(re.content, \"lxml\")\n",
    "    try:\n",
    "        title=soup.find(\"h1\", class_=\"tc_heading tc_heading--2\")\n",
    "        titles_list.append(title.text.strip())\n",
    "    except:\n",
    "        titles_list.append(\"\")\n",
    "\n",
    "    try:\n",
    "        date=soup.find(\"time\", class_=\"tc_timestamp\")['datetime']\n",
    "        date_list.append(date)\n",
    "    except:\n",
    "        date_list.append(\"\")\n",
    "\n",
    "    try:\n",
    "        h2=soup.find_all(\"h2\", class_=\"tc_heading tc_heading--2\")\n",
    "        h2_i_list=[]\n",
    "        for i in h2:\n",
    "            h2_i=i.get_text()\n",
    "            h2_i_list.append(h2_i)\n",
    "        h2_str=\" \".join(h2_i_list)\n",
    "        h2_list.append(h2_str)\n",
    "    except:\n",
    "        h2_list.append(\"\")\n",
    "\n",
    "    try:\n",
    "        sub_head=soup.find(\"p\", class_=\"tc_page__body__standfirst\")\n",
    "        sub_head_list.append(sub_head.text.strip())\n",
    "    except:\n",
    "        sub_head_list.append(\"\")\n",
    "\n",
    "    try:\n",
    "        author=soup.find(\"span\", class_=\"tc_byline__author__text\")\n",
    "        author_list.append(author.text.strip())\n",
    "    except:\n",
    "         author_list.append(\"\")\n",
    "\n",
    "    try:\n",
    "        content_i_list=[]\n",
    "        content_i=soup.find(\"div\", class_=\"tc_richcontent\").find_all(\"p\")\n",
    "        for i in content_i:\n",
    "            content_i_list.append(i.text.strip())\n",
    "        content_str=\" \".join(content_i_list)\n",
    "        content_list.append(content_str)\n",
    "    except:\n",
    "        content_list.append(\"\")\n",
    "\n",
    "    try:\n",
    "        tag=soup.find(\"a\", class_=\"tc_label tc_label--color-base-red\")\n",
    "        tag_list.append(tag.text.strip())\n",
    "    except:\n",
    "        tag_list.append(\"\")\n",
    "\n",
    "    time.sleep(0.25)\n",
    "\n"
   ]
  },
  {
   "cell_type": "markdown",
   "id": "6e2aca4e-f6e8-4f33-a7c4-3321d9d144ba",
   "metadata": {
    "jp-MarkdownHeadingCollapsed": true,
    "tags": []
   },
   "source": [
    "#### 4: Creating dataframe from scraped articles"
   ]
  },
  {
   "cell_type": "code",
   "execution_count": null,
   "id": "c136aa59-efdf-445e-ba40-86cccd635b8a",
   "metadata": {},
   "outputs": [],
   "source": [
    "tv2_articles_sample=pd.DataFrame([titles_list, sub_head_list, h2_list, content_list, author_list, tag_list, date_list, links[start:end]]).transpose()\n",
    "tv2_articles_sample.columns=[\"titles\", \"sub_header\", \"h2\", \"content\", \"author\", \"tag\", \"date\", \"link\"]\n",
    "tv2_articles[\"source\"]=\"tv2\""
   ]
  },
  {
   "cell_type": "markdown",
   "id": "d6cd5723-bb3d-4786-a201-2b9c3c5876fb",
   "metadata": {
    "tags": []
   },
   "source": [
    "#### 5: Save sample dataset"
   ]
  },
  {
   "cell_type": "code",
   "execution_count": null,
   "id": "7f0c08a9-7c17-4a63-b6c4-348ae82ac59c",
   "metadata": {
    "tags": []
   },
   "outputs": [],
   "source": [
    "tv2_articles.to_csv(\"tv2_articles_sample.csv\", index=False) "
   ]
  },
  {
   "cell_type": "markdown",
   "id": "47f36051-f095-457d-aee1-083035fc6644",
   "metadata": {
    "tags": []
   },
   "source": [
    "#### 1: Create empty lists for loading data"
   ]
  },
  {
   "cell_type": "code",
   "execution_count": null,
   "id": "baf52c23-6e24-4640-98c1-6afe4b6907df",
   "metadata": {},
   "outputs": [],
   "source": [
    "# Empty lists for loading data\n",
    "dirs = [] \n",
    "sub_dir = []\n",
    "files = []\n",
    "file_name = [] \n",
    "paths = []\n",
    "raw_xml_list = []\n",
    "\n",
    "# Empty lists for DataFrame creation (columns)\n",
    "session = []\n",
    "meetingnumber = []\n",
    "date = []\n",
    "location = []\n",
    "group = []\n",
    "content = []\n",
    "path = []"
   ]
  },
  {
   "cell_type": "markdown",
   "id": "8a8bd9fb-f107-4cdf-8df3-2596b539a686",
   "metadata": {},
   "source": [
    "#### 2: Logon to ftp server and get a list of dictionaries containing transscripted meetings in Folketinget"
   ]
  },
  {
   "cell_type": "code",
   "execution_count": null,
   "id": "123d8a92-5fc9-4c7a-9007-e6aa78d38716",
   "metadata": {},
   "outputs": [],
   "source": [
    "ftp_url = \"oda.ft.dk\"\n",
    "ftp_dir = \"/ODAXML/Referat/samling/\""
   ]
  },
  {
   "cell_type": "code",
   "execution_count": null,
   "id": "611ddd7c-31d9-47fc-84c7-3ffea2912af0",
   "metadata": {},
   "outputs": [],
   "source": [
    "ftp = ftplib.FTP(ftp_url)\n",
    "ftp.login(\"anonymous\", \"wpg345@alumni.ku.dk\")\n",
    "ftp.set_pasv(True)\n",
    "ftp.cwd(ftp_dir)\n",
    "ftp.dir(dirs.append)"
   ]
  },
  {
   "cell_type": "markdown",
   "id": "a174cdf9-1431-4173-92c7-7ca30a4d098c",
   "metadata": {},
   "source": [
    "#### 3: Creates a list of sub-dir's"
   ]
  },
  {
   "cell_type": "code",
   "execution_count": null,
   "id": "545c7c8a-b365-4f4e-9081-af716846f705",
   "metadata": {},
   "outputs": [],
   "source": [
    "for i in range (0, len(dirs), 1):    # bygger en liste med underbiblioteker\n",
    "    sub_dir.append(ftp_dir+dirs[i][-5:]+'/') \n",
    "    \n",
    "for i in range (0, len(sub_dir), 1): # bygger en liste med filnavne\n",
    "    ftp.cwd(sub_dir[i])\n",
    "    ftp.dir(files.append)\n",
    "\n",
    "for i in range(0, len(files)):       # extract filnavn\n",
    "    file_name.append(files[i][39:])   \n",
    "\n",
    "for i in range(0, len(file_name)):   # opbygning af den fulde sti og filnavn\n",
    "    paths.append(ftp_dir+file_name[i][0:5]+'/'+file_name[i])"
   ]
  },
  {
   "cell_type": "markdown",
   "id": "9650896e-6929-4779-adbd-84d321b2b56e",
   "metadata": {},
   "source": [
    "_All transscripted meetings are transferred from ftp://oda.ft.dk and the content is written to raw_xml_list_\n"
   ]
  },
  {
   "cell_type": "markdown",
   "id": "20644015-f373-4f52-b59a-9efe4d78c7f0",
   "metadata": {},
   "source": [
    "The following code reads all 1489 meeting resumes from ft.dk - don't run! :"
   ]
  },
  {
   "cell_type": "code",
   "execution_count": null,
   "id": "9558ff11-4446-47d4-9f4a-ed9b10093aa6",
   "metadata": {},
   "outputs": [],
   "source": [
    "#for i in tqdm.tqdm(range(0, len(paths))):\n",
    "#    r = BytesIO()\n",
    "#    ftp.retrbinary(f\"RETR {paths[i]}\", r.write)\n",
    "#    raw_xml_list.append(r.getvalue())\n",
    "#    r.close()"
   ]
  },
  {
   "cell_type": "markdown",
   "id": "935374df-3fd7-4a0e-a189-a5382f995da1",
   "metadata": {},
   "source": [
    "The following code reads 10 meeting resumes from ft.dk :"
   ]
  },
  {
   "cell_type": "code",
   "execution_count": null,
   "id": "20682c4d-1c1f-41eb-ade1-afc13445ad1a",
   "metadata": {},
   "outputs": [],
   "source": [
    "for i in tqdm.tqdm(range(0, 10)):\n",
    "    r = BytesIO()\n",
    "    ftp.retrbinary(f\"RETR {paths[i]}\", r.write)\n",
    "    raw_xml_list.append(r.getvalue())\n",
    "    r.close()"
   ]
  },
  {
   "cell_type": "markdown",
   "id": "1287946e-7e31-4bc8-b3c0-6f273763ca69",
   "metadata": {
    "tags": []
   },
   "source": [
    "#### 4: Define function"
   ]
  },
  {
   "cell_type": "markdown",
   "id": "06e7830b-b5f1-4ab4-b81b-5f41e6690035",
   "metadata": {},
   "source": [
    "Metadata function:"
   ]
  },
  {
   "cell_type": "code",
   "execution_count": null,
   "id": "c71f6084-70a9-4d36-ae9f-3fdef3a97d8a",
   "metadata": {},
   "outputs": [],
   "source": [
    "def extract_metadata(xml):\n",
    "    soup = bs(xml, 'lxml')\n",
    "    \n",
    "    d = soup.find(\"dateofsitting\").text[:10]\n",
    "    m = soup.find(\"meetingnumber\").text\n",
    "    s = soup.find(\"parliamentarysession\").text\n",
    "    g = soup.find(\"parliamentarygroup\").text\n",
    "    l = soup.find(\"location\").text\n",
    "    \n",
    "    # antal gange de samme metadata gentages for hvert dagordenpunkt\n",
    "    repeats = len(soup.find_all(\"dagsordenpunkt\")) \n",
    "    \n",
    "    for repeat in range(0, repeats):\n",
    "        date.append(d)\n",
    "        meetingnumber.append(m)\n",
    "        session.append(s)\n",
    "        group.append(g)\n",
    "        location.append(l)\n",
    "    \n",
    "    return None"
   ]
  },
  {
   "cell_type": "markdown",
   "id": "73eb3649-5412-4cb5-9b20-925c6fc8f297",
   "metadata": {
    "tags": []
   },
   "source": [
    "Content function:"
   ]
  },
  {
   "cell_type": "code",
   "execution_count": null,
   "id": "e4f4c280-cee6-4dea-b332-1482fda7a065",
   "metadata": {},
   "outputs": [],
   "source": [
    "def extract_content(xml): \n",
    "    soup = bs(xml, 'lxml')\n",
    "    dagsordenpunkter = soup.find_all(\"dagsordenpunkt\") # liste med dagsordenpunkter\n",
    "    #print(f\"Antal dagsordenpunkter: {len(dagsordenpunkter)}\")\n",
    "    \n",
    "    for dp in dagsordenpunkter: # find raw xml-sætninger for hvert dagsordenpunkt\n",
    "        sentences_raw = dp.find_all(\"linea\") # liste med raw sætninger \n",
    "        #print(f\"Antal sentences_raw: {len(sentences_raw)}\")\n",
    "        \n",
    "        sentences_text = []\n",
    "        \n",
    "        for sr in sentences_raw: # for hver raw sætning, kør .text af sætningen\n",
    "            sentences_text.append(sr.get_text(separator = ' ')) # gem clean sætninger til liste\n",
    "        \n",
    "        content.append(' '.join(sentences_text).strip()) # join, strip og append clean sætninger til liste\n",
    "        #print(f\"Antal content: {len(content)}\")\n",
    "\n",
    "    return None"
   ]
  },
  {
   "cell_type": "markdown",
   "id": "a13e21de-79fd-4541-a606-54bdf84c9a3e",
   "metadata": {
    "tags": []
   },
   "source": [
    "Path function:"
   ]
  },
  {
   "cell_type": "code",
   "execution_count": null,
   "id": "6ea942b8-5d30-4fae-b7f3-ba6276423f4a",
   "metadata": {},
   "outputs": [],
   "source": [
    "repeats = []\n",
    "\n",
    "def extract_path(xml_list):\n",
    "    \n",
    "    for xml in xml_list: \n",
    "        soup = bs(xml, 'lxml')\n",
    "        repeats.append(len(soup.find_all(\"dagsordenpunkt\")))\n",
    "    \n",
    "    for i in range(0, len(xml_list)): \n",
    "        p = paths[i]\n",
    "        path.extend([p] * repeats[i]) \n",
    "        #extend acts as append but multiplied by n times\n",
    "    \n",
    "    return None"
   ]
  },
  {
   "cell_type": "markdown",
   "id": "a5113c12-50c7-42cf-b1e9-de483a064868",
   "metadata": {
    "tags": []
   },
   "source": [
    "#### 5: Run the functions and extract all the data"
   ]
  },
  {
   "cell_type": "markdown",
   "id": "a84ec1b1-54c5-45e5-a1f8-10f7f0c229b8",
   "metadata": {},
   "source": [
    "Meeting metadata:"
   ]
  },
  {
   "cell_type": "code",
   "execution_count": null,
   "id": "99aaee9a-5906-4e88-8ddc-9091d92f6acd",
   "metadata": {},
   "outputs": [],
   "source": [
    "for xml in tqdm.tqdm(raw_xml_list): \n",
    "    extract_metadata(xml)"
   ]
  },
  {
   "cell_type": "markdown",
   "id": "1cc21110-d9b2-43ef-8011-dff6c4200d4c",
   "metadata": {},
   "source": [
    "Meeting content:"
   ]
  },
  {
   "cell_type": "code",
   "execution_count": null,
   "id": "021b21e6-7202-41e6-8684-e448eea97d90",
   "metadata": {},
   "outputs": [],
   "source": [
    "for xml in tqdm.tqdm(raw_xml_list): \n",
    "    extract_content(xml)"
   ]
  },
  {
   "cell_type": "markdown",
   "id": "1a54be39-26c4-42a1-977b-59514ea006ee",
   "metadata": {},
   "source": [
    "Path to original meeting resume:"
   ]
  },
  {
   "cell_type": "code",
   "execution_count": null,
   "id": "40278b72-cef1-4431-bd0f-1d5caaef76a0",
   "metadata": {
    "scrolled": true
   },
   "outputs": [],
   "source": [
    "extract_path(tqdm.tqdm(raw_xml_list))"
   ]
  },
  {
   "cell_type": "markdown",
   "id": "da2ab640-1959-411a-b55d-9444c8ffdc2d",
   "metadata": {},
   "source": [
    "#### 6: Make DataFrame containing needed data for analysis"
   ]
  },
  {
   "cell_type": "code",
   "execution_count": null,
   "id": "930cf1de-41ea-4f6d-985b-280b6f6a89b9",
   "metadata": {
    "scrolled": true
   },
   "outputs": [],
   "source": [
    "ft = pd.DataFrame([session, meetingnumber, date, location, group, content, path]).transpose()\n",
    "ft.columns = ['session', 'meetingnumber', 'date', 'location', 'group', 'content', 'path']"
   ]
  },
  {
   "cell_type": "markdown",
   "id": "9a7dec07-8f92-4dd3-ae84-c14999c90308",
   "metadata": {},
   "source": [
    "Changeing date column for text to date format:"
   ]
  },
  {
   "cell_type": "code",
   "execution_count": null,
   "id": "a3d015cc-41b2-4d79-9da5-2ffa2d621283",
   "metadata": {},
   "outputs": [],
   "source": [
    "ft['date'] = pd.to_datetime(ft['date'])"
   ]
  },
  {
   "cell_type": "markdown",
   "id": "84d60d02-d9f8-433b-bcbf-aebeeb8b9efa",
   "metadata": {},
   "source": [
    "Only keeping data where date >= 2012:"
   ]
  },
  {
   "cell_type": "code",
   "execution_count": null,
   "id": "bc3c240c-1da9-495c-92f0-658040ee214e",
   "metadata": {},
   "outputs": [],
   "source": [
    "ft = ft[ft['date'].dt.year >= 2012]"
   ]
  },
  {
   "cell_type": "markdown",
   "id": "d1ed7f31-b808-4ef6-b968-7ede99ff1add",
   "metadata": {},
   "source": [
    "#### 7: Save DataFrame to ft.csv in your `local` working directory"
   ]
  },
  {
   "cell_type": "code",
   "execution_count": null,
   "id": "ff7de72d-5dba-437a-9e01-0bce90ef55e5",
   "metadata": {},
   "outputs": [],
   "source": [
    "ft.to_csv('ft_sample.csv.zip', index = False, compression='zip')"
   ]
  },
  {
   "cell_type": "markdown",
   "id": "9221f39f-2b91-4e58-a0c4-840b769dc6db",
   "metadata": {},
   "source": [
    "<p style=\"color:red\"> Don't save the entire dataset to GitHub due to space limitation</p>"
   ]
  },
  {
   "cell_type": "markdown",
   "id": "a63ba69f-a9e5-4ddb-a04d-cdfbe10b7a52",
   "metadata": {
    "tags": []
   },
   "source": [
    "## Cleaning Data"
   ]
  },
  {
   "cell_type": "markdown",
   "id": "056fcb1e-46b7-4970-a96e-4f31a54bb262",
   "metadata": {},
   "source": [
    "The complete datasets are loaded from the local folder:"
   ]
  },
  {
   "cell_type": "code",
   "execution_count": 6,
   "id": "6aa4d5cd-28ce-4ec9-bc4b-a2fab27753cf",
   "metadata": {
    "tags": []
   },
   "outputs": [],
   "source": [
    "tv2=pd.read_csv(\"tv2_articles.csv\")\n",
    "dr=pd.read_csv(\"dr_articles.csv\")\n",
    "dr_google_search_results=pd.read_csv(\"dr_google_search_results.csv\")\n",
    "# open zipped ft data set\n",
    "with zipfile.ZipFile(\"ft.zip\") as z:\n",
    "   # open the csv file in the dataset\n",
    "   with z.open(\"ft.csv\") as f:\n",
    "       \n",
    "      # read the dataset\n",
    "        ft = pd.read_csv(f)\n"
   ]
  },
  {
   "cell_type": "markdown",
   "id": "b3cf20d7-6acc-4a2f-a02d-fa9398f66d56",
   "metadata": {},
   "source": [
    "\n",
    "TV2: The raw dataset after scraping websites from links has 8758 articles.\n",
    "\n",
    "DR: The raw dataset after scraping websites from links has 2065 articles. \n",
    "\n",
    "FT: The raw dataset after extraction has 13917 agenda items (dagsordenspunkter)"
   ]
  },
  {
   "cell_type": "markdown",
   "id": "38b60f15-ed81-499d-885b-ae7b1f58f2af",
   "metadata": {
    "tags": []
   },
   "source": [
    "### Initial cleaning operations"
   ]
  },
  {
   "cell_type": "markdown",
   "id": "451a4a77-3654-4b9b-8521-02078125f98c",
   "metadata": {
    "tags": []
   },
   "source": [
    "#### 1: DR Datasets"
   ]
  },
  {
   "cell_type": "markdown",
   "id": "600914dd-8448-4fb9-a2b2-df057b599c4a",
   "metadata": {},
   "source": [
    "We found 538 observations for which no content was retrieved. These include articles with a different HTML structure (see, e.g.: 'https://www.dr.dk/nyheder/region-ingen-fare-patienter-paa-holbaek-sygehus?focusId=3406239'). Unfortunately, our scraping code did not account for this structure. If we had more time, we would go back, adapt the code and get the content of these articles. For the purpose of this limited analysis, we continue without those articles."
   ]
  },
  {
   "cell_type": "markdown",
   "id": "9f9a493d-b044-49f4-9554-792662912081",
   "metadata": {},
   "source": [
    "DR articles:"
   ]
  },
  {
   "cell_type": "code",
   "execution_count": 7,
   "id": "52fdbd49-85fb-4da3-b33d-2f5a00a84edf",
   "metadata": {
    "scrolled": true
   },
   "outputs": [],
   "source": [
    "dr = dr.dropna(subset = [\"content\"]).reset_index(drop = True)"
   ]
  },
  {
   "cell_type": "code",
   "execution_count": 8,
   "id": "3b57ca88-26cb-4a62-a473-2dc98f8df03c",
   "metadata": {},
   "outputs": [
    {
     "data": {
      "text/plain": [
       "1470"
      ]
     },
     "execution_count": 8,
     "metadata": {},
     "output_type": "execute_result"
    }
   ],
   "source": [
    "dr['date'] = pd.to_datetime(dr['date'])\n",
    "dr = dr[dr['date'].dt.year >= 2012]\n",
    "dr = dr.drop_duplicates(subset=\"content\")\n",
    "len(dr)"
   ]
  },
  {
   "cell_type": "markdown",
   "id": "0556ce17-f077-4a4b-a9e6-3bbc5439d8ce",
   "metadata": {},
   "source": [
    "After dropping observations without content, 1470 articles remain."
   ]
  },
  {
   "cell_type": "markdown",
   "id": "9b0850c6-57ea-4412-81e1-5ff08df689d7",
   "metadata": {},
   "source": [
    "Dr google search count data:"
   ]
  },
  {
   "cell_type": "code",
   "execution_count": 9,
   "id": "0798d29c-b9c1-4232-ad45-6e46c31233a5",
   "metadata": {},
   "outputs": [],
   "source": [
    "# Generate combinations of year-month\n",
    "month_year = []\n",
    "for year in range(2012, 2023):\n",
    "    months = ['jan.', 'feb.', 'mar.', 'apr.', 'maj', 'jun.', 'jul.', 'aug.', 'sep.', 'okt.', 'nov.', 'dec.']\n",
    "    for month in months:\n",
    "        time = f'{month} {year}'\n",
    "        month_year.append(time)\n",
    "# Create final list of search terms, future month-year combinations deleted\n",
    "month_year = month_year[:-4]"
   ]
  },
  {
   "cell_type": "code",
   "execution_count": 10,
   "id": "7c9c75df-a921-4d54-8c90-2aae481c4a20",
   "metadata": {},
   "outputs": [
    {
     "data": {
      "text/html": [
       "<div>\n",
       "<style scoped>\n",
       "    .dataframe tbody tr th:only-of-type {\n",
       "        vertical-align: middle;\n",
       "    }\n",
       "\n",
       "    .dataframe tbody tr th {\n",
       "        vertical-align: top;\n",
       "    }\n",
       "\n",
       "    .dataframe thead th {\n",
       "        text-align: right;\n",
       "    }\n",
       "</style>\n",
       "<table border=\"1\" class=\"dataframe\">\n",
       "  <thead>\n",
       "    <tr style=\"text-align: right;\">\n",
       "      <th></th>\n",
       "      <th>Unnamed: 0</th>\n",
       "      <th>Month</th>\n",
       "    </tr>\n",
       "  </thead>\n",
       "  <tbody>\n",
       "    <tr>\n",
       "      <th>0</th>\n",
       "      <td>0</td>\n",
       "      <td>2220</td>\n",
       "    </tr>\n",
       "    <tr>\n",
       "      <th>1</th>\n",
       "      <td>1</td>\n",
       "      <td>1450</td>\n",
       "    </tr>\n",
       "    <tr>\n",
       "      <th>2</th>\n",
       "      <td>2</td>\n",
       "      <td>1360</td>\n",
       "    </tr>\n",
       "    <tr>\n",
       "      <th>3</th>\n",
       "      <td>3</td>\n",
       "      <td>1310</td>\n",
       "    </tr>\n",
       "    <tr>\n",
       "      <th>4</th>\n",
       "      <td>4</td>\n",
       "      <td>1700</td>\n",
       "    </tr>\n",
       "    <tr>\n",
       "      <th>...</th>\n",
       "      <td>...</td>\n",
       "      <td>...</td>\n",
       "    </tr>\n",
       "    <tr>\n",
       "      <th>123</th>\n",
       "      <td>73</td>\n",
       "      <td>1160</td>\n",
       "    </tr>\n",
       "    <tr>\n",
       "      <th>124</th>\n",
       "      <td>0</td>\n",
       "      <td>10600</td>\n",
       "    </tr>\n",
       "    <tr>\n",
       "      <th>125</th>\n",
       "      <td>1</td>\n",
       "      <td>22</td>\n",
       "    </tr>\n",
       "    <tr>\n",
       "      <th>126</th>\n",
       "      <td>2</td>\n",
       "      <td>423</td>\n",
       "    </tr>\n",
       "    <tr>\n",
       "      <th>127</th>\n",
       "      <td>3</td>\n",
       "      <td>3030</td>\n",
       "    </tr>\n",
       "  </tbody>\n",
       "</table>\n",
       "<p>128 rows × 2 columns</p>\n",
       "</div>"
      ],
      "text/plain": [
       "     Unnamed: 0  Month\n",
       "0             0   2220\n",
       "1             1   1450\n",
       "2             2   1360\n",
       "3             3   1310\n",
       "4             4   1700\n",
       "..          ...    ...\n",
       "123          73   1160\n",
       "124           0  10600\n",
       "125           1     22\n",
       "126           2    423\n",
       "127           3   3030\n",
       "\n",
       "[128 rows x 2 columns]"
      ]
     },
     "execution_count": 10,
     "metadata": {},
     "output_type": "execute_result"
    }
   ],
   "source": [
    "dr_google_search_results"
   ]
  },
  {
   "cell_type": "code",
   "execution_count": 11,
   "id": "d3896933-ea74-4283-b4f9-491344faf20d",
   "metadata": {},
   "outputs": [],
   "source": [
    "# Delete obsolete index column\n",
    "dr_google_search_results.drop(\"Unnamed: 0\", axis = \"columns\", inplace = True)\n",
    "\n",
    "# Column name should be different: 'Month' but 'search_results'\n",
    "dr_google_search_results = dr_google_search_results.rename(columns = {\"Month\" : \"search_results\"})"
   ]
  },
  {
   "cell_type": "code",
   "execution_count": 12,
   "id": "f3b0ae60-ad05-4b16-a1cb-19285f794f8b",
   "metadata": {
    "tags": []
   },
   "outputs": [],
   "source": [
    "dr_google_search_results[\"month\"] = month_year"
   ]
  },
  {
   "cell_type": "code",
   "execution_count": 13,
   "id": "6d807340-0a5b-42d3-9ab5-b72889f3fa7b",
   "metadata": {},
   "outputs": [
    {
     "data": {
      "text/html": [
       "<div>\n",
       "<style scoped>\n",
       "    .dataframe tbody tr th:only-of-type {\n",
       "        vertical-align: middle;\n",
       "    }\n",
       "\n",
       "    .dataframe tbody tr th {\n",
       "        vertical-align: top;\n",
       "    }\n",
       "\n",
       "    .dataframe thead th {\n",
       "        text-align: right;\n",
       "    }\n",
       "</style>\n",
       "<table border=\"1\" class=\"dataframe\">\n",
       "  <thead>\n",
       "    <tr style=\"text-align: right;\">\n",
       "      <th></th>\n",
       "      <th>search_results</th>\n",
       "      <th>month</th>\n",
       "    </tr>\n",
       "  </thead>\n",
       "  <tbody>\n",
       "    <tr>\n",
       "      <th>0</th>\n",
       "      <td>2220</td>\n",
       "      <td>jan. 2012</td>\n",
       "    </tr>\n",
       "    <tr>\n",
       "      <th>1</th>\n",
       "      <td>1450</td>\n",
       "      <td>feb. 2012</td>\n",
       "    </tr>\n",
       "    <tr>\n",
       "      <th>2</th>\n",
       "      <td>1360</td>\n",
       "      <td>mar. 2012</td>\n",
       "    </tr>\n",
       "    <tr>\n",
       "      <th>3</th>\n",
       "      <td>1310</td>\n",
       "      <td>apr. 2012</td>\n",
       "    </tr>\n",
       "    <tr>\n",
       "      <th>4</th>\n",
       "      <td>1700</td>\n",
       "      <td>maj 2012</td>\n",
       "    </tr>\n",
       "    <tr>\n",
       "      <th>...</th>\n",
       "      <td>...</td>\n",
       "      <td>...</td>\n",
       "    </tr>\n",
       "    <tr>\n",
       "      <th>123</th>\n",
       "      <td>1160</td>\n",
       "      <td>apr. 2022</td>\n",
       "    </tr>\n",
       "    <tr>\n",
       "      <th>124</th>\n",
       "      <td>10600</td>\n",
       "      <td>maj 2022</td>\n",
       "    </tr>\n",
       "    <tr>\n",
       "      <th>125</th>\n",
       "      <td>22</td>\n",
       "      <td>jun. 2022</td>\n",
       "    </tr>\n",
       "    <tr>\n",
       "      <th>126</th>\n",
       "      <td>423</td>\n",
       "      <td>jul. 2022</td>\n",
       "    </tr>\n",
       "    <tr>\n",
       "      <th>127</th>\n",
       "      <td>3030</td>\n",
       "      <td>aug. 2022</td>\n",
       "    </tr>\n",
       "  </tbody>\n",
       "</table>\n",
       "<p>128 rows × 2 columns</p>\n",
       "</div>"
      ],
      "text/plain": [
       "     search_results      month\n",
       "0              2220  jan. 2012\n",
       "1              1450  feb. 2012\n",
       "2              1360  mar. 2012\n",
       "3              1310  apr. 2012\n",
       "4              1700   maj 2012\n",
       "..              ...        ...\n",
       "123            1160  apr. 2022\n",
       "124           10600   maj 2022\n",
       "125              22  jun. 2022\n",
       "126             423  jul. 2022\n",
       "127            3030  aug. 2022\n",
       "\n",
       "[128 rows x 2 columns]"
      ]
     },
     "execution_count": 13,
     "metadata": {},
     "output_type": "execute_result"
    }
   ],
   "source": [
    "dr_google_search_results"
   ]
  },
  {
   "cell_type": "markdown",
   "id": "6944ff11-f052-40e6-bef1-209b1aa59e16",
   "metadata": {},
   "source": [
    "#### 2: TV2 Dataset"
   ]
  },
  {
   "cell_type": "code",
   "execution_count": 14,
   "id": "488e6a3a-5069-4900-a73e-a3606e7276a5",
   "metadata": {
    "scrolled": true,
    "tags": []
   },
   "outputs": [
    {
     "data": {
      "text/plain": [
       "4473"
      ]
     },
     "execution_count": 14,
     "metadata": {},
     "output_type": "execute_result"
    }
   ],
   "source": [
    "## Rows that stem from links to a search page. They have the title \"Søg på TV 2\" and can be deleted\n",
    "tv2 = tv2[tv2.titles != 'Søg på TV 2'].reset_index(drop = True)\n",
    "# After this step, 7416 observations remain\n",
    "# In the next step we drop all rows that do not contain values. These are sports artciles like this one: https://sport.tv2.dk/2012-02-26-sur-s%C3%B8d-fornemmelse-hos-kasper-hvidt\n",
    "tv2 = tv2.dropna(subset = ['content'])\n",
    "# Reset index\n",
    "tv2 = tv2.reset_index(drop = True)\n",
    "# Change date to date_time objects\n",
    "tv2['date'] = pd.to_datetime(tv2['date'])\n",
    "# Drop articles published outside period of interest (2012-2022)\n",
    "tv2 = tv2[tv2['date'].dt.year >= 2012]\n",
    "# Drop duplicates\n",
    "tv2 = tv2.drop_duplicates(subset=\"content\")\n",
    "len(tv2)"
   ]
  },
  {
   "cell_type": "markdown",
   "id": "8208a0dd-b09e-45cb-8531-c67cd089156b",
   "metadata": {},
   "source": [
    "Number of observations and rows: TV2 dataset now contains 4473 articles."
   ]
  },
  {
   "cell_type": "markdown",
   "id": "60ceea25-8034-46da-a153-a67b647e29e6",
   "metadata": {},
   "source": [
    "#### 3: Folketinget"
   ]
  },
  {
   "cell_type": "code",
   "execution_count": 15,
   "id": "435fceee-1071-4a51-824c-85a920c8b947",
   "metadata": {
    "scrolled": true,
    "tags": []
   },
   "outputs": [
    {
     "data": {
      "text/plain": [
       "524"
      ]
     },
     "metadata": {},
     "output_type": "display_data"
    }
   ],
   "source": [
    "## Rows that stem from links to a search page. They have the title \"Søg på TV 2\" and can be deleted\n",
    "ft = ft[ft['content'].str.contains(\"sygeplej\")]\n",
    "ft['source'] = 'FT'\n",
    "# Reset index\n",
    "ft = ft.reset_index(drop = True)\n",
    "# Change date to date_time objects\n",
    "ft['date'] = pd.to_datetime(ft['date'])\n",
    "ft['session'] = ft['session'].astype(int)\n",
    "ft['meetingnumber'] = ft['meetingnumber'].astype(int)\n",
    "display(len(ft))"
   ]
  },
  {
   "cell_type": "markdown",
   "id": "549c75f2-23de-4b34-8491-fa42e76ee0f1",
   "metadata": {},
   "source": [
    "Number of observation (dagsordenspunkter) is now 524"
   ]
  },
  {
   "cell_type": "markdown",
   "id": "37e80651-da99-4607-a7d0-eb85aede9cf9",
   "metadata": {},
   "source": [
    "#### 4: Columns of DR and TV datasets: \n",
    "* `titles` contains the articles' title\n",
    "* `sub_header` contains the articles' subheader\n",
    "* `h2` contains any headline found in the article \n",
    "* `author` contains the author of the article \n",
    "* `tag` contains any tags that TV2 added to the article: e.g. \"udland\". \n",
    "* `source` will later indicate the source \n",
    "* `links` contains the link to the original article\n",
    "* `date` contains date in the datetime formate"
   ]
  },
  {
   "cell_type": "markdown",
   "id": "49b0a3fe-71a9-4436-96b2-547ad5529c2b",
   "metadata": {
    "tags": []
   },
   "source": [
    "### Cleaning articles' content"
   ]
  },
  {
   "cell_type": "code",
   "execution_count": 16,
   "id": "ef7dde7c-4041-40f3-a423-ce594b43ccc1",
   "metadata": {},
   "outputs": [],
   "source": [
    "def cleaning_media(df):\n",
    "    '''\n",
    "    Function cleans the text of the \"content\", \"titles\", \"subheaders\" and \"h2\" columns of TV2 and DR datasets.\n",
    "    '''\n",
    "    df_new = df.copy()\n",
    "    for i in tv2[['titles', 'sub_header', 'h2', 'content', 'author']]:\n",
    "        df_new[i] = df_new[i].str.lower()\\\n",
    "            .str.replace('\\r', '')\\\n",
    "            .str.replace('\\n', '')\\\n",
    "            .str.replace('\\xa0', '')\n",
    "    return df_new"
   ]
  },
  {
   "cell_type": "code",
   "execution_count": 17,
   "id": "59ee46e1-9dbd-4950-9c96-cce65ef5f581",
   "metadata": {},
   "outputs": [],
   "source": [
    "def cleaning_ft(df):\n",
    "    '''\n",
    "    Function cleans the text of the \"content\" column of FT dataset.\n",
    "    '''\n",
    "    df_new = df.copy()\n",
    "    for i in ft[['content']]:\n",
    "        df_new[i] = df_new[i].str.lower()\\\n",
    "            .str.replace('\\r', '')\\\n",
    "            .str.replace('\\n', '')\\\n",
    "            .str.replace('\\xa0', '')\n",
    "    return df_new"
   ]
  },
  {
   "cell_type": "code",
   "execution_count": 18,
   "id": "cc841775-e7b7-4e55-8230-5a3af1222170",
   "metadata": {},
   "outputs": [],
   "source": [
    "# Cleaning media with cleaning function\n",
    "tv2 = cleaning_media(tv2)\n",
    "dr = cleaning_media(dr)\n",
    "\n",
    "# Cleaning ft with cleaning function\n",
    "ft = cleaning_ft(ft)\n"
   ]
  },
  {
   "cell_type": "markdown",
   "id": "31ddee41-9b6c-4662-89e8-a4e46366f24a",
   "metadata": {
    "tags": []
   },
   "source": [
    "## Pre-processing datasets\n",
    "\n",
    "Creating different DataFrames according to the number of times \"sygeplej*\" is found in the articles' agenda items' (dagsordenspunkts) content for DR, TV2 and Folketinget, respectively. The more frequently the term features in the text, the more relevant the articles' should be for our analysis. \n",
    "\n"
   ]
  },
  {
   "cell_type": "markdown",
   "id": "76bceb40-97ae-4e8e-ac43-994c43968996",
   "metadata": {},
   "source": [
    "### Experimenting with filters on our articles to get most relevant results"
   ]
  },
  {
   "cell_type": "markdown",
   "id": "18b04bb8-4288-4e4b-b184-e4018a3dc3fb",
   "metadata": {},
   "source": [
    "#### 1: Defining function"
   ]
  },
  {
   "cell_type": "code",
   "execution_count": 19,
   "id": "eecbb72d-5185-441f-86e7-2173bfab9dcf",
   "metadata": {},
   "outputs": [],
   "source": [
    "# Create different datasets with \"sygeplej*\" featuring at least X times in the text\n",
    "def sygeplej_count(df):\n",
    "    df_sygeplej1x = df[df['content'].str.count(\"sygeplej\") >= 1]\n",
    "    df_sygeplej2x = df[df['content'].str.count(\"sygeplej\") >= 2]\n",
    "    df_sygeplej3x = df[df['content'].str.count(\"sygeplej\") >= 3]\n",
    "    df_sygeplej4x = df[df['content'].str.count(\"sygeplej\") >= 4]\n",
    "    return df_sygeplej1x, df_sygeplej2x, df_sygeplej3x, df_sygeplej4x"
   ]
  },
  {
   "cell_type": "markdown",
   "id": "4363b9d7-82fa-430c-8010-8e60084f4507",
   "metadata": {},
   "source": [
    "#### 2: Using function on our datasets"
   ]
  },
  {
   "cell_type": "code",
   "execution_count": 20,
   "id": "7ea4f0fa-c3d3-4357-a5de-3068fb455768",
   "metadata": {},
   "outputs": [],
   "source": [
    "tv2_sygeplej1x, tv2_sygeplej2x, tv2_sygeplej3x, tv2_sygeplej4x = sygeplej_count(tv2)\n",
    "dr_sygeplej1x, dr_sygeplej2x, dr_sygeplej3x, dr_sygeplej4x = sygeplej_count(dr)\n",
    "ft_sygeplej1x, ft_sygeplej2x, ft_sygeplej3x, ft_sygeplej4x = sygeplej_count(ft)"
   ]
  },
  {
   "cell_type": "markdown",
   "id": "16fa3c07-acde-4cda-a78d-2d3527fd903e",
   "metadata": {},
   "source": [
    "#### 3: Exploring the sygeplej* count across articles for DR and TV2 datasets"
   ]
  },
  {
   "cell_type": "code",
   "execution_count": 21,
   "id": "63649dc0-e8bf-48ac-9982-4f3dd6081af2",
   "metadata": {},
   "outputs": [
    {
     "data": {
      "text/html": [
       "<div>\n",
       "<style scoped>\n",
       "    .dataframe tbody tr th:only-of-type {\n",
       "        vertical-align: middle;\n",
       "    }\n",
       "\n",
       "    .dataframe tbody tr th {\n",
       "        vertical-align: top;\n",
       "    }\n",
       "\n",
       "    .dataframe thead th {\n",
       "        text-align: right;\n",
       "    }\n",
       "</style>\n",
       "<table border=\"1\" class=\"dataframe\">\n",
       "  <thead>\n",
       "    <tr style=\"text-align: right;\">\n",
       "      <th></th>\n",
       "      <th>sygeplej* count in each document</th>\n",
       "      <th>DR</th>\n",
       "      <th>TV2</th>\n",
       "      <th>FT</th>\n",
       "    </tr>\n",
       "  </thead>\n",
       "  <tbody>\n",
       "    <tr>\n",
       "      <th>0</th>\n",
       "      <td>At least once</td>\n",
       "      <td>623</td>\n",
       "      <td>2394</td>\n",
       "      <td>524</td>\n",
       "    </tr>\n",
       "    <tr>\n",
       "      <th>1</th>\n",
       "      <td>At least twice</td>\n",
       "      <td>495</td>\n",
       "      <td>1008</td>\n",
       "      <td>296</td>\n",
       "    </tr>\n",
       "    <tr>\n",
       "      <th>2</th>\n",
       "      <td>At least three times</td>\n",
       "      <td>429</td>\n",
       "      <td>613</td>\n",
       "      <td>211</td>\n",
       "    </tr>\n",
       "    <tr>\n",
       "      <th>3</th>\n",
       "      <td>More than three times</td>\n",
       "      <td>368</td>\n",
       "      <td>445</td>\n",
       "      <td>156</td>\n",
       "    </tr>\n",
       "  </tbody>\n",
       "</table>\n",
       "</div>"
      ],
      "text/plain": [
       "  sygeplej* count in each document   DR   TV2   FT\n",
       "0                    At least once  623  2394  524\n",
       "1                   At least twice  495  1008  296\n",
       "2             At least three times  429   613  211\n",
       "3            More than three times  368   445  156"
      ]
     },
     "metadata": {},
     "output_type": "display_data"
    }
   ],
   "source": [
    "dict_sygeplej_count = {\"sygeplej* count in each document\":\\\n",
    "                       ['At least once', 'At least twice', 'At least three times', 'More than three times'],\\\n",
    "                       \"DR\" :\\\n",
    "                       [len(dr_sygeplej1x), len(dr_sygeplej2x), len(dr_sygeplej3x), len(dr_sygeplej4x)],\\\n",
    "                       \"TV2\" :\\\n",
    "                       [len(tv2_sygeplej1x), len(tv2_sygeplej2x), len(tv2_sygeplej3x), len(tv2_sygeplej4x)],\\\n",
    "                        \"FT\" :\\\n",
    "                       [len(ft_sygeplej1x), len(ft_sygeplej2x), len(ft_sygeplej3x), len(ft_sygeplej4x)]}\n",
    "\n",
    "\n",
    "\n",
    "table_sygeplej_count = pd.DataFrame(data = dict_sygeplej_count)\n",
    "display(table_sygeplej_count)"
   ]
  },
  {
   "cell_type": "markdown",
   "id": "f143d1ef-4268-4032-99dd-531dc9f7ddcd",
   "metadata": {},
   "source": [
    "In our analysis we will work with articles in which \"sygeplej*\" appears at least twice."
   ]
  },
  {
   "cell_type": "markdown",
   "id": "71e76852-60e5-41c1-a17c-d862d5534a7f",
   "metadata": {},
   "source": [
    "Exporting table to latex: "
   ]
  },
  {
   "cell_type": "code",
   "execution_count": 22,
   "id": "1e277577-fbb8-4647-bc78-43998540d185",
   "metadata": {},
   "outputs": [],
   "source": [
    "with open('sygeplej_table.tex','w') as tf:\n",
    "    tf.write(table_sygeplej_count.to_latex(index=False))"
   ]
  },
  {
   "cell_type": "markdown",
   "id": "6f0f48b2-0a6e-4ace-bac1-3ac153d649c9",
   "metadata": {},
   "source": [
    "### Exploring datasets"
   ]
  },
  {
   "cell_type": "markdown",
   "id": "823e89c4-6ae0-4bb8-830c-d96f93252f69",
   "metadata": {},
   "source": [
    "#### 1: Defining function for plotting frequencies of articles:"
   ]
  },
  {
   "cell_type": "code",
   "execution_count": 23,
   "id": "28156d0f-6c45-43a7-b326-070f158b1455",
   "metadata": {},
   "outputs": [],
   "source": [
    "def frequency_table(df):\n",
    "    df['year']=pd.to_datetime(df[\"date\"]).dt.year\n",
    "    df['month']=pd.to_datetime(df[\"date\"]).dt.month\n",
    "    df_freq=df.copy()\n",
    "    df_freq = df_freq.dropna(subset = ['year', 'month'])\n",
    "\n",
    "    df_freq1, df_freq2, df_freq3, df_freq4=sygeplej_count(df_freq)\n",
    "    \n",
    "    freq1 = df_freq1.groupby(['year', 'month'])[\"content\"].count().unstack(fill_value=0).stack()\n",
    "    \n",
    "    df_freq1x=pd.DataFrame(freq1).reset_index(drop=False)\n",
    "    df_freq1x=df_freq1x.rename(columns={0:'content'})\n",
    "    freq1.reset_index(drop=False)\n",
    "    \n",
    "    freq2 = df_freq2.groupby(['year', 'month'])[\"content\"].count().unstack(fill_value=0).stack()\n",
    "    df_freq2x=pd.DataFrame(freq2).reset_index(drop=True)\n",
    "    df_freq2x=df_freq2x.rename(columns={0:'content'})\n",
    "\n",
    "    freq3 = df_freq3.groupby(['year', 'month'])[\"content\"].count().unstack(fill_value=0).stack()\n",
    "    df_freq3x=pd.DataFrame(freq3).reset_index(drop=True)\n",
    "    df_freq3x=df_freq3x.rename(columns={0:'content'})\n",
    "    \n",
    "    freq4 = df_freq4.groupby(['year', 'month'])[\"content\"].count().unstack(fill_value=0).stack()\n",
    "    df_freq4x=pd.DataFrame(freq4).reset_index(drop=True)\n",
    "    df_freq4x=df_freq4x.rename(columns={0:'content'})\n",
    "\n",
    "    df_freq1x['year']=df_freq1x['year'].astype(str)\n",
    "    df_freq1x['month']=df_freq1x['month'].astype(str)\n",
    "    \n",
    "    df_freq = pd.DataFrame([df_freq1x['year'], df_freq1x['month'], df_freq1x['content'] , df_freq2x['content'],\\\n",
    "                            df_freq3x['content'], df_freq4x['content']]).transpose()\n",
    "    \n",
    "    df_freq=df_freq[:-4]\n",
    "    df_freq.columns=(['Year', \"Month\",\"At least once\", \"At least twice\", \"At least three times\", \"More than three times\"])\n",
    "    df_freq['Date']=df_freq['Year']+\"-\"+ df_freq['Month']\n",
    "    \n",
    "    return df_freq"
   ]
  },
  {
   "cell_type": "markdown",
   "id": "26e95292-a97a-4bc6-835b-84394e1b69d9",
   "metadata": {},
   "source": [
    "#### 2: Using Function on datasets"
   ]
  },
  {
   "cell_type": "code",
   "execution_count": 24,
   "id": "5b4d84cf-cbe5-463f-90ff-31f5aadab97f",
   "metadata": {},
   "outputs": [],
   "source": [
    "tv2_freq_df = frequency_table(tv2)\n",
    "dr_freq_df = frequency_table(dr)\n",
    "ft_freq_df=frequency_table(ft)"
   ]
  },
  {
   "cell_type": "markdown",
   "id": "18e36cec-ba8e-45bc-a47b-7617596924a9",
   "metadata": {},
   "source": [
    "#### 3: Exploratory plotting\n",
    "First, we explore the difference between the different frequency dataframes:"
   ]
  },
  {
   "cell_type": "markdown",
   "id": "15b2e41a-4aa7-46cc-a22d-2f61db41403a",
   "metadata": {},
   "source": [
    "##### 3a : TV2"
   ]
  },
  {
   "cell_type": "markdown",
   "id": "1e35c602-dd2b-4264-9971-ca64b2b5f64b",
   "metadata": {},
   "source": [
    "It seems reasonable to take article in which our search term appears at least twice. The overall tendency is the same but becomes clearer for articles in which the term applies more frequently."
   ]
  },
  {
   "cell_type": "markdown",
   "id": "bd88f7b4-9572-445c-ab48-87de3b4c609a",
   "metadata": {},
   "source": [
    "##### 3b: DR"
   ]
  },
  {
   "cell_type": "markdown",
   "id": "4a86afe0-40ec-432c-a163-93392e9703dd",
   "metadata": {},
   "source": [
    "We see the same patterns for all articles. This could be explained by the data gathering process. We searched google and got mostly relevant articles. Even though we searched every month, we got more articles for some month and less so for others. In a way, we worked against the search engine. It would be expected that we do not find a pattern because all else equal, the line would be flat. We can reject the hypothesis that there is no development. This is particularly obvious for the corona period. \n",
    "\n",
    "It is interesting that for DR articles, we see the number of articles peaking at the beginning of corona crisis."
   ]
  },
  {
   "cell_type": "markdown",
   "id": "5ed69142-81a7-4ce3-a6af-560ed7b6c98a",
   "metadata": {},
   "source": [
    "##### 3c: Folketinget"
   ]
  },
  {
   "cell_type": "markdown",
   "id": "4e4d2d57-07d0-41f8-9973-aeb1c83938e0",
   "metadata": {},
   "source": [
    "The overall tendency is the same for all four counts of \"sygeplej*\". It seems that in the second half our period of interest, the term \"sygeplejersk*\" is generally more frequently used, even if the usage fluctuates quite alot between years."
   ]
  },
  {
   "cell_type": "markdown",
   "id": "7de59225-565b-4635-bec6-520f5a76a974",
   "metadata": {
    "tags": []
   },
   "source": [
    "## Analysis"
   ]
  },
  {
   "cell_type": "markdown",
   "id": "987d8ef4-3591-4f12-947e-0ce2719f1046",
   "metadata": {},
   "source": [
    "### Analyzing mentions of \"sygeplejersk*\" in media and parliament"
   ]
  },
  {
   "cell_type": "markdown",
   "id": "1d7636e1-9583-4d72-8745-0af2772d47ba",
   "metadata": {},
   "source": [
    "#### 1: Plotting number of articles that mention \"sygeplejersk*\" at least twice by date "
   ]
  },
  {
   "cell_type": "markdown",
   "id": "cc726157-d57c-4085-b615-d7502c409460",
   "metadata": {},
   "source": [
    "#### 2: Analysis of Tags for DR and TV2"
   ]
  },
  {
   "cell_type": "markdown",
   "id": "ab9e2f4e-37ca-4ab1-a16f-985c41fc0966",
   "metadata": {},
   "source": [
    "Defining function to count tags and return count table:"
   ]
  },
  {
   "cell_type": "code",
   "execution_count": 25,
   "id": "25734b41-03ab-40b5-a7fe-edde7280e99b",
   "metadata": {},
   "outputs": [],
   "source": [
    "# Define tag-count function\n",
    "def tag_count(df):\n",
    "    df_tags=df[\"tag\"].value_counts()\n",
    "    df_tags=pd.DataFrame(df_tags).reset_index(drop=False)\n",
    "    df_tags.columns=(\"tags\", \"count\")\n",
    "    return df_tags"
   ]
  },
  {
   "cell_type": "markdown",
   "id": "a7fadc0f-fd14-47cc-9fb2-85fac4742a2e",
   "metadata": {},
   "source": [
    "Calling function:"
   ]
  },
  {
   "cell_type": "code",
   "execution_count": 26,
   "id": "cf57cb07-c9b0-4b7a-8fbd-7d9ef29c8585",
   "metadata": {},
   "outputs": [],
   "source": [
    "# Call function\n",
    "tv2_tags = tag_count(tv2_sygeplej2x)\n",
    "dr_tags = tag_count(dr_sygeplej2x)"
   ]
  },
  {
   "cell_type": "markdown",
   "id": "e9293df5-e177-45ae-800d-a9d501c087f7",
   "metadata": {},
   "source": [
    "Plotting 10 most frequent tags"
   ]
  },
  {
   "cell_type": "code",
   "execution_count": 27,
   "id": "c95ec103-b592-4ab8-9a44-76a65dedbcbe",
   "metadata": {},
   "outputs": [
    {
     "data": {
      "image/png": "[encoded data removed]",
      "text/plain": [
       "<Figure size 1080x360 with 2 Axes>"
      ]
     },
     "metadata": {},
     "output_type": "display_data"
    }
   ],
   "source": [
    "# Plotting count of tags\n",
    "plt.style.use('ggplot')\n",
    "sns.set_style(\"whitegrid\")\n",
    "\n",
    "fig, ax = plt.subplots(nrows=1, ncols=2, sharey=False, figsize=(15,5))\n",
    "\n",
    "ax[0] = sns.barplot(x = tv2_tags[\"tags\"][0:10], y = tv2_tags[\"count\"], orient =\"v\", ax = ax[0])\n",
    "ax[1] = sns.barplot(x = dr_tags[\"tags\"][0:10], y = dr_tags[\"count\"], orient =\"v\", ax = ax[1])\n",
    "\n",
    "_ = ax[1].set_xticklabels(ax[1].get_xticklabels(), rotation=45, horizontalalignment='right')\n",
    "_ = ax[0].set_xticklabels(ax[0].get_xticklabels(), rotation=45, horizontalalignment='right')\n",
    "\n",
    "\n",
    "\n",
    "_ = plt.suptitle(\"10 Most Frequent Tags\", size=20)\n",
    "_ = ax[0].set_title(\"TV2\")\n",
    "_ = ax[1].set_title(\"DR\")\n",
    "_ = ax[0].set_ylabel(\"Number of Articles\")\n",
    "_ = ax[1].set_ylabel(\"\")\n",
    "\n",
    "_ = ax[0].set(xlabel=None)\n",
    "_ = ax[1].set(xlabel=None)\n",
    "plt.savefig(\"tags.pdf\", dpi=1200)"
   ]
  },
  {
   "cell_type": "markdown",
   "id": "1b9f5a58-18c8-4407-8bbf-cccb4301d710",
   "metadata": {},
   "source": [
    "#### 3: Plotting google searches for sygeplej* on DR"
   ]
  },
  {
   "cell_type": "code",
   "execution_count": 29,
   "id": "67e04c1d-e251-4c1e-851d-14d72b0da66f",
   "metadata": {
    "tags": []
   },
   "outputs": [
    {
     "data": {
      "text/html": [
       "<div>\n",
       "<style scoped>\n",
       "    .dataframe tbody tr th:only-of-type {\n",
       "        vertical-align: middle;\n",
       "    }\n",
       "\n",
       "    .dataframe tbody tr th {\n",
       "        vertical-align: top;\n",
       "    }\n",
       "\n",
       "    .dataframe thead th {\n",
       "        text-align: right;\n",
       "    }\n",
       "</style>\n",
       "<table border=\"1\" class=\"dataframe\">\n",
       "  <thead>\n",
       "    <tr style=\"text-align: right;\">\n",
       "      <th></th>\n",
       "      <th>search_results</th>\n",
       "      <th>month</th>\n",
       "    </tr>\n",
       "  </thead>\n",
       "  <tbody>\n",
       "    <tr>\n",
       "      <th>0</th>\n",
       "      <td>2220</td>\n",
       "      <td>jan. 2012</td>\n",
       "    </tr>\n",
       "    <tr>\n",
       "      <th>1</th>\n",
       "      <td>1450</td>\n",
       "      <td>feb. 2012</td>\n",
       "    </tr>\n",
       "    <tr>\n",
       "      <th>2</th>\n",
       "      <td>1360</td>\n",
       "      <td>mar. 2012</td>\n",
       "    </tr>\n",
       "    <tr>\n",
       "      <th>3</th>\n",
       "      <td>1310</td>\n",
       "      <td>apr. 2012</td>\n",
       "    </tr>\n",
       "    <tr>\n",
       "      <th>4</th>\n",
       "      <td>1700</td>\n",
       "      <td>maj 2012</td>\n",
       "    </tr>\n",
       "    <tr>\n",
       "      <th>...</th>\n",
       "      <td>...</td>\n",
       "      <td>...</td>\n",
       "    </tr>\n",
       "    <tr>\n",
       "      <th>123</th>\n",
       "      <td>1160</td>\n",
       "      <td>apr. 2022</td>\n",
       "    </tr>\n",
       "    <tr>\n",
       "      <th>124</th>\n",
       "      <td>10600</td>\n",
       "      <td>maj 2022</td>\n",
       "    </tr>\n",
       "    <tr>\n",
       "      <th>125</th>\n",
       "      <td>22</td>\n",
       "      <td>jun. 2022</td>\n",
       "    </tr>\n",
       "    <tr>\n",
       "      <th>126</th>\n",
       "      <td>423</td>\n",
       "      <td>jul. 2022</td>\n",
       "    </tr>\n",
       "    <tr>\n",
       "      <th>127</th>\n",
       "      <td>3030</td>\n",
       "      <td>aug. 2022</td>\n",
       "    </tr>\n",
       "  </tbody>\n",
       "</table>\n",
       "<p>128 rows × 2 columns</p>\n",
       "</div>"
      ],
      "text/plain": [
       "     search_results      month\n",
       "0              2220  jan. 2012\n",
       "1              1450  feb. 2012\n",
       "2              1360  mar. 2012\n",
       "3              1310  apr. 2012\n",
       "4              1700   maj 2012\n",
       "..              ...        ...\n",
       "123            1160  apr. 2022\n",
       "124           10600   maj 2022\n",
       "125              22  jun. 2022\n",
       "126             423  jul. 2022\n",
       "127            3030  aug. 2022\n",
       "\n",
       "[128 rows x 2 columns]"
      ]
     },
     "execution_count": 29,
     "metadata": {},
     "output_type": "execute_result"
    }
   ],
   "source": [
    "dr_google_search_results"
   ]
  },
  {
   "cell_type": "code",
   "execution_count": 30,
   "id": "ac322423-acfc-4c67-8aaf-84611da54fe6",
   "metadata": {},
   "outputs": [
    {
     "data": {
      "image/png": "[encoded data removed]",
      "text/plain": [
       "<Figure size 1440x720 with 1 Axes>"
      ]
     },
     "metadata": {},
     "output_type": "display_data"
    }
   ],
   "source": [
    "fig, ax = plt.subplots(nrows=1, ncols=1, sharey=False, figsize=(20,10))\n",
    "\n",
    "sns.lineplot(x = 'month', y = 'search_results', data = dr_google_search_results)\n",
    "\n",
    "_ = plt.title (\"Development of number of DR articles results for Google search for sygeplej* and month year combination\", fontsize = 18)\n",
    "_ = plt.ylabel(\"Number of articles\")\n",
    "_ = plt.xticks([0, 6, 12, 18, 24, 30, 36, 42, 48, 54, 60, 66, 72, 78, 84, 90, 96, 102, 108, 114, 120, 127])\n",
    "_ = plt.xticks(rotation=45)\n",
    "\n",
    "\n",
    "plt.savefig(\"DR_sygeplej_searches.pdf\", dpi=1200)\n",
    "plt.show()"
   ]
  },
  {
   "cell_type": "code",
   "execution_count": 31,
   "id": "059d3c30-82f7-4294-ae35-cefd862ed7fb",
   "metadata": {},
   "outputs": [
    {
     "data": {
      "text/html": [
       "<div>\n",
       "<style scoped>\n",
       "    .dataframe tbody tr th:only-of-type {\n",
       "        vertical-align: middle;\n",
       "    }\n",
       "\n",
       "    .dataframe tbody tr th {\n",
       "        vertical-align: top;\n",
       "    }\n",
       "\n",
       "    .dataframe thead th {\n",
       "        text-align: right;\n",
       "    }\n",
       "</style>\n",
       "<table border=\"1\" class=\"dataframe\">\n",
       "  <thead>\n",
       "    <tr style=\"text-align: right;\">\n",
       "      <th></th>\n",
       "      <th>search_results</th>\n",
       "      <th>month</th>\n",
       "    </tr>\n",
       "  </thead>\n",
       "  <tbody>\n",
       "    <tr>\n",
       "      <th>100</th>\n",
       "      <td>11600</td>\n",
       "      <td>maj 2020</td>\n",
       "    </tr>\n",
       "    <tr>\n",
       "      <th>124</th>\n",
       "      <td>10600</td>\n",
       "      <td>maj 2022</td>\n",
       "    </tr>\n",
       "    <tr>\n",
       "      <th>112</th>\n",
       "      <td>9220</td>\n",
       "      <td>maj 2021</td>\n",
       "    </tr>\n",
       "    <tr>\n",
       "      <th>127</th>\n",
       "      <td>3030</td>\n",
       "      <td>aug. 2022</td>\n",
       "    </tr>\n",
       "    <tr>\n",
       "      <th>122</th>\n",
       "      <td>2780</td>\n",
       "      <td>mar. 2022</td>\n",
       "    </tr>\n",
       "  </tbody>\n",
       "</table>\n",
       "</div>"
      ],
      "text/plain": [
       "     search_results      month\n",
       "100           11600   maj 2020\n",
       "124           10600   maj 2022\n",
       "112            9220   maj 2021\n",
       "127            3030  aug. 2022\n",
       "122            2780  mar. 2022"
      ]
     },
     "execution_count": 31,
     "metadata": {},
     "output_type": "execute_result"
    }
   ],
   "source": [
    "dr_google_search_results = dr_google_search_results.sort_values('search_results', ascending = False)\n",
    "dr_google_search_results.head(5)"
   ]
  },
  {
   "cell_type": "code",
   "execution_count": 32,
   "id": "ba179a0c-8b15-423f-af05-a88222f2f508",
   "metadata": {},
   "outputs": [],
   "source": [
    "with open('dr_months_most_searches_sygeplej.tex','w') as tf:\n",
    "    tf.write(dr_google_search_results.head(5).to_latex(index=False))\n",
    "with open('dr_months_least_searches_sygeplej.tex','w') as tf:\n",
    "    tf.write(dr_google_search_results.tail(5).to_latex(index=False))"
   ]
  },
  {
   "cell_type": "markdown",
   "id": "929d1e26-0d55-45c0-bcb4-5f5bc3ec9a47",
   "metadata": {},
   "source": [
    "### Preparing documents"
   ]
  },
  {
   "cell_type": "markdown",
   "id": "a784ad56-655e-438e-a585-16eb042724f9",
   "metadata": {
    "tags": []
   },
   "source": [
    "#### 1: Removing unnecessary characters"
   ]
  },
  {
   "cell_type": "code",
   "execution_count": 33,
   "id": "86eea219-b670-4a13-b22b-318a072d2bd8",
   "metadata": {},
   "outputs": [],
   "source": [
    "def analysis_cleaner(document):\n",
    "    document = re.sub(r'[^\\w\\s]', '', document) #Remove non-alphanumeric characters\n",
    "    document = re.sub(r'[^\\D+]', '', document) #Remove non-numberic characters\n",
    "    document = document.replace(r'\\W', ' ')\\\n",
    "                .replace('  ', ' ')\n",
    "    return document"
   ]
  },
  {
   "cell_type": "code",
   "execution_count": 34,
   "id": "56a938ef-d9f7-452f-8ff6-3312a5b8f1c5",
   "metadata": {},
   "outputs": [],
   "source": [
    "dr_analysis = dr_sygeplej2x.copy()\n",
    "tv2_analysis = tv2_sygeplej2x.copy()\n",
    "ft_analysis = ft_sygeplej2x.copy()\n",
    "\n",
    "dr_analysis[\"content_cleaned\"] = dr_analysis[\"content\"].apply(analysis_cleaner)\n",
    "tv2_analysis[\"content_cleaned\"] = tv2_analysis[\"content\"].apply(analysis_cleaner)\n",
    "ft_analysis[\"content_cleaned\"] = ft_analysis[\"content\"].apply(analysis_cleaner)"
   ]
  },
  {
   "cell_type": "markdown",
   "id": "74f090b4-b7e7-4d75-9352-0646418aa051",
   "metadata": {},
   "source": [
    "#### 3: Add preprocess column"
   ]
  },
  {
   "cell_type": "markdown",
   "id": "6470df84-5288-4bd9-9d90-066feb6308e0",
   "metadata": {},
   "source": [
    "Define function:"
   ]
  },
  {
   "cell_type": "code",
   "execution_count": 35,
   "id": "1edbd071-2687-46aa-b6b0-6024890014e0",
   "metadata": {},
   "outputs": [],
   "source": [
    "def pre_process(document):\n",
    "    stemmer = SnowballStemmer(\"danish\")\n",
    "    danish_stopwords=stopwords.words(\"danish\")\n",
    "    \n",
    "    document = nltk.tokenize.word_tokenize(document) # tokenize\n",
    "    document = [word for word in document if not word in danish_stopwords] # delete stopwords\n",
    "    document = [stemmer.stem(word) for word in document] # all stemmed words in a list\n",
    "    document =' '.join(document) # joining stemmed words\n",
    "    return document"
   ]
  },
  {
   "cell_type": "markdown",
   "id": "5f5c60ff-8f4a-47c7-85f2-e735d0e21637",
   "metadata": {},
   "source": [
    "Run function on datasets to create a conten_cleaned column:"
   ]
  },
  {
   "cell_type": "code",
   "execution_count": 59,
   "id": "19e11dca-7d8a-4416-9c05-b4414485770a",
   "metadata": {},
   "outputs": [],
   "source": [
    "dr_analysis[\"content_prepr\"] = dr_analysis[\"content_cleaned\"].apply(pre_process)\n",
    "tv2_analysis[\"content_prepr\"] = tv2_analysis[\"content_cleaned\"].apply(pre_process)\n",
    "ft_analysis[\"content_prepr\"] = ft_analysis[\"content_cleaned\"].apply(pre_process)"
   ]
  },
  {
   "cell_type": "code",
   "execution_count": 60,
   "id": "67982767-a0ec-4fa9-a1d2-021f807d05d1",
   "metadata": {},
   "outputs": [],
   "source": [
    "# GOOGLE MAY 2020, 2021, 2021\n",
    "\n",
    "def top_words_month(df, year, month):\n",
    "    df_year=df[df['date'].dt.year == year]\n",
    "    df_month=df[df['date'].dt.month == month]\n",
    "    df_month_bow=BoW_relevant(df_month)\n",
    "    return df_month_bow"
   ]
  },
  {
   "cell_type": "code",
   "execution_count": 61,
   "id": "d9551437-b205-419a-9820-1f7f411da5b3",
   "metadata": {},
   "outputs": [
    {
     "ename": "UnboundLocalError",
     "evalue": "local variable 'matrix_sum' referenced before assignment",
     "output_type": "error",
     "traceback": [
      "\u001b[1;31m---------------------------------------------------------------------------\u001b[0m",
      "\u001b[1;31mUnboundLocalError\u001b[0m                         Traceback (most recent call last)",
      "\u001b[1;32m~\\AppData\\Local\\Temp/ipykernel_2448/2886315022.py\u001b[0m in \u001b[0;36m<module>\u001b[1;34m\u001b[0m\n\u001b[1;32m----> 1\u001b[1;33m \u001b[0mdr_analysis_May20\u001b[0m \u001b[1;33m=\u001b[0m \u001b[0mtop_words_month\u001b[0m\u001b[1;33m(\u001b[0m\u001b[0mdr_analysis\u001b[0m\u001b[1;33m,\u001b[0m \u001b[1;36m2022\u001b[0m\u001b[1;33m,\u001b[0m \u001b[1;36m5\u001b[0m\u001b[1;33m)\u001b[0m\u001b[1;33m\u001b[0m\u001b[1;33m\u001b[0m\u001b[0m\n\u001b[0m",
      "\u001b[1;32m~\\AppData\\Local\\Temp/ipykernel_2448/472158580.py\u001b[0m in \u001b[0;36mtop_words_month\u001b[1;34m(df, year, month)\u001b[0m\n\u001b[0;32m      4\u001b[0m     \u001b[0mdf_year\u001b[0m\u001b[1;33m=\u001b[0m\u001b[0mdf\u001b[0m\u001b[1;33m[\u001b[0m\u001b[0mdf\u001b[0m\u001b[1;33m[\u001b[0m\u001b[1;34m'date'\u001b[0m\u001b[1;33m]\u001b[0m\u001b[1;33m.\u001b[0m\u001b[0mdt\u001b[0m\u001b[1;33m.\u001b[0m\u001b[0myear\u001b[0m \u001b[1;33m==\u001b[0m \u001b[0myear\u001b[0m\u001b[1;33m]\u001b[0m\u001b[1;33m\u001b[0m\u001b[1;33m\u001b[0m\u001b[0m\n\u001b[0;32m      5\u001b[0m     \u001b[0mdf_month\u001b[0m\u001b[1;33m=\u001b[0m\u001b[0mdf\u001b[0m\u001b[1;33m[\u001b[0m\u001b[0mdf\u001b[0m\u001b[1;33m[\u001b[0m\u001b[1;34m'date'\u001b[0m\u001b[1;33m]\u001b[0m\u001b[1;33m.\u001b[0m\u001b[0mdt\u001b[0m\u001b[1;33m.\u001b[0m\u001b[0mmonth\u001b[0m \u001b[1;33m==\u001b[0m \u001b[0mmonth\u001b[0m\u001b[1;33m]\u001b[0m\u001b[1;33m\u001b[0m\u001b[1;33m\u001b[0m\u001b[0m\n\u001b[1;32m----> 6\u001b[1;33m     \u001b[0mdf_month_bow\u001b[0m\u001b[1;33m=\u001b[0m\u001b[0mBoW_relevant\u001b[0m\u001b[1;33m(\u001b[0m\u001b[0mdf_month\u001b[0m\u001b[1;33m)\u001b[0m\u001b[1;33m\u001b[0m\u001b[1;33m\u001b[0m\u001b[0m\n\u001b[0m\u001b[0;32m      7\u001b[0m     \u001b[1;32mreturn\u001b[0m \u001b[0mdf_month_bow\u001b[0m\u001b[1;33m\u001b[0m\u001b[1;33m\u001b[0m\u001b[0m\n",
      "\u001b[1;32m~\\AppData\\Local\\Temp/ipykernel_2448/4278726332.py\u001b[0m in \u001b[0;36mBoW_relevant\u001b[1;34m(df)\u001b[0m\n\u001b[0;32m     11\u001b[0m     \u001b[1;32mexcept\u001b[0m\u001b[1;33m:\u001b[0m\u001b[1;33m\u001b[0m\u001b[1;33m\u001b[0m\u001b[0m\n\u001b[0;32m     12\u001b[0m         \u001b[1;32mpass\u001b[0m\u001b[1;33m\u001b[0m\u001b[1;33m\u001b[0m\u001b[0m\n\u001b[1;32m---> 13\u001b[1;33m     \u001b[1;32mreturn\u001b[0m \u001b[0mmatrix_sum\u001b[0m\u001b[1;33m\u001b[0m\u001b[1;33m\u001b[0m\u001b[0m\n\u001b[0m",
      "\u001b[1;31mUnboundLocalError\u001b[0m: local variable 'matrix_sum' referenced before assignment"
     ]
    }
   ],
   "source": [
    "dr_analysis_May20 = top_words_month(dr_analysis, 2022, 5)"
   ]
  },
  {
   "cell_type": "code",
   "execution_count": 41,
   "id": "6896e694-40d9-4b81-a121-5a97c1c89c6e",
   "metadata": {},
   "outputs": [
    {
     "data": {
      "text/html": [
       "<div>\n",
       "<style scoped>\n",
       "    .dataframe tbody tr th:only-of-type {\n",
       "        vertical-align: middle;\n",
       "    }\n",
       "\n",
       "    .dataframe tbody tr th {\n",
       "        vertical-align: top;\n",
       "    }\n",
       "\n",
       "    .dataframe thead th {\n",
       "        text-align: right;\n",
       "    }\n",
       "</style>\n",
       "<table border=\"1\" class=\"dataframe\">\n",
       "  <thead>\n",
       "    <tr style=\"text-align: right;\">\n",
       "      <th></th>\n",
       "      <th>titles</th>\n",
       "      <th>sub_header</th>\n",
       "      <th>h2</th>\n",
       "      <th>content</th>\n",
       "      <th>author</th>\n",
       "      <th>tag</th>\n",
       "      <th>date</th>\n",
       "      <th>link</th>\n",
       "      <th>source</th>\n",
       "      <th>content_cleaned</th>\n",
       "      <th>content_prepr</th>\n",
       "    </tr>\n",
       "  </thead>\n",
       "  <tbody>\n",
       "    <tr>\n",
       "      <th>0</th>\n",
       "      <td>danske sygeplejersker får job i norge</td>\n",
       "      <td>krise, fyringer og ansættelsesstop får sygeple...</td>\n",
       "      <td>markant flere</td>\n",
       "      <td>antallet af danske sygeplejersker, der har fåe...</td>\n",
       "      <td>ritzau/</td>\n",
       "      <td>Penge</td>\n",
       "      <td>2012-01-19 13:27:00+00:00</td>\n",
       "      <td>https://www.dr.dk/nyheder/penge/danske-sygeple...</td>\n",
       "      <td>DR</td>\n",
       "      <td>antallet af danske sygeplejersker der har fået...</td>\n",
       "      <td>antal dansk sygeplejersk fået autorisation nor...</td>\n",
       "    </tr>\n",
       "    <tr>\n",
       "      <th>1</th>\n",
       "      <td>næsten ingen ledige sygeplejersker</td>\n",
       "      <td>trods fyringsrunder i både 2010 og 2011 er arb...</td>\n",
       "      <td>NaN</td>\n",
       "      <td>trods fyringsrunder på sygehusene i både 2010 ...</td>\n",
       "      <td>henny mortensen</td>\n",
       "      <td>Sjælland</td>\n",
       "      <td>2012-01-28 07:42:00+00:00</td>\n",
       "      <td>https://www.dr.dk/nyheder/regionale/sjaelland/...</td>\n",
       "      <td>DR</td>\n",
       "      <td>trods fyringsrunder på sygehusene i både og og...</td>\n",
       "      <td>trod fyringsrund sygehus båd nedlæg sygehus fa...</td>\n",
       "    </tr>\n",
       "    <tr>\n",
       "      <th>5</th>\n",
       "      <td>regionsformand: jeg har ikke noget at undskylde</td>\n",
       "      <td>steen bach nielsen forstår ikke, at sygeplejer...</td>\n",
       "      <td>NaN</td>\n",
       "      <td>der er ikke noget at undskylde eller beklage.....</td>\n",
       "      <td>jørgen hansen</td>\n",
       "      <td>Sjælland</td>\n",
       "      <td>2012-01-24 15:39:00+00:00</td>\n",
       "      <td>https://www.dr.dk/nyheder/regionale/sjaelland/...</td>\n",
       "      <td>DR</td>\n",
       "      <td>der er ikke noget at undskylde eller beklage f...</td>\n",
       "      <td>undskyld beklag formand region sjælland steen ...</td>\n",
       "    </tr>\n",
       "    <tr>\n",
       "      <th>14</th>\n",
       "      <td>sygeplejersker vil skære i nattevagter</td>\n",
       "      <td>risiko for at natarbejde er kræftfremkaldende ...</td>\n",
       "      <td>færre nattevagter fast døgnrytme er vigtig</td>\n",
       "      <td>dansk sygeplejeråd, der repræsenterer landets ...</td>\n",
       "      <td>ritzau</td>\n",
       "      <td>Indland</td>\n",
       "      <td>2012-02-21 10:48:00+00:00</td>\n",
       "      <td>https://www.dr.dk/nyheder/indland/sygeplejersk...</td>\n",
       "      <td>DR</td>\n",
       "      <td>dansk sygeplejeråd der repræsenterer landets o...</td>\n",
       "      <td>dansk sygeplejeråd repræsent land omkring syge...</td>\n",
       "    </tr>\n",
       "    <tr>\n",
       "      <th>15</th>\n",
       "      <td>udenlandske sygeplejersker er taget hjem</td>\n",
       "      <td>det er slut med sygeplejerudtryk på gebrokkent...</td>\n",
       "      <td>NaN</td>\n",
       "      <td>det er slut med sygeplejerudtryk på gebrokkent...</td>\n",
       "      <td>mikkel from nielsen</td>\n",
       "      <td>Nordjylland</td>\n",
       "      <td>2012-02-27 15:26:00+00:00</td>\n",
       "      <td>https://www.dr.dk/nyheder/regionale/nordjyllan...</td>\n",
       "      <td>DR</td>\n",
       "      <td>det er slut med sygeplejerudtryk på gebrokkent...</td>\n",
       "      <td>slut sygeplejerudtryk gebrokkent dansk nordjys...</td>\n",
       "    </tr>\n",
       "    <tr>\n",
       "      <th>...</th>\n",
       "      <td>...</td>\n",
       "      <td>...</td>\n",
       "      <td>...</td>\n",
       "      <td>...</td>\n",
       "      <td>...</td>\n",
       "      <td>...</td>\n",
       "      <td>...</td>\n",
       "      <td>...</td>\n",
       "      <td>...</td>\n",
       "      <td>...</td>\n",
       "      <td>...</td>\n",
       "    </tr>\n",
       "    <tr>\n",
       "      <th>1495</th>\n",
       "      <td>læger og sygeplejersker siger stop: 'kan ikke ...</td>\n",
       "      <td>ifølge ansatte på holbæk sygehus, så er forhol...</td>\n",
       "      <td>besøg fra arbejdstilsynet klare krav</td>\n",
       "      <td>det er ikke kun sygeplejersker, der flygter fr...</td>\n",
       "      <td>trine warrer juul</td>\n",
       "      <td>Sjælland</td>\n",
       "      <td>2021-12-06 04:55:00+00:00</td>\n",
       "      <td>https://www.dr.dk/nyheder/regionale/sjaelland/...</td>\n",
       "      <td>DR</td>\n",
       "      <td>det er ikke kun sygeplejersker der flygter fra...</td>\n",
       "      <td>kun sygeplejersk flygt region sjælland sygehus...</td>\n",
       "    </tr>\n",
       "    <tr>\n",
       "      <th>1496</th>\n",
       "      <td>detektor: talsperson erkender - har ikke tal p...</td>\n",
       "      <td>talsperson for opsigelser blandt sygeplejerske...</td>\n",
       "      <td>debatindlæg som dokumenation sundhedsøkonom: '...</td>\n",
       "      <td>- patienter ligger på gangene og dør, fordi de...</td>\n",
       "      <td>august stenbroen</td>\n",
       "      <td>Detektor</td>\n",
       "      <td>2021-12-22 19:39:00+00:00</td>\n",
       "      <td>https://www.dr.dk/nyheder/detektor/detektor-ta...</td>\n",
       "      <td>DR</td>\n",
       "      <td>patienter ligger på gangene og dør fordi de i...</td>\n",
       "      <td>patient lig gang dør fordi tils sagd luca pris...</td>\n",
       "    </tr>\n",
       "    <tr>\n",
       "      <th>1497</th>\n",
       "      <td>flere sygeplejersker skifter til det private: ...</td>\n",
       "      <td>der skal gøres noget ved løn og vilkår i det o...</td>\n",
       "      <td>fik hjertebanken sygeplejerskerne siger fra ’i...</td>\n",
       "      <td>højere løn og bedre arbejdstider. det var det,...</td>\n",
       "      <td>allan nisgaard</td>\n",
       "      <td>Indland</td>\n",
       "      <td>2021-12-29 04:46:00+00:00</td>\n",
       "      <td>https://www.dr.dk/nyheder/indland/flere-sygepl...</td>\n",
       "      <td>DR</td>\n",
       "      <td>højere løn og bedre arbejdstider det var det s...</td>\n",
       "      <td>høj løn bedr arbejdstid fik sygeplejerskevikar...</td>\n",
       "    </tr>\n",
       "    <tr>\n",
       "      <th>1498</th>\n",
       "      <td>nu skal sygeplejersker og læger fra hospitaler...</td>\n",
       "      <td>i både region midtjylland og region syddanmark...</td>\n",
       "      <td>frygter længere ventelister ansætter mange</td>\n",
       "      <td>meldingen fra sundhedsmyndighederne har været ...</td>\n",
       "      <td>emil eller</td>\n",
       "      <td>Indland</td>\n",
       "      <td>2021-12-15 04:50:00+00:00</td>\n",
       "      <td>https://www.dr.dk/nyheder/indland/nu-skal-syge...</td>\n",
       "      <td>DR</td>\n",
       "      <td>meldingen fra sundhedsmyndighederne har været ...</td>\n",
       "      <td>melding sundhedsmyndighed helt klar rigt fart ...</td>\n",
       "    </tr>\n",
       "    <tr>\n",
       "      <th>1499</th>\n",
       "      <td>'det skal være normen at være på fuldtid': men...</td>\n",
       "      <td>regionshospitalet randers kunne få timer svare...</td>\n",
       "      <td>fuldtidsstrategi enormt potentiale sygeplejers...</td>\n",
       "      <td>det var et ønske om at se sine børn noget mere...</td>\n",
       "      <td>thomas klose jensen</td>\n",
       "      <td>Østjylland</td>\n",
       "      <td>2021-12-11 05:46:00+00:00</td>\n",
       "      <td>https://www.dr.dk/nyheder/regionale/oestjyllan...</td>\n",
       "      <td>DR</td>\n",
       "      <td>det var et ønske om at se sine børn noget mere...</td>\n",
       "      <td>ønsk se børn mer oprind fik mal seld krogh gå ...</td>\n",
       "    </tr>\n",
       "  </tbody>\n",
       "</table>\n",
       "<p>495 rows × 11 columns</p>\n",
       "</div>"
      ],
      "text/plain": [
       "                                                 titles  \\\n",
       "0                 danske sygeplejersker får job i norge   \n",
       "1                    næsten ingen ledige sygeplejersker   \n",
       "5       regionsformand: jeg har ikke noget at undskylde   \n",
       "14               sygeplejersker vil skære i nattevagter   \n",
       "15             udenlandske sygeplejersker er taget hjem   \n",
       "...                                                 ...   \n",
       "1495  læger og sygeplejersker siger stop: 'kan ikke ...   \n",
       "1496  detektor: talsperson erkender - har ikke tal p...   \n",
       "1497  flere sygeplejersker skifter til det private: ...   \n",
       "1498  nu skal sygeplejersker og læger fra hospitaler...   \n",
       "1499  'det skal være normen at være på fuldtid': men...   \n",
       "\n",
       "                                             sub_header  \\\n",
       "0     krise, fyringer og ansættelsesstop får sygeple...   \n",
       "1     trods fyringsrunder i både 2010 og 2011 er arb...   \n",
       "5     steen bach nielsen forstår ikke, at sygeplejer...   \n",
       "14    risiko for at natarbejde er kræftfremkaldende ...   \n",
       "15    det er slut med sygeplejerudtryk på gebrokkent...   \n",
       "...                                                 ...   \n",
       "1495  ifølge ansatte på holbæk sygehus, så er forhol...   \n",
       "1496  talsperson for opsigelser blandt sygeplejerske...   \n",
       "1497  der skal gøres noget ved løn og vilkår i det o...   \n",
       "1498  i både region midtjylland og region syddanmark...   \n",
       "1499  regionshospitalet randers kunne få timer svare...   \n",
       "\n",
       "                                                     h2  \\\n",
       "0                                         markant flere   \n",
       "1                                                   NaN   \n",
       "5                                                   NaN   \n",
       "14           færre nattevagter fast døgnrytme er vigtig   \n",
       "15                                                  NaN   \n",
       "...                                                 ...   \n",
       "1495               besøg fra arbejdstilsynet klare krav   \n",
       "1496  debatindlæg som dokumenation sundhedsøkonom: '...   \n",
       "1497  fik hjertebanken sygeplejerskerne siger fra ’i...   \n",
       "1498         frygter længere ventelister ansætter mange   \n",
       "1499  fuldtidsstrategi enormt potentiale sygeplejers...   \n",
       "\n",
       "                                                content               author  \\\n",
       "0     antallet af danske sygeplejersker, der har fåe...              ritzau/   \n",
       "1     trods fyringsrunder på sygehusene i både 2010 ...      henny mortensen   \n",
       "5     der er ikke noget at undskylde eller beklage.....        jørgen hansen   \n",
       "14    dansk sygeplejeråd, der repræsenterer landets ...               ritzau   \n",
       "15    det er slut med sygeplejerudtryk på gebrokkent...  mikkel from nielsen   \n",
       "...                                                 ...                  ...   \n",
       "1495  det er ikke kun sygeplejersker, der flygter fr...    trine warrer juul   \n",
       "1496  - patienter ligger på gangene og dør, fordi de...     august stenbroen   \n",
       "1497  højere løn og bedre arbejdstider. det var det,...       allan nisgaard   \n",
       "1498  meldingen fra sundhedsmyndighederne har været ...           emil eller   \n",
       "1499  det var et ønske om at se sine børn noget mere...  thomas klose jensen   \n",
       "\n",
       "              tag                      date  \\\n",
       "0           Penge 2012-01-19 13:27:00+00:00   \n",
       "1        Sjælland 2012-01-28 07:42:00+00:00   \n",
       "5        Sjælland 2012-01-24 15:39:00+00:00   \n",
       "14        Indland 2012-02-21 10:48:00+00:00   \n",
       "15    Nordjylland 2012-02-27 15:26:00+00:00   \n",
       "...           ...                       ...   \n",
       "1495     Sjælland 2021-12-06 04:55:00+00:00   \n",
       "1496     Detektor 2021-12-22 19:39:00+00:00   \n",
       "1497      Indland 2021-12-29 04:46:00+00:00   \n",
       "1498      Indland 2021-12-15 04:50:00+00:00   \n",
       "1499   Østjylland 2021-12-11 05:46:00+00:00   \n",
       "\n",
       "                                                   link source  \\\n",
       "0     https://www.dr.dk/nyheder/penge/danske-sygeple...     DR   \n",
       "1     https://www.dr.dk/nyheder/regionale/sjaelland/...     DR   \n",
       "5     https://www.dr.dk/nyheder/regionale/sjaelland/...     DR   \n",
       "14    https://www.dr.dk/nyheder/indland/sygeplejersk...     DR   \n",
       "15    https://www.dr.dk/nyheder/regionale/nordjyllan...     DR   \n",
       "...                                                 ...    ...   \n",
       "1495  https://www.dr.dk/nyheder/regionale/sjaelland/...     DR   \n",
       "1496  https://www.dr.dk/nyheder/detektor/detektor-ta...     DR   \n",
       "1497  https://www.dr.dk/nyheder/indland/flere-sygepl...     DR   \n",
       "1498  https://www.dr.dk/nyheder/indland/nu-skal-syge...     DR   \n",
       "1499  https://www.dr.dk/nyheder/regionale/oestjyllan...     DR   \n",
       "\n",
       "                                        content_cleaned  \\\n",
       "0     antallet af danske sygeplejersker der har fået...   \n",
       "1     trods fyringsrunder på sygehusene i både og og...   \n",
       "5     der er ikke noget at undskylde eller beklage f...   \n",
       "14    dansk sygeplejeråd der repræsenterer landets o...   \n",
       "15    det er slut med sygeplejerudtryk på gebrokkent...   \n",
       "...                                                 ...   \n",
       "1495  det er ikke kun sygeplejersker der flygter fra...   \n",
       "1496   patienter ligger på gangene og dør fordi de i...   \n",
       "1497  højere løn og bedre arbejdstider det var det s...   \n",
       "1498  meldingen fra sundhedsmyndighederne har været ...   \n",
       "1499  det var et ønske om at se sine børn noget mere...   \n",
       "\n",
       "                                          content_prepr  \n",
       "0     antal dansk sygeplejersk fået autorisation nor...  \n",
       "1     trod fyringsrund sygehus båd nedlæg sygehus fa...  \n",
       "5     undskyld beklag formand region sjælland steen ...  \n",
       "14    dansk sygeplejeråd repræsent land omkring syge...  \n",
       "15    slut sygeplejerudtryk gebrokkent dansk nordjys...  \n",
       "...                                                 ...  \n",
       "1495  kun sygeplejersk flygt region sjælland sygehus...  \n",
       "1496  patient lig gang dør fordi tils sagd luca pris...  \n",
       "1497  høj løn bedr arbejdstid fik sygeplejerskevikar...  \n",
       "1498  melding sundhedsmyndighed helt klar rigt fart ...  \n",
       "1499  ønsk se børn mer oprind fik mal seld krogh gå ...  \n",
       "\n",
       "[495 rows x 11 columns]"
      ]
     },
     "execution_count": 41,
     "metadata": {},
     "output_type": "execute_result"
    }
   ],
   "source": [
    "dr_analysis_"
   ]
  },
  {
   "cell_type": "markdown",
   "id": "a3cc62a7-348d-41f3-8e39-ae73f4ef4915",
   "metadata": {
    "jp-MarkdownHeadingCollapsed": true,
    "tags": []
   },
   "source": [
    "#### 4: Add a column with words within n words of sygeplejsk* in documents"
   ]
  },
  {
   "cell_type": "markdown",
   "id": "0fd73d5c-0fab-4c3e-b03a-923f0fb8e246",
   "metadata": {},
   "source": [
    "Defining a function that returns the sorrounding n words for a given word:"
   ]
  },
  {
   "cell_type": "code",
   "execution_count": 37,
   "id": "c5a4c8cf-583d-4f3e-b96d-9f755cc87764",
   "metadata": {},
   "outputs": [],
   "source": [
    "def extract_surround_words_BetterRead(text, keyword, n):\n",
    "    '''\n",
    "    text : input text\n",
    "    keyword : the search keyword we are looking\n",
    "    n : number of words around the keyword\n",
    "    '''\n",
    "    surround_words=[]\n",
    "    #extracting all the words from text\n",
    "    words = re.findall(r'\\w+', text)\n",
    "    \n",
    "    #iterate through all the words\n",
    "    for index, word in enumerate(words):\n",
    "\n",
    "        #check if search keyword matches\n",
    "        if keyword in word:\n",
    "            #fetch left side words\n",
    "            left_side_words = words[index-n : index]\n",
    "            \n",
    "            #fetch right side words\n",
    "            right_side_words = words[index+1 : index + n + 1]\n",
    "            \n",
    "            surround_words.append(left_side_words + keyword)\n",
    "            surround_words.append(right_side_words)\n",
    "    return surround_words"
   ]
  },
  {
   "cell_type": "markdown",
   "id": "30e35cb2-055d-45b3-b897-b3d7510b44d2",
   "metadata": {},
   "source": [
    "Defining a function that creates a new column with extract_surround_words function for our three datasets:"
   ]
  },
  {
   "cell_type": "code",
   "execution_count": 38,
   "id": "7bb10a60-abf9-44b2-ae37-189f4c9312e7",
   "metadata": {},
   "outputs": [],
   "source": [
    "def find_relevant_BetterRead(df, word, n):\n",
    "    r=[]\n",
    "    for row in df[\"content_cleaned\"]:\n",
    "        temp= extract_surround_words_BetterRead(row, word, n)\n",
    "        temp_list=[]\n",
    "        for i in temp:\n",
    "            stems=' '.join(i)\n",
    "            temp_list.append(stems)\n",
    "            s=\" \".join(temp_list)\n",
    "        r.append(s)\n",
    "    df['relevant_text']=r\n",
    "    return df"
   ]
  },
  {
   "cell_type": "code",
   "execution_count": 39,
   "id": "10a1ca82-145e-419d-a78f-43a16f5ba0fa",
   "metadata": {
    "tags": []
   },
   "outputs": [
    {
     "data": {
      "text/html": [
       "<div>\n",
       "<style scoped>\n",
       "    .dataframe tbody tr th:only-of-type {\n",
       "        vertical-align: middle;\n",
       "    }\n",
       "\n",
       "    .dataframe tbody tr th {\n",
       "        vertical-align: top;\n",
       "    }\n",
       "\n",
       "    .dataframe thead th {\n",
       "        text-align: right;\n",
       "    }\n",
       "</style>\n",
       "<table border=\"1\" class=\"dataframe\">\n",
       "  <thead>\n",
       "    <tr style=\"text-align: right;\">\n",
       "      <th></th>\n",
       "      <th>titles</th>\n",
       "      <th>sub_header</th>\n",
       "      <th>h2</th>\n",
       "      <th>content</th>\n",
       "      <th>author</th>\n",
       "      <th>tag</th>\n",
       "      <th>date</th>\n",
       "      <th>link</th>\n",
       "      <th>source</th>\n",
       "      <th>content_cleaned</th>\n",
       "      <th>content_prepr</th>\n",
       "    </tr>\n",
       "  </thead>\n",
       "  <tbody>\n",
       "    <tr>\n",
       "      <th>0</th>\n",
       "      <td>danske sygeplejersker får job i norge</td>\n",
       "      <td>krise, fyringer og ansættelsesstop får sygeple...</td>\n",
       "      <td>markant flere</td>\n",
       "      <td>antallet af danske sygeplejersker, der har fåe...</td>\n",
       "      <td>ritzau/</td>\n",
       "      <td>Penge</td>\n",
       "      <td>2012-01-19 13:27:00+00:00</td>\n",
       "      <td>https://www.dr.dk/nyheder/penge/danske-sygeple...</td>\n",
       "      <td>DR</td>\n",
       "      <td>antallet af danske sygeplejersker der har fået...</td>\n",
       "      <td>antal dansk sygeplejersk fået autorisation nor...</td>\n",
       "    </tr>\n",
       "    <tr>\n",
       "      <th>1</th>\n",
       "      <td>næsten ingen ledige sygeplejersker</td>\n",
       "      <td>trods fyringsrunder i både 2010 og 2011 er arb...</td>\n",
       "      <td>NaN</td>\n",
       "      <td>trods fyringsrunder på sygehusene i både 2010 ...</td>\n",
       "      <td>henny mortensen</td>\n",
       "      <td>Sjælland</td>\n",
       "      <td>2012-01-28 07:42:00+00:00</td>\n",
       "      <td>https://www.dr.dk/nyheder/regionale/sjaelland/...</td>\n",
       "      <td>DR</td>\n",
       "      <td>trods fyringsrunder på sygehusene i både og og...</td>\n",
       "      <td>trod fyringsrund sygehus båd nedlæg sygehus fa...</td>\n",
       "    </tr>\n",
       "    <tr>\n",
       "      <th>5</th>\n",
       "      <td>regionsformand: jeg har ikke noget at undskylde</td>\n",
       "      <td>steen bach nielsen forstår ikke, at sygeplejer...</td>\n",
       "      <td>NaN</td>\n",
       "      <td>der er ikke noget at undskylde eller beklage.....</td>\n",
       "      <td>jørgen hansen</td>\n",
       "      <td>Sjælland</td>\n",
       "      <td>2012-01-24 15:39:00+00:00</td>\n",
       "      <td>https://www.dr.dk/nyheder/regionale/sjaelland/...</td>\n",
       "      <td>DR</td>\n",
       "      <td>der er ikke noget at undskylde eller beklage f...</td>\n",
       "      <td>undskyld beklag formand region sjælland steen ...</td>\n",
       "    </tr>\n",
       "    <tr>\n",
       "      <th>14</th>\n",
       "      <td>sygeplejersker vil skære i nattevagter</td>\n",
       "      <td>risiko for at natarbejde er kræftfremkaldende ...</td>\n",
       "      <td>færre nattevagter fast døgnrytme er vigtig</td>\n",
       "      <td>dansk sygeplejeråd, der repræsenterer landets ...</td>\n",
       "      <td>ritzau</td>\n",
       "      <td>Indland</td>\n",
       "      <td>2012-02-21 10:48:00+00:00</td>\n",
       "      <td>https://www.dr.dk/nyheder/indland/sygeplejersk...</td>\n",
       "      <td>DR</td>\n",
       "      <td>dansk sygeplejeråd der repræsenterer landets o...</td>\n",
       "      <td>dansk sygeplejeråd repræsent land omkring syge...</td>\n",
       "    </tr>\n",
       "    <tr>\n",
       "      <th>15</th>\n",
       "      <td>udenlandske sygeplejersker er taget hjem</td>\n",
       "      <td>det er slut med sygeplejerudtryk på gebrokkent...</td>\n",
       "      <td>NaN</td>\n",
       "      <td>det er slut med sygeplejerudtryk på gebrokkent...</td>\n",
       "      <td>mikkel from nielsen</td>\n",
       "      <td>Nordjylland</td>\n",
       "      <td>2012-02-27 15:26:00+00:00</td>\n",
       "      <td>https://www.dr.dk/nyheder/regionale/nordjyllan...</td>\n",
       "      <td>DR</td>\n",
       "      <td>det er slut med sygeplejerudtryk på gebrokkent...</td>\n",
       "      <td>slut sygeplejerudtryk gebrokkent dansk nordjys...</td>\n",
       "    </tr>\n",
       "    <tr>\n",
       "      <th>...</th>\n",
       "      <td>...</td>\n",
       "      <td>...</td>\n",
       "      <td>...</td>\n",
       "      <td>...</td>\n",
       "      <td>...</td>\n",
       "      <td>...</td>\n",
       "      <td>...</td>\n",
       "      <td>...</td>\n",
       "      <td>...</td>\n",
       "      <td>...</td>\n",
       "      <td>...</td>\n",
       "    </tr>\n",
       "    <tr>\n",
       "      <th>1495</th>\n",
       "      <td>læger og sygeplejersker siger stop: 'kan ikke ...</td>\n",
       "      <td>ifølge ansatte på holbæk sygehus, så er forhol...</td>\n",
       "      <td>besøg fra arbejdstilsynet klare krav</td>\n",
       "      <td>det er ikke kun sygeplejersker, der flygter fr...</td>\n",
       "      <td>trine warrer juul</td>\n",
       "      <td>Sjælland</td>\n",
       "      <td>2021-12-06 04:55:00+00:00</td>\n",
       "      <td>https://www.dr.dk/nyheder/regionale/sjaelland/...</td>\n",
       "      <td>DR</td>\n",
       "      <td>det er ikke kun sygeplejersker der flygter fra...</td>\n",
       "      <td>kun sygeplejersk flygt region sjælland sygehus...</td>\n",
       "    </tr>\n",
       "    <tr>\n",
       "      <th>1496</th>\n",
       "      <td>detektor: talsperson erkender - har ikke tal p...</td>\n",
       "      <td>talsperson for opsigelser blandt sygeplejerske...</td>\n",
       "      <td>debatindlæg som dokumenation sundhedsøkonom: '...</td>\n",
       "      <td>- patienter ligger på gangene og dør, fordi de...</td>\n",
       "      <td>august stenbroen</td>\n",
       "      <td>Detektor</td>\n",
       "      <td>2021-12-22 19:39:00+00:00</td>\n",
       "      <td>https://www.dr.dk/nyheder/detektor/detektor-ta...</td>\n",
       "      <td>DR</td>\n",
       "      <td>patienter ligger på gangene og dør fordi de i...</td>\n",
       "      <td>patient lig gang dør fordi tils sagd luca pris...</td>\n",
       "    </tr>\n",
       "    <tr>\n",
       "      <th>1497</th>\n",
       "      <td>flere sygeplejersker skifter til det private: ...</td>\n",
       "      <td>der skal gøres noget ved løn og vilkår i det o...</td>\n",
       "      <td>fik hjertebanken sygeplejerskerne siger fra ’i...</td>\n",
       "      <td>højere løn og bedre arbejdstider. det var det,...</td>\n",
       "      <td>allan nisgaard</td>\n",
       "      <td>Indland</td>\n",
       "      <td>2021-12-29 04:46:00+00:00</td>\n",
       "      <td>https://www.dr.dk/nyheder/indland/flere-sygepl...</td>\n",
       "      <td>DR</td>\n",
       "      <td>højere løn og bedre arbejdstider det var det s...</td>\n",
       "      <td>høj løn bedr arbejdstid fik sygeplejerskevikar...</td>\n",
       "    </tr>\n",
       "    <tr>\n",
       "      <th>1498</th>\n",
       "      <td>nu skal sygeplejersker og læger fra hospitaler...</td>\n",
       "      <td>i både region midtjylland og region syddanmark...</td>\n",
       "      <td>frygter længere ventelister ansætter mange</td>\n",
       "      <td>meldingen fra sundhedsmyndighederne har været ...</td>\n",
       "      <td>emil eller</td>\n",
       "      <td>Indland</td>\n",
       "      <td>2021-12-15 04:50:00+00:00</td>\n",
       "      <td>https://www.dr.dk/nyheder/indland/nu-skal-syge...</td>\n",
       "      <td>DR</td>\n",
       "      <td>meldingen fra sundhedsmyndighederne har været ...</td>\n",
       "      <td>melding sundhedsmyndighed helt klar rigt fart ...</td>\n",
       "    </tr>\n",
       "    <tr>\n",
       "      <th>1499</th>\n",
       "      <td>'det skal være normen at være på fuldtid': men...</td>\n",
       "      <td>regionshospitalet randers kunne få timer svare...</td>\n",
       "      <td>fuldtidsstrategi enormt potentiale sygeplejers...</td>\n",
       "      <td>det var et ønske om at se sine børn noget mere...</td>\n",
       "      <td>thomas klose jensen</td>\n",
       "      <td>Østjylland</td>\n",
       "      <td>2021-12-11 05:46:00+00:00</td>\n",
       "      <td>https://www.dr.dk/nyheder/regionale/oestjyllan...</td>\n",
       "      <td>DR</td>\n",
       "      <td>det var et ønske om at se sine børn noget mere...</td>\n",
       "      <td>ønsk se børn mer oprind fik mal seld krogh gå ...</td>\n",
       "    </tr>\n",
       "  </tbody>\n",
       "</table>\n",
       "<p>495 rows × 11 columns</p>\n",
       "</div>"
      ],
      "text/plain": [
       "                                                 titles  \\\n",
       "0                 danske sygeplejersker får job i norge   \n",
       "1                    næsten ingen ledige sygeplejersker   \n",
       "5       regionsformand: jeg har ikke noget at undskylde   \n",
       "14               sygeplejersker vil skære i nattevagter   \n",
       "15             udenlandske sygeplejersker er taget hjem   \n",
       "...                                                 ...   \n",
       "1495  læger og sygeplejersker siger stop: 'kan ikke ...   \n",
       "1496  detektor: talsperson erkender - har ikke tal p...   \n",
       "1497  flere sygeplejersker skifter til det private: ...   \n",
       "1498  nu skal sygeplejersker og læger fra hospitaler...   \n",
       "1499  'det skal være normen at være på fuldtid': men...   \n",
       "\n",
       "                                             sub_header  \\\n",
       "0     krise, fyringer og ansættelsesstop får sygeple...   \n",
       "1     trods fyringsrunder i både 2010 og 2011 er arb...   \n",
       "5     steen bach nielsen forstår ikke, at sygeplejer...   \n",
       "14    risiko for at natarbejde er kræftfremkaldende ...   \n",
       "15    det er slut med sygeplejerudtryk på gebrokkent...   \n",
       "...                                                 ...   \n",
       "1495  ifølge ansatte på holbæk sygehus, så er forhol...   \n",
       "1496  talsperson for opsigelser blandt sygeplejerske...   \n",
       "1497  der skal gøres noget ved løn og vilkår i det o...   \n",
       "1498  i både region midtjylland og region syddanmark...   \n",
       "1499  regionshospitalet randers kunne få timer svare...   \n",
       "\n",
       "                                                     h2  \\\n",
       "0                                         markant flere   \n",
       "1                                                   NaN   \n",
       "5                                                   NaN   \n",
       "14           færre nattevagter fast døgnrytme er vigtig   \n",
       "15                                                  NaN   \n",
       "...                                                 ...   \n",
       "1495               besøg fra arbejdstilsynet klare krav   \n",
       "1496  debatindlæg som dokumenation sundhedsøkonom: '...   \n",
       "1497  fik hjertebanken sygeplejerskerne siger fra ’i...   \n",
       "1498         frygter længere ventelister ansætter mange   \n",
       "1499  fuldtidsstrategi enormt potentiale sygeplejers...   \n",
       "\n",
       "                                                content               author  \\\n",
       "0     antallet af danske sygeplejersker, der har fåe...              ritzau/   \n",
       "1     trods fyringsrunder på sygehusene i både 2010 ...      henny mortensen   \n",
       "5     der er ikke noget at undskylde eller beklage.....        jørgen hansen   \n",
       "14    dansk sygeplejeråd, der repræsenterer landets ...               ritzau   \n",
       "15    det er slut med sygeplejerudtryk på gebrokkent...  mikkel from nielsen   \n",
       "...                                                 ...                  ...   \n",
       "1495  det er ikke kun sygeplejersker, der flygter fr...    trine warrer juul   \n",
       "1496  - patienter ligger på gangene og dør, fordi de...     august stenbroen   \n",
       "1497  højere løn og bedre arbejdstider. det var det,...       allan nisgaard   \n",
       "1498  meldingen fra sundhedsmyndighederne har været ...           emil eller   \n",
       "1499  det var et ønske om at se sine børn noget mere...  thomas klose jensen   \n",
       "\n",
       "              tag                      date  \\\n",
       "0           Penge 2012-01-19 13:27:00+00:00   \n",
       "1        Sjælland 2012-01-28 07:42:00+00:00   \n",
       "5        Sjælland 2012-01-24 15:39:00+00:00   \n",
       "14        Indland 2012-02-21 10:48:00+00:00   \n",
       "15    Nordjylland 2012-02-27 15:26:00+00:00   \n",
       "...           ...                       ...   \n",
       "1495     Sjælland 2021-12-06 04:55:00+00:00   \n",
       "1496     Detektor 2021-12-22 19:39:00+00:00   \n",
       "1497      Indland 2021-12-29 04:46:00+00:00   \n",
       "1498      Indland 2021-12-15 04:50:00+00:00   \n",
       "1499   Østjylland 2021-12-11 05:46:00+00:00   \n",
       "\n",
       "                                                   link source  \\\n",
       "0     https://www.dr.dk/nyheder/penge/danske-sygeple...     DR   \n",
       "1     https://www.dr.dk/nyheder/regionale/sjaelland/...     DR   \n",
       "5     https://www.dr.dk/nyheder/regionale/sjaelland/...     DR   \n",
       "14    https://www.dr.dk/nyheder/indland/sygeplejersk...     DR   \n",
       "15    https://www.dr.dk/nyheder/regionale/nordjyllan...     DR   \n",
       "...                                                 ...    ...   \n",
       "1495  https://www.dr.dk/nyheder/regionale/sjaelland/...     DR   \n",
       "1496  https://www.dr.dk/nyheder/detektor/detektor-ta...     DR   \n",
       "1497  https://www.dr.dk/nyheder/indland/flere-sygepl...     DR   \n",
       "1498  https://www.dr.dk/nyheder/indland/nu-skal-syge...     DR   \n",
       "1499  https://www.dr.dk/nyheder/regionale/oestjyllan...     DR   \n",
       "\n",
       "                                        content_cleaned  \\\n",
       "0     antallet af danske sygeplejersker der har fået...   \n",
       "1     trods fyringsrunder på sygehusene i både og og...   \n",
       "5     der er ikke noget at undskylde eller beklage f...   \n",
       "14    dansk sygeplejeråd der repræsenterer landets o...   \n",
       "15    det er slut med sygeplejerudtryk på gebrokkent...   \n",
       "...                                                 ...   \n",
       "1495  det er ikke kun sygeplejersker der flygter fra...   \n",
       "1496   patienter ligger på gangene og dør fordi de i...   \n",
       "1497  højere løn og bedre arbejdstider det var det s...   \n",
       "1498  meldingen fra sundhedsmyndighederne har været ...   \n",
       "1499  det var et ønske om at se sine børn noget mere...   \n",
       "\n",
       "                                          content_prepr  \n",
       "0     antal dansk sygeplejersk fået autorisation nor...  \n",
       "1     trod fyringsrund sygehus båd nedlæg sygehus fa...  \n",
       "5     undskyld beklag formand region sjælland steen ...  \n",
       "14    dansk sygeplejeråd repræsent land omkring syge...  \n",
       "15    slut sygeplejerudtryk gebrokkent dansk nordjys...  \n",
       "...                                                 ...  \n",
       "1495  kun sygeplejersk flygt region sjælland sygehus...  \n",
       "1496  patient lig gang dør fordi tils sagd luca pris...  \n",
       "1497  høj løn bedr arbejdstid fik sygeplejerskevikar...  \n",
       "1498  melding sundhedsmyndighed helt klar rigt fart ...  \n",
       "1499  ønsk se børn mer oprind fik mal seld krogh gå ...  \n",
       "\n",
       "[495 rows x 11 columns]"
      ]
     },
     "execution_count": 39,
     "metadata": {},
     "output_type": "execute_result"
    }
   ],
   "source": [
    "dr_analysis"
   ]
  },
  {
   "cell_type": "markdown",
   "id": "a2fb1bfa-c87f-4836-9f59-f4a20603b825",
   "metadata": {},
   "source": [
    "Creating a new column with the three words before and after sygeplejersk is mentioned for each document"
   ]
  },
  {
   "cell_type": "code",
   "execution_count": 40,
   "id": "84021c48-66ce-4664-af24-4a2b34808eaf",
   "metadata": {},
   "outputs": [
    {
     "ename": "NameError",
     "evalue": "name 'find_relevant' is not defined",
     "output_type": "error",
     "traceback": [
      "\u001b[1;31m---------------------------------------------------------------------------\u001b[0m",
      "\u001b[1;31mNameError\u001b[0m                                 Traceback (most recent call last)",
      "\u001b[1;32m~\\AppData\\Local\\Temp/ipykernel_2448/1519731858.py\u001b[0m in \u001b[0;36m<module>\u001b[1;34m\u001b[0m\n\u001b[1;32m----> 1\u001b[1;33m \u001b[0mdr_analysis\u001b[0m\u001b[1;33m=\u001b[0m\u001b[0mfind_relevant\u001b[0m\u001b[1;33m(\u001b[0m\u001b[0mdr_analysis\u001b[0m\u001b[1;33m,\u001b[0m \u001b[1;34m\"sygeplejersk\"\u001b[0m\u001b[1;33m,\u001b[0m \u001b[1;36m3\u001b[0m\u001b[1;33m)\u001b[0m\u001b[1;33m\u001b[0m\u001b[1;33m\u001b[0m\u001b[0m\n\u001b[0m\u001b[0;32m      2\u001b[0m \u001b[0mtv2_analysis\u001b[0m\u001b[1;33m=\u001b[0m\u001b[0mfind_relevant\u001b[0m\u001b[1;33m(\u001b[0m\u001b[0mtv2_analysis\u001b[0m\u001b[1;33m,\u001b[0m \u001b[1;34m\"sygeplejersk\"\u001b[0m\u001b[1;33m,\u001b[0m \u001b[1;36m3\u001b[0m\u001b[1;33m)\u001b[0m\u001b[1;33m\u001b[0m\u001b[1;33m\u001b[0m\u001b[0m\n\u001b[0;32m      3\u001b[0m \u001b[0mft_analysis\u001b[0m\u001b[1;33m=\u001b[0m\u001b[0mfind_relevant\u001b[0m\u001b[1;33m(\u001b[0m\u001b[0mft_analysis\u001b[0m\u001b[1;33m,\u001b[0m \u001b[1;34m\"sygeplejersk\"\u001b[0m\u001b[1;33m,\u001b[0m \u001b[1;36m3\u001b[0m\u001b[1;33m)\u001b[0m\u001b[1;33m\u001b[0m\u001b[1;33m\u001b[0m\u001b[0m\n",
      "\u001b[1;31mNameError\u001b[0m: name 'find_relevant' is not defined"
     ]
    }
   ],
   "source": [
    "dr_analysis=find_relevant(dr_analysis, \"sygeplejersk\", 3)\n",
    "tv2_analysis=find_relevant(tv2_analysis, \"sygeplejersk\", 3)\n",
    "ft_analysis=find_relevant(ft_analysis, \"sygeplejersk\", 3)"
   ]
  },
  {
   "cell_type": "markdown",
   "id": "63556a00-1818-4b58-9d60-b38a5b32d6be",
   "metadata": {},
   "source": [
    "### Word frequency analysis"
   ]
  },
  {
   "cell_type": "markdown",
   "id": "c859afbd-4ea2-4719-9d1d-3c5e31a99ef8",
   "metadata": {},
   "source": [
    "#### 1: Defining function to create a Bag of Words summed table for entire source"
   ]
  },
  {
   "cell_type": "code",
   "execution_count": 44,
   "id": "bafc222e-97eb-433d-8759-34c003ed9984",
   "metadata": {},
   "outputs": [],
   "source": [
    "def BoW(df): \n",
    "    count = CountVectorizer()\n",
    "    df_array = df[\"content_prepr\"]\n",
    "    bag = count.fit_transform(df_array)\n",
    "    \n",
    "    count_array = bag.toarray() #Make the bag to an array\n",
    "    matrix = pd.DataFrame(data=count_array,columns = count.get_feature_names())\n",
    "    matrix_sum = matrix.sum().transpose()\n",
    "    matrix_sum.sort_values(ascending = False, inplace = True)\n",
    "    return matrix_sum"
   ]
  },
  {
   "cell_type": "code",
   "execution_count": 45,
   "id": "cf45cb77-d1c3-46ad-8ca5-25d2ca3a43ce",
   "metadata": {},
   "outputs": [],
   "source": [
    "def BoW_relevant(df): \n",
    "    try :\n",
    "        count = CountVectorizer()\n",
    "        df_array = df['relevant']\n",
    "        bag = count.fit_transform(df_array)\n",
    "\n",
    "        count_array = bag.toarray()#Make the bag to an array\n",
    "        matrix = pd.DataFrame(data=count_array,columns = count.get_feature_names())\n",
    "        matrix_sum = matrix.sum().transpose()\n",
    "        matrix_sum.sort_values(ascending = False, inplace = True)\n",
    "    except:\n",
    "        pass\n",
    "    return matrix_sum"
   ]
  },
  {
   "cell_type": "markdown",
   "id": "f2734cc0-c39a-4be9-8375-42e7c7a947c7",
   "metadata": {
    "tags": []
   },
   "source": [
    "# Overvej om der skal være et BoW exploring afsnit eller om vi skal gå direkte til wordcloud/sentiment"
   ]
  },
  {
   "cell_type": "markdown",
   "id": "cbb8d65b-9341-4021-9843-26ae68e2192d",
   "metadata": {},
   "source": [
    "#### 2: Wordcount with relevant words"
   ]
  },
  {
   "cell_type": "code",
   "execution_count": 58,
   "id": "41651e1d-0ee6-4dd7-adbc-cbd2be36215a",
   "metadata": {},
   "outputs": [
    {
     "ename": "UnboundLocalError",
     "evalue": "local variable 'matrix_sum' referenced before assignment",
     "output_type": "error",
     "traceback": [
      "\u001b[1;31m---------------------------------------------------------------------------\u001b[0m",
      "\u001b[1;31mUnboundLocalError\u001b[0m                         Traceback (most recent call last)",
      "\u001b[1;32m~\\AppData\\Local\\Temp/ipykernel_2448/1259921231.py\u001b[0m in \u001b[0;36m<module>\u001b[1;34m\u001b[0m\n\u001b[1;32m----> 1\u001b[1;33m \u001b[0mdr_bow_rel\u001b[0m\u001b[1;33m=\u001b[0m \u001b[0mBoW_relevant\u001b[0m\u001b[1;33m(\u001b[0m\u001b[0mdr_analysis\u001b[0m\u001b[1;33m)\u001b[0m\u001b[1;33m\u001b[0m\u001b[1;33m\u001b[0m\u001b[0m\n\u001b[0m\u001b[0;32m      2\u001b[0m \u001b[0mtv2_bow_rel\u001b[0m \u001b[1;33m=\u001b[0m \u001b[0mBoW_relevant\u001b[0m\u001b[1;33m(\u001b[0m\u001b[0mtv2_analysis\u001b[0m\u001b[1;33m)\u001b[0m\u001b[1;33m\u001b[0m\u001b[1;33m\u001b[0m\u001b[0m\n\u001b[0;32m      3\u001b[0m \u001b[0mft_bow_rel\u001b[0m\u001b[1;33m=\u001b[0m \u001b[0mBoW_relevant\u001b[0m\u001b[1;33m(\u001b[0m\u001b[0mft_analysis\u001b[0m\u001b[1;33m)\u001b[0m\u001b[1;33m\u001b[0m\u001b[1;33m\u001b[0m\u001b[0m\n",
      "\u001b[1;32m~\\AppData\\Local\\Temp/ipykernel_2448/4278726332.py\u001b[0m in \u001b[0;36mBoW_relevant\u001b[1;34m(df)\u001b[0m\n\u001b[0;32m     11\u001b[0m     \u001b[1;32mexcept\u001b[0m\u001b[1;33m:\u001b[0m\u001b[1;33m\u001b[0m\u001b[1;33m\u001b[0m\u001b[0m\n\u001b[0;32m     12\u001b[0m         \u001b[1;32mpass\u001b[0m\u001b[1;33m\u001b[0m\u001b[1;33m\u001b[0m\u001b[0m\n\u001b[1;32m---> 13\u001b[1;33m     \u001b[1;32mreturn\u001b[0m \u001b[0mmatrix_sum\u001b[0m\u001b[1;33m\u001b[0m\u001b[1;33m\u001b[0m\u001b[0m\n\u001b[0m",
      "\u001b[1;31mUnboundLocalError\u001b[0m: local variable 'matrix_sum' referenced before assignment"
     ]
    }
   ],
   "source": [
    "dr_bow_rel= BoW_relevant(dr_analysis)\n",
    "tv2_bow_rel = BoW_relevant(tv2_analysis)\n",
    "ft_bow_rel= BoW_relevant(ft_analysis)"
   ]
  },
  {
   "cell_type": "markdown",
   "id": "19206a03-ace3-4d4f-aeae-4b1d8d80e149",
   "metadata": {},
   "source": [
    "Export wordcount list of relevant words to latex:"
   ]
  },
  {
   "cell_type": "code",
   "execution_count": null,
   "id": "2db075a4-1d4c-4637-bc43-9100d052a6a7",
   "metadata": {
    "tags": []
   },
   "outputs": [],
   "source": [
    "red_circle=np.array(Image.open( \"red_circle.png\"))"
   ]
  },
  {
   "cell_type": "code",
   "execution_count": null,
   "id": "e29885f0-deba-48a3-b176-76775d2917fa",
   "metadata": {},
   "outputs": [],
   "source": [
    "with open('dr_bow_rel.tex','w') as tf:\n",
    "    tf.write(dr_bow_rel.head(100).to_latex(index=False))\n",
    "with open('tv2_bow_rel.tex','w') as tf:\n",
    "    tf.write(tv2_bow_rel.head(100).to_latex(index=False))\n",
    "with open('ft_bow_rel.tex','w') as tf:\n",
    "    tf.write(ft_bow_rel.head(100).to_latex(index=False))"
   ]
  },
  {
   "cell_type": "markdown",
   "id": "7b37c4bc-c7a7-4d40-9810-4f33d5ec191c",
   "metadata": {
    "tags": []
   },
   "source": [
    "#### 3: Creating a wordcloud of relevant words for each source"
   ]
  },
  {
   "cell_type": "markdown",
   "id": "334951ee-2ea3-465b-9995-2e56608c1970",
   "metadata": {
    "tags": []
   },
   "source": [
    "Importing background :"
   ]
  },
  {
   "cell_type": "code",
   "execution_count": null,
   "id": "ba062c4c-6e76-4ee1-a69e-6a05159bc526",
   "metadata": {
    "tags": []
   },
   "outputs": [],
   "source": [
    "red_circle=np.array(Image.open( \"red_circle.png\"))"
   ]
  },
  {
   "cell_type": "markdown",
   "id": "d37dcfe8-1a6f-46af-a934-b79737080194",
   "metadata": {
    "tags": []
   },
   "source": [
    "Plotting the wordclouds"
   ]
  },
  {
   "cell_type": "markdown",
   "id": "37a42cdc-a477-48ea-8320-f01adf67bf2d",
   "metadata": {
    "tags": []
   },
   "source": [
    "#### 3: Most used words each year for each source"
   ]
  },
  {
   "cell_type": "markdown",
   "id": "29b1b2fc-b0b5-4faa-8c01-e8b63908182c",
   "metadata": {},
   "source": [
    "Defining function to get a bow for a year:"
   ]
  },
  {
   "cell_type": "code",
   "execution_count": 55,
   "id": "bb069b5a-7a5c-4f8f-a1c0-c29af2bed2a6",
   "metadata": {},
   "outputs": [],
   "source": [
    "def top_words(df, year):\n",
    "    df_year=df[df['date'].dt.year == year]\n",
    "    df_year_bow=BoW_relevant(df_year)\n",
    "    return df_year_bow"
   ]
  },
  {
   "cell_type": "markdown",
   "id": "c504c262-f45f-4a13-88d1-f81a4568c376",
   "metadata": {},
   "source": [
    "Defining function to get topwords for all years for a given df:"
   ]
  },
  {
   "cell_type": "code",
   "execution_count": 54,
   "id": "fb55a341-281b-4512-8ba6-4a15e7e03143",
   "metadata": {},
   "outputs": [],
   "source": [
    "def top_words_table(df, num_top_words, end_year):\n",
    "    top_words_list=[]\n",
    "    year_list=[]\n",
    "    for year in range(2012, end_year+1,1):\n",
    "        top=top_words(df, year)\n",
    "        top=top[:num_top_words+1]\n",
    "        top_words_list.append(top.index)\n",
    "        year_list.append(year)\n",
    "    top_words_df=pd.DataFrame([i for i in top_words_list], year_list).transpose()\n",
    "    \n",
    "        \n",
    "    return top_words_df"
   ]
  },
  {
   "cell_type": "markdown",
   "id": "81e34304-06e5-4eed-9944-cd65ab68d50d",
   "metadata": {},
   "source": [
    "Creating tables of top 10 words used each year for each datafram:"
   ]
  },
  {
   "cell_type": "code",
   "execution_count": 53,
   "id": "bff4a835-5e15-41b6-a762-180572da966a",
   "metadata": {},
   "outputs": [
    {
     "ename": "NameError",
     "evalue": "name 'top_words_table' is not defined",
     "output_type": "error",
     "traceback": [
      "\u001b[1;31m---------------------------------------------------------------------------\u001b[0m",
      "\u001b[1;31mNameError\u001b[0m                                 Traceback (most recent call last)",
      "\u001b[1;32m~\\AppData\\Local\\Temp/ipykernel_2448/1755495508.py\u001b[0m in \u001b[0;36m<module>\u001b[1;34m\u001b[0m\n\u001b[1;32m----> 1\u001b[1;33m \u001b[0mtv2_top_words\u001b[0m\u001b[1;33m=\u001b[0m\u001b[0mtop_words_table\u001b[0m\u001b[1;33m(\u001b[0m\u001b[0mtv2_analysis\u001b[0m\u001b[1;33m,\u001b[0m \u001b[1;36m10\u001b[0m\u001b[1;33m,\u001b[0m \u001b[1;36m2022\u001b[0m\u001b[1;33m)\u001b[0m\u001b[1;33m\u001b[0m\u001b[1;33m\u001b[0m\u001b[0m\n\u001b[0m\u001b[0;32m      2\u001b[0m \u001b[1;32mwith\u001b[0m \u001b[0mopen\u001b[0m\u001b[1;33m(\u001b[0m\u001b[1;34m'tv2_topwords.tex'\u001b[0m\u001b[1;33m,\u001b[0m\u001b[1;34m'w'\u001b[0m\u001b[1;33m)\u001b[0m \u001b[1;32mas\u001b[0m \u001b[0mtf\u001b[0m\u001b[1;33m:\u001b[0m\u001b[1;33m\u001b[0m\u001b[1;33m\u001b[0m\u001b[0m\n\u001b[0;32m      3\u001b[0m     \u001b[0mtf\u001b[0m\u001b[1;33m.\u001b[0m\u001b[0mwrite\u001b[0m\u001b[1;33m(\u001b[0m\u001b[0mtv2_top_words\u001b[0m\u001b[1;33m.\u001b[0m\u001b[0mto_latex\u001b[0m\u001b[1;33m(\u001b[0m\u001b[0mindex\u001b[0m\u001b[1;33m=\u001b[0m\u001b[1;32mFalse\u001b[0m\u001b[1;33m)\u001b[0m\u001b[1;33m)\u001b[0m\u001b[1;33m\u001b[0m\u001b[1;33m\u001b[0m\u001b[0m\n\u001b[0;32m      4\u001b[0m \u001b[1;33m\u001b[0m\u001b[0m\n\u001b[0;32m      5\u001b[0m \u001b[0mft_top_words\u001b[0m\u001b[1;33m=\u001b[0m\u001b[0mtop_words_table\u001b[0m\u001b[1;33m(\u001b[0m\u001b[0mft_analysis\u001b[0m\u001b[1;33m,\u001b[0m \u001b[1;36m10\u001b[0m\u001b[1;33m,\u001b[0m \u001b[1;36m2022\u001b[0m\u001b[1;33m)\u001b[0m\u001b[1;33m\u001b[0m\u001b[1;33m\u001b[0m\u001b[0m\n",
      "\u001b[1;31mNameError\u001b[0m: name 'top_words_table' is not defined"
     ]
    }
   ],
   "source": [
    "tv2_top_words=top_words_table(tv2_analysis, 10, 2022)\n",
    "with open('tv2_topwords.tex','w') as tf:\n",
    "    tf.write(tv2_top_words.to_latex(index=False))\n",
    "\n",
    "ft_top_words=top_words_table(ft_analysis, 10, 2022)\n",
    "with open('ft_topwords.tex','w') as tf:\n",
    "    tf.write(ft_top_words.to_latex(index=False))\n",
    "\n",
    "dr_top_words=top_words_table(dr_analysis, 10, 2021)\n",
    "with open('dr_topwords.tex','w') as tf:\n",
    "    tf.write(dr_top_words.to_latex(index=False))"
   ]
  },
  {
   "cell_type": "code",
   "execution_count": 52,
   "id": "9b0eb845-0841-4838-bbfa-fc74cccc5842",
   "metadata": {},
   "outputs": [],
   "source": [
    "def get_title_samples(df_analysis, word, year):\n",
    "    df_year = df_analysis[df_analysis['date'].dt.year == year]\n",
    "    df_year = df_year[df_year['relevant'].str.contains(f\"{word}\")]\n",
    "    return df_year"
   ]
  },
  {
   "cell_type": "markdown",
   "id": "3b7e88cf-5e5b-458e-9773-e474fd2304d8",
   "metadata": {},
   "source": [
    "#### 1: Defining sentiment analysis function and appending sentiment column to df"
   ]
  },
  {
   "cell_type": "code",
   "execution_count": 51,
   "id": "3b7dadd1-32c8-48b4-a756-c124867ae2d5",
   "metadata": {},
   "outputs": [],
   "source": [
    "def sentida_values(df): \n",
    "    sentida_preds = []\n",
    "\n",
    "    for i, row in tqdm.tqdm(df.iterrows()):\n",
    "        score = Sentida().sentida(row.content_cleaned, output = 'mean', normal = True)\n",
    "        sentida_preds.append(score)\n",
    "    \n",
    "    return sentida_preds"
   ]
  },
  {
   "cell_type": "code",
   "execution_count": 50,
   "id": "4a51cda1-e124-4d97-b3e9-d1c215106044",
   "metadata": {},
   "outputs": [],
   "source": [
    "def sentiment_column(df):\n",
    "    sentida_preds = sentida_values(df)\n",
    "    df['sentiment'] = sentida_preds # create new column: sentime"
   ]
  },
  {
   "cell_type": "markdown",
   "id": "1e6ffbb8-21e6-4cb4-8c85-97af57e222ee",
   "metadata": {},
   "source": [
    "#### 2: Finding 100 words near words that contain 'sygeplejersk' to be used for FT"
   ]
  },
  {
   "cell_type": "code",
   "execution_count": 48,
   "id": "fb1d3b2d-1008-44ce-b71e-425c5d769722",
   "metadata": {},
   "outputs": [],
   "source": [
    "def extract_surround_words(text, keyword, n):\n",
    "    '''\n",
    "    text : input text\n",
    "    keyword : the search keyword we are looking\n",
    "    n : number of words around the keyword\n",
    "    '''\n",
    "    surround_words=[]\n",
    "    #extracting all the words from text\n",
    "    words = words = re.findall(r'\\w+', text)\n",
    "    \n",
    "    #iterate through all the words\n",
    "    for index, word in enumerate(words):\n",
    "\n",
    "        #check if search keyword matches\n",
    "        if keyword in word:\n",
    "            #fetch left side words\n",
    "            left_side_words = words[index-n : index]\n",
    "            \n",
    "            #fetch right side words\n",
    "            right_side_words = words[index+1 : index + n + 1]\n",
    "            \n",
    "            surround_words.append(left_side_words)\n",
    "            surround_words.append(right_side_words)\n",
    "    return surround_words"
   ]
  },
  {
   "cell_type": "code",
   "execution_count": 49,
   "id": "ff293f5c-e115-4636-bc68-dd2ca8cdc9e4",
   "metadata": {},
   "outputs": [],
   "source": [
    "def find_relevant_sen(df, word, n):\n",
    "    r=[]\n",
    "    for row in df[\"content_cleaned\"]:\n",
    "        temp=extract_surround_words(row, word, n)\n",
    "        temp_list=[]\n",
    "        for i in temp:\n",
    "            stems = ' '.join(i)\n",
    "            temp_list.append(stems)\n",
    "        s = \" \".join(temp_list)\n",
    "        r.append(s)\n",
    "        s = \"\"\n",
    "    df['relevant_sen']=r\n",
    "    return df"
   ]
  },
  {
   "cell_type": "code",
   "execution_count": null,
   "id": "a9fc756e-4fc7-4483-824e-20896b4e29ee",
   "metadata": {
    "scrolled": true
   },
   "outputs": [],
   "source": [
    "sentiment_column(dr_analysis) # dr: create sentiment values and append to new sentiment column"
   ]
  },
  {
   "cell_type": "code",
   "execution_count": null,
   "id": "cec43426-d873-41a7-b7c9-c572d3fff810",
   "metadata": {},
   "outputs": [],
   "source": [
    "sentiment_column(tv2_analysis) # tv2: create sentiment values and append to new sentiment column"
   ]
  },
  {
   "cell_type": "code",
   "execution_count": null,
   "id": "1b8442bf-ff92-4ae0-8014-bc4dc563800e",
   "metadata": {
    "tags": []
   },
   "outputs": [],
   "source": [
    "ft_analysis = find_relevant_sen(ft_analysis, \"sygeplej\", 100) # searching for words close to 'sygeplej'"
   ]
  },
  {
   "cell_type": "code",
   "execution_count": null,
   "id": "91cd8506-a7be-4b35-ba59-6e56f1953701",
   "metadata": {
    "scrolled": true
   },
   "outputs": [],
   "source": [
    "sentida_preds_ft = []\n",
    "\n",
    "for i, row in tqdm.tqdm(ft_analysis.iterrows()):\n",
    "    score = Sentida().sentida(row.relevant_sen, output = 'mean', normal = True)\n",
    "    sentida_preds_ft.append(score) # create sentiment values\n",
    "    \n",
    "ft_analysis['sentiment'] = sentida_preds_ft # # ft: append to new sentiment column"
   ]
  },
  {
   "cell_type": "code",
   "execution_count": null,
   "id": "42e7dd46-c2d8-4c76-943e-63174f294484",
   "metadata": {},
   "outputs": [],
   "source": [
    "ft_analysis['sentiment'] = sentida_preds_ft # create new column in ft_analysis df: sentiment "
   ]
  },
  {
   "cell_type": "code",
   "execution_count": null,
   "id": "96c2d257-d1df-435c-9b81-dbf14eb030c2",
   "metadata": {},
   "outputs": [],
   "source": []
  },
  {
   "cell_type": "code",
   "execution_count": null,
   "id": "a85a25c3-bdaa-451e-a472-48cf8727a964",
   "metadata": {},
   "outputs": [],
   "source": []
  }
 ],
 "metadata": {
  "kernelspec": {
   "display_name": "Python 3 (ipykernel)",
   "language": "python",
   "name": "python3"
  },
  "language_info": {
   "codemirror_mode": {
    "name": "ipython",
    "version": 3
   },
   "file_extension": ".py",
   "mimetype": "text/x-python",
   "name": "python",
   "nbconvert_exporter": "python",
   "pygments_lexer": "ipython3",
   "version": "3.9.7"
  }
 },
 "nbformat": 4,
 "nbformat_minor": 5
}
