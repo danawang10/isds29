{
 "cells": [
  {
   "cell_type": "code",
   "execution_count": null,
   "id": "8b4dd7d6-c541-47b3-8988-778536cfd6f6",
   "metadata": {},
   "outputs": [],
   "source": [
    "def get_title_samples(df_analysis, word, year):\n",
    "    df_year = df[df[\"year\"] == year]\n",
    "    condition = df_year[df_year['relevant'].str.contains(\"{word}\")]"
   ]
  }
 ],
 "metadata": {
  "kernelspec": {
   "display_name": "Python 3 (ipykernel)",
   "language": "python",
   "name": "python3"
  },
  "language_info": {
   "codemirror_mode": {
    "name": "ipython",
    "version": 3
   },
   "file_extension": ".py",
   "mimetype": "text/x-python",
   "name": "python",
   "nbconvert_exporter": "python",
   "pygments_lexer": "ipython3",
   "version": "3.9.12"
  }
 },
 "nbformat": 4,
 "nbformat_minor": 5
}
