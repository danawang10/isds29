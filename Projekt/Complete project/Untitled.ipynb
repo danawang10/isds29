{
 "cells": [
  {
   "cell_type": "code",
   "execution_count": 1,
   "id": "3874cd50-73a0-4055-a08e-259cbb054eef",
   "metadata": {},
   "outputs": [
    {
     "name": "stderr",
     "output_type": "stream",
     "text": [
      "[nltk_data] Downloading package punkt to\n",
      "[nltk_data]     C:\\Users\\jgb569\\AppData\\Roaming\\nltk_data...\n",
      "[nltk_data]   Package punkt is already up-to-date!\n"
     ]
    },
    {
     "data": {
      "text/plain": [
       "True"
      ]
     },
     "execution_count": 1,
     "metadata": {},
     "output_type": "execute_result"
    }
   ],
   "source": [
    "import pandas as pd\n",
    "import numpy as np\n",
    "import csv\n",
    "import re\n",
    "import time\n",
    "import tqdm\n",
    "import zipfile\n",
    "from datetime import datetime\n",
    "import warnings\n",
    "warnings.simplefilter(action='ignore',category=FutureWarning)\n",
    "import itertools\n",
    "\n",
    "# Plotting\n",
    "import seaborn as sns\n",
    "import matplotlib.pyplot as plt\n",
    "\n",
    "# Selenium\n",
    "from selenium import webdriver\n",
    "from webdriver_manager.chrome import ChromeDriverManager\n",
    "from selenium.webdriver.chrome.service import Service\n",
    "from selenium.webdriver.common.by import By\n",
    "from selenium.webdriver.common.keys import Keys\n",
    "\n",
    "# Scraping\n",
    "import requests\n",
    "from bs4 import BeautifulSoup as bs\n",
    "import os\n",
    "import lxml\n",
    "from lxml import objectify\n",
    "import ftplib\n",
    "from io import BytesIO\n",
    "\n",
    "#Text processing\n",
    "from nltk.stem import SnowballStemmer\n",
    "import nltk\n",
    "from sklearn.feature_extraction.text import CountVectorizer\n",
    "from nltk.corpus import stopwords\n",
    "from wordcloud import WordCloud\n",
    "from sklearn.feature_extraction.text import TfidfTransformer\n",
    "from PIL import Image\n",
    "nltk.download(\"punkt\")"
   ]
  },
  {
   "cell_type": "code",
   "execution_count": 2,
   "id": "0ce527b9-6e6a-419e-b3a2-f8ae111b8dc3",
   "metadata": {},
   "outputs": [],
   "source": [
    "import os"
   ]
  },
  {
   "cell_type": "code",
   "execution_count": 4,
   "id": "5f4f7903-d5b4-46a1-a51b-731b343da8fc",
   "metadata": {},
   "outputs": [
    {
     "data": {
      "text/plain": [
       "['.ipynb_checkpoints',\n",
       " 'Analysis_project.ipynb',\n",
       " 'Cleaning_FT_final.ipynb',\n",
       " 'Complete file-Copy1.ipynb',\n",
       " 'Complete file-Dana.ipynb',\n",
       " 'Complete file-Kim-Copy.ipynb',\n",
       " 'Complete file-Simon2.ipynb',\n",
       " 'Complete file-simon3.ipynb',\n",
       " 'Complete file.ipynb',\n",
       " 'Complete file_simon_playground.ipynb',\n",
       " 'dr_articles.csv',\n",
       " 'dr_bow_rel.tex',\n",
       " 'DR_data_scraping_Google.ipynb',\n",
       " 'dr_google_search_results.csv',\n",
       " 'dr_months_least_searches_sygeplej.tex',\n",
       " 'dr_months_most_searches_sygeplej.tex',\n",
       " 'DR_sygeplej_searches.eps',\n",
       " 'DR_sygeplej_searches.jpg',\n",
       " 'DR_sygeplej_searches.pdf',\n",
       " 'DR_sygeplej_searches.svg',\n",
       " 'dr_topwords',\n",
       " 'dr_topwords.tex',\n",
       " 'ft.zip',\n",
       " 'ft_bow_rel.tex',\n",
       " 'FT_scraping_final.ipynb',\n",
       " 'ft_topwords',\n",
       " 'ft_topwords.tex',\n",
       " 'PENGE_TAG.ipynb',\n",
       " 'Penge_tag.jpg',\n",
       " 'red_circle.png',\n",
       " 'sentiment_average_comparison.jpg',\n",
       " 'sentiment_average_comparison.pdf',\n",
       " 'sentiment_mean_comparison.jpg',\n",
       " 'sygeplej_table.tex',\n",
       " 'sygeplej_twice.jpg',\n",
       " 'sygeplej_twice.pdf',\n",
       " 'sygeplej_twice_FT.jpg',\n",
       " 'sygeplej_twice_yearly.jpg',\n",
       " 'sygeplej_twice_yearly_FT.jpg',\n",
       " 'tags.jpg',\n",
       " 'tags.pdf',\n",
       " 'TV2CORONA.ipynb',\n",
       " 'TV2KRIMI.ipynb',\n",
       " 'tv2_articles.csv',\n",
       " 'tv2_bow_rel.tex',\n",
       " 'TV2_krimi_tag.jpg',\n",
       " 'tv2_topwords',\n",
       " 'tv2_topwords.tex',\n",
       " 'Untitled.ipynb',\n",
       " 'wordcloud.jpg',\n",
       " 'wordcloud.pdf',\n",
       " 'YEARLY _PLOT.ipynb']"
      ]
     },
     "execution_count": 4,
     "metadata": {},
     "output_type": "execute_result"
    }
   ],
   "source": [
    "os.listdir()"
   ]
  },
  {
   "cell_type": "code",
   "execution_count": null,
   "id": "2997454b-584a-4cef-b903-9da81fe748bc",
   "metadata": {},
   "outputs": [],
   "source": [
    "\n",
    "def top_words_month(df, year, month):\n",
    "    df_year=df[df['date'].dt.year == year]\n",
    "    df_month=df[df['date'].dt.month == month]\n",
    "    df_month_bow=BoW_relevant(df_month)\n",
    "    return df_month_bow"
   ]
  }
 ],
 "metadata": {
  "kernelspec": {
   "display_name": "Python 3 (ipykernel)",
   "language": "python",
   "name": "python3"
  },
  "language_info": {
   "codemirror_mode": {
    "name": "ipython",
    "version": 3
   },
   "file_extension": ".py",
   "mimetype": "text/x-python",
   "name": "python",
   "nbconvert_exporter": "python",
   "pygments_lexer": "ipython3",
   "version": "3.9.7"
  }
 },
 "nbformat": 4,
 "nbformat_minor": 5
}
