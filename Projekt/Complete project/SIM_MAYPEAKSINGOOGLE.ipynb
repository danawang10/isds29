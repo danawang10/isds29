{
 "cells": [
  {
   "cell_type": "code",
   "execution_count": null,
   "id": "ed6f0962-7ba4-4a28-9f18-9154c2086a38",
   "metadata": {},
   "outputs": [],
   "source": [
    "# Analysis of May peaks in Google search results dataset"
   ]
  },
  {
   "cell_type": "code",
   "execution_count": 108,
   "id": "0ce527b9-6e6a-419e-b3a2-f8ae111b8dc3",
   "metadata": {},
   "outputs": [],
   "source": [
    "dr_analysis = pd.read_csv(\"dr_analysis.csv\")\n",
    "dr_analysis['date'] = pd.to_datetime(dr_analysis['date'])"
   ]
  },
  {
   "cell_type": "code",
   "execution_count": 124,
   "id": "573494f0-b0c7-4c47-b5df-5f9bd932512a",
   "metadata": {},
   "outputs": [],
   "source": [
    "# May 2020\n",
    "dr_analysis_20=dr_analysis[dr_analysis['date'].dt.year == 2020]\n",
    "dr_analysis_20=dr_analysis_20[dr_analysis_20['date'].dt.month == 5]"
   ]
  },
  {
   "cell_type": "code",
   "execution_count": 126,
   "id": "ef65272c-717f-435d-a47f-50a6124fdcda",
   "metadata": {},
   "outputs": [
    {
     "data": {
      "text/html": [
       "<div>\n",
       "<style scoped>\n",
       "    .dataframe tbody tr th:only-of-type {\n",
       "        vertical-align: middle;\n",
       "    }\n",
       "\n",
       "    .dataframe tbody tr th {\n",
       "        vertical-align: top;\n",
       "    }\n",
       "\n",
       "    .dataframe thead th {\n",
       "        text-align: right;\n",
       "    }\n",
       "</style>\n",
       "<table border=\"1\" class=\"dataframe\">\n",
       "  <thead>\n",
       "    <tr style=\"text-align: right;\">\n",
       "      <th></th>\n",
       "      <th>titles</th>\n",
       "      <th>sub_header</th>\n",
       "      <th>h2</th>\n",
       "      <th>date</th>\n",
       "      <th>link</th>\n",
       "    </tr>\n",
       "  </thead>\n",
       "  <tbody>\n",
       "    <tr>\n",
       "      <th>382</th>\n",
       "      <td>sygeplejersker siger stop: vores fleksibilitet bliver brugt og udnyttet</td>\n",
       "      <td>antallet af coronapatienter kan ikke længere retfærdiggøre arbejdsforholdene, mener dansk sygeplejeråd.</td>\n",
       "      <td>bliver taget for givet erklæring gælder ikke mere forhandler ikke i medier</td>\n",
       "      <td>2020-05-02 06:25:00+00:00</td>\n",
       "      <td>https://www.dr.dk/nyheder/regionale/fyn/sygeplejersker-siger-stop-vores-fleksibilitet-bliver-brugt-og-udnyttet</td>\n",
       "    </tr>\n",
       "    <tr>\n",
       "      <th>383</th>\n",
       "      <td>'tak for alt det, som i gør': hypet kunstner hylder sygeplejersker som vor tids superhelte</td>\n",
       "      <td>værket af den britiske kunstner banksy er allerede et hit på nettet.</td>\n",
       "      <td>'det her er simpelt og genialt' med til at højne moralen</td>\n",
       "      <td>2020-05-07 18:00:00+00:00</td>\n",
       "      <td>https://www.dr.dk/nyheder/kultur/tak-alt-det-som-i-goer-hypet-kunstner-hylder-sygeplejersker-som-vor-tids-superhelte</td>\n",
       "    </tr>\n",
       "    <tr>\n",
       "      <th>384</th>\n",
       "      <td>rift om studiepladserne til sommer: politikere opfordrer til flere studiepladser og bredere søgning</td>\n",
       "      <td>dansk erhverv vurderer, at flere unge vil søge ind på en uddannelse til sommer. minister vil ikke fjerne uddannelsesloft.</td>\n",
       "      <td>flere studiepladser til flere ansøgere patientforening: der mangler læger og sygeplejersker større spredning fagligt og geografisk positivt med flere studerende ledige pladser på lærer- og pædagog...</td>\n",
       "      <td>2020-05-03 21:00:00+00:00</td>\n",
       "      <td>https://www.dr.dk/nyheder/indland/rift-om-studiepladserne-til-sommer-politikere-opfordrer-til-flere-studiepladser-og</td>\n",
       "    </tr>\n",
       "  </tbody>\n",
       "</table>\n",
       "</div>"
      ],
      "text/plain": [
       "                                                                                                  titles  \\\n",
       "382                              sygeplejersker siger stop: vores fleksibilitet bliver brugt og udnyttet   \n",
       "383          'tak for alt det, som i gør': hypet kunstner hylder sygeplejersker som vor tids superhelte    \n",
       "384  rift om studiepladserne til sommer: politikere opfordrer til flere studiepladser og bredere søgning   \n",
       "\n",
       "                                                                                                                    sub_header  \\\n",
       "382                   antallet af coronapatienter kan ikke længere retfærdiggøre arbejdsforholdene, mener dansk sygeplejeråd.    \n",
       "383                                                       værket af den britiske kunstner banksy er allerede et hit på nettet.   \n",
       "384  dansk erhverv vurderer, at flere unge vil søge ind på en uddannelse til sommer. minister vil ikke fjerne uddannelsesloft.   \n",
       "\n",
       "                                                                                                                                                                                                          h2  \\\n",
       "382                                                                                                                               bliver taget for givet erklæring gælder ikke mere forhandler ikke i medier   \n",
       "383                                                                                                                                                 'det her er simpelt og genialt' med til at højne moralen   \n",
       "384  flere studiepladser til flere ansøgere patientforening: der mangler læger og sygeplejersker større spredning fagligt og geografisk positivt med flere studerende ledige pladser på lærer- og pædagog...   \n",
       "\n",
       "                         date  \\\n",
       "382 2020-05-02 06:25:00+00:00   \n",
       "383 2020-05-07 18:00:00+00:00   \n",
       "384 2020-05-03 21:00:00+00:00   \n",
       "\n",
       "                                                                                                                     link  \n",
       "382        https://www.dr.dk/nyheder/regionale/fyn/sygeplejersker-siger-stop-vores-fleksibilitet-bliver-brugt-og-udnyttet  \n",
       "383  https://www.dr.dk/nyheder/kultur/tak-alt-det-som-i-goer-hypet-kunstner-hylder-sygeplejersker-som-vor-tids-superhelte  \n",
       "384  https://www.dr.dk/nyheder/indland/rift-om-studiepladserne-til-sommer-politikere-opfordrer-til-flere-studiepladser-og  "
      ]
     },
     "metadata": {},
     "output_type": "display_data"
    }
   ],
   "source": [
    "pd.options.display.max_colwidth = 200\n",
    "display(dr_analysis_20[['titles', 'sub_header', 'h2', 'date', 'link']])"
   ]
  },
  {
   "cell_type": "code",
   "execution_count": 122,
   "id": "366bc316-8c7d-4d81-b3ef-49aa7f5cec24",
   "metadata": {},
   "outputs": [],
   "source": [
    "# May 2021\n",
    "dr_analysis_21=dr_analysis[dr_analysis['date'].dt.year == 2021]\n",
    "dr_analysis_21=dr_analysis_21[dr_analysis_21['date'].dt.month == 5]"
   ]
  },
  {
   "cell_type": "code",
   "execution_count": 123,
   "id": "38f6d62b-2f52-4b41-ac45-dc765a914faf",
   "metadata": {},
   "outputs": [
    {
     "data": {
      "text/html": [
       "<div>\n",
       "<style scoped>\n",
       "    .dataframe tbody tr th:only-of-type {\n",
       "        vertical-align: middle;\n",
       "    }\n",
       "\n",
       "    .dataframe tbody tr th {\n",
       "        vertical-align: top;\n",
       "    }\n",
       "\n",
       "    .dataframe thead th {\n",
       "        text-align: right;\n",
       "    }\n",
       "</style>\n",
       "<table border=\"1\" class=\"dataframe\">\n",
       "  <thead>\n",
       "    <tr style=\"text-align: right;\">\n",
       "      <th></th>\n",
       "      <th>titles</th>\n",
       "      <th>sub_header</th>\n",
       "      <th>h2</th>\n",
       "      <th>date</th>\n",
       "    </tr>\n",
       "  </thead>\n",
       "  <tbody>\n",
       "    <tr>\n",
       "      <th>424</th>\n",
       "      <td>ekspert før sygeplejerskeforhandling: stor sandsynlighed for strejke</td>\n",
       "      <td>det er en vanskelig situation, som vi står overfor, vurderer arbejdsmarkedsforsker.</td>\n",
       "      <td>trækker op til konflikt en svær opgave for forligsmanden fik kommission i 2008</td>\n",
       "      <td>2021-05-07 03:50:00+00:00</td>\n",
       "    </tr>\n",
       "    <tr>\n",
       "      <th>425</th>\n",
       "      <td>sygeplejersker ryster på hovedet over overenskomstløsning: frygter syltekrukke</td>\n",
       "      <td>en komité skal kigge på offentligt ansattes lønninger. \"dem har vi haft nok af, lyder det fra sygeplejersker.\"</td>\n",
       "      <td>- virkeligheden er, at der ikke er noget resultat gammel lønkommission spøger fagbevægelsen: et skridt i den rigtige retning</td>\n",
       "      <td>2021-05-19 03:45:00+00:00</td>\n",
       "    </tr>\n",
       "    <tr>\n",
       "      <th>427</th>\n",
       "      <td>coronapukkel af patienter venter på operation og behandling: 'vi håber, de kan nås i år'</td>\n",
       "      <td>hvis sygeplejersker ender i strejke, vil det ramme samme patientgrupper, frygter hospitalsdirektør</td>\n",
       "      <td>forsøger at indhente på lørdage personalet er slidt hårdt at se på ventende patienter strejke kan øge pukler ikke et kald</td>\n",
       "      <td>2021-05-20 03:50:00+00:00</td>\n",
       "    </tr>\n",
       "  </tbody>\n",
       "</table>\n",
       "</div>"
      ],
      "text/plain": [
       "                                                                                       titles  \\\n",
       "424                      ekspert før sygeplejerskeforhandling: stor sandsynlighed for strejke   \n",
       "425            sygeplejersker ryster på hovedet over overenskomstløsning: frygter syltekrukke   \n",
       "427  coronapukkel af patienter venter på operation og behandling: 'vi håber, de kan nås i år'   \n",
       "\n",
       "                                                                                                          sub_header  \\\n",
       "424                             det er en vanskelig situation, som vi står overfor, vurderer arbejdsmarkedsforsker.    \n",
       "425  en komité skal kigge på offentligt ansattes lønninger. \"dem har vi haft nok af, lyder det fra sygeplejersker.\"    \n",
       "427               hvis sygeplejersker ender i strejke, vil det ramme samme patientgrupper, frygter hospitalsdirektør   \n",
       "\n",
       "                                                                                                                               h2  \\\n",
       "424                                                trækker op til konflikt en svær opgave for forligsmanden fik kommission i 2008   \n",
       "425  - virkeligheden er, at der ikke er noget resultat gammel lønkommission spøger fagbevægelsen: et skridt i den rigtige retning   \n",
       "427     forsøger at indhente på lørdage personalet er slidt hårdt at se på ventende patienter strejke kan øge pukler ikke et kald   \n",
       "\n",
       "                         date  \n",
       "424 2021-05-07 03:50:00+00:00  \n",
       "425 2021-05-19 03:45:00+00:00  \n",
       "427 2021-05-20 03:50:00+00:00  "
      ]
     },
     "metadata": {},
     "output_type": "display_data"
    }
   ],
   "source": [
    "pd.options.display.max_colwidth = 200\n",
    "display(dr_analysis_21[['titles', 'sub_header', 'h2', 'date']])"
   ]
  },
  {
   "cell_type": "code",
   "execution_count": 120,
   "id": "b0b157ef-1071-4ebe-abbe-268cc2e21308",
   "metadata": {},
   "outputs": [],
   "source": [
    "# May 2022\n",
    "dr_analysis_22=dr_analysis[dr_analysis['date'].dt.year == 2022]\n",
    "dr_analysis_22=dr_analysis_22[dr_analysis_22['date'].dt.month == 5]"
   ]
  },
  {
   "cell_type": "code",
   "execution_count": 121,
   "id": "fe62c1c6-4351-4f47-a848-2d0cc7cc0416",
   "metadata": {},
   "outputs": [
    {
     "data": {
      "text/html": [
       "<div>\n",
       "<style scoped>\n",
       "    .dataframe tbody tr th:only-of-type {\n",
       "        vertical-align: middle;\n",
       "    }\n",
       "\n",
       "    .dataframe tbody tr th {\n",
       "        vertical-align: top;\n",
       "    }\n",
       "\n",
       "    .dataframe thead th {\n",
       "        text-align: right;\n",
       "    }\n",
       "</style>\n",
       "<table border=\"1\" class=\"dataframe\">\n",
       "  <thead>\n",
       "    <tr style=\"text-align: right;\">\n",
       "      <th></th>\n",
       "      <th>titles</th>\n",
       "      <th>sub_header</th>\n",
       "      <th>h2</th>\n",
       "      <th>date</th>\n",
       "    </tr>\n",
       "  </thead>\n",
       "  <tbody>\n",
       "  </tbody>\n",
       "</table>\n",
       "</div>"
      ],
      "text/plain": [
       "Empty DataFrame\n",
       "Columns: [titles, sub_header, h2, date]\n",
       "Index: []"
      ]
     },
     "metadata": {},
     "output_type": "display_data"
    }
   ],
   "source": [
    "pd.options.display.max_colwidth = 200\n",
    "display(dr_analysis_22[['titles', 'sub_header', 'h2', 'date']])"
   ]
  },
  {
   "cell_type": "code",
   "execution_count": null,
   "id": "b87d7d5c-fe0a-4c89-a08b-e7c7d4231e80",
   "metadata": {},
   "outputs": [],
   "source": []
  },
  {
   "cell_type": "code",
   "execution_count": null,
   "id": "a3564b8d-ce9b-4408-b9d4-f4f8b111ad1f",
   "metadata": {},
   "outputs": [],
   "source": []
  },
  {
   "cell_type": "code",
   "execution_count": null,
   "id": "e1ab1a6c-2b78-49d4-b58e-9f931fec5ab4",
   "metadata": {},
   "outputs": [],
   "source": []
  },
  {
   "cell_type": "code",
   "execution_count": null,
   "id": "00afd51c-e63b-483d-b0b7-b09c1f9883d3",
   "metadata": {},
   "outputs": [],
   "source": []
  },
  {
   "cell_type": "code",
   "execution_count": 77,
   "id": "45585da4-c003-474d-8a39-dc5726669ab8",
   "metadata": {},
   "outputs": [],
   "source": [
    "def BoW_relevant(df): \n",
    "    try :\n",
    "        count = CountVectorizer()\n",
    "        df_array = df['relevant']\n",
    "        bag = count.fit_transform(df_array)\n",
    "        count_array = bag.toarray()#Make the bag to an array\n",
    "        matrix = pd.DataFrame(data=count_array,columns = count.get_feature_names_out())\n",
    "        matrix_summed = matrix.sum().transpose()\n",
    "        matrix_sum = matrix_summed.sort_values(ascending = False, inplace = True).copy()\n",
    "    except:\n",
    "        pass\n",
    "    return matrix_sum"
   ]
  },
  {
   "cell_type": "code",
   "execution_count": 78,
   "id": "2d79ca52-7112-4a0e-a578-4753c53b4edd",
   "metadata": {
    "tags": []
   },
   "outputs": [
    {
     "ename": "UnboundLocalError",
     "evalue": "local variable 'matrix_sum' referenced before assignment",
     "output_type": "error",
     "traceback": [
      "\u001b[1;31m---------------------------------------------------------------------------\u001b[0m",
      "\u001b[1;31mUnboundLocalError\u001b[0m                         Traceback (most recent call last)",
      "\u001b[1;32m~\\AppData\\Local\\Temp/ipykernel_2708/2577715579.py\u001b[0m in \u001b[0;36m<module>\u001b[1;34m\u001b[0m\n\u001b[1;32m----> 1\u001b[1;33m \u001b[0mBoW_relevant\u001b[0m\u001b[1;33m(\u001b[0m\u001b[0mdr_analysis\u001b[0m\u001b[1;33m)\u001b[0m\u001b[1;33m\u001b[0m\u001b[1;33m\u001b[0m\u001b[0m\n\u001b[0m",
      "\u001b[1;32m~\\AppData\\Local\\Temp/ipykernel_2708/2061961009.py\u001b[0m in \u001b[0;36mBoW_relevant\u001b[1;34m(df)\u001b[0m\n\u001b[0;32m     10\u001b[0m     \u001b[1;32mexcept\u001b[0m\u001b[1;33m:\u001b[0m\u001b[1;33m\u001b[0m\u001b[1;33m\u001b[0m\u001b[0m\n\u001b[0;32m     11\u001b[0m         \u001b[1;32mpass\u001b[0m\u001b[1;33m\u001b[0m\u001b[1;33m\u001b[0m\u001b[0m\n\u001b[1;32m---> 12\u001b[1;33m     \u001b[1;32mreturn\u001b[0m \u001b[0mmatrix_sum\u001b[0m\u001b[1;33m\u001b[0m\u001b[1;33m\u001b[0m\u001b[0m\n\u001b[0m",
      "\u001b[1;31mUnboundLocalError\u001b[0m: local variable 'matrix_sum' referenced before assignment"
     ]
    }
   ],
   "source": [
    "BoW_relevant(dr_analysis)"
   ]
  },
  {
   "cell_type": "code",
   "execution_count": 55,
   "id": "2997454b-584a-4cef-b903-9da81fe748bc",
   "metadata": {},
   "outputs": [],
   "source": [
    "def top_words_month(df, year):\n",
    "    df_year=df[df['date'].dt.year == year]\n",
    "    df_month=df[df['date'].dt.month == \"5\"]\n",
    "    df_month_bow=BoW_relevant(df_month)\n",
    "    return df_month_bow"
   ]
  },
  {
   "cell_type": "code",
   "execution_count": 56,
   "id": "4c5905c3-fe21-4bee-8150-eba938e31804",
   "metadata": {
    "collapsed": true,
    "jupyter": {
     "outputs_hidden": true
    },
    "tags": []
   },
   "outputs": [
    {
     "ename": "UnboundLocalError",
     "evalue": "local variable 'matrix_sum' referenced before assignment",
     "output_type": "error",
     "traceback": [
      "\u001b[1;31m---------------------------------------------------------------------------\u001b[0m",
      "\u001b[1;31mUnboundLocalError\u001b[0m                         Traceback (most recent call last)",
      "\u001b[1;32m~\\AppData\\Local\\Temp/ipykernel_2708/3823327515.py\u001b[0m in \u001b[0;36m<module>\u001b[1;34m\u001b[0m\n\u001b[1;32m----> 1\u001b[1;33m \u001b[0mdr_analysis_top_2020_05\u001b[0m \u001b[1;33m=\u001b[0m \u001b[0mtop_words_month\u001b[0m\u001b[1;33m(\u001b[0m\u001b[0mdr_analysis\u001b[0m\u001b[1;33m,\u001b[0m \u001b[1;36m2020\u001b[0m\u001b[1;33m)\u001b[0m\u001b[1;33m\u001b[0m\u001b[1;33m\u001b[0m\u001b[0m\n\u001b[0m",
      "\u001b[1;32m~\\AppData\\Local\\Temp/ipykernel_2708/2704513776.py\u001b[0m in \u001b[0;36mtop_words_month\u001b[1;34m(df, year)\u001b[0m\n\u001b[0;32m      2\u001b[0m     \u001b[0mdf_year\u001b[0m\u001b[1;33m=\u001b[0m\u001b[0mdf\u001b[0m\u001b[1;33m[\u001b[0m\u001b[0mdf\u001b[0m\u001b[1;33m[\u001b[0m\u001b[1;34m'date'\u001b[0m\u001b[1;33m]\u001b[0m\u001b[1;33m.\u001b[0m\u001b[0mdt\u001b[0m\u001b[1;33m.\u001b[0m\u001b[0myear\u001b[0m \u001b[1;33m==\u001b[0m \u001b[0myear\u001b[0m\u001b[1;33m]\u001b[0m\u001b[1;33m\u001b[0m\u001b[1;33m\u001b[0m\u001b[0m\n\u001b[0;32m      3\u001b[0m     \u001b[0mdf_month\u001b[0m\u001b[1;33m=\u001b[0m\u001b[0mdf\u001b[0m\u001b[1;33m[\u001b[0m\u001b[0mdf\u001b[0m\u001b[1;33m[\u001b[0m\u001b[1;34m'date'\u001b[0m\u001b[1;33m]\u001b[0m\u001b[1;33m.\u001b[0m\u001b[0mdt\u001b[0m\u001b[1;33m.\u001b[0m\u001b[0mmonth\u001b[0m \u001b[1;33m==\u001b[0m \u001b[1;34m\"5\"\u001b[0m\u001b[1;33m]\u001b[0m\u001b[1;33m\u001b[0m\u001b[1;33m\u001b[0m\u001b[0m\n\u001b[1;32m----> 4\u001b[1;33m     \u001b[0mdf_month_bow\u001b[0m\u001b[1;33m=\u001b[0m\u001b[0mBoW_relevant\u001b[0m\u001b[1;33m(\u001b[0m\u001b[0mdf_month\u001b[0m\u001b[1;33m)\u001b[0m\u001b[1;33m\u001b[0m\u001b[1;33m\u001b[0m\u001b[0m\n\u001b[0m\u001b[0;32m      5\u001b[0m     \u001b[1;32mreturn\u001b[0m \u001b[0mdf_month_bow\u001b[0m\u001b[1;33m\u001b[0m\u001b[1;33m\u001b[0m\u001b[0m\n",
      "\u001b[1;32m~\\AppData\\Local\\Temp/ipykernel_2708/2556943441.py\u001b[0m in \u001b[0;36mBoW_relevant\u001b[1;34m(df)\u001b[0m\n\u001b[0;32m     10\u001b[0m     \u001b[1;32mexcept\u001b[0m\u001b[1;33m:\u001b[0m\u001b[1;33m\u001b[0m\u001b[1;33m\u001b[0m\u001b[0m\n\u001b[0;32m     11\u001b[0m         \u001b[1;32mpass\u001b[0m\u001b[1;33m\u001b[0m\u001b[1;33m\u001b[0m\u001b[0m\n\u001b[1;32m---> 12\u001b[1;33m     \u001b[1;32mreturn\u001b[0m \u001b[0mmatrix_sum\u001b[0m\u001b[1;33m\u001b[0m\u001b[1;33m\u001b[0m\u001b[0m\n\u001b[0m",
      "\u001b[1;31mUnboundLocalError\u001b[0m: local variable 'matrix_sum' referenced before assignment"
     ]
    }
   ],
   "source": [
    "dr_analysis_top_2020_05 = top_words_month(dr_analysis, 2020)"
   ]
  },
  {
   "cell_type": "code",
   "execution_count": null,
   "id": "efbe69a8-3e84-4df8-8c04-1d152ea55df6",
   "metadata": {},
   "outputs": [],
   "source": []
  },
  {
   "cell_type": "code",
   "execution_count": null,
   "id": "4ca47d9b-e1b7-4763-82bb-7af5c6e26c0b",
   "metadata": {},
   "outputs": [],
   "source": [
    "tv2_krimi_tag_grouped =  tv2_krimi_tag.groupby(tv2_krimi_tag[\"date\"].dt.year)[\"tag\"].count()"
   ]
  }
 ],
 "metadata": {
  "kernelspec": {
   "display_name": "Python 3 (ipykernel)",
   "language": "python",
   "name": "python3"
  },
  "language_info": {
   "codemirror_mode": {
    "name": "ipython",
    "version": 3
   },
   "file_extension": ".py",
   "mimetype": "text/x-python",
   "name": "python",
   "nbconvert_exporter": "python",
   "pygments_lexer": "ipython3",
   "version": "3.9.7"
  }
 },
 "nbformat": 4,
 "nbformat_minor": 5
}
