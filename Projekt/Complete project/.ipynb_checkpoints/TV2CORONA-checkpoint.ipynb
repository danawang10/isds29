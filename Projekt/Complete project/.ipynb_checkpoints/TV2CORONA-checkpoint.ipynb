{
 "cells": [
  {
   "cell_type": "code",
   "execution_count": null,
   "id": "d367eca8-3fea-453f-bbfc-77cea411baf5",
   "metadata": {},
   "outputs": [],
   "source": []
  },
  {
   "cell_type": "code",
   "execution_count": 152,
   "id": "78698de9-4cd5-4aa5-9a6e-dfc356a0988a",
   "metadata": {},
   "outputs": [],
   "source": [
    "def extract_surround_words_BetterRead(text, keyword, n):\n",
    "    '''\n",
    "    text : input text\n",
    "    keyword : the search keyword we are looking\n",
    "    n : number of words around the keyword\n",
    "    '''\n",
    "    surround_words=[]\n",
    "    #extracting all the words from text\n",
    "    words = words = re.findall(r'\\w+', text)\n",
    "    \n",
    "    #iterate through all the words\n",
    "    for index, word in enumerate(words):\n",
    "\n",
    "        #check if search keyword matches\n",
    "        if keyword in word:\n",
    "            #fetch left side words\n",
    "            left_side_words = words[index-n : index]\n",
    "            \n",
    "            #fetch right side words\n",
    "            right_side_words = words[index+1 : index + n + 1]\n",
    "            \n",
    "            surround_words.append(left_side_words + keyword)\n",
    "            surround_words.append(right_side_words)\n",
    "    return surround_words"
   ]
  },
  {
   "cell_type": "markdown",
   "id": "d0ae5c66-b650-4bc7-b2a0-7d99ad728144",
   "metadata": {},
   "source": [
    "Defining a function that creates a new column with extract_surround_words function for our three datasets:"
   ]
  },
  {
   "cell_type": "code",
   "execution_count": 153,
   "id": "768cfbb0-528e-4689-afae-1a9b5ef1867f",
   "metadata": {},
   "outputs": [],
   "source": [
    "def find_relevant_BetterRead(df, word, n):\n",
    "    r=[]\n",
    "    for row in df[\"content\"]:\n",
    "        temp= extract_surround_words_BetterRead(row, word, n)\n",
    "        temp_list=[]\n",
    "        for i in temp:\n",
    "            stems=' '.join(i)\n",
    "            temp_list.append(stems)\n",
    "            s=\" \".join(temp_list)\n",
    "        r.append(s)\n",
    "    df['relevant_text']=r\n",
    "    return df"
   ]
  }
 ],
 "metadata": {
  "kernelspec": {
   "display_name": "Python 3 (ipykernel)",
   "language": "python",
   "name": "python3"
  },
  "language_info": {
   "codemirror_mode": {
    "name": "ipython",
    "version": 3
   },
   "file_extension": ".py",
   "mimetype": "text/x-python",
   "name": "python",
   "nbconvert_exporter": "python",
   "pygments_lexer": "ipython3",
   "version": "3.9.7"
  }
 },
 "nbformat": 4,
 "nbformat_minor": 5
}
