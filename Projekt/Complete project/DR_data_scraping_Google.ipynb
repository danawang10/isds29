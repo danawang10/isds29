{
 "cells": [
  {
   "cell_type": "markdown",
   "id": "8a6f9b10",
   "metadata": {},
   "source": [
    "# Google DR Search"
   ]
  },
  {
   "cell_type": "markdown",
   "id": "96ccae6d",
   "metadata": {},
   "source": []
  },
  {
   "cell_type": "markdown",
   "id": "36a45164",
   "metadata": {},
   "source": [
    "## Importing packages"
   ]
  },
  {
   "cell_type": "code",
   "execution_count": 27,
   "id": "ea05afce",
   "metadata": {},
   "outputs": [],
   "source": [
    "import requests\n",
    "from bs4 import BeautifulSoup\n",
    "import time\n",
    "import pandas as pd\n",
    "import numpy as np\n",
    "import tqdm\n",
    "import csv\n",
    "import re\n",
    "import os\n",
    "import seaborn as sns\n",
    "import matplotlib.pyplot as plt\n",
    "\n",
    "# Import selenium\n",
    "from selenium import webdriver\n",
    "from webdriver_manager.chrome import ChromeDriverManager\n",
    "from selenium.webdriver.chrome.service import Service\n",
    "from selenium.webdriver.common.by import By\n",
    "from selenium.webdriver.common.keys import Keys"
   ]
  },
  {
   "cell_type": "markdown",
   "id": "b30d2b71",
   "metadata": {},
   "source": [
    "## Generate search terms\n",
    "\n",
    "Search terms follow the following format: We search for the month and year in the format DR articles inclue a timestap. Manual Google searches proved to provide relevant research results mostly limited to the month provided. In this way we create a list of links to DR articles. All articles are located on the site https://www.dr.dk/nyheder or a subsite. This can be included in the google search. An example of a search is: jan. 2012\" AND \"sygeplejersker*\" site:https://www.dr.dk/nyheder."
   ]
  },
  {
   "cell_type": "code",
   "execution_count": 2,
   "id": "d03e9d0d",
   "metadata": {},
   "outputs": [],
   "source": [
    "# Generate empty list with search terms\n",
    "search_terms = []\n",
    "# Generate combinations of year-month and term search combinations\n",
    "for year in range(2012, 2023):\n",
    "    months = ['jan.', 'feb.', 'mar.', 'apr.', 'maj', 'jun.', 'jul.', 'aug.', 'sep.', 'okt.', 'nov.', 'dec.']\n",
    "    for month in months:\n",
    "        term = f'\"{month} {year}\" AND \"sygeplejersker*\" site:https://www.dr.dk/nyheder/ \\n'\n",
    "        search_terms.append(term)\n",
    "# Create final list of search terms, future month-year combinations deleted\n",
    "search_terms = search_terms[:-4]\n"
   ]
  },
  {
   "cell_type": "markdown",
   "id": "b0cbc9dc",
   "metadata": {},
   "source": [
    "We create a total of 124 search terms, for all month-year combinations between January 2012 and August 2022."
   ]
  },
  {
   "cell_type": "markdown",
   "id": "3b71e008",
   "metadata": {},
   "source": [
    "## Scraping Google search to retrieve list of links to DR articles\n",
    "With the following code we scrape Google searches to retrieve a list of links to DR articles, given the DR website does not provide a useful search function. We use Selenium to go execute a Google search and retrieve DR article links. We execute the search, save the HTML for the first results page and then go to further pages of the search results to retrieve more search resutls. Google intervenes when scaping search results too fast. We therefore integrate a break when moving between pages. The break time takes random values between 0.25 and 3.5 seconds."
   ]
  },
  {
   "cell_type": "markdown",
   "id": "bd50bf6c",
   "metadata": {},
   "source": [
    "### Scraping the first three search pages"
   ]
  },
  {
   "cell_type": "code",
   "execution_count": 29,
   "id": "f91be3f8",
   "metadata": {
    "scrolled": true
   },
   "outputs": [
    {
     "name": "stderr",
     "output_type": "stream",
     "text": [
      "  0%|                                                                                           | 0/24 [00:00<?, ?it/s]C:\\Users\\jgb569\\AppData\\Local\\Temp/ipykernel_24636/3617242327.py:4: DeprecationWarning: executable_path has been deprecated, please pass in a Service object\n",
      "  driver = webdriver.Chrome(ChromeDriverManager().install())\n",
      "100%|██████████████████████████████████████████████████████████████████████████████████| 24/24 [13:13<00:00, 33.05s/it]\n"
     ]
    }
   ],
   "source": [
    "html_list = []\n",
    "finished_searches = 0\n",
    "for i in tqdm.tqdm(search_terms[100:124]):\n",
    "    driver = webdriver.Chrome(ChromeDriverManager().install())\n",
    "    # Go to google\n",
    "    driver.get('https:google.com')\n",
    "    # Discard cookie message, reject cookies\n",
    "    cookie = driver.find_element(By.ID, \"W0wltc\")\n",
    "    cookie.click()\n",
    "    # Search for DR news articles\n",
    "    gsearch = driver.find_element(By.CSS_SELECTOR, \"input[title='Søg']\")\n",
    "    gsearch.send_keys(i)\n",
    "    # Get HTML for first search result page\n",
    "    html = driver.page_source\n",
    "    html_list.append(html)\n",
    "    # Go to next result page\n",
    "    next_page = driver.find_element(By.CSS_SELECTOR, \".NVbCr+ span\") #CSS selector only last not previous page\n",
    "    next_page.click()\n",
    "    # Define an error used when reaching last search page:\n",
    "        # When error = 0, there is another resut page.\n",
    "        # When error = 1, there is no further page on Google, loop stops.\n",
    "    error = 0\n",
    "    page = 1\n",
    "    for page in range(0,1): #Iterates over 3 Pages in total\n",
    "        try:\n",
    "            html2 = driver.page_source\n",
    "            html_list.append(html2)\n",
    "            # Google detects suspicious behavior and asks to solve some puzzle after 7 iterations. Trying random sleep time and scrolling down to element.\n",
    "            time.sleep(np.random.uniform(10, 15))\n",
    "            # Go to next result page\n",
    "            next_page = driver.find_element(By.CSS_SELECTOR, \"#pnnext .NVbCr+ span\") #CSS selector only last not previous page\n",
    "            next_page.click()\n",
    "            page += 1\n",
    "        except:\n",
    "            error += 1\n",
    "    finished_searches += 1\n",
    "    time.sleep(np.random.uniform(5,10))\n",
    "    driver.quit()"
   ]
  },
  {
   "cell_type": "markdown",
   "id": "22c9666c",
   "metadata": {},
   "source": [
    "### Create link list"
   ]
  },
  {
   "cell_type": "code",
   "execution_count": 30,
   "id": "43136112",
   "metadata": {},
   "outputs": [],
   "source": [
    "# Preparing two empty lists\n",
    "link_list = []\n",
    "link_list_clean = []\n",
    "# Iterating over the results from scraping\n",
    "for l in html_list:\n",
    "    soup = BeautifulSoup(l, 'lxml')\n",
    "    try: \n",
    "        links = soup.find('div', class_ = 'v7W49e').find_all('a', href=True)\n",
    "    except:\n",
    "        pass\n",
    "    # Generate list with all links\n",
    "    for i in links:\n",
    "        temp = i['href']\n",
    "        link_list.append(temp)\n",
    "    # Getting rid of noise, links not pointing to DR but Google infrastructure\n",
    "    for link in link_list:\n",
    "        if \"webcache.googleusercontent\" not in link:\n",
    "            link_list_clean.append(link)"
   ]
  },
  {
   "cell_type": "markdown",
   "id": "9285f93e",
   "metadata": {},
   "source": [
    "#### From list to DataFrame"
   ]
  },
  {
   "cell_type": "code",
   "execution_count": 31,
   "id": "a8dfc3a8",
   "metadata": {},
   "outputs": [],
   "source": [
    "# Creating a pd.DataFrame from link_list_clean\n",
    "dr_links = pd.DataFrame({'links':link_list_clean})\n",
    "# For some reason, there are many duplicates included, drop them\n",
    "dr_links = dr_links.drop_duplicates(subset = 'links')"
   ]
  },
  {
   "cell_type": "markdown",
   "id": "9061aa83",
   "metadata": {},
   "source": [
    "#### Save dataset"
   ]
  },
  {
   "cell_type": "code",
   "execution_count": 32,
   "id": "027ff252",
   "metadata": {},
   "outputs": [],
   "source": [
    "dr_links.to_csv(\"dr_links_100_124.csv\")"
   ]
  },
  {
   "cell_type": "markdown",
   "id": "5f4a312d",
   "metadata": {},
   "source": [
    "# Playground"
   ]
  },
  {
   "cell_type": "markdown",
   "id": "fc5b3b26",
   "metadata": {},
   "source": [
    "## Search results statistics"
   ]
  },
  {
   "cell_type": "markdown",
   "id": "6f5cb0cd",
   "metadata": {},
   "source": [
    "### Scraping Google results"
   ]
  },
  {
   "cell_type": "code",
   "execution_count": 50,
   "id": "df4ca169",
   "metadata": {},
   "outputs": [
    {
     "name": "stderr",
     "output_type": "stream",
     "text": [
      "  0%|                                                                                            | 0/4 [00:00<?, ?it/s]\n",
      "[WDM] - Downloading:   0%|                                                                 | 0.00/6.21M [00:00<?, ?B/s]\u001b[A\n",
      "[WDM] - Downloading:   7%|███▋                                                     | 416k/6.21M [00:00<00:01, 4.12MB/s]\u001b[A\n",
      "[WDM] - Downloading:  28%|███████████████▋                                        | 1.74M/6.21M [00:00<00:00, 9.75MB/s]\u001b[A\n",
      "[WDM] - Downloading: 100%|████████████████████████████████████████████████████████| 6.21M/6.21M [00:00<00:00, 17.1MB/s]\u001b[A\n",
      "C:\\Users\\jgb569\\AppData\\Local\\Temp/ipykernel_13496/2393136411.py:4: DeprecationWarning: executable_path has been deprecated, please pass in a Service object\n",
      "  driver = webdriver.Chrome(ChromeDriverManager().install())\n",
      "100%|████████████████████████████████████████████████████████████████████████████████████| 4/4 [00:47<00:00, 11.86s/it]\n"
     ]
    }
   ],
   "source": [
    "num_search_results = []\n",
    "\n",
    "for search_term in tqdm.tqdm(search_terms[124:129]):\n",
    "    driver = webdriver.Chrome(ChromeDriverManager().install())\n",
    "    # Go to google\n",
    "    driver.get('https:google.com')\n",
    "    # Discard cookie message, reject cookies\n",
    "    cookie = driver.find_element(By.ID, \"W0wltc\")\n",
    "    cookie.click()\n",
    "    # Search for DR news articles\n",
    "    gsearch = driver.find_element(By.CSS_SELECTOR, \"input[title='Søg']\")\n",
    "    gsearch.send_keys(search_term)\n",
    "    # Get HTML for first search result page\n",
    "    num_results = driver.find_element(By.ID, \"result-stats\")\n",
    "    num_search_results.append(num_results.text)\n",
    "    time.sleep(np.random.uniform(0.25,1))\n",
    "    driver.quit()"
   ]
  },
  {
   "cell_type": "markdown",
   "id": "b0246212",
   "metadata": {},
   "source": [
    "### Cleaning data"
   ]
  },
  {
   "cell_type": "code",
   "execution_count": 2,
   "id": "b4784d0e",
   "metadata": {},
   "outputs": [
    {
     "ename": "NameError",
     "evalue": "name 'num_search_results' is not defined",
     "output_type": "error",
     "traceback": [
      "\u001b[1;31m---------------------------------------------------------------------------\u001b[0m",
      "\u001b[1;31mNameError\u001b[0m                                 Traceback (most recent call last)",
      "\u001b[1;32m~\\AppData\\Local\\Temp/ipykernel_30768/245409569.py\u001b[0m in \u001b[0;36m<module>\u001b[1;34m\u001b[0m\n\u001b[0;32m      1\u001b[0m \u001b[1;31m# Create list of search result counts\u001b[0m\u001b[1;33m\u001b[0m\u001b[1;33m\u001b[0m\u001b[0m\n\u001b[0;32m      2\u001b[0m \u001b[0mnum_search_results_clean\u001b[0m \u001b[1;33m=\u001b[0m \u001b[1;33m[\u001b[0m\u001b[1;33m]\u001b[0m\u001b[1;33m\u001b[0m\u001b[1;33m\u001b[0m\u001b[0m\n\u001b[1;32m----> 3\u001b[1;33m \u001b[1;32mfor\u001b[0m \u001b[0mresult\u001b[0m \u001b[1;32min\u001b[0m \u001b[0mnum_search_results\u001b[0m\u001b[1;33m:\u001b[0m\u001b[1;33m\u001b[0m\u001b[1;33m\u001b[0m\u001b[0m\n\u001b[0m\u001b[0;32m      4\u001b[0m     \u001b[0mnumber_only\u001b[0m \u001b[1;33m=\u001b[0m \u001b[0mresult\u001b[0m\u001b[1;33m[\u001b[0m\u001b[1;36m3\u001b[0m\u001b[1;33m:\u001b[0m\u001b[1;36m10\u001b[0m\u001b[1;33m]\u001b[0m\u001b[1;33m\u001b[0m\u001b[1;33m\u001b[0m\u001b[0m\n\u001b[0;32m      5\u001b[0m     \u001b[0mnumber_only\u001b[0m \u001b[1;33m=\u001b[0m \u001b[0mnumber_only\u001b[0m\u001b[1;33m.\u001b[0m\u001b[0mstrip\u001b[0m\u001b[1;33m(\u001b[0m\u001b[1;33m)\u001b[0m\u001b[1;33m\u001b[0m\u001b[1;33m\u001b[0m\u001b[0m\n",
      "\u001b[1;31mNameError\u001b[0m: name 'num_search_results' is not defined"
     ]
    }
   ],
   "source": [
    "# Create list of search result counts\n",
    "num_search_results_clean = []\n",
    "for result in num_search_results:\n",
    "    number_only = result[3:10]\n",
    "    number_only = number_only.strip()\n",
    "    number_only = re.sub('\\D+', '', number_only)\n",
    "    num_search_results_clean.append(number_only)"
   ]
  },
  {
   "cell_type": "code",
   "execution_count": 52,
   "id": "9165a54e",
   "metadata": {},
   "outputs": [],
   "source": [
    "# Change to integer\n",
    "list_search_results = [int(search) for search in num_search_results_clean]"
   ]
  },
  {
   "cell_type": "code",
   "execution_count": 53,
   "id": "9c738257",
   "metadata": {},
   "outputs": [],
   "source": [
    "# Creating a pd.DataFrame from search result count\n",
    "list_search_results_df = pd.DataFrame({'Month': list_search_results}) # 'MONTH' SHOULD BE 'SEARCH_RESULTS'!"
   ]
  },
  {
   "cell_type": "code",
   "execution_count": 54,
   "id": "87cdad05",
   "metadata": {},
   "outputs": [],
   "source": [
    "# Export \n",
    "list_search_results_df.to_csv(\"list_search_results_124-128.csv\")"
   ]
  },
  {
   "cell_type": "markdown",
   "id": "e2cb2ccf",
   "metadata": {},
   "source": [
    "## Combine datasets"
   ]
  },
  {
   "cell_type": "code",
   "execution_count": 46,
   "id": "8572e3f1",
   "metadata": {},
   "outputs": [
    {
     "data": {
      "text/plain": [
       "['.ipynb_checkpoints',\n",
       " 'dr_content_list.txt',\n",
       " 'DR_data_retrieval_and_cleaning.ipynb',\n",
       " 'DR_data_scraping_Google.ipynb',\n",
       " 'dr_date.txt',\n",
       " 'dr_h2_list.txt',\n",
       " 'dr_links_100_124.csv',\n",
       " 'dr_links_1_26.csv',\n",
       " 'dr_links_26_50.csv',\n",
       " 'dr_links_51_75.csv',\n",
       " 'dr_links_76_100.csv',\n",
       " 'dr_titles_list.txt',\n",
       " 'list_search_results_0-50.csv',\n",
       " 'list_search_results_50-124.csv',\n",
       " 'Scraping_first_3_searchpages.ipynb']"
      ]
     },
     "execution_count": 46,
     "metadata": {},
     "output_type": "execute_result"
    }
   ],
   "source": [
    "os.listdir()"
   ]
  },
  {
   "cell_type": "code",
   "execution_count": 5,
   "id": "059368ff",
   "metadata": {},
   "outputs": [],
   "source": [
    "list_sr_df_50_124 = pd.read_csv(\"list_search_results_50-124.csv\")\n",
    "list_sr_df_0_50 = pd.read_csv(\"list_search_results_0-50.csv\")\n",
    "list_sr_df_124_128 = pd.read_csv(\"list_search_results_124-128.csv\")"
   ]
  },
  {
   "cell_type": "code",
   "execution_count": 12,
   "id": "1c8e097e",
   "metadata": {
    "scrolled": true
   },
   "outputs": [],
   "source": [
    "df_sr_all = pd.concat([list_sr_df_0_50, list_sr_df_50_124, list_sr_df_124_128], \n",
    "          ignore_index=True)"
   ]
  },
  {
   "cell_type": "code",
   "execution_count": 13,
   "id": "0a7a3193",
   "metadata": {},
   "outputs": [],
   "source": [
    "# Generate combinations of year-month\n",
    "month_year = []\n",
    "for year in range(2012, 2023):\n",
    "    months = ['jan.', 'feb.', 'mar.', 'apr.', 'maj', 'jun.', 'jul.', 'aug.', 'sep.', 'okt.', 'nov.', 'dec.']\n",
    "    for month in months:\n",
    "        time = f'\"{month} {year}\"'\n",
    "        month_year.append(time)\n",
    "# Create final list of search terms, future month-year combinations deleted\n",
    "month_year = month_year[:-4]"
   ]
  },
  {
   "cell_type": "code",
   "execution_count": 17,
   "id": "963668ab",
   "metadata": {
    "tags": []
   },
   "outputs": [
    {
     "data": {
      "text/html": [
       "<div>\n",
       "<style scoped>\n",
       "    .dataframe tbody tr th:only-of-type {\n",
       "        vertical-align: middle;\n",
       "    }\n",
       "\n",
       "    .dataframe tbody tr th {\n",
       "        vertical-align: top;\n",
       "    }\n",
       "\n",
       "    .dataframe thead th {\n",
       "        text-align: right;\n",
       "    }\n",
       "</style>\n",
       "<table border=\"1\" class=\"dataframe\">\n",
       "  <thead>\n",
       "    <tr style=\"text-align: right;\">\n",
       "      <th></th>\n",
       "      <th>search_results</th>\n",
       "    </tr>\n",
       "  </thead>\n",
       "  <tbody>\n",
       "    <tr>\n",
       "      <th>0</th>\n",
       "      <td>2220</td>\n",
       "    </tr>\n",
       "    <tr>\n",
       "      <th>1</th>\n",
       "      <td>1450</td>\n",
       "    </tr>\n",
       "    <tr>\n",
       "      <th>2</th>\n",
       "      <td>1360</td>\n",
       "    </tr>\n",
       "    <tr>\n",
       "      <th>3</th>\n",
       "      <td>1310</td>\n",
       "    </tr>\n",
       "    <tr>\n",
       "      <th>4</th>\n",
       "      <td>1700</td>\n",
       "    </tr>\n",
       "    <tr>\n",
       "      <th>...</th>\n",
       "      <td>...</td>\n",
       "    </tr>\n",
       "    <tr>\n",
       "      <th>123</th>\n",
       "      <td>1160</td>\n",
       "    </tr>\n",
       "    <tr>\n",
       "      <th>124</th>\n",
       "      <td>10600</td>\n",
       "    </tr>\n",
       "    <tr>\n",
       "      <th>125</th>\n",
       "      <td>22</td>\n",
       "    </tr>\n",
       "    <tr>\n",
       "      <th>126</th>\n",
       "      <td>423</td>\n",
       "    </tr>\n",
       "    <tr>\n",
       "      <th>127</th>\n",
       "      <td>3030</td>\n",
       "    </tr>\n",
       "  </tbody>\n",
       "</table>\n",
       "<p>128 rows × 1 columns</p>\n",
       "</div>"
      ],
      "text/plain": [
       "     search_results\n",
       "0              2220\n",
       "1              1450\n",
       "2              1360\n",
       "3              1310\n",
       "4              1700\n",
       "..              ...\n",
       "123            1160\n",
       "124           10600\n",
       "125              22\n",
       "126             423\n",
       "127            3030\n",
       "\n",
       "[128 rows x 1 columns]"
      ]
     },
     "execution_count": 17,
     "metadata": {},
     "output_type": "execute_result"
    }
   ],
   "source": [
    "# Delete obsolete index column\n",
    "df_sr_all.drop(\"Unnamed: 0\", axis = \"columns\", inplace = True)\n",
    "\n",
    "# Column name should be different: 'Month' but 'search_results'\n",
    "df_sr_all = df_sr_all.rename(columns = {\"Month\" : \"search_results\"})"
   ]
  },
  {
   "cell_type": "code",
   "execution_count": 18,
   "id": "6770930b",
   "metadata": {},
   "outputs": [],
   "source": [
    "df_sr_all[\"month\"] = month_year"
   ]
  },
  {
   "cell_type": "markdown",
   "id": "50c2c172",
   "metadata": {},
   "source": [
    "### Create lineplot"
   ]
  },
  {
   "cell_type": "code",
   "execution_count": 34,
   "id": "ad36d06c",
   "metadata": {
    "scrolled": true
   },
   "outputs": [
    {
     "data": {
      "image/png": "[encoded data removed]",
      "text/plain": [
       "<Figure size 1440x720 with 1 Axes>"
      ]
     },
     "metadata": {
      "needs_background": "light"
     },
     "output_type": "display_data"
    }
   ],
   "source": [
    "fig, ax = plt.subplots(nrows=1, ncols=1, sharey=False, figsize=(20,10))\n",
    "\n",
    "sns.lineplot(x = 'month', y = 'search_results', data = df_sr_all)\n",
    "\n",
    "_ = plt.title (\"Development of number of DR articles results for Google search for sygeplej* and month year combination\", fontsize = 18)\n",
    "_ = plt.ylabel(\"Number of articles\")\n",
    "_ = plt.xticks([0, 6, 12, 18, 24, 30, 36, 42, 48, 54, 60, 66, 72, 78, 84, 90, 96, 102, 108, 114, 120, 127])\n",
    "_ = plt.xticks(rotation=45)\n",
    "plt.show()"
   ]
  },
  {
   "cell_type": "code",
   "execution_count": null,
   "id": "a16da11f",
   "metadata": {},
   "outputs": [],
   "source": [
    "Find months with a lot of results!"
   ]
  },
  {
   "cell_type": "code",
   "execution_count": 37,
   "id": "b23e701e",
   "metadata": {},
   "outputs": [
    {
     "data": {
      "text/html": [
       "<div>\n",
       "<style scoped>\n",
       "    .dataframe tbody tr th:only-of-type {\n",
       "        vertical-align: middle;\n",
       "    }\n",
       "\n",
       "    .dataframe tbody tr th {\n",
       "        vertical-align: top;\n",
       "    }\n",
       "\n",
       "    .dataframe thead th {\n",
       "        text-align: right;\n",
       "    }\n",
       "</style>\n",
       "<table border=\"1\" class=\"dataframe\">\n",
       "  <thead>\n",
       "    <tr style=\"text-align: right;\">\n",
       "      <th></th>\n",
       "      <th>search_results</th>\n",
       "      <th>month</th>\n",
       "    </tr>\n",
       "  </thead>\n",
       "  <tbody>\n",
       "    <tr>\n",
       "      <th>100</th>\n",
       "      <td>11600</td>\n",
       "      <td>\"maj 2020\"</td>\n",
       "    </tr>\n",
       "    <tr>\n",
       "      <th>124</th>\n",
       "      <td>10600</td>\n",
       "      <td>\"maj 2022\"</td>\n",
       "    </tr>\n",
       "    <tr>\n",
       "      <th>112</th>\n",
       "      <td>9220</td>\n",
       "      <td>\"maj 2021\"</td>\n",
       "    </tr>\n",
       "    <tr>\n",
       "      <th>127</th>\n",
       "      <td>3030</td>\n",
       "      <td>\"aug. 2022\"</td>\n",
       "    </tr>\n",
       "    <tr>\n",
       "      <th>122</th>\n",
       "      <td>2780</td>\n",
       "      <td>\"mar. 2022\"</td>\n",
       "    </tr>\n",
       "    <tr>\n",
       "      <th>0</th>\n",
       "      <td>2220</td>\n",
       "      <td>\"jan. 2012\"</td>\n",
       "    </tr>\n",
       "    <tr>\n",
       "      <th>7</th>\n",
       "      <td>2070</td>\n",
       "      <td>\"aug. 2012\"</td>\n",
       "    </tr>\n",
       "    <tr>\n",
       "      <th>21</th>\n",
       "      <td>2020</td>\n",
       "      <td>\"okt. 2013\"</td>\n",
       "    </tr>\n",
       "    <tr>\n",
       "      <th>39</th>\n",
       "      <td>2000</td>\n",
       "      <td>\"apr. 2015\"</td>\n",
       "    </tr>\n",
       "    <tr>\n",
       "      <th>119</th>\n",
       "      <td>1900</td>\n",
       "      <td>\"dec. 2021\"</td>\n",
       "    </tr>\n",
       "  </tbody>\n",
       "</table>\n",
       "</div>"
      ],
      "text/plain": [
       "     search_results        month\n",
       "100           11600   \"maj 2020\"\n",
       "124           10600   \"maj 2022\"\n",
       "112            9220   \"maj 2021\"\n",
       "127            3030  \"aug. 2022\"\n",
       "122            2780  \"mar. 2022\"\n",
       "0              2220  \"jan. 2012\"\n",
       "7              2070  \"aug. 2012\"\n",
       "21             2020  \"okt. 2013\"\n",
       "39             2000  \"apr. 2015\"\n",
       "119            1900  \"dec. 2021\""
      ]
     },
     "execution_count": 37,
     "metadata": {},
     "output_type": "execute_result"
    }
   ],
   "source": [
    "df_sr_all_sorted = df_sr_all.sort_values('search_results', ascending = False)\n",
    "df_sr_all_sorted.head(10)"
   ]
  },
  {
   "cell_type": "markdown",
   "id": "837e1aeb",
   "metadata": {},
   "source": [
    "The three most research results are returned for May 2020, 2022, and 2021. It seems that something happens in May in relation to nurses. "
   ]
  }
 ],
 "metadata": {
  "kernelspec": {
   "display_name": "Python 3 (ipykernel)",
   "language": "python",
   "name": "python3"
  },
  "language_info": {
   "codemirror_mode": {
    "name": "ipython",
    "version": 3
   },
   "file_extension": ".py",
   "mimetype": "text/x-python",
   "name": "python",
   "nbconvert_exporter": "python",
   "pygments_lexer": "ipython3",
   "version": "3.9.12"
  }
 },
 "nbformat": 4,
 "nbformat_minor": 5
}
