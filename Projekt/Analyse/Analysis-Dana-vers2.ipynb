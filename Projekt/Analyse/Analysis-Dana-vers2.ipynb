{
 "cells": [
  {
   "cell_type": "markdown",
   "id": "a030fc7e",
   "metadata": {},
   "source": [
    "# Analysis"
   ]
  },
  {
   "cell_type": "code",
   "execution_count": 3,
   "id": "477fad95",
   "metadata": {},
   "outputs": [],
   "source": [
    "import time\n",
    "import tqdm\n",
    "import pandas as pd\n",
    "import numpy as np\n",
    "import datetime as dt\n",
    "import matplotlib.pyplot as plt\n",
    "import seaborn as sns\n",
    "import re\n",
    "import lemmy # For lemmatization\n",
    "import nltk\n",
    "from nltk.stem import SnowballStemmer\n",
    "import itertools\n",
    "\n",
    "from sklearn.feature_extraction.text import CountVectorizer"
   ]
  },
  {
   "cell_type": "markdown",
   "id": "76ef7b88",
   "metadata": {},
   "source": [
    "## Load datasets"
   ]
  },
  {
   "cell_type": "code",
   "execution_count": 199,
   "id": "a5c102f3",
   "metadata": {},
   "outputs": [],
   "source": [
    "ft_sygeplej2x = pd.read_csv('ft_sygeplej2x.csv')\n",
    "dr_sygeplej2x = pd.read_csv('dr_sygeplej2x.csv')\n",
    "tv2_sygeplej2x = pd.read_csv('tv2_sygeplej2x.csv')\n",
    "\n",
    "ft = ft_sygeplej2x.copy() \n",
    "dr = dr_sygeplej2x.copy() \n",
    "tv2 = tv2_sygeplej2x.copy()"
   ]
  },
  {
   "cell_type": "markdown",
   "id": "42a1982a",
   "metadata": {},
   "source": [
    "# Sample"
   ]
  },
  {
   "cell_type": "code",
   "execution_count": 180,
   "id": "c58c28d4",
   "metadata": {},
   "outputs": [],
   "source": [
    "sample = tv2[0:3].copy()"
   ]
  },
  {
   "cell_type": "code",
   "execution_count": 181,
   "id": "0d89dd33",
   "metadata": {},
   "outputs": [],
   "source": [
    "#sample = tv2"
   ]
  },
  {
   "cell_type": "markdown",
   "id": "01e82a71",
   "metadata": {},
   "source": [
    "# Function"
   ]
  },
  {
   "cell_type": "code",
   "execution_count": null,
   "id": "46a8e4d9",
   "metadata": {},
   "outputs": [],
   "source": []
  },
  {
   "cell_type": "markdown",
   "id": "06d1bd4b",
   "metadata": {},
   "source": [
    "### Cleaning\n",
    "- lower case (already done)\n",
    "- remove non-alphanumeric characters\n",
    "- remove numbers"
   ]
  },
  {
   "cell_type": "code",
   "execution_count": 182,
   "id": "9794ecda",
   "metadata": {},
   "outputs": [],
   "source": [
    "def cleaner(document):\n",
    "    document = document.lower() #To lower case\n",
    "    document = re.sub(r'[^\\w\\s]','', document) #Remove non-alphanumeric characters\n",
    "    document = re.sub(r'[^\\D+]','', document) #Remove numeric characters\n",
    "    return document"
   ]
  },
  {
   "cell_type": "code",
   "execution_count": 197,
   "id": "63ebe2a2",
   "metadata": {},
   "outputs": [],
   "source": [
    "# apply cleaner\n",
    "sample['content'] = sample['content'].apply(cleaner)"
   ]
  },
  {
   "cell_type": "markdown",
   "id": "8d1fee8c",
   "metadata": {},
   "source": [
    "### Pre-processing\n",
    "- Tokenize\n",
    "- Remove stopwords\n",
    "- Stemming"
   ]
  },
  {
   "cell_type": "code",
   "execution_count": 210,
   "id": "90caad9a",
   "metadata": {},
   "outputs": [
    {
     "name": "stderr",
     "output_type": "stream",
     "text": [
      "[nltk_data] Downloading package stopwords to\n",
      "[nltk_data]     /Users/dana_tiger/nltk_data...\n",
      "[nltk_data]   Package stopwords is already up-to-date!\n"
     ]
    }
   ],
   "source": [
    "import nltk\n",
    "nltk.download('stopwords')\n",
    "from nltk.corpus import stopwords\n",
    "stopwords = stopwords.words('danish')\n",
    "stemmer = SnowballStemmer(\"danish\")"
   ]
  },
  {
   "cell_type": "code",
   "execution_count": null,
   "id": "78193ba7",
   "metadata": {},
   "outputs": [],
   "source": []
  },
  {
   "cell_type": "code",
   "execution_count": 215,
   "id": "f57a7559",
   "metadata": {},
   "outputs": [],
   "source": [
    "def pre_processing(df): \n",
    "    tokens = [nltk.tokenize.word_tokenize(df['content'][i]) for i in range(0, len(df))]\n",
    "    tokens = list(itertools.chain(*tokens)) # list of lists to list\n",
    "    \n",
    "    nostop = [i for i in sample_tokens if i not in stopwords]\n",
    "\n",
    "    stemmed = [stemmer.stem(word) for word in nostop]"
   ]
  },
  {
   "cell_type": "code",
   "execution_count": 216,
   "id": "e6d6893f",
   "metadata": {},
   "outputs": [],
   "source": [
    "pre_processing(sample)"
   ]
  },
  {
   "cell_type": "code",
   "execution_count": 184,
   "id": "7a5865c9",
   "metadata": {},
   "outputs": [],
   "source": [
    "##### tokenize #####\n",
    "import nltk\n",
    "sample_tokens = [nltk.tokenize.word_tokenize(sample['content'][i]) for i in range(0, len(sample))]\n",
    "sample_tokens = list(itertools.chain(*sample_tokens)) # list of lists to list"
   ]
  },
  {
   "cell_type": "code",
   "execution_count": 185,
   "id": "af3f9d70",
   "metadata": {},
   "outputs": [
    {
     "name": "stderr",
     "output_type": "stream",
     "text": [
      "[nltk_data] Downloading package stopwords to\n",
      "[nltk_data]     /Users/dana_tiger/nltk_data...\n",
      "[nltk_data]   Package stopwords is already up-to-date!\n"
     ]
    }
   ],
   "source": [
    "##### stopwords #####\n",
    "import nltk\n",
    "nltk.download('stopwords')\n",
    "from nltk.corpus import stopwords\n",
    "stop = stopwords.words('danish')"
   ]
  },
  {
   "cell_type": "code",
   "execution_count": 186,
   "id": "2e55bc2e",
   "metadata": {},
   "outputs": [],
   "source": [
    "sample_nostop = [i for i in sample_tokens if i not in stop]"
   ]
  },
  {
   "cell_type": "code",
   "execution_count": 194,
   "id": "4a7fabee",
   "metadata": {},
   "outputs": [],
   "source": [
    "###### stemming ######\n",
    "stemmer = SnowballStemmer(\"danish\")\n",
    "sample_stemmed = [stemmer.stem(word) for word in sample_nostop]"
   ]
  },
  {
   "cell_type": "code",
   "execution_count": 195,
   "id": "56e8d363",
   "metadata": {
    "scrolled": false
   },
   "outputs": [
    {
     "name": "stdout",
     "output_type": "stream",
     "text": [
      "903\n",
      "508\n",
      "508\n"
     ]
    }
   ],
   "source": [
    "print(len(sample_tokens))\n",
    "print(len(sample_nostop))\n",
    "print(len(sample_stemmed))"
   ]
  },
  {
   "cell_type": "markdown",
   "id": "a562b2dd",
   "metadata": {},
   "source": [
    "# Bag of words"
   ]
  },
  {
   "cell_type": "code",
   "execution_count": 188,
   "id": "e6d27c29",
   "metadata": {},
   "outputs": [],
   "source": [
    "from sklearn.feature_extraction.text import CountVectorizer"
   ]
  },
  {
   "cell_type": "code",
   "execution_count": null,
   "id": "42c79f0d",
   "metadata": {},
   "outputs": [],
   "source": [
    "def BoW(df): \n",
    "    count = CountVectorizer()\n",
    "    df_array = df['content'].values[0:2] \n",
    "    bag = count.fit_transform(df_array)\n",
    "    \n",
    "    count_array = bag.toarray() #Make the bag to an array\n",
    "    matrix = pd.DataFrame(data=count_array,columns = count.get_feature_names()) #Input the bag and the words into a dataframe\n",
    "    \n",
    "    return matrix\n",
    "    "
   ]
  },
  {
   "cell_type": "code",
   "execution_count": 189,
   "id": "1471bf75",
   "metadata": {},
   "outputs": [],
   "source": [
    "count = CountVectorizer() #Store the class in 'count' to ease coding\n",
    "\n",
    "sample_array = sample['content'].values[0:2] #Take the first two rows and store them in an array\n",
    "bag = count.fit_transform(sample_array) #fit_transform takes an array as input and outputs the bag of words"
   ]
  },
  {
   "cell_type": "code",
   "execution_count": 190,
   "id": "552883eb",
   "metadata": {},
   "outputs": [
    {
     "data": {
      "text/html": [
       "<div>\n",
       "<style scoped>\n",
       "    .dataframe tbody tr th:only-of-type {\n",
       "        vertical-align: middle;\n",
       "    }\n",
       "\n",
       "    .dataframe tbody tr th {\n",
       "        vertical-align: top;\n",
       "    }\n",
       "\n",
       "    .dataframe thead th {\n",
       "        text-align: right;\n",
       "    }\n",
       "</style>\n",
       "<table border=\"1\" class=\"dataframe\">\n",
       "  <thead>\n",
       "    <tr style=\"text-align: right;\">\n",
       "      <th></th>\n",
       "      <th>af</th>\n",
       "      <th>afgørende</th>\n",
       "      <th>afholder</th>\n",
       "      <th>alle</th>\n",
       "      <th>alligevel</th>\n",
       "      <th>alt</th>\n",
       "      <th>altså</th>\n",
       "      <th>anderledes</th>\n",
       "      <th>andet</th>\n",
       "      <th>anni</th>\n",
       "      <th>...</th>\n",
       "      <th>virkelig</th>\n",
       "      <th>virksomheder</th>\n",
       "      <th>viser</th>\n",
       "      <th>vist</th>\n",
       "      <th>vores</th>\n",
       "      <th>waste</th>\n",
       "      <th>what</th>\n",
       "      <th>år</th>\n",
       "      <th>økonomiske</th>\n",
       "      <th>ønsker</th>\n",
       "    </tr>\n",
       "  </thead>\n",
       "  <tbody>\n",
       "    <tr>\n",
       "      <th>0</th>\n",
       "      <td>6</td>\n",
       "      <td>0</td>\n",
       "      <td>1</td>\n",
       "      <td>0</td>\n",
       "      <td>1</td>\n",
       "      <td>2</td>\n",
       "      <td>1</td>\n",
       "      <td>1</td>\n",
       "      <td>1</td>\n",
       "      <td>5</td>\n",
       "      <td>...</td>\n",
       "      <td>1</td>\n",
       "      <td>1</td>\n",
       "      <td>1</td>\n",
       "      <td>1</td>\n",
       "      <td>2</td>\n",
       "      <td>1</td>\n",
       "      <td>1</td>\n",
       "      <td>2</td>\n",
       "      <td>1</td>\n",
       "      <td>1</td>\n",
       "    </tr>\n",
       "    <tr>\n",
       "      <th>1</th>\n",
       "      <td>2</td>\n",
       "      <td>1</td>\n",
       "      <td>0</td>\n",
       "      <td>1</td>\n",
       "      <td>0</td>\n",
       "      <td>1</td>\n",
       "      <td>0</td>\n",
       "      <td>0</td>\n",
       "      <td>0</td>\n",
       "      <td>0</td>\n",
       "      <td>...</td>\n",
       "      <td>0</td>\n",
       "      <td>0</td>\n",
       "      <td>1</td>\n",
       "      <td>0</td>\n",
       "      <td>1</td>\n",
       "      <td>0</td>\n",
       "      <td>0</td>\n",
       "      <td>1</td>\n",
       "      <td>0</td>\n",
       "      <td>0</td>\n",
       "    </tr>\n",
       "  </tbody>\n",
       "</table>\n",
       "<p>2 rows × 263 columns</p>\n",
       "</div>"
      ],
      "text/plain": [
       "   af  afgørende  afholder  alle  alligevel  alt  altså  anderledes  andet  \\\n",
       "0   6          0         1     0          1    2      1           1      1   \n",
       "1   2          1         0     1          0    1      0           0      0   \n",
       "\n",
       "   anni  ...  virkelig  virksomheder  viser  vist  vores  waste  what  år  \\\n",
       "0     5  ...         1             1      1     1      2      1     1   2   \n",
       "1     0  ...         0             0      1     0      1      0     0   1   \n",
       "\n",
       "   økonomiske  ønsker  \n",
       "0           1       1  \n",
       "1           0       0  \n",
       "\n",
       "[2 rows x 263 columns]"
      ]
     },
     "execution_count": 190,
     "metadata": {},
     "output_type": "execute_result"
    }
   ],
   "source": [
    "count_array = bag.toarray() #Make the bag to an array\n",
    "matrix = pd.DataFrame(data=count_array,columns = count.get_feature_names()) #Input the bag and the words into a dataframe\n",
    "matrix"
   ]
  },
  {
   "cell_type": "markdown",
   "id": "457a13e2",
   "metadata": {},
   "source": [
    "# 2-gram"
   ]
  },
  {
   "cell_type": "code",
   "execution_count": 219,
   "id": "5d05b1a4",
   "metadata": {},
   "outputs": [],
   "source": [
    "def two_gram(df):\n",
    "    count = CountVectorizer(ngram_range=(2,2)) #Choose only 2-grams\n",
    "\n",
    "    df_array = df['content'].values[0:2]\n",
    "    bag = count.fit_transform(df_array)\n",
    "\n",
    "    count_array = bag.toarray() #Make the bag to an array\n",
    "    matrix = pd.DataFrame(data=count_array,columns = count.get_feature_names()) #Input the bag and the words into a dataframe\n",
    "    \n",
    "    return matrix"
   ]
  },
  {
   "cell_type": "code",
   "execution_count": 191,
   "id": "dba7fe95",
   "metadata": {
    "scrolled": true
   },
   "outputs": [
    {
     "data": {
      "text/html": [
       "<div>\n",
       "<style scoped>\n",
       "    .dataframe tbody tr th:only-of-type {\n",
       "        vertical-align: middle;\n",
       "    }\n",
       "\n",
       "    .dataframe tbody tr th {\n",
       "        vertical-align: top;\n",
       "    }\n",
       "\n",
       "    .dataframe thead th {\n",
       "        text-align: right;\n",
       "    }\n",
       "</style>\n",
       "<table border=\"1\" class=\"dataframe\">\n",
       "  <thead>\n",
       "    <tr style=\"text-align: right;\">\n",
       "      <th></th>\n",
       "      <th>100 jobs</th>\n",
       "      <th>11 arbejdsgivere</th>\n",
       "      <th>154 januar</th>\n",
       "      <th>2009 til</th>\n",
       "      <th>2010 til</th>\n",
       "      <th>2011 det</th>\n",
       "      <th>2011 således</th>\n",
       "      <th>300 sygeplejersker</th>\n",
       "      <th>434 januar</th>\n",
       "      <th>af danske</th>\n",
       "      <th>...</th>\n",
       "      <th>vores dygtige</th>\n",
       "      <th>vores nordiske</th>\n",
       "      <th>vores sygeplejersker</th>\n",
       "      <th>waste for</th>\n",
       "      <th>what waste</th>\n",
       "      <th>år er</th>\n",
       "      <th>år har</th>\n",
       "      <th>år krise</th>\n",
       "      <th>økonomiske politik</th>\n",
       "      <th>ønsker et</th>\n",
       "    </tr>\n",
       "  </thead>\n",
       "  <tbody>\n",
       "    <tr>\n",
       "      <th>0</th>\n",
       "      <td>1</td>\n",
       "      <td>1</td>\n",
       "      <td>0</td>\n",
       "      <td>1</td>\n",
       "      <td>0</td>\n",
       "      <td>0</td>\n",
       "      <td>1</td>\n",
       "      <td>1</td>\n",
       "      <td>0</td>\n",
       "      <td>0</td>\n",
       "      <td>...</td>\n",
       "      <td>1</td>\n",
       "      <td>1</td>\n",
       "      <td>0</td>\n",
       "      <td>1</td>\n",
       "      <td>1</td>\n",
       "      <td>1</td>\n",
       "      <td>1</td>\n",
       "      <td>0</td>\n",
       "      <td>1</td>\n",
       "      <td>1</td>\n",
       "    </tr>\n",
       "    <tr>\n",
       "      <th>1</th>\n",
       "      <td>0</td>\n",
       "      <td>0</td>\n",
       "      <td>1</td>\n",
       "      <td>0</td>\n",
       "      <td>1</td>\n",
       "      <td>1</td>\n",
       "      <td>0</td>\n",
       "      <td>0</td>\n",
       "      <td>1</td>\n",
       "      <td>2</td>\n",
       "      <td>...</td>\n",
       "      <td>0</td>\n",
       "      <td>0</td>\n",
       "      <td>1</td>\n",
       "      <td>0</td>\n",
       "      <td>0</td>\n",
       "      <td>0</td>\n",
       "      <td>0</td>\n",
       "      <td>1</td>\n",
       "      <td>0</td>\n",
       "      <td>0</td>\n",
       "    </tr>\n",
       "  </tbody>\n",
       "</table>\n",
       "<p>2 rows × 522 columns</p>\n",
       "</div>"
      ],
      "text/plain": [
       "   100 jobs  11 arbejdsgivere  154 januar  2009 til  2010 til  2011 det  \\\n",
       "0         1                 1           0         1         0         0   \n",
       "1         0                 0           1         0         1         1   \n",
       "\n",
       "   2011 således  300 sygeplejersker  434 januar  af danske  ...  \\\n",
       "0             1                   1           0          0  ...   \n",
       "1             0                   0           1          2  ...   \n",
       "\n",
       "   vores dygtige  vores nordiske  vores sygeplejersker  waste for  what waste  \\\n",
       "0              1               1                     0          1           1   \n",
       "1              0               0                     1          0           0   \n",
       "\n",
       "   år er  år har  år krise  økonomiske politik  ønsker et  \n",
       "0      1       1         0                   1          1  \n",
       "1      0       0         1                   0          0  \n",
       "\n",
       "[2 rows x 522 columns]"
      ]
     },
     "execution_count": 191,
     "metadata": {},
     "output_type": "execute_result"
    }
   ],
   "source": [
    "count = CountVectorizer(ngram_range=(2,2)) #Choose only 2-grams\n",
    "\n",
    "sample_array = df['content'].values[0:2]\n",
    "bag = count.fit_transform(sample_array)\n",
    "\n",
    "count_array = bag.toarray() #Make the bag to an array\n",
    "matrix = pd.DataFrame(data=count_array,columns = count.get_feature_names()) #Input the bag and the words into a dataframe\n",
    "matrix"
   ]
  },
  {
   "cell_type": "markdown",
   "id": "37eb2d5e",
   "metadata": {},
   "source": [
    "# tf-idf"
   ]
  },
  {
   "cell_type": "code",
   "execution_count": null,
   "id": "32c0be9d",
   "metadata": {},
   "outputs": [],
   "source": [
    "from sklearn.feature_extraction.text import TfidfTransformer\n",
    "\n",
    "def tfidf(df):\n",
    "    tfidf = TfidfTransformer()\n",
    "    bag_tfidf = tfidf.fit_transform(bag) \n",
    "\n",
    "    tfidf_array = bag_tfidf.toarray() #Make the bag to an array\n",
    "    matrix_tfidf = pd.DataFrame(data=tfidf_array,columns = count.get_feature_names()) #Input the bag and the words into a dataframe\n",
    "    matrix_tfidf\n",
    "\n"
   ]
  },
  {
   "cell_type": "code",
   "execution_count": 192,
   "id": "6e773df5",
   "metadata": {},
   "outputs": [],
   "source": [
    "from sklearn.feature_extraction.text import TfidfTransformer\n",
    "tfidf = TfidfTransformer() #Ease coding\n",
    "bag_tfidf = tfidf.fit_transform(bag) #Compute the tf-idf score from the bag of words from before ('bag')"
   ]
  },
  {
   "cell_type": "code",
   "execution_count": 193,
   "id": "5780e91b",
   "metadata": {
    "scrolled": true
   },
   "outputs": [
    {
     "data": {
      "text/html": [
       "<div>\n",
       "<style scoped>\n",
       "    .dataframe tbody tr th:only-of-type {\n",
       "        vertical-align: middle;\n",
       "    }\n",
       "\n",
       "    .dataframe tbody tr th {\n",
       "        vertical-align: top;\n",
       "    }\n",
       "\n",
       "    .dataframe thead th {\n",
       "        text-align: right;\n",
       "    }\n",
       "</style>\n",
       "<table border=\"1\" class=\"dataframe\">\n",
       "  <thead>\n",
       "    <tr style=\"text-align: right;\">\n",
       "      <th></th>\n",
       "      <th>100 jobs</th>\n",
       "      <th>11 arbejdsgivere</th>\n",
       "      <th>154 januar</th>\n",
       "      <th>2009 til</th>\n",
       "      <th>2010 til</th>\n",
       "      <th>2011 det</th>\n",
       "      <th>2011 således</th>\n",
       "      <th>300 sygeplejersker</th>\n",
       "      <th>434 januar</th>\n",
       "      <th>af danske</th>\n",
       "      <th>...</th>\n",
       "      <th>vores dygtige</th>\n",
       "      <th>vores nordiske</th>\n",
       "      <th>vores sygeplejersker</th>\n",
       "      <th>waste for</th>\n",
       "      <th>what waste</th>\n",
       "      <th>år er</th>\n",
       "      <th>år har</th>\n",
       "      <th>år krise</th>\n",
       "      <th>økonomiske politik</th>\n",
       "      <th>ønsker et</th>\n",
       "    </tr>\n",
       "  </thead>\n",
       "  <tbody>\n",
       "    <tr>\n",
       "      <th>0</th>\n",
       "      <td>0.041818</td>\n",
       "      <td>0.041818</td>\n",
       "      <td>0.000000</td>\n",
       "      <td>0.041818</td>\n",
       "      <td>0.000000</td>\n",
       "      <td>0.000000</td>\n",
       "      <td>0.041818</td>\n",
       "      <td>0.041818</td>\n",
       "      <td>0.000000</td>\n",
       "      <td>0.000000</td>\n",
       "      <td>...</td>\n",
       "      <td>0.041818</td>\n",
       "      <td>0.041818</td>\n",
       "      <td>0.000000</td>\n",
       "      <td>0.041818</td>\n",
       "      <td>0.041818</td>\n",
       "      <td>0.041818</td>\n",
       "      <td>0.041818</td>\n",
       "      <td>0.000000</td>\n",
       "      <td>0.041818</td>\n",
       "      <td>0.041818</td>\n",
       "    </tr>\n",
       "    <tr>\n",
       "      <th>1</th>\n",
       "      <td>0.000000</td>\n",
       "      <td>0.000000</td>\n",
       "      <td>0.082953</td>\n",
       "      <td>0.000000</td>\n",
       "      <td>0.082953</td>\n",
       "      <td>0.082953</td>\n",
       "      <td>0.000000</td>\n",
       "      <td>0.000000</td>\n",
       "      <td>0.082953</td>\n",
       "      <td>0.165905</td>\n",
       "      <td>...</td>\n",
       "      <td>0.000000</td>\n",
       "      <td>0.000000</td>\n",
       "      <td>0.082953</td>\n",
       "      <td>0.000000</td>\n",
       "      <td>0.000000</td>\n",
       "      <td>0.000000</td>\n",
       "      <td>0.000000</td>\n",
       "      <td>0.082953</td>\n",
       "      <td>0.000000</td>\n",
       "      <td>0.000000</td>\n",
       "    </tr>\n",
       "  </tbody>\n",
       "</table>\n",
       "<p>2 rows × 522 columns</p>\n",
       "</div>"
      ],
      "text/plain": [
       "   100 jobs  11 arbejdsgivere  154 januar  2009 til  2010 til  2011 det  \\\n",
       "0  0.041818          0.041818    0.000000  0.041818  0.000000  0.000000   \n",
       "1  0.000000          0.000000    0.082953  0.000000  0.082953  0.082953   \n",
       "\n",
       "   2011 således  300 sygeplejersker  434 januar  af danske  ...  \\\n",
       "0      0.041818            0.041818    0.000000   0.000000  ...   \n",
       "1      0.000000            0.000000    0.082953   0.165905  ...   \n",
       "\n",
       "   vores dygtige  vores nordiske  vores sygeplejersker  waste for  what waste  \\\n",
       "0       0.041818        0.041818              0.000000   0.041818    0.041818   \n",
       "1       0.000000        0.000000              0.082953   0.000000    0.000000   \n",
       "\n",
       "      år er    år har  år krise  økonomiske politik  ønsker et  \n",
       "0  0.041818  0.041818  0.000000            0.041818   0.041818  \n",
       "1  0.000000  0.000000  0.082953            0.000000   0.000000  \n",
       "\n",
       "[2 rows x 522 columns]"
      ]
     },
     "execution_count": 193,
     "metadata": {},
     "output_type": "execute_result"
    }
   ],
   "source": [
    "tfidf_array = bag_tfidf.toarray() #Make the bag to an array\n",
    "matrix_tfidf = pd.DataFrame(data=tfidf_array,columns = count.get_feature_names()) #Input the bag and the words into a dataframe\n",
    "matrix_tfidf"
   ]
  },
  {
   "cell_type": "code",
   "execution_count": null,
   "id": "0ac06273",
   "metadata": {},
   "outputs": [],
   "source": []
  },
  {
   "cell_type": "code",
   "execution_count": null,
   "id": "0f5fc431",
   "metadata": {},
   "outputs": [],
   "source": []
  },
  {
   "cell_type": "code",
   "execution_count": null,
   "id": "4ae90935",
   "metadata": {},
   "outputs": [],
   "source": []
  },
  {
   "cell_type": "code",
   "execution_count": null,
   "id": "8f8281cd",
   "metadata": {},
   "outputs": [],
   "source": []
  }
 ],
 "metadata": {
  "kernelspec": {
   "display_name": "Python 3",
   "language": "python",
   "name": "python3"
  },
  "language_info": {
   "codemirror_mode": {
    "name": "ipython",
    "version": 3
   },
   "file_extension": ".py",
   "mimetype": "text/x-python",
   "name": "python",
   "nbconvert_exporter": "python",
   "pygments_lexer": "ipython3",
   "version": "3.8.8"
  }
 },
 "nbformat": 4,
 "nbformat_minor": 5
}
