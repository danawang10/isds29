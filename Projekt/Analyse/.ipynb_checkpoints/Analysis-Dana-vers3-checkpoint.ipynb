{
 "cells": [
  {
   "cell_type": "markdown",
   "id": "a030fc7e",
   "metadata": {},
   "source": [
    "# Analysis"
   ]
  },
  {
   "cell_type": "code",
   "execution_count": 58,
   "id": "477fad95",
   "metadata": {},
   "outputs": [
    {
     "name": "stderr",
     "output_type": "stream",
     "text": [
      "[nltk_data] Downloading package vader_lexicon to\n",
      "[nltk_data]     /Users/dana_tiger/nltk_data...\n",
      "[nltk_data]   Package vader_lexicon is already up-to-date!\n"
     ]
    }
   ],
   "source": [
    "# basics\n",
    "import numpy as np\n",
    "import pandas as pd\n",
    "import matplotlib.pyplot as plt\n",
    "import seaborn as sns\n",
    "\n",
    "# small tools\n",
    "import datetime as dt\n",
    "import time\n",
    "import tqdm\n",
    "import lemmy\n",
    "import itertools\n",
    "\n",
    "# regex, nltk\n",
    "import re\n",
    "import nltk\n",
    "from nltk.stem import SnowballStemmer\n",
    "from nltk.corpus import stopwords\n",
    "from nltk.sentiment.vader import SentimentIntensityAnalyzer # VADER \n",
    "nltk.download('vader_lexicon')\n",
    "from sentida import Sentida # sentida\n",
    "\n",
    "# sklearn\n",
    "from sklearn.feature_extraction.text import TfidfTransformer\n",
    "from sklearn.feature_extraction.text import CountVectorizer\n",
    "\n",
    "from afinn import Afinn"
   ]
  },
  {
   "cell_type": "code",
   "execution_count": 59,
   "id": "9f123960",
   "metadata": {
    "scrolled": false
   },
   "outputs": [
    {
     "name": "stderr",
     "output_type": "stream",
     "text": [
      "[nltk_data] Downloading package stopwords to\n",
      "[nltk_data]     /Users/dana_tiger/nltk_data...\n",
      "[nltk_data]   Package stopwords is already up-to-date!\n"
     ]
    }
   ],
   "source": [
    "nltk.download('stopwords')\n",
    "stopwords = stopwords.words('danish')\n",
    "stemmer = SnowballStemmer(\"danish\")"
   ]
  },
  {
   "cell_type": "code",
   "execution_count": 61,
   "id": "e838515f",
   "metadata": {
    "scrolled": true
   },
   "outputs": [
    {
     "name": "stderr",
     "output_type": "stream",
     "text": [
      "[nltk_data] Downloading package stopwords to\n",
      "[nltk_data]     /Users/dana_tiger/nltk_data...\n",
      "[nltk_data]   Package stopwords is already up-to-date!\n"
     ]
    },
    {
     "ename": "AttributeError",
     "evalue": "'list' object has no attribute 'words'",
     "output_type": "error",
     "traceback": [
      "\u001b[0;31m---------------------------------------------------------------------------\u001b[0m",
      "\u001b[0;31mAttributeError\u001b[0m                            Traceback (most recent call last)",
      "\u001b[0;32m<ipython-input-61-0ea8b7611dda>\u001b[0m in \u001b[0;36m<module>\u001b[0;34m\u001b[0m\n\u001b[1;32m      1\u001b[0m \u001b[0mnltk\u001b[0m\u001b[0;34m.\u001b[0m\u001b[0mdownload\u001b[0m\u001b[0;34m(\u001b[0m\u001b[0;34m'stopwords'\u001b[0m\u001b[0;34m)\u001b[0m\u001b[0;34m\u001b[0m\u001b[0;34m\u001b[0m\u001b[0m\n\u001b[0;32m----> 2\u001b[0;31m \u001b[0mstopwords\u001b[0m \u001b[0;34m=\u001b[0m \u001b[0mstopwords\u001b[0m\u001b[0;34m.\u001b[0m\u001b[0mwords\u001b[0m\u001b[0;34m(\u001b[0m\u001b[0;34m'danish'\u001b[0m\u001b[0;34m)\u001b[0m\u001b[0;34m\u001b[0m\u001b[0;34m\u001b[0m\u001b[0m\n\u001b[0m",
      "\u001b[0;31mAttributeError\u001b[0m: 'list' object has no attribute 'words'"
     ]
    }
   ],
   "source": [
    "nltk.download('stopwords')\n",
    "stopwords = stopwords.words('danish')"
   ]
  },
  {
   "cell_type": "markdown",
   "id": "76ef7b88",
   "metadata": {},
   "source": [
    "## Load datasets"
   ]
  },
  {
   "cell_type": "code",
   "execution_count": 3,
   "id": "a5c102f3",
   "metadata": {},
   "outputs": [],
   "source": [
    "ft_sygeplej2x = pd.read_csv('ft_sygeplej2x.csv')\n",
    "dr_sygeplej2x = pd.read_csv('dr_sygeplej2x.csv')\n",
    "tv2_sygeplej2x = pd.read_csv('tv2_sygeplej2x.csv')\n",
    "\n",
    "ft = ft_sygeplej2x.copy() \n",
    "dr = dr_sygeplej2x.copy() \n",
    "tv2 = tv2_sygeplej2x.copy()"
   ]
  },
  {
   "cell_type": "markdown",
   "id": "6c1bd243",
   "metadata": {},
   "source": [
    "### Cleaning\n",
    "- lower case (already done)\n",
    "- remove non-alphanumeric characters\n",
    "- remove numbers"
   ]
  },
  {
   "cell_type": "code",
   "execution_count": 4,
   "id": "83db8a50",
   "metadata": {},
   "outputs": [],
   "source": [
    "def cleaner(document):\n",
    "    document = document.lower() #To lower case\n",
    "    document = re.sub(r'[^\\w\\s]','', document) #Remove non-alphanumeric characters\n",
    "    document = re.sub(r'[^\\D+]','', document) #Remove numeric characters\n",
    "    return document"
   ]
  },
  {
   "cell_type": "markdown",
   "id": "b3d2a9fe",
   "metadata": {},
   "source": [
    "### Pre-processing\n",
    "- Tokenize\n",
    "- Remove stopwords\n",
    "- Stemming"
   ]
  },
  {
   "cell_type": "code",
   "execution_count": 52,
   "id": "f938e9cd",
   "metadata": {},
   "outputs": [],
   "source": [
    "def pre_process(df): \n",
    "    tokens = [nltk.tokenize.word_tokenize(df['content'][i]) for i in range(0, len(df))]\n",
    "    tokens = list(itertools.chain(*tokens)) # list of lists to list\n",
    "    \n",
    "    nostop = [i for i in tokens if i not in stopwords]\n",
    "\n",
    "    stemmed = [stemmer.stem(word) for word in nostop]\n",
    "    \n",
    "    return stemmed"
   ]
  },
  {
   "cell_type": "markdown",
   "id": "498ce1b5",
   "metadata": {},
   "source": [
    "# 1-gram: Bag of words"
   ]
  },
  {
   "cell_type": "code",
   "execution_count": 6,
   "id": "f37f86f8",
   "metadata": {},
   "outputs": [],
   "source": [
    "def BoW(df): \n",
    "    count = CountVectorizer()\n",
    "    df_array = df['content']\n",
    "    bag = count.fit_transform(df_array)\n",
    "    \n",
    "    count_array = bag.toarray() #Make the bag to an array\n",
    "    matrix = pd.DataFrame(data=count_array,columns = count.get_feature_names())\n",
    "    \n",
    "    return matrix"
   ]
  },
  {
   "cell_type": "markdown",
   "id": "5190fe9c",
   "metadata": {},
   "source": [
    "# 2-gram"
   ]
  },
  {
   "cell_type": "code",
   "execution_count": 7,
   "id": "df2e8816",
   "metadata": {},
   "outputs": [],
   "source": [
    "def two_gram(df):\n",
    "    count = CountVectorizer(ngram_range=(2,2)) #Choose only 2-grams\n",
    "\n",
    "    df_array = df['content']\n",
    "    bag = count.fit_transform(df_array)\n",
    "\n",
    "    count_array = bag.toarray() #Make the bag to an array\n",
    "    matrix = pd.DataFrame(data=count_array,columns = count.get_feature_names()) #Input the bag and the words into a dataframe\n",
    "    \n",
    "    return matrix"
   ]
  },
  {
   "cell_type": "markdown",
   "id": "e92ad98a",
   "metadata": {},
   "source": [
    "# tf-idf"
   ]
  },
  {
   "cell_type": "code",
   "execution_count": 8,
   "id": "c885241e",
   "metadata": {},
   "outputs": [],
   "source": [
    "def tfidf(df):\n",
    "    ############################## bag #################################\n",
    "    count = CountVectorizer(ngram_range=(2,2)) #Choose only 2-grams\n",
    "    \n",
    "    df_array = df['content']\n",
    "    bag = count.fit_transform(df_array)\n",
    "    ############################## bag #################################\n",
    "    \n",
    "    tfidf = TfidfTransformer()\n",
    "    bag_tfidf = tfidf.fit_transform(bag) \n",
    "\n",
    "    tfidf_array = bag_tfidf.toarray() #Make the bag to an array\n",
    "    matrix_tfidf = pd.DataFrame(data=tfidf_array,columns = count.get_feature_names())\n",
    "    return matrix_tfidf"
   ]
  },
  {
   "cell_type": "markdown",
   "id": "ca95f2cb",
   "metadata": {},
   "source": [
    "# Apply functions"
   ]
  },
  {
   "cell_type": "code",
   "execution_count": 9,
   "id": "cca3561b",
   "metadata": {},
   "outputs": [],
   "source": [
    "sample = tv2[0:3].copy()"
   ]
  },
  {
   "cell_type": "code",
   "execution_count": 10,
   "id": "b6d96b66",
   "metadata": {},
   "outputs": [],
   "source": [
    "df = sample # insert wanted df "
   ]
  },
  {
   "cell_type": "code",
   "execution_count": 11,
   "id": "13c0c288",
   "metadata": {},
   "outputs": [],
   "source": [
    "df['content_cleaned'] = df['content'].apply(cleaner)"
   ]
  },
  {
   "cell_type": "code",
   "execution_count": 12,
   "id": "b2ac9c6c",
   "metadata": {},
   "outputs": [
    {
     "data": {
      "text/html": [
       "<div>\n",
       "<style scoped>\n",
       "    .dataframe tbody tr th:only-of-type {\n",
       "        vertical-align: middle;\n",
       "    }\n",
       "\n",
       "    .dataframe tbody tr th {\n",
       "        vertical-align: top;\n",
       "    }\n",
       "\n",
       "    .dataframe thead th {\n",
       "        text-align: right;\n",
       "    }\n",
       "</style>\n",
       "<table border=\"1\" class=\"dataframe\">\n",
       "  <thead>\n",
       "    <tr style=\"text-align: right;\">\n",
       "      <th></th>\n",
       "      <th>100</th>\n",
       "      <th>11</th>\n",
       "      <th>154</th>\n",
       "      <th>2009</th>\n",
       "      <th>2010</th>\n",
       "      <th>2011</th>\n",
       "      <th>30</th>\n",
       "      <th>300</th>\n",
       "      <th>40</th>\n",
       "      <th>434</th>\n",
       "      <th>...</th>\n",
       "      <th>vist</th>\n",
       "      <th>vores</th>\n",
       "      <th>være</th>\n",
       "      <th>waste</th>\n",
       "      <th>what</th>\n",
       "      <th>åbnede</th>\n",
       "      <th>år</th>\n",
       "      <th>øjenvidne</th>\n",
       "      <th>økonomiske</th>\n",
       "      <th>ønsker</th>\n",
       "    </tr>\n",
       "  </thead>\n",
       "  <tbody>\n",
       "    <tr>\n",
       "      <th>0</th>\n",
       "      <td>1</td>\n",
       "      <td>1</td>\n",
       "      <td>0</td>\n",
       "      <td>1</td>\n",
       "      <td>1</td>\n",
       "      <td>1</td>\n",
       "      <td>0</td>\n",
       "      <td>1</td>\n",
       "      <td>0</td>\n",
       "      <td>0</td>\n",
       "      <td>...</td>\n",
       "      <td>1</td>\n",
       "      <td>2</td>\n",
       "      <td>0</td>\n",
       "      <td>1</td>\n",
       "      <td>1</td>\n",
       "      <td>0</td>\n",
       "      <td>2</td>\n",
       "      <td>0</td>\n",
       "      <td>1</td>\n",
       "      <td>1</td>\n",
       "    </tr>\n",
       "    <tr>\n",
       "      <th>1</th>\n",
       "      <td>0</td>\n",
       "      <td>0</td>\n",
       "      <td>1</td>\n",
       "      <td>0</td>\n",
       "      <td>1</td>\n",
       "      <td>1</td>\n",
       "      <td>0</td>\n",
       "      <td>0</td>\n",
       "      <td>0</td>\n",
       "      <td>1</td>\n",
       "      <td>...</td>\n",
       "      <td>0</td>\n",
       "      <td>1</td>\n",
       "      <td>0</td>\n",
       "      <td>0</td>\n",
       "      <td>0</td>\n",
       "      <td>0</td>\n",
       "      <td>1</td>\n",
       "      <td>0</td>\n",
       "      <td>0</td>\n",
       "      <td>0</td>\n",
       "    </tr>\n",
       "    <tr>\n",
       "      <th>2</th>\n",
       "      <td>0</td>\n",
       "      <td>1</td>\n",
       "      <td>0</td>\n",
       "      <td>0</td>\n",
       "      <td>0</td>\n",
       "      <td>0</td>\n",
       "      <td>1</td>\n",
       "      <td>0</td>\n",
       "      <td>1</td>\n",
       "      <td>0</td>\n",
       "      <td>...</td>\n",
       "      <td>0</td>\n",
       "      <td>0</td>\n",
       "      <td>1</td>\n",
       "      <td>0</td>\n",
       "      <td>0</td>\n",
       "      <td>1</td>\n",
       "      <td>1</td>\n",
       "      <td>2</td>\n",
       "      <td>0</td>\n",
       "      <td>0</td>\n",
       "    </tr>\n",
       "  </tbody>\n",
       "</table>\n",
       "<p>3 rows × 400 columns</p>\n",
       "</div>"
      ],
      "text/plain": [
       "   100  11  154  2009  2010  2011  30  300  40  434  ...  vist  vores  være  \\\n",
       "0    1   1    0     1     1     1   0    1   0    0  ...     1      2     0   \n",
       "1    0   0    1     0     1     1   0    0   0    1  ...     0      1     0   \n",
       "2    0   1    0     0     0     0   1    0   1    0  ...     0      0     1   \n",
       "\n",
       "   waste  what  åbnede  år  øjenvidne  økonomiske  ønsker  \n",
       "0      1     1       0   2          0           1       1  \n",
       "1      0     0       0   1          0           0       0  \n",
       "2      0     0       1   1          2           0       0  \n",
       "\n",
       "[3 rows x 400 columns]"
      ]
     },
     "execution_count": 12,
     "metadata": {},
     "output_type": "execute_result"
    }
   ],
   "source": [
    "BoW(df)"
   ]
  },
  {
   "cell_type": "code",
   "execution_count": 13,
   "id": "01b096af",
   "metadata": {},
   "outputs": [
    {
     "data": {
      "text/html": [
       "<div>\n",
       "<style scoped>\n",
       "    .dataframe tbody tr th:only-of-type {\n",
       "        vertical-align: middle;\n",
       "    }\n",
       "\n",
       "    .dataframe tbody tr th {\n",
       "        vertical-align: top;\n",
       "    }\n",
       "\n",
       "    .dataframe thead th {\n",
       "        text-align: right;\n",
       "    }\n",
       "</style>\n",
       "<table border=\"1\" class=\"dataframe\">\n",
       "  <thead>\n",
       "    <tr style=\"text-align: right;\">\n",
       "      <th></th>\n",
       "      <th>100 jobs</th>\n",
       "      <th>11 arbejdsgivere</th>\n",
       "      <th>11 tiden</th>\n",
       "      <th>154 januar</th>\n",
       "      <th>2009 til</th>\n",
       "      <th>2010 til</th>\n",
       "      <th>2011 det</th>\n",
       "      <th>2011 således</th>\n",
       "      <th>30 skud</th>\n",
       "      <th>300 sygeplejersker</th>\n",
       "      <th>...</th>\n",
       "      <th>what waste</th>\n",
       "      <th>åbnede ild</th>\n",
       "      <th>år er</th>\n",
       "      <th>år han</th>\n",
       "      <th>år har</th>\n",
       "      <th>år krise</th>\n",
       "      <th>øjenvidne fortæller</th>\n",
       "      <th>øjenvidne til</th>\n",
       "      <th>økonomiske politik</th>\n",
       "      <th>ønsker et</th>\n",
       "    </tr>\n",
       "  </thead>\n",
       "  <tbody>\n",
       "    <tr>\n",
       "      <th>0</th>\n",
       "      <td>1</td>\n",
       "      <td>1</td>\n",
       "      <td>0</td>\n",
       "      <td>0</td>\n",
       "      <td>1</td>\n",
       "      <td>0</td>\n",
       "      <td>0</td>\n",
       "      <td>1</td>\n",
       "      <td>0</td>\n",
       "      <td>1</td>\n",
       "      <td>...</td>\n",
       "      <td>1</td>\n",
       "      <td>0</td>\n",
       "      <td>1</td>\n",
       "      <td>0</td>\n",
       "      <td>1</td>\n",
       "      <td>0</td>\n",
       "      <td>0</td>\n",
       "      <td>0</td>\n",
       "      <td>1</td>\n",
       "      <td>1</td>\n",
       "    </tr>\n",
       "    <tr>\n",
       "      <th>1</th>\n",
       "      <td>0</td>\n",
       "      <td>0</td>\n",
       "      <td>0</td>\n",
       "      <td>1</td>\n",
       "      <td>0</td>\n",
       "      <td>1</td>\n",
       "      <td>1</td>\n",
       "      <td>0</td>\n",
       "      <td>0</td>\n",
       "      <td>0</td>\n",
       "      <td>...</td>\n",
       "      <td>0</td>\n",
       "      <td>0</td>\n",
       "      <td>0</td>\n",
       "      <td>0</td>\n",
       "      <td>0</td>\n",
       "      <td>1</td>\n",
       "      <td>0</td>\n",
       "      <td>0</td>\n",
       "      <td>0</td>\n",
       "      <td>0</td>\n",
       "    </tr>\n",
       "    <tr>\n",
       "      <th>2</th>\n",
       "      <td>0</td>\n",
       "      <td>0</td>\n",
       "      <td>1</td>\n",
       "      <td>0</td>\n",
       "      <td>0</td>\n",
       "      <td>0</td>\n",
       "      <td>0</td>\n",
       "      <td>0</td>\n",
       "      <td>1</td>\n",
       "      <td>0</td>\n",
       "      <td>...</td>\n",
       "      <td>0</td>\n",
       "      <td>1</td>\n",
       "      <td>0</td>\n",
       "      <td>1</td>\n",
       "      <td>0</td>\n",
       "      <td>0</td>\n",
       "      <td>1</td>\n",
       "      <td>1</td>\n",
       "      <td>0</td>\n",
       "      <td>0</td>\n",
       "    </tr>\n",
       "  </tbody>\n",
       "</table>\n",
       "<p>3 rows × 774 columns</p>\n",
       "</div>"
      ],
      "text/plain": [
       "   100 jobs  11 arbejdsgivere  11 tiden  154 januar  2009 til  2010 til  \\\n",
       "0         1                 1         0           0         1         0   \n",
       "1         0                 0         0           1         0         1   \n",
       "2         0                 0         1           0         0         0   \n",
       "\n",
       "   2011 det  2011 således  30 skud  300 sygeplejersker  ...  what waste  \\\n",
       "0         0             1        0                   1  ...           1   \n",
       "1         1             0        0                   0  ...           0   \n",
       "2         0             0        1                   0  ...           0   \n",
       "\n",
       "   åbnede ild  år er  år han  år har  år krise  øjenvidne fortæller  \\\n",
       "0           0      1       0       1         0                    0   \n",
       "1           0      0       0       0         1                    0   \n",
       "2           1      0       1       0         0                    1   \n",
       "\n",
       "   øjenvidne til  økonomiske politik  ønsker et  \n",
       "0              0                   1          1  \n",
       "1              0                   0          0  \n",
       "2              1                   0          0  \n",
       "\n",
       "[3 rows x 774 columns]"
      ]
     },
     "execution_count": 13,
     "metadata": {},
     "output_type": "execute_result"
    }
   ],
   "source": [
    "two_gram(df)"
   ]
  },
  {
   "cell_type": "code",
   "execution_count": 14,
   "id": "192217d4",
   "metadata": {},
   "outputs": [
    {
     "data": {
      "text/html": [
       "<div>\n",
       "<style scoped>\n",
       "    .dataframe tbody tr th:only-of-type {\n",
       "        vertical-align: middle;\n",
       "    }\n",
       "\n",
       "    .dataframe tbody tr th {\n",
       "        vertical-align: top;\n",
       "    }\n",
       "\n",
       "    .dataframe thead th {\n",
       "        text-align: right;\n",
       "    }\n",
       "</style>\n",
       "<table border=\"1\" class=\"dataframe\">\n",
       "  <thead>\n",
       "    <tr style=\"text-align: right;\">\n",
       "      <th></th>\n",
       "      <th>100 jobs</th>\n",
       "      <th>11 arbejdsgivere</th>\n",
       "      <th>11 tiden</th>\n",
       "      <th>154 januar</th>\n",
       "      <th>2009 til</th>\n",
       "      <th>2010 til</th>\n",
       "      <th>2011 det</th>\n",
       "      <th>2011 således</th>\n",
       "      <th>30 skud</th>\n",
       "      <th>300 sygeplejersker</th>\n",
       "      <th>...</th>\n",
       "      <th>what waste</th>\n",
       "      <th>åbnede ild</th>\n",
       "      <th>år er</th>\n",
       "      <th>år han</th>\n",
       "      <th>år har</th>\n",
       "      <th>år krise</th>\n",
       "      <th>øjenvidne fortæller</th>\n",
       "      <th>øjenvidne til</th>\n",
       "      <th>økonomiske politik</th>\n",
       "      <th>ønsker et</th>\n",
       "    </tr>\n",
       "  </thead>\n",
       "  <tbody>\n",
       "    <tr>\n",
       "      <th>0</th>\n",
       "      <td>0.041786</td>\n",
       "      <td>0.041786</td>\n",
       "      <td>0.000000</td>\n",
       "      <td>0.000000</td>\n",
       "      <td>0.041786</td>\n",
       "      <td>0.000000</td>\n",
       "      <td>0.000000</td>\n",
       "      <td>0.041786</td>\n",
       "      <td>0.000000</td>\n",
       "      <td>0.041786</td>\n",
       "      <td>...</td>\n",
       "      <td>0.041786</td>\n",
       "      <td>0.000000</td>\n",
       "      <td>0.041786</td>\n",
       "      <td>0.000000</td>\n",
       "      <td>0.041786</td>\n",
       "      <td>0.000000</td>\n",
       "      <td>0.000000</td>\n",
       "      <td>0.000000</td>\n",
       "      <td>0.041786</td>\n",
       "      <td>0.041786</td>\n",
       "    </tr>\n",
       "    <tr>\n",
       "      <th>1</th>\n",
       "      <td>0.000000</td>\n",
       "      <td>0.000000</td>\n",
       "      <td>0.000000</td>\n",
       "      <td>0.082018</td>\n",
       "      <td>0.000000</td>\n",
       "      <td>0.082018</td>\n",
       "      <td>0.082018</td>\n",
       "      <td>0.000000</td>\n",
       "      <td>0.000000</td>\n",
       "      <td>0.000000</td>\n",
       "      <td>...</td>\n",
       "      <td>0.000000</td>\n",
       "      <td>0.000000</td>\n",
       "      <td>0.000000</td>\n",
       "      <td>0.000000</td>\n",
       "      <td>0.000000</td>\n",
       "      <td>0.082018</td>\n",
       "      <td>0.000000</td>\n",
       "      <td>0.000000</td>\n",
       "      <td>0.000000</td>\n",
       "      <td>0.000000</td>\n",
       "    </tr>\n",
       "    <tr>\n",
       "      <th>2</th>\n",
       "      <td>0.000000</td>\n",
       "      <td>0.000000</td>\n",
       "      <td>0.058458</td>\n",
       "      <td>0.000000</td>\n",
       "      <td>0.000000</td>\n",
       "      <td>0.000000</td>\n",
       "      <td>0.000000</td>\n",
       "      <td>0.000000</td>\n",
       "      <td>0.058458</td>\n",
       "      <td>0.000000</td>\n",
       "      <td>...</td>\n",
       "      <td>0.000000</td>\n",
       "      <td>0.058458</td>\n",
       "      <td>0.000000</td>\n",
       "      <td>0.058458</td>\n",
       "      <td>0.000000</td>\n",
       "      <td>0.000000</td>\n",
       "      <td>0.058458</td>\n",
       "      <td>0.058458</td>\n",
       "      <td>0.000000</td>\n",
       "      <td>0.000000</td>\n",
       "    </tr>\n",
       "  </tbody>\n",
       "</table>\n",
       "<p>3 rows × 774 columns</p>\n",
       "</div>"
      ],
      "text/plain": [
       "   100 jobs  11 arbejdsgivere  11 tiden  154 januar  2009 til  2010 til  \\\n",
       "0  0.041786          0.041786  0.000000    0.000000  0.041786  0.000000   \n",
       "1  0.000000          0.000000  0.000000    0.082018  0.000000  0.082018   \n",
       "2  0.000000          0.000000  0.058458    0.000000  0.000000  0.000000   \n",
       "\n",
       "   2011 det  2011 således   30 skud  300 sygeplejersker  ...  what waste  \\\n",
       "0  0.000000      0.041786  0.000000            0.041786  ...    0.041786   \n",
       "1  0.082018      0.000000  0.000000            0.000000  ...    0.000000   \n",
       "2  0.000000      0.000000  0.058458            0.000000  ...    0.000000   \n",
       "\n",
       "   åbnede ild     år er    år han    år har  år krise  øjenvidne fortæller  \\\n",
       "0    0.000000  0.041786  0.000000  0.041786  0.000000             0.000000   \n",
       "1    0.000000  0.000000  0.000000  0.000000  0.082018             0.000000   \n",
       "2    0.058458  0.000000  0.058458  0.000000  0.000000             0.058458   \n",
       "\n",
       "   øjenvidne til  økonomiske politik  ønsker et  \n",
       "0       0.000000            0.041786   0.041786  \n",
       "1       0.000000            0.000000   0.000000  \n",
       "2       0.058458            0.000000   0.000000  \n",
       "\n",
       "[3 rows x 774 columns]"
      ]
     },
     "execution_count": 14,
     "metadata": {},
     "output_type": "execute_result"
    }
   ],
   "source": [
    "tfidf(df)"
   ]
  },
  {
   "cell_type": "markdown",
   "id": "cbbd64a6",
   "metadata": {},
   "source": [
    "# Sentiment analysis\n"
   ]
  },
  {
   "cell_type": "markdown",
   "id": "cf9aa17d",
   "metadata": {},
   "source": [
    "### AFINN"
   ]
  },
  {
   "cell_type": "markdown",
   "id": "928be34c",
   "metadata": {},
   "source": [
    "Create sentiment predictions."
   ]
  },
  {
   "cell_type": "code",
   "execution_count": 15,
   "id": "bc0f7d7d",
   "metadata": {},
   "outputs": [
    {
     "name": "stdout",
     "output_type": "stream",
     "text": [
      "Predicted sentiment polarity:  -2.0\n",
      "Predicted sentiment polarity:  -3.0\n",
      "Predicted sentiment polarity:  0.0\n"
     ]
    }
   ],
   "source": [
    "afn = Afinn(emoticons=False)\n",
    "\n",
    "for i, row in df.iterrows():\n",
    "    print('Predicted sentiment polarity: ', afn.score(row.content)) # AFINN polarity score"
   ]
  },
  {
   "cell_type": "code",
   "execution_count": 16,
   "id": "b84dda9f",
   "metadata": {},
   "outputs": [],
   "source": [
    "afinn_preds = []\n",
    "\n",
    "for i in df['content'].values:             # polarity score (again)\n",
    "    score = afn.score(i)\n",
    "    \n",
    "    if score <= 0:                         # Classifiy as positive (1)/negative (0). \n",
    "        afinn_preds.append(0)\n",
    "    else:\n",
    "        afinn_preds.append(1)"
   ]
  },
  {
   "cell_type": "code",
   "execution_count": 17,
   "id": "018b58e8",
   "metadata": {},
   "outputs": [
    {
     "data": {
      "text/plain": [
       "[0, 0, 0]"
      ]
     },
     "execution_count": 17,
     "metadata": {},
     "output_type": "execute_result"
    }
   ],
   "source": [
    "afinn_preds # prints afinn sentiment predictions"
   ]
  },
  {
   "cell_type": "markdown",
   "id": "e1998cc7",
   "metadata": {},
   "source": [
    "### VADER\n",
    "- neutral sentiment: (compound score > -0.05) and (compound score < 0.05)\n",
    "- NOTE: The compound score is the one most commonly used for sentiment analysis by most researchers, including the authors.\n",
    "- compound = Calling it a 'normalized, weighted composite score' is accurate."
   ]
  },
  {
   "cell_type": "code",
   "execution_count": 18,
   "id": "c37fab78",
   "metadata": {},
   "outputs": [
    {
     "name": "stdout",
     "output_type": "stream",
     "text": [
      "Predicted sentiment polarity:  {'neg': 0.012, 'neu': 0.988, 'pos': 0.0, 'compound': -0.6808}\n",
      "Predicted sentiment polarity:  {'neg': 0.024, 'neu': 0.976, 'pos': 0.0, 'compound': -0.4767}\n",
      "Predicted sentiment polarity:  {'neg': 0.0, 'neu': 1.0, 'pos': 0.0, 'compound': 0.0}\n"
     ]
    }
   ],
   "source": [
    "analyzer = SentimentIntensityAnalyzer()\n",
    "\n",
    "for i, row in df.iterrows():\n",
    "    print('Predicted sentiment polarity: ', analyzer.polarity_scores(row.content)) # VADER polarity score"
   ]
  },
  {
   "cell_type": "code",
   "execution_count": 19,
   "id": "30629b98",
   "metadata": {},
   "outputs": [],
   "source": [
    "vader_preds = []\n",
    "\n",
    "for i in df['content'].values:    # polarity score (again)\n",
    "    score = analyzer.polarity_scores(i)[\"compound\"]\n",
    "    \n",
    "    if score<=0:                  # Classifiy as positive (1)/negative (0). \n",
    "        vader_preds.append(0)\n",
    "    else:\n",
    "        vader_preds.append(1)"
   ]
  },
  {
   "cell_type": "code",
   "execution_count": 20,
   "id": "68ca08c7",
   "metadata": {},
   "outputs": [
    {
     "data": {
      "text/plain": [
       "[0, 0, 0]"
      ]
     },
     "execution_count": 20,
     "metadata": {},
     "output_type": "execute_result"
    }
   ],
   "source": [
    "vader_preds # prints vader sentiment predictions"
   ]
  },
  {
   "cell_type": "markdown",
   "id": "dea5645c",
   "metadata": {},
   "source": [
    "### Sentida\n",
    "- output arguments: [\"mean\", \"total\", \"by_sentence_mean\", \"by_sentence_total\"]"
   ]
  },
  {
   "cell_type": "code",
   "execution_count": 93,
   "id": "ec25f20d",
   "metadata": {},
   "outputs": [],
   "source": [
    "df = ft"
   ]
  },
  {
   "cell_type": "code",
   "execution_count": 94,
   "id": "6a20264b",
   "metadata": {},
   "outputs": [
    {
     "name": "stdout",
     "output_type": "stream",
     "text": [
      "Predicted sentiment polarity:  0.0974238222599463\n",
      "Predicted sentiment polarity:  0.15442676482760703\n",
      "Predicted sentiment polarity:  0.10932853525682118\n",
      "Predicted sentiment polarity:  0.11305002194958601\n"
     ]
    },
    {
     "ename": "KeyboardInterrupt",
     "evalue": "",
     "output_type": "error",
     "traceback": [
      "\u001b[0;31m---------------------------------------------------------------------------\u001b[0m",
      "\u001b[0;31mKeyboardInterrupt\u001b[0m                         Traceback (most recent call last)",
      "\u001b[0;32m<ipython-input-94-42930534d6e9>\u001b[0m in \u001b[0;36m<module>\u001b[0;34m\u001b[0m\n\u001b[1;32m      2\u001b[0m \u001b[0;34m\u001b[0m\u001b[0m\n\u001b[1;32m      3\u001b[0m \u001b[0;32mfor\u001b[0m \u001b[0mi\u001b[0m\u001b[0;34m,\u001b[0m \u001b[0mrow\u001b[0m \u001b[0;32min\u001b[0m \u001b[0mdf\u001b[0m\u001b[0;34m.\u001b[0m\u001b[0miterrows\u001b[0m\u001b[0;34m(\u001b[0m\u001b[0;34m)\u001b[0m\u001b[0;34m:\u001b[0m\u001b[0;34m\u001b[0m\u001b[0;34m\u001b[0m\u001b[0m\n\u001b[0;32m----> 4\u001b[0;31m     print('Predicted sentiment polarity: ', SV.sentida(row.content, \n\u001b[0m\u001b[1;32m      5\u001b[0m                                             \u001b[0moutput\u001b[0m \u001b[0;34m=\u001b[0m \u001b[0;34m'mean'\u001b[0m\u001b[0;34m,\u001b[0m\u001b[0;34m\u001b[0m\u001b[0;34m\u001b[0m\u001b[0m\n\u001b[1;32m      6\u001b[0m                                             normal = True)) # Sentida polarity score\n",
      "\u001b[0;32m~/opt/anaconda3/lib/python3.8/site-packages/sentida/sentida.py\u001b[0m in \u001b[0;36msentida\u001b[0;34m(self, text, output, normal, speed)\u001b[0m\n\u001b[1;32m    360\u001b[0m \u001b[0;34m\u001b[0m\u001b[0m\n\u001b[1;32m    361\u001b[0m                 \u001b[0;32mif\u001b[0m \u001b[0mself\u001b[0m\u001b[0;34m.\u001b[0m\u001b[0mmen_identifier\u001b[0m\u001b[0;34m(\u001b[0m\u001b[0mwords_lower\u001b[0m\u001b[0;34m)\u001b[0m \u001b[0;34m>\u001b[0m \u001b[0;36m0\u001b[0m\u001b[0;34m:\u001b[0m\u001b[0;34m\u001b[0m\u001b[0;34m\u001b[0m\u001b[0m\n\u001b[0;32m--> 362\u001b[0;31m                     \u001b[0msentiments\u001b[0m \u001b[0;34m=\u001b[0m \u001b[0mself\u001b[0m\u001b[0;34m.\u001b[0m\u001b[0mmen_sentiment\u001b[0m\u001b[0;34m(\u001b[0m\u001b[0msentiments\u001b[0m\u001b[0;34m,\u001b[0m \u001b[0mwords_lower\u001b[0m\u001b[0;34m)\u001b[0m\u001b[0;34m\u001b[0m\u001b[0;34m\u001b[0m\u001b[0m\n\u001b[0m\u001b[1;32m    363\u001b[0m \u001b[0;34m\u001b[0m\u001b[0m\n\u001b[1;32m    364\u001b[0m                 \u001b[0msentiments\u001b[0m \u001b[0;34m=\u001b[0m \u001b[0mself\u001b[0m\u001b[0;34m.\u001b[0m\u001b[0mget_intensifier\u001b[0m\u001b[0;34m(\u001b[0m\u001b[0msentiments\u001b[0m\u001b[0;34m,\u001b[0m \u001b[0mstemmed\u001b[0m\u001b[0;34m)\u001b[0m\u001b[0;34m\u001b[0m\u001b[0;34m\u001b[0m\u001b[0m\n",
      "\u001b[0;32m~/opt/anaconda3/lib/python3.8/site-packages/sentida/sentida.py\u001b[0m in \u001b[0;36mmen_sentiment\u001b[0;34m(self, sentiments, words)\u001b[0m\n\u001b[1;32m    224\u001b[0m         \u001b[0;34m\"\"\"Modifies sentiment of words before or after 'men' (but) in list of words -- need empirically tested weights (currently [0.5, 1.5] (Hutto & Gilbert, 2014) for the part before and after the 'men's'\"\"\"\u001b[0m\u001b[0;34m\u001b[0m\u001b[0;34m\u001b[0m\u001b[0m\n\u001b[1;32m    225\u001b[0m         \u001b[0;32mfor\u001b[0m \u001b[0mi\u001b[0m \u001b[0;32min\u001b[0m \u001b[0mrange\u001b[0m\u001b[0;34m(\u001b[0m\u001b[0mlen\u001b[0m\u001b[0;34m(\u001b[0m\u001b[0msentiments\u001b[0m\u001b[0;34m)\u001b[0m\u001b[0;34m)\u001b[0m\u001b[0;34m:\u001b[0m\u001b[0;34m\u001b[0m\u001b[0;34m\u001b[0m\u001b[0m\n\u001b[0;32m--> 226\u001b[0;31m             \u001b[0;32mif\u001b[0m \u001b[0mi\u001b[0m \u001b[0;34m<\u001b[0m \u001b[0mself\u001b[0m\u001b[0;34m.\u001b[0m\u001b[0mmen_identifier\u001b[0m\u001b[0;34m(\u001b[0m\u001b[0mwords\u001b[0m\u001b[0;34m)\u001b[0m\u001b[0;34m:\u001b[0m\u001b[0;34m\u001b[0m\u001b[0;34m\u001b[0m\u001b[0m\n\u001b[0m\u001b[1;32m    227\u001b[0m                 \u001b[0msentiments\u001b[0m\u001b[0;34m[\u001b[0m\u001b[0mi\u001b[0m\u001b[0;34m]\u001b[0m \u001b[0;34m*=\u001b[0m \u001b[0mSENSTRUCT\u001b[0m\u001b[0;34m.\u001b[0m\u001b[0mBUT_INTENSITY\u001b[0m\u001b[0;34m[\u001b[0m\u001b[0;36m0\u001b[0m\u001b[0;34m]\u001b[0m\u001b[0;34m\u001b[0m\u001b[0;34m\u001b[0m\u001b[0m\n\u001b[1;32m    228\u001b[0m             \u001b[0;32melse\u001b[0m\u001b[0;34m:\u001b[0m\u001b[0;34m\u001b[0m\u001b[0;34m\u001b[0m\u001b[0m\n",
      "\u001b[0;32m~/opt/anaconda3/lib/python3.8/site-packages/sentida/sentida.py\u001b[0m in \u001b[0;36mmen_identifier\u001b[0;34m(self, words)\u001b[0m\n\u001b[1;32m    218\u001b[0m         \u001b[0;32mfor\u001b[0m \u001b[0mword\u001b[0m \u001b[0;32min\u001b[0m \u001b[0mwords\u001b[0m\u001b[0;34m:\u001b[0m\u001b[0;34m\u001b[0m\u001b[0;34m\u001b[0m\u001b[0m\n\u001b[1;32m    219\u001b[0m             \u001b[0;32mif\u001b[0m \u001b[0mword\u001b[0m \u001b[0;34m==\u001b[0m \u001b[0;34m'men'\u001b[0m\u001b[0;34m:\u001b[0m\u001b[0;34m\u001b[0m\u001b[0;34m\u001b[0m\u001b[0m\n\u001b[0;32m--> 220\u001b[0;31m                 \u001b[0mposition\u001b[0m \u001b[0;34m=\u001b[0m \u001b[0mwords\u001b[0m\u001b[0;34m.\u001b[0m\u001b[0mindex\u001b[0m\u001b[0;34m(\u001b[0m\u001b[0mword\u001b[0m\u001b[0;34m)\u001b[0m\u001b[0;34m\u001b[0m\u001b[0;34m\u001b[0m\u001b[0m\n\u001b[0m\u001b[1;32m    221\u001b[0m         \u001b[0;32mreturn\u001b[0m \u001b[0mposition\u001b[0m\u001b[0;34m\u001b[0m\u001b[0;34m\u001b[0m\u001b[0m\n\u001b[1;32m    222\u001b[0m \u001b[0;34m\u001b[0m\u001b[0m\n",
      "\u001b[0;31mKeyboardInterrupt\u001b[0m: "
     ]
    }
   ],
   "source": [
    "SV = Sentida()\n",
    "\n",
    "for i, row in df.iterrows():\n",
    "    print('Predicted sentiment polarity: ', SV.sentida(row.content, \n",
    "                                            output = 'mean', \n",
    "                                            normal = True)) # Sentida polarity score"
   ]
  },
  {
   "cell_type": "code",
   "execution_count": 22,
   "id": "b5caa270",
   "metadata": {},
   "outputs": [],
   "source": [
    "sentida_preds = []\n",
    "\n",
    "for i in df['content'].values:         # polarity score (again)\n",
    "    score = SV.sentida(i, output = 'mean')\n",
    "    \n",
    "    if score<=0:                       # Classifiy as positive (1)/negative (0). \n",
    "        sentida_preds.append(0)\n",
    "    else:\n",
    "        sentida_preds.append(1)"
   ]
  },
  {
   "cell_type": "code",
   "execution_count": 23,
   "id": "f13e29c8",
   "metadata": {},
   "outputs": [
    {
     "data": {
      "text/plain": [
       "[1, 1, 0]"
      ]
     },
     "execution_count": 23,
     "metadata": {},
     "output_type": "execute_result"
    }
   ],
   "source": [
    "sentida_preds"
   ]
  },
  {
   "cell_type": "markdown",
   "id": "cc21ebe8",
   "metadata": {},
   "source": [
    "##### Print all sentiment results"
   ]
  },
  {
   "cell_type": "code",
   "execution_count": 24,
   "id": "1e7ea1ef",
   "metadata": {
    "scrolled": true
   },
   "outputs": [],
   "source": [
    "#print(afinn_preds)\n",
    "#print(vader_preds)\n",
    "#print(sentida_preds)"
   ]
  },
  {
   "cell_type": "markdown",
   "id": "ab3b8c63",
   "metadata": {},
   "source": [
    "# Topic modelling (leave out)"
   ]
  },
  {
   "cell_type": "code",
   "execution_count": 28,
   "id": "2076dc82",
   "metadata": {
    "collapsed": true
   },
   "outputs": [
    {
     "ename": "ValueError",
     "evalue": "not a built-in stop list: danish",
     "output_type": "error",
     "traceback": [
      "\u001b[0;31m---------------------------------------------------------------------------\u001b[0m",
      "\u001b[0;31mValueError\u001b[0m                                Traceback (most recent call last)",
      "\u001b[0;32m<ipython-input-28-87d263599f70>\u001b[0m in \u001b[0;36m<module>\u001b[0;34m\u001b[0m\n\u001b[1;32m      1\u001b[0m \u001b[0;32mfrom\u001b[0m \u001b[0msklearn\u001b[0m\u001b[0;34m.\u001b[0m\u001b[0mfeature_extraction\u001b[0m\u001b[0;34m.\u001b[0m\u001b[0mtext\u001b[0m \u001b[0;32mimport\u001b[0m \u001b[0mCountVectorizer\u001b[0m\u001b[0;34m\u001b[0m\u001b[0;34m\u001b[0m\u001b[0m\n\u001b[1;32m      2\u001b[0m \u001b[0mcount\u001b[0m \u001b[0;34m=\u001b[0m \u001b[0mCountVectorizer\u001b[0m\u001b[0;34m(\u001b[0m\u001b[0mstop_words\u001b[0m\u001b[0;34m=\u001b[0m\u001b[0;34m'danish'\u001b[0m\u001b[0;34m,\u001b[0m \u001b[0mmax_df\u001b[0m\u001b[0;34m=\u001b[0m\u001b[0;36m0.1\u001b[0m\u001b[0;34m,\u001b[0m \u001b[0mmax_features\u001b[0m\u001b[0;34m=\u001b[0m\u001b[0;36m5000\u001b[0m\u001b[0;34m)\u001b[0m\u001b[0;34m\u001b[0m\u001b[0;34m\u001b[0m\u001b[0m\n\u001b[0;32m----> 3\u001b[0;31m \u001b[0mbag\u001b[0m \u001b[0;34m=\u001b[0m \u001b[0mcount\u001b[0m\u001b[0;34m.\u001b[0m\u001b[0mfit_transform\u001b[0m\u001b[0;34m(\u001b[0m\u001b[0mdf\u001b[0m\u001b[0;34m[\u001b[0m\u001b[0;34m'content'\u001b[0m\u001b[0;34m]\u001b[0m\u001b[0;34m.\u001b[0m\u001b[0mvalues\u001b[0m\u001b[0;34m)\u001b[0m\u001b[0;34m\u001b[0m\u001b[0;34m\u001b[0m\u001b[0m\n\u001b[0m",
      "\u001b[0;32m~/opt/anaconda3/lib/python3.8/site-packages/sklearn/feature_extraction/text.py\u001b[0m in \u001b[0;36mfit_transform\u001b[0;34m(self, raw_documents, y)\u001b[0m\n\u001b[1;32m   1201\u001b[0m         \u001b[0mmax_features\u001b[0m \u001b[0;34m=\u001b[0m \u001b[0mself\u001b[0m\u001b[0;34m.\u001b[0m\u001b[0mmax_features\u001b[0m\u001b[0;34m\u001b[0m\u001b[0;34m\u001b[0m\u001b[0m\n\u001b[1;32m   1202\u001b[0m \u001b[0;34m\u001b[0m\u001b[0m\n\u001b[0;32m-> 1203\u001b[0;31m         vocabulary, X = self._count_vocab(raw_documents,\n\u001b[0m\u001b[1;32m   1204\u001b[0m                                           self.fixed_vocabulary_)\n\u001b[1;32m   1205\u001b[0m \u001b[0;34m\u001b[0m\u001b[0m\n",
      "\u001b[0;32m~/opt/anaconda3/lib/python3.8/site-packages/sklearn/feature_extraction/text.py\u001b[0m in \u001b[0;36m_count_vocab\u001b[0;34m(self, raw_documents, fixed_vocab)\u001b[0m\n\u001b[1;32m   1105\u001b[0m             \u001b[0mvocabulary\u001b[0m\u001b[0;34m.\u001b[0m\u001b[0mdefault_factory\u001b[0m \u001b[0;34m=\u001b[0m \u001b[0mvocabulary\u001b[0m\u001b[0;34m.\u001b[0m\u001b[0m__len__\u001b[0m\u001b[0;34m\u001b[0m\u001b[0;34m\u001b[0m\u001b[0m\n\u001b[1;32m   1106\u001b[0m \u001b[0;34m\u001b[0m\u001b[0m\n\u001b[0;32m-> 1107\u001b[0;31m         \u001b[0manalyze\u001b[0m \u001b[0;34m=\u001b[0m \u001b[0mself\u001b[0m\u001b[0;34m.\u001b[0m\u001b[0mbuild_analyzer\u001b[0m\u001b[0;34m(\u001b[0m\u001b[0;34m)\u001b[0m\u001b[0;34m\u001b[0m\u001b[0;34m\u001b[0m\u001b[0m\n\u001b[0m\u001b[1;32m   1108\u001b[0m         \u001b[0mj_indices\u001b[0m \u001b[0;34m=\u001b[0m \u001b[0;34m[\u001b[0m\u001b[0;34m]\u001b[0m\u001b[0;34m\u001b[0m\u001b[0;34m\u001b[0m\u001b[0m\n\u001b[1;32m   1109\u001b[0m         \u001b[0mindptr\u001b[0m \u001b[0;34m=\u001b[0m \u001b[0;34m[\u001b[0m\u001b[0;34m]\u001b[0m\u001b[0;34m\u001b[0m\u001b[0;34m\u001b[0m\u001b[0m\n",
      "\u001b[0;32m~/opt/anaconda3/lib/python3.8/site-packages/sklearn/feature_extraction/text.py\u001b[0m in \u001b[0;36mbuild_analyzer\u001b[0;34m(self)\u001b[0m\n\u001b[1;32m    425\u001b[0m \u001b[0;34m\u001b[0m\u001b[0m\n\u001b[1;32m    426\u001b[0m         \u001b[0;32melif\u001b[0m \u001b[0mself\u001b[0m\u001b[0;34m.\u001b[0m\u001b[0manalyzer\u001b[0m \u001b[0;34m==\u001b[0m \u001b[0;34m'word'\u001b[0m\u001b[0;34m:\u001b[0m\u001b[0;34m\u001b[0m\u001b[0;34m\u001b[0m\u001b[0m\n\u001b[0;32m--> 427\u001b[0;31m             \u001b[0mstop_words\u001b[0m \u001b[0;34m=\u001b[0m \u001b[0mself\u001b[0m\u001b[0;34m.\u001b[0m\u001b[0mget_stop_words\u001b[0m\u001b[0;34m(\u001b[0m\u001b[0;34m)\u001b[0m\u001b[0;34m\u001b[0m\u001b[0;34m\u001b[0m\u001b[0m\n\u001b[0m\u001b[1;32m    428\u001b[0m             \u001b[0mtokenize\u001b[0m \u001b[0;34m=\u001b[0m \u001b[0mself\u001b[0m\u001b[0;34m.\u001b[0m\u001b[0mbuild_tokenizer\u001b[0m\u001b[0;34m(\u001b[0m\u001b[0;34m)\u001b[0m\u001b[0;34m\u001b[0m\u001b[0;34m\u001b[0m\u001b[0m\n\u001b[1;32m    429\u001b[0m             self._check_stop_words_consistency(stop_words, preprocess,\n",
      "\u001b[0;32m~/opt/anaconda3/lib/python3.8/site-packages/sklearn/feature_extraction/text.py\u001b[0m in \u001b[0;36mget_stop_words\u001b[0;34m(self)\u001b[0m\n\u001b[1;32m    358\u001b[0m                 \u001b[0mA\u001b[0m \u001b[0mlist\u001b[0m \u001b[0mof\u001b[0m \u001b[0mstop\u001b[0m \u001b[0mwords\u001b[0m\u001b[0;34m.\u001b[0m\u001b[0;34m\u001b[0m\u001b[0;34m\u001b[0m\u001b[0m\n\u001b[1;32m    359\u001b[0m         \"\"\"\n\u001b[0;32m--> 360\u001b[0;31m         \u001b[0;32mreturn\u001b[0m \u001b[0m_check_stop_list\u001b[0m\u001b[0;34m(\u001b[0m\u001b[0mself\u001b[0m\u001b[0;34m.\u001b[0m\u001b[0mstop_words\u001b[0m\u001b[0;34m)\u001b[0m\u001b[0;34m\u001b[0m\u001b[0;34m\u001b[0m\u001b[0m\n\u001b[0m\u001b[1;32m    361\u001b[0m \u001b[0;34m\u001b[0m\u001b[0m\n\u001b[1;32m    362\u001b[0m     \u001b[0;32mdef\u001b[0m \u001b[0m_check_stop_words_consistency\u001b[0m\u001b[0;34m(\u001b[0m\u001b[0mself\u001b[0m\u001b[0;34m,\u001b[0m \u001b[0mstop_words\u001b[0m\u001b[0;34m,\u001b[0m \u001b[0mpreprocess\u001b[0m\u001b[0;34m,\u001b[0m \u001b[0mtokenize\u001b[0m\u001b[0;34m)\u001b[0m\u001b[0;34m:\u001b[0m\u001b[0;34m\u001b[0m\u001b[0;34m\u001b[0m\u001b[0m\n",
      "\u001b[0;32m~/opt/anaconda3/lib/python3.8/site-packages/sklearn/feature_extraction/text.py\u001b[0m in \u001b[0;36m_check_stop_list\u001b[0;34m(stop)\u001b[0m\n\u001b[1;32m    177\u001b[0m         \u001b[0;32mreturn\u001b[0m \u001b[0mENGLISH_STOP_WORDS\u001b[0m\u001b[0;34m\u001b[0m\u001b[0;34m\u001b[0m\u001b[0m\n\u001b[1;32m    178\u001b[0m     \u001b[0;32melif\u001b[0m \u001b[0misinstance\u001b[0m\u001b[0;34m(\u001b[0m\u001b[0mstop\u001b[0m\u001b[0;34m,\u001b[0m \u001b[0mstr\u001b[0m\u001b[0;34m)\u001b[0m\u001b[0;34m:\u001b[0m\u001b[0;34m\u001b[0m\u001b[0;34m\u001b[0m\u001b[0m\n\u001b[0;32m--> 179\u001b[0;31m         \u001b[0;32mraise\u001b[0m \u001b[0mValueError\u001b[0m\u001b[0;34m(\u001b[0m\u001b[0;34m\"not a built-in stop list: %s\"\u001b[0m \u001b[0;34m%\u001b[0m \u001b[0mstop\u001b[0m\u001b[0;34m)\u001b[0m\u001b[0;34m\u001b[0m\u001b[0;34m\u001b[0m\u001b[0m\n\u001b[0m\u001b[1;32m    180\u001b[0m     \u001b[0;32melif\u001b[0m \u001b[0mstop\u001b[0m \u001b[0;32mis\u001b[0m \u001b[0;32mNone\u001b[0m\u001b[0;34m:\u001b[0m\u001b[0;34m\u001b[0m\u001b[0;34m\u001b[0m\u001b[0m\n\u001b[1;32m    181\u001b[0m         \u001b[0;32mreturn\u001b[0m \u001b[0;32mNone\u001b[0m\u001b[0;34m\u001b[0m\u001b[0;34m\u001b[0m\u001b[0m\n",
      "\u001b[0;31mValueError\u001b[0m: not a built-in stop list: danish"
     ]
    }
   ],
   "source": [
    "from sklearn.feature_extraction.text import CountVectorizer\n",
    "count = CountVectorizer(stop_words='danish', max_df=0.1, max_features=5000)\n",
    "bag = count.fit_transform(df['content'].values)"
   ]
  },
  {
   "cell_type": "code",
   "execution_count": null,
   "id": "c9328f0c",
   "metadata": {},
   "outputs": [],
   "source": [
    "from sklearn.decomposition import LatentDirichletAllocation\n",
    "lda = LatentDirichletAllocation(n_components=5,random_state=123) \n",
    "review_topics = lda.fit_transform(bag)"
   ]
  },
  {
   "cell_type": "code",
   "execution_count": null,
   "id": "e82bdafe",
   "metadata": {
    "scrolled": true
   },
   "outputs": [],
   "source": [
    "n_top_words = 5\n",
    "word_names = count.get_feature_names()\n",
    "for topic_idx, topic in enumerate(lda.components_): \n",
    "    print(\"Topic %d:\" % (topic_idx + 1))\n",
    "    print(\" \".join([word_names[i]\n",
    "    for i in topic.argsort()\\\n",
    "        [:-n_top_words - 1:-1]]))"
   ]
  },
  {
   "cell_type": "markdown",
   "id": "50551fe9",
   "metadata": {},
   "source": [
    "### Sentida function"
   ]
  },
  {
   "cell_type": "code",
   "execution_count": 114,
   "id": "0b234a93",
   "metadata": {},
   "outputs": [],
   "source": [
    "def sentida_values(df): \n",
    "    sentida_preds = []\n",
    "\n",
    "    SV = Sentida()\n",
    "\n",
    "    for row in tqdm.tqdm(df['content'].values): \n",
    "        score = SV.sentida(row, output = 'mean', normal = True)\n",
    "        \n",
    "    return sentida_preds"
   ]
  },
  {
   "cell_type": "code",
   "execution_count": 106,
   "id": "5d5128ea",
   "metadata": {},
   "outputs": [],
   "source": [
    "def sentida_values(df): \n",
    "    sentida_preds = []\n",
    "\n",
    "    SV = Sentida()\n",
    "\n",
    "    for i, row in df.iterrows():\n",
    "        score = SV.sentida(row.content, output = 'mean', normal = True)\n",
    "        sentida_preds.append(score)\n",
    "        \n",
    "    return sentida_preds"
   ]
  },
  {
   "cell_type": "code",
   "execution_count": 30,
   "id": "9f0fe18a",
   "metadata": {},
   "outputs": [],
   "source": [
    "def sentida_indicator(df): \n",
    "    sentida_preds = []\n",
    "    \n",
    "    for i in df['content'].values:         # polarity score (again)\n",
    "        score = SV.sentida(i, output = 'mean', normal = True)\n",
    "\n",
    "        if score<=0:                       # Classifiy as positive (1)/negative (0). \n",
    "            sentida_preds.append(0)\n",
    "        else:\n",
    "            sentida_preds.append(1)\n",
    "\n",
    "    return sentida_preds"
   ]
  },
  {
   "cell_type": "markdown",
   "id": "a37b521e",
   "metadata": {},
   "source": [
    "### Apply Sentida function"
   ]
  },
  {
   "cell_type": "markdown",
   "id": "10e07b6c",
   "metadata": {},
   "source": [
    "##### FT"
   ]
  },
  {
   "cell_type": "code",
   "execution_count": null,
   "id": "bb35a183",
   "metadata": {},
   "outputs": [],
   "source": []
  },
  {
   "cell_type": "code",
   "execution_count": 108,
   "id": "e266a4b9",
   "metadata": {
    "scrolled": true
   },
   "outputs": [],
   "source": [
    "sentida_preds_ft = sentida_values(ft[0:1])"
   ]
  },
  {
   "cell_type": "code",
   "execution_count": 110,
   "id": "0b940627",
   "metadata": {},
   "outputs": [
    {
     "data": {
      "text/plain": [
       "[0.0974238222599463]"
      ]
     },
     "execution_count": 110,
     "metadata": {},
     "output_type": "execute_result"
    }
   ],
   "source": [
    "sentida_preds_ft"
   ]
  },
  {
   "cell_type": "markdown",
   "id": "08536bf4",
   "metadata": {},
   "source": [
    "##### DR"
   ]
  },
  {
   "cell_type": "code",
   "execution_count": 68,
   "id": "bf7a0339",
   "metadata": {},
   "outputs": [],
   "source": [
    "df = dr # define df "
   ]
  },
  {
   "cell_type": "code",
   "execution_count": 69,
   "id": "6f926cb5",
   "metadata": {},
   "outputs": [],
   "source": [
    "# NOTICE!!!!!\n",
    "# check date is formatted correctly as datetime object by type(dr.date[0])\n",
    "df['date'] = pd.to_datetime(df['date'])"
   ]
  },
  {
   "cell_type": "code",
   "execution_count": null,
   "id": "917d909b",
   "metadata": {},
   "outputs": [],
   "source": [
    "for i in tqdm.tqdm(ft): \n",
    "    sentida_values(ft)"
   ]
  },
  {
   "cell_type": "code",
   "execution_count": 91,
   "id": "29f4b55a",
   "metadata": {},
   "outputs": [
    {
     "data": {
      "text/html": [
       "<div>\n",
       "<style scoped>\n",
       "    .dataframe tbody tr th:only-of-type {\n",
       "        vertical-align: middle;\n",
       "    }\n",
       "\n",
       "    .dataframe tbody tr th {\n",
       "        vertical-align: top;\n",
       "    }\n",
       "\n",
       "    .dataframe thead th {\n",
       "        text-align: right;\n",
       "    }\n",
       "</style>\n",
       "<table border=\"1\" class=\"dataframe\">\n",
       "  <thead>\n",
       "    <tr style=\"text-align: right;\">\n",
       "      <th></th>\n",
       "      <th>Unnamed: 0</th>\n",
       "      <th>session</th>\n",
       "      <th>meetingnumber</th>\n",
       "      <th>date</th>\n",
       "      <th>location</th>\n",
       "      <th>group</th>\n",
       "      <th>content</th>\n",
       "      <th>path</th>\n",
       "      <th>source</th>\n",
       "    </tr>\n",
       "  </thead>\n",
       "  <tbody>\n",
       "    <tr>\n",
       "      <th>0</th>\n",
       "      <td>1</td>\n",
       "      <td>20111</td>\n",
       "      <td>102</td>\n",
       "      <td>2012-09-13</td>\n",
       "      <td>Folketingssalen</td>\n",
       "      <td>Folketinget</td>\n",
       "      <td>det næste punkt på dagsordenen er: 3) 3. behan...</td>\n",
       "      <td>/ODAXML/Referat/samling/20111/20111_M102_helem...</td>\n",
       "      <td>FT</td>\n",
       "    </tr>\n",
       "    <tr>\n",
       "      <th>1</th>\n",
       "      <td>5</td>\n",
       "      <td>20111</td>\n",
       "      <td>48</td>\n",
       "      <td>2012-02-21</td>\n",
       "      <td>Folketingssalen</td>\n",
       "      <td>Folketinget</td>\n",
       "      <td>det sidste punkt på dagsordenen er: 17) foresp...</td>\n",
       "      <td>/ODAXML/Referat/samling/20111/20111_M48_helemo...</td>\n",
       "      <td>FT</td>\n",
       "    </tr>\n",
       "    <tr>\n",
       "      <th>2</th>\n",
       "      <td>6</td>\n",
       "      <td>20111</td>\n",
       "      <td>57</td>\n",
       "      <td>2012-03-14</td>\n",
       "      <td>Folketingssalen</td>\n",
       "      <td>Folketinget</td>\n",
       "      <td>det sidste punkt på dagsordenen er: 2) besvare...</td>\n",
       "      <td>/ODAXML/Referat/samling/20111/20111_M57_helemo...</td>\n",
       "      <td>FT</td>\n",
       "    </tr>\n",
       "    <tr>\n",
       "      <th>3</th>\n",
       "      <td>7</td>\n",
       "      <td>20111</td>\n",
       "      <td>58</td>\n",
       "      <td>2012-03-20</td>\n",
       "      <td>Folketingssalen</td>\n",
       "      <td>Folketinget</td>\n",
       "      <td>det næste punkt på dagsordenen er: 20) 1. beha...</td>\n",
       "      <td>/ODAXML/Referat/samling/20111/20111_M58_helemo...</td>\n",
       "      <td>FT</td>\n",
       "    </tr>\n",
       "    <tr>\n",
       "      <th>4</th>\n",
       "      <td>8</td>\n",
       "      <td>20111</td>\n",
       "      <td>62</td>\n",
       "      <td>2012-03-27</td>\n",
       "      <td>Folketingssalen</td>\n",
       "      <td>Folketinget</td>\n",
       "      <td>det sidste punkt på dagsordenen er: 11) forhan...</td>\n",
       "      <td>/ODAXML/Referat/samling/20111/20111_M62_helemo...</td>\n",
       "      <td>FT</td>\n",
       "    </tr>\n",
       "    <tr>\n",
       "      <th>...</th>\n",
       "      <td>...</td>\n",
       "      <td>...</td>\n",
       "      <td>...</td>\n",
       "      <td>...</td>\n",
       "      <td>...</td>\n",
       "      <td>...</td>\n",
       "      <td>...</td>\n",
       "      <td>...</td>\n",
       "      <td>...</td>\n",
       "    </tr>\n",
       "    <tr>\n",
       "      <th>291</th>\n",
       "      <td>515</td>\n",
       "      <td>20211</td>\n",
       "      <td>84</td>\n",
       "      <td>2022-03-31</td>\n",
       "      <td>Folketingssalen</td>\n",
       "      <td>Folketinget</td>\n",
       "      <td>det næste punkt på dagsordenen er: 8) forhandl...</td>\n",
       "      <td>/ODAXML/Referat/samling/20211/20211_M84_helemo...</td>\n",
       "      <td>FT</td>\n",
       "    </tr>\n",
       "    <tr>\n",
       "      <th>292</th>\n",
       "      <td>516</td>\n",
       "      <td>20211</td>\n",
       "      <td>84</td>\n",
       "      <td>2022-03-31</td>\n",
       "      <td>Folketingssalen</td>\n",
       "      <td>Folketinget</td>\n",
       "      <td>det sidste punkt på dagsordenen er: 13) foresp...</td>\n",
       "      <td>/ODAXML/Referat/samling/20211/20211_M84_helemo...</td>\n",
       "      <td>FT</td>\n",
       "    </tr>\n",
       "    <tr>\n",
       "      <th>293</th>\n",
       "      <td>517</td>\n",
       "      <td>20211</td>\n",
       "      <td>86</td>\n",
       "      <td>2022-04-05</td>\n",
       "      <td>Folketingssalen</td>\n",
       "      <td>Folketinget</td>\n",
       "      <td>det næste punkt på dagsordenen er: 5) udvidet ...</td>\n",
       "      <td>/ODAXML/Referat/samling/20211/20211_M86_helemo...</td>\n",
       "      <td>FT</td>\n",
       "    </tr>\n",
       "    <tr>\n",
       "      <th>294</th>\n",
       "      <td>518</td>\n",
       "      <td>20211</td>\n",
       "      <td>86</td>\n",
       "      <td>2022-04-05</td>\n",
       "      <td>Folketingssalen</td>\n",
       "      <td>Folketinget</td>\n",
       "      <td>det sidste punkt på dagsordenen er: 6) 1. beha...</td>\n",
       "      <td>/ODAXML/Referat/samling/20211/20211_M86_helemo...</td>\n",
       "      <td>FT</td>\n",
       "    </tr>\n",
       "    <tr>\n",
       "      <th>295</th>\n",
       "      <td>523</td>\n",
       "      <td>20211</td>\n",
       "      <td>9</td>\n",
       "      <td>2021-10-26</td>\n",
       "      <td>Folketingssalen</td>\n",
       "      <td>Folketinget</td>\n",
       "      <td>det næste punkt på dagsordenen er: 5) 1. behan...</td>\n",
       "      <td>/ODAXML/Referat/samling/20211/20211_M9_helemoe...</td>\n",
       "      <td>FT</td>\n",
       "    </tr>\n",
       "  </tbody>\n",
       "</table>\n",
       "<p>296 rows × 9 columns</p>\n",
       "</div>"
      ],
      "text/plain": [
       "     Unnamed: 0  session  meetingnumber        date         location  \\\n",
       "0             1    20111            102  2012-09-13  Folketingssalen   \n",
       "1             5    20111             48  2012-02-21  Folketingssalen   \n",
       "2             6    20111             57  2012-03-14  Folketingssalen   \n",
       "3             7    20111             58  2012-03-20  Folketingssalen   \n",
       "4             8    20111             62  2012-03-27  Folketingssalen   \n",
       "..          ...      ...            ...         ...              ...   \n",
       "291         515    20211             84  2022-03-31  Folketingssalen   \n",
       "292         516    20211             84  2022-03-31  Folketingssalen   \n",
       "293         517    20211             86  2022-04-05  Folketingssalen   \n",
       "294         518    20211             86  2022-04-05  Folketingssalen   \n",
       "295         523    20211              9  2021-10-26  Folketingssalen   \n",
       "\n",
       "           group                                            content  \\\n",
       "0    Folketinget  det næste punkt på dagsordenen er: 3) 3. behan...   \n",
       "1    Folketinget  det sidste punkt på dagsordenen er: 17) foresp...   \n",
       "2    Folketinget  det sidste punkt på dagsordenen er: 2) besvare...   \n",
       "3    Folketinget  det næste punkt på dagsordenen er: 20) 1. beha...   \n",
       "4    Folketinget  det sidste punkt på dagsordenen er: 11) forhan...   \n",
       "..           ...                                                ...   \n",
       "291  Folketinget  det næste punkt på dagsordenen er: 8) forhandl...   \n",
       "292  Folketinget  det sidste punkt på dagsordenen er: 13) foresp...   \n",
       "293  Folketinget  det næste punkt på dagsordenen er: 5) udvidet ...   \n",
       "294  Folketinget  det sidste punkt på dagsordenen er: 6) 1. beha...   \n",
       "295  Folketinget  det næste punkt på dagsordenen er: 5) 1. behan...   \n",
       "\n",
       "                                                  path source  \n",
       "0    /ODAXML/Referat/samling/20111/20111_M102_helem...     FT  \n",
       "1    /ODAXML/Referat/samling/20111/20111_M48_helemo...     FT  \n",
       "2    /ODAXML/Referat/samling/20111/20111_M57_helemo...     FT  \n",
       "3    /ODAXML/Referat/samling/20111/20111_M58_helemo...     FT  \n",
       "4    /ODAXML/Referat/samling/20111/20111_M62_helemo...     FT  \n",
       "..                                                 ...    ...  \n",
       "291  /ODAXML/Referat/samling/20211/20211_M84_helemo...     FT  \n",
       "292  /ODAXML/Referat/samling/20211/20211_M84_helemo...     FT  \n",
       "293  /ODAXML/Referat/samling/20211/20211_M86_helemo...     FT  \n",
       "294  /ODAXML/Referat/samling/20211/20211_M86_helemo...     FT  \n",
       "295  /ODAXML/Referat/samling/20211/20211_M9_helemoe...     FT  \n",
       "\n",
       "[296 rows x 9 columns]"
      ]
     },
     "execution_count": 91,
     "metadata": {},
     "output_type": "execute_result"
    }
   ],
   "source": [
    "ft"
   ]
  },
  {
   "cell_type": "code",
   "execution_count": 90,
   "id": "e5c6c098",
   "metadata": {
    "scrolled": true
   },
   "outputs": [
    {
     "name": "stderr",
     "output_type": "stream",
     "text": [
      "0it [00:08, ?it/s]\n"
     ]
    },
    {
     "ename": "KeyboardInterrupt",
     "evalue": "",
     "output_type": "error",
     "traceback": [
      "\u001b[0;31m---------------------------------------------------------------------------\u001b[0m",
      "\u001b[0;31mKeyboardInterrupt\u001b[0m                         Traceback (most recent call last)",
      "\u001b[0;32m<ipython-input-90-89bbb8aae647>\u001b[0m in \u001b[0;36m<module>\u001b[0;34m\u001b[0m\n\u001b[0;32m----> 1\u001b[0;31m \u001b[0msentida_preds_dr\u001b[0m \u001b[0;34m=\u001b[0m \u001b[0msentida_values\u001b[0m\u001b[0;34m(\u001b[0m\u001b[0mft\u001b[0m\u001b[0;34m[\u001b[0m\u001b[0;36m0\u001b[0m\u001b[0;34m:\u001b[0m\u001b[0;36m10\u001b[0m\u001b[0;34m]\u001b[0m\u001b[0;34m)\u001b[0m\u001b[0;34m\u001b[0m\u001b[0;34m\u001b[0m\u001b[0m\n\u001b[0m",
      "\u001b[0;32m<ipython-input-81-f9b29f6e3c68>\u001b[0m in \u001b[0;36msentida_values\u001b[0;34m(df)\u001b[0m\n\u001b[1;32m      5\u001b[0m \u001b[0;34m\u001b[0m\u001b[0m\n\u001b[1;32m      6\u001b[0m     \u001b[0;32mfor\u001b[0m \u001b[0mi\u001b[0m\u001b[0;34m,\u001b[0m \u001b[0mrow\u001b[0m \u001b[0;32min\u001b[0m \u001b[0mtqdm\u001b[0m\u001b[0;34m.\u001b[0m\u001b[0mtqdm\u001b[0m\u001b[0;34m(\u001b[0m\u001b[0mdf\u001b[0m\u001b[0;34m.\u001b[0m\u001b[0miterrows\u001b[0m\u001b[0;34m(\u001b[0m\u001b[0;34m)\u001b[0m\u001b[0;34m)\u001b[0m\u001b[0;34m:\u001b[0m\u001b[0;34m\u001b[0m\u001b[0;34m\u001b[0m\u001b[0m\n\u001b[0;32m----> 7\u001b[0;31m         \u001b[0mscore\u001b[0m \u001b[0;34m=\u001b[0m \u001b[0mSV\u001b[0m\u001b[0;34m.\u001b[0m\u001b[0msentida\u001b[0m\u001b[0;34m(\u001b[0m\u001b[0mrow\u001b[0m\u001b[0;34m.\u001b[0m\u001b[0mcontent\u001b[0m\u001b[0;34m,\u001b[0m \u001b[0moutput\u001b[0m \u001b[0;34m=\u001b[0m \u001b[0;34m'mean'\u001b[0m\u001b[0;34m,\u001b[0m \u001b[0mnormal\u001b[0m \u001b[0;34m=\u001b[0m \u001b[0;32mTrue\u001b[0m\u001b[0;34m)\u001b[0m\u001b[0;34m\u001b[0m\u001b[0;34m\u001b[0m\u001b[0m\n\u001b[0m\u001b[1;32m      8\u001b[0m         \u001b[0msentida_preds\u001b[0m\u001b[0;34m.\u001b[0m\u001b[0mappend\u001b[0m\u001b[0;34m(\u001b[0m\u001b[0mscore\u001b[0m\u001b[0;34m)\u001b[0m\u001b[0;34m\u001b[0m\u001b[0;34m\u001b[0m\u001b[0m\n\u001b[1;32m      9\u001b[0m \u001b[0;34m\u001b[0m\u001b[0m\n",
      "\u001b[0;32m~/opt/anaconda3/lib/python3.8/site-packages/sentida/sentida.py\u001b[0m in \u001b[0;36msentida\u001b[0;34m(self, text, output, normal, speed)\u001b[0m\n\u001b[1;32m    360\u001b[0m \u001b[0;34m\u001b[0m\u001b[0m\n\u001b[1;32m    361\u001b[0m                 \u001b[0;32mif\u001b[0m \u001b[0mself\u001b[0m\u001b[0;34m.\u001b[0m\u001b[0mmen_identifier\u001b[0m\u001b[0;34m(\u001b[0m\u001b[0mwords_lower\u001b[0m\u001b[0;34m)\u001b[0m \u001b[0;34m>\u001b[0m \u001b[0;36m0\u001b[0m\u001b[0;34m:\u001b[0m\u001b[0;34m\u001b[0m\u001b[0;34m\u001b[0m\u001b[0m\n\u001b[0;32m--> 362\u001b[0;31m                     \u001b[0msentiments\u001b[0m \u001b[0;34m=\u001b[0m \u001b[0mself\u001b[0m\u001b[0;34m.\u001b[0m\u001b[0mmen_sentiment\u001b[0m\u001b[0;34m(\u001b[0m\u001b[0msentiments\u001b[0m\u001b[0;34m,\u001b[0m \u001b[0mwords_lower\u001b[0m\u001b[0;34m)\u001b[0m\u001b[0;34m\u001b[0m\u001b[0;34m\u001b[0m\u001b[0m\n\u001b[0m\u001b[1;32m    363\u001b[0m \u001b[0;34m\u001b[0m\u001b[0m\n\u001b[1;32m    364\u001b[0m                 \u001b[0msentiments\u001b[0m \u001b[0;34m=\u001b[0m \u001b[0mself\u001b[0m\u001b[0;34m.\u001b[0m\u001b[0mget_intensifier\u001b[0m\u001b[0;34m(\u001b[0m\u001b[0msentiments\u001b[0m\u001b[0;34m,\u001b[0m \u001b[0mstemmed\u001b[0m\u001b[0;34m)\u001b[0m\u001b[0;34m\u001b[0m\u001b[0;34m\u001b[0m\u001b[0m\n",
      "\u001b[0;32m~/opt/anaconda3/lib/python3.8/site-packages/sentida/sentida.py\u001b[0m in \u001b[0;36mmen_sentiment\u001b[0;34m(self, sentiments, words)\u001b[0m\n\u001b[1;32m    224\u001b[0m         \u001b[0;34m\"\"\"Modifies sentiment of words before or after 'men' (but) in list of words -- need empirically tested weights (currently [0.5, 1.5] (Hutto & Gilbert, 2014) for the part before and after the 'men's'\"\"\"\u001b[0m\u001b[0;34m\u001b[0m\u001b[0;34m\u001b[0m\u001b[0m\n\u001b[1;32m    225\u001b[0m         \u001b[0;32mfor\u001b[0m \u001b[0mi\u001b[0m \u001b[0;32min\u001b[0m \u001b[0mrange\u001b[0m\u001b[0;34m(\u001b[0m\u001b[0mlen\u001b[0m\u001b[0;34m(\u001b[0m\u001b[0msentiments\u001b[0m\u001b[0;34m)\u001b[0m\u001b[0;34m)\u001b[0m\u001b[0;34m:\u001b[0m\u001b[0;34m\u001b[0m\u001b[0;34m\u001b[0m\u001b[0m\n\u001b[0;32m--> 226\u001b[0;31m             \u001b[0;32mif\u001b[0m \u001b[0mi\u001b[0m \u001b[0;34m<\u001b[0m \u001b[0mself\u001b[0m\u001b[0;34m.\u001b[0m\u001b[0mmen_identifier\u001b[0m\u001b[0;34m(\u001b[0m\u001b[0mwords\u001b[0m\u001b[0;34m)\u001b[0m\u001b[0;34m:\u001b[0m\u001b[0;34m\u001b[0m\u001b[0;34m\u001b[0m\u001b[0m\n\u001b[0m\u001b[1;32m    227\u001b[0m                 \u001b[0msentiments\u001b[0m\u001b[0;34m[\u001b[0m\u001b[0mi\u001b[0m\u001b[0;34m]\u001b[0m \u001b[0;34m*=\u001b[0m \u001b[0mSENSTRUCT\u001b[0m\u001b[0;34m.\u001b[0m\u001b[0mBUT_INTENSITY\u001b[0m\u001b[0;34m[\u001b[0m\u001b[0;36m0\u001b[0m\u001b[0;34m]\u001b[0m\u001b[0;34m\u001b[0m\u001b[0;34m\u001b[0m\u001b[0m\n\u001b[1;32m    228\u001b[0m             \u001b[0;32melse\u001b[0m\u001b[0;34m:\u001b[0m\u001b[0;34m\u001b[0m\u001b[0;34m\u001b[0m\u001b[0m\n",
      "\u001b[0;32m~/opt/anaconda3/lib/python3.8/site-packages/sentida/sentida.py\u001b[0m in \u001b[0;36mmen_identifier\u001b[0;34m(self, words)\u001b[0m\n\u001b[1;32m    217\u001b[0m         \u001b[0mposition\u001b[0m \u001b[0;34m=\u001b[0m \u001b[0;36m0\u001b[0m\u001b[0;34m\u001b[0m\u001b[0;34m\u001b[0m\u001b[0m\n\u001b[1;32m    218\u001b[0m         \u001b[0;32mfor\u001b[0m \u001b[0mword\u001b[0m \u001b[0;32min\u001b[0m \u001b[0mwords\u001b[0m\u001b[0;34m:\u001b[0m\u001b[0;34m\u001b[0m\u001b[0;34m\u001b[0m\u001b[0m\n\u001b[0;32m--> 219\u001b[0;31m             \u001b[0;32mif\u001b[0m \u001b[0mword\u001b[0m \u001b[0;34m==\u001b[0m \u001b[0;34m'men'\u001b[0m\u001b[0;34m:\u001b[0m\u001b[0;34m\u001b[0m\u001b[0;34m\u001b[0m\u001b[0m\n\u001b[0m\u001b[1;32m    220\u001b[0m                 \u001b[0mposition\u001b[0m \u001b[0;34m=\u001b[0m \u001b[0mwords\u001b[0m\u001b[0;34m.\u001b[0m\u001b[0mindex\u001b[0m\u001b[0;34m(\u001b[0m\u001b[0mword\u001b[0m\u001b[0;34m)\u001b[0m\u001b[0;34m\u001b[0m\u001b[0;34m\u001b[0m\u001b[0m\n\u001b[1;32m    221\u001b[0m         \u001b[0;32mreturn\u001b[0m \u001b[0mposition\u001b[0m\u001b[0;34m\u001b[0m\u001b[0;34m\u001b[0m\u001b[0m\n",
      "\u001b[0;31mKeyboardInterrupt\u001b[0m: "
     ]
    }
   ],
   "source": [
    "sentida_preds_dr = sentida_values(ft[0:10])"
   ]
  },
  {
   "cell_type": "code",
   "execution_count": 86,
   "id": "5cbdd0e7",
   "metadata": {},
   "outputs": [
    {
     "data": {
      "text/plain": [
       "3607"
      ]
     },
     "execution_count": 86,
     "metadata": {},
     "output_type": "execute_result"
    }
   ],
   "source": [
    "len(sentida_preds_dr)"
   ]
  },
  {
   "cell_type": "code",
   "execution_count": 72,
   "id": "6cbb1efe",
   "metadata": {},
   "outputs": [],
   "source": [
    "df['sentiment'] = sentida_preds_dr # create new column: sentiment"
   ]
  },
  {
   "cell_type": "code",
   "execution_count": 73,
   "id": "f850faf3",
   "metadata": {},
   "outputs": [],
   "source": [
    "sentiment_preds_dr_grouped = df.groupby([df.date.dt.year, df.date.dt.month])['sentiment'].mean()"
   ]
  },
  {
   "cell_type": "code",
   "execution_count": 74,
   "id": "955e6e4f",
   "metadata": {
    "scrolled": false
   },
   "outputs": [
    {
     "data": {
      "text/plain": [
       "date  date\n",
       "2012  1       0.017287\n",
       "      2       0.104123\n",
       "      3       0.033308\n",
       "      4       0.010859\n",
       "      5       0.106137\n",
       "                ...   \n",
       "2021  8       0.025333\n",
       "      9       0.027745\n",
       "      10      0.033543\n",
       "      11      0.013567\n",
       "      12      0.064588\n",
       "Name: sentiment, Length: 115, dtype: float64"
      ]
     },
     "execution_count": 74,
     "metadata": {},
     "output_type": "execute_result"
    }
   ],
   "source": [
    "sentiment_preds_dr_grouped"
   ]
  },
  {
   "cell_type": "markdown",
   "id": "6ba6c2eb",
   "metadata": {},
   "source": [
    "### plots"
   ]
  },
  {
   "cell_type": "code",
   "execution_count": 75,
   "id": "c73cf82f",
   "metadata": {
    "collapsed": true
   },
   "outputs": [
    {
     "ename": "ValueError",
     "evalue": "x and y must be the same size",
     "output_type": "error",
     "traceback": [
      "\u001b[0;31m---------------------------------------------------------------------------\u001b[0m",
      "\u001b[0;31mValueError\u001b[0m                                Traceback (most recent call last)",
      "\u001b[0;32m<ipython-input-75-40901e2dfc95>\u001b[0m in \u001b[0;36m<module>\u001b[0;34m\u001b[0m\n\u001b[1;32m      8\u001b[0m \u001b[0;34m\u001b[0m\u001b[0m\n\u001b[1;32m      9\u001b[0m \u001b[0;31m# scatter\u001b[0m\u001b[0;34m\u001b[0m\u001b[0;34m\u001b[0m\u001b[0;34m\u001b[0m\u001b[0m\n\u001b[0;32m---> 10\u001b[0;31m ax.scatter(x = date,\n\u001b[0m\u001b[1;32m     11\u001b[0m            y = df[\"sentiment\"])\n\u001b[1;32m     12\u001b[0m \u001b[0;34m\u001b[0m\u001b[0m\n",
      "\u001b[0;32m~/opt/anaconda3/lib/python3.8/site-packages/matplotlib/__init__.py\u001b[0m in \u001b[0;36minner\u001b[0;34m(ax, data, *args, **kwargs)\u001b[0m\n\u001b[1;32m   1445\u001b[0m     \u001b[0;32mdef\u001b[0m \u001b[0minner\u001b[0m\u001b[0;34m(\u001b[0m\u001b[0max\u001b[0m\u001b[0;34m,\u001b[0m \u001b[0;34m*\u001b[0m\u001b[0margs\u001b[0m\u001b[0;34m,\u001b[0m \u001b[0mdata\u001b[0m\u001b[0;34m=\u001b[0m\u001b[0;32mNone\u001b[0m\u001b[0;34m,\u001b[0m \u001b[0;34m**\u001b[0m\u001b[0mkwargs\u001b[0m\u001b[0;34m)\u001b[0m\u001b[0;34m:\u001b[0m\u001b[0;34m\u001b[0m\u001b[0;34m\u001b[0m\u001b[0m\n\u001b[1;32m   1446\u001b[0m         \u001b[0;32mif\u001b[0m \u001b[0mdata\u001b[0m \u001b[0;32mis\u001b[0m \u001b[0;32mNone\u001b[0m\u001b[0;34m:\u001b[0m\u001b[0;34m\u001b[0m\u001b[0;34m\u001b[0m\u001b[0m\n\u001b[0;32m-> 1447\u001b[0;31m             \u001b[0;32mreturn\u001b[0m \u001b[0mfunc\u001b[0m\u001b[0;34m(\u001b[0m\u001b[0max\u001b[0m\u001b[0;34m,\u001b[0m \u001b[0;34m*\u001b[0m\u001b[0mmap\u001b[0m\u001b[0;34m(\u001b[0m\u001b[0msanitize_sequence\u001b[0m\u001b[0;34m,\u001b[0m \u001b[0margs\u001b[0m\u001b[0;34m)\u001b[0m\u001b[0;34m,\u001b[0m \u001b[0;34m**\u001b[0m\u001b[0mkwargs\u001b[0m\u001b[0;34m)\u001b[0m\u001b[0;34m\u001b[0m\u001b[0;34m\u001b[0m\u001b[0m\n\u001b[0m\u001b[1;32m   1448\u001b[0m \u001b[0;34m\u001b[0m\u001b[0m\n\u001b[1;32m   1449\u001b[0m         \u001b[0mbound\u001b[0m \u001b[0;34m=\u001b[0m \u001b[0mnew_sig\u001b[0m\u001b[0;34m.\u001b[0m\u001b[0mbind\u001b[0m\u001b[0;34m(\u001b[0m\u001b[0max\u001b[0m\u001b[0;34m,\u001b[0m \u001b[0;34m*\u001b[0m\u001b[0margs\u001b[0m\u001b[0;34m,\u001b[0m \u001b[0;34m**\u001b[0m\u001b[0mkwargs\u001b[0m\u001b[0;34m)\u001b[0m\u001b[0;34m\u001b[0m\u001b[0;34m\u001b[0m\u001b[0m\n",
      "\u001b[0;32m~/opt/anaconda3/lib/python3.8/site-packages/matplotlib/cbook/deprecation.py\u001b[0m in \u001b[0;36mwrapper\u001b[0;34m(*inner_args, **inner_kwargs)\u001b[0m\n\u001b[1;32m    409\u001b[0m                          \u001b[0;32melse\u001b[0m \u001b[0mdeprecation_addendum\u001b[0m\u001b[0;34m,\u001b[0m\u001b[0;34m\u001b[0m\u001b[0;34m\u001b[0m\u001b[0m\n\u001b[1;32m    410\u001b[0m                 **kwargs)\n\u001b[0;32m--> 411\u001b[0;31m         \u001b[0;32mreturn\u001b[0m \u001b[0mfunc\u001b[0m\u001b[0;34m(\u001b[0m\u001b[0;34m*\u001b[0m\u001b[0minner_args\u001b[0m\u001b[0;34m,\u001b[0m \u001b[0;34m**\u001b[0m\u001b[0minner_kwargs\u001b[0m\u001b[0;34m)\u001b[0m\u001b[0;34m\u001b[0m\u001b[0;34m\u001b[0m\u001b[0m\n\u001b[0m\u001b[1;32m    412\u001b[0m \u001b[0;34m\u001b[0m\u001b[0m\n\u001b[1;32m    413\u001b[0m     \u001b[0;32mreturn\u001b[0m \u001b[0mwrapper\u001b[0m\u001b[0;34m\u001b[0m\u001b[0;34m\u001b[0m\u001b[0m\n",
      "\u001b[0;32m~/opt/anaconda3/lib/python3.8/site-packages/matplotlib/axes/_axes.py\u001b[0m in \u001b[0;36mscatter\u001b[0;34m(self, x, y, s, c, marker, cmap, norm, vmin, vmax, alpha, linewidths, verts, edgecolors, plotnonfinite, **kwargs)\u001b[0m\n\u001b[1;32m   4439\u001b[0m         \u001b[0my\u001b[0m \u001b[0;34m=\u001b[0m \u001b[0mnp\u001b[0m\u001b[0;34m.\u001b[0m\u001b[0mma\u001b[0m\u001b[0;34m.\u001b[0m\u001b[0mravel\u001b[0m\u001b[0;34m(\u001b[0m\u001b[0my\u001b[0m\u001b[0;34m)\u001b[0m\u001b[0;34m\u001b[0m\u001b[0;34m\u001b[0m\u001b[0m\n\u001b[1;32m   4440\u001b[0m         \u001b[0;32mif\u001b[0m \u001b[0mx\u001b[0m\u001b[0;34m.\u001b[0m\u001b[0msize\u001b[0m \u001b[0;34m!=\u001b[0m \u001b[0my\u001b[0m\u001b[0;34m.\u001b[0m\u001b[0msize\u001b[0m\u001b[0;34m:\u001b[0m\u001b[0;34m\u001b[0m\u001b[0;34m\u001b[0m\u001b[0m\n\u001b[0;32m-> 4441\u001b[0;31m             \u001b[0;32mraise\u001b[0m \u001b[0mValueError\u001b[0m\u001b[0;34m(\u001b[0m\u001b[0;34m\"x and y must be the same size\"\u001b[0m\u001b[0;34m)\u001b[0m\u001b[0;34m\u001b[0m\u001b[0;34m\u001b[0m\u001b[0m\n\u001b[0m\u001b[1;32m   4442\u001b[0m \u001b[0;34m\u001b[0m\u001b[0m\n\u001b[1;32m   4443\u001b[0m         \u001b[0;32mif\u001b[0m \u001b[0ms\u001b[0m \u001b[0;32mis\u001b[0m \u001b[0;32mNone\u001b[0m\u001b[0;34m:\u001b[0m\u001b[0;34m\u001b[0m\u001b[0;34m\u001b[0m\u001b[0m\n",
      "\u001b[0;31mValueError\u001b[0m: x and y must be the same size"
     ]
    },
    {
     "data": {
      "image/png": "[encoded data removed]",
      "text/plain": [
       "<Figure size 1080x504 with 1 Axes>"
      ]
     },
     "metadata": {
      "needs_background": "light"
     },
     "output_type": "display_data"
    }
   ],
   "source": [
    "# making your dataframe\n",
    "date = df.groupby([df.date.dt.year, df.date.dt.month])\n",
    "value = df.sentiment\n",
    "\n",
    "# plot setup\n",
    "fig,ax= plt.subplots()\n",
    "fig.set_size_inches(15, 7)\n",
    "\n",
    "# scatter\n",
    "ax.scatter(x = date,\n",
    "           y = df[\"sentiment\"])\n",
    "\n",
    "# setting x axis bounds\n",
    "ax.set_xlim((df[\"date\"].min(), df[\"date\"].max()))"
   ]
  },
  {
   "cell_type": "code",
   "execution_count": 76,
   "id": "da910577",
   "metadata": {},
   "outputs": [
    {
     "data": {
      "image/png": "[encoded data removed]",
      "text/plain": [
       "<Figure size 576x432 with 1 Axes>"
      ]
     },
     "metadata": {
      "needs_background": "light"
     },
     "output_type": "display_data"
    }
   ],
   "source": [
    "fig, ax = plt.subplots(figsize=(8,6))\n",
    "group = df.groupby([df.date.dt.year, df.date.dt.month])['sentiment'].median()\n",
    "plot = group.plot(kind = 'line', ax = ax)"
   ]
  },
  {
   "cell_type": "markdown",
   "id": "cff58cbe",
   "metadata": {},
   "source": [
    "### tv2"
   ]
  },
  {
   "cell_type": "code",
   "execution_count": null,
   "id": "de5e791f",
   "metadata": {},
   "outputs": [],
   "source": [
    "df = tv2"
   ]
  },
  {
   "cell_type": "code",
   "execution_count": null,
   "id": "5541a465",
   "metadata": {},
   "outputs": [],
   "source": [
    "tv2.sentiment"
   ]
  },
  {
   "cell_type": "code",
   "execution_count": null,
   "id": "e1cc9bb4",
   "metadata": {},
   "outputs": [],
   "source": [
    "sentida_preds = sentida(df)"
   ]
  },
  {
   "cell_type": "code",
   "execution_count": null,
   "id": "ae6e8f86",
   "metadata": {},
   "outputs": [],
   "source": [
    "df['sentiment'] = sentida_preds # create sentiment column"
   ]
  },
  {
   "cell_type": "code",
   "execution_count": null,
   "id": "98b662ff",
   "metadata": {},
   "outputs": [],
   "source": [
    "# check date is formatted as datetime object\n",
    "# type(dr.date[0])\n",
    "df['date'] = pd.to_datetime(df['date'])"
   ]
  },
  {
   "cell_type": "code",
   "execution_count": null,
   "id": "393ff2ea",
   "metadata": {},
   "outputs": [],
   "source": [
    "sentiment_grouped = df.groupby([df.date.dt.year, df.date.dt.month])['sentiment'].mean()"
   ]
  },
  {
   "cell_type": "code",
   "execution_count": null,
   "id": "caad0cbc",
   "metadata": {},
   "outputs": [],
   "source": [
    "# making your dataframe\n",
    "date = df.groupby([df.date.dt.year, df.date.dt.month])\n",
    "value = df.sentiment\n",
    "\n",
    "# plot setup\n",
    "fig,ax= plt.subplots()\n",
    "fig.set_size_inches(15, 7)\n",
    "\n",
    "# scatter\n",
    "ax.scatter(x=df[\"date\"].values,\n",
    "           y=df[\"sentiment\"].values)\n",
    "\n",
    "# setting x axis bounds\n",
    "ax.set_xlim((df[\"date\"].min(), df[\"date\"].max()))"
   ]
  },
  {
   "cell_type": "code",
   "execution_count": null,
   "id": "73f5f64d",
   "metadata": {},
   "outputs": [],
   "source": [
    "fig, ax = plt.subplots(figsize=(20,6))\n",
    "group = df.groupby([df.date.dt.year, df.date.dt.month])['sentiment'].mean()\n",
    "plot = group.plot('scatterplot', ax = ax)\n",
    "matplotlib.pyplot.scatter()"
   ]
  },
  {
   "cell_type": "code",
   "execution_count": null,
   "id": "0c6d5916",
   "metadata": {},
   "outputs": [],
   "source": [
    "sentiment_grouped"
   ]
  },
  {
   "cell_type": "code",
   "execution_count": null,
   "id": "c4bd93d0",
   "metadata": {},
   "outputs": [],
   "source": []
  }
 ],
 "metadata": {
  "kernelspec": {
   "display_name": "Python 3",
   "language": "python",
   "name": "python3"
  },
  "language_info": {
   "codemirror_mode": {
    "name": "ipython",
    "version": 3
   },
   "file_extension": ".py",
   "mimetype": "text/x-python",
   "name": "python",
   "nbconvert_exporter": "python",
   "pygments_lexer": "ipython3",
   "version": "3.8.8"
  }
 },
 "nbformat": 4,
 "nbformat_minor": 5
}
