{
 "cells": [
  {
   "cell_type": "markdown",
   "id": "a030fc7e",
   "metadata": {},
   "source": [
    "# Analysis"
   ]
  },
  {
   "cell_type": "code",
   "execution_count": 50,
   "id": "477fad95",
   "metadata": {},
   "outputs": [],
   "source": [
    "import time\n",
    "import tqdm\n",
    "import pandas as pd\n",
    "import numpy as np\n",
    "import datetime as dt\n",
    "import matplotlib.pyplot as plt\n",
    "import seaborn as sns\n",
    "import re\n",
    "import lemmy # For lemmatization\n",
    "import nltk\n",
    "from nltk.stem import SnowballStemmer\n",
    "import itertools\n",
    "\n",
    "from sklearn.feature_extraction.text import CountVectorizer"
   ]
  },
  {
   "cell_type": "code",
   "execution_count": 13,
   "id": "9f123960",
   "metadata": {},
   "outputs": [
    {
     "name": "stderr",
     "output_type": "stream",
     "text": [
      "[nltk_data] Downloading package stopwords to\n",
      "[nltk_data]     /Users/dana_tiger/nltk_data...\n",
      "[nltk_data]   Package stopwords is already up-to-date!\n"
     ]
    }
   ],
   "source": [
    "import nltk\n",
    "nltk.download('stopwords')\n",
    "\n",
    "from nltk.corpus import stopwords\n",
    "stopwords = stopwords.words('danish')\n",
    "stemmer = SnowballStemmer(\"danish\")"
   ]
  },
  {
   "cell_type": "markdown",
   "id": "76ef7b88",
   "metadata": {},
   "source": [
    "## Load datasets"
   ]
  },
  {
   "cell_type": "code",
   "execution_count": 14,
   "id": "a5c102f3",
   "metadata": {},
   "outputs": [],
   "source": [
    "ft_sygeplej2x = pd.read_csv('ft_sygeplej2x.csv')\n",
    "dr_sygeplej2x = pd.read_csv('dr_sygeplej2x.csv')\n",
    "tv2_sygeplej2x = pd.read_csv('tv2_sygeplej2x.csv')\n",
    "\n",
    "ft = ft_sygeplej2x.copy() \n",
    "dr = dr_sygeplej2x.copy() \n",
    "tv2 = tv2_sygeplej2x.copy()"
   ]
  },
  {
   "cell_type": "markdown",
   "id": "6c1bd243",
   "metadata": {},
   "source": [
    "### Cleaning\n",
    "- lower case (already done)\n",
    "- remove non-alphanumeric characters\n",
    "- remove numbers"
   ]
  },
  {
   "cell_type": "code",
   "execution_count": 16,
   "id": "83db8a50",
   "metadata": {},
   "outputs": [],
   "source": [
    "def cleaner(document):\n",
    "    document = document.lower() #To lower case\n",
    "    document = re.sub(r'[^\\w\\s]','', document) #Remove non-alphanumeric characters\n",
    "    document = re.sub(r'[^\\D+]','', document) #Remove numeric characters\n",
    "    return document"
   ]
  },
  {
   "cell_type": "code",
   "execution_count": 17,
   "id": "14f9a92f",
   "metadata": {},
   "outputs": [],
   "source": [
    "# apply cleaner\n",
    "df['content'] = df['content'].apply(cleaner)"
   ]
  },
  {
   "cell_type": "markdown",
   "id": "b3d2a9fe",
   "metadata": {},
   "source": [
    "### Pre-processing\n",
    "- Tokenize\n",
    "- Remove stopwords\n",
    "- Stemming"
   ]
  },
  {
   "cell_type": "code",
   "execution_count": 18,
   "id": "f938e9cd",
   "metadata": {},
   "outputs": [],
   "source": [
    "def pre_processing(df): \n",
    "    tokens = [nltk.tokenize.word_tokenize(df['content'][i]) for i in range(0, len(df))]\n",
    "    tokens = list(itertools.chain(*tokens)) # list of lists to list\n",
    "    \n",
    "    nostop = [i for i in tokens if i not in stopwords]\n",
    "\n",
    "    stemmed = [stemmer.stem(word) for word in nostop]"
   ]
  },
  {
   "cell_type": "markdown",
   "id": "498ce1b5",
   "metadata": {},
   "source": [
    "# Bag of words"
   ]
  },
  {
   "cell_type": "code",
   "execution_count": 20,
   "id": "f37f86f8",
   "metadata": {},
   "outputs": [],
   "source": [
    "def BoW(df): \n",
    "    count = CountVectorizer()\n",
    "    df_array = df['content']\n",
    "    bag = count.fit_transform(df_array)\n",
    "    \n",
    "    count_array = bag.toarray() #Make the bag to an array\n",
    "    matrix = pd.DataFrame(data=count_array,columns = count.get_feature_names())\n",
    "    \n",
    "    return matrix\n"
   ]
  },
  {
   "cell_type": "markdown",
   "id": "5190fe9c",
   "metadata": {},
   "source": [
    "# 2-gram"
   ]
  },
  {
   "cell_type": "code",
   "execution_count": 21,
   "id": "df2e8816",
   "metadata": {},
   "outputs": [],
   "source": [
    "def two_gram(df):\n",
    "    count = CountVectorizer(ngram_range=(2,2)) #Choose only 2-grams\n",
    "\n",
    "    df_array = df['content']\n",
    "    bag = count.fit_transform(df_array)\n",
    "\n",
    "    count_array = bag.toarray() #Make the bag to an array\n",
    "    matrix = pd.DataFrame(data=count_array,columns = count.get_feature_names()) #Input the bag and the words into a dataframe\n",
    "    \n",
    "    return matrix\n"
   ]
  },
  {
   "cell_type": "markdown",
   "id": "e92ad98a",
   "metadata": {},
   "source": [
    "# tf-idf"
   ]
  },
  {
   "cell_type": "code",
   "execution_count": 43,
   "id": "c885241e",
   "metadata": {},
   "outputs": [],
   "source": [
    "from sklearn.feature_extraction.text import TfidfTransformer\n",
    "\n",
    "def tfidf(df):\n",
    "    ############################## bag #################################\n",
    "    count = CountVectorizer(ngram_range=(2,2)) #Choose only 2-grams\n",
    "    \n",
    "    df_array = df['content']\n",
    "    bag = count.fit_transform(df_array)\n",
    "    ############################## bag #################################\n",
    "    \n",
    "    tfidf = TfidfTransformer()\n",
    "    bag_tfidf = tfidf.fit_transform(bag) \n",
    "\n",
    "    tfidf_array = bag_tfidf.toarray() #Make the bag to an array\n",
    "    matrix_tfidf = pd.DataFrame(data=tfidf_array,columns = count.get_feature_names())\n",
    "    return matrix_tfidf"
   ]
  },
  {
   "cell_type": "code",
   "execution_count": null,
   "id": "61df314d",
   "metadata": {},
   "outputs": [],
   "source": []
  },
  {
   "cell_type": "markdown",
   "id": "ca95f2cb",
   "metadata": {},
   "source": [
    "# Apply functions"
   ]
  },
  {
   "cell_type": "code",
   "execution_count": null,
   "id": "cca3561b",
   "metadata": {},
   "outputs": [],
   "source": [
    "sample1 = tv2[0:3].copy()"
   ]
  },
  {
   "cell_type": "code",
   "execution_count": 44,
   "id": "b6d96b66",
   "metadata": {},
   "outputs": [],
   "source": [
    "df = sample1"
   ]
  },
  {
   "cell_type": "code",
   "execution_count": 45,
   "id": "13c0c288",
   "metadata": {},
   "outputs": [],
   "source": [
    "df['content'] = df['content'].apply(cleaner)"
   ]
  },
  {
   "cell_type": "code",
   "execution_count": 46,
   "id": "118a7cf4",
   "metadata": {},
   "outputs": [],
   "source": [
    "pre_processing(df)"
   ]
  },
  {
   "cell_type": "code",
   "execution_count": 51,
   "id": "b2ac9c6c",
   "metadata": {},
   "outputs": [
    {
     "data": {
      "text/html": [
       "<div>\n",
       "<style scoped>\n",
       "    .dataframe tbody tr th:only-of-type {\n",
       "        vertical-align: middle;\n",
       "    }\n",
       "\n",
       "    .dataframe tbody tr th {\n",
       "        vertical-align: top;\n",
       "    }\n",
       "\n",
       "    .dataframe thead th {\n",
       "        text-align: right;\n",
       "    }\n",
       "</style>\n",
       "<table border=\"1\" class=\"dataframe\">\n",
       "  <thead>\n",
       "    <tr style=\"text-align: right;\">\n",
       "      <th></th>\n",
       "      <th>af</th>\n",
       "      <th>afgørende</th>\n",
       "      <th>afholder</th>\n",
       "      <th>alle</th>\n",
       "      <th>alligevel</th>\n",
       "      <th>alt</th>\n",
       "      <th>altså</th>\n",
       "      <th>anderledes</th>\n",
       "      <th>andet</th>\n",
       "      <th>anni</th>\n",
       "      <th>...</th>\n",
       "      <th>virkelig</th>\n",
       "      <th>virksomheder</th>\n",
       "      <th>viser</th>\n",
       "      <th>vist</th>\n",
       "      <th>vores</th>\n",
       "      <th>waste</th>\n",
       "      <th>what</th>\n",
       "      <th>år</th>\n",
       "      <th>økonomiske</th>\n",
       "      <th>ønsker</th>\n",
       "    </tr>\n",
       "  </thead>\n",
       "  <tbody>\n",
       "    <tr>\n",
       "      <th>0</th>\n",
       "      <td>6</td>\n",
       "      <td>0</td>\n",
       "      <td>1</td>\n",
       "      <td>0</td>\n",
       "      <td>1</td>\n",
       "      <td>2</td>\n",
       "      <td>1</td>\n",
       "      <td>1</td>\n",
       "      <td>1</td>\n",
       "      <td>5</td>\n",
       "      <td>...</td>\n",
       "      <td>1</td>\n",
       "      <td>1</td>\n",
       "      <td>1</td>\n",
       "      <td>1</td>\n",
       "      <td>2</td>\n",
       "      <td>1</td>\n",
       "      <td>1</td>\n",
       "      <td>2</td>\n",
       "      <td>1</td>\n",
       "      <td>1</td>\n",
       "    </tr>\n",
       "    <tr>\n",
       "      <th>1</th>\n",
       "      <td>2</td>\n",
       "      <td>1</td>\n",
       "      <td>0</td>\n",
       "      <td>1</td>\n",
       "      <td>0</td>\n",
       "      <td>1</td>\n",
       "      <td>0</td>\n",
       "      <td>0</td>\n",
       "      <td>0</td>\n",
       "      <td>0</td>\n",
       "      <td>...</td>\n",
       "      <td>0</td>\n",
       "      <td>0</td>\n",
       "      <td>1</td>\n",
       "      <td>0</td>\n",
       "      <td>1</td>\n",
       "      <td>0</td>\n",
       "      <td>0</td>\n",
       "      <td>1</td>\n",
       "      <td>0</td>\n",
       "      <td>0</td>\n",
       "    </tr>\n",
       "  </tbody>\n",
       "</table>\n",
       "<p>2 rows × 263 columns</p>\n",
       "</div>"
      ],
      "text/plain": [
       "   af  afgørende  afholder  alle  alligevel  alt  altså  anderledes  andet  \\\n",
       "0   6          0         1     0          1    2      1           1      1   \n",
       "1   2          1         0     1          0    1      0           0      0   \n",
       "\n",
       "   anni  ...  virkelig  virksomheder  viser  vist  vores  waste  what  år  \\\n",
       "0     5  ...         1             1      1     1      2      1     1   2   \n",
       "1     0  ...         0             0      1     0      1      0     0   1   \n",
       "\n",
       "   økonomiske  ønsker  \n",
       "0           1       1  \n",
       "1           0       0  \n",
       "\n",
       "[2 rows x 263 columns]"
      ]
     },
     "execution_count": 51,
     "metadata": {},
     "output_type": "execute_result"
    }
   ],
   "source": [
    "BoW(df)"
   ]
  },
  {
   "cell_type": "code",
   "execution_count": 52,
   "id": "01b096af",
   "metadata": {},
   "outputs": [
    {
     "data": {
      "text/html": [
       "<div>\n",
       "<style scoped>\n",
       "    .dataframe tbody tr th:only-of-type {\n",
       "        vertical-align: middle;\n",
       "    }\n",
       "\n",
       "    .dataframe tbody tr th {\n",
       "        vertical-align: top;\n",
       "    }\n",
       "\n",
       "    .dataframe thead th {\n",
       "        text-align: right;\n",
       "    }\n",
       "</style>\n",
       "<table border=\"1\" class=\"dataframe\">\n",
       "  <thead>\n",
       "    <tr style=\"text-align: right;\">\n",
       "      <th></th>\n",
       "      <th>af danske</th>\n",
       "      <th>af de</th>\n",
       "      <th>af dem</th>\n",
       "      <th>af den</th>\n",
       "      <th>af sygeplejersker</th>\n",
       "      <th>af vores</th>\n",
       "      <th>afgørende at</th>\n",
       "      <th>afholder messen</th>\n",
       "      <th>alle de</th>\n",
       "      <th>alligevel låner</th>\n",
       "      <th>...</th>\n",
       "      <th>vores dygtige</th>\n",
       "      <th>vores nordiske</th>\n",
       "      <th>vores sygeplejersker</th>\n",
       "      <th>waste for</th>\n",
       "      <th>what waste</th>\n",
       "      <th>år er</th>\n",
       "      <th>år har</th>\n",
       "      <th>år krise</th>\n",
       "      <th>økonomiske politik</th>\n",
       "      <th>ønsker et</th>\n",
       "    </tr>\n",
       "  </thead>\n",
       "  <tbody>\n",
       "    <tr>\n",
       "      <th>0</th>\n",
       "      <td>0</td>\n",
       "      <td>1</td>\n",
       "      <td>1</td>\n",
       "      <td>2</td>\n",
       "      <td>1</td>\n",
       "      <td>1</td>\n",
       "      <td>0</td>\n",
       "      <td>1</td>\n",
       "      <td>0</td>\n",
       "      <td>1</td>\n",
       "      <td>...</td>\n",
       "      <td>1</td>\n",
       "      <td>1</td>\n",
       "      <td>0</td>\n",
       "      <td>1</td>\n",
       "      <td>1</td>\n",
       "      <td>1</td>\n",
       "      <td>1</td>\n",
       "      <td>0</td>\n",
       "      <td>1</td>\n",
       "      <td>1</td>\n",
       "    </tr>\n",
       "    <tr>\n",
       "      <th>1</th>\n",
       "      <td>2</td>\n",
       "      <td>0</td>\n",
       "      <td>0</td>\n",
       "      <td>0</td>\n",
       "      <td>0</td>\n",
       "      <td>0</td>\n",
       "      <td>1</td>\n",
       "      <td>0</td>\n",
       "      <td>1</td>\n",
       "      <td>0</td>\n",
       "      <td>...</td>\n",
       "      <td>0</td>\n",
       "      <td>0</td>\n",
       "      <td>1</td>\n",
       "      <td>0</td>\n",
       "      <td>0</td>\n",
       "      <td>0</td>\n",
       "      <td>0</td>\n",
       "      <td>1</td>\n",
       "      <td>0</td>\n",
       "      <td>0</td>\n",
       "    </tr>\n",
       "  </tbody>\n",
       "</table>\n",
       "<p>2 rows × 512 columns</p>\n",
       "</div>"
      ],
      "text/plain": [
       "   af danske  af de  af dem  af den  af sygeplejersker  af vores  \\\n",
       "0          0      1       1       2                  1         1   \n",
       "1          2      0       0       0                  0         0   \n",
       "\n",
       "   afgørende at  afholder messen  alle de  alligevel låner  ...  \\\n",
       "0             0                1        0                1  ...   \n",
       "1             1                0        1                0  ...   \n",
       "\n",
       "   vores dygtige  vores nordiske  vores sygeplejersker  waste for  what waste  \\\n",
       "0              1               1                     0          1           1   \n",
       "1              0               0                     1          0           0   \n",
       "\n",
       "   år er  år har  år krise  økonomiske politik  ønsker et  \n",
       "0      1       1         0                   1          1  \n",
       "1      0       0         1                   0          0  \n",
       "\n",
       "[2 rows x 512 columns]"
      ]
     },
     "execution_count": 52,
     "metadata": {},
     "output_type": "execute_result"
    }
   ],
   "source": [
    "two_gram(df)"
   ]
  },
  {
   "cell_type": "code",
   "execution_count": 53,
   "id": "192217d4",
   "metadata": {},
   "outputs": [
    {
     "data": {
      "text/html": [
       "<div>\n",
       "<style scoped>\n",
       "    .dataframe tbody tr th:only-of-type {\n",
       "        vertical-align: middle;\n",
       "    }\n",
       "\n",
       "    .dataframe tbody tr th {\n",
       "        vertical-align: top;\n",
       "    }\n",
       "\n",
       "    .dataframe thead th {\n",
       "        text-align: right;\n",
       "    }\n",
       "</style>\n",
       "<table border=\"1\" class=\"dataframe\">\n",
       "  <thead>\n",
       "    <tr style=\"text-align: right;\">\n",
       "      <th></th>\n",
       "      <th>af danske</th>\n",
       "      <th>af de</th>\n",
       "      <th>af dem</th>\n",
       "      <th>af den</th>\n",
       "      <th>af koreansk</th>\n",
       "      <th>af skræmte</th>\n",
       "      <th>af sygeplejersker</th>\n",
       "      <th>af vores</th>\n",
       "      <th>affyre mange</th>\n",
       "      <th>affyret omkring</th>\n",
       "      <th>...</th>\n",
       "      <th>what waste</th>\n",
       "      <th>åbnede ild</th>\n",
       "      <th>år er</th>\n",
       "      <th>år han</th>\n",
       "      <th>år har</th>\n",
       "      <th>år krise</th>\n",
       "      <th>øjenvidne fortæller</th>\n",
       "      <th>øjenvidne til</th>\n",
       "      <th>økonomiske politik</th>\n",
       "      <th>ønsker et</th>\n",
       "    </tr>\n",
       "  </thead>\n",
       "  <tbody>\n",
       "    <tr>\n",
       "      <th>0</th>\n",
       "      <td>0.000000</td>\n",
       "      <td>0.042007</td>\n",
       "      <td>0.042007</td>\n",
       "      <td>0.084014</td>\n",
       "      <td>0.000000</td>\n",
       "      <td>0.000000</td>\n",
       "      <td>0.042007</td>\n",
       "      <td>0.042007</td>\n",
       "      <td>0.000000</td>\n",
       "      <td>0.000000</td>\n",
       "      <td>...</td>\n",
       "      <td>0.042007</td>\n",
       "      <td>0.000000</td>\n",
       "      <td>0.042007</td>\n",
       "      <td>0.000000</td>\n",
       "      <td>0.042007</td>\n",
       "      <td>0.000000</td>\n",
       "      <td>0.000000</td>\n",
       "      <td>0.000000</td>\n",
       "      <td>0.042007</td>\n",
       "      <td>0.042007</td>\n",
       "    </tr>\n",
       "    <tr>\n",
       "      <th>1</th>\n",
       "      <td>0.166289</td>\n",
       "      <td>0.000000</td>\n",
       "      <td>0.000000</td>\n",
       "      <td>0.000000</td>\n",
       "      <td>0.000000</td>\n",
       "      <td>0.000000</td>\n",
       "      <td>0.000000</td>\n",
       "      <td>0.000000</td>\n",
       "      <td>0.000000</td>\n",
       "      <td>0.000000</td>\n",
       "      <td>...</td>\n",
       "      <td>0.000000</td>\n",
       "      <td>0.000000</td>\n",
       "      <td>0.000000</td>\n",
       "      <td>0.000000</td>\n",
       "      <td>0.000000</td>\n",
       "      <td>0.083144</td>\n",
       "      <td>0.000000</td>\n",
       "      <td>0.000000</td>\n",
       "      <td>0.000000</td>\n",
       "      <td>0.000000</td>\n",
       "    </tr>\n",
       "    <tr>\n",
       "      <th>2</th>\n",
       "      <td>0.000000</td>\n",
       "      <td>0.000000</td>\n",
       "      <td>0.000000</td>\n",
       "      <td>0.000000</td>\n",
       "      <td>0.058964</td>\n",
       "      <td>0.058964</td>\n",
       "      <td>0.000000</td>\n",
       "      <td>0.000000</td>\n",
       "      <td>0.058964</td>\n",
       "      <td>0.058964</td>\n",
       "      <td>...</td>\n",
       "      <td>0.000000</td>\n",
       "      <td>0.058964</td>\n",
       "      <td>0.000000</td>\n",
       "      <td>0.058964</td>\n",
       "      <td>0.000000</td>\n",
       "      <td>0.000000</td>\n",
       "      <td>0.058964</td>\n",
       "      <td>0.058964</td>\n",
       "      <td>0.000000</td>\n",
       "      <td>0.000000</td>\n",
       "    </tr>\n",
       "  </tbody>\n",
       "</table>\n",
       "<p>3 rows × 759 columns</p>\n",
       "</div>"
      ],
      "text/plain": [
       "   af danske     af de    af dem    af den  af koreansk  af skræmte  \\\n",
       "0   0.000000  0.042007  0.042007  0.084014     0.000000    0.000000   \n",
       "1   0.166289  0.000000  0.000000  0.000000     0.000000    0.000000   \n",
       "2   0.000000  0.000000  0.000000  0.000000     0.058964    0.058964   \n",
       "\n",
       "   af sygeplejersker  af vores  affyre mange  affyret omkring  ...  \\\n",
       "0           0.042007  0.042007      0.000000         0.000000  ...   \n",
       "1           0.000000  0.000000      0.000000         0.000000  ...   \n",
       "2           0.000000  0.000000      0.058964         0.058964  ...   \n",
       "\n",
       "   what waste  åbnede ild     år er    år han    år har  år krise  \\\n",
       "0    0.042007    0.000000  0.042007  0.000000  0.042007  0.000000   \n",
       "1    0.000000    0.000000  0.000000  0.000000  0.000000  0.083144   \n",
       "2    0.000000    0.058964  0.000000  0.058964  0.000000  0.000000   \n",
       "\n",
       "   øjenvidne fortæller  øjenvidne til  økonomiske politik  ønsker et  \n",
       "0             0.000000       0.000000            0.042007   0.042007  \n",
       "1             0.000000       0.000000            0.000000   0.000000  \n",
       "2             0.058964       0.058964            0.000000   0.000000  \n",
       "\n",
       "[3 rows x 759 columns]"
      ]
     },
     "execution_count": 53,
     "metadata": {},
     "output_type": "execute_result"
    }
   ],
   "source": [
    "tfidf(df)"
   ]
  },
  {
   "cell_type": "code",
   "execution_count": null,
   "id": "7f31e519",
   "metadata": {},
   "outputs": [],
   "source": []
  },
  {
   "cell_type": "code",
   "execution_count": null,
   "id": "d7b38e84",
   "metadata": {},
   "outputs": [],
   "source": []
  },
  {
   "cell_type": "code",
   "execution_count": null,
   "id": "89f21135",
   "metadata": {},
   "outputs": [],
   "source": []
  }
 ],
 "metadata": {
  "kernelspec": {
   "display_name": "Python 3",
   "language": "python",
   "name": "python3"
  },
  "language_info": {
   "codemirror_mode": {
    "name": "ipython",
    "version": 3
   },
   "file_extension": ".py",
   "mimetype": "text/x-python",
   "name": "python",
   "nbconvert_exporter": "python",
   "pygments_lexer": "ipython3",
   "version": "3.8.8"
  }
 },
 "nbformat": 4,
 "nbformat_minor": 5
}
